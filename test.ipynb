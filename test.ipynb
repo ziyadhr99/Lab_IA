{
 "metadata": {
  "language_info": {
   "codemirror_mode": {
    "name": "ipython",
    "version": 3
   },
   "file_extension": ".py",
   "mimetype": "text/x-python",
   "name": "python",
   "nbconvert_exporter": "python",
   "pygments_lexer": "ipython3",
   "version": "3.9.0-final"
  },
  "orig_nbformat": 2,
  "kernelspec": {
   "name": "python3",
   "display_name": "Python 3.9.0 64-bit",
   "metadata": {
    "interpreter": {
     "hash": "5b444563759645e795b5482cf2150aabe0ea74d7e9bb280712938a02f2a4b027"
    }
   }
  }
 },
 "nbformat": 4,
 "nbformat_minor": 2,
 "cells": [
  {
   "cell_type": "code",
   "execution_count": 131,
   "metadata": {},
   "outputs": [],
   "source": [
    "class Person:    \n",
    "    def __init__(self,name , age):\n",
    "        self.__name = name\n",
    "        self.__age = age   \n",
    "    def getName(self):\n",
    "        return self.__name\n",
    "    def getAge(self):\n",
    "        return self.__age\n",
    "    def __repr__(self):\n",
    "        return \"My name's ziyad\"\n",
    "    def __str__(self):\n",
    "        return \"I'm \"+str(self.__age)+\" years old \"\n",
    "    def present(self):\n",
    "        print(\"Hello, my name is \"+self.__name+\" ,I'm \"+str(self.__age)+\" years old\")\n",
    "    def isEmploye(self):\n",
    "        return False"
   ]
  },
  {
   "cell_type": "code",
   "execution_count": 137,
   "metadata": {},
   "outputs": [],
   "source": [
    "class Employe(Person):\n",
    "    def __init__(self,nom,age,post):\n",
    "        Person.__init__(self,nom,age)\n",
    "        self.__post = post\n",
    "    def isEmploye(self):\n",
    "        return True \n",
    "    def getPost(self):\n",
    "        return self.__post"
   ]
  },
  {
   "cell_type": "code",
   "execution_count": 140,
   "metadata": {},
   "outputs": [
    {
     "output_type": "execute_result",
     "data": {
      "text/plain": [
       "'industrial engineer'"
      ]
     },
     "metadata": {},
     "execution_count": 140
    }
   ],
   "source": [
    "emp1 = Employe(\"ziyad\",20,\"Data scientist\")\n",
    "emp2 = Employe(\"youssef\",24,\"industrial engineer\")\n",
    "emp2.getPost()"
   ]
  },
  {
   "cell_type": "code",
   "execution_count": null,
   "metadata": {},
   "outputs": [],
   "source": []
  }
 ]
}