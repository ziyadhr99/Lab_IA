{
 "cells": [
  {
   "cell_type": "markdown",
   "metadata": {},
   "source": [
    "# Travaux Pratiques Intelligence Artificielle: Lab1\n",
    "\n",
    "Python 4 Data Science: Introduction à NumPy et Pandas 🤖 🙌.\n",
    "\n",
    "## Objectifs du TP:\n",
    "\n",
    "> **Se familiariser avec les instructions NumPy**\n",
    "\n",
    "> **Se familiariser avec les commandes les plus utilisées pour l'exploration des données en utilisant la libraire Pandas**\n",
    "\n",
    "> **Analyser les données pour pouvoir répondre à la question: Qu'est ce qui fait un Hit?** Pour ce faire, nous allons analyser les pistes musicales dont les données sont extraites de Spotify API. \n",
    "\n",
    "\n",
    "\n",
    "<br> A la fin du TP vous devez **rendre ce notebook dans \"Assignment\" de Teams**. Le TP doit être travaillé en préférence en binôme.\n",
    "\n",
    "_Besoin d'aide? Laisser moi un Commentaire sur Teams_\n",
    "\n",
    "![green-divider](https://user-images.githubusercontent.com/7065401/52071924-c003ad80-2562-11e9-8297-1c6595f8a7ff.png)"
   ]
  },
  {
   "cell_type": "markdown",
   "metadata": {},
   "source": [
    "## Exercices Numpy\n",
    "\n",
    "### I. Warm-up Exercice\n",
    "\n",
    "Ce petit exercice a pour objectif de vous familiariser avec les matrices multi-dimensionnelles NumPy."
   ]
  },
  {
   "cell_type": "markdown",
   "metadata": {},
   "source": [
    "<img src=\"resources/array.png\" width=420>"
   ]
  },
  {
   "cell_type": "markdown",
   "metadata": {},
   "source": [
    "1. Créer la matrice dépictée dans la figure"
   ]
  },
  {
   "cell_type": "code",
   "execution_count": 1,
   "metadata": {},
   "outputs": [],
   "source": [
    "# import numpy\n"
   ]
  },
  {
   "cell_type": "code",
   "execution_count": 2,
   "metadata": {},
   "outputs": [],
   "source": [
    "# Créer la matrice\n"
   ]
  },
  {
   "cell_type": "code",
   "execution_count": 3,
   "metadata": {},
   "outputs": [],
   "source": [
    "# explorer la matrice \n"
   ]
  },
  {
   "cell_type": "markdown",
   "metadata": {},
   "source": [
    "2.  Ecrire les instructions pour sélectionner les éléments en rouge, bleu et jaune."
   ]
  },
  {
   "cell_type": "code",
   "execution_count": 4,
   "metadata": {},
   "outputs": [],
   "source": [
    "# selectionner les éléments jaunes\n"
   ]
  },
  {
   "cell_type": "code",
   "execution_count": 5,
   "metadata": {},
   "outputs": [],
   "source": [
    "# selectionner les éléments rouges\n"
   ]
  },
  {
   "cell_type": "code",
   "execution_count": 6,
   "metadata": {},
   "outputs": [],
   "source": [
    "# selectionner les éléments bleus\n"
   ]
  },
  {
   "cell_type": "markdown",
   "metadata": {},
   "source": [
    "<br>"
   ]
  },
  {
   "cell_type": "markdown",
   "metadata": {},
   "source": [
    "### II. Manipulation d'une image avec NumPy\n",
    "\n",
    "L'objectif de cet exercice est de démontrer l'intérêt de NumPy, particulièrement pour la manipulation des images. Une image peut être considérée comme une matrice et peut donc facilement subir les transformations NumPy. \n",
    "\n",
    "On voudrait, dans cet exercice, lire une image, puis essayer de la brouiller (la rendre floue). Pour cela, on va essayer d'affecter à chaque pixel la moyenne de ses pixels voisins. \n",
    "\n",
    "Il est possible bien évidemment de faire la chose en bouclant sur les éléments de la matrice (double boucle). Mais on s'intéresse à le faire d'une manière optimisée en utilisant NumPy.\n",
    "\n",
    "Essayons d'appliquer l'algorithme sur une petite matrice (il faut dire que ce n'est pas un algorithme state of the art, mais il fait l'affaire). Prenons une image de 4x4 pixels. L'idée est de la réduire en une image à 4 pixels comme c'est illustré dans la figure suivante:\n",
    "\n",
    "<img src=\"resources/flou1.png\">"
   ]
  },
  {
   "cell_type": "code",
   "execution_count": 7,
   "metadata": {},
   "outputs": [
    {
     "output_type": "error",
     "ename": "NameError",
     "evalue": "name 'np' is not defined",
     "traceback": [
      "\u001b[1;31m---------------------------------------------------------------------------\u001b[0m",
      "\u001b[1;31mNameError\u001b[0m                                 Traceback (most recent call last)",
      "\u001b[1;32m<ipython-input-7-3036cc2d8f27>\u001b[0m in \u001b[0;36m<module>\u001b[1;34m\u001b[0m\n\u001b[1;32m----> 1\u001b[1;33m \u001b[0mmatrice\u001b[0m \u001b[1;33m=\u001b[0m \u001b[0mnp\u001b[0m\u001b[1;33m.\u001b[0m\u001b[0marange\u001b[0m\u001b[1;33m(\u001b[0m\u001b[1;36m1\u001b[0m\u001b[1;33m,\u001b[0m\u001b[1;36m17\u001b[0m\u001b[1;33m)\u001b[0m\u001b[1;33m.\u001b[0m\u001b[0mreshape\u001b[0m\u001b[1;33m(\u001b[0m\u001b[1;33m(\u001b[0m\u001b[1;36m4\u001b[0m\u001b[1;33m,\u001b[0m\u001b[1;36m4\u001b[0m\u001b[1;33m)\u001b[0m\u001b[1;33m)\u001b[0m\u001b[1;33m\u001b[0m\u001b[1;33m\u001b[0m\u001b[0m\n\u001b[0m",
      "\u001b[1;31mNameError\u001b[0m: name 'np' is not defined"
     ]
    }
   ],
   "source": [
    "matrice = np.arange(1,17).reshape((4,4))"
   ]
  },
  {
   "cell_type": "code",
   "execution_count": null,
   "metadata": {},
   "outputs": [],
   "source": [
    "matrice"
   ]
  },
  {
   "cell_type": "code",
   "execution_count": null,
   "metadata": {},
   "outputs": [],
   "source": [
    "matrice.shape"
   ]
  },
  {
   "cell_type": "markdown",
   "metadata": {},
   "source": [
    "<br> Calculer la moyenne des pixels voisins de chaque pixel flaggé dans notre image source revient à calculer la moyenne des matrices suivantes: \n",
    "\n",
    "<img src=\"resources/flou2.png\">"
   ]
  },
  {
   "cell_type": "markdown",
   "metadata": {},
   "source": [
    "<br> Selectionner le centre de cette matrice (jaune). Utilier les indexes relatifs pour que votre code soit généralisable pour n'importe quelle taille de matrice."
   ]
  },
  {
   "cell_type": "code",
   "execution_count": null,
   "metadata": {},
   "outputs": [],
   "source": []
  },
  {
   "cell_type": "markdown",
   "metadata": {},
   "source": [
    "<br> Selectionner le haut de cette matrice (violet):"
   ]
  },
  {
   "cell_type": "code",
   "execution_count": null,
   "metadata": {},
   "outputs": [],
   "source": []
  },
  {
   "cell_type": "markdown",
   "metadata": {},
   "source": [
    "<br> Selectionner le bas de cette matrice (Rouge):"
   ]
  },
  {
   "cell_type": "code",
   "execution_count": null,
   "metadata": {},
   "outputs": [],
   "source": []
  },
  {
   "cell_type": "markdown",
   "metadata": {},
   "source": [
    "<br> Selectionner la partie gauche de cette matrice (bleu):"
   ]
  },
  {
   "cell_type": "code",
   "execution_count": null,
   "metadata": {},
   "outputs": [],
   "source": []
  },
  {
   "cell_type": "markdown",
   "metadata": {},
   "source": [
    "<br> Selectionner la partie droite de cette matrice (vert):"
   ]
  },
  {
   "cell_type": "code",
   "execution_count": null,
   "metadata": {},
   "outputs": [],
   "source": []
  },
  {
   "cell_type": "markdown",
   "metadata": {},
   "source": [
    "<br> Calculer la matrice des moyennes (element-wise):"
   ]
  },
  {
   "cell_type": "code",
   "execution_count": null,
   "metadata": {},
   "outputs": [],
   "source": []
  },
  {
   "cell_type": "markdown",
   "metadata": {},
   "source": [
    "<br> Cette matrice présente l'image brouillée de l'image source."
   ]
  },
  {
   "cell_type": "markdown",
   "metadata": {},
   "source": [
    "<br> Maintenant on va généraliser cela sur une image quelconque, en définissant une fonction:"
   ]
  },
  {
   "cell_type": "code",
   "execution_count": null,
   "metadata": {},
   "outputs": [],
   "source": [
    "def brouiller(image):\n",
    "    '''\n",
    "    Arg: Image source\n",
    "    Retourne l'image brouillée \n",
    "    '''\n",
    "    \n",
    "    \n",
    "    # Appliquer l'algorithme sur l'image\n",
    "    \n",
    "    return image_brouillee"
   ]
  },
  {
   "cell_type": "markdown",
   "metadata": {},
   "source": [
    "<br> Pour tester notre fonction, nous allons essayer de brouiller l'image \"Metro\". On utilisera Matplotlib pour ouvrir le fichier image."
   ]
  },
  {
   "cell_type": "code",
   "execution_count": null,
   "metadata": {},
   "outputs": [],
   "source": [
    "import matplotlib.pyplot as plt"
   ]
  },
  {
   "cell_type": "code",
   "execution_count": null,
   "metadata": {},
   "outputs": [],
   "source": [
    "image = plt.imread('resources/Metro.png')"
   ]
  },
  {
   "cell_type": "code",
   "execution_count": null,
   "metadata": {},
   "outputs": [],
   "source": [
    "image"
   ]
  },
  {
   "cell_type": "code",
   "execution_count": null,
   "metadata": {},
   "outputs": [],
   "source": [
    "type(image), image.dtype, image.shape"
   ]
  },
  {
   "cell_type": "code",
   "execution_count": null,
   "metadata": {},
   "outputs": [],
   "source": [
    "# Ouvrir l'image en gris\n",
    "\n",
    "plt.imshow(image)\n",
    "plt.gray()\n",
    "plt.axis('off')\n",
    "plt.show()"
   ]
  },
  {
   "cell_type": "code",
   "execution_count": null,
   "metadata": {},
   "outputs": [],
   "source": [
    "image_brouillee = brouiller(image)"
   ]
  },
  {
   "cell_type": "code",
   "execution_count": null,
   "metadata": {},
   "outputs": [],
   "source": [
    "# Afficher la nouvelle image\n",
    "plt.imshow(image_brouillee)\n",
    "plt.gray()\n",
    "plt.axis('off')\n",
    "plt.show()"
   ]
  },
  {
   "cell_type": "markdown",
   "metadata": {},
   "source": [
    "<br> Comme on n'a appliqué le filtre qu'une seule fois, les différences sont difficiles à discerner. Mais si vous affichez la différence entre les deux images, vous verrez quelques changements."
   ]
  },
  {
   "cell_type": "code",
   "execution_count": null,
   "metadata": {},
   "outputs": [],
   "source": [
    "plt.imshow(image - image)\n",
    "plt.axis('off')\n",
    "plt.show()"
   ]
  },
  {
   "cell_type": "code",
   "execution_count": null,
   "metadata": {},
   "outputs": [],
   "source": [
    "# Afficher la différence entre l'image source et l'image brouillée\n",
    "\n"
   ]
  },
  {
   "cell_type": "markdown",
   "metadata": {},
   "source": [
    "<br> Afin d'effectivement brouiller l'image, vous pouvez réappliquer le filtre une 50aine de fois: "
   ]
  },
  {
   "cell_type": "code",
   "execution_count": null,
   "metadata": {},
   "outputs": [],
   "source": [
    "# Boucler et appliquer le filtre, puis afficher l'image résultante\n",
    "\n"
   ]
  },
  {
   "cell_type": "markdown",
   "metadata": {},
   "source": [
    "<br>"
   ]
  },
  {
   "cell_type": "markdown",
   "metadata": {},
   "source": [
    "### Explorer d'autres possibilités: \n",
    "\n",
    "Vous pouvez explorer d'autres manipulations des images avec Numpy (incluant les données RGB): https://note.nkmk.me/en/python-numpy-image-processing/"
   ]
  },
  {
   "cell_type": "markdown",
   "metadata": {},
   "source": [
    " "
   ]
  },
  {
   "cell_type": "markdown",
   "metadata": {},
   "source": [
    "\n",
    "\n",
    "\n",
    "\n",
    "\n"
   ]
  },
  {
   "cell_type": "markdown",
   "metadata": {},
   "source": [
    "![green-divider](https://user-images.githubusercontent.com/7065401/52071924-c003ad80-2562-11e9-8297-1c6595f8a7ff.png)\n"
   ]
  },
  {
   "cell_type": "markdown",
   "metadata": {},
   "source": [
    "## Introduction à Pandas"
   ]
  },
  {
   "cell_type": "markdown",
   "metadata": {},
   "source": [
    "## A. Importer et examiner les données\n",
    "\n",
    "Pandas est très fort dans la lecture et le traitement des données structurées. Pour notre analyse, nous aurons besoins de lire les fichiers csv pour pouvoir les explorer. Nos données sont issues de Spotify et englobent plus de 160.000 pistes musicales extraites à partir de Spotify Web API. Ces informations sont également groupées par artiste, année, et genre musical. \n",
    "\n",
    "Le dossier music_dataset contient donc 5 fichiers csv:\n",
    "- data_by_artist\n",
    "- data_by_genres\n",
    "- data_by_year\n",
    "- data_w_genres\n",
    "- data\n",
    "\n",
    "Avant d'attaquer les données dans plus de détails, il est très judicieux de commencer par une exploration rapide. Ceci vous permettra de répondre aux questions: A quelles données ai-je affaire? Quelle est la qualité de ces données là?.... \n",
    "\n",
    "Les données sont extraites en utilisant l'API de Spotify. Pour plus de détails sur les métadata, vous pouvez explorer: https://developer.spotify.com/documentation/web-api/reference/"
   ]
  },
  {
   "cell_type": "code",
   "execution_count": null,
   "metadata": {},
   "outputs": [],
   "source": []
  },
  {
   "cell_type": "code",
   "execution_count": null,
   "metadata": {},
   "outputs": [],
   "source": []
  },
  {
   "cell_type": "markdown",
   "metadata": {},
   "source": [
    "#### 1. Importer les données"
   ]
  },
  {
   "cell_type": "markdown",
   "metadata": {},
   "source": [
    "Commencer par importer pandas en respectant la convention d'import."
   ]
  },
  {
   "cell_type": "code",
   "execution_count": null,
   "metadata": {},
   "outputs": [],
   "source": []
  },
  {
   "cell_type": "markdown",
   "metadata": {},
   "source": [
    "<br> Lire le fichier csv 'data.csv' relatif aux données des pistes dans une dataframe."
   ]
  },
  {
   "cell_type": "code",
   "execution_count": null,
   "metadata": {},
   "outputs": [],
   "source": []
  },
  {
   "cell_type": "markdown",
   "metadata": {},
   "source": [
    "<br> Afficher les premières lignes de la dataframe créée."
   ]
  },
  {
   "cell_type": "code",
   "execution_count": null,
   "metadata": {},
   "outputs": [],
   "source": []
  },
  {
   "cell_type": "markdown",
   "metadata": {},
   "source": [
    "<br> Afficher la taille et la forme de votre dataframe. "
   ]
  },
  {
   "cell_type": "code",
   "execution_count": null,
   "metadata": {},
   "outputs": [],
   "source": []
  },
  {
   "cell_type": "code",
   "execution_count": null,
   "metadata": {},
   "outputs": [],
   "source": []
  },
  {
   "cell_type": "markdown",
   "metadata": {},
   "source": [
    "<br></br>\n",
    "#### 2. Examiner vos données:"
   ]
  },
  {
   "cell_type": "markdown",
   "metadata": {},
   "source": [
    "<br> Dresser une liste des colonnes avec une description de leurs types, valeurs possibles (intervales si numérique)... Penser à utiliser les différentes fonctions Pandas disponibles. "
   ]
  },
  {
   "cell_type": "code",
   "execution_count": null,
   "metadata": {},
   "outputs": [],
   "source": []
  },
  {
   "cell_type": "code",
   "execution_count": null,
   "metadata": {},
   "outputs": [],
   "source": []
  },
  {
   "cell_type": "code",
   "execution_count": null,
   "metadata": {},
   "outputs": [],
   "source": []
  },
  {
   "cell_type": "code",
   "execution_count": null,
   "metadata": {},
   "outputs": [],
   "source": []
  },
  {
   "cell_type": "markdown",
   "metadata": {},
   "source": [
    "<br></br>\n",
    "#### 2. Modifier vos données:"
   ]
  },
  {
   "cell_type": "markdown",
   "metadata": {},
   "source": [
    "<br> Changer le type de la colonne popularité en un int."
   ]
  },
  {
   "cell_type": "code",
   "execution_count": null,
   "metadata": {},
   "outputs": [],
   "source": []
  },
  {
   "cell_type": "markdown",
   "metadata": {},
   "source": [
    "<br> Spécifier que l'index de la Dataframe est le nom de la piste. Puis revenez à l'index d'origine."
   ]
  },
  {
   "cell_type": "code",
   "execution_count": null,
   "metadata": {},
   "outputs": [],
   "source": []
  },
  {
   "cell_type": "code",
   "execution_count": null,
   "metadata": {},
   "outputs": [],
   "source": []
  },
  {
   "cell_type": "markdown",
   "metadata": {},
   "source": [
    "<br> Supprimer la colonne id faisant référence aux ID des pistes dans Spotify API. Vérifier que la colonne a été supprimée en listant les colonnes."
   ]
  },
  {
   "cell_type": "code",
   "execution_count": null,
   "metadata": {},
   "outputs": [],
   "source": []
  },
  {
   "cell_type": "code",
   "execution_count": null,
   "metadata": {},
   "outputs": [],
   "source": []
  },
  {
   "cell_type": "markdown",
   "metadata": {},
   "source": [
    "<br> Supprimer la première ligne de notre DataFrame. "
   ]
  },
  {
   "cell_type": "code",
   "execution_count": null,
   "metadata": {},
   "outputs": [],
   "source": []
  },
  {
   "cell_type": "markdown",
   "metadata": {},
   "source": [
    "<br></br>\n",
    "Maintenant que nous avons une idée sur les données de notre Dataset on peut **penser à des questions à poser. Lister un maximum de questions.** On peut revenir enrichir cette liste au fur et à mesure qu'on explore nos données.\n",
    "- Quelle est la popularité des pistes selon les années?\n",
    "- Quels sont les artistes dont les chansons sont unilatéralement bien reçues?\n",
    "- Quels sont les genres les plus populaires?\n",
    "- Y-a-t-il des correlations entre les caractéristiques d'une piste et sa popularité?\n",
    "- ..."
   ]
  },
  {
   "cell_type": "markdown",
   "metadata": {},
   "source": [
    "<br></br>\n",
    "## B. Traiter vos données"
   ]
  },
  {
   "cell_type": "markdown",
   "metadata": {},
   "source": [
    "Pandas fournit une panoplie de fonctions permettant de selectionner, filtrer, ordonner... vos données. On va les utiliser pour mieux comprendre nos données."
   ]
  },
  {
   "cell_type": "markdown",
   "metadata": {},
   "source": [
    "### 1. Selectionner les données:"
   ]
  },
  {
   "cell_type": "markdown",
   "metadata": {},
   "source": [
    "1. Afficher les pistes publiée l'année de votre naissance."
   ]
  },
  {
   "cell_type": "code",
   "execution_count": null,
   "metadata": {},
   "outputs": [],
   "source": []
  },
  {
   "cell_type": "markdown",
   "metadata": {},
   "source": [
    "2. Stocker le résultat dans une nouvelle Dataframe. Combien de pistes y'en a-t-il?"
   ]
  },
  {
   "cell_type": "code",
   "execution_count": null,
   "metadata": {},
   "outputs": [],
   "source": []
  },
  {
   "cell_type": "code",
   "execution_count": null,
   "metadata": {},
   "outputs": [],
   "source": []
  },
  {
   "cell_type": "markdown",
   "metadata": {},
   "source": [
    "3. Afficher la colonne 'year' dans la nouvelle Dataframe et vérifier que seule l'année de votre naissance est incluse."
   ]
  },
  {
   "cell_type": "code",
   "execution_count": null,
   "metadata": {},
   "outputs": [],
   "source": []
  },
  {
   "cell_type": "code",
   "execution_count": null,
   "metadata": {},
   "outputs": [],
   "source": []
  },
  {
   "cell_type": "markdown",
   "metadata": {},
   "source": [
    "4. N'afficher que les informations relatives à l'artiste, le nom de la piste, et sa popularité."
   ]
  },
  {
   "cell_type": "code",
   "execution_count": null,
   "metadata": {},
   "outputs": [],
   "source": []
  },
  {
   "cell_type": "code",
   "execution_count": null,
   "metadata": {},
   "outputs": [],
   "source": []
  },
  {
   "cell_type": "markdown",
   "metadata": {},
   "source": [
    "<br>"
   ]
  },
  {
   "cell_type": "markdown",
   "metadata": {},
   "source": [
    "### 2. Filter les données"
   ]
  },
  {
   "cell_type": "markdown",
   "metadata": {},
   "source": [
    "Revenir à la Dataframe d'origine.\n",
    "\n",
    "1. N'afficher que les chansons les plus populaires. Vous pouvez choisir un seuil de popularité en fonction de vos données. Voir rapidement la distribution de la popularité en utilisant la fonction hist() de Pandas."
   ]
  },
  {
   "cell_type": "code",
   "execution_count": null,
   "metadata": {},
   "outputs": [],
   "source": []
  },
  {
   "cell_type": "code",
   "execution_count": null,
   "metadata": {},
   "outputs": [],
   "source": []
  },
  {
   "cell_type": "code",
   "execution_count": null,
   "metadata": {},
   "outputs": [],
   "source": []
  },
  {
   "cell_type": "markdown",
   "metadata": {},
   "source": [
    "2. Afficher les chansons dont l'energie est proche de 1 et la clé est 6.\n"
   ]
  },
  {
   "cell_type": "code",
   "execution_count": null,
   "metadata": {},
   "outputs": [],
   "source": []
  },
  {
   "cell_type": "markdown",
   "metadata": {},
   "source": [
    "3. N'affichez que les pistes qui n'ont pas de paroles explicites et qui ont une grande popularité (dont le seuil est à vous de définir)."
   ]
  },
  {
   "cell_type": "code",
   "execution_count": null,
   "metadata": {},
   "outputs": [],
   "source": []
  },
  {
   "cell_type": "markdown",
   "metadata": {},
   "source": [
    "4. Afficher les pistes dont la popularité est >95 ou la date de publication est antérieure au 01/Juin de cette année. "
   ]
  },
  {
   "cell_type": "code",
   "execution_count": null,
   "metadata": {},
   "outputs": [],
   "source": []
  },
  {
   "cell_type": "markdown",
   "metadata": {},
   "source": [
    "5. Afficher les pistes de votre artiste préféré. Vous pouvez utiliser les fonction str. pour chercher les lignes qui contiennent un bout du nom, mettre le texte en miniscule.. si vous n'êtes pas sûr(e)s comment le nom est stocké dans la dataset.\n",
    "\n",
    "N.B. Il est possible d'avoir recours à du fuzzy matching en utilisant regex ou des libraries spécialisée."
   ]
  },
  {
   "cell_type": "code",
   "execution_count": null,
   "metadata": {},
   "outputs": [],
   "source": []
  },
  {
   "cell_type": "markdown",
   "metadata": {},
   "source": [
    "6. Afficher les pistes dont la clé appartient à la liste: [0, 3, 5, 8, 10]"
   ]
  },
  {
   "cell_type": "code",
   "execution_count": null,
   "metadata": {},
   "outputs": [],
   "source": []
  },
  {
   "cell_type": "markdown",
   "metadata": {},
   "source": [
    "7. Afficher les pistes dont la clé n'appartient pas à cette liste"
   ]
  },
  {
   "cell_type": "code",
   "execution_count": null,
   "metadata": {},
   "outputs": [],
   "source": []
  },
  {
   "cell_type": "markdown",
   "metadata": {},
   "source": [
    "8. Filtrer par type de colonne et n'inclure que les colonnes numériques."
   ]
  },
  {
   "cell_type": "code",
   "execution_count": null,
   "metadata": {},
   "outputs": [],
   "source": []
  },
  {
   "cell_type": "markdown",
   "metadata": {},
   "source": [
    "9. Créer votre propre question et le filtre y correspondant"
   ]
  },
  {
   "cell_type": "code",
   "execution_count": null,
   "metadata": {},
   "outputs": [],
   "source": []
  },
  {
   "cell_type": "markdown",
   "metadata": {},
   "source": [
    "<br>"
   ]
  },
  {
   "cell_type": "markdown",
   "metadata": {},
   "source": [
    "### 3. Ordonner les données"
   ]
  },
  {
   "cell_type": "markdown",
   "metadata": {},
   "source": [
    "1. Afficher les pistes selon leur année de publication croissante"
   ]
  },
  {
   "cell_type": "code",
   "execution_count": null,
   "metadata": {},
   "outputs": [],
   "source": []
  },
  {
   "cell_type": "markdown",
   "metadata": {},
   "source": [
    "2. Afficher les 10 pistes les plus récentes sur l'ensemble des pistes"
   ]
  },
  {
   "cell_type": "code",
   "execution_count": null,
   "metadata": {},
   "outputs": [],
   "source": []
  },
  {
   "cell_type": "markdown",
   "metadata": {},
   "source": [
    "3. Afficher la piste la plus populaire de votre artiste préféré?  "
   ]
  },
  {
   "cell_type": "code",
   "execution_count": null,
   "metadata": {},
   "outputs": [],
   "source": []
  },
  {
   "cell_type": "markdown",
   "metadata": {},
   "source": [
    "4. Est-ce que les pistes les plus populaires sont toujours les plus récentes ? "
   ]
  },
  {
   "cell_type": "code",
   "execution_count": null,
   "metadata": {},
   "outputs": [],
   "source": []
  },
  {
   "cell_type": "markdown",
   "metadata": {},
   "source": [
    "<br>"
   ]
  },
  {
   "cell_type": "markdown",
   "metadata": {},
   "source": [
    "### 4. Traiter les données manquantes et les données dupliquées"
   ]
  },
  {
   "cell_type": "markdown",
   "metadata": {},
   "source": [
    "L'un des problèmes les plus récurrents dans les projets data science est la qualité des données à commencer par leur complétude. Il faut toujours se poser la question: **Est-ce qu'il y a des données manquantes? et si c'est le cas comment les gérer?**\n",
    "\n",
    "Lire le fichier data_withmissingdata.csv dans une Dataframe."
   ]
  },
  {
   "cell_type": "code",
   "execution_count": null,
   "metadata": {},
   "outputs": [],
   "source": []
  },
  {
   "cell_type": "markdown",
   "metadata": {},
   "source": [
    "<br> Il faut d'abord identifier les données manquantes. Quelle(s) colonne(s) est/sont concernées?  "
   ]
  },
  {
   "cell_type": "code",
   "execution_count": null,
   "metadata": {},
   "outputs": [],
   "source": []
  },
  {
   "cell_type": "markdown",
   "metadata": {},
   "source": [
    "<br> Selectionner les lignes où les données sont manquantes. De combien de lignes s'agit-il?"
   ]
  },
  {
   "cell_type": "code",
   "execution_count": null,
   "metadata": {},
   "outputs": [],
   "source": []
  },
  {
   "cell_type": "code",
   "execution_count": null,
   "metadata": {},
   "outputs": [],
   "source": []
  },
  {
   "cell_type": "markdown",
   "metadata": {},
   "source": [
    "<br> Il est très utile de stocker les indices de ces lignes dans une liste qu'on pourra utiliser pour les selections et les vérifications. Afficher la liste des indexes de ces lignes."
   ]
  },
  {
   "cell_type": "code",
   "execution_count": null,
   "metadata": {},
   "outputs": [],
   "source": []
  },
  {
   "cell_type": "markdown",
   "metadata": {},
   "source": [
    "<br> On voudrait remplir les données manquantes dans year. Pandas offre plusieurs possiblités de méthodes standards à appliquer pour remplir les données manquantes. Dans notre cas, on voudrait remplir par l'année dans release_date. \n",
    "\n",
    "Il est possible d'extraire l'année d'une date, mais il faut d'abord convertir la colonne release_date en type date, puis remplir les valeurs manquantes de year par les valeurs year de release_date."
   ]
  },
  {
   "cell_type": "code",
   "execution_count": null,
   "metadata": {},
   "outputs": [],
   "source": []
  },
  {
   "cell_type": "code",
   "execution_count": null,
   "metadata": {},
   "outputs": [],
   "source": []
  },
  {
   "cell_type": "code",
   "execution_count": null,
   "metadata": {},
   "outputs": [],
   "source": []
  },
  {
   "cell_type": "markdown",
   "metadata": {},
   "source": [
    "<br> Vérifier à l'aide de la liste des indexes créée que les valeurs year ont été bel est bien remplies."
   ]
  },
  {
   "cell_type": "code",
   "execution_count": null,
   "metadata": {},
   "outputs": [],
   "source": []
  },
  {
   "cell_type": "markdown",
   "metadata": {},
   "source": [
    "<br> Il est notamment possible de supprimer les lignes dont une des valeurs est nulle. Vous pouvez relire les données, supprimer les lignes et réanalyser. "
   ]
  },
  {
   "cell_type": "code",
   "execution_count": null,
   "metadata": {},
   "outputs": [],
   "source": []
  },
  {
   "cell_type": "code",
   "execution_count": null,
   "metadata": {},
   "outputs": [],
   "source": []
  },
  {
   "cell_type": "markdown",
   "metadata": {},
   "source": [
    "<br>"
   ]
  },
  {
   "cell_type": "markdown",
   "metadata": {},
   "source": [
    "#### 2. Traiter les données dupliquées"
   ]
  },
  {
   "cell_type": "markdown",
   "metadata": {},
   "source": [
    "Il faut toujours s'assurer qu'on n'a pas de lignes dupliquées dans notre dataset. Pandas offre une panoplies de méthodes pour traiter ces cas. Selectionner les lignes dupliquées dans votre nouveau dataframe. "
   ]
  },
  {
   "cell_type": "code",
   "execution_count": null,
   "metadata": {},
   "outputs": [],
   "source": []
  },
  {
   "cell_type": "markdown",
   "metadata": {},
   "source": [
    "<br> Supprimer les lignes dupliquées. S'Assurer de ne pas totalement perdre la donnée."
   ]
  },
  {
   "cell_type": "code",
   "execution_count": null,
   "metadata": {},
   "outputs": [],
   "source": []
  },
  {
   "cell_type": "markdown",
   "metadata": {},
   "source": [
    "<br></br>\n",
    "## C. Analyser vos données"
   ]
  },
  {
   "cell_type": "markdown",
   "metadata": {},
   "source": [
    "### 1. Corrélations"
   ]
  },
  {
   "cell_type": "markdown",
   "metadata": {},
   "source": [
    "L'étude des corrélations entre les différentes variables est primordiales pour la compréhension des données mais aussi la modélisation par la suite. Pandas offre une fonction permettant le calcul des corrélations entre les colonnes d'une dataframe. Quelles sont les corrélations dans les données?"
   ]
  },
  {
   "cell_type": "code",
   "execution_count": null,
   "metadata": {},
   "outputs": [],
   "source": []
  },
  {
   "cell_type": "markdown",
   "metadata": {},
   "source": [
    "<br> On a tendance à afficher les corrélations sous forme de heatmap. La manière la plus simple pour créer une heatmap est en utilisant Seaborn, une librairie de visualisation de données. Aller sur https://seaborn.pydata.org/generated/seaborn.heatmap.html et adapter le code pour afficher une heatmap de vos données."
   ]
  },
  {
   "cell_type": "code",
   "execution_count": null,
   "metadata": {},
   "outputs": [],
   "source": []
  },
  {
   "cell_type": "code",
   "execution_count": null,
   "metadata": {},
   "outputs": [],
   "source": []
  },
  {
   "cell_type": "code",
   "execution_count": null,
   "metadata": {},
   "outputs": [],
   "source": []
  },
  {
   "cell_type": "markdown",
   "metadata": {},
   "source": [
    "<br> Qu'est-ce que vous pouvez conclure à partir de ces corrélation? "
   ]
  },
  {
   "cell_type": "markdown",
   "metadata": {},
   "source": []
  },
  {
   "cell_type": "markdown",
   "metadata": {},
   "source": [
    "<br>"
   ]
  },
  {
   "cell_type": "markdown",
   "metadata": {},
   "source": [
    "### 2. Lister vos questions et les réponses à ces questions:"
   ]
  },
  {
   "cell_type": "code",
   "execution_count": null,
   "metadata": {},
   "outputs": [],
   "source": []
  },
  {
   "cell_type": "code",
   "execution_count": null,
   "metadata": {},
   "outputs": [],
   "source": []
  },
  {
   "cell_type": "code",
   "execution_count": null,
   "metadata": {},
   "outputs": [],
   "source": []
  },
  {
   "cell_type": "code",
   "execution_count": null,
   "metadata": {},
   "outputs": [],
   "source": []
  },
  {
   "cell_type": "code",
   "execution_count": null,
   "metadata": {},
   "outputs": [],
   "source": []
  },
  {
   "cell_type": "code",
   "execution_count": null,
   "metadata": {},
   "outputs": [],
   "source": []
  },
  {
   "cell_type": "code",
   "execution_count": null,
   "metadata": {},
   "outputs": [],
   "source": []
  },
  {
   "cell_type": "code",
   "execution_count": null,
   "metadata": {},
   "outputs": [],
   "source": []
  },
  {
   "cell_type": "code",
   "execution_count": null,
   "metadata": {},
   "outputs": [],
   "source": []
  },
  {
   "cell_type": "code",
   "execution_count": null,
   "metadata": {},
   "outputs": [],
   "source": []
  },
  {
   "cell_type": "code",
   "execution_count": null,
   "metadata": {},
   "outputs": [],
   "source": []
  },
  {
   "cell_type": "code",
   "execution_count": null,
   "metadata": {},
   "outputs": [],
   "source": []
  },
  {
   "cell_type": "code",
   "execution_count": null,
   "metadata": {},
   "outputs": [],
   "source": []
  },
  {
   "cell_type": "code",
   "execution_count": null,
   "metadata": {},
   "outputs": [],
   "source": []
  },
  {
   "cell_type": "code",
   "execution_count": null,
   "metadata": {},
   "outputs": [],
   "source": []
  },
  {
   "cell_type": "code",
   "execution_count": null,
   "metadata": {},
   "outputs": [],
   "source": []
  },
  {
   "cell_type": "code",
   "execution_count": null,
   "metadata": {},
   "outputs": [],
   "source": []
  },
  {
   "cell_type": "code",
   "execution_count": null,
   "metadata": {},
   "outputs": [],
   "source": []
  },
  {
   "cell_type": "markdown",
   "metadata": {},
   "source": [
    "<br></br>\n",
    "## D. Analyse avancée"
   ]
  },
  {
   "cell_type": "markdown",
   "metadata": {},
   "source": [
    "Il est possible d'opérer des modifications directement sur une colonne de votre dataframe. Par exemple, on pourrait assigner à la colonne artists le résultat des manipulations str remplaçant les caractères '[' et ']' par ''."
   ]
  },
  {
   "cell_type": "code",
   "execution_count": 13,
   "metadata": {},
   "outputs": [],
   "source": [
    "import pandas as pd \n",
    "df = pd.read_csv(\"data.csv\",sep=\",\")\n",
    "\n",
    "df['artists'] = df['artists'].str.replace('[',' ')\n",
    "df['artists'] = df['artists'].str.replace(']',' ')\n",
    "\n"
   ]
  },
  {
   "cell_type": "markdown",
   "metadata": {},
   "source": [
    "La fonction **apply** est d'une grande utilité lors de la manipulation des dataframes. Elle permet d'appliquer une fonction (de simple à complexe) selon un axe de la dataframe et évite de boucler manuellement sur les lignes ou les colonnes.  \n",
    "\n",
    "Supposons qu'on veut analyser les duos entre les artistes. Pour ce faire, il faudra d'abord filtrer pour ne garder que les collaborations qui ont fait l'objet de deux artistes. Comme vous l'avez déjà deviné, la colonne artistes, telle qu'elle se présente maintenant, n'est pas très exploitable. De ce fait, nous aurons besoin de la modifier pour ressortir les duos.\n",
    "\n",
    "Il est possible d'avoir un seul à plusieurs artistes. Nous allons commencer par zoomer sur les collaborations (>= 2 artistes). Pour ce faire, nous allons __1. définir une fonction nombre_artistes__ qui retourne le nombre des artistes qui collaborent sur une piste. Et puis __2. créer une nouvelle colonne__ et lui assigner le résultat de apply de cette fonction sur le dataframe. Penser à diviser le string artists en une liste. "
   ]
  },
  {
   "cell_type": "code",
   "execution_count": 14,
   "metadata": {
    "tags": []
   },
   "outputs": [],
   "source": [
    "import numpy as np\n",
    "\n",
    "def nombre_artistes(x):\n",
    "    new = x.split(', ')\n",
    "    return len(new)"
   ]
  },
  {
   "cell_type": "code",
   "execution_count": 15,
   "metadata": {},
   "outputs": [
    {
     "output_type": "execute_result",
     "data": {
      "text/plain": [
       "        acousticness                                   artists  danceability  \\\n",
       "0             0.9950                        'Carl Woitschach'          0.708   \n",
       "1             0.9940   'Robert Schumann', 'Vladimir Horowitz'          0.379   \n",
       "2             0.6040                    'Seweryn Goszczyński'          0.749   \n",
       "3             0.9950                       'Francisco Canaro'          0.781   \n",
       "4             0.9900   'Frédéric Chopin', 'Vladimir Horowitz'          0.210   \n",
       "...              ...                                       ...           ...   \n",
       "169904        0.1730                     'DripReport', 'Tyga'          0.875   \n",
       "169905        0.0167         'Leon Bridges', 'Terrace Martin'          0.719   \n",
       "169906        0.5380                      'Kygo', 'Oh Wonder'          0.514   \n",
       "169907        0.0714              'Cash Cash', 'Andy Grammer'          0.646   \n",
       "169908        0.1090                         'Ingrid Andress'          0.512   \n",
       "\n",
       "        duration_ms  energy  explicit                      id  \\\n",
       "0            158648  0.1950         0  6KbQ3uYMLKb5jDxLF7wYDD   \n",
       "1            282133  0.0135         0  6KuQTIu1KoTTkLXKrwlLPV   \n",
       "2            104300  0.2200         0  6L63VW0PibdM1HDSBoqnoM   \n",
       "3            180760  0.1300         0  6M94FkXd15sOAOQYRnWPN8   \n",
       "4            687733  0.2040         0  6N6tiFZ9vLTSOIxkj8qKrd   \n",
       "...             ...     ...       ...                     ...   \n",
       "169904       163800  0.4430         1  4KppkflX7I3vJQk7urOJaS   \n",
       "169905       167468  0.3850         0  1ehhGlTvjtHo2e4xJFB0SZ   \n",
       "169906       180700  0.5390         0  52eycxprLhK3lPcRLbQiVk   \n",
       "169907       167308  0.7610         0  3wYOGJYD31sLRmBgCvWxa4   \n",
       "169908       214787  0.4280         0  60RFlt48hm0l4Fu0JoccOl   \n",
       "\n",
       "        instrumentalness  key  liveness  loudness  mode  \\\n",
       "0               0.563000   10    0.1510   -12.428     1   \n",
       "1               0.901000    8    0.0763   -28.454     1   \n",
       "2               0.000000    5    0.1190   -19.924     0   \n",
       "3               0.887000    1    0.1110   -14.734     0   \n",
       "4               0.908000   11    0.0980   -16.829     1   \n",
       "...                  ...  ...       ...       ...   ...   \n",
       "169904          0.000032    1    0.0891    -7.461     1   \n",
       "169905          0.031300    8    0.1110   -10.907     1   \n",
       "169906          0.002330    7    0.1080    -9.332     1   \n",
       "169907          0.000000    1    0.2220    -2.557     1   \n",
       "169908          0.000000    0    0.1050    -7.387     1   \n",
       "\n",
       "                                                 name  popularity  \\\n",
       "0                         Singende Bataillone 1. Teil           0   \n",
       "1            Fantasiestücke, Op. 111: Più tosto lento           0   \n",
       "2                      Chapter 1.18 - Zamek kaniowski           0   \n",
       "3       Bebamos Juntos - Instrumental (Remasterizado)           0   \n",
       "4         Polonaise-Fantaisie in A-Flat Major, Op. 61           1   \n",
       "...                                               ...         ...   \n",
       "169904                  Skechers (feat. Tyga) - Remix          75   \n",
       "169905                 Sweeter (feat. Terrace Martin)          64   \n",
       "169906                               How Would I Know          70   \n",
       "169907                                    I Found You          70   \n",
       "169908                          More Hearts Than Mine          65   \n",
       "\n",
       "       release_date  speechiness    tempo  valence  year  nombre_artistes  \n",
       "0              1928       0.0506  118.469   0.7790  1928                1  \n",
       "1              1928       0.0462   83.972   0.0767  1928                2  \n",
       "2              1928       0.9290  107.177   0.8800  1928                1  \n",
       "3        1928-09-25       0.0926  108.003   0.7200  1928                1  \n",
       "4              1928       0.0424   62.149   0.0693  1928                2  \n",
       "...             ...          ...      ...      ...   ...              ...  \n",
       "169904   2020-05-15       0.1430  100.012   0.3060  2020                2  \n",
       "169905   2020-06-08       0.0403  128.000   0.2700  2020                2  \n",
       "169906   2020-05-29       0.1050  123.700   0.1530  2020                2  \n",
       "169907   2020-02-28       0.0385  129.916   0.4720  2020                2  \n",
       "169908   2020-03-27       0.0271   80.588   0.3660  2020                1  \n",
       "\n",
       "[169909 rows x 20 columns]"
      ],
      "text/html": "<div>\n<style scoped>\n    .dataframe tbody tr th:only-of-type {\n        vertical-align: middle;\n    }\n\n    .dataframe tbody tr th {\n        vertical-align: top;\n    }\n\n    .dataframe thead th {\n        text-align: right;\n    }\n</style>\n<table border=\"1\" class=\"dataframe\">\n  <thead>\n    <tr style=\"text-align: right;\">\n      <th></th>\n      <th>acousticness</th>\n      <th>artists</th>\n      <th>danceability</th>\n      <th>duration_ms</th>\n      <th>energy</th>\n      <th>explicit</th>\n      <th>id</th>\n      <th>instrumentalness</th>\n      <th>key</th>\n      <th>liveness</th>\n      <th>loudness</th>\n      <th>mode</th>\n      <th>name</th>\n      <th>popularity</th>\n      <th>release_date</th>\n      <th>speechiness</th>\n      <th>tempo</th>\n      <th>valence</th>\n      <th>year</th>\n      <th>nombre_artistes</th>\n    </tr>\n  </thead>\n  <tbody>\n    <tr>\n      <th>0</th>\n      <td>0.9950</td>\n      <td>'Carl Woitschach'</td>\n      <td>0.708</td>\n      <td>158648</td>\n      <td>0.1950</td>\n      <td>0</td>\n      <td>6KbQ3uYMLKb5jDxLF7wYDD</td>\n      <td>0.563000</td>\n      <td>10</td>\n      <td>0.1510</td>\n      <td>-12.428</td>\n      <td>1</td>\n      <td>Singende Bataillone 1. Teil</td>\n      <td>0</td>\n      <td>1928</td>\n      <td>0.0506</td>\n      <td>118.469</td>\n      <td>0.7790</td>\n      <td>1928</td>\n      <td>1</td>\n    </tr>\n    <tr>\n      <th>1</th>\n      <td>0.9940</td>\n      <td>'Robert Schumann', 'Vladimir Horowitz'</td>\n      <td>0.379</td>\n      <td>282133</td>\n      <td>0.0135</td>\n      <td>0</td>\n      <td>6KuQTIu1KoTTkLXKrwlLPV</td>\n      <td>0.901000</td>\n      <td>8</td>\n      <td>0.0763</td>\n      <td>-28.454</td>\n      <td>1</td>\n      <td>Fantasiestücke, Op. 111: Più tosto lento</td>\n      <td>0</td>\n      <td>1928</td>\n      <td>0.0462</td>\n      <td>83.972</td>\n      <td>0.0767</td>\n      <td>1928</td>\n      <td>2</td>\n    </tr>\n    <tr>\n      <th>2</th>\n      <td>0.6040</td>\n      <td>'Seweryn Goszczyński'</td>\n      <td>0.749</td>\n      <td>104300</td>\n      <td>0.2200</td>\n      <td>0</td>\n      <td>6L63VW0PibdM1HDSBoqnoM</td>\n      <td>0.000000</td>\n      <td>5</td>\n      <td>0.1190</td>\n      <td>-19.924</td>\n      <td>0</td>\n      <td>Chapter 1.18 - Zamek kaniowski</td>\n      <td>0</td>\n      <td>1928</td>\n      <td>0.9290</td>\n      <td>107.177</td>\n      <td>0.8800</td>\n      <td>1928</td>\n      <td>1</td>\n    </tr>\n    <tr>\n      <th>3</th>\n      <td>0.9950</td>\n      <td>'Francisco Canaro'</td>\n      <td>0.781</td>\n      <td>180760</td>\n      <td>0.1300</td>\n      <td>0</td>\n      <td>6M94FkXd15sOAOQYRnWPN8</td>\n      <td>0.887000</td>\n      <td>1</td>\n      <td>0.1110</td>\n      <td>-14.734</td>\n      <td>0</td>\n      <td>Bebamos Juntos - Instrumental (Remasterizado)</td>\n      <td>0</td>\n      <td>1928-09-25</td>\n      <td>0.0926</td>\n      <td>108.003</td>\n      <td>0.7200</td>\n      <td>1928</td>\n      <td>1</td>\n    </tr>\n    <tr>\n      <th>4</th>\n      <td>0.9900</td>\n      <td>'Frédéric Chopin', 'Vladimir Horowitz'</td>\n      <td>0.210</td>\n      <td>687733</td>\n      <td>0.2040</td>\n      <td>0</td>\n      <td>6N6tiFZ9vLTSOIxkj8qKrd</td>\n      <td>0.908000</td>\n      <td>11</td>\n      <td>0.0980</td>\n      <td>-16.829</td>\n      <td>1</td>\n      <td>Polonaise-Fantaisie in A-Flat Major, Op. 61</td>\n      <td>1</td>\n      <td>1928</td>\n      <td>0.0424</td>\n      <td>62.149</td>\n      <td>0.0693</td>\n      <td>1928</td>\n      <td>2</td>\n    </tr>\n    <tr>\n      <th>...</th>\n      <td>...</td>\n      <td>...</td>\n      <td>...</td>\n      <td>...</td>\n      <td>...</td>\n      <td>...</td>\n      <td>...</td>\n      <td>...</td>\n      <td>...</td>\n      <td>...</td>\n      <td>...</td>\n      <td>...</td>\n      <td>...</td>\n      <td>...</td>\n      <td>...</td>\n      <td>...</td>\n      <td>...</td>\n      <td>...</td>\n      <td>...</td>\n      <td>...</td>\n    </tr>\n    <tr>\n      <th>169904</th>\n      <td>0.1730</td>\n      <td>'DripReport', 'Tyga'</td>\n      <td>0.875</td>\n      <td>163800</td>\n      <td>0.4430</td>\n      <td>1</td>\n      <td>4KppkflX7I3vJQk7urOJaS</td>\n      <td>0.000032</td>\n      <td>1</td>\n      <td>0.0891</td>\n      <td>-7.461</td>\n      <td>1</td>\n      <td>Skechers (feat. Tyga) - Remix</td>\n      <td>75</td>\n      <td>2020-05-15</td>\n      <td>0.1430</td>\n      <td>100.012</td>\n      <td>0.3060</td>\n      <td>2020</td>\n      <td>2</td>\n    </tr>\n    <tr>\n      <th>169905</th>\n      <td>0.0167</td>\n      <td>'Leon Bridges', 'Terrace Martin'</td>\n      <td>0.719</td>\n      <td>167468</td>\n      <td>0.3850</td>\n      <td>0</td>\n      <td>1ehhGlTvjtHo2e4xJFB0SZ</td>\n      <td>0.031300</td>\n      <td>8</td>\n      <td>0.1110</td>\n      <td>-10.907</td>\n      <td>1</td>\n      <td>Sweeter (feat. Terrace Martin)</td>\n      <td>64</td>\n      <td>2020-06-08</td>\n      <td>0.0403</td>\n      <td>128.000</td>\n      <td>0.2700</td>\n      <td>2020</td>\n      <td>2</td>\n    </tr>\n    <tr>\n      <th>169906</th>\n      <td>0.5380</td>\n      <td>'Kygo', 'Oh Wonder'</td>\n      <td>0.514</td>\n      <td>180700</td>\n      <td>0.5390</td>\n      <td>0</td>\n      <td>52eycxprLhK3lPcRLbQiVk</td>\n      <td>0.002330</td>\n      <td>7</td>\n      <td>0.1080</td>\n      <td>-9.332</td>\n      <td>1</td>\n      <td>How Would I Know</td>\n      <td>70</td>\n      <td>2020-05-29</td>\n      <td>0.1050</td>\n      <td>123.700</td>\n      <td>0.1530</td>\n      <td>2020</td>\n      <td>2</td>\n    </tr>\n    <tr>\n      <th>169907</th>\n      <td>0.0714</td>\n      <td>'Cash Cash', 'Andy Grammer'</td>\n      <td>0.646</td>\n      <td>167308</td>\n      <td>0.7610</td>\n      <td>0</td>\n      <td>3wYOGJYD31sLRmBgCvWxa4</td>\n      <td>0.000000</td>\n      <td>1</td>\n      <td>0.2220</td>\n      <td>-2.557</td>\n      <td>1</td>\n      <td>I Found You</td>\n      <td>70</td>\n      <td>2020-02-28</td>\n      <td>0.0385</td>\n      <td>129.916</td>\n      <td>0.4720</td>\n      <td>2020</td>\n      <td>2</td>\n    </tr>\n    <tr>\n      <th>169908</th>\n      <td>0.1090</td>\n      <td>'Ingrid Andress'</td>\n      <td>0.512</td>\n      <td>214787</td>\n      <td>0.4280</td>\n      <td>0</td>\n      <td>60RFlt48hm0l4Fu0JoccOl</td>\n      <td>0.000000</td>\n      <td>0</td>\n      <td>0.1050</td>\n      <td>-7.387</td>\n      <td>1</td>\n      <td>More Hearts Than Mine</td>\n      <td>65</td>\n      <td>2020-03-27</td>\n      <td>0.0271</td>\n      <td>80.588</td>\n      <td>0.3660</td>\n      <td>2020</td>\n      <td>1</td>\n    </tr>\n  </tbody>\n</table>\n<p>169909 rows × 20 columns</p>\n</div>"
     },
     "metadata": {},
     "execution_count": 15
    }
   ],
   "source": [
    "df['nombre_artistes'] = np.zeros(df.shape[0])\n",
    "df['nombre_artistes'] = df['artists'].apply(nombre_artistes)\n",
    "df"
   ]
  },
  {
   "cell_type": "markdown",
   "metadata": {},
   "source": [
    "<br> Afficher le nombre des collaborations selon leur taille."
   ]
  },
  {
   "cell_type": "code",
   "execution_count": 16,
   "metadata": {},
   "outputs": [
    {
     "output_type": "execute_result",
     "data": {
      "text/plain": [
       "        acousticness                                     artists  \\\n",
       "1             0.9940     'Robert Schumann', 'Vladimir Horowitz'    \n",
       "4             0.9900     'Frédéric Chopin', 'Vladimir Horowitz'    \n",
       "5             0.9950   'Felix Mendelssohn', 'Vladimir Horowitz'    \n",
       "6             0.9560         'Franz Liszt', 'Vladimir Horowitz'    \n",
       "8             0.9950               'Francisco Canaro', 'Charlo'    \n",
       "...              ...                                         ...   \n",
       "169903        0.2100                     'LEGADO 7', 'Junior H'    \n",
       "169904        0.1730                       'DripReport', 'Tyga'    \n",
       "169905        0.0167           'Leon Bridges', 'Terrace Martin'    \n",
       "169906        0.5380                        'Kygo', 'Oh Wonder'    \n",
       "169907        0.0714                'Cash Cash', 'Andy Grammer'    \n",
       "\n",
       "        danceability  duration_ms  energy  explicit                      id  \\\n",
       "1              0.379       282133  0.0135         0  6KuQTIu1KoTTkLXKrwlLPV   \n",
       "4              0.210       687733  0.2040         0  6N6tiFZ9vLTSOIxkj8qKrd   \n",
       "5              0.424       352600  0.1200         0  6NxAf7M8DNHOBTmEd3JSO5   \n",
       "6              0.444       136627  0.1970         0  6O0puPuyrxPjDTHDUgsWI7   \n",
       "8              0.683       162493  0.2070         0  6OaJ8Bh7lsBeYoBmwmo2nh   \n",
       "...              ...          ...     ...       ...                     ...   \n",
       "169903         0.795       218501  0.5850         0  52Cpyvd2dKb6XRn313nH87   \n",
       "169904         0.875       163800  0.4430         1  4KppkflX7I3vJQk7urOJaS   \n",
       "169905         0.719       167468  0.3850         0  1ehhGlTvjtHo2e4xJFB0SZ   \n",
       "169906         0.514       180700  0.5390         0  52eycxprLhK3lPcRLbQiVk   \n",
       "169907         0.646       167308  0.7610         0  3wYOGJYD31sLRmBgCvWxa4   \n",
       "\n",
       "        instrumentalness  key  liveness  loudness  mode  \\\n",
       "1               0.901000    8    0.0763   -28.454     1   \n",
       "4               0.908000   11    0.0980   -16.829     1   \n",
       "5               0.911000    6    0.0915   -19.242     0   \n",
       "6               0.435000   11    0.0744   -17.226     1   \n",
       "8               0.206000    9    0.3370    -9.801     0   \n",
       "...                  ...  ...       ...       ...   ...   \n",
       "169903          0.000001    8    0.1120    -4.451     1   \n",
       "169904          0.000032    1    0.0891    -7.461     1   \n",
       "169905          0.031300    8    0.1110   -10.907     1   \n",
       "169906          0.002330    7    0.1080    -9.332     1   \n",
       "169907          0.000000    1    0.2220    -2.557     1   \n",
       "\n",
       "                                                  name  popularity  \\\n",
       "1             Fantasiestücke, Op. 111: Più tosto lento           0   \n",
       "4          Polonaise-Fantaisie in A-Flat Major, Op. 61           1   \n",
       "5                          Scherzo a capriccio: Presto           0   \n",
       "6       Valse oubliée No. 1 in F-Sharp Major, S. 215/1           0   \n",
       "8                     Moneda Corriente - Remasterizado           0   \n",
       "...                                                ...         ...   \n",
       "169903                                 Ojos De Maniaco          68   \n",
       "169904                   Skechers (feat. Tyga) - Remix          75   \n",
       "169905                  Sweeter (feat. Terrace Martin)          64   \n",
       "169906                                How Would I Know          70   \n",
       "169907                                     I Found You          70   \n",
       "\n",
       "       release_date  speechiness    tempo  valence  year  nombre_artistes  \n",
       "1              1928       0.0462   83.972   0.0767  1928                2  \n",
       "4              1928       0.0424   62.149   0.0693  1928                2  \n",
       "5              1928       0.0593   63.521   0.2660  1928                2  \n",
       "6              1928       0.0400   80.495   0.3050  1928                2  \n",
       "8        1928-10-03       0.1270  119.833   0.4930  1928                2  \n",
       "...             ...          ...      ...      ...   ...              ...  \n",
       "169903   2020-02-28       0.0374   97.479   0.9340  2020                2  \n",
       "169904   2020-05-15       0.1430  100.012   0.3060  2020                2  \n",
       "169905   2020-06-08       0.0403  128.000   0.2700  2020                2  \n",
       "169906   2020-05-29       0.1050  123.700   0.1530  2020                2  \n",
       "169907   2020-02-28       0.0385  129.916   0.4720  2020                2  \n",
       "\n",
       "[34614 rows x 20 columns]"
      ],
      "text/html": "<div>\n<style scoped>\n    .dataframe tbody tr th:only-of-type {\n        vertical-align: middle;\n    }\n\n    .dataframe tbody tr th {\n        vertical-align: top;\n    }\n\n    .dataframe thead th {\n        text-align: right;\n    }\n</style>\n<table border=\"1\" class=\"dataframe\">\n  <thead>\n    <tr style=\"text-align: right;\">\n      <th></th>\n      <th>acousticness</th>\n      <th>artists</th>\n      <th>danceability</th>\n      <th>duration_ms</th>\n      <th>energy</th>\n      <th>explicit</th>\n      <th>id</th>\n      <th>instrumentalness</th>\n      <th>key</th>\n      <th>liveness</th>\n      <th>loudness</th>\n      <th>mode</th>\n      <th>name</th>\n      <th>popularity</th>\n      <th>release_date</th>\n      <th>speechiness</th>\n      <th>tempo</th>\n      <th>valence</th>\n      <th>year</th>\n      <th>nombre_artistes</th>\n    </tr>\n  </thead>\n  <tbody>\n    <tr>\n      <th>1</th>\n      <td>0.9940</td>\n      <td>'Robert Schumann', 'Vladimir Horowitz'</td>\n      <td>0.379</td>\n      <td>282133</td>\n      <td>0.0135</td>\n      <td>0</td>\n      <td>6KuQTIu1KoTTkLXKrwlLPV</td>\n      <td>0.901000</td>\n      <td>8</td>\n      <td>0.0763</td>\n      <td>-28.454</td>\n      <td>1</td>\n      <td>Fantasiestücke, Op. 111: Più tosto lento</td>\n      <td>0</td>\n      <td>1928</td>\n      <td>0.0462</td>\n      <td>83.972</td>\n      <td>0.0767</td>\n      <td>1928</td>\n      <td>2</td>\n    </tr>\n    <tr>\n      <th>4</th>\n      <td>0.9900</td>\n      <td>'Frédéric Chopin', 'Vladimir Horowitz'</td>\n      <td>0.210</td>\n      <td>687733</td>\n      <td>0.2040</td>\n      <td>0</td>\n      <td>6N6tiFZ9vLTSOIxkj8qKrd</td>\n      <td>0.908000</td>\n      <td>11</td>\n      <td>0.0980</td>\n      <td>-16.829</td>\n      <td>1</td>\n      <td>Polonaise-Fantaisie in A-Flat Major, Op. 61</td>\n      <td>1</td>\n      <td>1928</td>\n      <td>0.0424</td>\n      <td>62.149</td>\n      <td>0.0693</td>\n      <td>1928</td>\n      <td>2</td>\n    </tr>\n    <tr>\n      <th>5</th>\n      <td>0.9950</td>\n      <td>'Felix Mendelssohn', 'Vladimir Horowitz'</td>\n      <td>0.424</td>\n      <td>352600</td>\n      <td>0.1200</td>\n      <td>0</td>\n      <td>6NxAf7M8DNHOBTmEd3JSO5</td>\n      <td>0.911000</td>\n      <td>6</td>\n      <td>0.0915</td>\n      <td>-19.242</td>\n      <td>0</td>\n      <td>Scherzo a capriccio: Presto</td>\n      <td>0</td>\n      <td>1928</td>\n      <td>0.0593</td>\n      <td>63.521</td>\n      <td>0.2660</td>\n      <td>1928</td>\n      <td>2</td>\n    </tr>\n    <tr>\n      <th>6</th>\n      <td>0.9560</td>\n      <td>'Franz Liszt', 'Vladimir Horowitz'</td>\n      <td>0.444</td>\n      <td>136627</td>\n      <td>0.1970</td>\n      <td>0</td>\n      <td>6O0puPuyrxPjDTHDUgsWI7</td>\n      <td>0.435000</td>\n      <td>11</td>\n      <td>0.0744</td>\n      <td>-17.226</td>\n      <td>1</td>\n      <td>Valse oubliée No. 1 in F-Sharp Major, S. 215/1</td>\n      <td>0</td>\n      <td>1928</td>\n      <td>0.0400</td>\n      <td>80.495</td>\n      <td>0.3050</td>\n      <td>1928</td>\n      <td>2</td>\n    </tr>\n    <tr>\n      <th>8</th>\n      <td>0.9950</td>\n      <td>'Francisco Canaro', 'Charlo'</td>\n      <td>0.683</td>\n      <td>162493</td>\n      <td>0.2070</td>\n      <td>0</td>\n      <td>6OaJ8Bh7lsBeYoBmwmo2nh</td>\n      <td>0.206000</td>\n      <td>9</td>\n      <td>0.3370</td>\n      <td>-9.801</td>\n      <td>0</td>\n      <td>Moneda Corriente - Remasterizado</td>\n      <td>0</td>\n      <td>1928-10-03</td>\n      <td>0.1270</td>\n      <td>119.833</td>\n      <td>0.4930</td>\n      <td>1928</td>\n      <td>2</td>\n    </tr>\n    <tr>\n      <th>...</th>\n      <td>...</td>\n      <td>...</td>\n      <td>...</td>\n      <td>...</td>\n      <td>...</td>\n      <td>...</td>\n      <td>...</td>\n      <td>...</td>\n      <td>...</td>\n      <td>...</td>\n      <td>...</td>\n      <td>...</td>\n      <td>...</td>\n      <td>...</td>\n      <td>...</td>\n      <td>...</td>\n      <td>...</td>\n      <td>...</td>\n      <td>...</td>\n      <td>...</td>\n    </tr>\n    <tr>\n      <th>169903</th>\n      <td>0.2100</td>\n      <td>'LEGADO 7', 'Junior H'</td>\n      <td>0.795</td>\n      <td>218501</td>\n      <td>0.5850</td>\n      <td>0</td>\n      <td>52Cpyvd2dKb6XRn313nH87</td>\n      <td>0.000001</td>\n      <td>8</td>\n      <td>0.1120</td>\n      <td>-4.451</td>\n      <td>1</td>\n      <td>Ojos De Maniaco</td>\n      <td>68</td>\n      <td>2020-02-28</td>\n      <td>0.0374</td>\n      <td>97.479</td>\n      <td>0.9340</td>\n      <td>2020</td>\n      <td>2</td>\n    </tr>\n    <tr>\n      <th>169904</th>\n      <td>0.1730</td>\n      <td>'DripReport', 'Tyga'</td>\n      <td>0.875</td>\n      <td>163800</td>\n      <td>0.4430</td>\n      <td>1</td>\n      <td>4KppkflX7I3vJQk7urOJaS</td>\n      <td>0.000032</td>\n      <td>1</td>\n      <td>0.0891</td>\n      <td>-7.461</td>\n      <td>1</td>\n      <td>Skechers (feat. Tyga) - Remix</td>\n      <td>75</td>\n      <td>2020-05-15</td>\n      <td>0.1430</td>\n      <td>100.012</td>\n      <td>0.3060</td>\n      <td>2020</td>\n      <td>2</td>\n    </tr>\n    <tr>\n      <th>169905</th>\n      <td>0.0167</td>\n      <td>'Leon Bridges', 'Terrace Martin'</td>\n      <td>0.719</td>\n      <td>167468</td>\n      <td>0.3850</td>\n      <td>0</td>\n      <td>1ehhGlTvjtHo2e4xJFB0SZ</td>\n      <td>0.031300</td>\n      <td>8</td>\n      <td>0.1110</td>\n      <td>-10.907</td>\n      <td>1</td>\n      <td>Sweeter (feat. Terrace Martin)</td>\n      <td>64</td>\n      <td>2020-06-08</td>\n      <td>0.0403</td>\n      <td>128.000</td>\n      <td>0.2700</td>\n      <td>2020</td>\n      <td>2</td>\n    </tr>\n    <tr>\n      <th>169906</th>\n      <td>0.5380</td>\n      <td>'Kygo', 'Oh Wonder'</td>\n      <td>0.514</td>\n      <td>180700</td>\n      <td>0.5390</td>\n      <td>0</td>\n      <td>52eycxprLhK3lPcRLbQiVk</td>\n      <td>0.002330</td>\n      <td>7</td>\n      <td>0.1080</td>\n      <td>-9.332</td>\n      <td>1</td>\n      <td>How Would I Know</td>\n      <td>70</td>\n      <td>2020-05-29</td>\n      <td>0.1050</td>\n      <td>123.700</td>\n      <td>0.1530</td>\n      <td>2020</td>\n      <td>2</td>\n    </tr>\n    <tr>\n      <th>169907</th>\n      <td>0.0714</td>\n      <td>'Cash Cash', 'Andy Grammer'</td>\n      <td>0.646</td>\n      <td>167308</td>\n      <td>0.7610</td>\n      <td>0</td>\n      <td>3wYOGJYD31sLRmBgCvWxa4</td>\n      <td>0.000000</td>\n      <td>1</td>\n      <td>0.2220</td>\n      <td>-2.557</td>\n      <td>1</td>\n      <td>I Found You</td>\n      <td>70</td>\n      <td>2020-02-28</td>\n      <td>0.0385</td>\n      <td>129.916</td>\n      <td>0.4720</td>\n      <td>2020</td>\n      <td>2</td>\n    </tr>\n  </tbody>\n</table>\n<p>34614 rows × 20 columns</p>\n</div>"
     },
     "metadata": {},
     "execution_count": 16
    }
   ],
   "source": [
    "df[df['nombre_artistes']>=2]\n"
   ]
  },
  {
   "cell_type": "markdown",
   "metadata": {},
   "source": [
    "<br> Créer une nouvelle dataframe qui ne contient que les duos. Cette dataframe sera dorénavant l'objet de nos manipulations."
   ]
  },
  {
   "cell_type": "code",
   "execution_count": 19,
   "metadata": {},
   "outputs": [
    {
     "output_type": "execute_result",
     "data": {
      "text/plain": [
       "        acousticness                                     artists  \\\n",
       "1             0.9940     'Robert Schumann', 'Vladimir Horowitz'    \n",
       "4             0.9900     'Frédéric Chopin', 'Vladimir Horowitz'    \n",
       "5             0.9950   'Felix Mendelssohn', 'Vladimir Horowitz'    \n",
       "6             0.9560         'Franz Liszt', 'Vladimir Horowitz'    \n",
       "8             0.9950               'Francisco Canaro', 'Charlo'    \n",
       "...              ...                                         ...   \n",
       "169903        0.2100                     'LEGADO 7', 'Junior H'    \n",
       "169904        0.1730                       'DripReport', 'Tyga'    \n",
       "169905        0.0167           'Leon Bridges', 'Terrace Martin'    \n",
       "169906        0.5380                        'Kygo', 'Oh Wonder'    \n",
       "169907        0.0714                'Cash Cash', 'Andy Grammer'    \n",
       "\n",
       "        danceability  duration_ms  energy  explicit                      id  \\\n",
       "1              0.379       282133  0.0135         0  6KuQTIu1KoTTkLXKrwlLPV   \n",
       "4              0.210       687733  0.2040         0  6N6tiFZ9vLTSOIxkj8qKrd   \n",
       "5              0.424       352600  0.1200         0  6NxAf7M8DNHOBTmEd3JSO5   \n",
       "6              0.444       136627  0.1970         0  6O0puPuyrxPjDTHDUgsWI7   \n",
       "8              0.683       162493  0.2070         0  6OaJ8Bh7lsBeYoBmwmo2nh   \n",
       "...              ...          ...     ...       ...                     ...   \n",
       "169903         0.795       218501  0.5850         0  52Cpyvd2dKb6XRn313nH87   \n",
       "169904         0.875       163800  0.4430         1  4KppkflX7I3vJQk7urOJaS   \n",
       "169905         0.719       167468  0.3850         0  1ehhGlTvjtHo2e4xJFB0SZ   \n",
       "169906         0.514       180700  0.5390         0  52eycxprLhK3lPcRLbQiVk   \n",
       "169907         0.646       167308  0.7610         0  3wYOGJYD31sLRmBgCvWxa4   \n",
       "\n",
       "        instrumentalness  key  liveness  loudness  mode  \\\n",
       "1               0.901000    8    0.0763   -28.454     1   \n",
       "4               0.908000   11    0.0980   -16.829     1   \n",
       "5               0.911000    6    0.0915   -19.242     0   \n",
       "6               0.435000   11    0.0744   -17.226     1   \n",
       "8               0.206000    9    0.3370    -9.801     0   \n",
       "...                  ...  ...       ...       ...   ...   \n",
       "169903          0.000001    8    0.1120    -4.451     1   \n",
       "169904          0.000032    1    0.0891    -7.461     1   \n",
       "169905          0.031300    8    0.1110   -10.907     1   \n",
       "169906          0.002330    7    0.1080    -9.332     1   \n",
       "169907          0.000000    1    0.2220    -2.557     1   \n",
       "\n",
       "                                                  name  popularity  \\\n",
       "1             Fantasiestücke, Op. 111: Più tosto lento           0   \n",
       "4          Polonaise-Fantaisie in A-Flat Major, Op. 61           1   \n",
       "5                          Scherzo a capriccio: Presto           0   \n",
       "6       Valse oubliée No. 1 in F-Sharp Major, S. 215/1           0   \n",
       "8                     Moneda Corriente - Remasterizado           0   \n",
       "...                                                ...         ...   \n",
       "169903                                 Ojos De Maniaco          68   \n",
       "169904                   Skechers (feat. Tyga) - Remix          75   \n",
       "169905                  Sweeter (feat. Terrace Martin)          64   \n",
       "169906                                How Would I Know          70   \n",
       "169907                                     I Found You          70   \n",
       "\n",
       "       release_date  speechiness    tempo  valence  year  nombre_artistes  \n",
       "1              1928       0.0462   83.972   0.0767  1928                2  \n",
       "4              1928       0.0424   62.149   0.0693  1928                2  \n",
       "5              1928       0.0593   63.521   0.2660  1928                2  \n",
       "6              1928       0.0400   80.495   0.3050  1928                2  \n",
       "8        1928-10-03       0.1270  119.833   0.4930  1928                2  \n",
       "...             ...          ...      ...      ...   ...              ...  \n",
       "169903   2020-02-28       0.0374   97.479   0.9340  2020                2  \n",
       "169904   2020-05-15       0.1430  100.012   0.3060  2020                2  \n",
       "169905   2020-06-08       0.0403  128.000   0.2700  2020                2  \n",
       "169906   2020-05-29       0.1050  123.700   0.1530  2020                2  \n",
       "169907   2020-02-28       0.0385  129.916   0.4720  2020                2  \n",
       "\n",
       "[22952 rows x 20 columns]"
      ],
      "text/html": "<div>\n<style scoped>\n    .dataframe tbody tr th:only-of-type {\n        vertical-align: middle;\n    }\n\n    .dataframe tbody tr th {\n        vertical-align: top;\n    }\n\n    .dataframe thead th {\n        text-align: right;\n    }\n</style>\n<table border=\"1\" class=\"dataframe\">\n  <thead>\n    <tr style=\"text-align: right;\">\n      <th></th>\n      <th>acousticness</th>\n      <th>artists</th>\n      <th>danceability</th>\n      <th>duration_ms</th>\n      <th>energy</th>\n      <th>explicit</th>\n      <th>id</th>\n      <th>instrumentalness</th>\n      <th>key</th>\n      <th>liveness</th>\n      <th>loudness</th>\n      <th>mode</th>\n      <th>name</th>\n      <th>popularity</th>\n      <th>release_date</th>\n      <th>speechiness</th>\n      <th>tempo</th>\n      <th>valence</th>\n      <th>year</th>\n      <th>nombre_artistes</th>\n    </tr>\n  </thead>\n  <tbody>\n    <tr>\n      <th>1</th>\n      <td>0.9940</td>\n      <td>'Robert Schumann', 'Vladimir Horowitz'</td>\n      <td>0.379</td>\n      <td>282133</td>\n      <td>0.0135</td>\n      <td>0</td>\n      <td>6KuQTIu1KoTTkLXKrwlLPV</td>\n      <td>0.901000</td>\n      <td>8</td>\n      <td>0.0763</td>\n      <td>-28.454</td>\n      <td>1</td>\n      <td>Fantasiestücke, Op. 111: Più tosto lento</td>\n      <td>0</td>\n      <td>1928</td>\n      <td>0.0462</td>\n      <td>83.972</td>\n      <td>0.0767</td>\n      <td>1928</td>\n      <td>2</td>\n    </tr>\n    <tr>\n      <th>4</th>\n      <td>0.9900</td>\n      <td>'Frédéric Chopin', 'Vladimir Horowitz'</td>\n      <td>0.210</td>\n      <td>687733</td>\n      <td>0.2040</td>\n      <td>0</td>\n      <td>6N6tiFZ9vLTSOIxkj8qKrd</td>\n      <td>0.908000</td>\n      <td>11</td>\n      <td>0.0980</td>\n      <td>-16.829</td>\n      <td>1</td>\n      <td>Polonaise-Fantaisie in A-Flat Major, Op. 61</td>\n      <td>1</td>\n      <td>1928</td>\n      <td>0.0424</td>\n      <td>62.149</td>\n      <td>0.0693</td>\n      <td>1928</td>\n      <td>2</td>\n    </tr>\n    <tr>\n      <th>5</th>\n      <td>0.9950</td>\n      <td>'Felix Mendelssohn', 'Vladimir Horowitz'</td>\n      <td>0.424</td>\n      <td>352600</td>\n      <td>0.1200</td>\n      <td>0</td>\n      <td>6NxAf7M8DNHOBTmEd3JSO5</td>\n      <td>0.911000</td>\n      <td>6</td>\n      <td>0.0915</td>\n      <td>-19.242</td>\n      <td>0</td>\n      <td>Scherzo a capriccio: Presto</td>\n      <td>0</td>\n      <td>1928</td>\n      <td>0.0593</td>\n      <td>63.521</td>\n      <td>0.2660</td>\n      <td>1928</td>\n      <td>2</td>\n    </tr>\n    <tr>\n      <th>6</th>\n      <td>0.9560</td>\n      <td>'Franz Liszt', 'Vladimir Horowitz'</td>\n      <td>0.444</td>\n      <td>136627</td>\n      <td>0.1970</td>\n      <td>0</td>\n      <td>6O0puPuyrxPjDTHDUgsWI7</td>\n      <td>0.435000</td>\n      <td>11</td>\n      <td>0.0744</td>\n      <td>-17.226</td>\n      <td>1</td>\n      <td>Valse oubliée No. 1 in F-Sharp Major, S. 215/1</td>\n      <td>0</td>\n      <td>1928</td>\n      <td>0.0400</td>\n      <td>80.495</td>\n      <td>0.3050</td>\n      <td>1928</td>\n      <td>2</td>\n    </tr>\n    <tr>\n      <th>8</th>\n      <td>0.9950</td>\n      <td>'Francisco Canaro', 'Charlo'</td>\n      <td>0.683</td>\n      <td>162493</td>\n      <td>0.2070</td>\n      <td>0</td>\n      <td>6OaJ8Bh7lsBeYoBmwmo2nh</td>\n      <td>0.206000</td>\n      <td>9</td>\n      <td>0.3370</td>\n      <td>-9.801</td>\n      <td>0</td>\n      <td>Moneda Corriente - Remasterizado</td>\n      <td>0</td>\n      <td>1928-10-03</td>\n      <td>0.1270</td>\n      <td>119.833</td>\n      <td>0.4930</td>\n      <td>1928</td>\n      <td>2</td>\n    </tr>\n    <tr>\n      <th>...</th>\n      <td>...</td>\n      <td>...</td>\n      <td>...</td>\n      <td>...</td>\n      <td>...</td>\n      <td>...</td>\n      <td>...</td>\n      <td>...</td>\n      <td>...</td>\n      <td>...</td>\n      <td>...</td>\n      <td>...</td>\n      <td>...</td>\n      <td>...</td>\n      <td>...</td>\n      <td>...</td>\n      <td>...</td>\n      <td>...</td>\n      <td>...</td>\n      <td>...</td>\n    </tr>\n    <tr>\n      <th>169903</th>\n      <td>0.2100</td>\n      <td>'LEGADO 7', 'Junior H'</td>\n      <td>0.795</td>\n      <td>218501</td>\n      <td>0.5850</td>\n      <td>0</td>\n      <td>52Cpyvd2dKb6XRn313nH87</td>\n      <td>0.000001</td>\n      <td>8</td>\n      <td>0.1120</td>\n      <td>-4.451</td>\n      <td>1</td>\n      <td>Ojos De Maniaco</td>\n      <td>68</td>\n      <td>2020-02-28</td>\n      <td>0.0374</td>\n      <td>97.479</td>\n      <td>0.9340</td>\n      <td>2020</td>\n      <td>2</td>\n    </tr>\n    <tr>\n      <th>169904</th>\n      <td>0.1730</td>\n      <td>'DripReport', 'Tyga'</td>\n      <td>0.875</td>\n      <td>163800</td>\n      <td>0.4430</td>\n      <td>1</td>\n      <td>4KppkflX7I3vJQk7urOJaS</td>\n      <td>0.000032</td>\n      <td>1</td>\n      <td>0.0891</td>\n      <td>-7.461</td>\n      <td>1</td>\n      <td>Skechers (feat. Tyga) - Remix</td>\n      <td>75</td>\n      <td>2020-05-15</td>\n      <td>0.1430</td>\n      <td>100.012</td>\n      <td>0.3060</td>\n      <td>2020</td>\n      <td>2</td>\n    </tr>\n    <tr>\n      <th>169905</th>\n      <td>0.0167</td>\n      <td>'Leon Bridges', 'Terrace Martin'</td>\n      <td>0.719</td>\n      <td>167468</td>\n      <td>0.3850</td>\n      <td>0</td>\n      <td>1ehhGlTvjtHo2e4xJFB0SZ</td>\n      <td>0.031300</td>\n      <td>8</td>\n      <td>0.1110</td>\n      <td>-10.907</td>\n      <td>1</td>\n      <td>Sweeter (feat. Terrace Martin)</td>\n      <td>64</td>\n      <td>2020-06-08</td>\n      <td>0.0403</td>\n      <td>128.000</td>\n      <td>0.2700</td>\n      <td>2020</td>\n      <td>2</td>\n    </tr>\n    <tr>\n      <th>169906</th>\n      <td>0.5380</td>\n      <td>'Kygo', 'Oh Wonder'</td>\n      <td>0.514</td>\n      <td>180700</td>\n      <td>0.5390</td>\n      <td>0</td>\n      <td>52eycxprLhK3lPcRLbQiVk</td>\n      <td>0.002330</td>\n      <td>7</td>\n      <td>0.1080</td>\n      <td>-9.332</td>\n      <td>1</td>\n      <td>How Would I Know</td>\n      <td>70</td>\n      <td>2020-05-29</td>\n      <td>0.1050</td>\n      <td>123.700</td>\n      <td>0.1530</td>\n      <td>2020</td>\n      <td>2</td>\n    </tr>\n    <tr>\n      <th>169907</th>\n      <td>0.0714</td>\n      <td>'Cash Cash', 'Andy Grammer'</td>\n      <td>0.646</td>\n      <td>167308</td>\n      <td>0.7610</td>\n      <td>0</td>\n      <td>3wYOGJYD31sLRmBgCvWxa4</td>\n      <td>0.000000</td>\n      <td>1</td>\n      <td>0.2220</td>\n      <td>-2.557</td>\n      <td>1</td>\n      <td>I Found You</td>\n      <td>70</td>\n      <td>2020-02-28</td>\n      <td>0.0385</td>\n      <td>129.916</td>\n      <td>0.4720</td>\n      <td>2020</td>\n      <td>2</td>\n    </tr>\n  </tbody>\n</table>\n<p>22952 rows × 20 columns</p>\n</div>"
     },
     "metadata": {},
     "execution_count": 19
    }
   ],
   "source": [
    "duo = df[df['nombre_artistes']==2]\n",
    "duo"
   ]
  },
  {
   "cell_type": "markdown",
   "metadata": {},
   "source": [
    "<br> Créer deux nouvelles colonnes correspondant respectivement aux deux artistes du duo. Il est possible de le faire directement en utilisant la fonction divisant le string en deux et l'assignant aux colonnes. Comme il est opportun de le faire en utilisant la fonction explode qui est peu connue mais extremement utile. Essayer de le faire des deux manières:   "
   ]
  },
  {
   "cell_type": "code",
   "execution_count": 23,
   "metadata": {
    "tags": []
   },
   "outputs": [],
   "source": [
    "duo['artist1'] = np.zeros(duo.shape[0])\n",
    "duo['artist2'] = np.zeros(duo.shape[0])\n",
    "\n",
    "for i in range(duo.shape[0]):\n",
    "    l = duo['artists'].iloc[i]\n",
    "    l = l.split(',')\n",
    "    duo['artist1'].iloc[i] = l[0]\n",
    "    duo['artist2'].iloc[i] = l[1]\n"
   ]
  },
  {
   "cell_type": "markdown",
   "metadata": {},
   "source": []
  },
  {
   "cell_type": "markdown",
   "metadata": {},
   "source": [
    "<br> S'assurer que les noms des artistes ne contiennent pas de caractères spéciaux au début et à la fin..."
   ]
  },
  {
   "cell_type": "code",
   "execution_count": 24,
   "metadata": {},
   "outputs": [
    {
     "output_type": "execute_result",
     "data": {
      "text/plain": [
       "        acousticness                                     artists  \\\n",
       "1             0.9940     'Robert Schumann', 'Vladimir Horowitz'    \n",
       "4             0.9900     'Frédéric Chopin', 'Vladimir Horowitz'    \n",
       "5             0.9950   'Felix Mendelssohn', 'Vladimir Horowitz'    \n",
       "6             0.9560         'Franz Liszt', 'Vladimir Horowitz'    \n",
       "8             0.9950               'Francisco Canaro', 'Charlo'    \n",
       "...              ...                                         ...   \n",
       "169903        0.2100                     'LEGADO 7', 'Junior H'    \n",
       "169904        0.1730                       'DripReport', 'Tyga'    \n",
       "169905        0.0167           'Leon Bridges', 'Terrace Martin'    \n",
       "169906        0.5380                        'Kygo', 'Oh Wonder'    \n",
       "169907        0.0714                'Cash Cash', 'Andy Grammer'    \n",
       "\n",
       "        danceability  duration_ms  energy  explicit                      id  \\\n",
       "1              0.379       282133  0.0135         0  6KuQTIu1KoTTkLXKrwlLPV   \n",
       "4              0.210       687733  0.2040         0  6N6tiFZ9vLTSOIxkj8qKrd   \n",
       "5              0.424       352600  0.1200         0  6NxAf7M8DNHOBTmEd3JSO5   \n",
       "6              0.444       136627  0.1970         0  6O0puPuyrxPjDTHDUgsWI7   \n",
       "8              0.683       162493  0.2070         0  6OaJ8Bh7lsBeYoBmwmo2nh   \n",
       "...              ...          ...     ...       ...                     ...   \n",
       "169903         0.795       218501  0.5850         0  52Cpyvd2dKb6XRn313nH87   \n",
       "169904         0.875       163800  0.4430         1  4KppkflX7I3vJQk7urOJaS   \n",
       "169905         0.719       167468  0.3850         0  1ehhGlTvjtHo2e4xJFB0SZ   \n",
       "169906         0.514       180700  0.5390         0  52eycxprLhK3lPcRLbQiVk   \n",
       "169907         0.646       167308  0.7610         0  3wYOGJYD31sLRmBgCvWxa4   \n",
       "\n",
       "        instrumentalness  key  liveness  ...  \\\n",
       "1               0.901000    8    0.0763  ...   \n",
       "4               0.908000   11    0.0980  ...   \n",
       "5               0.911000    6    0.0915  ...   \n",
       "6               0.435000   11    0.0744  ...   \n",
       "8               0.206000    9    0.3370  ...   \n",
       "...                  ...  ...       ...  ...   \n",
       "169903          0.000001    8    0.1120  ...   \n",
       "169904          0.000032    1    0.0891  ...   \n",
       "169905          0.031300    8    0.1110  ...   \n",
       "169906          0.002330    7    0.1080  ...   \n",
       "169907          0.000000    1    0.2220  ...   \n",
       "\n",
       "                                                  name  popularity  \\\n",
       "1             Fantasiestücke, Op. 111: Più tosto lento           0   \n",
       "4          Polonaise-Fantaisie in A-Flat Major, Op. 61           1   \n",
       "5                          Scherzo a capriccio: Presto           0   \n",
       "6       Valse oubliée No. 1 in F-Sharp Major, S. 215/1           0   \n",
       "8                     Moneda Corriente - Remasterizado           0   \n",
       "...                                                ...         ...   \n",
       "169903                                 Ojos De Maniaco          68   \n",
       "169904                   Skechers (feat. Tyga) - Remix          75   \n",
       "169905                  Sweeter (feat. Terrace Martin)          64   \n",
       "169906                                How Would I Know          70   \n",
       "169907                                     I Found You          70   \n",
       "\n",
       "       release_date  speechiness    tempo  valence  year  nombre_artistes  \\\n",
       "1              1928       0.0462   83.972   0.0767  1928                2   \n",
       "4              1928       0.0424   62.149   0.0693  1928                2   \n",
       "5              1928       0.0593   63.521   0.2660  1928                2   \n",
       "6              1928       0.0400   80.495   0.3050  1928                2   \n",
       "8        1928-10-03       0.1270  119.833   0.4930  1928                2   \n",
       "...             ...          ...      ...      ...   ...              ...   \n",
       "169903   2020-02-28       0.0374   97.479   0.9340  2020                2   \n",
       "169904   2020-05-15       0.1430  100.012   0.3060  2020                2   \n",
       "169905   2020-06-08       0.0403  128.000   0.2700  2020                2   \n",
       "169906   2020-05-29       0.1050  123.700   0.1530  2020                2   \n",
       "169907   2020-02-28       0.0385  129.916   0.4720  2020                2   \n",
       "\n",
       "                     artist1                artist2  \n",
       "1          'Robert Schumann'   'Vladimir Horowitz'   \n",
       "4          'Frédéric Chopin'   'Vladimir Horowitz'   \n",
       "5        'Felix Mendelssohn'   'Vladimir Horowitz'   \n",
       "6              'Franz Liszt'   'Vladimir Horowitz'   \n",
       "8         'Francisco Canaro'              'Charlo'   \n",
       "...                      ...                    ...  \n",
       "169903            'LEGADO 7'            'Junior H'   \n",
       "169904          'DripReport'                'Tyga'   \n",
       "169905        'Leon Bridges'      'Terrace Martin'   \n",
       "169906                'Kygo'           'Oh Wonder'   \n",
       "169907           'Cash Cash'        'Andy Grammer'   \n",
       "\n",
       "[22952 rows x 22 columns]"
      ],
      "text/html": "<div>\n<style scoped>\n    .dataframe tbody tr th:only-of-type {\n        vertical-align: middle;\n    }\n\n    .dataframe tbody tr th {\n        vertical-align: top;\n    }\n\n    .dataframe thead th {\n        text-align: right;\n    }\n</style>\n<table border=\"1\" class=\"dataframe\">\n  <thead>\n    <tr style=\"text-align: right;\">\n      <th></th>\n      <th>acousticness</th>\n      <th>artists</th>\n      <th>danceability</th>\n      <th>duration_ms</th>\n      <th>energy</th>\n      <th>explicit</th>\n      <th>id</th>\n      <th>instrumentalness</th>\n      <th>key</th>\n      <th>liveness</th>\n      <th>...</th>\n      <th>name</th>\n      <th>popularity</th>\n      <th>release_date</th>\n      <th>speechiness</th>\n      <th>tempo</th>\n      <th>valence</th>\n      <th>year</th>\n      <th>nombre_artistes</th>\n      <th>artist1</th>\n      <th>artist2</th>\n    </tr>\n  </thead>\n  <tbody>\n    <tr>\n      <th>1</th>\n      <td>0.9940</td>\n      <td>'Robert Schumann', 'Vladimir Horowitz'</td>\n      <td>0.379</td>\n      <td>282133</td>\n      <td>0.0135</td>\n      <td>0</td>\n      <td>6KuQTIu1KoTTkLXKrwlLPV</td>\n      <td>0.901000</td>\n      <td>8</td>\n      <td>0.0763</td>\n      <td>...</td>\n      <td>Fantasiestücke, Op. 111: Più tosto lento</td>\n      <td>0</td>\n      <td>1928</td>\n      <td>0.0462</td>\n      <td>83.972</td>\n      <td>0.0767</td>\n      <td>1928</td>\n      <td>2</td>\n      <td>'Robert Schumann'</td>\n      <td>'Vladimir Horowitz'</td>\n    </tr>\n    <tr>\n      <th>4</th>\n      <td>0.9900</td>\n      <td>'Frédéric Chopin', 'Vladimir Horowitz'</td>\n      <td>0.210</td>\n      <td>687733</td>\n      <td>0.2040</td>\n      <td>0</td>\n      <td>6N6tiFZ9vLTSOIxkj8qKrd</td>\n      <td>0.908000</td>\n      <td>11</td>\n      <td>0.0980</td>\n      <td>...</td>\n      <td>Polonaise-Fantaisie in A-Flat Major, Op. 61</td>\n      <td>1</td>\n      <td>1928</td>\n      <td>0.0424</td>\n      <td>62.149</td>\n      <td>0.0693</td>\n      <td>1928</td>\n      <td>2</td>\n      <td>'Frédéric Chopin'</td>\n      <td>'Vladimir Horowitz'</td>\n    </tr>\n    <tr>\n      <th>5</th>\n      <td>0.9950</td>\n      <td>'Felix Mendelssohn', 'Vladimir Horowitz'</td>\n      <td>0.424</td>\n      <td>352600</td>\n      <td>0.1200</td>\n      <td>0</td>\n      <td>6NxAf7M8DNHOBTmEd3JSO5</td>\n      <td>0.911000</td>\n      <td>6</td>\n      <td>0.0915</td>\n      <td>...</td>\n      <td>Scherzo a capriccio: Presto</td>\n      <td>0</td>\n      <td>1928</td>\n      <td>0.0593</td>\n      <td>63.521</td>\n      <td>0.2660</td>\n      <td>1928</td>\n      <td>2</td>\n      <td>'Felix Mendelssohn'</td>\n      <td>'Vladimir Horowitz'</td>\n    </tr>\n    <tr>\n      <th>6</th>\n      <td>0.9560</td>\n      <td>'Franz Liszt', 'Vladimir Horowitz'</td>\n      <td>0.444</td>\n      <td>136627</td>\n      <td>0.1970</td>\n      <td>0</td>\n      <td>6O0puPuyrxPjDTHDUgsWI7</td>\n      <td>0.435000</td>\n      <td>11</td>\n      <td>0.0744</td>\n      <td>...</td>\n      <td>Valse oubliée No. 1 in F-Sharp Major, S. 215/1</td>\n      <td>0</td>\n      <td>1928</td>\n      <td>0.0400</td>\n      <td>80.495</td>\n      <td>0.3050</td>\n      <td>1928</td>\n      <td>2</td>\n      <td>'Franz Liszt'</td>\n      <td>'Vladimir Horowitz'</td>\n    </tr>\n    <tr>\n      <th>8</th>\n      <td>0.9950</td>\n      <td>'Francisco Canaro', 'Charlo'</td>\n      <td>0.683</td>\n      <td>162493</td>\n      <td>0.2070</td>\n      <td>0</td>\n      <td>6OaJ8Bh7lsBeYoBmwmo2nh</td>\n      <td>0.206000</td>\n      <td>9</td>\n      <td>0.3370</td>\n      <td>...</td>\n      <td>Moneda Corriente - Remasterizado</td>\n      <td>0</td>\n      <td>1928-10-03</td>\n      <td>0.1270</td>\n      <td>119.833</td>\n      <td>0.4930</td>\n      <td>1928</td>\n      <td>2</td>\n      <td>'Francisco Canaro'</td>\n      <td>'Charlo'</td>\n    </tr>\n    <tr>\n      <th>...</th>\n      <td>...</td>\n      <td>...</td>\n      <td>...</td>\n      <td>...</td>\n      <td>...</td>\n      <td>...</td>\n      <td>...</td>\n      <td>...</td>\n      <td>...</td>\n      <td>...</td>\n      <td>...</td>\n      <td>...</td>\n      <td>...</td>\n      <td>...</td>\n      <td>...</td>\n      <td>...</td>\n      <td>...</td>\n      <td>...</td>\n      <td>...</td>\n      <td>...</td>\n      <td>...</td>\n    </tr>\n    <tr>\n      <th>169903</th>\n      <td>0.2100</td>\n      <td>'LEGADO 7', 'Junior H'</td>\n      <td>0.795</td>\n      <td>218501</td>\n      <td>0.5850</td>\n      <td>0</td>\n      <td>52Cpyvd2dKb6XRn313nH87</td>\n      <td>0.000001</td>\n      <td>8</td>\n      <td>0.1120</td>\n      <td>...</td>\n      <td>Ojos De Maniaco</td>\n      <td>68</td>\n      <td>2020-02-28</td>\n      <td>0.0374</td>\n      <td>97.479</td>\n      <td>0.9340</td>\n      <td>2020</td>\n      <td>2</td>\n      <td>'LEGADO 7'</td>\n      <td>'Junior H'</td>\n    </tr>\n    <tr>\n      <th>169904</th>\n      <td>0.1730</td>\n      <td>'DripReport', 'Tyga'</td>\n      <td>0.875</td>\n      <td>163800</td>\n      <td>0.4430</td>\n      <td>1</td>\n      <td>4KppkflX7I3vJQk7urOJaS</td>\n      <td>0.000032</td>\n      <td>1</td>\n      <td>0.0891</td>\n      <td>...</td>\n      <td>Skechers (feat. Tyga) - Remix</td>\n      <td>75</td>\n      <td>2020-05-15</td>\n      <td>0.1430</td>\n      <td>100.012</td>\n      <td>0.3060</td>\n      <td>2020</td>\n      <td>2</td>\n      <td>'DripReport'</td>\n      <td>'Tyga'</td>\n    </tr>\n    <tr>\n      <th>169905</th>\n      <td>0.0167</td>\n      <td>'Leon Bridges', 'Terrace Martin'</td>\n      <td>0.719</td>\n      <td>167468</td>\n      <td>0.3850</td>\n      <td>0</td>\n      <td>1ehhGlTvjtHo2e4xJFB0SZ</td>\n      <td>0.031300</td>\n      <td>8</td>\n      <td>0.1110</td>\n      <td>...</td>\n      <td>Sweeter (feat. Terrace Martin)</td>\n      <td>64</td>\n      <td>2020-06-08</td>\n      <td>0.0403</td>\n      <td>128.000</td>\n      <td>0.2700</td>\n      <td>2020</td>\n      <td>2</td>\n      <td>'Leon Bridges'</td>\n      <td>'Terrace Martin'</td>\n    </tr>\n    <tr>\n      <th>169906</th>\n      <td>0.5380</td>\n      <td>'Kygo', 'Oh Wonder'</td>\n      <td>0.514</td>\n      <td>180700</td>\n      <td>0.5390</td>\n      <td>0</td>\n      <td>52eycxprLhK3lPcRLbQiVk</td>\n      <td>0.002330</td>\n      <td>7</td>\n      <td>0.1080</td>\n      <td>...</td>\n      <td>How Would I Know</td>\n      <td>70</td>\n      <td>2020-05-29</td>\n      <td>0.1050</td>\n      <td>123.700</td>\n      <td>0.1530</td>\n      <td>2020</td>\n      <td>2</td>\n      <td>'Kygo'</td>\n      <td>'Oh Wonder'</td>\n    </tr>\n    <tr>\n      <th>169907</th>\n      <td>0.0714</td>\n      <td>'Cash Cash', 'Andy Grammer'</td>\n      <td>0.646</td>\n      <td>167308</td>\n      <td>0.7610</td>\n      <td>0</td>\n      <td>3wYOGJYD31sLRmBgCvWxa4</td>\n      <td>0.000000</td>\n      <td>1</td>\n      <td>0.2220</td>\n      <td>...</td>\n      <td>I Found You</td>\n      <td>70</td>\n      <td>2020-02-28</td>\n      <td>0.0385</td>\n      <td>129.916</td>\n      <td>0.4720</td>\n      <td>2020</td>\n      <td>2</td>\n      <td>'Cash Cash'</td>\n      <td>'Andy Grammer'</td>\n    </tr>\n  </tbody>\n</table>\n<p>22952 rows × 22 columns</p>\n</div>"
     },
     "metadata": {},
     "execution_count": 24
    }
   ],
   "source": [
    "duo  #on les a déjà pris en compte "
   ]
  },
  {
   "cell_type": "markdown",
   "metadata": {},
   "source": [
    "<br> En utilisant la fonction de groupage sur Pandas, afficher le nombre de collaborations entre les paires d'artists. Afficher les 10 collaborations les plus fréquentes."
   ]
  },
  {
   "cell_type": "code",
   "execution_count": 25,
   "metadata": {},
   "outputs": [
    {
     "output_type": "execute_result",
     "data": {
      "text/plain": [
       "artists\n",
       " 'Francisco Canaro', 'Charlo'                         459\n",
       " 'Johann Sebastian Bach', 'Glenn Gould'               301\n",
       " 'Frédéric Chopin', 'Arthur Rubinstein'               248\n",
       " 'Francisco Canaro', 'Ernesto Fama'                   231\n",
       " 'Sinclair Lewis', 'Frank Arnold'                     212\n",
       " 'Billie Holiday', 'Teddy Wilson'                     199\n",
       " 'Francisco Canaro', 'Roberto Maida'                  181\n",
       " 'Frédéric Chopin', 'Vladimir Horowitz'               177\n",
       " 'Igor Stravinsky', 'Columbia Symphony Orchestra'     163\n",
       " 'Giuseppe Verdi', 'Arturo Toscanini'                 148\n",
       "Name: artists, dtype: int64"
      ]
     },
     "metadata": {},
     "execution_count": 25
    }
   ],
   "source": [
    "duo.groupby(['artists'])['artists'].count().sort_values(ascending=False).head(10)"
   ]
  },
  {
   "cell_type": "markdown",
   "metadata": {},
   "source": [
    "<br> Il est également possible de calculer la moyenne des valeurs d'acousticness,'danceability', 'duration_ms', 'energy'... par pair d'artistes. Penser à ne l'appliquer que là où ça a un sens."
   ]
  },
  {
   "cell_type": "code",
   "execution_count": 26,
   "metadata": {},
   "outputs": [
    {
     "output_type": "execute_result",
     "data": {
      "text/plain": [
       "                                                                              acousticness  \\\n",
       "artist1                                       artist2                                        \n",
       " \"'In The Heights' Original Broadway Company\"  'Mandy Gonzalez'                   0.848000   \n",
       " \"'Legally Blonde' Ensemble\"                   'Michael Rupert'                   0.647000   \n",
       " \"Amy Hanaiali'i\"                              'Willie K'                         0.580000   \n",
       " \"Anita O'Day\"                                 'Billy May Orchestra'              0.904000   \n",
       "                                               'Gene Krupa & His Orchestra'       0.864500   \n",
       "...                                                                                    ...   \n",
       " '張琪'                                          '謝雷'                               0.911714   \n",
       " '彭家麗'                                         'William So'                       0.661000   \n",
       " '湯寶如'                                         'Jacky Cheung'                     0.839000   \n",
       " '笠井 紀美子'                                      'Herbie Hancock'                   0.085600   \n",
       " '黃國隆'                                         '王秋玉'                              0.852000   \n",
       "\n",
       "                                                                              danceability  \\\n",
       "artist1                                       artist2                                        \n",
       " \"'In The Heights' Original Broadway Company\"  'Mandy Gonzalez'                   0.397000   \n",
       " \"'Legally Blonde' Ensemble\"                   'Michael Rupert'                   0.578000   \n",
       " \"Amy Hanaiali'i\"                              'Willie K'                         0.391000   \n",
       " \"Anita O'Day\"                                 'Billy May Orchestra'              0.343000   \n",
       "                                               'Gene Krupa & His Orchestra'       0.608000   \n",
       "...                                                                                    ...   \n",
       " '張琪'                                          '謝雷'                               0.470286   \n",
       " '彭家麗'                                         'William So'                       0.673000   \n",
       " '湯寶如'                                         'Jacky Cheung'                     0.371000   \n",
       " '笠井 紀美子'                                      'Herbie Hancock'                   0.614000   \n",
       " '黃國隆'                                         '王秋玉'                              0.711000   \n",
       "\n",
       "                                                                                duration_ms  \\\n",
       "artist1                                       artist2                                         \n",
       " \"'In The Heights' Original Broadway Company\"  'Mandy Gonzalez'               244067.000000   \n",
       " \"'Legally Blonde' Ensemble\"                   'Michael Rupert'               289960.000000   \n",
       " \"Amy Hanaiali'i\"                              'Willie K'                     203893.000000   \n",
       " \"Anita O'Day\"                                 'Billy May Orchestra'          259280.000000   \n",
       "                                               'Gene Krupa & His Orchestra'   174833.500000   \n",
       "...                                                                                     ...   \n",
       " '張琪'                                          '謝雷'                           223224.714286   \n",
       " '彭家麗'                                         'William So'                   268467.000000   \n",
       " '湯寶如'                                         'Jacky Cheung'                 252600.000000   \n",
       " '笠井 紀美子'                                      'Herbie Hancock'               428427.000000   \n",
       " '黃國隆'                                         '王秋玉'                          145720.000000   \n",
       "\n",
       "                                                                                energy  \\\n",
       "artist1                                       artist2                                    \n",
       " \"'In The Heights' Original Broadway Company\"  'Mandy Gonzalez'               0.242000   \n",
       " \"'Legally Blonde' Ensemble\"                   'Michael Rupert'               0.293000   \n",
       " \"Amy Hanaiali'i\"                              'Willie K'                     0.270000   \n",
       " \"Anita O'Day\"                                 'Billy May Orchestra'          0.181000   \n",
       "                                               'Gene Krupa & His Orchestra'   0.374500   \n",
       "...                                                                                ...   \n",
       " '張琪'                                          '謝雷'                           0.083629   \n",
       " '彭家麗'                                         'William So'                   0.503000   \n",
       " '湯寶如'                                         'Jacky Cheung'                 0.195000   \n",
       " '笠井 紀美子'                                      'Herbie Hancock'               0.761000   \n",
       " '黃國隆'                                         '王秋玉'                          0.111000   \n",
       "\n",
       "                                                                              explicit  \\\n",
       "artist1                                       artist2                                    \n",
       " \"'In The Heights' Original Broadway Company\"  'Mandy Gonzalez'                    0.0   \n",
       " \"'Legally Blonde' Ensemble\"                   'Michael Rupert'                    0.0   \n",
       " \"Amy Hanaiali'i\"                              'Willie K'                          0.0   \n",
       " \"Anita O'Day\"                                 'Billy May Orchestra'               0.0   \n",
       "                                               'Gene Krupa & His Orchestra'        0.0   \n",
       "...                                                                                ...   \n",
       " '張琪'                                          '謝雷'                                0.0   \n",
       " '彭家麗'                                         'William So'                        0.0   \n",
       " '湯寶如'                                         'Jacky Cheung'                      0.0   \n",
       " '笠井 紀美子'                                      'Herbie Hancock'                    0.0   \n",
       " '黃國隆'                                         '王秋玉'                               0.0   \n",
       "\n",
       "                                                                              instrumentalness  \\\n",
       "artist1                                       artist2                                            \n",
       " \"'In The Heights' Original Broadway Company\"  'Mandy Gonzalez'                       0.000000   \n",
       " \"'Legally Blonde' Ensemble\"                   'Michael Rupert'                       0.000000   \n",
       " \"Amy Hanaiali'i\"                              'Willie K'                             0.000528   \n",
       " \"Anita O'Day\"                                 'Billy May Orchestra'                  0.000000   \n",
       "                                               'Gene Krupa & His Orchestra'           0.000682   \n",
       "...                                                                                        ...   \n",
       " '張琪'                                          '謝雷'                                   0.136571   \n",
       " '彭家麗'                                         'William So'                           0.000000   \n",
       " '湯寶如'                                         'Jacky Cheung'                         0.000727   \n",
       " '笠井 紀美子'                                      'Herbie Hancock'                       0.618000   \n",
       " '黃國隆'                                         '王秋玉'                                  0.000000   \n",
       "\n",
       "                                                                                    key  \\\n",
       "artist1                                       artist2                                     \n",
       " \"'In The Heights' Original Broadway Company\"  'Mandy Gonzalez'               10.000000   \n",
       " \"'Legally Blonde' Ensemble\"                   'Michael Rupert'                1.000000   \n",
       " \"Amy Hanaiali'i\"                              'Willie K'                      2.000000   \n",
       " \"Anita O'Day\"                                 'Billy May Orchestra'           5.000000   \n",
       "                                               'Gene Krupa & His Orchestra'    3.500000   \n",
       "...                                                                                 ...   \n",
       " '張琪'                                          '謝雷'                            5.285714   \n",
       " '彭家麗'                                         'William So'                    2.000000   \n",
       " '湯寶如'                                         'Jacky Cheung'                 11.000000   \n",
       " '笠井 紀美子'                                      'Herbie Hancock'                8.000000   \n",
       " '黃國隆'                                         '王秋玉'                           2.000000   \n",
       "\n",
       "                                                                              liveness  \\\n",
       "artist1                                       artist2                                    \n",
       " \"'In The Heights' Original Broadway Company\"  'Mandy Gonzalez'               0.106000   \n",
       " \"'Legally Blonde' Ensemble\"                   'Michael Rupert'               0.334000   \n",
       " \"Amy Hanaiali'i\"                              'Willie K'                     0.151000   \n",
       " \"Anita O'Day\"                                 'Billy May Orchestra'          0.450000   \n",
       "                                               'Gene Krupa & His Orchestra'   0.090300   \n",
       "...                                                                                ...   \n",
       " '張琪'                                          '謝雷'                           0.194186   \n",
       " '彭家麗'                                         'William So'                   0.284000   \n",
       " '湯寶如'                                         'Jacky Cheung'                 0.105000   \n",
       " '笠井 紀美子'                                      'Herbie Hancock'               0.063000   \n",
       " '黃國隆'                                         '王秋玉'                          0.069500   \n",
       "\n",
       "                                                                               loudness  \\\n",
       "artist1                                       artist2                                     \n",
       " \"'In The Heights' Original Broadway Company\"  'Mandy Gonzalez'              -10.754000   \n",
       " \"'Legally Blonde' Ensemble\"                   'Michael Rupert'              -12.594000   \n",
       " \"Amy Hanaiali'i\"                              'Willie K'                    -14.275000   \n",
       " \"Anita O'Day\"                                 'Billy May Orchestra'         -12.428000   \n",
       "                                               'Gene Krupa & His Orchestra'   -8.343000   \n",
       "...                                                                                 ...   \n",
       " '張琪'                                          '謝雷'                          -22.136429   \n",
       " '彭家麗'                                         'William So'                   -8.416000   \n",
       " '湯寶如'                                         'Jacky Cheung'                -15.859000   \n",
       " '笠井 紀美子'                                      'Herbie Hancock'              -14.346000   \n",
       " '黃國隆'                                         '王秋玉'                         -20.741000   \n",
       "\n",
       "                                                                              mode  \\\n",
       "artist1                                       artist2                                \n",
       " \"'In The Heights' Original Broadway Company\"  'Mandy Gonzalez'                1.0   \n",
       " \"'Legally Blonde' Ensemble\"                   'Michael Rupert'                1.0   \n",
       " \"Amy Hanaiali'i\"                              'Willie K'                      1.0   \n",
       " \"Anita O'Day\"                                 'Billy May Orchestra'           1.0   \n",
       "                                               'Gene Krupa & His Orchestra'    0.5   \n",
       "...                                                                            ...   \n",
       " '張琪'                                          '謝雷'                            1.0   \n",
       " '彭家麗'                                         'William So'                    1.0   \n",
       " '湯寶如'                                         'Jacky Cheung'                  0.0   \n",
       " '笠井 紀美子'                                      'Herbie Hancock'                0.0   \n",
       " '黃國隆'                                         '王秋玉'                           0.0   \n",
       "\n",
       "                                                                              popularity  \\\n",
       "artist1                                       artist2                                      \n",
       " \"'In The Heights' Original Broadway Company\"  'Mandy Gonzalez'                54.000000   \n",
       " \"'Legally Blonde' Ensemble\"                   'Michael Rupert'                44.000000   \n",
       " \"Amy Hanaiali'i\"                              'Willie K'                      37.000000   \n",
       " \"Anita O'Day\"                                 'Billy May Orchestra'           19.000000   \n",
       "                                               'Gene Krupa & His Orchestra'    17.000000   \n",
       "...                                                                                  ...   \n",
       " '張琪'                                          '謝雷'                            20.857143   \n",
       " '彭家麗'                                         'William So'                    46.000000   \n",
       " '湯寶如'                                         'Jacky Cheung'                  40.000000   \n",
       " '笠井 紀美子'                                      'Herbie Hancock'                38.000000   \n",
       " '黃國隆'                                         '王秋玉'                           20.000000   \n",
       "\n",
       "                                                                              speechiness  \\\n",
       "artist1                                       artist2                                       \n",
       " \"'In The Heights' Original Broadway Company\"  'Mandy Gonzalez'                    0.0663   \n",
       " \"'Legally Blonde' Ensemble\"                   'Michael Rupert'                    0.4790   \n",
       " \"Amy Hanaiali'i\"                              'Willie K'                          0.0328   \n",
       " \"Anita O'Day\"                                 'Billy May Orchestra'               0.0323   \n",
       "                                               'Gene Krupa & His Orchestra'        0.0384   \n",
       "...                                                                                   ...   \n",
       " '張琪'                                          '謝雷'                                0.0492   \n",
       " '彭家麗'                                         'William So'                        0.0405   \n",
       " '湯寶如'                                         'Jacky Cheung'                      0.0336   \n",
       " '笠井 紀美子'                                      'Herbie Hancock'                    0.0476   \n",
       " '黃國隆'                                         '王秋玉'                               0.0697   \n",
       "\n",
       "                                                                                   tempo  \\\n",
       "artist1                                       artist2                                      \n",
       " \"'In The Heights' Original Broadway Company\"  'Mandy Gonzalez'               171.747000   \n",
       " \"'Legally Blonde' Ensemble\"                   'Michael Rupert'               139.609000   \n",
       " \"Amy Hanaiali'i\"                              'Willie K'                     149.527000   \n",
       " \"Anita O'Day\"                                 'Billy May Orchestra'          142.860000   \n",
       "                                               'Gene Krupa & His Orchestra'   106.698500   \n",
       "...                                                                                  ...   \n",
       " '張琪'                                          '謝雷'                           116.606571   \n",
       " '彭家麗'                                         'William So'                   134.027000   \n",
       " '湯寶如'                                         'Jacky Cheung'                 159.864000   \n",
       " '笠井 紀美子'                                      'Herbie Hancock'               122.889000   \n",
       " '黃國隆'                                         '王秋玉'                          124.273000   \n",
       "\n",
       "                                                                              valence  \\\n",
       "artist1                                       artist2                                   \n",
       " \"'In The Heights' Original Broadway Company\"  'Mandy Gonzalez'                0.1440   \n",
       " \"'Legally Blonde' Ensemble\"                   'Michael Rupert'                0.5100   \n",
       " \"Amy Hanaiali'i\"                              'Willie K'                      0.3700   \n",
       " \"Anita O'Day\"                                 'Billy May Orchestra'           0.3140   \n",
       "                                               'Gene Krupa & His Orchestra'    0.7205   \n",
       "...                                                                               ...   \n",
       " '張琪'                                          '謝雷'                            0.4830   \n",
       " '彭家麗'                                         'William So'                    0.3180   \n",
       " '湯寶如'                                         'Jacky Cheung'                  0.1190   \n",
       " '笠井 紀美子'                                      'Herbie Hancock'                0.8810   \n",
       " '黃國隆'                                         '王秋玉'                           0.7960   \n",
       "\n",
       "                                                                                     year  \\\n",
       "artist1                                       artist2                                       \n",
       " \"'In The Heights' Original Broadway Company\"  'Mandy Gonzalez'               2008.000000   \n",
       " \"'Legally Blonde' Ensemble\"                   'Michael Rupert'               2007.000000   \n",
       " \"Amy Hanaiali'i\"                              'Willie K'                     1998.000000   \n",
       " \"Anita O'Day\"                                 'Billy May Orchestra'          1960.000000   \n",
       "                                               'Gene Krupa & His Orchestra'   1941.000000   \n",
       "...                                                                                   ...   \n",
       " '張琪'                                          '謝雷'                           1965.142857   \n",
       " '彭家麗'                                         'William So'                   1991.000000   \n",
       " '湯寶如'                                         'Jacky Cheung'                 1992.000000   \n",
       " '笠井 紀美子'                                      'Herbie Hancock'               1979.000000   \n",
       " '黃國隆'                                         '王秋玉'                          1963.000000   \n",
       "\n",
       "                                                                              nombre_artistes  \n",
       "artist1                                       artist2                                          \n",
       " \"'In The Heights' Original Broadway Company\"  'Mandy Gonzalez'                           2.0  \n",
       " \"'Legally Blonde' Ensemble\"                   'Michael Rupert'                           2.0  \n",
       " \"Amy Hanaiali'i\"                              'Willie K'                                 2.0  \n",
       " \"Anita O'Day\"                                 'Billy May Orchestra'                      2.0  \n",
       "                                               'Gene Krupa & His Orchestra'               2.0  \n",
       "...                                                                                       ...  \n",
       " '張琪'                                          '謝雷'                                       2.0  \n",
       " '彭家麗'                                         'William So'                               2.0  \n",
       " '湯寶如'                                         'Jacky Cheung'                             2.0  \n",
       " '笠井 紀美子'                                      'Herbie Hancock'                           2.0  \n",
       " '黃國隆'                                         '王秋玉'                                      2.0  \n",
       "\n",
       "[9667 rows x 16 columns]"
      ],
      "text/html": "<div>\n<style scoped>\n    .dataframe tbody tr th:only-of-type {\n        vertical-align: middle;\n    }\n\n    .dataframe tbody tr th {\n        vertical-align: top;\n    }\n\n    .dataframe thead th {\n        text-align: right;\n    }\n</style>\n<table border=\"1\" class=\"dataframe\">\n  <thead>\n    <tr style=\"text-align: right;\">\n      <th></th>\n      <th></th>\n      <th>acousticness</th>\n      <th>danceability</th>\n      <th>duration_ms</th>\n      <th>energy</th>\n      <th>explicit</th>\n      <th>instrumentalness</th>\n      <th>key</th>\n      <th>liveness</th>\n      <th>loudness</th>\n      <th>mode</th>\n      <th>popularity</th>\n      <th>speechiness</th>\n      <th>tempo</th>\n      <th>valence</th>\n      <th>year</th>\n      <th>nombre_artistes</th>\n    </tr>\n    <tr>\n      <th>artist1</th>\n      <th>artist2</th>\n      <th></th>\n      <th></th>\n      <th></th>\n      <th></th>\n      <th></th>\n      <th></th>\n      <th></th>\n      <th></th>\n      <th></th>\n      <th></th>\n      <th></th>\n      <th></th>\n      <th></th>\n      <th></th>\n      <th></th>\n      <th></th>\n    </tr>\n  </thead>\n  <tbody>\n    <tr>\n      <th>\"'In The Heights' Original Broadway Company\"</th>\n      <th>'Mandy Gonzalez'</th>\n      <td>0.848000</td>\n      <td>0.397000</td>\n      <td>244067.000000</td>\n      <td>0.242000</td>\n      <td>0.0</td>\n      <td>0.000000</td>\n      <td>10.000000</td>\n      <td>0.106000</td>\n      <td>-10.754000</td>\n      <td>1.0</td>\n      <td>54.000000</td>\n      <td>0.0663</td>\n      <td>171.747000</td>\n      <td>0.1440</td>\n      <td>2008.000000</td>\n      <td>2.0</td>\n    </tr>\n    <tr>\n      <th>\"'Legally Blonde' Ensemble\"</th>\n      <th>'Michael Rupert'</th>\n      <td>0.647000</td>\n      <td>0.578000</td>\n      <td>289960.000000</td>\n      <td>0.293000</td>\n      <td>0.0</td>\n      <td>0.000000</td>\n      <td>1.000000</td>\n      <td>0.334000</td>\n      <td>-12.594000</td>\n      <td>1.0</td>\n      <td>44.000000</td>\n      <td>0.4790</td>\n      <td>139.609000</td>\n      <td>0.5100</td>\n      <td>2007.000000</td>\n      <td>2.0</td>\n    </tr>\n    <tr>\n      <th>\"Amy Hanaiali'i\"</th>\n      <th>'Willie K'</th>\n      <td>0.580000</td>\n      <td>0.391000</td>\n      <td>203893.000000</td>\n      <td>0.270000</td>\n      <td>0.0</td>\n      <td>0.000528</td>\n      <td>2.000000</td>\n      <td>0.151000</td>\n      <td>-14.275000</td>\n      <td>1.0</td>\n      <td>37.000000</td>\n      <td>0.0328</td>\n      <td>149.527000</td>\n      <td>0.3700</td>\n      <td>1998.000000</td>\n      <td>2.0</td>\n    </tr>\n    <tr>\n      <th rowspan=\"2\" valign=\"top\">\"Anita O'Day\"</th>\n      <th>'Billy May Orchestra'</th>\n      <td>0.904000</td>\n      <td>0.343000</td>\n      <td>259280.000000</td>\n      <td>0.181000</td>\n      <td>0.0</td>\n      <td>0.000000</td>\n      <td>5.000000</td>\n      <td>0.450000</td>\n      <td>-12.428000</td>\n      <td>1.0</td>\n      <td>19.000000</td>\n      <td>0.0323</td>\n      <td>142.860000</td>\n      <td>0.3140</td>\n      <td>1960.000000</td>\n      <td>2.0</td>\n    </tr>\n    <tr>\n      <th>'Gene Krupa &amp; His Orchestra'</th>\n      <td>0.864500</td>\n      <td>0.608000</td>\n      <td>174833.500000</td>\n      <td>0.374500</td>\n      <td>0.0</td>\n      <td>0.000682</td>\n      <td>3.500000</td>\n      <td>0.090300</td>\n      <td>-8.343000</td>\n      <td>0.5</td>\n      <td>17.000000</td>\n      <td>0.0384</td>\n      <td>106.698500</td>\n      <td>0.7205</td>\n      <td>1941.000000</td>\n      <td>2.0</td>\n    </tr>\n    <tr>\n      <th>...</th>\n      <th>...</th>\n      <td>...</td>\n      <td>...</td>\n      <td>...</td>\n      <td>...</td>\n      <td>...</td>\n      <td>...</td>\n      <td>...</td>\n      <td>...</td>\n      <td>...</td>\n      <td>...</td>\n      <td>...</td>\n      <td>...</td>\n      <td>...</td>\n      <td>...</td>\n      <td>...</td>\n      <td>...</td>\n    </tr>\n    <tr>\n      <th>'張琪'</th>\n      <th>'謝雷'</th>\n      <td>0.911714</td>\n      <td>0.470286</td>\n      <td>223224.714286</td>\n      <td>0.083629</td>\n      <td>0.0</td>\n      <td>0.136571</td>\n      <td>5.285714</td>\n      <td>0.194186</td>\n      <td>-22.136429</td>\n      <td>1.0</td>\n      <td>20.857143</td>\n      <td>0.0492</td>\n      <td>116.606571</td>\n      <td>0.4830</td>\n      <td>1965.142857</td>\n      <td>2.0</td>\n    </tr>\n    <tr>\n      <th>'彭家麗'</th>\n      <th>'William So'</th>\n      <td>0.661000</td>\n      <td>0.673000</td>\n      <td>268467.000000</td>\n      <td>0.503000</td>\n      <td>0.0</td>\n      <td>0.000000</td>\n      <td>2.000000</td>\n      <td>0.284000</td>\n      <td>-8.416000</td>\n      <td>1.0</td>\n      <td>46.000000</td>\n      <td>0.0405</td>\n      <td>134.027000</td>\n      <td>0.3180</td>\n      <td>1991.000000</td>\n      <td>2.0</td>\n    </tr>\n    <tr>\n      <th>'湯寶如'</th>\n      <th>'Jacky Cheung'</th>\n      <td>0.839000</td>\n      <td>0.371000</td>\n      <td>252600.000000</td>\n      <td>0.195000</td>\n      <td>0.0</td>\n      <td>0.000727</td>\n      <td>11.000000</td>\n      <td>0.105000</td>\n      <td>-15.859000</td>\n      <td>0.0</td>\n      <td>40.000000</td>\n      <td>0.0336</td>\n      <td>159.864000</td>\n      <td>0.1190</td>\n      <td>1992.000000</td>\n      <td>2.0</td>\n    </tr>\n    <tr>\n      <th>'笠井 紀美子'</th>\n      <th>'Herbie Hancock'</th>\n      <td>0.085600</td>\n      <td>0.614000</td>\n      <td>428427.000000</td>\n      <td>0.761000</td>\n      <td>0.0</td>\n      <td>0.618000</td>\n      <td>8.000000</td>\n      <td>0.063000</td>\n      <td>-14.346000</td>\n      <td>0.0</td>\n      <td>38.000000</td>\n      <td>0.0476</td>\n      <td>122.889000</td>\n      <td>0.8810</td>\n      <td>1979.000000</td>\n      <td>2.0</td>\n    </tr>\n    <tr>\n      <th>'黃國隆'</th>\n      <th>'王秋玉'</th>\n      <td>0.852000</td>\n      <td>0.711000</td>\n      <td>145720.000000</td>\n      <td>0.111000</td>\n      <td>0.0</td>\n      <td>0.000000</td>\n      <td>2.000000</td>\n      <td>0.069500</td>\n      <td>-20.741000</td>\n      <td>0.0</td>\n      <td>20.000000</td>\n      <td>0.0697</td>\n      <td>124.273000</td>\n      <td>0.7960</td>\n      <td>1963.000000</td>\n      <td>2.0</td>\n    </tr>\n  </tbody>\n</table>\n<p>9667 rows × 16 columns</p>\n</div>"
     },
     "metadata": {},
     "execution_count": 26
    }
   ],
   "source": [
    "duo.groupby(['artist1','artist2']).mean()"
   ]
  },
  {
   "cell_type": "markdown",
   "metadata": {},
   "source": [
    "<br> On voudrait zoomer sur un artiste en particulier pour voir les pistes duos qu'il a sorti, et analyser par la suite leur succès. Filtrer sur un artiste de votre choix qui répond au critère suivant: Il y a des piste où il est artiste 1 et d'autres où il est artiste 2. "
   ]
  },
  {
   "cell_type": "code",
   "execution_count": 27,
   "metadata": {},
   "outputs": [
    {
     "output_type": "stream",
     "name": "stdout",
     "text": [
      "(1270, 22)\n(1, 22)\n"
     ]
    }
   ],
   "source": [
    "print(duo[duo['artist1'].str.contains('Francisco Canaro')].shape)\n",
    "print(duo[duo['artist2'].str.contains('Francisco Canaro')].shape)\n",
    "#francisco canaro figure à la fois en 'artiste1' et en 'artiste 2'"
   ]
  },
  {
   "cell_type": "markdown",
   "metadata": {},
   "source": [
    "<br> Créer deux Dataframe: une où votre artiste choisi est artiste 1, l'autre où il est artiste 2. "
   ]
  },
  {
   "cell_type": "code",
   "execution_count": 28,
   "metadata": {},
   "outputs": [
    {
     "output_type": "execute_result",
     "data": {
      "text/plain": [
       "        acousticness                                 artists  danceability  \\\n",
       "8              0.995           'Francisco Canaro', 'Charlo'          0.683   \n",
       "17             0.994      'Francisco Canaro', 'Luis Scalon'          0.787   \n",
       "24             0.988           'Francisco Canaro', 'Charlo'          0.699   \n",
       "30             0.995           'Francisco Canaro', 'Charlo'          0.767   \n",
       "36             0.994           'Francisco Canaro', 'Charlo'          0.801   \n",
       "...              ...                                     ...           ...   \n",
       "162507         0.875   'Francisco Canaro', 'Alberto Arenas'          0.484   \n",
       "162556         0.967   'Francisco Canaro', 'Alberto Arenas'          0.552   \n",
       "162652         0.975   'Francisco Canaro', 'Alberto Arenas'          0.433   \n",
       "162846         0.983       'Francisco Canaro', 'Nelly Omar'          0.533   \n",
       "162964         0.991     'Francisco Canaro', 'Mario Alonso'          0.600   \n",
       "\n",
       "        duration_ms  energy  explicit                      id  \\\n",
       "8            162493   0.207         0  6OaJ8Bh7lsBeYoBmwmo2nh   \n",
       "17           167107   0.156         0  6TFuAErGpJ9FpxQQ1HC8nM   \n",
       "24           166000   0.221         0  6W7iUeL4W0WVIF1BEOCswF   \n",
       "30           177507   0.230         0  6XbXjlJZxRZslzXDh115DL   \n",
       "36           166493   0.113         0  6aBzlB3FTioN5vCTfdswr8   \n",
       "...             ...     ...       ...                     ...   \n",
       "162507       182493   0.398         0  4PyQeyqIorvOeWokdXHzcN   \n",
       "162556       142307   0.395         0  4ioZqiIVlH55dqVy6qzpmu   \n",
       "162652       201907   0.341         0  4imfF3yZBDGgQSARQu05ny   \n",
       "162846       175680   0.301         0  1cplAnMplKHnwQA5GR0Hpc   \n",
       "162964       200507   0.198         0  0yeMCKs4iR1UULs7yBT3Cy   \n",
       "\n",
       "        instrumentalness  key  liveness  ...  \\\n",
       "8                 0.2060    9    0.3370  ...   \n",
       "17                0.6590    4    0.1100  ...   \n",
       "24                0.0725   11    0.1420  ...   \n",
       "30                0.6050    2    0.1330  ...   \n",
       "36                0.2060    4    0.1290  ...   \n",
       "...                  ...  ...       ...  ...   \n",
       "162507            0.0992    3    0.1830  ...   \n",
       "162556            0.2070    2    0.0491  ...   \n",
       "162652            0.3570    5    0.0784  ...   \n",
       "162846            0.0712    8    0.1360  ...   \n",
       "162964            0.9020    0    0.1080  ...   \n",
       "\n",
       "                                               name  popularity release_date  \\\n",
       "8                  Moneda Corriente - Remasterizado           0   1928-10-03   \n",
       "17              Invocación al Tango - Remasterizado           0   1928-09-16   \n",
       "24                      El Espejito - Remasterizado           0   1928-09-20   \n",
       "30                   Venite Conmigo - Remasterizado           0   1928-09-25   \n",
       "36                    Por Esta Cruz - Remasterizado           0   1928-09-20   \n",
       "...                                             ...         ...          ...   \n",
       "162507                    Yira Yira - Remasterizado           0   1946-03-13   \n",
       "162556  Sin Embargo No Estoy Triste - Remasterizado           0   1946-03-13   \n",
       "162652  La Melodía de Nuestro Adiós - Remasterizado           0   1947-03-15   \n",
       "162846           Nobleza de Arrabal - Remasterizado           0   1949-03-14   \n",
       "162964              Yo También Soñé - Remasterizado           0   1951-03-14   \n",
       "\n",
       "        speechiness    tempo  valence  year  nombre_artistes  \\\n",
       "8            0.1270  119.833    0.493  1928                2   \n",
       "17           0.1570  117.167    0.849  1928                2   \n",
       "24           0.1150  117.899    0.782  1928                2   \n",
       "30           0.1990  119.985    0.868  1928                2   \n",
       "36           0.0837  117.063    0.672  1928                2   \n",
       "...             ...      ...      ...   ...              ...   \n",
       "162507       0.0419  123.604    0.652  1946                2   \n",
       "162556       0.0487  126.531    0.742  1946                2   \n",
       "162652       0.0410  129.104    0.507  1947                2   \n",
       "162846       0.0690   89.405    0.657  1949                2   \n",
       "162964       0.0645  131.552    0.341  1951                2   \n",
       "\n",
       "                    artist1             artist2  \n",
       "8        'Francisco Canaro'           'Charlo'   \n",
       "17       'Francisco Canaro'      'Luis Scalon'   \n",
       "24       'Francisco Canaro'           'Charlo'   \n",
       "30       'Francisco Canaro'           'Charlo'   \n",
       "36       'Francisco Canaro'           'Charlo'   \n",
       "...                     ...                 ...  \n",
       "162507   'Francisco Canaro'   'Alberto Arenas'   \n",
       "162556   'Francisco Canaro'   'Alberto Arenas'   \n",
       "162652   'Francisco Canaro'   'Alberto Arenas'   \n",
       "162846   'Francisco Canaro'       'Nelly Omar'   \n",
       "162964   'Francisco Canaro'     'Mario Alonso'   \n",
       "\n",
       "[1270 rows x 22 columns]"
      ],
      "text/html": "<div>\n<style scoped>\n    .dataframe tbody tr th:only-of-type {\n        vertical-align: middle;\n    }\n\n    .dataframe tbody tr th {\n        vertical-align: top;\n    }\n\n    .dataframe thead th {\n        text-align: right;\n    }\n</style>\n<table border=\"1\" class=\"dataframe\">\n  <thead>\n    <tr style=\"text-align: right;\">\n      <th></th>\n      <th>acousticness</th>\n      <th>artists</th>\n      <th>danceability</th>\n      <th>duration_ms</th>\n      <th>energy</th>\n      <th>explicit</th>\n      <th>id</th>\n      <th>instrumentalness</th>\n      <th>key</th>\n      <th>liveness</th>\n      <th>...</th>\n      <th>name</th>\n      <th>popularity</th>\n      <th>release_date</th>\n      <th>speechiness</th>\n      <th>tempo</th>\n      <th>valence</th>\n      <th>year</th>\n      <th>nombre_artistes</th>\n      <th>artist1</th>\n      <th>artist2</th>\n    </tr>\n  </thead>\n  <tbody>\n    <tr>\n      <th>8</th>\n      <td>0.995</td>\n      <td>'Francisco Canaro', 'Charlo'</td>\n      <td>0.683</td>\n      <td>162493</td>\n      <td>0.207</td>\n      <td>0</td>\n      <td>6OaJ8Bh7lsBeYoBmwmo2nh</td>\n      <td>0.2060</td>\n      <td>9</td>\n      <td>0.3370</td>\n      <td>...</td>\n      <td>Moneda Corriente - Remasterizado</td>\n      <td>0</td>\n      <td>1928-10-03</td>\n      <td>0.1270</td>\n      <td>119.833</td>\n      <td>0.493</td>\n      <td>1928</td>\n      <td>2</td>\n      <td>'Francisco Canaro'</td>\n      <td>'Charlo'</td>\n    </tr>\n    <tr>\n      <th>17</th>\n      <td>0.994</td>\n      <td>'Francisco Canaro', 'Luis Scalon'</td>\n      <td>0.787</td>\n      <td>167107</td>\n      <td>0.156</td>\n      <td>0</td>\n      <td>6TFuAErGpJ9FpxQQ1HC8nM</td>\n      <td>0.6590</td>\n      <td>4</td>\n      <td>0.1100</td>\n      <td>...</td>\n      <td>Invocación al Tango - Remasterizado</td>\n      <td>0</td>\n      <td>1928-09-16</td>\n      <td>0.1570</td>\n      <td>117.167</td>\n      <td>0.849</td>\n      <td>1928</td>\n      <td>2</td>\n      <td>'Francisco Canaro'</td>\n      <td>'Luis Scalon'</td>\n    </tr>\n    <tr>\n      <th>24</th>\n      <td>0.988</td>\n      <td>'Francisco Canaro', 'Charlo'</td>\n      <td>0.699</td>\n      <td>166000</td>\n      <td>0.221</td>\n      <td>0</td>\n      <td>6W7iUeL4W0WVIF1BEOCswF</td>\n      <td>0.0725</td>\n      <td>11</td>\n      <td>0.1420</td>\n      <td>...</td>\n      <td>El Espejito - Remasterizado</td>\n      <td>0</td>\n      <td>1928-09-20</td>\n      <td>0.1150</td>\n      <td>117.899</td>\n      <td>0.782</td>\n      <td>1928</td>\n      <td>2</td>\n      <td>'Francisco Canaro'</td>\n      <td>'Charlo'</td>\n    </tr>\n    <tr>\n      <th>30</th>\n      <td>0.995</td>\n      <td>'Francisco Canaro', 'Charlo'</td>\n      <td>0.767</td>\n      <td>177507</td>\n      <td>0.230</td>\n      <td>0</td>\n      <td>6XbXjlJZxRZslzXDh115DL</td>\n      <td>0.6050</td>\n      <td>2</td>\n      <td>0.1330</td>\n      <td>...</td>\n      <td>Venite Conmigo - Remasterizado</td>\n      <td>0</td>\n      <td>1928-09-25</td>\n      <td>0.1990</td>\n      <td>119.985</td>\n      <td>0.868</td>\n      <td>1928</td>\n      <td>2</td>\n      <td>'Francisco Canaro'</td>\n      <td>'Charlo'</td>\n    </tr>\n    <tr>\n      <th>36</th>\n      <td>0.994</td>\n      <td>'Francisco Canaro', 'Charlo'</td>\n      <td>0.801</td>\n      <td>166493</td>\n      <td>0.113</td>\n      <td>0</td>\n      <td>6aBzlB3FTioN5vCTfdswr8</td>\n      <td>0.2060</td>\n      <td>4</td>\n      <td>0.1290</td>\n      <td>...</td>\n      <td>Por Esta Cruz - Remasterizado</td>\n      <td>0</td>\n      <td>1928-09-20</td>\n      <td>0.0837</td>\n      <td>117.063</td>\n      <td>0.672</td>\n      <td>1928</td>\n      <td>2</td>\n      <td>'Francisco Canaro'</td>\n      <td>'Charlo'</td>\n    </tr>\n    <tr>\n      <th>...</th>\n      <td>...</td>\n      <td>...</td>\n      <td>...</td>\n      <td>...</td>\n      <td>...</td>\n      <td>...</td>\n      <td>...</td>\n      <td>...</td>\n      <td>...</td>\n      <td>...</td>\n      <td>...</td>\n      <td>...</td>\n      <td>...</td>\n      <td>...</td>\n      <td>...</td>\n      <td>...</td>\n      <td>...</td>\n      <td>...</td>\n      <td>...</td>\n      <td>...</td>\n      <td>...</td>\n    </tr>\n    <tr>\n      <th>162507</th>\n      <td>0.875</td>\n      <td>'Francisco Canaro', 'Alberto Arenas'</td>\n      <td>0.484</td>\n      <td>182493</td>\n      <td>0.398</td>\n      <td>0</td>\n      <td>4PyQeyqIorvOeWokdXHzcN</td>\n      <td>0.0992</td>\n      <td>3</td>\n      <td>0.1830</td>\n      <td>...</td>\n      <td>Yira Yira - Remasterizado</td>\n      <td>0</td>\n      <td>1946-03-13</td>\n      <td>0.0419</td>\n      <td>123.604</td>\n      <td>0.652</td>\n      <td>1946</td>\n      <td>2</td>\n      <td>'Francisco Canaro'</td>\n      <td>'Alberto Arenas'</td>\n    </tr>\n    <tr>\n      <th>162556</th>\n      <td>0.967</td>\n      <td>'Francisco Canaro', 'Alberto Arenas'</td>\n      <td>0.552</td>\n      <td>142307</td>\n      <td>0.395</td>\n      <td>0</td>\n      <td>4ioZqiIVlH55dqVy6qzpmu</td>\n      <td>0.2070</td>\n      <td>2</td>\n      <td>0.0491</td>\n      <td>...</td>\n      <td>Sin Embargo No Estoy Triste - Remasterizado</td>\n      <td>0</td>\n      <td>1946-03-13</td>\n      <td>0.0487</td>\n      <td>126.531</td>\n      <td>0.742</td>\n      <td>1946</td>\n      <td>2</td>\n      <td>'Francisco Canaro'</td>\n      <td>'Alberto Arenas'</td>\n    </tr>\n    <tr>\n      <th>162652</th>\n      <td>0.975</td>\n      <td>'Francisco Canaro', 'Alberto Arenas'</td>\n      <td>0.433</td>\n      <td>201907</td>\n      <td>0.341</td>\n      <td>0</td>\n      <td>4imfF3yZBDGgQSARQu05ny</td>\n      <td>0.3570</td>\n      <td>5</td>\n      <td>0.0784</td>\n      <td>...</td>\n      <td>La Melodía de Nuestro Adiós - Remasterizado</td>\n      <td>0</td>\n      <td>1947-03-15</td>\n      <td>0.0410</td>\n      <td>129.104</td>\n      <td>0.507</td>\n      <td>1947</td>\n      <td>2</td>\n      <td>'Francisco Canaro'</td>\n      <td>'Alberto Arenas'</td>\n    </tr>\n    <tr>\n      <th>162846</th>\n      <td>0.983</td>\n      <td>'Francisco Canaro', 'Nelly Omar'</td>\n      <td>0.533</td>\n      <td>175680</td>\n      <td>0.301</td>\n      <td>0</td>\n      <td>1cplAnMplKHnwQA5GR0Hpc</td>\n      <td>0.0712</td>\n      <td>8</td>\n      <td>0.1360</td>\n      <td>...</td>\n      <td>Nobleza de Arrabal - Remasterizado</td>\n      <td>0</td>\n      <td>1949-03-14</td>\n      <td>0.0690</td>\n      <td>89.405</td>\n      <td>0.657</td>\n      <td>1949</td>\n      <td>2</td>\n      <td>'Francisco Canaro'</td>\n      <td>'Nelly Omar'</td>\n    </tr>\n    <tr>\n      <th>162964</th>\n      <td>0.991</td>\n      <td>'Francisco Canaro', 'Mario Alonso'</td>\n      <td>0.600</td>\n      <td>200507</td>\n      <td>0.198</td>\n      <td>0</td>\n      <td>0yeMCKs4iR1UULs7yBT3Cy</td>\n      <td>0.9020</td>\n      <td>0</td>\n      <td>0.1080</td>\n      <td>...</td>\n      <td>Yo También Soñé - Remasterizado</td>\n      <td>0</td>\n      <td>1951-03-14</td>\n      <td>0.0645</td>\n      <td>131.552</td>\n      <td>0.341</td>\n      <td>1951</td>\n      <td>2</td>\n      <td>'Francisco Canaro'</td>\n      <td>'Mario Alonso'</td>\n    </tr>\n  </tbody>\n</table>\n<p>1270 rows × 22 columns</p>\n</div>"
     },
     "metadata": {},
     "execution_count": 28
    }
   ],
   "source": [
    "art1 = duo[duo['artist1'].str.contains('Francisco Canaro')]\n",
    "art1"
   ]
  },
  {
   "cell_type": "code",
   "execution_count": 29,
   "metadata": {},
   "outputs": [
    {
     "output_type": "execute_result",
     "data": {
      "text/plain": [
       "       acousticness                                            artists  \\\n",
       "73894         0.856   'Tita Merello', 'Francisco Canaro Y Su Orques...   \n",
       "\n",
       "       danceability  duration_ms  energy  explicit                      id  \\\n",
       "73894         0.583       208133   0.528         0  7rb5qQHrnnwUwS4udW6J8H   \n",
       "\n",
       "       instrumentalness  key  liveness  ...           name  popularity  \\\n",
       "73894               0.0    4     0.527  ...  Se Dice De Mi          42   \n",
       "\n",
       "      release_date  speechiness   tempo  valence  year  nombre_artistes  \\\n",
       "73894   1979-01-01        0.268  92.766    0.446  1979                2   \n",
       "\n",
       "               artist1                                    artist2  \n",
       "73894   'Tita Merello'   'Francisco Canaro Y Su Orquesta Tipica'   \n",
       "\n",
       "[1 rows x 22 columns]"
      ],
      "text/html": "<div>\n<style scoped>\n    .dataframe tbody tr th:only-of-type {\n        vertical-align: middle;\n    }\n\n    .dataframe tbody tr th {\n        vertical-align: top;\n    }\n\n    .dataframe thead th {\n        text-align: right;\n    }\n</style>\n<table border=\"1\" class=\"dataframe\">\n  <thead>\n    <tr style=\"text-align: right;\">\n      <th></th>\n      <th>acousticness</th>\n      <th>artists</th>\n      <th>danceability</th>\n      <th>duration_ms</th>\n      <th>energy</th>\n      <th>explicit</th>\n      <th>id</th>\n      <th>instrumentalness</th>\n      <th>key</th>\n      <th>liveness</th>\n      <th>...</th>\n      <th>name</th>\n      <th>popularity</th>\n      <th>release_date</th>\n      <th>speechiness</th>\n      <th>tempo</th>\n      <th>valence</th>\n      <th>year</th>\n      <th>nombre_artistes</th>\n      <th>artist1</th>\n      <th>artist2</th>\n    </tr>\n  </thead>\n  <tbody>\n    <tr>\n      <th>73894</th>\n      <td>0.856</td>\n      <td>'Tita Merello', 'Francisco Canaro Y Su Orques...</td>\n      <td>0.583</td>\n      <td>208133</td>\n      <td>0.528</td>\n      <td>0</td>\n      <td>7rb5qQHrnnwUwS4udW6J8H</td>\n      <td>0.0</td>\n      <td>4</td>\n      <td>0.527</td>\n      <td>...</td>\n      <td>Se Dice De Mi</td>\n      <td>42</td>\n      <td>1979-01-01</td>\n      <td>0.268</td>\n      <td>92.766</td>\n      <td>0.446</td>\n      <td>1979</td>\n      <td>2</td>\n      <td>'Tita Merello'</td>\n      <td>'Francisco Canaro Y Su Orquesta Tipica'</td>\n    </tr>\n  </tbody>\n</table>\n<p>1 rows × 22 columns</p>\n</div>"
     },
     "metadata": {},
     "execution_count": 29
    }
   ],
   "source": [
    "art2 = duo[duo['artist2'].str.contains('Francisco Canaro')]\n",
    "art2"
   ]
  },
  {
   "cell_type": "markdown",
   "metadata": {},
   "source": [
    "<br> Dans une nouvelle Dataframe __df_artiste_duo__, fusionner les deux dataframe de manière à avoir votre artiste dans la colonne artiste 1. Quelles méthodes peut-on suivre? Quelle est la plus optimale?\n",
    "\n",
    "Cette nouvelle Dataframe nous servira à analyser les pistes duos de notre artiste dans plus de détails. "
   ]
  },
  {
   "cell_type": "code",
   "execution_count": 30,
   "metadata": {},
   "outputs": [
    {
     "output_type": "execute_result",
     "data": {
      "text/plain": [
       "        acousticness                                            artists  \\\n",
       "8              0.995                      'Francisco Canaro', 'Charlo'    \n",
       "17             0.994                 'Francisco Canaro', 'Luis Scalon'    \n",
       "24             0.988                      'Francisco Canaro', 'Charlo'    \n",
       "30             0.995                      'Francisco Canaro', 'Charlo'    \n",
       "36             0.994                      'Francisco Canaro', 'Charlo'    \n",
       "...              ...                                                ...   \n",
       "162556         0.967              'Francisco Canaro', 'Alberto Arenas'    \n",
       "162652         0.975              'Francisco Canaro', 'Alberto Arenas'    \n",
       "162846         0.983                  'Francisco Canaro', 'Nelly Omar'    \n",
       "162964         0.991                'Francisco Canaro', 'Mario Alonso'    \n",
       "73894          0.856   'Tita Merello', 'Francisco Canaro Y Su Orques...   \n",
       "\n",
       "        danceability  duration_ms  energy  explicit                      id  \\\n",
       "8              0.683       162493   0.207         0  6OaJ8Bh7lsBeYoBmwmo2nh   \n",
       "17             0.787       167107   0.156         0  6TFuAErGpJ9FpxQQ1HC8nM   \n",
       "24             0.699       166000   0.221         0  6W7iUeL4W0WVIF1BEOCswF   \n",
       "30             0.767       177507   0.230         0  6XbXjlJZxRZslzXDh115DL   \n",
       "36             0.801       166493   0.113         0  6aBzlB3FTioN5vCTfdswr8   \n",
       "...              ...          ...     ...       ...                     ...   \n",
       "162556         0.552       142307   0.395         0  4ioZqiIVlH55dqVy6qzpmu   \n",
       "162652         0.433       201907   0.341         0  4imfF3yZBDGgQSARQu05ny   \n",
       "162846         0.533       175680   0.301         0  1cplAnMplKHnwQA5GR0Hpc   \n",
       "162964         0.600       200507   0.198         0  0yeMCKs4iR1UULs7yBT3Cy   \n",
       "73894          0.583       208133   0.528         0  7rb5qQHrnnwUwS4udW6J8H   \n",
       "\n",
       "        instrumentalness  key  liveness  ...  \\\n",
       "8                 0.2060    9    0.3370  ...   \n",
       "17                0.6590    4    0.1100  ...   \n",
       "24                0.0725   11    0.1420  ...   \n",
       "30                0.6050    2    0.1330  ...   \n",
       "36                0.2060    4    0.1290  ...   \n",
       "...                  ...  ...       ...  ...   \n",
       "162556            0.2070    2    0.0491  ...   \n",
       "162652            0.3570    5    0.0784  ...   \n",
       "162846            0.0712    8    0.1360  ...   \n",
       "162964            0.9020    0    0.1080  ...   \n",
       "73894             0.0000    4    0.5270  ...   \n",
       "\n",
       "                                               name  popularity release_date  \\\n",
       "8                  Moneda Corriente - Remasterizado           0   1928-10-03   \n",
       "17              Invocación al Tango - Remasterizado           0   1928-09-16   \n",
       "24                      El Espejito - Remasterizado           0   1928-09-20   \n",
       "30                   Venite Conmigo - Remasterizado           0   1928-09-25   \n",
       "36                    Por Esta Cruz - Remasterizado           0   1928-09-20   \n",
       "...                                             ...         ...          ...   \n",
       "162556  Sin Embargo No Estoy Triste - Remasterizado           0   1946-03-13   \n",
       "162652  La Melodía de Nuestro Adiós - Remasterizado           0   1947-03-15   \n",
       "162846           Nobleza de Arrabal - Remasterizado           0   1949-03-14   \n",
       "162964              Yo También Soñé - Remasterizado           0   1951-03-14   \n",
       "73894                                 Se Dice De Mi          42   1979-01-01   \n",
       "\n",
       "        speechiness    tempo  valence  year  nombre_artistes  \\\n",
       "8            0.1270  119.833    0.493  1928                2   \n",
       "17           0.1570  117.167    0.849  1928                2   \n",
       "24           0.1150  117.899    0.782  1928                2   \n",
       "30           0.1990  119.985    0.868  1928                2   \n",
       "36           0.0837  117.063    0.672  1928                2   \n",
       "...             ...      ...      ...   ...              ...   \n",
       "162556       0.0487  126.531    0.742  1946                2   \n",
       "162652       0.0410  129.104    0.507  1947                2   \n",
       "162846       0.0690   89.405    0.657  1949                2   \n",
       "162964       0.0645  131.552    0.341  1951                2   \n",
       "73894        0.2680   92.766    0.446  1979                2   \n",
       "\n",
       "                                          artist1             artist2  \n",
       "8                              'Francisco Canaro'           'Charlo'   \n",
       "17                             'Francisco Canaro'      'Luis Scalon'   \n",
       "24                             'Francisco Canaro'           'Charlo'   \n",
       "30                             'Francisco Canaro'           'Charlo'   \n",
       "36                             'Francisco Canaro'           'Charlo'   \n",
       "...                                           ...                 ...  \n",
       "162556                         'Francisco Canaro'   'Alberto Arenas'   \n",
       "162652                         'Francisco Canaro'   'Alberto Arenas'   \n",
       "162846                         'Francisco Canaro'       'Nelly Omar'   \n",
       "162964                         'Francisco Canaro'     'Mario Alonso'   \n",
       "73894    'Francisco Canaro Y Su Orquesta Tipica'       'Tita Merello'  \n",
       "\n",
       "[1271 rows x 22 columns]"
      ],
      "text/html": "<div>\n<style scoped>\n    .dataframe tbody tr th:only-of-type {\n        vertical-align: middle;\n    }\n\n    .dataframe tbody tr th {\n        vertical-align: top;\n    }\n\n    .dataframe thead th {\n        text-align: right;\n    }\n</style>\n<table border=\"1\" class=\"dataframe\">\n  <thead>\n    <tr style=\"text-align: right;\">\n      <th></th>\n      <th>acousticness</th>\n      <th>artists</th>\n      <th>danceability</th>\n      <th>duration_ms</th>\n      <th>energy</th>\n      <th>explicit</th>\n      <th>id</th>\n      <th>instrumentalness</th>\n      <th>key</th>\n      <th>liveness</th>\n      <th>...</th>\n      <th>name</th>\n      <th>popularity</th>\n      <th>release_date</th>\n      <th>speechiness</th>\n      <th>tempo</th>\n      <th>valence</th>\n      <th>year</th>\n      <th>nombre_artistes</th>\n      <th>artist1</th>\n      <th>artist2</th>\n    </tr>\n  </thead>\n  <tbody>\n    <tr>\n      <th>8</th>\n      <td>0.995</td>\n      <td>'Francisco Canaro', 'Charlo'</td>\n      <td>0.683</td>\n      <td>162493</td>\n      <td>0.207</td>\n      <td>0</td>\n      <td>6OaJ8Bh7lsBeYoBmwmo2nh</td>\n      <td>0.2060</td>\n      <td>9</td>\n      <td>0.3370</td>\n      <td>...</td>\n      <td>Moneda Corriente - Remasterizado</td>\n      <td>0</td>\n      <td>1928-10-03</td>\n      <td>0.1270</td>\n      <td>119.833</td>\n      <td>0.493</td>\n      <td>1928</td>\n      <td>2</td>\n      <td>'Francisco Canaro'</td>\n      <td>'Charlo'</td>\n    </tr>\n    <tr>\n      <th>17</th>\n      <td>0.994</td>\n      <td>'Francisco Canaro', 'Luis Scalon'</td>\n      <td>0.787</td>\n      <td>167107</td>\n      <td>0.156</td>\n      <td>0</td>\n      <td>6TFuAErGpJ9FpxQQ1HC8nM</td>\n      <td>0.6590</td>\n      <td>4</td>\n      <td>0.1100</td>\n      <td>...</td>\n      <td>Invocación al Tango - Remasterizado</td>\n      <td>0</td>\n      <td>1928-09-16</td>\n      <td>0.1570</td>\n      <td>117.167</td>\n      <td>0.849</td>\n      <td>1928</td>\n      <td>2</td>\n      <td>'Francisco Canaro'</td>\n      <td>'Luis Scalon'</td>\n    </tr>\n    <tr>\n      <th>24</th>\n      <td>0.988</td>\n      <td>'Francisco Canaro', 'Charlo'</td>\n      <td>0.699</td>\n      <td>166000</td>\n      <td>0.221</td>\n      <td>0</td>\n      <td>6W7iUeL4W0WVIF1BEOCswF</td>\n      <td>0.0725</td>\n      <td>11</td>\n      <td>0.1420</td>\n      <td>...</td>\n      <td>El Espejito - Remasterizado</td>\n      <td>0</td>\n      <td>1928-09-20</td>\n      <td>0.1150</td>\n      <td>117.899</td>\n      <td>0.782</td>\n      <td>1928</td>\n      <td>2</td>\n      <td>'Francisco Canaro'</td>\n      <td>'Charlo'</td>\n    </tr>\n    <tr>\n      <th>30</th>\n      <td>0.995</td>\n      <td>'Francisco Canaro', 'Charlo'</td>\n      <td>0.767</td>\n      <td>177507</td>\n      <td>0.230</td>\n      <td>0</td>\n      <td>6XbXjlJZxRZslzXDh115DL</td>\n      <td>0.6050</td>\n      <td>2</td>\n      <td>0.1330</td>\n      <td>...</td>\n      <td>Venite Conmigo - Remasterizado</td>\n      <td>0</td>\n      <td>1928-09-25</td>\n      <td>0.1990</td>\n      <td>119.985</td>\n      <td>0.868</td>\n      <td>1928</td>\n      <td>2</td>\n      <td>'Francisco Canaro'</td>\n      <td>'Charlo'</td>\n    </tr>\n    <tr>\n      <th>36</th>\n      <td>0.994</td>\n      <td>'Francisco Canaro', 'Charlo'</td>\n      <td>0.801</td>\n      <td>166493</td>\n      <td>0.113</td>\n      <td>0</td>\n      <td>6aBzlB3FTioN5vCTfdswr8</td>\n      <td>0.2060</td>\n      <td>4</td>\n      <td>0.1290</td>\n      <td>...</td>\n      <td>Por Esta Cruz - Remasterizado</td>\n      <td>0</td>\n      <td>1928-09-20</td>\n      <td>0.0837</td>\n      <td>117.063</td>\n      <td>0.672</td>\n      <td>1928</td>\n      <td>2</td>\n      <td>'Francisco Canaro'</td>\n      <td>'Charlo'</td>\n    </tr>\n    <tr>\n      <th>...</th>\n      <td>...</td>\n      <td>...</td>\n      <td>...</td>\n      <td>...</td>\n      <td>...</td>\n      <td>...</td>\n      <td>...</td>\n      <td>...</td>\n      <td>...</td>\n      <td>...</td>\n      <td>...</td>\n      <td>...</td>\n      <td>...</td>\n      <td>...</td>\n      <td>...</td>\n      <td>...</td>\n      <td>...</td>\n      <td>...</td>\n      <td>...</td>\n      <td>...</td>\n      <td>...</td>\n    </tr>\n    <tr>\n      <th>162556</th>\n      <td>0.967</td>\n      <td>'Francisco Canaro', 'Alberto Arenas'</td>\n      <td>0.552</td>\n      <td>142307</td>\n      <td>0.395</td>\n      <td>0</td>\n      <td>4ioZqiIVlH55dqVy6qzpmu</td>\n      <td>0.2070</td>\n      <td>2</td>\n      <td>0.0491</td>\n      <td>...</td>\n      <td>Sin Embargo No Estoy Triste - Remasterizado</td>\n      <td>0</td>\n      <td>1946-03-13</td>\n      <td>0.0487</td>\n      <td>126.531</td>\n      <td>0.742</td>\n      <td>1946</td>\n      <td>2</td>\n      <td>'Francisco Canaro'</td>\n      <td>'Alberto Arenas'</td>\n    </tr>\n    <tr>\n      <th>162652</th>\n      <td>0.975</td>\n      <td>'Francisco Canaro', 'Alberto Arenas'</td>\n      <td>0.433</td>\n      <td>201907</td>\n      <td>0.341</td>\n      <td>0</td>\n      <td>4imfF3yZBDGgQSARQu05ny</td>\n      <td>0.3570</td>\n      <td>5</td>\n      <td>0.0784</td>\n      <td>...</td>\n      <td>La Melodía de Nuestro Adiós - Remasterizado</td>\n      <td>0</td>\n      <td>1947-03-15</td>\n      <td>0.0410</td>\n      <td>129.104</td>\n      <td>0.507</td>\n      <td>1947</td>\n      <td>2</td>\n      <td>'Francisco Canaro'</td>\n      <td>'Alberto Arenas'</td>\n    </tr>\n    <tr>\n      <th>162846</th>\n      <td>0.983</td>\n      <td>'Francisco Canaro', 'Nelly Omar'</td>\n      <td>0.533</td>\n      <td>175680</td>\n      <td>0.301</td>\n      <td>0</td>\n      <td>1cplAnMplKHnwQA5GR0Hpc</td>\n      <td>0.0712</td>\n      <td>8</td>\n      <td>0.1360</td>\n      <td>...</td>\n      <td>Nobleza de Arrabal - Remasterizado</td>\n      <td>0</td>\n      <td>1949-03-14</td>\n      <td>0.0690</td>\n      <td>89.405</td>\n      <td>0.657</td>\n      <td>1949</td>\n      <td>2</td>\n      <td>'Francisco Canaro'</td>\n      <td>'Nelly Omar'</td>\n    </tr>\n    <tr>\n      <th>162964</th>\n      <td>0.991</td>\n      <td>'Francisco Canaro', 'Mario Alonso'</td>\n      <td>0.600</td>\n      <td>200507</td>\n      <td>0.198</td>\n      <td>0</td>\n      <td>0yeMCKs4iR1UULs7yBT3Cy</td>\n      <td>0.9020</td>\n      <td>0</td>\n      <td>0.1080</td>\n      <td>...</td>\n      <td>Yo También Soñé - Remasterizado</td>\n      <td>0</td>\n      <td>1951-03-14</td>\n      <td>0.0645</td>\n      <td>131.552</td>\n      <td>0.341</td>\n      <td>1951</td>\n      <td>2</td>\n      <td>'Francisco Canaro'</td>\n      <td>'Mario Alonso'</td>\n    </tr>\n    <tr>\n      <th>73894</th>\n      <td>0.856</td>\n      <td>'Tita Merello', 'Francisco Canaro Y Su Orques...</td>\n      <td>0.583</td>\n      <td>208133</td>\n      <td>0.528</td>\n      <td>0</td>\n      <td>7rb5qQHrnnwUwS4udW6J8H</td>\n      <td>0.0000</td>\n      <td>4</td>\n      <td>0.5270</td>\n      <td>...</td>\n      <td>Se Dice De Mi</td>\n      <td>42</td>\n      <td>1979-01-01</td>\n      <td>0.2680</td>\n      <td>92.766</td>\n      <td>0.446</td>\n      <td>1979</td>\n      <td>2</td>\n      <td>'Francisco Canaro Y Su Orquesta Tipica'</td>\n      <td>'Tita Merello'</td>\n    </tr>\n  </tbody>\n</table>\n<p>1271 rows × 22 columns</p>\n</div>"
     },
     "metadata": {},
     "execution_count": 30
    }
   ],
   "source": [
    "df_artiste_duo = pd.concat([art1, art2])\n",
    "#Methode 1 : on peut boucler sur les lignes et effectuer les échanges au niveau des deux colonnes 'artist1' et 'artist2'\n",
    "#Methode 2 : Utiliser la méthode apply\n",
    "#la méthode 2 est plus optimale\n",
    "\n",
    "for i in range(df_artiste_duo.shape[0]):\n",
    "    if df_artiste_duo['artist2'].iloc[i].find('Francisco Canaro')!=-1:\n",
    "        st = df_artiste_duo['artist2'].iloc[i]\n",
    "        df_artiste_duo['artist2'].iloc[i] = df_artiste_duo['artist1'].iloc[i]\n",
    "        df_artiste_duo['artist1'].iloc[i] = st\n",
    "\n",
    "df_artiste_duo"
   ]
  },
  {
   "cell_type": "markdown",
   "metadata": {},
   "source": [
    "<br> On voudrait ajouter à cette dataframe l'information du genre musical de l'artiste avec qui la collaboration s'est effectuée. Lire le fichier data_w_genre et stocker ses données dans une DataFrame."
   ]
  },
  {
   "cell_type": "code",
   "execution_count": 33,
   "metadata": {},
   "outputs": [
    {
     "output_type": "execute_result",
     "data": {
      "text/plain": [
       "              genres  acousticness  danceability   duration_ms    energy  \\\n",
       "0              432hz      0.494780      0.299333  1.048887e+06  0.450678   \n",
       "1                 []      0.679245      0.521473  2.298526e+05  0.401522   \n",
       "2         a cappella      0.621532      0.577017  1.936522e+05  0.345694   \n",
       "3           abstract      0.359395      0.459500  3.430185e+05  0.487000   \n",
       "4     abstract beats      0.353347      0.694400  2.338244e+05  0.613400   \n",
       "...              ...           ...           ...           ...       ...   \n",
       "2659            zolo      0.218600      0.560365  2.675453e+05  0.611985   \n",
       "2660         zouglou      0.124000      0.834000  2.951470e+05  0.674000   \n",
       "2661            zouk      0.233181      0.752762  2.951100e+05  0.627238   \n",
       "2662     zouk riddim      0.052700      0.776000  2.293330e+05  0.656000   \n",
       "2663          zydeco      0.347767      0.596992  1.788379e+05  0.603610   \n",
       "\n",
       "      instrumentalness  liveness   loudness  speechiness       tempo  \\\n",
       "0             0.477762  0.131000 -16.854000     0.076817  120.285667   \n",
       "1             0.196737  0.221586 -12.679076     0.112267  112.025168   \n",
       "2             0.003799  0.127087 -12.770211     0.095324  111.813230   \n",
       "3             0.791400  0.119480 -14.092000     0.043420  124.743200   \n",
       "4             0.349403  0.102453  -6.699800     0.143453  119.398400   \n",
       "...                ...       ...        ...          ...         ...   \n",
       "2659          0.152665  0.190792 -11.499268     0.064295  123.283566   \n",
       "2660          0.000000  0.082800 -13.455000     0.072100  119.039000   \n",
       "2661          0.301195  0.083224 -10.864476     0.038110  101.681762   \n",
       "2662          0.565000  0.044500 -14.316000     0.034100   99.981000   \n",
       "2663          0.017112  0.230891  -9.831258     0.050168  129.441970   \n",
       "\n",
       "       valence  popularity  key  mode  \n",
       "0     0.221750   52.166667    5     1  \n",
       "1     0.515920   21.682005    7     1  \n",
       "2     0.453186   43.351819   11     1  \n",
       "3     0.304990   41.500000    1     1  \n",
       "4     0.634187   58.600000   10     0  \n",
       "...        ...         ...  ...   ...  \n",
       "2659  0.596705   33.760410    9     1  \n",
       "2660  0.951000   56.000000    7     0  \n",
       "2661  0.844381   42.476190    4     1  \n",
       "2662  0.966000   24.000000    4     1  \n",
       "2663  0.752643   29.840152    7     1  \n",
       "\n",
       "[2664 rows x 14 columns]"
      ],
      "text/html": "<div>\n<style scoped>\n    .dataframe tbody tr th:only-of-type {\n        vertical-align: middle;\n    }\n\n    .dataframe tbody tr th {\n        vertical-align: top;\n    }\n\n    .dataframe thead th {\n        text-align: right;\n    }\n</style>\n<table border=\"1\" class=\"dataframe\">\n  <thead>\n    <tr style=\"text-align: right;\">\n      <th></th>\n      <th>genres</th>\n      <th>acousticness</th>\n      <th>danceability</th>\n      <th>duration_ms</th>\n      <th>energy</th>\n      <th>instrumentalness</th>\n      <th>liveness</th>\n      <th>loudness</th>\n      <th>speechiness</th>\n      <th>tempo</th>\n      <th>valence</th>\n      <th>popularity</th>\n      <th>key</th>\n      <th>mode</th>\n    </tr>\n  </thead>\n  <tbody>\n    <tr>\n      <th>0</th>\n      <td>432hz</td>\n      <td>0.494780</td>\n      <td>0.299333</td>\n      <td>1.048887e+06</td>\n      <td>0.450678</td>\n      <td>0.477762</td>\n      <td>0.131000</td>\n      <td>-16.854000</td>\n      <td>0.076817</td>\n      <td>120.285667</td>\n      <td>0.221750</td>\n      <td>52.166667</td>\n      <td>5</td>\n      <td>1</td>\n    </tr>\n    <tr>\n      <th>1</th>\n      <td>[]</td>\n      <td>0.679245</td>\n      <td>0.521473</td>\n      <td>2.298526e+05</td>\n      <td>0.401522</td>\n      <td>0.196737</td>\n      <td>0.221586</td>\n      <td>-12.679076</td>\n      <td>0.112267</td>\n      <td>112.025168</td>\n      <td>0.515920</td>\n      <td>21.682005</td>\n      <td>7</td>\n      <td>1</td>\n    </tr>\n    <tr>\n      <th>2</th>\n      <td>a cappella</td>\n      <td>0.621532</td>\n      <td>0.577017</td>\n      <td>1.936522e+05</td>\n      <td>0.345694</td>\n      <td>0.003799</td>\n      <td>0.127087</td>\n      <td>-12.770211</td>\n      <td>0.095324</td>\n      <td>111.813230</td>\n      <td>0.453186</td>\n      <td>43.351819</td>\n      <td>11</td>\n      <td>1</td>\n    </tr>\n    <tr>\n      <th>3</th>\n      <td>abstract</td>\n      <td>0.359395</td>\n      <td>0.459500</td>\n      <td>3.430185e+05</td>\n      <td>0.487000</td>\n      <td>0.791400</td>\n      <td>0.119480</td>\n      <td>-14.092000</td>\n      <td>0.043420</td>\n      <td>124.743200</td>\n      <td>0.304990</td>\n      <td>41.500000</td>\n      <td>1</td>\n      <td>1</td>\n    </tr>\n    <tr>\n      <th>4</th>\n      <td>abstract beats</td>\n      <td>0.353347</td>\n      <td>0.694400</td>\n      <td>2.338244e+05</td>\n      <td>0.613400</td>\n      <td>0.349403</td>\n      <td>0.102453</td>\n      <td>-6.699800</td>\n      <td>0.143453</td>\n      <td>119.398400</td>\n      <td>0.634187</td>\n      <td>58.600000</td>\n      <td>10</td>\n      <td>0</td>\n    </tr>\n    <tr>\n      <th>...</th>\n      <td>...</td>\n      <td>...</td>\n      <td>...</td>\n      <td>...</td>\n      <td>...</td>\n      <td>...</td>\n      <td>...</td>\n      <td>...</td>\n      <td>...</td>\n      <td>...</td>\n      <td>...</td>\n      <td>...</td>\n      <td>...</td>\n      <td>...</td>\n    </tr>\n    <tr>\n      <th>2659</th>\n      <td>zolo</td>\n      <td>0.218600</td>\n      <td>0.560365</td>\n      <td>2.675453e+05</td>\n      <td>0.611985</td>\n      <td>0.152665</td>\n      <td>0.190792</td>\n      <td>-11.499268</td>\n      <td>0.064295</td>\n      <td>123.283566</td>\n      <td>0.596705</td>\n      <td>33.760410</td>\n      <td>9</td>\n      <td>1</td>\n    </tr>\n    <tr>\n      <th>2660</th>\n      <td>zouglou</td>\n      <td>0.124000</td>\n      <td>0.834000</td>\n      <td>2.951470e+05</td>\n      <td>0.674000</td>\n      <td>0.000000</td>\n      <td>0.082800</td>\n      <td>-13.455000</td>\n      <td>0.072100</td>\n      <td>119.039000</td>\n      <td>0.951000</td>\n      <td>56.000000</td>\n      <td>7</td>\n      <td>0</td>\n    </tr>\n    <tr>\n      <th>2661</th>\n      <td>zouk</td>\n      <td>0.233181</td>\n      <td>0.752762</td>\n      <td>2.951100e+05</td>\n      <td>0.627238</td>\n      <td>0.301195</td>\n      <td>0.083224</td>\n      <td>-10.864476</td>\n      <td>0.038110</td>\n      <td>101.681762</td>\n      <td>0.844381</td>\n      <td>42.476190</td>\n      <td>4</td>\n      <td>1</td>\n    </tr>\n    <tr>\n      <th>2662</th>\n      <td>zouk riddim</td>\n      <td>0.052700</td>\n      <td>0.776000</td>\n      <td>2.293330e+05</td>\n      <td>0.656000</td>\n      <td>0.565000</td>\n      <td>0.044500</td>\n      <td>-14.316000</td>\n      <td>0.034100</td>\n      <td>99.981000</td>\n      <td>0.966000</td>\n      <td>24.000000</td>\n      <td>4</td>\n      <td>1</td>\n    </tr>\n    <tr>\n      <th>2663</th>\n      <td>zydeco</td>\n      <td>0.347767</td>\n      <td>0.596992</td>\n      <td>1.788379e+05</td>\n      <td>0.603610</td>\n      <td>0.017112</td>\n      <td>0.230891</td>\n      <td>-9.831258</td>\n      <td>0.050168</td>\n      <td>129.441970</td>\n      <td>0.752643</td>\n      <td>29.840152</td>\n      <td>7</td>\n      <td>1</td>\n    </tr>\n  </tbody>\n</table>\n<p>2664 rows × 14 columns</p>\n</div>"
     },
     "metadata": {},
     "execution_count": 33
    }
   ],
   "source": [
    "df_genre = pd.read_csv('data_by_genres.csv',sep=\",\")\n",
    "df_genre"
   ]
  },
  {
   "cell_type": "markdown",
   "metadata": {},
   "source": [
    "<br> Fusionner les deux Dataframes df_artiste_duo et df_genre afin d'ajouter uniquement la colonne \"genre\" à df_artiste_duo. "
   ]
  },
  {
   "cell_type": "code",
   "execution_count": 34,
   "metadata": {},
   "outputs": [
    {
     "output_type": "execute_result",
     "data": {
      "text/plain": [
       "                0  acousticness              artist1          artist2  \\\n",
       "8             NaN         0.995   'Francisco Canaro'        'Charlo'    \n",
       "17            NaN         0.994   'Francisco Canaro'   'Luis Scalon'    \n",
       "24            NaN         0.988   'Francisco Canaro'        'Charlo'    \n",
       "30            NaN         0.995   'Francisco Canaro'        'Charlo'    \n",
       "36            NaN         0.994   'Francisco Canaro'        'Charlo'    \n",
       "...           ...           ...                  ...              ...   \n",
       "2659         zolo           NaN                  NaN              NaN   \n",
       "2660      zouglou           NaN                  NaN              NaN   \n",
       "2661         zouk           NaN                  NaN              NaN   \n",
       "2662  zouk riddim           NaN                  NaN              NaN   \n",
       "2663       zydeco           NaN                  NaN              NaN   \n",
       "\n",
       "                                  artists  danceability  duration_ms  energy  \\\n",
       "8           'Francisco Canaro', 'Charlo'          0.683     162493.0   0.207   \n",
       "17     'Francisco Canaro', 'Luis Scalon'          0.787     167107.0   0.156   \n",
       "24          'Francisco Canaro', 'Charlo'          0.699     166000.0   0.221   \n",
       "30          'Francisco Canaro', 'Charlo'          0.767     177507.0   0.230   \n",
       "36          'Francisco Canaro', 'Charlo'          0.801     166493.0   0.113   \n",
       "...                                   ...           ...          ...     ...   \n",
       "2659                                  NaN           NaN          NaN     NaN   \n",
       "2660                                  NaN           NaN          NaN     NaN   \n",
       "2661                                  NaN           NaN          NaN     NaN   \n",
       "2662                                  NaN           NaN          NaN     NaN   \n",
       "2663                                  NaN           NaN          NaN     NaN   \n",
       "\n",
       "      explicit                      id  ...  loudness  mode  \\\n",
       "8          0.0  6OaJ8Bh7lsBeYoBmwmo2nh  ...    -9.801   0.0   \n",
       "17         0.0  6TFuAErGpJ9FpxQQ1HC8nM  ...   -14.056   0.0   \n",
       "24         0.0  6W7iUeL4W0WVIF1BEOCswF  ...   -12.228   1.0   \n",
       "30         0.0  6XbXjlJZxRZslzXDh115DL  ...   -10.728   1.0   \n",
       "36         0.0  6aBzlB3FTioN5vCTfdswr8  ...   -12.147   1.0   \n",
       "...        ...                     ...  ...       ...   ...   \n",
       "2659       NaN                     NaN  ...       NaN   NaN   \n",
       "2660       NaN                     NaN  ...       NaN   NaN   \n",
       "2661       NaN                     NaN  ...       NaN   NaN   \n",
       "2662       NaN                     NaN  ...       NaN   NaN   \n",
       "2663       NaN                     NaN  ...       NaN   NaN   \n",
       "\n",
       "                                     name  nombre_artistes  popularity  \\\n",
       "8        Moneda Corriente - Remasterizado              2.0         0.0   \n",
       "17    Invocación al Tango - Remasterizado              2.0         0.0   \n",
       "24            El Espejito - Remasterizado              2.0         0.0   \n",
       "30         Venite Conmigo - Remasterizado              2.0         0.0   \n",
       "36          Por Esta Cruz - Remasterizado              2.0         0.0   \n",
       "...                                   ...              ...         ...   \n",
       "2659                                  NaN              NaN         NaN   \n",
       "2660                                  NaN              NaN         NaN   \n",
       "2661                                  NaN              NaN         NaN   \n",
       "2662                                  NaN              NaN         NaN   \n",
       "2663                                  NaN              NaN         NaN   \n",
       "\n",
       "     release_date  speechiness    tempo valence    year  \n",
       "8      1928-10-03       0.1270  119.833   0.493  1928.0  \n",
       "17     1928-09-16       0.1570  117.167   0.849  1928.0  \n",
       "24     1928-09-20       0.1150  117.899   0.782  1928.0  \n",
       "30     1928-09-25       0.1990  119.985   0.868  1928.0  \n",
       "36     1928-09-20       0.0837  117.063   0.672  1928.0  \n",
       "...           ...          ...      ...     ...     ...  \n",
       "2659          NaN          NaN      NaN     NaN     NaN  \n",
       "2660          NaN          NaN      NaN     NaN     NaN  \n",
       "2661          NaN          NaN      NaN     NaN     NaN  \n",
       "2662          NaN          NaN      NaN     NaN     NaN  \n",
       "2663          NaN          NaN      NaN     NaN     NaN  \n",
       "\n",
       "[3935 rows x 23 columns]"
      ],
      "text/html": "<div>\n<style scoped>\n    .dataframe tbody tr th:only-of-type {\n        vertical-align: middle;\n    }\n\n    .dataframe tbody tr th {\n        vertical-align: top;\n    }\n\n    .dataframe thead th {\n        text-align: right;\n    }\n</style>\n<table border=\"1\" class=\"dataframe\">\n  <thead>\n    <tr style=\"text-align: right;\">\n      <th></th>\n      <th>0</th>\n      <th>acousticness</th>\n      <th>artist1</th>\n      <th>artist2</th>\n      <th>artists</th>\n      <th>danceability</th>\n      <th>duration_ms</th>\n      <th>energy</th>\n      <th>explicit</th>\n      <th>id</th>\n      <th>...</th>\n      <th>loudness</th>\n      <th>mode</th>\n      <th>name</th>\n      <th>nombre_artistes</th>\n      <th>popularity</th>\n      <th>release_date</th>\n      <th>speechiness</th>\n      <th>tempo</th>\n      <th>valence</th>\n      <th>year</th>\n    </tr>\n  </thead>\n  <tbody>\n    <tr>\n      <th>8</th>\n      <td>NaN</td>\n      <td>0.995</td>\n      <td>'Francisco Canaro'</td>\n      <td>'Charlo'</td>\n      <td>'Francisco Canaro', 'Charlo'</td>\n      <td>0.683</td>\n      <td>162493.0</td>\n      <td>0.207</td>\n      <td>0.0</td>\n      <td>6OaJ8Bh7lsBeYoBmwmo2nh</td>\n      <td>...</td>\n      <td>-9.801</td>\n      <td>0.0</td>\n      <td>Moneda Corriente - Remasterizado</td>\n      <td>2.0</td>\n      <td>0.0</td>\n      <td>1928-10-03</td>\n      <td>0.1270</td>\n      <td>119.833</td>\n      <td>0.493</td>\n      <td>1928.0</td>\n    </tr>\n    <tr>\n      <th>17</th>\n      <td>NaN</td>\n      <td>0.994</td>\n      <td>'Francisco Canaro'</td>\n      <td>'Luis Scalon'</td>\n      <td>'Francisco Canaro', 'Luis Scalon'</td>\n      <td>0.787</td>\n      <td>167107.0</td>\n      <td>0.156</td>\n      <td>0.0</td>\n      <td>6TFuAErGpJ9FpxQQ1HC8nM</td>\n      <td>...</td>\n      <td>-14.056</td>\n      <td>0.0</td>\n      <td>Invocación al Tango - Remasterizado</td>\n      <td>2.0</td>\n      <td>0.0</td>\n      <td>1928-09-16</td>\n      <td>0.1570</td>\n      <td>117.167</td>\n      <td>0.849</td>\n      <td>1928.0</td>\n    </tr>\n    <tr>\n      <th>24</th>\n      <td>NaN</td>\n      <td>0.988</td>\n      <td>'Francisco Canaro'</td>\n      <td>'Charlo'</td>\n      <td>'Francisco Canaro', 'Charlo'</td>\n      <td>0.699</td>\n      <td>166000.0</td>\n      <td>0.221</td>\n      <td>0.0</td>\n      <td>6W7iUeL4W0WVIF1BEOCswF</td>\n      <td>...</td>\n      <td>-12.228</td>\n      <td>1.0</td>\n      <td>El Espejito - Remasterizado</td>\n      <td>2.0</td>\n      <td>0.0</td>\n      <td>1928-09-20</td>\n      <td>0.1150</td>\n      <td>117.899</td>\n      <td>0.782</td>\n      <td>1928.0</td>\n    </tr>\n    <tr>\n      <th>30</th>\n      <td>NaN</td>\n      <td>0.995</td>\n      <td>'Francisco Canaro'</td>\n      <td>'Charlo'</td>\n      <td>'Francisco Canaro', 'Charlo'</td>\n      <td>0.767</td>\n      <td>177507.0</td>\n      <td>0.230</td>\n      <td>0.0</td>\n      <td>6XbXjlJZxRZslzXDh115DL</td>\n      <td>...</td>\n      <td>-10.728</td>\n      <td>1.0</td>\n      <td>Venite Conmigo - Remasterizado</td>\n      <td>2.0</td>\n      <td>0.0</td>\n      <td>1928-09-25</td>\n      <td>0.1990</td>\n      <td>119.985</td>\n      <td>0.868</td>\n      <td>1928.0</td>\n    </tr>\n    <tr>\n      <th>36</th>\n      <td>NaN</td>\n      <td>0.994</td>\n      <td>'Francisco Canaro'</td>\n      <td>'Charlo'</td>\n      <td>'Francisco Canaro', 'Charlo'</td>\n      <td>0.801</td>\n      <td>166493.0</td>\n      <td>0.113</td>\n      <td>0.0</td>\n      <td>6aBzlB3FTioN5vCTfdswr8</td>\n      <td>...</td>\n      <td>-12.147</td>\n      <td>1.0</td>\n      <td>Por Esta Cruz - Remasterizado</td>\n      <td>2.0</td>\n      <td>0.0</td>\n      <td>1928-09-20</td>\n      <td>0.0837</td>\n      <td>117.063</td>\n      <td>0.672</td>\n      <td>1928.0</td>\n    </tr>\n    <tr>\n      <th>...</th>\n      <td>...</td>\n      <td>...</td>\n      <td>...</td>\n      <td>...</td>\n      <td>...</td>\n      <td>...</td>\n      <td>...</td>\n      <td>...</td>\n      <td>...</td>\n      <td>...</td>\n      <td>...</td>\n      <td>...</td>\n      <td>...</td>\n      <td>...</td>\n      <td>...</td>\n      <td>...</td>\n      <td>...</td>\n      <td>...</td>\n      <td>...</td>\n      <td>...</td>\n      <td>...</td>\n    </tr>\n    <tr>\n      <th>2659</th>\n      <td>zolo</td>\n      <td>NaN</td>\n      <td>NaN</td>\n      <td>NaN</td>\n      <td>NaN</td>\n      <td>NaN</td>\n      <td>NaN</td>\n      <td>NaN</td>\n      <td>NaN</td>\n      <td>NaN</td>\n      <td>...</td>\n      <td>NaN</td>\n      <td>NaN</td>\n      <td>NaN</td>\n      <td>NaN</td>\n      <td>NaN</td>\n      <td>NaN</td>\n      <td>NaN</td>\n      <td>NaN</td>\n      <td>NaN</td>\n      <td>NaN</td>\n    </tr>\n    <tr>\n      <th>2660</th>\n      <td>zouglou</td>\n      <td>NaN</td>\n      <td>NaN</td>\n      <td>NaN</td>\n      <td>NaN</td>\n      <td>NaN</td>\n      <td>NaN</td>\n      <td>NaN</td>\n      <td>NaN</td>\n      <td>NaN</td>\n      <td>...</td>\n      <td>NaN</td>\n      <td>NaN</td>\n      <td>NaN</td>\n      <td>NaN</td>\n      <td>NaN</td>\n      <td>NaN</td>\n      <td>NaN</td>\n      <td>NaN</td>\n      <td>NaN</td>\n      <td>NaN</td>\n    </tr>\n    <tr>\n      <th>2661</th>\n      <td>zouk</td>\n      <td>NaN</td>\n      <td>NaN</td>\n      <td>NaN</td>\n      <td>NaN</td>\n      <td>NaN</td>\n      <td>NaN</td>\n      <td>NaN</td>\n      <td>NaN</td>\n      <td>NaN</td>\n      <td>...</td>\n      <td>NaN</td>\n      <td>NaN</td>\n      <td>NaN</td>\n      <td>NaN</td>\n      <td>NaN</td>\n      <td>NaN</td>\n      <td>NaN</td>\n      <td>NaN</td>\n      <td>NaN</td>\n      <td>NaN</td>\n    </tr>\n    <tr>\n      <th>2662</th>\n      <td>zouk riddim</td>\n      <td>NaN</td>\n      <td>NaN</td>\n      <td>NaN</td>\n      <td>NaN</td>\n      <td>NaN</td>\n      <td>NaN</td>\n      <td>NaN</td>\n      <td>NaN</td>\n      <td>NaN</td>\n      <td>...</td>\n      <td>NaN</td>\n      <td>NaN</td>\n      <td>NaN</td>\n      <td>NaN</td>\n      <td>NaN</td>\n      <td>NaN</td>\n      <td>NaN</td>\n      <td>NaN</td>\n      <td>NaN</td>\n      <td>NaN</td>\n    </tr>\n    <tr>\n      <th>2663</th>\n      <td>zydeco</td>\n      <td>NaN</td>\n      <td>NaN</td>\n      <td>NaN</td>\n      <td>NaN</td>\n      <td>NaN</td>\n      <td>NaN</td>\n      <td>NaN</td>\n      <td>NaN</td>\n      <td>NaN</td>\n      <td>...</td>\n      <td>NaN</td>\n      <td>NaN</td>\n      <td>NaN</td>\n      <td>NaN</td>\n      <td>NaN</td>\n      <td>NaN</td>\n      <td>NaN</td>\n      <td>NaN</td>\n      <td>NaN</td>\n      <td>NaN</td>\n    </tr>\n  </tbody>\n</table>\n<p>3935 rows × 23 columns</p>\n</div>"
     },
     "metadata": {},
     "execution_count": 34
    }
   ],
   "source": [
    "pd.concat([df_artiste_duo,df_genre['genres']])"
   ]
  },
  {
   "cell_type": "markdown",
   "metadata": {},
   "source": [
    "<br> Fusionner les deux Dataframe qui calculent respectivement le nombre des pistes duos par artiste (collaborateur) et la moyenne des variables du même artiste."
   ]
  },
  {
   "cell_type": "code",
   "execution_count": 1,
   "metadata": {
    "tags": []
   },
   "outputs": [
    {
     "output_type": "error",
     "ename": "NameError",
     "evalue": "name 'duo' is not defined",
     "traceback": [
      "\u001b[1;31m---------------------------------------------------------------------------\u001b[0m",
      "\u001b[1;31mNameError\u001b[0m                                 Traceback (most recent call last)",
      "\u001b[1;32m<ipython-input-1-54d90552cdfc>\u001b[0m in \u001b[0;36m<module>\u001b[1;34m\u001b[0m\n\u001b[1;32m----> 1\u001b[1;33m \u001b[0mduo1\u001b[0m \u001b[1;33m=\u001b[0m \u001b[0mduo\u001b[0m\u001b[1;33m.\u001b[0m\u001b[0mgroupby\u001b[0m\u001b[1;33m(\u001b[0m\u001b[1;34m'artist1'\u001b[0m\u001b[1;33m)\u001b[0m\u001b[1;33m[\u001b[0m\u001b[1;34m'name'\u001b[0m\u001b[1;33m]\u001b[0m\u001b[1;33m.\u001b[0m\u001b[0mcount\u001b[0m\u001b[1;33m(\u001b[0m\u001b[1;33m)\u001b[0m\u001b[1;33m\u001b[0m\u001b[1;33m\u001b[0m\u001b[0m\n\u001b[0m\u001b[0;32m      2\u001b[0m \u001b[0mduo2\u001b[0m \u001b[1;33m=\u001b[0m \u001b[0mduo\u001b[0m\u001b[1;33m.\u001b[0m\u001b[0mgroupby\u001b[0m\u001b[1;33m(\u001b[0m\u001b[1;34m'artist2'\u001b[0m\u001b[1;33m)\u001b[0m\u001b[1;33m[\u001b[0m\u001b[1;34m'name'\u001b[0m\u001b[1;33m]\u001b[0m\u001b[1;33m.\u001b[0m\u001b[0mcount\u001b[0m\u001b[1;33m(\u001b[0m\u001b[1;33m)\u001b[0m\u001b[1;33m\u001b[0m\u001b[1;33m\u001b[0m\u001b[0m\n\u001b[0;32m      3\u001b[0m \u001b[0mdata\u001b[0m \u001b[1;33m=\u001b[0m \u001b[1;33m{\u001b[0m \u001b[1;34m'nombre_de_duo1'\u001b[0m\u001b[1;33m:\u001b[0m\u001b[0mduo1\u001b[0m \u001b[1;33m,\u001b[0m \u001b[1;34m'nombre_de_duo2'\u001b[0m \u001b[1;33m:\u001b[0m \u001b[0mduo2\u001b[0m \u001b[1;33m}\u001b[0m\u001b[1;33m\u001b[0m\u001b[1;33m\u001b[0m\u001b[0m\n\u001b[0;32m      4\u001b[0m \u001b[1;33m\u001b[0m\u001b[0m\n\u001b[0;32m      5\u001b[0m \u001b[0mdfduo\u001b[0m \u001b[1;33m=\u001b[0m \u001b[0mpd\u001b[0m\u001b[1;33m.\u001b[0m\u001b[0mDataFrame\u001b[0m\u001b[1;33m(\u001b[0m \u001b[0mdata\u001b[0m \u001b[1;33m)\u001b[0m\u001b[1;33m\u001b[0m\u001b[1;33m\u001b[0m\u001b[0m\n",
      "\u001b[1;31mNameError\u001b[0m: name 'duo' is not defined"
     ]
    }
   ],
   "source": [
    "duo1 = duo.groupby('artist1')['name'].count()\n",
    "duo2 = duo.groupby('artist2')['name'].count()\n",
    "data = { 'nombre_de_duo1':duo1 , 'nombre_de_duo2' : duo2 }\n",
    "\n",
    "dfduo = pd.DataFrame( data )\n",
    "dfduo.fillna(0 , inplace=True)\n",
    "dfduo['somme'] = np.zeros(dfduo.shape[0])\n",
    "dfduo['somme'] = dfduo.apply(lambda x : x['nombre_de_duo1']+ x['nombre_de_duo2'] , axis=1)\n",
    "dfduo.reset_index(inplace=True)\n",
    "dfduo = dfduo.rename(columns = {'index':'artist'})\n",
    "dfduo"
   ]
  },
  {
   "cell_type": "markdown",
   "metadata": {},
   "source": [
    "<br> Ecrire vos dataframes dans des fichiers csv pour toute réutilisation potentielle.  "
   ]
  },
  {
   "cell_type": "code",
   "execution_count": 92,
   "metadata": {},
   "outputs": [],
   "source": [
    "duo.to_csv('duo.csv')"
   ]
  },
  {
   "cell_type": "markdown",
   "metadata": {},
   "source": [
    "<br></br>\n",
    "#### Bonus:"
   ]
  },
  {
   "cell_type": "markdown",
   "metadata": {},
   "source": [
    "Vous pouvez créer davantage de manipulation en utilisant les fonctions de groupage, fusion, ou application des fonctions (apply, applymap). Vous pouvez également enrichir votre dataset par des données puisées de l'API Spotify!"
   ]
  },
  {
   "cell_type": "code",
   "execution_count": null,
   "metadata": {},
   "outputs": [],
   "source": []
  },
  {
   "cell_type": "code",
   "execution_count": null,
   "metadata": {},
   "outputs": [],
   "source": []
  },
  {
   "cell_type": "code",
   "execution_count": null,
   "metadata": {},
   "outputs": [],
   "source": []
  },
  {
   "cell_type": "code",
   "execution_count": null,
   "metadata": {},
   "outputs": [],
   "source": []
  },
  {
   "cell_type": "code",
   "execution_count": null,
   "metadata": {},
   "outputs": [],
   "source": []
  },
  {
   "cell_type": "code",
   "execution_count": null,
   "metadata": {},
   "outputs": [],
   "source": []
  }
 ],
 "metadata": {
  "kernelspec": {
   "name": "python3",
   "display_name": "Python 3.9.0 64-bit",
   "metadata": {
    "interpreter": {
     "hash": "5b444563759645e795b5482cf2150aabe0ea74d7e9bb280712938a02f2a4b027"
    }
   }
  },
  "language_info": {
   "codemirror_mode": {
    "name": "ipython",
    "version": 3
   },
   "file_extension": ".py",
   "mimetype": "text/x-python",
   "name": "python",
   "nbconvert_exporter": "python",
   "pygments_lexer": "ipython3",
   "version": "3.9.0-final"
  }
 },
 "nbformat": 4,
 "nbformat_minor": 4
}