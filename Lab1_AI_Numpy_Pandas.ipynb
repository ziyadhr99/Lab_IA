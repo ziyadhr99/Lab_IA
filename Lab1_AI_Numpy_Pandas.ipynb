{
 "cells": [
  {
   "cell_type": "markdown",
   "metadata": {},
   "source": [
    "# Travaux Pratiques Intelligence Artificielle: Lab1\n",
    "\n",
    "Python 4 Data Science: Introduction à NumPy et Pandas 🤖 🙌.\n",
    "\n",
    "## Objectifs du TP:\n",
    "\n",
    "> **Se familiariser avec les instructions NumPy**\n",
    "\n",
    "> **Se familiariser avec les commandes les plus utilisées pour l'exploration des données en utilisant la libraire Pandas**\n",
    "\n",
    "> **Analyser les données pour pouvoir répondre à la question: Qu'est ce qui fait un Hit?** Pour ce faire, nous allons analyser les pistes musicales dont les données sont extraites de Spotify API. \n",
    "\n",
    "\n",
    "\n",
    "<br> A la fin du TP vous devez **rendre ce notebook dans \"Assignment\" de Teams**. Le TP doit être travaillé en préférence en binôme.\n",
    "\n",
    "_Besoin d'aide? Laisser moi un Commentaire sur Teams_\n",
    "\n",
    "![green-divider](https://user-images.githubusercontent.com/7065401/52071924-c003ad80-2562-11e9-8297-1c6595f8a7ff.png)"
   ]
  },
  {
   "cell_type": "markdown",
   "metadata": {},
   "source": [
    "## Exercices Numpy\n",
    "\n",
    "### I. Warm-up Exercice\n",
    "\n",
    "Ce petit exercice a pour objectif de vous familiariser avec les matrices multi-dimensionnelles NumPy."
   ]
  },
  {
   "cell_type": "markdown",
   "metadata": {},
   "source": [
    "<img src=\"resources/array.png\" width=420>"
   ]
  },
  {
   "cell_type": "markdown",
   "metadata": {},
   "source": [
    "1. Créer la matrice dépictée dans la figure"
   ]
  },
  {
   "cell_type": "code",
   "execution_count": null,
   "metadata": {},
   "outputs": [],
   "source": [
    "# import numpy\n"
   ]
  },
  {
   "cell_type": "code",
   "execution_count": null,
   "metadata": {},
   "outputs": [],
   "source": [
    "# Créer la matrice\n"
   ]
  },
  {
   "cell_type": "code",
   "execution_count": null,
   "metadata": {},
   "outputs": [],
   "source": [
    "# explorer la matrice \n"
   ]
  },
  {
   "cell_type": "markdown",
   "metadata": {},
   "source": [
    "2.  Ecrire les instructions pour sélectionner les éléments en rouge, bleu et jaune."
   ]
  },
  {
   "cell_type": "code",
   "execution_count": null,
   "metadata": {},
   "outputs": [],
   "source": [
    "# selectionner les éléments jaunes\n"
   ]
  },
  {
   "cell_type": "code",
   "execution_count": null,
   "metadata": {},
   "outputs": [],
   "source": [
    "# selectionner les éléments rouges\n"
   ]
  },
  {
   "cell_type": "code",
   "execution_count": null,
   "metadata": {},
   "outputs": [],
   "source": [
    "# selectionner les éléments bleus\n"
   ]
  },
  {
   "cell_type": "markdown",
   "metadata": {},
   "source": [
    "<br>"
   ]
  },
  {
   "cell_type": "markdown",
   "metadata": {},
   "source": [
    "### II. Manipulation d'une image avec NumPy\n",
    "\n",
    "L'objectif de cet exercice est de démontrer l'intérêt de NumPy, particulièrement pour la manipulation des images. Une image peut être considérée comme une matrice et peut donc facilement subir les transformations NumPy. \n",
    "\n",
    "On voudrait, dans cet exercice, lire une image, puis essayer de la brouiller (la rendre floue). Pour cela, on va essayer d'affecter à chaque pixel la moyenne de ses pixels voisins. \n",
    "\n",
    "Il est possible bien évidemment de faire la chose en bouclant sur les éléments de la matrice (double boucle). Mais on s'intéresse à le faire d'une manière optimisée en utilisant NumPy.\n",
    "\n",
    "Essayons d'appliquer l'algorithme sur une petite matrice (il faut dire que ce n'est pas un algorithme state of the art, mais il fait l'affaire). Prenons une image de 4x4 pixels. L'idée est de la réduire en une image à 4 pixels comme c'est illustré dans la figure suivante:\n",
    "\n",
    "<img src=\"resources/flou1.png\">"
   ]
  },
  {
   "cell_type": "code",
   "execution_count": null,
   "metadata": {},
   "outputs": [],
   "source": [
    "matrice = np.arange(1,17).reshape((4,4))"
   ]
  },
  {
   "cell_type": "code",
   "execution_count": null,
   "metadata": {},
   "outputs": [],
   "source": [
    "matrice"
   ]
  },
  {
   "cell_type": "code",
   "execution_count": null,
   "metadata": {},
   "outputs": [],
   "source": [
    "matrice.shape"
   ]
  },
  {
   "cell_type": "markdown",
   "metadata": {},
   "source": [
    "<br> Calculer la moyenne des pixels voisins de chaque pixel flaggé dans notre image source revient à calculer la moyenne des matrices suivantes: \n",
    "\n",
    "<img src=\"resources/flou2.png\">"
   ]
  },
  {
   "cell_type": "markdown",
   "metadata": {},
   "source": [
    "<br> Selectionner le centre de cette matrice (jaune). Utilier les indexes relatifs pour que votre code soit généralisable pour n'importe quelle taille de matrice."
   ]
  },
  {
   "cell_type": "code",
   "execution_count": null,
   "metadata": {},
   "outputs": [],
   "source": []
  },
  {
   "cell_type": "markdown",
   "metadata": {},
   "source": [
    "<br> Selectionner le haut de cette matrice (violet):"
   ]
  },
  {
   "cell_type": "code",
   "execution_count": null,
   "metadata": {},
   "outputs": [],
   "source": []
  },
  {
   "cell_type": "markdown",
   "metadata": {},
   "source": [
    "<br> Selectionner le bas de cette matrice (Rouge):"
   ]
  },
  {
   "cell_type": "code",
   "execution_count": null,
   "metadata": {},
   "outputs": [],
   "source": []
  },
  {
   "cell_type": "markdown",
   "metadata": {},
   "source": [
    "<br> Selectionner la partie gauche de cette matrice (bleu):"
   ]
  },
  {
   "cell_type": "code",
   "execution_count": null,
   "metadata": {},
   "outputs": [],
   "source": []
  },
  {
   "cell_type": "markdown",
   "metadata": {},
   "source": [
    "<br> Selectionner la partie droite de cette matrice (vert):"
   ]
  },
  {
   "cell_type": "code",
   "execution_count": null,
   "metadata": {},
   "outputs": [],
   "source": []
  },
  {
   "cell_type": "markdown",
   "metadata": {},
   "source": [
    "<br> Calculer la matrice des moyennes (element-wise):"
   ]
  },
  {
   "cell_type": "code",
   "execution_count": null,
   "metadata": {},
   "outputs": [],
   "source": []
  },
  {
   "cell_type": "markdown",
   "metadata": {},
   "source": [
    "<br> Cette matrice présente l'image brouillée de l'image source."
   ]
  },
  {
   "cell_type": "markdown",
   "metadata": {},
   "source": [
    "<br> Maintenant on va généraliser cela sur une image quelconque, en définissant une fonction:"
   ]
  },
  {
   "cell_type": "code",
   "execution_count": null,
   "metadata": {},
   "outputs": [],
   "source": [
    "def brouiller(image):\n",
    "    '''\n",
    "    Arg: Image source\n",
    "    Retourne l'image brouillée \n",
    "    '''\n",
    "    \n",
    "    \n",
    "    # Appliquer l'algorithme sur l'image\n",
    "    \n",
    "    return image_brouillee"
   ]
  },
  {
   "cell_type": "markdown",
   "metadata": {},
   "source": [
    "<br> Pour tester notre fonction, nous allons essayer de brouiller l'image \"Metro\". On utilisera Matplotlib pour ouvrir le fichier image."
   ]
  },
  {
   "cell_type": "code",
   "execution_count": null,
   "metadata": {},
   "outputs": [],
   "source": [
    "import matplotlib.pyplot as plt"
   ]
  },
  {
   "cell_type": "code",
   "execution_count": null,
   "metadata": {},
   "outputs": [],
   "source": [
    "image = plt.imread('resources/Metro.png')"
   ]
  },
  {
   "cell_type": "code",
   "execution_count": null,
   "metadata": {},
   "outputs": [],
   "source": [
    "image"
   ]
  },
  {
   "cell_type": "code",
   "execution_count": null,
   "metadata": {},
   "outputs": [],
   "source": [
    "type(image), image.dtype, image.shape"
   ]
  },
  {
   "cell_type": "code",
   "execution_count": null,
   "metadata": {},
   "outputs": [],
   "source": [
    "# Ouvrir l'image en gris\n",
    "\n",
    "plt.imshow(image)\n",
    "plt.gray()\n",
    "plt.axis('off')\n",
    "plt.show()"
   ]
  },
  {
   "cell_type": "code",
   "execution_count": null,
   "metadata": {},
   "outputs": [],
   "source": [
    "image_brouillee = brouiller(image)"
   ]
  },
  {
   "cell_type": "code",
   "execution_count": null,
   "metadata": {},
   "outputs": [],
   "source": [
    "# Afficher la nouvelle image\n",
    "plt.imshow(image_brouillee)\n",
    "plt.gray()\n",
    "plt.axis('off')\n",
    "plt.show()"
   ]
  },
  {
   "cell_type": "markdown",
   "metadata": {},
   "source": [
    "<br> Comme on n'a appliqué le filtre qu'une seule fois, les différences sont difficiles à discerner. Mais si vous affichez la différence entre les deux images, vous verrez quelques changements."
   ]
  },
  {
   "cell_type": "code",
   "execution_count": null,
   "metadata": {},
   "outputs": [],
   "source": [
    "plt.imshow(image - image)\n",
    "plt.axis('off')\n",
    "plt.show()"
   ]
  },
  {
   "cell_type": "code",
   "execution_count": null,
   "metadata": {},
   "outputs": [],
   "source": [
    "# Afficher la différence entre l'image source et l'image brouillée\n",
    "\n"
   ]
  },
  {
   "cell_type": "markdown",
   "metadata": {},
   "source": [
    "<br> Afin d'effectivement brouiller l'image, vous pouvez réappliquer le filtre une 50aine de fois: "
   ]
  },
  {
   "cell_type": "code",
   "execution_count": null,
   "metadata": {},
   "outputs": [],
   "source": [
    "# Boucler et appliquer le filtre, puis afficher l'image résultante\n",
    "\n"
   ]
  },
  {
   "cell_type": "markdown",
   "metadata": {},
   "source": [
    "<br>"
   ]
  },
  {
   "cell_type": "markdown",
   "metadata": {},
   "source": [
    "### Explorer d'autres possibilités: \n",
    "\n",
    "Vous pouvez explorer d'autres manipulations des images avec Numpy (incluant les données RGB): https://note.nkmk.me/en/python-numpy-image-processing/"
   ]
  },
  {
   "cell_type": "markdown",
   "metadata": {},
   "source": [
    " "
   ]
  },
  {
   "cell_type": "markdown",
   "metadata": {},
   "source": [
    "\n",
    "\n",
    "\n",
    "\n",
    "\n"
   ]
  },
  {
   "cell_type": "markdown",
   "metadata": {},
   "source": [
    "![green-divider](https://user-images.githubusercontent.com/7065401/52071924-c003ad80-2562-11e9-8297-1c6595f8a7ff.png)\n"
   ]
  },
  {
   "cell_type": "markdown",
   "metadata": {},
   "source": [
    "## Introduction à Pandas"
   ]
  },
  {
   "cell_type": "markdown",
   "metadata": {},
   "source": [
    "## A. Importer et examiner les données\n",
    "\n",
    "Pandas est très fort dans la lecture et le traitement des données structurées. Pour notre analyse, nous aurons besoins de lire les fichiers csv pour pouvoir les explorer. Nos données sont issues de Spotify et englobent plus de 160.000 pistes musicales extraites à partir de Spotify Web API. Ces informations sont également groupées par artiste, année, et genre musical. \n",
    "\n",
    "Le dossier music_dataset contient donc 5 fichiers csv:\n",
    "- data_by_artist\n",
    "- data_by_genres\n",
    "- data_by_year\n",
    "- data_w_genres\n",
    "- data\n",
    "\n",
    "Avant d'attaquer les données dans plus de détails, il est très judicieux de commencer par une exploration rapide. Ceci vous permettra de répondre aux questions: A quelles données ai-je affaire? Quelle est la qualité de ces données là?.... \n",
    "\n",
    "Les données sont extraites en utilisant l'API de Spotify. Pour plus de détails sur les métadata, vous pouvez explorer: https://developer.spotify.com/documentation/web-api/reference/"
   ]
  },
  {
   "cell_type": "code",
   "execution_count": null,
   "metadata": {},
   "outputs": [],
   "source": []
  },
  {
   "cell_type": "code",
   "execution_count": null,
   "metadata": {},
   "outputs": [],
   "source": []
  },
  {
   "cell_type": "markdown",
   "metadata": {},
   "source": [
    "#### 1. Importer les données"
   ]
  },
  {
   "cell_type": "markdown",
   "metadata": {},
   "source": [
    "Commencer par importer pandas en respectant la convention d'import."
   ]
  },
  {
   "cell_type": "code",
   "execution_count": null,
   "metadata": {},
   "outputs": [],
   "source": []
  },
  {
   "cell_type": "markdown",
   "metadata": {},
   "source": [
    "<br> Lire le fichier csv 'data.csv' relatif aux données des pistes dans une dataframe."
   ]
  },
  {
   "cell_type": "code",
   "execution_count": null,
   "metadata": {},
   "outputs": [],
   "source": []
  },
  {
   "cell_type": "markdown",
   "metadata": {},
   "source": [
    "<br> Afficher les premières lignes de la dataframe créée."
   ]
  },
  {
   "cell_type": "code",
   "execution_count": null,
   "metadata": {},
   "outputs": [],
   "source": []
  },
  {
   "cell_type": "markdown",
   "metadata": {},
   "source": [
    "<br> Afficher la taille et la forme de votre dataframe. "
   ]
  },
  {
   "cell_type": "code",
   "execution_count": null,
   "metadata": {},
   "outputs": [],
   "source": []
  },
  {
   "cell_type": "code",
   "execution_count": null,
   "metadata": {},
   "outputs": [],
   "source": []
  },
  {
   "cell_type": "markdown",
   "metadata": {},
   "source": [
    "<br></br>\n",
    "#### 2. Examiner vos données:"
   ]
  },
  {
   "cell_type": "markdown",
   "metadata": {},
   "source": [
    "<br> Dresser une liste des colonnes avec une description de leurs types, valeurs possibles (intervales si numérique)... Penser à utiliser les différentes fonctions Pandas disponibles. "
   ]
  },
  {
   "cell_type": "code",
   "execution_count": null,
   "metadata": {},
   "outputs": [],
   "source": []
  },
  {
   "cell_type": "code",
   "execution_count": null,
   "metadata": {},
   "outputs": [],
   "source": []
  },
  {
   "cell_type": "code",
   "execution_count": null,
   "metadata": {},
   "outputs": [],
   "source": []
  },
  {
   "cell_type": "code",
   "execution_count": null,
   "metadata": {},
   "outputs": [],
   "source": []
  },
  {
   "cell_type": "markdown",
   "metadata": {},
   "source": [
    "<br></br>\n",
    "#### 2. Modifier vos données:"
   ]
  },
  {
   "cell_type": "markdown",
   "metadata": {},
   "source": [
    "<br> Changer le type de la colonne popularité en un int."
   ]
  },
  {
   "cell_type": "code",
   "execution_count": null,
   "metadata": {},
   "outputs": [],
   "source": []
  },
  {
   "cell_type": "markdown",
   "metadata": {},
   "source": [
    "<br> Spécifier que l'index de la Dataframe est le nom de la piste. Puis revenez à l'index d'origine."
   ]
  },
  {
   "cell_type": "code",
   "execution_count": null,
   "metadata": {},
   "outputs": [],
   "source": []
  },
  {
   "cell_type": "code",
   "execution_count": null,
   "metadata": {},
   "outputs": [],
   "source": []
  },
  {
   "cell_type": "markdown",
   "metadata": {},
   "source": [
    "<br> Supprimer la colonne id faisant référence aux ID des pistes dans Spotify API. Vérifier que la colonne a été supprimée en listant les colonnes."
   ]
  },
  {
   "cell_type": "code",
   "execution_count": null,
   "metadata": {},
   "outputs": [],
   "source": []
  },
  {
   "cell_type": "code",
   "execution_count": null,
   "metadata": {},
   "outputs": [],
   "source": []
  },
  {
   "cell_type": "markdown",
   "metadata": {},
   "source": [
    "<br> Supprimer la première ligne de notre DataFrame. "
   ]
  },
  {
   "cell_type": "code",
   "execution_count": null,
   "metadata": {},
   "outputs": [],
   "source": []
  },
  {
   "cell_type": "markdown",
   "metadata": {},
   "source": [
    "<br></br>\n",
    "Maintenant que nous avons une idée sur les données de notre Dataset on peut **penser à des questions à poser. Lister un maximum de questions.** On peut revenir enrichir cette liste au fur et à mesure qu'on explore nos données.\n",
    "- Quelle est la popularité des pistes selon les années?\n",
    "- Quels sont les artistes dont les chansons sont unilatéralement bien reçues?\n",
    "- Quels sont les genres les plus populaires?\n",
    "- Y-a-t-il des correlations entre les caractéristiques d'une piste et sa popularité?\n",
    "- ..."
   ]
  },
  {
   "cell_type": "markdown",
   "metadata": {},
   "source": [
    "<br></br>\n",
    "## B. Traiter vos données"
   ]
  },
  {
   "cell_type": "markdown",
   "metadata": {},
   "source": [
    "Pandas fournit une panoplie de fonctions permettant de selectionner, filtrer, ordonner... vos données. On va les utiliser pour mieux comprendre nos données."
   ]
  },
  {
   "cell_type": "markdown",
   "metadata": {},
   "source": [
    "### 1. Selectionner les données:"
   ]
  },
  {
   "cell_type": "markdown",
   "metadata": {},
   "source": [
    "1. Afficher les pistes publiée l'année de votre naissance."
   ]
  },
  {
   "cell_type": "code",
   "execution_count": null,
   "metadata": {},
   "outputs": [],
   "source": []
  },
  {
   "cell_type": "markdown",
   "metadata": {},
   "source": [
    "2. Stocker le résultat dans une nouvelle Dataframe. Combien de pistes y'en a-t-il?"
   ]
  },
  {
   "cell_type": "code",
   "execution_count": null,
   "metadata": {},
   "outputs": [],
   "source": []
  },
  {
   "cell_type": "code",
   "execution_count": null,
   "metadata": {},
   "outputs": [],
   "source": []
  },
  {
   "cell_type": "markdown",
   "metadata": {},
   "source": [
    "3. Afficher la colonne 'year' dans la nouvelle Dataframe et vérifier que seule l'année de votre naissance est incluse."
   ]
  },
  {
   "cell_type": "code",
   "execution_count": null,
   "metadata": {},
   "outputs": [],
   "source": []
  },
  {
   "cell_type": "code",
   "execution_count": null,
   "metadata": {},
   "outputs": [],
   "source": []
  },
  {
   "cell_type": "markdown",
   "metadata": {},
   "source": [
    "4. N'afficher que les informations relatives à l'artiste, le nom de la piste, et sa popularité."
   ]
  },
  {
   "cell_type": "code",
   "execution_count": null,
   "metadata": {},
   "outputs": [],
   "source": []
  },
  {
   "cell_type": "code",
   "execution_count": null,
   "metadata": {},
   "outputs": [],
   "source": []
  },
  {
   "cell_type": "markdown",
   "metadata": {},
   "source": [
    "<br>"
   ]
  },
  {
   "cell_type": "markdown",
   "metadata": {},
   "source": [
    "### 2. Filter les données"
   ]
  },
  {
   "cell_type": "markdown",
   "metadata": {},
   "source": [
    "Revenir à la Dataframe d'origine.\n",
    "\n",
    "1. N'afficher que les chansons les plus populaires. Vous pouvez choisir un seuil de popularité en fonction de vos données. Voir rapidement la distribution de la popularité en utilisant la fonction hist() de Pandas."
   ]
  },
  {
   "cell_type": "code",
   "execution_count": null,
   "metadata": {},
   "outputs": [],
   "source": []
  },
  {
   "cell_type": "code",
   "execution_count": null,
   "metadata": {},
   "outputs": [],
   "source": []
  },
  {
   "cell_type": "code",
   "execution_count": null,
   "metadata": {},
   "outputs": [],
   "source": []
  },
  {
   "cell_type": "markdown",
   "metadata": {},
   "source": [
    "2. Afficher les chansons dont l'energie est proche de 1 et la clé est 6.\n"
   ]
  },
  {
   "cell_type": "code",
   "execution_count": null,
   "metadata": {},
   "outputs": [],
   "source": []
  },
  {
   "cell_type": "markdown",
   "metadata": {},
   "source": [
    "3. N'affichez que les pistes qui n'ont pas de paroles explicites et qui ont une grande popularité (dont le seuil est à vous de définir)."
   ]
  },
  {
   "cell_type": "code",
   "execution_count": null,
   "metadata": {},
   "outputs": [],
   "source": []
  },
  {
   "cell_type": "markdown",
   "metadata": {},
   "source": [
    "4. Afficher les pistes dont la popularité est >95 ou la date de publication est antérieure au 01/Juin de cette année. "
   ]
  },
  {
   "cell_type": "code",
   "execution_count": null,
   "metadata": {},
   "outputs": [],
   "source": []
  },
  {
   "cell_type": "markdown",
   "metadata": {},
   "source": [
    "5. Afficher les pistes de votre artiste préféré. Vous pouvez utiliser les fonction str. pour chercher les lignes qui contiennent un bout du nom, mettre le texte en miniscule.. si vous n'êtes pas sûr(e)s comment le nom est stocké dans la dataset.\n",
    "\n",
    "N.B. Il est possible d'avoir recours à du fuzzy matching en utilisant regex ou des libraries spécialisée."
   ]
  },
  {
   "cell_type": "code",
   "execution_count": null,
   "metadata": {},
   "outputs": [],
   "source": []
  },
  {
   "cell_type": "markdown",
   "metadata": {},
   "source": [
    "6. Afficher les pistes dont la clé appartient à la liste: [0, 3, 5, 8, 10]"
   ]
  },
  {
   "cell_type": "code",
   "execution_count": null,
   "metadata": {},
   "outputs": [],
   "source": []
  },
  {
   "cell_type": "markdown",
   "metadata": {},
   "source": [
    "7. Afficher les pistes dont la clé n'appartient pas à cette liste"
   ]
  },
  {
   "cell_type": "code",
   "execution_count": null,
   "metadata": {},
   "outputs": [],
   "source": []
  },
  {
   "cell_type": "markdown",
   "metadata": {},
   "source": [
    "8. Filtrer par type de colonne et n'inclure que les colonnes numériques."
   ]
  },
  {
   "cell_type": "code",
   "execution_count": null,
   "metadata": {},
   "outputs": [],
   "source": []
  },
  {
   "cell_type": "markdown",
   "metadata": {},
   "source": [
    "9. Créer votre propre question et le filtre y correspondant"
   ]
  },
  {
   "cell_type": "code",
   "execution_count": null,
   "metadata": {},
   "outputs": [],
   "source": []
  },
  {
   "cell_type": "markdown",
   "metadata": {},
   "source": [
    "<br>"
   ]
  },
  {
   "cell_type": "markdown",
   "metadata": {},
   "source": [
    "### 3. Ordonner les données"
   ]
  },
  {
   "cell_type": "markdown",
   "metadata": {},
   "source": [
    "1. Afficher les pistes selon leur année de publication croissante"
   ]
  },
  {
   "cell_type": "code",
   "execution_count": null,
   "metadata": {},
   "outputs": [],
   "source": []
  },
  {
   "cell_type": "markdown",
   "metadata": {},
   "source": [
    "2. Afficher les 10 pistes les plus récentes sur l'ensemble des pistes"
   ]
  },
  {
   "cell_type": "code",
   "execution_count": null,
   "metadata": {},
   "outputs": [],
   "source": []
  },
  {
   "cell_type": "markdown",
   "metadata": {},
   "source": [
    "3. Afficher la piste la plus populaire de votre artiste préféré?  "
   ]
  },
  {
   "cell_type": "code",
   "execution_count": null,
   "metadata": {},
   "outputs": [],
   "source": []
  },
  {
   "cell_type": "markdown",
   "metadata": {},
   "source": [
    "4. Est-ce que les pistes les plus populaires sont toujours les plus récentes ? "
   ]
  },
  {
   "cell_type": "code",
   "execution_count": null,
   "metadata": {},
   "outputs": [],
   "source": []
  },
  {
   "cell_type": "markdown",
   "metadata": {},
   "source": [
    "<br>"
   ]
  },
  {
   "cell_type": "markdown",
   "metadata": {},
   "source": [
    "### 4. Traiter les données manquantes et les données dupliquées"
   ]
  },
  {
   "cell_type": "markdown",
   "metadata": {},
   "source": [
    "L'un des problèmes les plus récurrents dans les projets data science est la qualité des données à commencer par leur complétude. Il faut toujours se poser la question: **Est-ce qu'il y a des données manquantes? et si c'est le cas comment les gérer?**\n",
    "\n",
    "Lire le fichier data_withmissingdata.csv dans une Dataframe."
   ]
  },
  {
   "cell_type": "code",
   "execution_count": null,
   "metadata": {},
   "outputs": [],
   "source": []
  },
  {
   "cell_type": "markdown",
   "metadata": {},
   "source": [
    "<br> Il faut d'abord identifier les données manquantes. Quelle(s) colonne(s) est/sont concernées?  "
   ]
  },
  {
   "cell_type": "code",
   "execution_count": null,
   "metadata": {},
   "outputs": [],
   "source": []
  },
  {
   "cell_type": "markdown",
   "metadata": {},
   "source": [
    "<br> Selectionner les lignes où les données sont manquantes. De combien de lignes s'agit-il?"
   ]
  },
  {
   "cell_type": "code",
   "execution_count": null,
   "metadata": {},
   "outputs": [],
   "source": []
  },
  {
   "cell_type": "code",
   "execution_count": null,
   "metadata": {},
   "outputs": [],
   "source": []
  },
  {
   "cell_type": "markdown",
   "metadata": {},
   "source": [
    "<br> Il est très utile de stocker les indices de ces lignes dans une liste qu'on pourra utiliser pour les selections et les vérifications. Afficher la liste des indexes de ces lignes."
   ]
  },
  {
   "cell_type": "code",
   "execution_count": null,
   "metadata": {},
   "outputs": [],
   "source": []
  },
  {
   "cell_type": "markdown",
   "metadata": {},
   "source": [
    "<br> On voudrait remplir les données manquantes dans year. Pandas offre plusieurs possiblités de méthodes standards à appliquer pour remplir les données manquantes. Dans notre cas, on voudrait remplir par l'année dans release_date. \n",
    "\n",
    "Il est possible d'extraire l'année d'une date, mais il faut d'abord convertir la colonne release_date en type date, puis remplir les valeurs manquantes de year par les valeurs year de release_date."
   ]
  },
  {
   "cell_type": "code",
   "execution_count": null,
   "metadata": {},
   "outputs": [],
   "source": []
  },
  {
   "cell_type": "code",
   "execution_count": null,
   "metadata": {},
   "outputs": [],
   "source": []
  },
  {
   "cell_type": "code",
   "execution_count": null,
   "metadata": {},
   "outputs": [],
   "source": []
  },
  {
   "cell_type": "markdown",
   "metadata": {},
   "source": [
    "<br> Vérifier à l'aide de la liste des indexes créée que les valeurs year ont été bel est bien remplies."
   ]
  },
  {
   "cell_type": "code",
   "execution_count": null,
   "metadata": {},
   "outputs": [],
   "source": []
  },
  {
   "cell_type": "markdown",
   "metadata": {},
   "source": [
    "<br> Il est notamment possible de supprimer les lignes dont une des valeurs est nulle. Vous pouvez relire les données, supprimer les lignes et réanalyser. "
   ]
  },
  {
   "cell_type": "code",
   "execution_count": null,
   "metadata": {},
   "outputs": [],
   "source": []
  },
  {
   "cell_type": "code",
   "execution_count": null,
   "metadata": {},
   "outputs": [],
   "source": []
  },
  {
   "cell_type": "markdown",
   "metadata": {},
   "source": [
    "<br>"
   ]
  },
  {
   "cell_type": "markdown",
   "metadata": {},
   "source": [
    "#### 2. Traiter les données dupliquées"
   ]
  },
  {
   "cell_type": "markdown",
   "metadata": {},
   "source": [
    "Il faut toujours s'assurer qu'on n'a pas de lignes dupliquées dans notre dataset. Pandas offre une panoplies de méthodes pour traiter ces cas. Selectionner les lignes dupliquées dans votre nouveau dataframe. "
   ]
  },
  {
   "cell_type": "code",
   "execution_count": null,
   "metadata": {},
   "outputs": [],
   "source": []
  },
  {
   "cell_type": "markdown",
   "metadata": {},
   "source": [
    "<br> Supprimer les lignes dupliquées. S'Assurer de ne pas totalement perdre la donnée."
   ]
  },
  {
   "cell_type": "code",
   "execution_count": null,
   "metadata": {},
   "outputs": [],
   "source": []
  },
  {
   "cell_type": "markdown",
   "metadata": {},
   "source": [
    "<br></br>\n",
    "## C. Analyser vos données"
   ]
  },
  {
   "cell_type": "markdown",
   "metadata": {},
   "source": [
    "### 1. Corrélations"
   ]
  },
  {
   "cell_type": "markdown",
   "metadata": {},
   "source": [
    "L'étude des corrélations entre les différentes variables est primordiales pour la compréhension des données mais aussi la modélisation par la suite. Pandas offre une fonction permettant le calcul des corrélations entre les colonnes d'une dataframe. Quelles sont les corrélations dans les données?"
   ]
  },
  {
   "cell_type": "code",
   "execution_count": null,
   "metadata": {},
   "outputs": [],
   "source": []
  },
  {
   "cell_type": "markdown",
   "metadata": {},
   "source": [
    "<br> On a tendance à afficher les corrélations sous forme de heatmap. La manière la plus simple pour créer une heatmap est en utilisant Seaborn, une librairie de visualisation de données. Aller sur https://seaborn.pydata.org/generated/seaborn.heatmap.html et adapter le code pour afficher une heatmap de vos données."
   ]
  },
  {
   "cell_type": "code",
   "execution_count": null,
   "metadata": {},
   "outputs": [],
   "source": []
  },
  {
   "cell_type": "code",
   "execution_count": null,
   "metadata": {},
   "outputs": [],
   "source": []
  },
  {
   "cell_type": "code",
   "execution_count": null,
   "metadata": {},
   "outputs": [],
   "source": []
  },
  {
   "cell_type": "markdown",
   "metadata": {},
   "source": [
    "<br> Qu'est-ce que vous pouvez conclure à partir de ces corrélation? "
   ]
  },
  {
   "cell_type": "markdown",
   "metadata": {},
   "source": []
  },
  {
   "cell_type": "markdown",
   "metadata": {},
   "source": [
    "<br>"
   ]
  },
  {
   "cell_type": "markdown",
   "metadata": {},
   "source": [
    "### 2. Lister vos questions et les réponses à ces questions:"
   ]
  },
  {
   "cell_type": "code",
   "execution_count": null,
   "metadata": {},
   "outputs": [],
   "source": []
  },
  {
   "cell_type": "code",
   "execution_count": null,
   "metadata": {},
   "outputs": [],
   "source": []
  },
  {
   "cell_type": "code",
   "execution_count": null,
   "metadata": {},
   "outputs": [],
   "source": []
  },
  {
   "cell_type": "code",
   "execution_count": null,
   "metadata": {},
   "outputs": [],
   "source": []
  },
  {
   "cell_type": "code",
   "execution_count": null,
   "metadata": {},
   "outputs": [],
   "source": []
  },
  {
   "cell_type": "code",
   "execution_count": null,
   "metadata": {},
   "outputs": [],
   "source": []
  },
  {
   "cell_type": "code",
   "execution_count": null,
   "metadata": {},
   "outputs": [],
   "source": []
  },
  {
   "cell_type": "code",
   "execution_count": null,
   "metadata": {},
   "outputs": [],
   "source": []
  },
  {
   "cell_type": "code",
   "execution_count": null,
   "metadata": {},
   "outputs": [],
   "source": []
  },
  {
   "cell_type": "code",
   "execution_count": null,
   "metadata": {},
   "outputs": [],
   "source": []
  },
  {
   "cell_type": "code",
   "execution_count": null,
   "metadata": {},
   "outputs": [],
   "source": []
  },
  {
   "cell_type": "code",
   "execution_count": null,
   "metadata": {},
   "outputs": [],
   "source": []
  },
  {
   "cell_type": "code",
   "execution_count": null,
   "metadata": {},
   "outputs": [],
   "source": []
  },
  {
   "cell_type": "code",
   "execution_count": null,
   "metadata": {},
   "outputs": [],
   "source": []
  },
  {
   "cell_type": "code",
   "execution_count": null,
   "metadata": {},
   "outputs": [],
   "source": []
  },
  {
   "cell_type": "code",
   "execution_count": null,
   "metadata": {},
   "outputs": [],
   "source": []
  },
  {
   "cell_type": "code",
   "execution_count": null,
   "metadata": {},
   "outputs": [],
   "source": []
  },
  {
   "cell_type": "code",
   "execution_count": null,
   "metadata": {},
   "outputs": [],
   "source": []
  },
  {
   "cell_type": "markdown",
   "metadata": {},
   "source": [
    "<br></br>\n",
    "## D. Analyse avancée"
   ]
  },
  {
   "cell_type": "markdown",
   "metadata": {},
   "source": [
    "Il est possible d'opérer des modifications directement sur une colonne de votre dataframe. Par exemple, on pourrait assigner à la colonne artists le résultat des manipulations str remplaçant les caractères '[' et ']' par ''."
   ]
  },
  {
   "cell_type": "code",
   "execution_count": 80,
   "metadata": {},
   "outputs": [
    {
     "output_type": "stream",
     "name": "stdout",
     "text": [
      "114406    ['Sidney Bechet', 'Claude Luter et son orchest...\nName: artists, dtype: object\n114406    ['Sidney Bechet', 'Claude Luter son orchestre']\nName: artists, dtype: object\n"
     ]
    }
   ],
   "source": [
    "import pandas as pd \n",
    "df = pd.read_csv(\"data.csv\",sep=\",\")\n",
    "print(df['artists'].loc[[114406]])      #exemple : avant le remplacement\n",
    "\n",
    "df['artists'] = df['artists'].str.replace(' et ',' ')\n",
    "\n",
    "print(df['artists'].loc[[114406]])      #exemple : apres le remplacement \n"
   ]
  },
  {
   "cell_type": "markdown",
   "metadata": {},
   "source": [
    "La fonction **apply** est d'une grande utilité lors de la manipulation des dataframes. Elle permet d'appliquer une fonction (de simple à complexe) selon un axe de la dataframe et évite de boucler manuellement sur les lignes ou les colonnes.  \n",
    "\n",
    "Supposons qu'on veut analyser les duos entre les artistes. Pour ce faire, il faudra d'abord filtrer pour ne garder que les collaborations qui ont fait l'objet de deux artistes. Comme vous l'avez déjà deviné, la colonne artistes, telle qu'elle se présente maintenant, n'est pas très exploitable. De ce fait, nous aurons besoin de la modifier pour ressortir les duos.\n",
    "\n",
    "Il est possible d'avoir un seul à plusieurs artistes. Nous allons commencer par zoomer sur les collaborations (>= 2 artistes). Pour ce faire, nous allons __1. définir une fonction nombre_artistes__ qui retourne le nombre des artistes qui collaborent sur une piste. Et puis __2. créer une nouvelle colonne__ et lui assigner le résultat de apply de cette fonction sur le dataframe. Penser à diviser le string artists en une liste. "
   ]
  },
  {
   "cell_type": "code",
   "execution_count": 81,
   "metadata": {
    "tags": []
   },
   "outputs": [],
   "source": [
    "import numpy as np\n",
    "it = df['artists'].size\n",
    "def nombre_artistes(x):\n",
    "    new = x.split(', ')\n",
    "    return len(new)"
   ]
  },
  {
   "cell_type": "code",
   "execution_count": 82,
   "metadata": {},
   "outputs": [
    {
     "output_type": "execute_result",
     "data": {
      "text/plain": [
       "        acousticness                                   artists  danceability  \\\n",
       "0             0.9950                       ['Carl Woitschach']         0.708   \n",
       "1             0.9940  ['Robert Schumann', 'Vladimir Horowitz']         0.379   \n",
       "2             0.6040                   ['Seweryn Goszczyński']         0.749   \n",
       "3             0.9950                      ['Francisco Canaro']         0.781   \n",
       "4             0.9900  ['Frédéric Chopin', 'Vladimir Horowitz']         0.210   \n",
       "...              ...                                       ...           ...   \n",
       "169904        0.1730                    ['DripReport', 'Tyga']         0.875   \n",
       "169905        0.0167        ['Leon Bridges', 'Terrace Martin']         0.719   \n",
       "169906        0.5380                     ['Kygo', 'Oh Wonder']         0.514   \n",
       "169907        0.0714             ['Cash Cash', 'Andy Grammer']         0.646   \n",
       "169908        0.1090                        ['Ingrid Andress']         0.512   \n",
       "\n",
       "        duration_ms  energy  explicit                      id  \\\n",
       "0            158648  0.1950         0  6KbQ3uYMLKb5jDxLF7wYDD   \n",
       "1            282133  0.0135         0  6KuQTIu1KoTTkLXKrwlLPV   \n",
       "2            104300  0.2200         0  6L63VW0PibdM1HDSBoqnoM   \n",
       "3            180760  0.1300         0  6M94FkXd15sOAOQYRnWPN8   \n",
       "4            687733  0.2040         0  6N6tiFZ9vLTSOIxkj8qKrd   \n",
       "...             ...     ...       ...                     ...   \n",
       "169904       163800  0.4430         1  4KppkflX7I3vJQk7urOJaS   \n",
       "169905       167468  0.3850         0  1ehhGlTvjtHo2e4xJFB0SZ   \n",
       "169906       180700  0.5390         0  52eycxprLhK3lPcRLbQiVk   \n",
       "169907       167308  0.7610         0  3wYOGJYD31sLRmBgCvWxa4   \n",
       "169908       214787  0.4280         0  60RFlt48hm0l4Fu0JoccOl   \n",
       "\n",
       "        instrumentalness  key  liveness  loudness  mode  \\\n",
       "0               0.563000   10    0.1510   -12.428     1   \n",
       "1               0.901000    8    0.0763   -28.454     1   \n",
       "2               0.000000    5    0.1190   -19.924     0   \n",
       "3               0.887000    1    0.1110   -14.734     0   \n",
       "4               0.908000   11    0.0980   -16.829     1   \n",
       "...                  ...  ...       ...       ...   ...   \n",
       "169904          0.000032    1    0.0891    -7.461     1   \n",
       "169905          0.031300    8    0.1110   -10.907     1   \n",
       "169906          0.002330    7    0.1080    -9.332     1   \n",
       "169907          0.000000    1    0.2220    -2.557     1   \n",
       "169908          0.000000    0    0.1050    -7.387     1   \n",
       "\n",
       "                                                 name  popularity  \\\n",
       "0                         Singende Bataillone 1. Teil           0   \n",
       "1            Fantasiestücke, Op. 111: Più tosto lento           0   \n",
       "2                      Chapter 1.18 - Zamek kaniowski           0   \n",
       "3       Bebamos Juntos - Instrumental (Remasterizado)           0   \n",
       "4         Polonaise-Fantaisie in A-Flat Major, Op. 61           1   \n",
       "...                                               ...         ...   \n",
       "169904                  Skechers (feat. Tyga) - Remix          75   \n",
       "169905                 Sweeter (feat. Terrace Martin)          64   \n",
       "169906                               How Would I Know          70   \n",
       "169907                                    I Found You          70   \n",
       "169908                          More Hearts Than Mine          65   \n",
       "\n",
       "       release_date  speechiness    tempo  valence  year  \\\n",
       "0              1928       0.0506  118.469   0.7790  1928   \n",
       "1              1928       0.0462   83.972   0.0767  1928   \n",
       "2              1928       0.9290  107.177   0.8800  1928   \n",
       "3        1928-09-25       0.0926  108.003   0.7200  1928   \n",
       "4              1928       0.0424   62.149   0.0693  1928   \n",
       "...             ...          ...      ...      ...   ...   \n",
       "169904   2020-05-15       0.1430  100.012   0.3060  2020   \n",
       "169905   2020-06-08       0.0403  128.000   0.2700  2020   \n",
       "169906   2020-05-29       0.1050  123.700   0.1530  2020   \n",
       "169907   2020-02-28       0.0385  129.916   0.4720  2020   \n",
       "169908   2020-03-27       0.0271   80.588   0.3660  2020   \n",
       "\n",
       "                                 nombre_artistes  \n",
       "0                            ['Carl Woitschach']  \n",
       "1       ['Robert Schumann', 'Vladimir Horowitz']  \n",
       "2                        ['Seweryn Goszczyński']  \n",
       "3                           ['Francisco Canaro']  \n",
       "4       ['Frédéric Chopin', 'Vladimir Horowitz']  \n",
       "...                                          ...  \n",
       "169904                    ['DripReport', 'Tyga']  \n",
       "169905        ['Leon Bridges', 'Terrace Martin']  \n",
       "169906                     ['Kygo', 'Oh Wonder']  \n",
       "169907             ['Cash Cash', 'Andy Grammer']  \n",
       "169908                        ['Ingrid Andress']  \n",
       "\n",
       "[169909 rows x 20 columns]"
      ],
      "text/html": "<div>\n<style scoped>\n    .dataframe tbody tr th:only-of-type {\n        vertical-align: middle;\n    }\n\n    .dataframe tbody tr th {\n        vertical-align: top;\n    }\n\n    .dataframe thead th {\n        text-align: right;\n    }\n</style>\n<table border=\"1\" class=\"dataframe\">\n  <thead>\n    <tr style=\"text-align: right;\">\n      <th></th>\n      <th>acousticness</th>\n      <th>artists</th>\n      <th>danceability</th>\n      <th>duration_ms</th>\n      <th>energy</th>\n      <th>explicit</th>\n      <th>id</th>\n      <th>instrumentalness</th>\n      <th>key</th>\n      <th>liveness</th>\n      <th>loudness</th>\n      <th>mode</th>\n      <th>name</th>\n      <th>popularity</th>\n      <th>release_date</th>\n      <th>speechiness</th>\n      <th>tempo</th>\n      <th>valence</th>\n      <th>year</th>\n      <th>nombre_artistes</th>\n    </tr>\n  </thead>\n  <tbody>\n    <tr>\n      <th>0</th>\n      <td>0.9950</td>\n      <td>['Carl Woitschach']</td>\n      <td>0.708</td>\n      <td>158648</td>\n      <td>0.1950</td>\n      <td>0</td>\n      <td>6KbQ3uYMLKb5jDxLF7wYDD</td>\n      <td>0.563000</td>\n      <td>10</td>\n      <td>0.1510</td>\n      <td>-12.428</td>\n      <td>1</td>\n      <td>Singende Bataillone 1. Teil</td>\n      <td>0</td>\n      <td>1928</td>\n      <td>0.0506</td>\n      <td>118.469</td>\n      <td>0.7790</td>\n      <td>1928</td>\n      <td>['Carl Woitschach']</td>\n    </tr>\n    <tr>\n      <th>1</th>\n      <td>0.9940</td>\n      <td>['Robert Schumann', 'Vladimir Horowitz']</td>\n      <td>0.379</td>\n      <td>282133</td>\n      <td>0.0135</td>\n      <td>0</td>\n      <td>6KuQTIu1KoTTkLXKrwlLPV</td>\n      <td>0.901000</td>\n      <td>8</td>\n      <td>0.0763</td>\n      <td>-28.454</td>\n      <td>1</td>\n      <td>Fantasiestücke, Op. 111: Più tosto lento</td>\n      <td>0</td>\n      <td>1928</td>\n      <td>0.0462</td>\n      <td>83.972</td>\n      <td>0.0767</td>\n      <td>1928</td>\n      <td>['Robert Schumann', 'Vladimir Horowitz']</td>\n    </tr>\n    <tr>\n      <th>2</th>\n      <td>0.6040</td>\n      <td>['Seweryn Goszczyński']</td>\n      <td>0.749</td>\n      <td>104300</td>\n      <td>0.2200</td>\n      <td>0</td>\n      <td>6L63VW0PibdM1HDSBoqnoM</td>\n      <td>0.000000</td>\n      <td>5</td>\n      <td>0.1190</td>\n      <td>-19.924</td>\n      <td>0</td>\n      <td>Chapter 1.18 - Zamek kaniowski</td>\n      <td>0</td>\n      <td>1928</td>\n      <td>0.9290</td>\n      <td>107.177</td>\n      <td>0.8800</td>\n      <td>1928</td>\n      <td>['Seweryn Goszczyński']</td>\n    </tr>\n    <tr>\n      <th>3</th>\n      <td>0.9950</td>\n      <td>['Francisco Canaro']</td>\n      <td>0.781</td>\n      <td>180760</td>\n      <td>0.1300</td>\n      <td>0</td>\n      <td>6M94FkXd15sOAOQYRnWPN8</td>\n      <td>0.887000</td>\n      <td>1</td>\n      <td>0.1110</td>\n      <td>-14.734</td>\n      <td>0</td>\n      <td>Bebamos Juntos - Instrumental (Remasterizado)</td>\n      <td>0</td>\n      <td>1928-09-25</td>\n      <td>0.0926</td>\n      <td>108.003</td>\n      <td>0.7200</td>\n      <td>1928</td>\n      <td>['Francisco Canaro']</td>\n    </tr>\n    <tr>\n      <th>4</th>\n      <td>0.9900</td>\n      <td>['Frédéric Chopin', 'Vladimir Horowitz']</td>\n      <td>0.210</td>\n      <td>687733</td>\n      <td>0.2040</td>\n      <td>0</td>\n      <td>6N6tiFZ9vLTSOIxkj8qKrd</td>\n      <td>0.908000</td>\n      <td>11</td>\n      <td>0.0980</td>\n      <td>-16.829</td>\n      <td>1</td>\n      <td>Polonaise-Fantaisie in A-Flat Major, Op. 61</td>\n      <td>1</td>\n      <td>1928</td>\n      <td>0.0424</td>\n      <td>62.149</td>\n      <td>0.0693</td>\n      <td>1928</td>\n      <td>['Frédéric Chopin', 'Vladimir Horowitz']</td>\n    </tr>\n    <tr>\n      <th>...</th>\n      <td>...</td>\n      <td>...</td>\n      <td>...</td>\n      <td>...</td>\n      <td>...</td>\n      <td>...</td>\n      <td>...</td>\n      <td>...</td>\n      <td>...</td>\n      <td>...</td>\n      <td>...</td>\n      <td>...</td>\n      <td>...</td>\n      <td>...</td>\n      <td>...</td>\n      <td>...</td>\n      <td>...</td>\n      <td>...</td>\n      <td>...</td>\n      <td>...</td>\n    </tr>\n    <tr>\n      <th>169904</th>\n      <td>0.1730</td>\n      <td>['DripReport', 'Tyga']</td>\n      <td>0.875</td>\n      <td>163800</td>\n      <td>0.4430</td>\n      <td>1</td>\n      <td>4KppkflX7I3vJQk7urOJaS</td>\n      <td>0.000032</td>\n      <td>1</td>\n      <td>0.0891</td>\n      <td>-7.461</td>\n      <td>1</td>\n      <td>Skechers (feat. Tyga) - Remix</td>\n      <td>75</td>\n      <td>2020-05-15</td>\n      <td>0.1430</td>\n      <td>100.012</td>\n      <td>0.3060</td>\n      <td>2020</td>\n      <td>['DripReport', 'Tyga']</td>\n    </tr>\n    <tr>\n      <th>169905</th>\n      <td>0.0167</td>\n      <td>['Leon Bridges', 'Terrace Martin']</td>\n      <td>0.719</td>\n      <td>167468</td>\n      <td>0.3850</td>\n      <td>0</td>\n      <td>1ehhGlTvjtHo2e4xJFB0SZ</td>\n      <td>0.031300</td>\n      <td>8</td>\n      <td>0.1110</td>\n      <td>-10.907</td>\n      <td>1</td>\n      <td>Sweeter (feat. Terrace Martin)</td>\n      <td>64</td>\n      <td>2020-06-08</td>\n      <td>0.0403</td>\n      <td>128.000</td>\n      <td>0.2700</td>\n      <td>2020</td>\n      <td>['Leon Bridges', 'Terrace Martin']</td>\n    </tr>\n    <tr>\n      <th>169906</th>\n      <td>0.5380</td>\n      <td>['Kygo', 'Oh Wonder']</td>\n      <td>0.514</td>\n      <td>180700</td>\n      <td>0.5390</td>\n      <td>0</td>\n      <td>52eycxprLhK3lPcRLbQiVk</td>\n      <td>0.002330</td>\n      <td>7</td>\n      <td>0.1080</td>\n      <td>-9.332</td>\n      <td>1</td>\n      <td>How Would I Know</td>\n      <td>70</td>\n      <td>2020-05-29</td>\n      <td>0.1050</td>\n      <td>123.700</td>\n      <td>0.1530</td>\n      <td>2020</td>\n      <td>['Kygo', 'Oh Wonder']</td>\n    </tr>\n    <tr>\n      <th>169907</th>\n      <td>0.0714</td>\n      <td>['Cash Cash', 'Andy Grammer']</td>\n      <td>0.646</td>\n      <td>167308</td>\n      <td>0.7610</td>\n      <td>0</td>\n      <td>3wYOGJYD31sLRmBgCvWxa4</td>\n      <td>0.000000</td>\n      <td>1</td>\n      <td>0.2220</td>\n      <td>-2.557</td>\n      <td>1</td>\n      <td>I Found You</td>\n      <td>70</td>\n      <td>2020-02-28</td>\n      <td>0.0385</td>\n      <td>129.916</td>\n      <td>0.4720</td>\n      <td>2020</td>\n      <td>['Cash Cash', 'Andy Grammer']</td>\n    </tr>\n    <tr>\n      <th>169908</th>\n      <td>0.1090</td>\n      <td>['Ingrid Andress']</td>\n      <td>0.512</td>\n      <td>214787</td>\n      <td>0.4280</td>\n      <td>0</td>\n      <td>60RFlt48hm0l4Fu0JoccOl</td>\n      <td>0.000000</td>\n      <td>0</td>\n      <td>0.1050</td>\n      <td>-7.387</td>\n      <td>1</td>\n      <td>More Hearts Than Mine</td>\n      <td>65</td>\n      <td>2020-03-27</td>\n      <td>0.0271</td>\n      <td>80.588</td>\n      <td>0.3660</td>\n      <td>2020</td>\n      <td>['Ingrid Andress']</td>\n    </tr>\n  </tbody>\n</table>\n<p>169909 rows × 20 columns</p>\n</div>"
     },
     "metadata": {},
     "execution_count": 82
    }
   ],
   "source": [
    "df['nombre_artistes'] = np.zeros(df.shape[0])\n",
    "df['nombre_artistes'] = df['artists']\n",
    "df['nombre_artistes'].apply(nombre_artistes,)\n",
    "\n",
    "df"
   ]
  },
  {
   "cell_type": "markdown",
   "metadata": {},
   "source": [
    "<br> Afficher le nombre des collaborations selon leur taille."
   ]
  },
  {
   "cell_type": "code",
   "execution_count": null,
   "metadata": {},
   "outputs": [],
   "source": [
    "df[df['nombre_artistes']>=2]"
   ]
  },
  {
   "cell_type": "markdown",
   "metadata": {},
   "source": [
    "<br> Créer une nouvelle dataframe qui ne contient que les duos. Cette dataframe sera dorénavant l'objet de nos manipulations."
   ]
  },
  {
   "cell_type": "code",
   "execution_count": null,
   "metadata": {},
   "outputs": [],
   "source": []
  },
  {
   "cell_type": "markdown",
   "metadata": {},
   "source": [
    "<br> Créer deux nouvelles colonnes correspondant respectivement aux deux artistes du duo. Il est possible de le faire directement en utilisant la fonction divisant le string en deux et l'assignant aux colonnes. Comme il est opportun de le faire en utilisant la fonction explode qui est peu connue mais extremement utile. Essayer de le faire des deux manières:   "
   ]
  },
  {
   "cell_type": "code",
   "execution_count": null,
   "metadata": {},
   "outputs": [],
   "source": []
  },
  {
   "cell_type": "markdown",
   "metadata": {},
   "source": []
  },
  {
   "cell_type": "markdown",
   "metadata": {},
   "source": [
    "<br> S'assurer que les noms des artistes ne contiennent pas de caractères spéciaux au début et à la fin..."
   ]
  },
  {
   "cell_type": "code",
   "execution_count": null,
   "metadata": {},
   "outputs": [],
   "source": []
  },
  {
   "cell_type": "markdown",
   "metadata": {},
   "source": [
    "<br> En utilisant la fonction de groupage sur Pandas, afficher le nombre de collaborations entre les paires d'artists. Afficher les 10 collaborations les plus fréquentes."
   ]
  },
  {
   "cell_type": "code",
   "execution_count": null,
   "metadata": {},
   "outputs": [],
   "source": []
  },
  {
   "cell_type": "markdown",
   "metadata": {},
   "source": [
    "<br> Il est également possible de calculer la moyenne des valeurs d'acousticness,'danceability', 'duration_ms', 'energy'... par pair d'artistes. Penser à ne l'appliquer que là où ça a un sens."
   ]
  },
  {
   "cell_type": "code",
   "execution_count": null,
   "metadata": {},
   "outputs": [],
   "source": []
  },
  {
   "cell_type": "markdown",
   "metadata": {},
   "source": [
    "<br> On voudrait zoomer sur un artiste en particulier pour voir les pistes duos qu'il a sorti, et analyser par la suite leur succès. Filtrer sur un artiste de votre choix qui répond au critère suivant: Il y a des piste où il est artiste 1 et d'autres où il est artiste 2. "
   ]
  },
  {
   "cell_type": "code",
   "execution_count": null,
   "metadata": {},
   "outputs": [],
   "source": []
  },
  {
   "cell_type": "markdown",
   "metadata": {},
   "source": [
    "<br> Créer deux Dataframe: une où votre artiste choisi est artiste 1, l'autre où il est artiste 2. "
   ]
  },
  {
   "cell_type": "code",
   "execution_count": null,
   "metadata": {},
   "outputs": [],
   "source": []
  },
  {
   "cell_type": "code",
   "execution_count": null,
   "metadata": {},
   "outputs": [],
   "source": []
  },
  {
   "cell_type": "markdown",
   "metadata": {},
   "source": [
    "<br> Dans une nouvelle Dataframe __df_artiste_duo__, fusionner les deux dataframe de manière à avoir votre artiste dans la colonne artiste 1. Quelles méthodes peut-on suivre? Quelle est la plus optimale?\n",
    "\n",
    "Cette nouvelle Dataframe nous servira à analyser les pistes duos de notre artiste dans plus de détails. "
   ]
  },
  {
   "cell_type": "code",
   "execution_count": null,
   "metadata": {},
   "outputs": [],
   "source": []
  },
  {
   "cell_type": "markdown",
   "metadata": {},
   "source": [
    "<br> On voudrait ajouter à cette dataframe l'information du genre musical de l'artiste avec qui la collaboration s'est effectuée. Lire le fichier data_w_genre et stocker ses données dans une DataFrame."
   ]
  },
  {
   "cell_type": "code",
   "execution_count": null,
   "metadata": {},
   "outputs": [],
   "source": []
  },
  {
   "cell_type": "markdown",
   "metadata": {},
   "source": [
    "<br> Fusionner les deux Dataframes df_artiste_duo et df_genre afin d'ajouter uniquement la colonne \"genre\" à df_artiste_duo. "
   ]
  },
  {
   "cell_type": "code",
   "execution_count": null,
   "metadata": {},
   "outputs": [],
   "source": []
  },
  {
   "cell_type": "markdown",
   "metadata": {},
   "source": [
    "<br> Fusionner les deux Dataframe qui calculent respectivement le nombre des pistes duos par artiste (collaborateur) et la moyenne des variables du même artiste."
   ]
  },
  {
   "cell_type": "code",
   "execution_count": null,
   "metadata": {},
   "outputs": [],
   "source": []
  },
  {
   "cell_type": "markdown",
   "metadata": {},
   "source": [
    "<br> Ecrire vos dataframes dans des fichiers csv pour toute réutilisation potentielle.  "
   ]
  },
  {
   "cell_type": "code",
   "execution_count": null,
   "metadata": {},
   "outputs": [],
   "source": []
  },
  {
   "cell_type": "code",
   "execution_count": null,
   "metadata": {},
   "outputs": [],
   "source": []
  },
  {
   "cell_type": "markdown",
   "metadata": {},
   "source": [
    "<br></br>\n",
    "#### Bonus:"
   ]
  },
  {
   "cell_type": "markdown",
   "metadata": {},
   "source": [
    "Vous pouvez créer davantage de manipulation en utilisant les fonctions de groupage, fusion, ou application des fonctions (apply, applymap). Vous pouvez également enrichir votre dataset par des données puisées de l'API Spotify!"
   ]
  },
  {
   "cell_type": "code",
   "execution_count": null,
   "metadata": {},
   "outputs": [],
   "source": []
  },
  {
   "cell_type": "code",
   "execution_count": null,
   "metadata": {},
   "outputs": [],
   "source": []
  },
  {
   "cell_type": "code",
   "execution_count": null,
   "metadata": {},
   "outputs": [],
   "source": []
  },
  {
   "cell_type": "code",
   "execution_count": null,
   "metadata": {},
   "outputs": [],
   "source": []
  },
  {
   "cell_type": "code",
   "execution_count": null,
   "metadata": {},
   "outputs": [],
   "source": []
  },
  {
   "cell_type": "code",
   "execution_count": null,
   "metadata": {},
   "outputs": [],
   "source": []
  }
 ],
 "metadata": {
  "kernelspec": {
   "name": "python3",
   "display_name": "Python 3.9.0 64-bit",
   "metadata": {
    "interpreter": {
     "hash": "5b444563759645e795b5482cf2150aabe0ea74d7e9bb280712938a02f2a4b027"
    }
   }
  },
  "language_info": {
   "codemirror_mode": {
    "name": "ipython",
    "version": 3
   },
   "file_extension": ".py",
   "mimetype": "text/x-python",
   "name": "python",
   "nbconvert_exporter": "python",
   "pygments_lexer": "ipython3",
   "version": "3.9.0-final"
  }
 },
 "nbformat": 4,
 "nbformat_minor": 4
}