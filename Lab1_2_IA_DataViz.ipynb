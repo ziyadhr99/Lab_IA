{
 "cells": [
  {
   "cell_type": "markdown",
   "metadata": {},
   "source": [
    "# Travaux Pratiques Intelligence Artificielle: Lab1.2\n",
    "\n",
    "Python 4 Data Science: Introduction à la data visualisation avec Bokeh 🤖 🙌.\n",
    "\n",
    "## Objectifs du TP:\n",
    "\n",
    "> **Comprendre les concepts de base de la data visualisation avec Bokeh**\n",
    "\n",
    "> **Se familiariser avec les commandes les plus utilisées pour la visualisation des données en utilisant la libraire Bokeh et Pandas**\n",
    "\n",
    "> **Visualiser graphiquement les données du TP précédent.** \n",
    "\n",
    "> **Créer une application de visualisation de données (en Bonus)** \n",
    "\n",
    "\n",
    "\n",
    "<br> A la fin du TP vous devez **rendre ce notebook dans \"Assignment\" de Teams**. Le TP doit être travaillé en préférence en binôme.\n",
    "\n",
    "_Besoin d'aide? Laisser moi un Commentaire sur Teams_\n",
    "\n",
    "![green-divider](https://user-images.githubusercontent.com/7065401/52071924-c003ad80-2562-11e9-8297-1c6595f8a7ff.png)"
   ]
  },
  {
   "cell_type": "markdown",
   "metadata": {},
   "source": [
    "## A. Concepts de base"
   ]
  },
  {
   "cell_type": "markdown",
   "metadata": {},
   "source": [
    "L'objectif de cette section est de se familiariser avec les principes de base de data visualisation avec Python, Bokeh précisément. Bokeh est une librairie de visualisation destinée aux navigateur web modernes. Elle permet la construction de graphes élégants, concis, variés, et interactifs.\n",
    "\n",
    "Bokeh est basé sur l'idée qu'un graphe est construit une couche à la fois. Pour créer un graphe, on a besoin de créer en premier lieu la figure, puis ajouter les différents éléments (glyphs). Les glyphs sont des composants représentant les figures géométriques comme les lignes, cercles, rectanges etc. qui composent un plot Bokeh.\n",
    "\n",
    "Il y a deux méthodes pour la présentation d'un plot Bokeh:\n",
    "- output_file: où l'output est un fichier html\n",
    "- output_notebook: où l'output se fait au niveau du Jupyter notebook en cours d'utilisation.\n"
   ]
  },
  {
   "cell_type": "markdown",
   "metadata": {},
   "source": [
    "<br> Commençons par un simple exemple où on visualisera un line plot avec les Glyphs."
   ]
  },
  {
   "cell_type": "code",
   "execution_count": 1,
   "metadata": {},
   "outputs": [],
   "source": [
    "from bokeh.plotting import figure\n",
    "from bokeh.io import output_notebook, show"
   ]
  },
  {
   "cell_type": "code",
   "execution_count": 2,
   "metadata": {},
   "outputs": [
    {
     "output_type": "display_data",
     "data": {
      "text/html": "\n    <div class=\"bk-root\">\n        <a href=\"https://bokeh.org\" target=\"_blank\" class=\"bk-logo bk-logo-small bk-logo-notebook\"></a>\n        <span id=\"1001\">Loading BokehJS ...</span>\n    </div>"
     },
     "metadata": {}
    },
    {
     "output_type": "display_data",
     "data": {
      "application/javascript": "\n(function(root) {\n  function now() {\n    return new Date();\n  }\n\n  var force = true;\n\n  if (typeof root._bokeh_onload_callbacks === \"undefined\" || force === true) {\n    root._bokeh_onload_callbacks = [];\n    root._bokeh_is_loading = undefined;\n  }\n\n  var JS_MIME_TYPE = 'application/javascript';\n  var HTML_MIME_TYPE = 'text/html';\n  var EXEC_MIME_TYPE = 'application/vnd.bokehjs_exec.v0+json';\n  var CLASS_NAME = 'output_bokeh rendered_html';\n\n  /**\n   * Render data to the DOM node\n   */\n  function render(props, node) {\n    var script = document.createElement(\"script\");\n    node.appendChild(script);\n  }\n\n  /**\n   * Handle when an output is cleared or removed\n   */\n  function handleClearOutput(event, handle) {\n    var cell = handle.cell;\n\n    var id = cell.output_area._bokeh_element_id;\n    var server_id = cell.output_area._bokeh_server_id;\n    // Clean up Bokeh references\n    if (id != null && id in Bokeh.index) {\n      Bokeh.index[id].model.document.clear();\n      delete Bokeh.index[id];\n    }\n\n    if (server_id !== undefined) {\n      // Clean up Bokeh references\n      var cmd = \"from bokeh.io.state import curstate; print(curstate().uuid_to_server['\" + server_id + \"'].get_sessions()[0].document.roots[0]._id)\";\n      cell.notebook.kernel.execute(cmd, {\n        iopub: {\n          output: function(msg) {\n            var id = msg.content.text.trim();\n            if (id in Bokeh.index) {\n              Bokeh.index[id].model.document.clear();\n              delete Bokeh.index[id];\n            }\n          }\n        }\n      });\n      // Destroy server and session\n      var cmd = \"import bokeh.io.notebook as ion; ion.destroy_server('\" + server_id + \"')\";\n      cell.notebook.kernel.execute(cmd);\n    }\n  }\n\n  /**\n   * Handle when a new output is added\n   */\n  function handleAddOutput(event, handle) {\n    var output_area = handle.output_area;\n    var output = handle.output;\n\n    // limit handleAddOutput to display_data with EXEC_MIME_TYPE content only\n    if ((output.output_type != \"display_data\") || (!output.data.hasOwnProperty(EXEC_MIME_TYPE))) {\n      return\n    }\n\n    var toinsert = output_area.element.find(\".\" + CLASS_NAME.split(' ')[0]);\n\n    if (output.metadata[EXEC_MIME_TYPE][\"id\"] !== undefined) {\n      toinsert[toinsert.length - 1].firstChild.textContent = output.data[JS_MIME_TYPE];\n      // store reference to embed id on output_area\n      output_area._bokeh_element_id = output.metadata[EXEC_MIME_TYPE][\"id\"];\n    }\n    if (output.metadata[EXEC_MIME_TYPE][\"server_id\"] !== undefined) {\n      var bk_div = document.createElement(\"div\");\n      bk_div.innerHTML = output.data[HTML_MIME_TYPE];\n      var script_attrs = bk_div.children[0].attributes;\n      for (var i = 0; i < script_attrs.length; i++) {\n        toinsert[toinsert.length - 1].firstChild.setAttribute(script_attrs[i].name, script_attrs[i].value);\n        toinsert[toinsert.length - 1].firstChild.textContent = bk_div.children[0].textContent\n      }\n      // store reference to server id on output_area\n      output_area._bokeh_server_id = output.metadata[EXEC_MIME_TYPE][\"server_id\"];\n    }\n  }\n\n  function register_renderer(events, OutputArea) {\n\n    function append_mime(data, metadata, element) {\n      // create a DOM node to render to\n      var toinsert = this.create_output_subarea(\n        metadata,\n        CLASS_NAME,\n        EXEC_MIME_TYPE\n      );\n      this.keyboard_manager.register_events(toinsert);\n      // Render to node\n      var props = {data: data, metadata: metadata[EXEC_MIME_TYPE]};\n      render(props, toinsert[toinsert.length - 1]);\n      element.append(toinsert);\n      return toinsert\n    }\n\n    /* Handle when an output is cleared or removed */\n    events.on('clear_output.CodeCell', handleClearOutput);\n    events.on('delete.Cell', handleClearOutput);\n\n    /* Handle when a new output is added */\n    events.on('output_added.OutputArea', handleAddOutput);\n\n    /**\n     * Register the mime type and append_mime function with output_area\n     */\n    OutputArea.prototype.register_mime_type(EXEC_MIME_TYPE, append_mime, {\n      /* Is output safe? */\n      safe: true,\n      /* Index of renderer in `output_area.display_order` */\n      index: 0\n    });\n  }\n\n  // register the mime type if in Jupyter Notebook environment and previously unregistered\n  if (root.Jupyter !== undefined) {\n    var events = require('base/js/events');\n    var OutputArea = require('notebook/js/outputarea').OutputArea;\n\n    if (OutputArea.prototype.mime_types().indexOf(EXEC_MIME_TYPE) == -1) {\n      register_renderer(events, OutputArea);\n    }\n  }\n\n  \n  if (typeof (root._bokeh_timeout) === \"undefined\" || force === true) {\n    root._bokeh_timeout = Date.now() + 5000;\n    root._bokeh_failed_load = false;\n  }\n\n  var NB_LOAD_WARNING = {'data': {'text/html':\n     \"<div style='background-color: #fdd'>\\n\"+\n     \"<p>\\n\"+\n     \"BokehJS does not appear to have successfully loaded. If loading BokehJS from CDN, this \\n\"+\n     \"may be due to a slow or bad network connection. Possible fixes:\\n\"+\n     \"</p>\\n\"+\n     \"<ul>\\n\"+\n     \"<li>re-rerun `output_notebook()` to attempt to load from CDN again, or</li>\\n\"+\n     \"<li>use INLINE resources instead, as so:</li>\\n\"+\n     \"</ul>\\n\"+\n     \"<code>\\n\"+\n     \"from bokeh.resources import INLINE\\n\"+\n     \"output_notebook(resources=INLINE)\\n\"+\n     \"</code>\\n\"+\n     \"</div>\"}};\n\n  function display_loaded() {\n    var el = document.getElementById(\"1001\");\n    if (el != null) {\n      el.textContent = \"BokehJS is loading...\";\n    }\n    if (root.Bokeh !== undefined) {\n      if (el != null) {\n        el.textContent = \"BokehJS \" + root.Bokeh.version + \" successfully loaded.\";\n      }\n    } else if (Date.now() < root._bokeh_timeout) {\n      setTimeout(display_loaded, 100)\n    }\n  }\n\n\n  function run_callbacks() {\n    try {\n      root._bokeh_onload_callbacks.forEach(function(callback) {\n        if (callback != null)\n          callback();\n      });\n    } finally {\n      delete root._bokeh_onload_callbacks\n    }\n    console.debug(\"Bokeh: all callbacks have finished\");\n  }\n\n  function load_libs(css_urls, js_urls, callback) {\n    if (css_urls == null) css_urls = [];\n    if (js_urls == null) js_urls = [];\n\n    root._bokeh_onload_callbacks.push(callback);\n    if (root._bokeh_is_loading > 0) {\n      console.debug(\"Bokeh: BokehJS is being loaded, scheduling callback at\", now());\n      return null;\n    }\n    if (js_urls == null || js_urls.length === 0) {\n      run_callbacks();\n      return null;\n    }\n    console.debug(\"Bokeh: BokehJS not loaded, scheduling load and callback at\", now());\n    root._bokeh_is_loading = css_urls.length + js_urls.length;\n\n    function on_load() {\n      root._bokeh_is_loading--;\n      if (root._bokeh_is_loading === 0) {\n        console.debug(\"Bokeh: all BokehJS libraries/stylesheets loaded\");\n        run_callbacks()\n      }\n    }\n\n    function on_error() {\n      console.error(\"failed to load \" + url);\n    }\n\n    for (var i = 0; i < css_urls.length; i++) {\n      var url = css_urls[i];\n      const element = document.createElement(\"link\");\n      element.onload = on_load;\n      element.onerror = on_error;\n      element.rel = \"stylesheet\";\n      element.type = \"text/css\";\n      element.href = url;\n      console.debug(\"Bokeh: injecting link tag for BokehJS stylesheet: \", url);\n      document.body.appendChild(element);\n    }\n\n    const hashes = {\"https://cdn.bokeh.org/bokeh/release/bokeh-2.2.3.min.js\": \"T2yuo9Oe71Cz/I4X9Ac5+gpEa5a8PpJCDlqKYO0CfAuEszu1JrXLl8YugMqYe3sM\", \"https://cdn.bokeh.org/bokeh/release/bokeh-widgets-2.2.3.min.js\": \"98GDGJ0kOMCUMUePhksaQ/GYgB3+NH9h996V88sh3aOiUNX3N+fLXAtry6xctSZ6\", \"https://cdn.bokeh.org/bokeh/release/bokeh-tables-2.2.3.min.js\": \"89bArO+nlbP3sgakeHjCo1JYxYR5wufVgA3IbUvDY+K7w4zyxJqssu7wVnfeKCq8\"};\n\n    for (var i = 0; i < js_urls.length; i++) {\n      var url = js_urls[i];\n      var element = document.createElement('script');\n      element.onload = on_load;\n      element.onerror = on_error;\n      element.async = false;\n      element.src = url;\n      if (url in hashes) {\n        element.crossOrigin = \"anonymous\";\n        element.integrity = \"sha384-\" + hashes[url];\n      }\n      console.debug(\"Bokeh: injecting script tag for BokehJS library: \", url);\n      document.head.appendChild(element);\n    }\n  };\n\n  function inject_raw_css(css) {\n    const element = document.createElement(\"style\");\n    element.appendChild(document.createTextNode(css));\n    document.body.appendChild(element);\n  }\n\n  \n  var js_urls = [\"https://cdn.bokeh.org/bokeh/release/bokeh-2.2.3.min.js\", \"https://cdn.bokeh.org/bokeh/release/bokeh-widgets-2.2.3.min.js\", \"https://cdn.bokeh.org/bokeh/release/bokeh-tables-2.2.3.min.js\"];\n  var css_urls = [];\n  \n\n  var inline_js = [\n    function(Bokeh) {\n      Bokeh.set_log_level(\"info\");\n    },\n    function(Bokeh) {\n    \n    \n    }\n  ];\n\n  function run_inline_js() {\n    \n    if (root.Bokeh !== undefined || force === true) {\n      \n    for (var i = 0; i < inline_js.length; i++) {\n      inline_js[i].call(root, root.Bokeh);\n    }\n    if (force === true) {\n        display_loaded();\n      }} else if (Date.now() < root._bokeh_timeout) {\n      setTimeout(run_inline_js, 100);\n    } else if (!root._bokeh_failed_load) {\n      console.log(\"Bokeh: BokehJS failed to load within specified timeout.\");\n      root._bokeh_failed_load = true;\n    } else if (force !== true) {\n      var cell = $(document.getElementById(\"1001\")).parents('.cell').data().cell;\n      cell.output_area.append_execute_result(NB_LOAD_WARNING)\n    }\n\n  }\n\n  if (root._bokeh_is_loading === 0) {\n    console.debug(\"Bokeh: BokehJS loaded, going straight to plotting\");\n    run_inline_js();\n  } else {\n    load_libs(css_urls, js_urls, function() {\n      console.debug(\"Bokeh: BokehJS plotting callback run at\", now());\n      run_inline_js();\n    });\n  }\n}(window));",
      "application/vnd.bokehjs_load.v0+json": "\n(function(root) {\n  function now() {\n    return new Date();\n  }\n\n  var force = true;\n\n  if (typeof root._bokeh_onload_callbacks === \"undefined\" || force === true) {\n    root._bokeh_onload_callbacks = [];\n    root._bokeh_is_loading = undefined;\n  }\n\n  \n\n  \n  if (typeof (root._bokeh_timeout) === \"undefined\" || force === true) {\n    root._bokeh_timeout = Date.now() + 5000;\n    root._bokeh_failed_load = false;\n  }\n\n  var NB_LOAD_WARNING = {'data': {'text/html':\n     \"<div style='background-color: #fdd'>\\n\"+\n     \"<p>\\n\"+\n     \"BokehJS does not appear to have successfully loaded. If loading BokehJS from CDN, this \\n\"+\n     \"may be due to a slow or bad network connection. Possible fixes:\\n\"+\n     \"</p>\\n\"+\n     \"<ul>\\n\"+\n     \"<li>re-rerun `output_notebook()` to attempt to load from CDN again, or</li>\\n\"+\n     \"<li>use INLINE resources instead, as so:</li>\\n\"+\n     \"</ul>\\n\"+\n     \"<code>\\n\"+\n     \"from bokeh.resources import INLINE\\n\"+\n     \"output_notebook(resources=INLINE)\\n\"+\n     \"</code>\\n\"+\n     \"</div>\"}};\n\n  function display_loaded() {\n    var el = document.getElementById(\"1001\");\n    if (el != null) {\n      el.textContent = \"BokehJS is loading...\";\n    }\n    if (root.Bokeh !== undefined) {\n      if (el != null) {\n        el.textContent = \"BokehJS \" + root.Bokeh.version + \" successfully loaded.\";\n      }\n    } else if (Date.now() < root._bokeh_timeout) {\n      setTimeout(display_loaded, 100)\n    }\n  }\n\n\n  function run_callbacks() {\n    try {\n      root._bokeh_onload_callbacks.forEach(function(callback) {\n        if (callback != null)\n          callback();\n      });\n    } finally {\n      delete root._bokeh_onload_callbacks\n    }\n    console.debug(\"Bokeh: all callbacks have finished\");\n  }\n\n  function load_libs(css_urls, js_urls, callback) {\n    if (css_urls == null) css_urls = [];\n    if (js_urls == null) js_urls = [];\n\n    root._bokeh_onload_callbacks.push(callback);\n    if (root._bokeh_is_loading > 0) {\n      console.debug(\"Bokeh: BokehJS is being loaded, scheduling callback at\", now());\n      return null;\n    }\n    if (js_urls == null || js_urls.length === 0) {\n      run_callbacks();\n      return null;\n    }\n    console.debug(\"Bokeh: BokehJS not loaded, scheduling load and callback at\", now());\n    root._bokeh_is_loading = css_urls.length + js_urls.length;\n\n    function on_load() {\n      root._bokeh_is_loading--;\n      if (root._bokeh_is_loading === 0) {\n        console.debug(\"Bokeh: all BokehJS libraries/stylesheets loaded\");\n        run_callbacks()\n      }\n    }\n\n    function on_error() {\n      console.error(\"failed to load \" + url);\n    }\n\n    for (var i = 0; i < css_urls.length; i++) {\n      var url = css_urls[i];\n      const element = document.createElement(\"link\");\n      element.onload = on_load;\n      element.onerror = on_error;\n      element.rel = \"stylesheet\";\n      element.type = \"text/css\";\n      element.href = url;\n      console.debug(\"Bokeh: injecting link tag for BokehJS stylesheet: \", url);\n      document.body.appendChild(element);\n    }\n\n    const hashes = {\"https://cdn.bokeh.org/bokeh/release/bokeh-2.2.3.min.js\": \"T2yuo9Oe71Cz/I4X9Ac5+gpEa5a8PpJCDlqKYO0CfAuEszu1JrXLl8YugMqYe3sM\", \"https://cdn.bokeh.org/bokeh/release/bokeh-widgets-2.2.3.min.js\": \"98GDGJ0kOMCUMUePhksaQ/GYgB3+NH9h996V88sh3aOiUNX3N+fLXAtry6xctSZ6\", \"https://cdn.bokeh.org/bokeh/release/bokeh-tables-2.2.3.min.js\": \"89bArO+nlbP3sgakeHjCo1JYxYR5wufVgA3IbUvDY+K7w4zyxJqssu7wVnfeKCq8\"};\n\n    for (var i = 0; i < js_urls.length; i++) {\n      var url = js_urls[i];\n      var element = document.createElement('script');\n      element.onload = on_load;\n      element.onerror = on_error;\n      element.async = false;\n      element.src = url;\n      if (url in hashes) {\n        element.crossOrigin = \"anonymous\";\n        element.integrity = \"sha384-\" + hashes[url];\n      }\n      console.debug(\"Bokeh: injecting script tag for BokehJS library: \", url);\n      document.head.appendChild(element);\n    }\n  };\n\n  function inject_raw_css(css) {\n    const element = document.createElement(\"style\");\n    element.appendChild(document.createTextNode(css));\n    document.body.appendChild(element);\n  }\n\n  \n  var js_urls = [\"https://cdn.bokeh.org/bokeh/release/bokeh-2.2.3.min.js\", \"https://cdn.bokeh.org/bokeh/release/bokeh-widgets-2.2.3.min.js\", \"https://cdn.bokeh.org/bokeh/release/bokeh-tables-2.2.3.min.js\"];\n  var css_urls = [];\n  \n\n  var inline_js = [\n    function(Bokeh) {\n      Bokeh.set_log_level(\"info\");\n    },\n    function(Bokeh) {\n    \n    \n    }\n  ];\n\n  function run_inline_js() {\n    \n    if (root.Bokeh !== undefined || force === true) {\n      \n    for (var i = 0; i < inline_js.length; i++) {\n      inline_js[i].call(root, root.Bokeh);\n    }\n    if (force === true) {\n        display_loaded();\n      }} else if (Date.now() < root._bokeh_timeout) {\n      setTimeout(run_inline_js, 100);\n    } else if (!root._bokeh_failed_load) {\n      console.log(\"Bokeh: BokehJS failed to load within specified timeout.\");\n      root._bokeh_failed_load = true;\n    } else if (force !== true) {\n      var cell = $(document.getElementById(\"1001\")).parents('.cell').data().cell;\n      cell.output_area.append_execute_result(NB_LOAD_WARNING)\n    }\n\n  }\n\n  if (root._bokeh_is_loading === 0) {\n    console.debug(\"Bokeh: BokehJS loaded, going straight to plotting\");\n    run_inline_js();\n  } else {\n    load_libs(css_urls, js_urls, function() {\n      console.debug(\"Bokeh: BokehJS plotting callback run at\", now());\n      run_inline_js();\n    });\n  }\n}(window));"
     },
     "metadata": {}
    }
   ],
   "source": [
    "output_notebook()"
   ]
  },
  {
   "cell_type": "code",
   "execution_count": 3,
   "metadata": {},
   "outputs": [],
   "source": [
    "# Let's create a data arrays used for plotting the line plot\n",
    "x = [5,6,7,8,9,10]\n",
    "y = [1,2,3,4,5,6]"
   ]
  },
  {
   "cell_type": "markdown",
   "metadata": {},
   "source": [
    "Faire appel à la fonction Figure donne à Bokeh l'instruction de construire un graphe. On peut alors y ajouter les couches de glyphs."
   ]
  },
  {
   "cell_type": "code",
   "execution_count": 4,
   "metadata": {},
   "outputs": [],
   "source": [
    "# Faire appel à figure() pour créer la figure du plot\n",
    "p = figure(plot_width=400 , plot_height = 400)"
   ]
  },
  {
   "cell_type": "code",
   "execution_count": 5,
   "metadata": {},
   "outputs": [
    {
     "output_type": "execute_result",
     "data": {
      "text/plain": [
       "GlyphRenderer(id='1036', ...)"
      ],
      "text/html": "<div style=\"display: table;\"><div style=\"display: table-row;\"><div style=\"display: table-cell;\"><b title=\"bokeh.models.renderers.GlyphRenderer\">GlyphRenderer</b>(</div><div style=\"display: table-cell;\">id&nbsp;=&nbsp;'1036', <span id=\"1039\" style=\"cursor: pointer;\">&hellip;)</span></div></div><div class=\"1038\" style=\"display: none;\"><div style=\"display: table-cell;\"></div><div style=\"display: table-cell;\">data_source&nbsp;=&nbsp;ColumnDataSource(id='1033', ...),</div></div><div class=\"1038\" style=\"display: none;\"><div style=\"display: table-cell;\"></div><div style=\"display: table-cell;\">glyph&nbsp;=&nbsp;Line(id='1034', ...),</div></div><div class=\"1038\" style=\"display: none;\"><div style=\"display: table-cell;\"></div><div style=\"display: table-cell;\">hover_glyph&nbsp;=&nbsp;None,</div></div><div class=\"1038\" style=\"display: none;\"><div style=\"display: table-cell;\"></div><div style=\"display: table-cell;\">js_event_callbacks&nbsp;=&nbsp;{},</div></div><div class=\"1038\" style=\"display: none;\"><div style=\"display: table-cell;\"></div><div style=\"display: table-cell;\">js_property_callbacks&nbsp;=&nbsp;{},</div></div><div class=\"1038\" style=\"display: none;\"><div style=\"display: table-cell;\"></div><div style=\"display: table-cell;\">level&nbsp;=&nbsp;'glyph',</div></div><div class=\"1038\" style=\"display: none;\"><div style=\"display: table-cell;\"></div><div style=\"display: table-cell;\">muted&nbsp;=&nbsp;False,</div></div><div class=\"1038\" style=\"display: none;\"><div style=\"display: table-cell;\"></div><div style=\"display: table-cell;\">muted_glyph&nbsp;=&nbsp;None,</div></div><div class=\"1038\" style=\"display: none;\"><div style=\"display: table-cell;\"></div><div style=\"display: table-cell;\">name&nbsp;=&nbsp;None,</div></div><div class=\"1038\" style=\"display: none;\"><div style=\"display: table-cell;\"></div><div style=\"display: table-cell;\">nonselection_glyph&nbsp;=&nbsp;Line(id='1035', ...),</div></div><div class=\"1038\" style=\"display: none;\"><div style=\"display: table-cell;\"></div><div style=\"display: table-cell;\">selection_glyph&nbsp;=&nbsp;None,</div></div><div class=\"1038\" style=\"display: none;\"><div style=\"display: table-cell;\"></div><div style=\"display: table-cell;\">subscribed_events&nbsp;=&nbsp;[],</div></div><div class=\"1038\" style=\"display: none;\"><div style=\"display: table-cell;\"></div><div style=\"display: table-cell;\">tags&nbsp;=&nbsp;[],</div></div><div class=\"1038\" style=\"display: none;\"><div style=\"display: table-cell;\"></div><div style=\"display: table-cell;\">view&nbsp;=&nbsp;CDSView(id='1037', ...),</div></div><div class=\"1038\" style=\"display: none;\"><div style=\"display: table-cell;\"></div><div style=\"display: table-cell;\">visible&nbsp;=&nbsp;True,</div></div><div class=\"1038\" style=\"display: none;\"><div style=\"display: table-cell;\"></div><div style=\"display: table-cell;\">x_range_name&nbsp;=&nbsp;'default',</div></div><div class=\"1038\" style=\"display: none;\"><div style=\"display: table-cell;\"></div><div style=\"display: table-cell;\">y_range_name&nbsp;=&nbsp;'default')</div></div></div>\n<script>\n(function() {\n  var expanded = false;\n  var ellipsis = document.getElementById(\"1039\");\n  ellipsis.addEventListener(\"click\", function() {\n    var rows = document.getElementsByClassName(\"1038\");\n    for (var i = 0; i < rows.length; i++) {\n      var el = rows[i];\n      el.style.display = expanded ? \"none\" : \"table-row\";\n    }\n    ellipsis.innerHTML = expanded ? \"&hellip;)\" : \"&lsaquo;&lsaquo;&lsaquo;\";\n    expanded = !expanded;\n  });\n})();\n</script>\n"
     },
     "metadata": {},
     "execution_count": 5
    }
   ],
   "source": [
    "# Créer un line plot en utilisant la fonction line()\n",
    "p.line(x,y,line_width=2,color=\"green\")"
   ]
  },
  {
   "cell_type": "code",
   "execution_count": 6,
   "metadata": {},
   "outputs": [
    {
     "output_type": "execute_result",
     "data": {
      "text/plain": [
       "GlyphRenderer(id='1043', ...)"
      ],
      "text/html": "<div style=\"display: table;\"><div style=\"display: table-row;\"><div style=\"display: table-cell;\"><b title=\"bokeh.models.renderers.GlyphRenderer\">GlyphRenderer</b>(</div><div style=\"display: table-cell;\">id&nbsp;=&nbsp;'1043', <span id=\"1046\" style=\"cursor: pointer;\">&hellip;)</span></div></div><div class=\"1045\" style=\"display: none;\"><div style=\"display: table-cell;\"></div><div style=\"display: table-cell;\">data_source&nbsp;=&nbsp;ColumnDataSource(id='1040', ...),</div></div><div class=\"1045\" style=\"display: none;\"><div style=\"display: table-cell;\"></div><div style=\"display: table-cell;\">glyph&nbsp;=&nbsp;Circle(id='1041', ...),</div></div><div class=\"1045\" style=\"display: none;\"><div style=\"display: table-cell;\"></div><div style=\"display: table-cell;\">hover_glyph&nbsp;=&nbsp;None,</div></div><div class=\"1045\" style=\"display: none;\"><div style=\"display: table-cell;\"></div><div style=\"display: table-cell;\">js_event_callbacks&nbsp;=&nbsp;{},</div></div><div class=\"1045\" style=\"display: none;\"><div style=\"display: table-cell;\"></div><div style=\"display: table-cell;\">js_property_callbacks&nbsp;=&nbsp;{},</div></div><div class=\"1045\" style=\"display: none;\"><div style=\"display: table-cell;\"></div><div style=\"display: table-cell;\">level&nbsp;=&nbsp;'glyph',</div></div><div class=\"1045\" style=\"display: none;\"><div style=\"display: table-cell;\"></div><div style=\"display: table-cell;\">muted&nbsp;=&nbsp;False,</div></div><div class=\"1045\" style=\"display: none;\"><div style=\"display: table-cell;\"></div><div style=\"display: table-cell;\">muted_glyph&nbsp;=&nbsp;None,</div></div><div class=\"1045\" style=\"display: none;\"><div style=\"display: table-cell;\"></div><div style=\"display: table-cell;\">name&nbsp;=&nbsp;None,</div></div><div class=\"1045\" style=\"display: none;\"><div style=\"display: table-cell;\"></div><div style=\"display: table-cell;\">nonselection_glyph&nbsp;=&nbsp;Circle(id='1042', ...),</div></div><div class=\"1045\" style=\"display: none;\"><div style=\"display: table-cell;\"></div><div style=\"display: table-cell;\">selection_glyph&nbsp;=&nbsp;None,</div></div><div class=\"1045\" style=\"display: none;\"><div style=\"display: table-cell;\"></div><div style=\"display: table-cell;\">subscribed_events&nbsp;=&nbsp;[],</div></div><div class=\"1045\" style=\"display: none;\"><div style=\"display: table-cell;\"></div><div style=\"display: table-cell;\">tags&nbsp;=&nbsp;[],</div></div><div class=\"1045\" style=\"display: none;\"><div style=\"display: table-cell;\"></div><div style=\"display: table-cell;\">view&nbsp;=&nbsp;CDSView(id='1044', ...),</div></div><div class=\"1045\" style=\"display: none;\"><div style=\"display: table-cell;\"></div><div style=\"display: table-cell;\">visible&nbsp;=&nbsp;True,</div></div><div class=\"1045\" style=\"display: none;\"><div style=\"display: table-cell;\"></div><div style=\"display: table-cell;\">x_range_name&nbsp;=&nbsp;'default',</div></div><div class=\"1045\" style=\"display: none;\"><div style=\"display: table-cell;\"></div><div style=\"display: table-cell;\">y_range_name&nbsp;=&nbsp;'default')</div></div></div>\n<script>\n(function() {\n  var expanded = false;\n  var ellipsis = document.getElementById(\"1046\");\n  ellipsis.addEventListener(\"click\", function() {\n    var rows = document.getElementsByClassName(\"1045\");\n    for (var i = 0; i < rows.length; i++) {\n      var el = rows[i];\n      el.style.display = expanded ? \"none\" : \"table-row\";\n    }\n    ellipsis.innerHTML = expanded ? \"&hellip;)\" : \"&lsaquo;&lsaquo;&lsaquo;\";\n    expanded = !expanded;\n  });\n})();\n</script>\n"
     },
     "metadata": {},
     "execution_count": 6
    }
   ],
   "source": [
    "# Créer des markers sur le line plot au niveau de l'intersection entre x et y\n",
    "p.circle(x,y,fill_color=\"red\",size=6)\n"
   ]
  },
  {
   "cell_type": "code",
   "execution_count": 7,
   "metadata": {},
   "outputs": [
    {
     "output_type": "display_data",
     "data": {
      "text/html": "\n\n\n\n\n\n  <div class=\"bk-root\" id=\"0f1ea4f1-17ce-4688-a16f-25ccfa3ec1eb\" data-root-id=\"1002\"></div>\n"
     },
     "metadata": {}
    },
    {
     "output_type": "display_data",
     "data": {
      "application/javascript": "(function(root) {\n  function embed_document(root) {\n    \n  var docs_json = {\"81465982-c633-4684-8938-3644ac16bff9\":{\"roots\":{\"references\":[{\"attributes\":{\"below\":[{\"id\":\"1011\"}],\"center\":[{\"id\":\"1014\"},{\"id\":\"1018\"}],\"left\":[{\"id\":\"1015\"}],\"plot_height\":400,\"plot_width\":400,\"renderers\":[{\"id\":\"1036\"},{\"id\":\"1043\"}],\"title\":{\"id\":\"1048\"},\"toolbar\":{\"id\":\"1026\"},\"x_range\":{\"id\":\"1003\"},\"x_scale\":{\"id\":\"1007\"},\"y_range\":{\"id\":\"1005\"},\"y_scale\":{\"id\":\"1009\"}},\"id\":\"1002\",\"subtype\":\"Figure\",\"type\":\"Plot\"},{\"attributes\":{\"formatter\":{\"id\":\"1052\"},\"ticker\":{\"id\":\"1012\"}},\"id\":\"1011\",\"type\":\"LinearAxis\"},{\"attributes\":{\"fill_color\":{\"value\":\"red\"},\"line_color\":{\"value\":\"#1f77b4\"},\"size\":{\"units\":\"screen\",\"value\":6},\"x\":{\"field\":\"x\"},\"y\":{\"field\":\"y\"}},\"id\":\"1041\",\"type\":\"Circle\"},{\"attributes\":{},\"id\":\"1003\",\"type\":\"DataRange1d\"},{\"attributes\":{\"line_alpha\":0.1,\"line_color\":\"green\",\"line_width\":2,\"x\":{\"field\":\"x\"},\"y\":{\"field\":\"y\"}},\"id\":\"1035\",\"type\":\"Line\"},{\"attributes\":{\"formatter\":{\"id\":\"1050\"},\"ticker\":{\"id\":\"1016\"}},\"id\":\"1015\",\"type\":\"LinearAxis\"},{\"attributes\":{\"data_source\":{\"id\":\"1033\"},\"glyph\":{\"id\":\"1034\"},\"hover_glyph\":null,\"muted_glyph\":null,\"nonselection_glyph\":{\"id\":\"1035\"},\"selection_glyph\":null,\"view\":{\"id\":\"1037\"}},\"id\":\"1036\",\"type\":\"GlyphRenderer\"},{\"attributes\":{},\"id\":\"1007\",\"type\":\"LinearScale\"},{\"attributes\":{},\"id\":\"1055\",\"type\":\"Selection\"},{\"attributes\":{\"data\":{\"x\":[5,6,7,8,9,10],\"y\":[1,2,3,4,5,6]},\"selected\":{\"id\":\"1053\"},\"selection_policy\":{\"id\":\"1054\"}},\"id\":\"1033\",\"type\":\"ColumnDataSource\"},{\"attributes\":{},\"id\":\"1050\",\"type\":\"BasicTickFormatter\"},{\"attributes\":{},\"id\":\"1056\",\"type\":\"UnionRenderers\"},{\"attributes\":{\"line_color\":\"green\",\"line_width\":2,\"x\":{\"field\":\"x\"},\"y\":{\"field\":\"y\"}},\"id\":\"1034\",\"type\":\"Line\"},{\"attributes\":{\"active_drag\":\"auto\",\"active_inspect\":\"auto\",\"active_multi\":null,\"active_scroll\":\"auto\",\"active_tap\":\"auto\",\"tools\":[{\"id\":\"1019\"},{\"id\":\"1020\"},{\"id\":\"1021\"},{\"id\":\"1022\"},{\"id\":\"1023\"},{\"id\":\"1024\"}]},\"id\":\"1026\",\"type\":\"Toolbar\"},{\"attributes\":{},\"id\":\"1005\",\"type\":\"DataRange1d\"},{\"attributes\":{},\"id\":\"1009\",\"type\":\"LinearScale\"},{\"attributes\":{},\"id\":\"1024\",\"type\":\"HelpTool\"},{\"attributes\":{\"fill_alpha\":{\"value\":0.1},\"fill_color\":{\"value\":\"red\"},\"line_alpha\":{\"value\":0.1},\"line_color\":{\"value\":\"#1f77b4\"},\"size\":{\"units\":\"screen\",\"value\":6},\"x\":{\"field\":\"x\"},\"y\":{\"field\":\"y\"}},\"id\":\"1042\",\"type\":\"Circle\"},{\"attributes\":{},\"id\":\"1012\",\"type\":\"BasicTicker\"},{\"attributes\":{\"axis\":{\"id\":\"1011\"},\"ticker\":null},\"id\":\"1014\",\"type\":\"Grid\"},{\"attributes\":{\"data_source\":{\"id\":\"1040\"},\"glyph\":{\"id\":\"1041\"},\"hover_glyph\":null,\"muted_glyph\":null,\"nonselection_glyph\":{\"id\":\"1042\"},\"selection_glyph\":null,\"view\":{\"id\":\"1044\"}},\"id\":\"1043\",\"type\":\"GlyphRenderer\"},{\"attributes\":{\"source\":{\"id\":\"1040\"}},\"id\":\"1044\",\"type\":\"CDSView\"},{\"attributes\":{\"axis\":{\"id\":\"1015\"},\"dimension\":1,\"ticker\":null},\"id\":\"1018\",\"type\":\"Grid\"},{\"attributes\":{},\"id\":\"1016\",\"type\":\"BasicTicker\"},{\"attributes\":{},\"id\":\"1020\",\"type\":\"WheelZoomTool\"},{\"attributes\":{},\"id\":\"1019\",\"type\":\"PanTool\"},{\"attributes\":{},\"id\":\"1052\",\"type\":\"BasicTickFormatter\"},{\"attributes\":{\"data\":{\"x\":[5,6,7,8,9,10],\"y\":[1,2,3,4,5,6]},\"selected\":{\"id\":\"1055\"},\"selection_policy\":{\"id\":\"1056\"}},\"id\":\"1040\",\"type\":\"ColumnDataSource\"},{\"attributes\":{\"bottom_units\":\"screen\",\"fill_alpha\":0.5,\"fill_color\":\"lightgrey\",\"left_units\":\"screen\",\"level\":\"overlay\",\"line_alpha\":1.0,\"line_color\":\"black\",\"line_dash\":[4,4],\"line_width\":2,\"right_units\":\"screen\",\"top_units\":\"screen\"},\"id\":\"1025\",\"type\":\"BoxAnnotation\"},{\"attributes\":{},\"id\":\"1022\",\"type\":\"SaveTool\"},{\"attributes\":{\"source\":{\"id\":\"1033\"}},\"id\":\"1037\",\"type\":\"CDSView\"},{\"attributes\":{\"overlay\":{\"id\":\"1025\"}},\"id\":\"1021\",\"type\":\"BoxZoomTool\"},{\"attributes\":{},\"id\":\"1053\",\"type\":\"Selection\"},{\"attributes\":{\"text\":\"\"},\"id\":\"1048\",\"type\":\"Title\"},{\"attributes\":{},\"id\":\"1054\",\"type\":\"UnionRenderers\"},{\"attributes\":{},\"id\":\"1023\",\"type\":\"ResetTool\"}],\"root_ids\":[\"1002\"]},\"title\":\"Bokeh Application\",\"version\":\"2.2.3\"}};\n  var render_items = [{\"docid\":\"81465982-c633-4684-8938-3644ac16bff9\",\"root_ids\":[\"1002\"],\"roots\":{\"1002\":\"0f1ea4f1-17ce-4688-a16f-25ccfa3ec1eb\"}}];\n  root.Bokeh.embed.embed_items_notebook(docs_json, render_items);\n\n  }\n  if (root.Bokeh !== undefined) {\n    embed_document(root);\n  } else {\n    var attempts = 0;\n    var timer = setInterval(function(root) {\n      if (root.Bokeh !== undefined) {\n        clearInterval(timer);\n        embed_document(root);\n      } else {\n        attempts++;\n        if (attempts > 100) {\n          clearInterval(timer);\n          console.log(\"Bokeh: ERROR: Unable to run BokehJS code because BokehJS library is missing\");\n        }\n      }\n    }, 10, root)\n  }\n})(window);",
      "application/vnd.bokehjs_exec.v0+json": ""
     },
     "metadata": {
      "application/vnd.bokehjs_exec.v0+json": {
       "id": "1002"
      }
     }
    }
   ],
   "source": [
    "# Afficher le graphe au niveau de ce notebook\n",
    "show(p)"
   ]
  },
  {
   "cell_type": "markdown",
   "metadata": {},
   "source": [
    "On peut créer un scatter plot en utilisant x et y"
   ]
  },
  {
   "cell_type": "code",
   "execution_count": 8,
   "metadata": {},
   "outputs": [],
   "source": [
    "# Créer une nouvelle figure\n",
    "f = figure(plot_width=400 , plot_height = 400)"
   ]
  },
  {
   "cell_type": "code",
   "execution_count": 9,
   "metadata": {},
   "outputs": [
    {
     "output_type": "execute_result",
     "data": {
      "text/plain": [
       "GlyphRenderer(id='1147', ...)"
      ],
      "text/html": "<div style=\"display: table;\"><div style=\"display: table-row;\"><div style=\"display: table-cell;\"><b title=\"bokeh.models.renderers.GlyphRenderer\">GlyphRenderer</b>(</div><div style=\"display: table-cell;\">id&nbsp;=&nbsp;'1147', <span id=\"1150\" style=\"cursor: pointer;\">&hellip;)</span></div></div><div class=\"1149\" style=\"display: none;\"><div style=\"display: table-cell;\"></div><div style=\"display: table-cell;\">data_source&nbsp;=&nbsp;ColumnDataSource(id='1144', ...),</div></div><div class=\"1149\" style=\"display: none;\"><div style=\"display: table-cell;\"></div><div style=\"display: table-cell;\">glyph&nbsp;=&nbsp;Circle(id='1145', ...),</div></div><div class=\"1149\" style=\"display: none;\"><div style=\"display: table-cell;\"></div><div style=\"display: table-cell;\">hover_glyph&nbsp;=&nbsp;None,</div></div><div class=\"1149\" style=\"display: none;\"><div style=\"display: table-cell;\"></div><div style=\"display: table-cell;\">js_event_callbacks&nbsp;=&nbsp;{},</div></div><div class=\"1149\" style=\"display: none;\"><div style=\"display: table-cell;\"></div><div style=\"display: table-cell;\">js_property_callbacks&nbsp;=&nbsp;{},</div></div><div class=\"1149\" style=\"display: none;\"><div style=\"display: table-cell;\"></div><div style=\"display: table-cell;\">level&nbsp;=&nbsp;'glyph',</div></div><div class=\"1149\" style=\"display: none;\"><div style=\"display: table-cell;\"></div><div style=\"display: table-cell;\">muted&nbsp;=&nbsp;False,</div></div><div class=\"1149\" style=\"display: none;\"><div style=\"display: table-cell;\"></div><div style=\"display: table-cell;\">muted_glyph&nbsp;=&nbsp;None,</div></div><div class=\"1149\" style=\"display: none;\"><div style=\"display: table-cell;\"></div><div style=\"display: table-cell;\">name&nbsp;=&nbsp;None,</div></div><div class=\"1149\" style=\"display: none;\"><div style=\"display: table-cell;\"></div><div style=\"display: table-cell;\">nonselection_glyph&nbsp;=&nbsp;Circle(id='1146', ...),</div></div><div class=\"1149\" style=\"display: none;\"><div style=\"display: table-cell;\"></div><div style=\"display: table-cell;\">selection_glyph&nbsp;=&nbsp;None,</div></div><div class=\"1149\" style=\"display: none;\"><div style=\"display: table-cell;\"></div><div style=\"display: table-cell;\">subscribed_events&nbsp;=&nbsp;[],</div></div><div class=\"1149\" style=\"display: none;\"><div style=\"display: table-cell;\"></div><div style=\"display: table-cell;\">tags&nbsp;=&nbsp;[],</div></div><div class=\"1149\" style=\"display: none;\"><div style=\"display: table-cell;\"></div><div style=\"display: table-cell;\">view&nbsp;=&nbsp;CDSView(id='1148', ...),</div></div><div class=\"1149\" style=\"display: none;\"><div style=\"display: table-cell;\"></div><div style=\"display: table-cell;\">visible&nbsp;=&nbsp;True,</div></div><div class=\"1149\" style=\"display: none;\"><div style=\"display: table-cell;\"></div><div style=\"display: table-cell;\">x_range_name&nbsp;=&nbsp;'default',</div></div><div class=\"1149\" style=\"display: none;\"><div style=\"display: table-cell;\"></div><div style=\"display: table-cell;\">y_range_name&nbsp;=&nbsp;'default')</div></div></div>\n<script>\n(function() {\n  var expanded = false;\n  var ellipsis = document.getElementById(\"1150\");\n  ellipsis.addEventListener(\"click\", function() {\n    var rows = document.getElementsByClassName(\"1149\");\n    for (var i = 0; i < rows.length; i++) {\n      var el = rows[i];\n      el.style.display = expanded ? \"none\" : \"table-row\";\n    }\n    ellipsis.innerHTML = expanded ? \"&hellip;)\" : \"&lsaquo;&lsaquo;&lsaquo;\";\n    expanded = !expanded;\n  });\n})();\n</script>\n"
     },
     "metadata": {},
     "execution_count": 9
    }
   ],
   "source": [
    "# Afficher les points en utilisant un cirle marker\n",
    "f.circle(x,y,fill_color=\"red\",size=6)"
   ]
  },
  {
   "cell_type": "code",
   "execution_count": 10,
   "metadata": {},
   "outputs": [
    {
     "output_type": "display_data",
     "data": {
      "text/html": "\n\n\n\n\n\n  <div class=\"bk-root\" id=\"1426c29e-bfe9-43f2-ad2d-d7cda241af7f\" data-root-id=\"1113\"></div>\n"
     },
     "metadata": {}
    },
    {
     "output_type": "display_data",
     "data": {
      "application/javascript": "(function(root) {\n  function embed_document(root) {\n    \n  var docs_json = {\"71e2955b-b29c-4d0c-af22-486cee2d68cd\":{\"roots\":{\"references\":[{\"attributes\":{\"below\":[{\"id\":\"1122\"}],\"center\":[{\"id\":\"1125\"},{\"id\":\"1129\"}],\"left\":[{\"id\":\"1126\"}],\"plot_height\":400,\"plot_width\":400,\"renderers\":[{\"id\":\"1147\"}],\"title\":{\"id\":\"1163\"},\"toolbar\":{\"id\":\"1137\"},\"x_range\":{\"id\":\"1114\"},\"x_scale\":{\"id\":\"1118\"},\"y_range\":{\"id\":\"1116\"},\"y_scale\":{\"id\":\"1120\"}},\"id\":\"1113\",\"subtype\":\"Figure\",\"type\":\"Plot\"},{\"attributes\":{},\"id\":\"1169\",\"type\":\"UnionRenderers\"},{\"attributes\":{\"text\":\"\"},\"id\":\"1163\",\"type\":\"Title\"},{\"attributes\":{\"fill_color\":{\"value\":\"red\"},\"line_color\":{\"value\":\"#1f77b4\"},\"size\":{\"units\":\"screen\",\"value\":6},\"x\":{\"field\":\"x\"},\"y\":{\"field\":\"y\"}},\"id\":\"1145\",\"type\":\"Circle\"},{\"attributes\":{},\"id\":\"1118\",\"type\":\"LinearScale\"},{\"attributes\":{\"formatter\":{\"id\":\"1165\"},\"ticker\":{\"id\":\"1127\"}},\"id\":\"1126\",\"type\":\"LinearAxis\"},{\"attributes\":{\"fill_alpha\":{\"value\":0.1},\"fill_color\":{\"value\":\"red\"},\"line_alpha\":{\"value\":0.1},\"line_color\":{\"value\":\"#1f77b4\"},\"size\":{\"units\":\"screen\",\"value\":6},\"x\":{\"field\":\"x\"},\"y\":{\"field\":\"y\"}},\"id\":\"1146\",\"type\":\"Circle\"},{\"attributes\":{},\"id\":\"1114\",\"type\":\"DataRange1d\"},{\"attributes\":{\"formatter\":{\"id\":\"1167\"},\"ticker\":{\"id\":\"1123\"}},\"id\":\"1122\",\"type\":\"LinearAxis\"},{\"attributes\":{\"source\":{\"id\":\"1144\"}},\"id\":\"1148\",\"type\":\"CDSView\"},{\"attributes\":{\"bottom_units\":\"screen\",\"fill_alpha\":0.5,\"fill_color\":\"lightgrey\",\"left_units\":\"screen\",\"level\":\"overlay\",\"line_alpha\":1.0,\"line_color\":\"black\",\"line_dash\":[4,4],\"line_width\":2,\"right_units\":\"screen\",\"top_units\":\"screen\"},\"id\":\"1136\",\"type\":\"BoxAnnotation\"},{\"attributes\":{},\"id\":\"1134\",\"type\":\"ResetTool\"},{\"attributes\":{},\"id\":\"1133\",\"type\":\"SaveTool\"},{\"attributes\":{},\"id\":\"1165\",\"type\":\"BasicTickFormatter\"},{\"attributes\":{\"overlay\":{\"id\":\"1136\"}},\"id\":\"1132\",\"type\":\"BoxZoomTool\"},{\"attributes\":{},\"id\":\"1130\",\"type\":\"PanTool\"},{\"attributes\":{},\"id\":\"1131\",\"type\":\"WheelZoomTool\"},{\"attributes\":{},\"id\":\"1167\",\"type\":\"BasicTickFormatter\"},{\"attributes\":{\"active_drag\":\"auto\",\"active_inspect\":\"auto\",\"active_multi\":null,\"active_scroll\":\"auto\",\"active_tap\":\"auto\",\"tools\":[{\"id\":\"1130\"},{\"id\":\"1131\"},{\"id\":\"1132\"},{\"id\":\"1133\"},{\"id\":\"1134\"},{\"id\":\"1135\"}]},\"id\":\"1137\",\"type\":\"Toolbar\"},{\"attributes\":{},\"id\":\"1127\",\"type\":\"BasicTicker\"},{\"attributes\":{\"axis\":{\"id\":\"1126\"},\"dimension\":1,\"ticker\":null},\"id\":\"1129\",\"type\":\"Grid\"},{\"attributes\":{\"axis\":{\"id\":\"1122\"},\"ticker\":null},\"id\":\"1125\",\"type\":\"Grid\"},{\"attributes\":{},\"id\":\"1123\",\"type\":\"BasicTicker\"},{\"attributes\":{},\"id\":\"1135\",\"type\":\"HelpTool\"},{\"attributes\":{},\"id\":\"1120\",\"type\":\"LinearScale\"},{\"attributes\":{},\"id\":\"1116\",\"type\":\"DataRange1d\"},{\"attributes\":{},\"id\":\"1168\",\"type\":\"Selection\"},{\"attributes\":{\"data_source\":{\"id\":\"1144\"},\"glyph\":{\"id\":\"1145\"},\"hover_glyph\":null,\"muted_glyph\":null,\"nonselection_glyph\":{\"id\":\"1146\"},\"selection_glyph\":null,\"view\":{\"id\":\"1148\"}},\"id\":\"1147\",\"type\":\"GlyphRenderer\"},{\"attributes\":{\"data\":{\"x\":[5,6,7,8,9,10],\"y\":[1,2,3,4,5,6]},\"selected\":{\"id\":\"1168\"},\"selection_policy\":{\"id\":\"1169\"}},\"id\":\"1144\",\"type\":\"ColumnDataSource\"}],\"root_ids\":[\"1113\"]},\"title\":\"Bokeh Application\",\"version\":\"2.2.3\"}};\n  var render_items = [{\"docid\":\"71e2955b-b29c-4d0c-af22-486cee2d68cd\",\"root_ids\":[\"1113\"],\"roots\":{\"1113\":\"1426c29e-bfe9-43f2-ad2d-d7cda241af7f\"}}];\n  root.Bokeh.embed.embed_items_notebook(docs_json, render_items);\n\n  }\n  if (root.Bokeh !== undefined) {\n    embed_document(root);\n  } else {\n    var attempts = 0;\n    var timer = setInterval(function(root) {\n      if (root.Bokeh !== undefined) {\n        clearInterval(timer);\n        embed_document(root);\n      } else {\n        attempts++;\n        if (attempts > 100) {\n          clearInterval(timer);\n          console.log(\"Bokeh: ERROR: Unable to run BokehJS code because BokehJS library is missing\");\n        }\n      }\n    }, 10, root)\n  }\n})(window);",
      "application/vnd.bokehjs_exec.v0+json": ""
     },
     "metadata": {
      "application/vnd.bokehjs_exec.v0+json": {
       "id": "1113"
      }
     }
    }
   ],
   "source": [
    "# Afficher le graphe\n",
    "show(f)"
   ]
  },
  {
   "cell_type": "markdown",
   "metadata": {},
   "source": [
    "Lors de la création d'un scatter plot, on peut choisir parmi les markers disponible sur Bokeh: \n",
    "- cross()\n",
    "- x()\n",
    "- diamond()\n",
    "- diamond_cross()\n",
    "- circle_x()\n",
    "- circle_cross()\n",
    "- triangle()\n",
    "- inverted_triangle()\n",
    "- square()\n",
    "- square_x()\n",
    "- square_cross()\n",
    "- asterisk()"
   ]
  },
  {
   "cell_type": "code",
   "execution_count": 11,
   "metadata": {},
   "outputs": [
    {
     "output_type": "display_data",
     "data": {
      "text/html": "\n\n\n\n\n\n  <div class=\"bk-root\" id=\"0d26772d-f74f-42cf-9838-a86e4f0f5652\" data-root-id=\"1113\"></div>\n"
     },
     "metadata": {}
    },
    {
     "output_type": "display_data",
     "data": {
      "application/javascript": "(function(root) {\n  function embed_document(root) {\n    \n  var docs_json = {\"284e0b5d-c44d-4c68-bc0f-37299412144d\":{\"roots\":{\"references\":[{\"attributes\":{\"below\":[{\"id\":\"1122\"}],\"center\":[{\"id\":\"1125\"},{\"id\":\"1129\"}],\"left\":[{\"id\":\"1126\"}],\"plot_height\":400,\"plot_width\":400,\"renderers\":[{\"id\":\"1147\"},{\"id\":\"1250\"}],\"title\":{\"id\":\"1163\"},\"toolbar\":{\"id\":\"1137\"},\"x_range\":{\"id\":\"1114\"},\"x_scale\":{\"id\":\"1118\"},\"y_range\":{\"id\":\"1116\"},\"y_scale\":{\"id\":\"1120\"}},\"id\":\"1113\",\"subtype\":\"Figure\",\"type\":\"Plot\"},{\"attributes\":{},\"id\":\"1169\",\"type\":\"UnionRenderers\"},{\"attributes\":{\"source\":{\"id\":\"1247\"}},\"id\":\"1251\",\"type\":\"CDSView\"},{\"attributes\":{\"text\":\"\"},\"id\":\"1163\",\"type\":\"Title\"},{\"attributes\":{\"fill_color\":{\"value\":\"red\"},\"line_color\":{\"value\":\"#1f77b4\"},\"size\":{\"units\":\"screen\",\"value\":6},\"x\":{\"field\":\"x\"},\"y\":{\"field\":\"y\"}},\"id\":\"1145\",\"type\":\"Circle\"},{\"attributes\":{},\"id\":\"1118\",\"type\":\"LinearScale\"},{\"attributes\":{\"formatter\":{\"id\":\"1165\"},\"ticker\":{\"id\":\"1127\"}},\"id\":\"1126\",\"type\":\"LinearAxis\"},{\"attributes\":{\"fill_alpha\":{\"value\":0.1},\"fill_color\":{\"value\":\"red\"},\"line_alpha\":{\"value\":0.1},\"line_color\":{\"value\":\"#1f77b4\"},\"size\":{\"units\":\"screen\",\"value\":6},\"x\":{\"field\":\"x\"},\"y\":{\"field\":\"y\"}},\"id\":\"1146\",\"type\":\"Circle\"},{\"attributes\":{},\"id\":\"1114\",\"type\":\"DataRange1d\"},{\"attributes\":{\"formatter\":{\"id\":\"1167\"},\"ticker\":{\"id\":\"1123\"}},\"id\":\"1122\",\"type\":\"LinearAxis\"},{\"attributes\":{\"source\":{\"id\":\"1144\"}},\"id\":\"1148\",\"type\":\"CDSView\"},{\"attributes\":{\"bottom_units\":\"screen\",\"fill_alpha\":0.5,\"fill_color\":\"lightgrey\",\"left_units\":\"screen\",\"level\":\"overlay\",\"line_alpha\":1.0,\"line_color\":\"black\",\"line_dash\":[4,4],\"line_width\":2,\"right_units\":\"screen\",\"top_units\":\"screen\"},\"id\":\"1136\",\"type\":\"BoxAnnotation\"},{\"attributes\":{\"fill_color\":{\"value\":\"#1f77b4\"},\"line_color\":{\"value\":\"green\"},\"line_width\":{\"value\":3},\"size\":{\"units\":\"screen\",\"value\":15},\"x\":{\"field\":\"x\"},\"y\":{\"field\":\"y\"}},\"id\":\"1248\",\"type\":\"Dash\"},{\"attributes\":{},\"id\":\"1134\",\"type\":\"ResetTool\"},{\"attributes\":{},\"id\":\"1133\",\"type\":\"SaveTool\"},{\"attributes\":{},\"id\":\"1165\",\"type\":\"BasicTickFormatter\"},{\"attributes\":{\"data\":{\"x\":[5,6,7,8,9,10],\"y\":[1,2,3,4,5,6]},\"selected\":{\"id\":\"1271\"},\"selection_policy\":{\"id\":\"1272\"}},\"id\":\"1247\",\"type\":\"ColumnDataSource\"},{\"attributes\":{\"overlay\":{\"id\":\"1136\"}},\"id\":\"1132\",\"type\":\"BoxZoomTool\"},{\"attributes\":{},\"id\":\"1130\",\"type\":\"PanTool\"},{\"attributes\":{},\"id\":\"1131\",\"type\":\"WheelZoomTool\"},{\"attributes\":{},\"id\":\"1167\",\"type\":\"BasicTickFormatter\"},{\"attributes\":{\"active_drag\":\"auto\",\"active_inspect\":\"auto\",\"active_multi\":null,\"active_scroll\":\"auto\",\"active_tap\":\"auto\",\"tools\":[{\"id\":\"1130\"},{\"id\":\"1131\"},{\"id\":\"1132\"},{\"id\":\"1133\"},{\"id\":\"1134\"},{\"id\":\"1135\"}]},\"id\":\"1137\",\"type\":\"Toolbar\"},{\"attributes\":{},\"id\":\"1127\",\"type\":\"BasicTicker\"},{\"attributes\":{\"axis\":{\"id\":\"1126\"},\"dimension\":1,\"ticker\":null},\"id\":\"1129\",\"type\":\"Grid\"},{\"attributes\":{\"axis\":{\"id\":\"1122\"},\"ticker\":null},\"id\":\"1125\",\"type\":\"Grid\"},{\"attributes\":{},\"id\":\"1271\",\"type\":\"Selection\"},{\"attributes\":{},\"id\":\"1123\",\"type\":\"BasicTicker\"},{\"attributes\":{},\"id\":\"1135\",\"type\":\"HelpTool\"},{\"attributes\":{},\"id\":\"1272\",\"type\":\"UnionRenderers\"},{\"attributes\":{},\"id\":\"1120\",\"type\":\"LinearScale\"},{\"attributes\":{},\"id\":\"1116\",\"type\":\"DataRange1d\"},{\"attributes\":{\"fill_alpha\":{\"value\":0.1},\"fill_color\":{\"value\":\"#1f77b4\"},\"line_alpha\":{\"value\":0.1},\"line_color\":{\"value\":\"green\"},\"line_width\":{\"value\":3},\"size\":{\"units\":\"screen\",\"value\":15},\"x\":{\"field\":\"x\"},\"y\":{\"field\":\"y\"}},\"id\":\"1249\",\"type\":\"Dash\"},{\"attributes\":{\"data_source\":{\"id\":\"1247\"},\"glyph\":{\"id\":\"1248\"},\"hover_glyph\":null,\"muted_glyph\":null,\"nonselection_glyph\":{\"id\":\"1249\"},\"selection_glyph\":null,\"view\":{\"id\":\"1251\"}},\"id\":\"1250\",\"type\":\"GlyphRenderer\"},{\"attributes\":{\"data_source\":{\"id\":\"1144\"},\"glyph\":{\"id\":\"1145\"},\"hover_glyph\":null,\"muted_glyph\":null,\"nonselection_glyph\":{\"id\":\"1146\"},\"selection_glyph\":null,\"view\":{\"id\":\"1148\"}},\"id\":\"1147\",\"type\":\"GlyphRenderer\"},{\"attributes\":{},\"id\":\"1168\",\"type\":\"Selection\"},{\"attributes\":{\"data\":{\"x\":[5,6,7,8,9,10],\"y\":[1,2,3,4,5,6]},\"selected\":{\"id\":\"1168\"},\"selection_policy\":{\"id\":\"1169\"}},\"id\":\"1144\",\"type\":\"ColumnDataSource\"}],\"root_ids\":[\"1113\"]},\"title\":\"Bokeh Application\",\"version\":\"2.2.3\"}};\n  var render_items = [{\"docid\":\"284e0b5d-c44d-4c68-bc0f-37299412144d\",\"root_ids\":[\"1113\"],\"roots\":{\"1113\":\"0d26772d-f74f-42cf-9838-a86e4f0f5652\"}}];\n  root.Bokeh.embed.embed_items_notebook(docs_json, render_items);\n\n  }\n  if (root.Bokeh !== undefined) {\n    embed_document(root);\n  } else {\n    var attempts = 0;\n    var timer = setInterval(function(root) {\n      if (root.Bokeh !== undefined) {\n        clearInterval(timer);\n        embed_document(root);\n      } else {\n        attempts++;\n        if (attempts > 100) {\n          clearInterval(timer);\n          console.log(\"Bokeh: ERROR: Unable to run BokehJS code because BokehJS library is missing\");\n        }\n      }\n    }, 10, root)\n  }\n})(window);",
      "application/vnd.bokehjs_exec.v0+json": ""
     },
     "metadata": {
      "application/vnd.bokehjs_exec.v0+json": {
       "id": "1113"
      }
     }
    }
   ],
   "source": [
    "# Tester d'autre markers pour votre scatterplot\n",
    "\n",
    "# On va tester le marker dash \n",
    "# Il y a aussi autres markers comme hex_dot , plus , square_pin , ...\n",
    "f1 = figure(plot_width=400 , plot_height = 400)\n",
    "f.dash(x,y,size=15,line_color=\"green\",line_width=3)\n",
    "show(f)"
   ]
  },
  {
   "cell_type": "markdown",
   "metadata": {},
   "source": [
    "<br> On peut également ajouter des libélés aux axes x et y en assignant les libélés dans la fonction figure."
   ]
  },
  {
   "cell_type": "code",
   "execution_count": 12,
   "metadata": {},
   "outputs": [
    {
     "output_type": "display_data",
     "data": {
      "text/html": "\n\n\n\n\n\n  <div class=\"bk-root\" id=\"a137ae7b-df2f-44a5-b38a-4699275d9619\" data-root-id=\"1113\"></div>\n"
     },
     "metadata": {}
    },
    {
     "output_type": "display_data",
     "data": {
      "application/javascript": "(function(root) {\n  function embed_document(root) {\n    \n  var docs_json = {\"18e9f425-2b08-46a5-9f18-e7a675e69cff\":{\"roots\":{\"references\":[{\"attributes\":{\"below\":[{\"id\":\"1122\"}],\"center\":[{\"id\":\"1125\"},{\"id\":\"1129\"}],\"left\":[{\"id\":\"1126\"}],\"plot_height\":400,\"plot_width\":400,\"renderers\":[{\"id\":\"1147\"},{\"id\":\"1250\"}],\"title\":{\"id\":\"1163\"},\"toolbar\":{\"id\":\"1137\"},\"x_range\":{\"id\":\"1114\"},\"x_scale\":{\"id\":\"1118\"},\"y_range\":{\"id\":\"1116\"},\"y_scale\":{\"id\":\"1120\"}},\"id\":\"1113\",\"subtype\":\"Figure\",\"type\":\"Plot\"},{\"attributes\":{},\"id\":\"1169\",\"type\":\"UnionRenderers\"},{\"attributes\":{\"source\":{\"id\":\"1247\"}},\"id\":\"1251\",\"type\":\"CDSView\"},{\"attributes\":{\"text\":\"\"},\"id\":\"1163\",\"type\":\"Title\"},{\"attributes\":{\"fill_color\":{\"value\":\"red\"},\"line_color\":{\"value\":\"#1f77b4\"},\"size\":{\"units\":\"screen\",\"value\":6},\"x\":{\"field\":\"x\"},\"y\":{\"field\":\"y\"}},\"id\":\"1145\",\"type\":\"Circle\"},{\"attributes\":{},\"id\":\"1118\",\"type\":\"LinearScale\"},{\"attributes\":{\"axis_label\":\"ordon\\u00e9es\",\"formatter\":{\"id\":\"1165\"},\"ticker\":{\"id\":\"1127\"}},\"id\":\"1126\",\"type\":\"LinearAxis\"},{\"attributes\":{\"fill_alpha\":{\"value\":0.1},\"fill_color\":{\"value\":\"red\"},\"line_alpha\":{\"value\":0.1},\"line_color\":{\"value\":\"#1f77b4\"},\"size\":{\"units\":\"screen\",\"value\":6},\"x\":{\"field\":\"x\"},\"y\":{\"field\":\"y\"}},\"id\":\"1146\",\"type\":\"Circle\"},{\"attributes\":{},\"id\":\"1114\",\"type\":\"DataRange1d\"},{\"attributes\":{\"axis_label\":\"Abscisses\",\"formatter\":{\"id\":\"1167\"},\"ticker\":{\"id\":\"1123\"}},\"id\":\"1122\",\"type\":\"LinearAxis\"},{\"attributes\":{\"source\":{\"id\":\"1144\"}},\"id\":\"1148\",\"type\":\"CDSView\"},{\"attributes\":{\"bottom_units\":\"screen\",\"fill_alpha\":0.5,\"fill_color\":\"lightgrey\",\"left_units\":\"screen\",\"level\":\"overlay\",\"line_alpha\":1.0,\"line_color\":\"black\",\"line_dash\":[4,4],\"line_width\":2,\"right_units\":\"screen\",\"top_units\":\"screen\"},\"id\":\"1136\",\"type\":\"BoxAnnotation\"},{\"attributes\":{\"fill_color\":{\"value\":\"#1f77b4\"},\"line_color\":{\"value\":\"green\"},\"line_width\":{\"value\":3},\"size\":{\"units\":\"screen\",\"value\":15},\"x\":{\"field\":\"x\"},\"y\":{\"field\":\"y\"}},\"id\":\"1248\",\"type\":\"Dash\"},{\"attributes\":{},\"id\":\"1134\",\"type\":\"ResetTool\"},{\"attributes\":{},\"id\":\"1133\",\"type\":\"SaveTool\"},{\"attributes\":{},\"id\":\"1165\",\"type\":\"BasicTickFormatter\"},{\"attributes\":{\"data\":{\"x\":[5,6,7,8,9,10],\"y\":[1,2,3,4,5,6]},\"selected\":{\"id\":\"1271\"},\"selection_policy\":{\"id\":\"1272\"}},\"id\":\"1247\",\"type\":\"ColumnDataSource\"},{\"attributes\":{\"overlay\":{\"id\":\"1136\"}},\"id\":\"1132\",\"type\":\"BoxZoomTool\"},{\"attributes\":{},\"id\":\"1130\",\"type\":\"PanTool\"},{\"attributes\":{},\"id\":\"1131\",\"type\":\"WheelZoomTool\"},{\"attributes\":{},\"id\":\"1167\",\"type\":\"BasicTickFormatter\"},{\"attributes\":{\"active_drag\":\"auto\",\"active_inspect\":\"auto\",\"active_multi\":null,\"active_scroll\":\"auto\",\"active_tap\":\"auto\",\"tools\":[{\"id\":\"1130\"},{\"id\":\"1131\"},{\"id\":\"1132\"},{\"id\":\"1133\"},{\"id\":\"1134\"},{\"id\":\"1135\"}]},\"id\":\"1137\",\"type\":\"Toolbar\"},{\"attributes\":{},\"id\":\"1127\",\"type\":\"BasicTicker\"},{\"attributes\":{\"axis\":{\"id\":\"1126\"},\"dimension\":1,\"ticker\":null},\"id\":\"1129\",\"type\":\"Grid\"},{\"attributes\":{\"axis\":{\"id\":\"1122\"},\"ticker\":null},\"id\":\"1125\",\"type\":\"Grid\"},{\"attributes\":{},\"id\":\"1271\",\"type\":\"Selection\"},{\"attributes\":{},\"id\":\"1123\",\"type\":\"BasicTicker\"},{\"attributes\":{},\"id\":\"1135\",\"type\":\"HelpTool\"},{\"attributes\":{},\"id\":\"1272\",\"type\":\"UnionRenderers\"},{\"attributes\":{},\"id\":\"1120\",\"type\":\"LinearScale\"},{\"attributes\":{},\"id\":\"1116\",\"type\":\"DataRange1d\"},{\"attributes\":{\"fill_alpha\":{\"value\":0.1},\"fill_color\":{\"value\":\"#1f77b4\"},\"line_alpha\":{\"value\":0.1},\"line_color\":{\"value\":\"green\"},\"line_width\":{\"value\":3},\"size\":{\"units\":\"screen\",\"value\":15},\"x\":{\"field\":\"x\"},\"y\":{\"field\":\"y\"}},\"id\":\"1249\",\"type\":\"Dash\"},{\"attributes\":{\"data_source\":{\"id\":\"1247\"},\"glyph\":{\"id\":\"1248\"},\"hover_glyph\":null,\"muted_glyph\":null,\"nonselection_glyph\":{\"id\":\"1249\"},\"selection_glyph\":null,\"view\":{\"id\":\"1251\"}},\"id\":\"1250\",\"type\":\"GlyphRenderer\"},{\"attributes\":{\"data_source\":{\"id\":\"1144\"},\"glyph\":{\"id\":\"1145\"},\"hover_glyph\":null,\"muted_glyph\":null,\"nonselection_glyph\":{\"id\":\"1146\"},\"selection_glyph\":null,\"view\":{\"id\":\"1148\"}},\"id\":\"1147\",\"type\":\"GlyphRenderer\"},{\"attributes\":{},\"id\":\"1168\",\"type\":\"Selection\"},{\"attributes\":{\"data\":{\"x\":[5,6,7,8,9,10],\"y\":[1,2,3,4,5,6]},\"selected\":{\"id\":\"1168\"},\"selection_policy\":{\"id\":\"1169\"}},\"id\":\"1144\",\"type\":\"ColumnDataSource\"}],\"root_ids\":[\"1113\"]},\"title\":\"Bokeh Application\",\"version\":\"2.2.3\"}};\n  var render_items = [{\"docid\":\"18e9f425-2b08-46a5-9f18-e7a675e69cff\",\"root_ids\":[\"1113\"],\"roots\":{\"1113\":\"a137ae7b-df2f-44a5-b38a-4699275d9619\"}}];\n  root.Bokeh.embed.embed_items_notebook(docs_json, render_items);\n\n  }\n  if (root.Bokeh !== undefined) {\n    embed_document(root);\n  } else {\n    var attempts = 0;\n    var timer = setInterval(function(root) {\n      if (root.Bokeh !== undefined) {\n        clearInterval(timer);\n        embed_document(root);\n      } else {\n        attempts++;\n        if (attempts > 100) {\n          clearInterval(timer);\n          console.log(\"Bokeh: ERROR: Unable to run BokehJS code because BokehJS library is missing\");\n        }\n      }\n    }, 10, root)\n  }\n})(window);",
      "application/vnd.bokehjs_exec.v0+json": ""
     },
     "metadata": {
      "application/vnd.bokehjs_exec.v0+json": {
       "id": "1113"
      }
     }
    }
   ],
   "source": [
    "# Ajouter les libélés aux axes x et y\n",
    "f.xaxis.axis_label = \"Abscisses\"\n",
    "f.yaxis.axis_label = \"ordonées\"\n",
    "show(f)"
   ]
  },
  {
   "cell_type": "markdown",
   "metadata": {},
   "source": [
    "<br>Il est possible de changer la transparence d'une figure en utilisant l'attribut alpha dans la fonction circle. Ceci est utile quand nos points de données sont susceptibles de se croiser. L'argument alpha prend des valuers de 0 (complètement transparent) et 1 (complètement opaque). \n",
    "\n",
    "<br> Sur les visualisations Bokeh, on est fournit par défaut, dans la partie droite du graphe, avec des fonctionnalités de panning, zooming, selection, et sauvegarde. Ces outils sont configurables et très utiles pour l'exploration des données. \n",
    "<br><br> Vous pouvez tester d'autres visualisations à partir de la Bokeh Gallery: https://docs.bokeh.org/en/latest/docs/gallery.html#gallery"
   ]
  },
  {
   "cell_type": "markdown",
   "metadata": {},
   "source": [
    "<br> </br>\n",
    "## B. Visualisations à base des Dataframes Pandas"
   ]
  },
  {
   "cell_type": "markdown",
   "metadata": {},
   "source": [
    "Les dataframe Pandas sont fréquemment utilisées dans les projets data science. Même si Pandas offre quelques possibilités de visualisation des données (e.g. hist qu'on a vu dans TP1, boxplot...), les librairies spécialisées en Data visualisation sont plus adeptes aux challenges de construire des data viz conviviales, complexes et interactives. Bokeh supporte nativement les Pandas dataframe et offre des fonctionnalités qui aident à contruire des graphes interactifs en se basant sur leurs données.\n",
    "<br><br> Au niveau du TP1, on a créé des Heatmaps pour mieux visualiser les corrélations entre les différentes. On va reprendre les données des pistes musicales du TP1 et créer davantage de visualisations. "
   ]
  },
  {
   "cell_type": "code",
   "execution_count": 13,
   "metadata": {},
   "outputs": [],
   "source": [
    "import pandas as pd"
   ]
  },
  {
   "cell_type": "code",
   "execution_count": 14,
   "metadata": {},
   "outputs": [
    {
     "output_type": "execute_result",
     "data": {
      "text/plain": [
       "        acousticness                                   artists  danceability  \\\n",
       "0             0.9950                       ['Carl Woitschach']         0.708   \n",
       "1             0.9940  ['Robert Schumann', 'Vladimir Horowitz']         0.379   \n",
       "2             0.6040                   ['Seweryn Goszczyński']         0.749   \n",
       "3             0.9950                      ['Francisco Canaro']         0.781   \n",
       "4             0.9900  ['Frédéric Chopin', 'Vladimir Horowitz']         0.210   \n",
       "...              ...                                       ...           ...   \n",
       "169904        0.1730                    ['DripReport', 'Tyga']         0.875   \n",
       "169905        0.0167        ['Leon Bridges', 'Terrace Martin']         0.719   \n",
       "169906        0.5380                     ['Kygo', 'Oh Wonder']         0.514   \n",
       "169907        0.0714             ['Cash Cash', 'Andy Grammer']         0.646   \n",
       "169908        0.1090                        ['Ingrid Andress']         0.512   \n",
       "\n",
       "        duration_ms  energy  explicit                      id  \\\n",
       "0            158648  0.1950         0  6KbQ3uYMLKb5jDxLF7wYDD   \n",
       "1            282133  0.0135         0  6KuQTIu1KoTTkLXKrwlLPV   \n",
       "2            104300  0.2200         0  6L63VW0PibdM1HDSBoqnoM   \n",
       "3            180760  0.1300         0  6M94FkXd15sOAOQYRnWPN8   \n",
       "4            687733  0.2040         0  6N6tiFZ9vLTSOIxkj8qKrd   \n",
       "...             ...     ...       ...                     ...   \n",
       "169904       163800  0.4430         1  4KppkflX7I3vJQk7urOJaS   \n",
       "169905       167468  0.3850         0  1ehhGlTvjtHo2e4xJFB0SZ   \n",
       "169906       180700  0.5390         0  52eycxprLhK3lPcRLbQiVk   \n",
       "169907       167308  0.7610         0  3wYOGJYD31sLRmBgCvWxa4   \n",
       "169908       214787  0.4280         0  60RFlt48hm0l4Fu0JoccOl   \n",
       "\n",
       "        instrumentalness  key  liveness  loudness  mode  \\\n",
       "0               0.563000   10    0.1510   -12.428     1   \n",
       "1               0.901000    8    0.0763   -28.454     1   \n",
       "2               0.000000    5    0.1190   -19.924     0   \n",
       "3               0.887000    1    0.1110   -14.734     0   \n",
       "4               0.908000   11    0.0980   -16.829     1   \n",
       "...                  ...  ...       ...       ...   ...   \n",
       "169904          0.000032    1    0.0891    -7.461     1   \n",
       "169905          0.031300    8    0.1110   -10.907     1   \n",
       "169906          0.002330    7    0.1080    -9.332     1   \n",
       "169907          0.000000    1    0.2220    -2.557     1   \n",
       "169908          0.000000    0    0.1050    -7.387     1   \n",
       "\n",
       "                                                 name  popularity  \\\n",
       "0                         Singende Bataillone 1. Teil           0   \n",
       "1            Fantasiestücke, Op. 111: Più tosto lento           0   \n",
       "2                      Chapter 1.18 - Zamek kaniowski           0   \n",
       "3       Bebamos Juntos - Instrumental (Remasterizado)           0   \n",
       "4         Polonaise-Fantaisie in A-Flat Major, Op. 61           1   \n",
       "...                                               ...         ...   \n",
       "169904                  Skechers (feat. Tyga) - Remix          75   \n",
       "169905                 Sweeter (feat. Terrace Martin)          64   \n",
       "169906                               How Would I Know          70   \n",
       "169907                                    I Found You          70   \n",
       "169908                          More Hearts Than Mine          65   \n",
       "\n",
       "       release_date  speechiness    tempo  valence  year  \n",
       "0              1928       0.0506  118.469   0.7790  1928  \n",
       "1              1928       0.0462   83.972   0.0767  1928  \n",
       "2              1928       0.9290  107.177   0.8800  1928  \n",
       "3        1928-09-25       0.0926  108.003   0.7200  1928  \n",
       "4              1928       0.0424   62.149   0.0693  1928  \n",
       "...             ...          ...      ...      ...   ...  \n",
       "169904   2020-05-15       0.1430  100.012   0.3060  2020  \n",
       "169905   2020-06-08       0.0403  128.000   0.2700  2020  \n",
       "169906   2020-05-29       0.1050  123.700   0.1530  2020  \n",
       "169907   2020-02-28       0.0385  129.916   0.4720  2020  \n",
       "169908   2020-03-27       0.0271   80.588   0.3660  2020  \n",
       "\n",
       "[169909 rows x 19 columns]"
      ],
      "text/html": "<div>\n<style scoped>\n    .dataframe tbody tr th:only-of-type {\n        vertical-align: middle;\n    }\n\n    .dataframe tbody tr th {\n        vertical-align: top;\n    }\n\n    .dataframe thead th {\n        text-align: right;\n    }\n</style>\n<table border=\"1\" class=\"dataframe\">\n  <thead>\n    <tr style=\"text-align: right;\">\n      <th></th>\n      <th>acousticness</th>\n      <th>artists</th>\n      <th>danceability</th>\n      <th>duration_ms</th>\n      <th>energy</th>\n      <th>explicit</th>\n      <th>id</th>\n      <th>instrumentalness</th>\n      <th>key</th>\n      <th>liveness</th>\n      <th>loudness</th>\n      <th>mode</th>\n      <th>name</th>\n      <th>popularity</th>\n      <th>release_date</th>\n      <th>speechiness</th>\n      <th>tempo</th>\n      <th>valence</th>\n      <th>year</th>\n    </tr>\n  </thead>\n  <tbody>\n    <tr>\n      <th>0</th>\n      <td>0.9950</td>\n      <td>['Carl Woitschach']</td>\n      <td>0.708</td>\n      <td>158648</td>\n      <td>0.1950</td>\n      <td>0</td>\n      <td>6KbQ3uYMLKb5jDxLF7wYDD</td>\n      <td>0.563000</td>\n      <td>10</td>\n      <td>0.1510</td>\n      <td>-12.428</td>\n      <td>1</td>\n      <td>Singende Bataillone 1. Teil</td>\n      <td>0</td>\n      <td>1928</td>\n      <td>0.0506</td>\n      <td>118.469</td>\n      <td>0.7790</td>\n      <td>1928</td>\n    </tr>\n    <tr>\n      <th>1</th>\n      <td>0.9940</td>\n      <td>['Robert Schumann', 'Vladimir Horowitz']</td>\n      <td>0.379</td>\n      <td>282133</td>\n      <td>0.0135</td>\n      <td>0</td>\n      <td>6KuQTIu1KoTTkLXKrwlLPV</td>\n      <td>0.901000</td>\n      <td>8</td>\n      <td>0.0763</td>\n      <td>-28.454</td>\n      <td>1</td>\n      <td>Fantasiestücke, Op. 111: Più tosto lento</td>\n      <td>0</td>\n      <td>1928</td>\n      <td>0.0462</td>\n      <td>83.972</td>\n      <td>0.0767</td>\n      <td>1928</td>\n    </tr>\n    <tr>\n      <th>2</th>\n      <td>0.6040</td>\n      <td>['Seweryn Goszczyński']</td>\n      <td>0.749</td>\n      <td>104300</td>\n      <td>0.2200</td>\n      <td>0</td>\n      <td>6L63VW0PibdM1HDSBoqnoM</td>\n      <td>0.000000</td>\n      <td>5</td>\n      <td>0.1190</td>\n      <td>-19.924</td>\n      <td>0</td>\n      <td>Chapter 1.18 - Zamek kaniowski</td>\n      <td>0</td>\n      <td>1928</td>\n      <td>0.9290</td>\n      <td>107.177</td>\n      <td>0.8800</td>\n      <td>1928</td>\n    </tr>\n    <tr>\n      <th>3</th>\n      <td>0.9950</td>\n      <td>['Francisco Canaro']</td>\n      <td>0.781</td>\n      <td>180760</td>\n      <td>0.1300</td>\n      <td>0</td>\n      <td>6M94FkXd15sOAOQYRnWPN8</td>\n      <td>0.887000</td>\n      <td>1</td>\n      <td>0.1110</td>\n      <td>-14.734</td>\n      <td>0</td>\n      <td>Bebamos Juntos - Instrumental (Remasterizado)</td>\n      <td>0</td>\n      <td>1928-09-25</td>\n      <td>0.0926</td>\n      <td>108.003</td>\n      <td>0.7200</td>\n      <td>1928</td>\n    </tr>\n    <tr>\n      <th>4</th>\n      <td>0.9900</td>\n      <td>['Frédéric Chopin', 'Vladimir Horowitz']</td>\n      <td>0.210</td>\n      <td>687733</td>\n      <td>0.2040</td>\n      <td>0</td>\n      <td>6N6tiFZ9vLTSOIxkj8qKrd</td>\n      <td>0.908000</td>\n      <td>11</td>\n      <td>0.0980</td>\n      <td>-16.829</td>\n      <td>1</td>\n      <td>Polonaise-Fantaisie in A-Flat Major, Op. 61</td>\n      <td>1</td>\n      <td>1928</td>\n      <td>0.0424</td>\n      <td>62.149</td>\n      <td>0.0693</td>\n      <td>1928</td>\n    </tr>\n    <tr>\n      <th>...</th>\n      <td>...</td>\n      <td>...</td>\n      <td>...</td>\n      <td>...</td>\n      <td>...</td>\n      <td>...</td>\n      <td>...</td>\n      <td>...</td>\n      <td>...</td>\n      <td>...</td>\n      <td>...</td>\n      <td>...</td>\n      <td>...</td>\n      <td>...</td>\n      <td>...</td>\n      <td>...</td>\n      <td>...</td>\n      <td>...</td>\n      <td>...</td>\n    </tr>\n    <tr>\n      <th>169904</th>\n      <td>0.1730</td>\n      <td>['DripReport', 'Tyga']</td>\n      <td>0.875</td>\n      <td>163800</td>\n      <td>0.4430</td>\n      <td>1</td>\n      <td>4KppkflX7I3vJQk7urOJaS</td>\n      <td>0.000032</td>\n      <td>1</td>\n      <td>0.0891</td>\n      <td>-7.461</td>\n      <td>1</td>\n      <td>Skechers (feat. Tyga) - Remix</td>\n      <td>75</td>\n      <td>2020-05-15</td>\n      <td>0.1430</td>\n      <td>100.012</td>\n      <td>0.3060</td>\n      <td>2020</td>\n    </tr>\n    <tr>\n      <th>169905</th>\n      <td>0.0167</td>\n      <td>['Leon Bridges', 'Terrace Martin']</td>\n      <td>0.719</td>\n      <td>167468</td>\n      <td>0.3850</td>\n      <td>0</td>\n      <td>1ehhGlTvjtHo2e4xJFB0SZ</td>\n      <td>0.031300</td>\n      <td>8</td>\n      <td>0.1110</td>\n      <td>-10.907</td>\n      <td>1</td>\n      <td>Sweeter (feat. Terrace Martin)</td>\n      <td>64</td>\n      <td>2020-06-08</td>\n      <td>0.0403</td>\n      <td>128.000</td>\n      <td>0.2700</td>\n      <td>2020</td>\n    </tr>\n    <tr>\n      <th>169906</th>\n      <td>0.5380</td>\n      <td>['Kygo', 'Oh Wonder']</td>\n      <td>0.514</td>\n      <td>180700</td>\n      <td>0.5390</td>\n      <td>0</td>\n      <td>52eycxprLhK3lPcRLbQiVk</td>\n      <td>0.002330</td>\n      <td>7</td>\n      <td>0.1080</td>\n      <td>-9.332</td>\n      <td>1</td>\n      <td>How Would I Know</td>\n      <td>70</td>\n      <td>2020-05-29</td>\n      <td>0.1050</td>\n      <td>123.700</td>\n      <td>0.1530</td>\n      <td>2020</td>\n    </tr>\n    <tr>\n      <th>169907</th>\n      <td>0.0714</td>\n      <td>['Cash Cash', 'Andy Grammer']</td>\n      <td>0.646</td>\n      <td>167308</td>\n      <td>0.7610</td>\n      <td>0</td>\n      <td>3wYOGJYD31sLRmBgCvWxa4</td>\n      <td>0.000000</td>\n      <td>1</td>\n      <td>0.2220</td>\n      <td>-2.557</td>\n      <td>1</td>\n      <td>I Found You</td>\n      <td>70</td>\n      <td>2020-02-28</td>\n      <td>0.0385</td>\n      <td>129.916</td>\n      <td>0.4720</td>\n      <td>2020</td>\n    </tr>\n    <tr>\n      <th>169908</th>\n      <td>0.1090</td>\n      <td>['Ingrid Andress']</td>\n      <td>0.512</td>\n      <td>214787</td>\n      <td>0.4280</td>\n      <td>0</td>\n      <td>60RFlt48hm0l4Fu0JoccOl</td>\n      <td>0.000000</td>\n      <td>0</td>\n      <td>0.1050</td>\n      <td>-7.387</td>\n      <td>1</td>\n      <td>More Hearts Than Mine</td>\n      <td>65</td>\n      <td>2020-03-27</td>\n      <td>0.0271</td>\n      <td>80.588</td>\n      <td>0.3660</td>\n      <td>2020</td>\n    </tr>\n  </tbody>\n</table>\n<p>169909 rows × 19 columns</p>\n</div>"
     },
     "metadata": {},
     "execution_count": 14
    }
   ],
   "source": [
    "# Lire le fichier data dans une dataframe\n",
    "df = pd.read_csv(\"data.csv\",sep=\",\")\n",
    "df"
   ]
  },
  {
   "cell_type": "markdown",
   "metadata": {},
   "source": [
    "Créer une nouvelle dataframe en filtrant sur un artiste de votre choix (de préférence un artiste avec plusieurs pistes sur plusieurs années)"
   ]
  },
  {
   "cell_type": "code",
   "execution_count": 15,
   "metadata": {},
   "outputs": [
    {
     "output_type": "execute_result",
     "data": {
      "text/plain": [
       "        acousticness                           artists  danceability  \\\n",
       "3857           0.272                ['Julio Iglesias']         0.437   \n",
       "4328           0.156                ['Julio Iglesias']         0.555   \n",
       "5519           0.854                ['Julio Iglesias']         0.477   \n",
       "5875           0.262                ['Julio Iglesias']         0.551   \n",
       "12549          0.501  ['Julio Iglesias', 'Diana Ross']         0.355   \n",
       "...              ...                               ...           ...   \n",
       "157266         0.319                ['Julio Iglesias']         0.550   \n",
       "157475         0.307                ['Julio Iglesias']         0.543   \n",
       "157681         0.710                ['Julio Iglesias']         0.445   \n",
       "167376         0.304                ['Julio Iglesias']         0.703   \n",
       "167406         0.690                ['Julio Iglesias']         0.469   \n",
       "\n",
       "        duration_ms  energy  explicit                      id  \\\n",
       "3857         172707   0.221         0  2PSotAVp5KY6HBEhlRzwvV   \n",
       "4328         241240   0.383         0  5ctAAtmFMtuCYYb8JhxTJj   \n",
       "5519         263173   0.265         0  62WN08m5pycMB66qnmnQ2S   \n",
       "5875         180600   0.607         0  07nrFSbS6ht0jMNpTpMfsg   \n",
       "12549        238293   0.559         0  6D7sAmPy0VzY6eNkvoin0V   \n",
       "...             ...     ...       ...                     ...   \n",
       "157266       284267   0.524         0  3vSGGtjD7JLA9Q6I36sGve   \n",
       "157475       298093   0.337         0  6bOI1SYcJRFZzOvYrAFyvw   \n",
       "157681       214160   0.209         0  28uqQEN0c4eYiyk3oAJELz   \n",
       "167376       230040   0.518         0  2qghLLpWNLzZqtq9I0t6hT   \n",
       "167406       191533   0.377         0  6t9sHlOVvyBNae9Hd94SSL   \n",
       "\n",
       "        instrumentalness  key  liveness  loudness  mode  \\\n",
       "3857            0.000000    0    0.2490   -16.010     1   \n",
       "4328            0.000000    2    0.0758   -15.004     0   \n",
       "5519            0.041400    5    0.0752   -15.943     0   \n",
       "5875            0.000000    0    0.3610    -9.483     1   \n",
       "12549           0.000000   10    0.6540    -8.910     0   \n",
       "...                  ...  ...       ...       ...   ...   \n",
       "157266          0.000000    0    0.1590   -15.947     1   \n",
       "157475          0.000000    2    0.2420   -15.481     1   \n",
       "157681          0.000000    7    0.1140   -16.498     1   \n",
       "167376          0.000000    8    0.2630   -11.577     0   \n",
       "167406          0.000004    8    0.1260   -10.681     0   \n",
       "\n",
       "                                        name  popularity release_date  \\\n",
       "3857                             Rio Rebelde          37         1978   \n",
       "4328                       Quijote (Quixote)          42         1982   \n",
       "5519                                 Fragile          50         1994   \n",
       "5875             Soy un Truhán, Soy un Señor          53   1998-09-05   \n",
       "12549          All of You (feat. Diana Ross)          32   1984-08-24   \n",
       "...                                      ...         ...          ...   \n",
       "157266  Begin the Beguine (Volver a Empezar)          43         1978   \n",
       "157475                                   Hey          35         1980   \n",
       "157681                              Momentos          42         1982   \n",
       "167376                          Baila Morena          38   1995-06-27   \n",
       "167406                            Vuela Alto          37   1995-06-27   \n",
       "\n",
       "        speechiness    tempo  valence  year  \n",
       "3857         0.0344   96.518    0.535  1978  \n",
       "4328         0.0409  129.827    0.669  1982  \n",
       "5519         0.0286   82.912    0.175  1994  \n",
       "5875         0.0329   99.041    0.684  1998  \n",
       "12549        0.0367  171.749    0.510  1984  \n",
       "...             ...      ...      ...   ...  \n",
       "157266       0.0721  118.701    0.469  1978  \n",
       "157475       0.0370  103.454    0.334  1980  \n",
       "157681       0.0522   90.636    0.335  1982  \n",
       "167376       0.1510   81.731    0.742  1995  \n",
       "167406       0.0809   84.147    0.439  1995  \n",
       "\n",
       "[74 rows x 19 columns]"
      ],
      "text/html": "<div>\n<style scoped>\n    .dataframe tbody tr th:only-of-type {\n        vertical-align: middle;\n    }\n\n    .dataframe tbody tr th {\n        vertical-align: top;\n    }\n\n    .dataframe thead th {\n        text-align: right;\n    }\n</style>\n<table border=\"1\" class=\"dataframe\">\n  <thead>\n    <tr style=\"text-align: right;\">\n      <th></th>\n      <th>acousticness</th>\n      <th>artists</th>\n      <th>danceability</th>\n      <th>duration_ms</th>\n      <th>energy</th>\n      <th>explicit</th>\n      <th>id</th>\n      <th>instrumentalness</th>\n      <th>key</th>\n      <th>liveness</th>\n      <th>loudness</th>\n      <th>mode</th>\n      <th>name</th>\n      <th>popularity</th>\n      <th>release_date</th>\n      <th>speechiness</th>\n      <th>tempo</th>\n      <th>valence</th>\n      <th>year</th>\n    </tr>\n  </thead>\n  <tbody>\n    <tr>\n      <th>3857</th>\n      <td>0.272</td>\n      <td>['Julio Iglesias']</td>\n      <td>0.437</td>\n      <td>172707</td>\n      <td>0.221</td>\n      <td>0</td>\n      <td>2PSotAVp5KY6HBEhlRzwvV</td>\n      <td>0.000000</td>\n      <td>0</td>\n      <td>0.2490</td>\n      <td>-16.010</td>\n      <td>1</td>\n      <td>Rio Rebelde</td>\n      <td>37</td>\n      <td>1978</td>\n      <td>0.0344</td>\n      <td>96.518</td>\n      <td>0.535</td>\n      <td>1978</td>\n    </tr>\n    <tr>\n      <th>4328</th>\n      <td>0.156</td>\n      <td>['Julio Iglesias']</td>\n      <td>0.555</td>\n      <td>241240</td>\n      <td>0.383</td>\n      <td>0</td>\n      <td>5ctAAtmFMtuCYYb8JhxTJj</td>\n      <td>0.000000</td>\n      <td>2</td>\n      <td>0.0758</td>\n      <td>-15.004</td>\n      <td>0</td>\n      <td>Quijote (Quixote)</td>\n      <td>42</td>\n      <td>1982</td>\n      <td>0.0409</td>\n      <td>129.827</td>\n      <td>0.669</td>\n      <td>1982</td>\n    </tr>\n    <tr>\n      <th>5519</th>\n      <td>0.854</td>\n      <td>['Julio Iglesias']</td>\n      <td>0.477</td>\n      <td>263173</td>\n      <td>0.265</td>\n      <td>0</td>\n      <td>62WN08m5pycMB66qnmnQ2S</td>\n      <td>0.041400</td>\n      <td>5</td>\n      <td>0.0752</td>\n      <td>-15.943</td>\n      <td>0</td>\n      <td>Fragile</td>\n      <td>50</td>\n      <td>1994</td>\n      <td>0.0286</td>\n      <td>82.912</td>\n      <td>0.175</td>\n      <td>1994</td>\n    </tr>\n    <tr>\n      <th>5875</th>\n      <td>0.262</td>\n      <td>['Julio Iglesias']</td>\n      <td>0.551</td>\n      <td>180600</td>\n      <td>0.607</td>\n      <td>0</td>\n      <td>07nrFSbS6ht0jMNpTpMfsg</td>\n      <td>0.000000</td>\n      <td>0</td>\n      <td>0.3610</td>\n      <td>-9.483</td>\n      <td>1</td>\n      <td>Soy un Truhán, Soy un Señor</td>\n      <td>53</td>\n      <td>1998-09-05</td>\n      <td>0.0329</td>\n      <td>99.041</td>\n      <td>0.684</td>\n      <td>1998</td>\n    </tr>\n    <tr>\n      <th>12549</th>\n      <td>0.501</td>\n      <td>['Julio Iglesias', 'Diana Ross']</td>\n      <td>0.355</td>\n      <td>238293</td>\n      <td>0.559</td>\n      <td>0</td>\n      <td>6D7sAmPy0VzY6eNkvoin0V</td>\n      <td>0.000000</td>\n      <td>10</td>\n      <td>0.6540</td>\n      <td>-8.910</td>\n      <td>0</td>\n      <td>All of You (feat. Diana Ross)</td>\n      <td>32</td>\n      <td>1984-08-24</td>\n      <td>0.0367</td>\n      <td>171.749</td>\n      <td>0.510</td>\n      <td>1984</td>\n    </tr>\n    <tr>\n      <th>...</th>\n      <td>...</td>\n      <td>...</td>\n      <td>...</td>\n      <td>...</td>\n      <td>...</td>\n      <td>...</td>\n      <td>...</td>\n      <td>...</td>\n      <td>...</td>\n      <td>...</td>\n      <td>...</td>\n      <td>...</td>\n      <td>...</td>\n      <td>...</td>\n      <td>...</td>\n      <td>...</td>\n      <td>...</td>\n      <td>...</td>\n      <td>...</td>\n    </tr>\n    <tr>\n      <th>157266</th>\n      <td>0.319</td>\n      <td>['Julio Iglesias']</td>\n      <td>0.550</td>\n      <td>284267</td>\n      <td>0.524</td>\n      <td>0</td>\n      <td>3vSGGtjD7JLA9Q6I36sGve</td>\n      <td>0.000000</td>\n      <td>0</td>\n      <td>0.1590</td>\n      <td>-15.947</td>\n      <td>1</td>\n      <td>Begin the Beguine (Volver a Empezar)</td>\n      <td>43</td>\n      <td>1978</td>\n      <td>0.0721</td>\n      <td>118.701</td>\n      <td>0.469</td>\n      <td>1978</td>\n    </tr>\n    <tr>\n      <th>157475</th>\n      <td>0.307</td>\n      <td>['Julio Iglesias']</td>\n      <td>0.543</td>\n      <td>298093</td>\n      <td>0.337</td>\n      <td>0</td>\n      <td>6bOI1SYcJRFZzOvYrAFyvw</td>\n      <td>0.000000</td>\n      <td>2</td>\n      <td>0.2420</td>\n      <td>-15.481</td>\n      <td>1</td>\n      <td>Hey</td>\n      <td>35</td>\n      <td>1980</td>\n      <td>0.0370</td>\n      <td>103.454</td>\n      <td>0.334</td>\n      <td>1980</td>\n    </tr>\n    <tr>\n      <th>157681</th>\n      <td>0.710</td>\n      <td>['Julio Iglesias']</td>\n      <td>0.445</td>\n      <td>214160</td>\n      <td>0.209</td>\n      <td>0</td>\n      <td>28uqQEN0c4eYiyk3oAJELz</td>\n      <td>0.000000</td>\n      <td>7</td>\n      <td>0.1140</td>\n      <td>-16.498</td>\n      <td>1</td>\n      <td>Momentos</td>\n      <td>42</td>\n      <td>1982</td>\n      <td>0.0522</td>\n      <td>90.636</td>\n      <td>0.335</td>\n      <td>1982</td>\n    </tr>\n    <tr>\n      <th>167376</th>\n      <td>0.304</td>\n      <td>['Julio Iglesias']</td>\n      <td>0.703</td>\n      <td>230040</td>\n      <td>0.518</td>\n      <td>0</td>\n      <td>2qghLLpWNLzZqtq9I0t6hT</td>\n      <td>0.000000</td>\n      <td>8</td>\n      <td>0.2630</td>\n      <td>-11.577</td>\n      <td>0</td>\n      <td>Baila Morena</td>\n      <td>38</td>\n      <td>1995-06-27</td>\n      <td>0.1510</td>\n      <td>81.731</td>\n      <td>0.742</td>\n      <td>1995</td>\n    </tr>\n    <tr>\n      <th>167406</th>\n      <td>0.690</td>\n      <td>['Julio Iglesias']</td>\n      <td>0.469</td>\n      <td>191533</td>\n      <td>0.377</td>\n      <td>0</td>\n      <td>6t9sHlOVvyBNae9Hd94SSL</td>\n      <td>0.000004</td>\n      <td>8</td>\n      <td>0.1260</td>\n      <td>-10.681</td>\n      <td>0</td>\n      <td>Vuela Alto</td>\n      <td>37</td>\n      <td>1995-06-27</td>\n      <td>0.0809</td>\n      <td>84.147</td>\n      <td>0.439</td>\n      <td>1995</td>\n    </tr>\n  </tbody>\n</table>\n<p>74 rows × 19 columns</p>\n</div>"
     },
     "metadata": {},
     "execution_count": 15
    }
   ],
   "source": [
    "dt =df[df['artists'].str.contains(\"Julio Iglesias\")]\n",
    "dt"
   ]
  },
  {
   "cell_type": "markdown",
   "metadata": {},
   "source": [
    "Il est possible de créer une série chronologique basée sur une Pandas dataframe. Une série chronologique est un ensemble de données dont les valeurs sont mesurées à différents moments. Avec Pandas, on peut facilement organiser, transformer, analyser et visualiser les données de séries chronologiques à n'importe quel niveau de granularité - en examinant les détails pendant des périodes d'intérêt spécifiques et en effectuant un zoom arrière pour explorer les variations à différentes échelles de temps, telles que des agrégations mensuelles ou annuelles, modèles récurrents et tendances à long terme.\n"
   ]
  },
  {
   "cell_type": "code",
   "execution_count": 16,
   "metadata": {},
   "outputs": [
    {
     "output_type": "execute_result",
     "data": {
      "text/plain": [
       "        acousticness                                   artists  danceability  \\\n",
       "0             0.9950                       ['Carl Woitschach']         0.708   \n",
       "1             0.9940  ['Robert Schumann', 'Vladimir Horowitz']         0.379   \n",
       "2             0.6040                   ['Seweryn Goszczyński']         0.749   \n",
       "3             0.9950                      ['Francisco Canaro']         0.781   \n",
       "4             0.9900  ['Frédéric Chopin', 'Vladimir Horowitz']         0.210   \n",
       "...              ...                                       ...           ...   \n",
       "169904        0.1730                    ['DripReport', 'Tyga']         0.875   \n",
       "169905        0.0167        ['Leon Bridges', 'Terrace Martin']         0.719   \n",
       "169906        0.5380                     ['Kygo', 'Oh Wonder']         0.514   \n",
       "169907        0.0714             ['Cash Cash', 'Andy Grammer']         0.646   \n",
       "169908        0.1090                        ['Ingrid Andress']         0.512   \n",
       "\n",
       "        duration_ms  energy  explicit                      id  \\\n",
       "0            158648  0.1950         0  6KbQ3uYMLKb5jDxLF7wYDD   \n",
       "1            282133  0.0135         0  6KuQTIu1KoTTkLXKrwlLPV   \n",
       "2            104300  0.2200         0  6L63VW0PibdM1HDSBoqnoM   \n",
       "3            180760  0.1300         0  6M94FkXd15sOAOQYRnWPN8   \n",
       "4            687733  0.2040         0  6N6tiFZ9vLTSOIxkj8qKrd   \n",
       "...             ...     ...       ...                     ...   \n",
       "169904       163800  0.4430         1  4KppkflX7I3vJQk7urOJaS   \n",
       "169905       167468  0.3850         0  1ehhGlTvjtHo2e4xJFB0SZ   \n",
       "169906       180700  0.5390         0  52eycxprLhK3lPcRLbQiVk   \n",
       "169907       167308  0.7610         0  3wYOGJYD31sLRmBgCvWxa4   \n",
       "169908       214787  0.4280         0  60RFlt48hm0l4Fu0JoccOl   \n",
       "\n",
       "        instrumentalness  key  liveness  loudness  mode  \\\n",
       "0               0.563000   10    0.1510   -12.428     1   \n",
       "1               0.901000    8    0.0763   -28.454     1   \n",
       "2               0.000000    5    0.1190   -19.924     0   \n",
       "3               0.887000    1    0.1110   -14.734     0   \n",
       "4               0.908000   11    0.0980   -16.829     1   \n",
       "...                  ...  ...       ...       ...   ...   \n",
       "169904          0.000032    1    0.0891    -7.461     1   \n",
       "169905          0.031300    8    0.1110   -10.907     1   \n",
       "169906          0.002330    7    0.1080    -9.332     1   \n",
       "169907          0.000000    1    0.2220    -2.557     1   \n",
       "169908          0.000000    0    0.1050    -7.387     1   \n",
       "\n",
       "                                                 name  popularity  \\\n",
       "0                         Singende Bataillone 1. Teil           0   \n",
       "1            Fantasiestücke, Op. 111: Più tosto lento           0   \n",
       "2                      Chapter 1.18 - Zamek kaniowski           0   \n",
       "3       Bebamos Juntos - Instrumental (Remasterizado)           0   \n",
       "4         Polonaise-Fantaisie in A-Flat Major, Op. 61           1   \n",
       "...                                               ...         ...   \n",
       "169904                  Skechers (feat. Tyga) - Remix          75   \n",
       "169905                 Sweeter (feat. Terrace Martin)          64   \n",
       "169906                               How Would I Know          70   \n",
       "169907                                    I Found You          70   \n",
       "169908                          More Hearts Than Mine          65   \n",
       "\n",
       "       release_date  speechiness    tempo  valence  year  \n",
       "0        1928-01-01       0.0506  118.469   0.7790  1928  \n",
       "1        1928-01-01       0.0462   83.972   0.0767  1928  \n",
       "2        1928-01-01       0.9290  107.177   0.8800  1928  \n",
       "3        1928-09-25       0.0926  108.003   0.7200  1928  \n",
       "4        1928-01-01       0.0424   62.149   0.0693  1928  \n",
       "...             ...          ...      ...      ...   ...  \n",
       "169904   2020-05-15       0.1430  100.012   0.3060  2020  \n",
       "169905   2020-06-08       0.0403  128.000   0.2700  2020  \n",
       "169906   2020-05-29       0.1050  123.700   0.1530  2020  \n",
       "169907   2020-02-28       0.0385  129.916   0.4720  2020  \n",
       "169908   2020-03-27       0.0271   80.588   0.3660  2020  \n",
       "\n",
       "[169909 rows x 19 columns]"
      ],
      "text/html": "<div>\n<style scoped>\n    .dataframe tbody tr th:only-of-type {\n        vertical-align: middle;\n    }\n\n    .dataframe tbody tr th {\n        vertical-align: top;\n    }\n\n    .dataframe thead th {\n        text-align: right;\n    }\n</style>\n<table border=\"1\" class=\"dataframe\">\n  <thead>\n    <tr style=\"text-align: right;\">\n      <th></th>\n      <th>acousticness</th>\n      <th>artists</th>\n      <th>danceability</th>\n      <th>duration_ms</th>\n      <th>energy</th>\n      <th>explicit</th>\n      <th>id</th>\n      <th>instrumentalness</th>\n      <th>key</th>\n      <th>liveness</th>\n      <th>loudness</th>\n      <th>mode</th>\n      <th>name</th>\n      <th>popularity</th>\n      <th>release_date</th>\n      <th>speechiness</th>\n      <th>tempo</th>\n      <th>valence</th>\n      <th>year</th>\n    </tr>\n  </thead>\n  <tbody>\n    <tr>\n      <th>0</th>\n      <td>0.9950</td>\n      <td>['Carl Woitschach']</td>\n      <td>0.708</td>\n      <td>158648</td>\n      <td>0.1950</td>\n      <td>0</td>\n      <td>6KbQ3uYMLKb5jDxLF7wYDD</td>\n      <td>0.563000</td>\n      <td>10</td>\n      <td>0.1510</td>\n      <td>-12.428</td>\n      <td>1</td>\n      <td>Singende Bataillone 1. Teil</td>\n      <td>0</td>\n      <td>1928-01-01</td>\n      <td>0.0506</td>\n      <td>118.469</td>\n      <td>0.7790</td>\n      <td>1928</td>\n    </tr>\n    <tr>\n      <th>1</th>\n      <td>0.9940</td>\n      <td>['Robert Schumann', 'Vladimir Horowitz']</td>\n      <td>0.379</td>\n      <td>282133</td>\n      <td>0.0135</td>\n      <td>0</td>\n      <td>6KuQTIu1KoTTkLXKrwlLPV</td>\n      <td>0.901000</td>\n      <td>8</td>\n      <td>0.0763</td>\n      <td>-28.454</td>\n      <td>1</td>\n      <td>Fantasiestücke, Op. 111: Più tosto lento</td>\n      <td>0</td>\n      <td>1928-01-01</td>\n      <td>0.0462</td>\n      <td>83.972</td>\n      <td>0.0767</td>\n      <td>1928</td>\n    </tr>\n    <tr>\n      <th>2</th>\n      <td>0.6040</td>\n      <td>['Seweryn Goszczyński']</td>\n      <td>0.749</td>\n      <td>104300</td>\n      <td>0.2200</td>\n      <td>0</td>\n      <td>6L63VW0PibdM1HDSBoqnoM</td>\n      <td>0.000000</td>\n      <td>5</td>\n      <td>0.1190</td>\n      <td>-19.924</td>\n      <td>0</td>\n      <td>Chapter 1.18 - Zamek kaniowski</td>\n      <td>0</td>\n      <td>1928-01-01</td>\n      <td>0.9290</td>\n      <td>107.177</td>\n      <td>0.8800</td>\n      <td>1928</td>\n    </tr>\n    <tr>\n      <th>3</th>\n      <td>0.9950</td>\n      <td>['Francisco Canaro']</td>\n      <td>0.781</td>\n      <td>180760</td>\n      <td>0.1300</td>\n      <td>0</td>\n      <td>6M94FkXd15sOAOQYRnWPN8</td>\n      <td>0.887000</td>\n      <td>1</td>\n      <td>0.1110</td>\n      <td>-14.734</td>\n      <td>0</td>\n      <td>Bebamos Juntos - Instrumental (Remasterizado)</td>\n      <td>0</td>\n      <td>1928-09-25</td>\n      <td>0.0926</td>\n      <td>108.003</td>\n      <td>0.7200</td>\n      <td>1928</td>\n    </tr>\n    <tr>\n      <th>4</th>\n      <td>0.9900</td>\n      <td>['Frédéric Chopin', 'Vladimir Horowitz']</td>\n      <td>0.210</td>\n      <td>687733</td>\n      <td>0.2040</td>\n      <td>0</td>\n      <td>6N6tiFZ9vLTSOIxkj8qKrd</td>\n      <td>0.908000</td>\n      <td>11</td>\n      <td>0.0980</td>\n      <td>-16.829</td>\n      <td>1</td>\n      <td>Polonaise-Fantaisie in A-Flat Major, Op. 61</td>\n      <td>1</td>\n      <td>1928-01-01</td>\n      <td>0.0424</td>\n      <td>62.149</td>\n      <td>0.0693</td>\n      <td>1928</td>\n    </tr>\n    <tr>\n      <th>...</th>\n      <td>...</td>\n      <td>...</td>\n      <td>...</td>\n      <td>...</td>\n      <td>...</td>\n      <td>...</td>\n      <td>...</td>\n      <td>...</td>\n      <td>...</td>\n      <td>...</td>\n      <td>...</td>\n      <td>...</td>\n      <td>...</td>\n      <td>...</td>\n      <td>...</td>\n      <td>...</td>\n      <td>...</td>\n      <td>...</td>\n      <td>...</td>\n    </tr>\n    <tr>\n      <th>169904</th>\n      <td>0.1730</td>\n      <td>['DripReport', 'Tyga']</td>\n      <td>0.875</td>\n      <td>163800</td>\n      <td>0.4430</td>\n      <td>1</td>\n      <td>4KppkflX7I3vJQk7urOJaS</td>\n      <td>0.000032</td>\n      <td>1</td>\n      <td>0.0891</td>\n      <td>-7.461</td>\n      <td>1</td>\n      <td>Skechers (feat. Tyga) - Remix</td>\n      <td>75</td>\n      <td>2020-05-15</td>\n      <td>0.1430</td>\n      <td>100.012</td>\n      <td>0.3060</td>\n      <td>2020</td>\n    </tr>\n    <tr>\n      <th>169905</th>\n      <td>0.0167</td>\n      <td>['Leon Bridges', 'Terrace Martin']</td>\n      <td>0.719</td>\n      <td>167468</td>\n      <td>0.3850</td>\n      <td>0</td>\n      <td>1ehhGlTvjtHo2e4xJFB0SZ</td>\n      <td>0.031300</td>\n      <td>8</td>\n      <td>0.1110</td>\n      <td>-10.907</td>\n      <td>1</td>\n      <td>Sweeter (feat. Terrace Martin)</td>\n      <td>64</td>\n      <td>2020-06-08</td>\n      <td>0.0403</td>\n      <td>128.000</td>\n      <td>0.2700</td>\n      <td>2020</td>\n    </tr>\n    <tr>\n      <th>169906</th>\n      <td>0.5380</td>\n      <td>['Kygo', 'Oh Wonder']</td>\n      <td>0.514</td>\n      <td>180700</td>\n      <td>0.5390</td>\n      <td>0</td>\n      <td>52eycxprLhK3lPcRLbQiVk</td>\n      <td>0.002330</td>\n      <td>7</td>\n      <td>0.1080</td>\n      <td>-9.332</td>\n      <td>1</td>\n      <td>How Would I Know</td>\n      <td>70</td>\n      <td>2020-05-29</td>\n      <td>0.1050</td>\n      <td>123.700</td>\n      <td>0.1530</td>\n      <td>2020</td>\n    </tr>\n    <tr>\n      <th>169907</th>\n      <td>0.0714</td>\n      <td>['Cash Cash', 'Andy Grammer']</td>\n      <td>0.646</td>\n      <td>167308</td>\n      <td>0.7610</td>\n      <td>0</td>\n      <td>3wYOGJYD31sLRmBgCvWxa4</td>\n      <td>0.000000</td>\n      <td>1</td>\n      <td>0.2220</td>\n      <td>-2.557</td>\n      <td>1</td>\n      <td>I Found You</td>\n      <td>70</td>\n      <td>2020-02-28</td>\n      <td>0.0385</td>\n      <td>129.916</td>\n      <td>0.4720</td>\n      <td>2020</td>\n    </tr>\n    <tr>\n      <th>169908</th>\n      <td>0.1090</td>\n      <td>['Ingrid Andress']</td>\n      <td>0.512</td>\n      <td>214787</td>\n      <td>0.4280</td>\n      <td>0</td>\n      <td>60RFlt48hm0l4Fu0JoccOl</td>\n      <td>0.000000</td>\n      <td>0</td>\n      <td>0.1050</td>\n      <td>-7.387</td>\n      <td>1</td>\n      <td>More Hearts Than Mine</td>\n      <td>65</td>\n      <td>2020-03-27</td>\n      <td>0.0271</td>\n      <td>80.588</td>\n      <td>0.3660</td>\n      <td>2020</td>\n    </tr>\n  </tbody>\n</table>\n<p>169909 rows × 19 columns</p>\n</div>"
     },
     "metadata": {},
     "execution_count": 16
    }
   ],
   "source": [
    "# convertir la colonne release_date en une date\n",
    "import datetime\n",
    "df['release_date'] = pd.to_datetime(df['release_date'])\n",
    "df"
   ]
  },
  {
   "cell_type": "code",
   "execution_count": 17,
   "metadata": {},
   "outputs": [
    {
     "output_type": "execute_result",
     "data": {
      "text/plain": [
       "                                                                 acousticness  \\\n",
       "artists                                            release_date                 \n",
       "['Mehmet Kemiksiz']                                1921-01-01        0.623357   \n",
       "['Felix Mendelssohn', 'Arturo Toscanini']          1921-01-01        0.985500   \n",
       "['Sergei Rachmaninoff', 'Michael Tilson Thomas'... 1921-01-01        0.973000   \n",
       "['John McCormack']                                 1921-01-01        0.994500   \n",
       "['John McCormack', 'Edwin Schneider']              1921-01-01        0.994000   \n",
       "...                                                                       ...   \n",
       "['Arijit Singh']                                   2020-06-16        0.538333   \n",
       "['6ix9ine', 'Nicki Minaj']                         2020-06-16        0.032800   \n",
       "['Summer Walker']                                  2020-06-16        0.558000   \n",
       "['G-Eazy']                                         2020-06-17        0.707000   \n",
       "['Swae Lee']                                       2020-06-18        0.193000   \n",
       "\n",
       "                                                                 danceability  \\\n",
       "artists                                            release_date                 \n",
       "['Mehmet Kemiksiz']                                1921-01-01        0.504214   \n",
       "['Felix Mendelssohn', 'Arturo Toscanini']          1921-01-01        0.378500   \n",
       "['Sergei Rachmaninoff', 'Michael Tilson Thomas'... 1921-01-01        0.200000   \n",
       "['John McCormack']                                 1921-01-01        0.455500   \n",
       "['John McCormack', 'Edwin Schneider']              1921-01-01        0.400000   \n",
       "...                                                                       ...   \n",
       "['Arijit Singh']                                   2020-06-16        0.483333   \n",
       "['6ix9ine', 'Nicki Minaj']                         2020-06-16        0.722000   \n",
       "['Summer Walker']                                  2020-06-16        0.653000   \n",
       "['G-Eazy']                                         2020-06-17        0.582000   \n",
       "['Swae Lee']                                       2020-06-18        0.539000   \n",
       "\n",
       "                                                                   duration_ms  \\\n",
       "artists                                            release_date                  \n",
       "['Mehmet Kemiksiz']                                1921-01-01    218092.642857   \n",
       "['Felix Mendelssohn', 'Arturo Toscanini']          1921-01-01    261073.500000   \n",
       "['Sergei Rachmaninoff', 'Michael Tilson Thomas'... 1921-01-01    673733.000000   \n",
       "['John McCormack']                                 1921-01-01    207653.500000   \n",
       "['John McCormack', 'Edwin Schneider']              1921-01-01    187333.000000   \n",
       "...                                                                        ...   \n",
       "['Arijit Singh']                                   2020-06-16    280797.000000   \n",
       "['6ix9ine', 'Nicki Minaj']                         2020-06-16    185667.000000   \n",
       "['Summer Walker']                                  2020-06-16    140760.000000   \n",
       "['G-Eazy']                                         2020-06-17    177657.000000   \n",
       "['Swae Lee']                                       2020-06-18    232000.000000   \n",
       "\n",
       "                                                                   energy  \\\n",
       "artists                                            release_date             \n",
       "['Mehmet Kemiksiz']                                1921-01-01    0.485214   \n",
       "['Felix Mendelssohn', 'Arturo Toscanini']          1921-01-01    0.162650   \n",
       "['Sergei Rachmaninoff', 'Michael Tilson Thomas'... 1921-01-01    0.091600   \n",
       "['John McCormack']                                 1921-01-01    0.179500   \n",
       "['John McCormack', 'Edwin Schneider']              1921-01-01    0.155000   \n",
       "...                                                                   ...   \n",
       "['Arijit Singh']                                   2020-06-16    0.632333   \n",
       "['6ix9ine', 'Nicki Minaj']                         2020-06-16    0.502000   \n",
       "['Summer Walker']                                  2020-06-16    0.418000   \n",
       "['G-Eazy']                                         2020-06-17    0.461500   \n",
       "['Swae Lee']                                       2020-06-18    0.416000   \n",
       "\n",
       "                                                                 explicit  \\\n",
       "artists                                            release_date             \n",
       "['Mehmet Kemiksiz']                                1921-01-01         0.0   \n",
       "['Felix Mendelssohn', 'Arturo Toscanini']          1921-01-01         0.0   \n",
       "['Sergei Rachmaninoff', 'Michael Tilson Thomas'... 1921-01-01         0.0   \n",
       "['John McCormack']                                 1921-01-01         0.0   \n",
       "['John McCormack', 'Edwin Schneider']              1921-01-01         0.0   \n",
       "...                                                                   ...   \n",
       "['Arijit Singh']                                   2020-06-16         0.0   \n",
       "['6ix9ine', 'Nicki Minaj']                         2020-06-16         1.0   \n",
       "['Summer Walker']                                  2020-06-16         1.0   \n",
       "['G-Eazy']                                         2020-06-17         0.5   \n",
       "['Swae Lee']                                       2020-06-18         1.0   \n",
       "\n",
       "                                                                 instrumentalness  \\\n",
       "artists                                            release_date                     \n",
       "['Mehmet Kemiksiz']                                1921-01-01        1.154437e-01   \n",
       "['Felix Mendelssohn', 'Arturo Toscanini']          1921-01-01        1.288000e-01   \n",
       "['Sergei Rachmaninoff', 'Michael Tilson Thomas'... 1921-01-01        8.750000e-01   \n",
       "['John McCormack']                                 1921-01-01        2.425000e-06   \n",
       "['John McCormack', 'Edwin Schneider']              1921-01-01        4.330000e-05   \n",
       "...                                                                           ...   \n",
       "['Arijit Singh']                                   2020-06-16        3.433333e-07   \n",
       "['6ix9ine', 'Nicki Minaj']                         2020-06-16        3.770000e-05   \n",
       "['Summer Walker']                                  2020-06-16        3.100000e-04   \n",
       "['G-Eazy']                                         2020-06-17        8.365000e-02   \n",
       "['Swae Lee']                                       2020-06-18        0.000000e+00   \n",
       "\n",
       "                                                                      key  \\\n",
       "artists                                            release_date             \n",
       "['Mehmet Kemiksiz']                                1921-01-01    5.642857   \n",
       "['Felix Mendelssohn', 'Arturo Toscanini']          1921-01-01    3.500000   \n",
       "['Sergei Rachmaninoff', 'Michael Tilson Thomas'... 1921-01-01    5.000000   \n",
       "['John McCormack']                                 1921-01-01    3.500000   \n",
       "['John McCormack', 'Edwin Schneider']              1921-01-01    4.000000   \n",
       "...                                                                   ...   \n",
       "['Arijit Singh']                                   2020-06-16    2.666667   \n",
       "['6ix9ine', 'Nicki Minaj']                         2020-06-16    1.000000   \n",
       "['Summer Walker']                                  2020-06-16    6.000000   \n",
       "['G-Eazy']                                         2020-06-17    7.000000   \n",
       "['Swae Lee']                                       2020-06-18    9.000000   \n",
       "\n",
       "                                                                 liveness  \\\n",
       "artists                                            release_date             \n",
       "['Mehmet Kemiksiz']                                1921-01-01    0.195907   \n",
       "['Felix Mendelssohn', 'Arturo Toscanini']          1921-01-01    0.243000   \n",
       "['Sergei Rachmaninoff', 'Michael Tilson Thomas'... 1921-01-01    0.075600   \n",
       "['John McCormack']                                 1921-01-01    0.108500   \n",
       "['John McCormack', 'Edwin Schneider']              1921-01-01    0.103000   \n",
       "...                                                                   ...   \n",
       "['Arijit Singh']                                   2020-06-16    0.458333   \n",
       "['6ix9ine', 'Nicki Minaj']                         2020-06-16    0.108000   \n",
       "['Summer Walker']                                  2020-06-16    0.562000   \n",
       "['G-Eazy']                                         2020-06-17    0.388000   \n",
       "['Swae Lee']                                       2020-06-18    0.188000   \n",
       "\n",
       "                                                                  loudness  \\\n",
       "artists                                            release_date              \n",
       "['Mehmet Kemiksiz']                                1921-01-01    -8.267429   \n",
       "['Felix Mendelssohn', 'Arturo Toscanini']          1921-01-01   -21.719000   \n",
       "['Sergei Rachmaninoff', 'Michael Tilson Thomas'... 1921-01-01   -22.312000   \n",
       "['John McCormack']                                 1921-01-01   -12.801000   \n",
       "['John McCormack', 'Edwin Schneider']              1921-01-01   -13.976000   \n",
       "...                                                                    ...   \n",
       "['Arijit Singh']                                   2020-06-16    -6.456667   \n",
       "['6ix9ine', 'Nicki Minaj']                         2020-06-16    -8.108000   \n",
       "['Summer Walker']                                  2020-06-16   -10.065000   \n",
       "['G-Eazy']                                         2020-06-17   -10.886500   \n",
       "['Swae Lee']                                       2020-06-18   -11.142000   \n",
       "\n",
       "                                                                     mode  \\\n",
       "artists                                            release_date             \n",
       "['Mehmet Kemiksiz']                                1921-01-01    0.285714   \n",
       "['Felix Mendelssohn', 'Arturo Toscanini']          1921-01-01    0.500000   \n",
       "['Sergei Rachmaninoff', 'Michael Tilson Thomas'... 1921-01-01    0.000000   \n",
       "['John McCormack']                                 1921-01-01    1.000000   \n",
       "['John McCormack', 'Edwin Schneider']              1921-01-01    1.000000   \n",
       "...                                                                   ...   \n",
       "['Arijit Singh']                                   2020-06-16    0.333333   \n",
       "['6ix9ine', 'Nicki Minaj']                         2020-06-16    1.000000   \n",
       "['Summer Walker']                                  2020-06-16    0.000000   \n",
       "['G-Eazy']                                         2020-06-17    0.000000   \n",
       "['Swae Lee']                                       2020-06-18    1.000000   \n",
       "\n",
       "                                                                 popularity  \\\n",
       "artists                                            release_date               \n",
       "['Mehmet Kemiksiz']                                1921-01-01           0.0   \n",
       "['Felix Mendelssohn', 'Arturo Toscanini']          1921-01-01           0.0   \n",
       "['Sergei Rachmaninoff', 'Michael Tilson Thomas'... 1921-01-01           0.5   \n",
       "['John McCormack']                                 1921-01-01           2.5   \n",
       "['John McCormack', 'Edwin Schneider']              1921-01-01           0.0   \n",
       "...                                                                     ...   \n",
       "['Arijit Singh']                                   2020-06-16           0.0   \n",
       "['6ix9ine', 'Nicki Minaj']                         2020-06-16           0.0   \n",
       "['Summer Walker']                                  2020-06-16           0.0   \n",
       "['G-Eazy']                                         2020-06-17           0.0   \n",
       "['Swae Lee']                                       2020-06-18           0.0   \n",
       "\n",
       "                                                                 speechiness  \\\n",
       "artists                                            release_date                \n",
       "['Mehmet Kemiksiz']                                1921-01-01        0.04090   \n",
       "['Felix Mendelssohn', 'Arturo Toscanini']          1921-01-01        0.04115   \n",
       "['Sergei Rachmaninoff', 'Michael Tilson Thomas'... 1921-01-01        0.03760   \n",
       "['John McCormack']                                 1921-01-01        0.05365   \n",
       "['John McCormack', 'Edwin Schneider']              1921-01-01        0.08730   \n",
       "...                                                                      ...   \n",
       "['Arijit Singh']                                   2020-06-16        0.04250   \n",
       "['6ix9ine', 'Nicki Minaj']                         2020-06-16        0.20600   \n",
       "['Summer Walker']                                  2020-06-16        0.28800   \n",
       "['G-Eazy']                                         2020-06-17        0.04240   \n",
       "['Swae Lee']                                       2020-06-18        0.05800   \n",
       "\n",
       "                                                                      tempo  \\\n",
       "artists                                            release_date               \n",
       "['Mehmet Kemiksiz']                                1921-01-01    125.684786   \n",
       "['Felix Mendelssohn', 'Arturo Toscanini']          1921-01-01     81.349000   \n",
       "['Sergei Rachmaninoff', 'Michael Tilson Thomas'... 1921-01-01     65.211000   \n",
       "['John McCormack']                                 1921-01-01    101.258000   \n",
       "['John McCormack', 'Edwin Schneider']              1921-01-01    170.251000   \n",
       "...                                                                     ...   \n",
       "['Arijit Singh']                                   2020-06-16    111.599333   \n",
       "['6ix9ine', 'Nicki Minaj']                         2020-06-16    179.989000   \n",
       "['Summer Walker']                                  2020-06-16     96.942000   \n",
       "['G-Eazy']                                         2020-06-17    129.789000   \n",
       "['Swae Lee']                                       2020-06-18    119.980000   \n",
       "\n",
       "                                                                  valence  \\\n",
       "artists                                            release_date             \n",
       "['Mehmet Kemiksiz']                                1921-01-01    0.452214   \n",
       "['Felix Mendelssohn', 'Arturo Toscanini']          1921-01-01    0.476500   \n",
       "['Sergei Rachmaninoff', 'Michael Tilson Thomas'... 1921-01-01    0.051500   \n",
       "['John McCormack']                                 1921-01-01    0.299000   \n",
       "['John McCormack', 'Edwin Schneider']              1921-01-01    0.240000   \n",
       "...                                                                   ...   \n",
       "['Arijit Singh']                                   2020-06-16    0.373667   \n",
       "['6ix9ine', 'Nicki Minaj']                         2020-06-16    0.350000   \n",
       "['Summer Walker']                                  2020-06-16    0.122000   \n",
       "['G-Eazy']                                         2020-06-17    0.091800   \n",
       "['Swae Lee']                                       2020-06-18    0.080400   \n",
       "\n",
       "                                                                   year  \n",
       "artists                                            release_date          \n",
       "['Mehmet Kemiksiz']                                1921-01-01    1921.0  \n",
       "['Felix Mendelssohn', 'Arturo Toscanini']          1921-01-01    1921.0  \n",
       "['Sergei Rachmaninoff', 'Michael Tilson Thomas'... 1921-01-01    1921.0  \n",
       "['John McCormack']                                 1921-01-01    1921.0  \n",
       "['John McCormack', 'Edwin Schneider']              1921-01-01    1921.0  \n",
       "...                                                                 ...  \n",
       "['Arijit Singh']                                   2020-06-16    2020.0  \n",
       "['6ix9ine', 'Nicki Minaj']                         2020-06-16    2020.0  \n",
       "['Summer Walker']                                  2020-06-16    2020.0  \n",
       "['G-Eazy']                                         2020-06-17    2020.0  \n",
       "['Swae Lee']                                       2020-06-18    2020.0  \n",
       "\n",
       "[61289 rows x 15 columns]"
      ],
      "text/html": "<div>\n<style scoped>\n    .dataframe tbody tr th:only-of-type {\n        vertical-align: middle;\n    }\n\n    .dataframe tbody tr th {\n        vertical-align: top;\n    }\n\n    .dataframe thead th {\n        text-align: right;\n    }\n</style>\n<table border=\"1\" class=\"dataframe\">\n  <thead>\n    <tr style=\"text-align: right;\">\n      <th></th>\n      <th></th>\n      <th>acousticness</th>\n      <th>danceability</th>\n      <th>duration_ms</th>\n      <th>energy</th>\n      <th>explicit</th>\n      <th>instrumentalness</th>\n      <th>key</th>\n      <th>liveness</th>\n      <th>loudness</th>\n      <th>mode</th>\n      <th>popularity</th>\n      <th>speechiness</th>\n      <th>tempo</th>\n      <th>valence</th>\n      <th>year</th>\n    </tr>\n    <tr>\n      <th>artists</th>\n      <th>release_date</th>\n      <th></th>\n      <th></th>\n      <th></th>\n      <th></th>\n      <th></th>\n      <th></th>\n      <th></th>\n      <th></th>\n      <th></th>\n      <th></th>\n      <th></th>\n      <th></th>\n      <th></th>\n      <th></th>\n      <th></th>\n    </tr>\n  </thead>\n  <tbody>\n    <tr>\n      <th>['Mehmet Kemiksiz']</th>\n      <th>1921-01-01</th>\n      <td>0.623357</td>\n      <td>0.504214</td>\n      <td>218092.642857</td>\n      <td>0.485214</td>\n      <td>0.0</td>\n      <td>1.154437e-01</td>\n      <td>5.642857</td>\n      <td>0.195907</td>\n      <td>-8.267429</td>\n      <td>0.285714</td>\n      <td>0.0</td>\n      <td>0.04090</td>\n      <td>125.684786</td>\n      <td>0.452214</td>\n      <td>1921.0</td>\n    </tr>\n    <tr>\n      <th>['Felix Mendelssohn', 'Arturo Toscanini']</th>\n      <th>1921-01-01</th>\n      <td>0.985500</td>\n      <td>0.378500</td>\n      <td>261073.500000</td>\n      <td>0.162650</td>\n      <td>0.0</td>\n      <td>1.288000e-01</td>\n      <td>3.500000</td>\n      <td>0.243000</td>\n      <td>-21.719000</td>\n      <td>0.500000</td>\n      <td>0.0</td>\n      <td>0.04115</td>\n      <td>81.349000</td>\n      <td>0.476500</td>\n      <td>1921.0</td>\n    </tr>\n    <tr>\n      <th>['Sergei Rachmaninoff', 'Michael Tilson Thomas', 'Barry Douglas', 'London Symphony Orchestra']</th>\n      <th>1921-01-01</th>\n      <td>0.973000</td>\n      <td>0.200000</td>\n      <td>673733.000000</td>\n      <td>0.091600</td>\n      <td>0.0</td>\n      <td>8.750000e-01</td>\n      <td>5.000000</td>\n      <td>0.075600</td>\n      <td>-22.312000</td>\n      <td>0.000000</td>\n      <td>0.5</td>\n      <td>0.03760</td>\n      <td>65.211000</td>\n      <td>0.051500</td>\n      <td>1921.0</td>\n    </tr>\n    <tr>\n      <th>['John McCormack']</th>\n      <th>1921-01-01</th>\n      <td>0.994500</td>\n      <td>0.455500</td>\n      <td>207653.500000</td>\n      <td>0.179500</td>\n      <td>0.0</td>\n      <td>2.425000e-06</td>\n      <td>3.500000</td>\n      <td>0.108500</td>\n      <td>-12.801000</td>\n      <td>1.000000</td>\n      <td>2.5</td>\n      <td>0.05365</td>\n      <td>101.258000</td>\n      <td>0.299000</td>\n      <td>1921.0</td>\n    </tr>\n    <tr>\n      <th>['John McCormack', 'Edwin Schneider']</th>\n      <th>1921-01-01</th>\n      <td>0.994000</td>\n      <td>0.400000</td>\n      <td>187333.000000</td>\n      <td>0.155000</td>\n      <td>0.0</td>\n      <td>4.330000e-05</td>\n      <td>4.000000</td>\n      <td>0.103000</td>\n      <td>-13.976000</td>\n      <td>1.000000</td>\n      <td>0.0</td>\n      <td>0.08730</td>\n      <td>170.251000</td>\n      <td>0.240000</td>\n      <td>1921.0</td>\n    </tr>\n    <tr>\n      <th>...</th>\n      <th>...</th>\n      <td>...</td>\n      <td>...</td>\n      <td>...</td>\n      <td>...</td>\n      <td>...</td>\n      <td>...</td>\n      <td>...</td>\n      <td>...</td>\n      <td>...</td>\n      <td>...</td>\n      <td>...</td>\n      <td>...</td>\n      <td>...</td>\n      <td>...</td>\n      <td>...</td>\n    </tr>\n    <tr>\n      <th>['Arijit Singh']</th>\n      <th>2020-06-16</th>\n      <td>0.538333</td>\n      <td>0.483333</td>\n      <td>280797.000000</td>\n      <td>0.632333</td>\n      <td>0.0</td>\n      <td>3.433333e-07</td>\n      <td>2.666667</td>\n      <td>0.458333</td>\n      <td>-6.456667</td>\n      <td>0.333333</td>\n      <td>0.0</td>\n      <td>0.04250</td>\n      <td>111.599333</td>\n      <td>0.373667</td>\n      <td>2020.0</td>\n    </tr>\n    <tr>\n      <th>['6ix9ine', 'Nicki Minaj']</th>\n      <th>2020-06-16</th>\n      <td>0.032800</td>\n      <td>0.722000</td>\n      <td>185667.000000</td>\n      <td>0.502000</td>\n      <td>1.0</td>\n      <td>3.770000e-05</td>\n      <td>1.000000</td>\n      <td>0.108000</td>\n      <td>-8.108000</td>\n      <td>1.000000</td>\n      <td>0.0</td>\n      <td>0.20600</td>\n      <td>179.989000</td>\n      <td>0.350000</td>\n      <td>2020.0</td>\n    </tr>\n    <tr>\n      <th>['Summer Walker']</th>\n      <th>2020-06-16</th>\n      <td>0.558000</td>\n      <td>0.653000</td>\n      <td>140760.000000</td>\n      <td>0.418000</td>\n      <td>1.0</td>\n      <td>3.100000e-04</td>\n      <td>6.000000</td>\n      <td>0.562000</td>\n      <td>-10.065000</td>\n      <td>0.000000</td>\n      <td>0.0</td>\n      <td>0.28800</td>\n      <td>96.942000</td>\n      <td>0.122000</td>\n      <td>2020.0</td>\n    </tr>\n    <tr>\n      <th>['G-Eazy']</th>\n      <th>2020-06-17</th>\n      <td>0.707000</td>\n      <td>0.582000</td>\n      <td>177657.000000</td>\n      <td>0.461500</td>\n      <td>0.5</td>\n      <td>8.365000e-02</td>\n      <td>7.000000</td>\n      <td>0.388000</td>\n      <td>-10.886500</td>\n      <td>0.000000</td>\n      <td>0.0</td>\n      <td>0.04240</td>\n      <td>129.789000</td>\n      <td>0.091800</td>\n      <td>2020.0</td>\n    </tr>\n    <tr>\n      <th>['Swae Lee']</th>\n      <th>2020-06-18</th>\n      <td>0.193000</td>\n      <td>0.539000</td>\n      <td>232000.000000</td>\n      <td>0.416000</td>\n      <td>1.0</td>\n      <td>0.000000e+00</td>\n      <td>9.000000</td>\n      <td>0.188000</td>\n      <td>-11.142000</td>\n      <td>1.000000</td>\n      <td>0.0</td>\n      <td>0.05800</td>\n      <td>119.980000</td>\n      <td>0.080400</td>\n      <td>2020.0</td>\n    </tr>\n  </tbody>\n</table>\n<p>61289 rows × 15 columns</p>\n</div>"
     },
     "metadata": {},
     "execution_count": 17
    }
   ],
   "source": [
    "# Créer une nouvelle dataframe calculant la moyenne des variables de l'artiste selon release_date et ordonner les par dates\n",
    "\n",
    "ord = df.groupby(['artists','release_date']).mean().sort_values(by='release_date')\n",
    "ord"
   ]
  },
  {
   "cell_type": "code",
   "execution_count": 18,
   "metadata": {},
   "outputs": [],
   "source": [
    "# Créer votre graphe en précisant que le type de l'axe x est une date  \n",
    "import numpy as np\n",
    "p = figure(plot_width=1000 , plot_height = 400,  x_axis_type=\"datetime\")\n"
   ]
  },
  {
   "cell_type": "code",
   "execution_count": 19,
   "metadata": {},
   "outputs": [
    {
     "output_type": "execute_result",
     "data": {
      "text/plain": [
       "acousticness               float64\n",
       "artists                     object\n",
       "danceability               float64\n",
       "duration_ms                  int64\n",
       "energy                     float64\n",
       "explicit                     int64\n",
       "id                          object\n",
       "instrumentalness           float64\n",
       "key                          int64\n",
       "liveness                   float64\n",
       "loudness                   float64\n",
       "mode                         int64\n",
       "name                        object\n",
       "popularity                   int64\n",
       "release_date        datetime64[ns]\n",
       "speechiness                float64\n",
       "tempo                      float64\n",
       "valence                    float64\n",
       "year                         int64\n",
       "dtype: object"
      ]
     },
     "metadata": {},
     "execution_count": 19
    }
   ],
   "source": [
    "# Créer un graphe Line avec les données ordonnées de popularité par release_date\n",
    "from bokeh.models import ColumnDataSource\n",
    "\n",
    "dt['release_date'] = pd.to_datetime(dt['release_date'])\n",
    "\n",
    "df1 = dt.groupby(['release_date'])['release_date','popularity'].mean().sort_values('release_date')\n",
    "source = ColumnDataSource(data=df1)\n",
    "p.line(x = 'release_date',y='popularity',source=source,line_width=2,color=\"green\")\n",
    "dt.dtypes"
   ]
  },
  {
   "cell_type": "code",
   "execution_count": 20,
   "metadata": {},
   "outputs": [
    {
     "output_type": "execute_result",
     "data": {
      "text/plain": [
       "GlyphRenderer(id='1424', ...)"
      ],
      "text/html": "<div style=\"display: table;\"><div style=\"display: table-row;\"><div style=\"display: table-cell;\"><b title=\"bokeh.models.renderers.GlyphRenderer\">GlyphRenderer</b>(</div><div style=\"display: table-cell;\">id&nbsp;=&nbsp;'1424', <span id=\"1427\" style=\"cursor: pointer;\">&hellip;)</span></div></div><div class=\"1426\" style=\"display: none;\"><div style=\"display: table-cell;\"></div><div style=\"display: table-cell;\">data_source&nbsp;=&nbsp;ColumnDataSource(id='1415', ...),</div></div><div class=\"1426\" style=\"display: none;\"><div style=\"display: table-cell;\"></div><div style=\"display: table-cell;\">glyph&nbsp;=&nbsp;Circle(id='1422', ...),</div></div><div class=\"1426\" style=\"display: none;\"><div style=\"display: table-cell;\"></div><div style=\"display: table-cell;\">hover_glyph&nbsp;=&nbsp;None,</div></div><div class=\"1426\" style=\"display: none;\"><div style=\"display: table-cell;\"></div><div style=\"display: table-cell;\">js_event_callbacks&nbsp;=&nbsp;{},</div></div><div class=\"1426\" style=\"display: none;\"><div style=\"display: table-cell;\"></div><div style=\"display: table-cell;\">js_property_callbacks&nbsp;=&nbsp;{},</div></div><div class=\"1426\" style=\"display: none;\"><div style=\"display: table-cell;\"></div><div style=\"display: table-cell;\">level&nbsp;=&nbsp;'glyph',</div></div><div class=\"1426\" style=\"display: none;\"><div style=\"display: table-cell;\"></div><div style=\"display: table-cell;\">muted&nbsp;=&nbsp;False,</div></div><div class=\"1426\" style=\"display: none;\"><div style=\"display: table-cell;\"></div><div style=\"display: table-cell;\">muted_glyph&nbsp;=&nbsp;None,</div></div><div class=\"1426\" style=\"display: none;\"><div style=\"display: table-cell;\"></div><div style=\"display: table-cell;\">name&nbsp;=&nbsp;None,</div></div><div class=\"1426\" style=\"display: none;\"><div style=\"display: table-cell;\"></div><div style=\"display: table-cell;\">nonselection_glyph&nbsp;=&nbsp;Circle(id='1423', ...),</div></div><div class=\"1426\" style=\"display: none;\"><div style=\"display: table-cell;\"></div><div style=\"display: table-cell;\">selection_glyph&nbsp;=&nbsp;None,</div></div><div class=\"1426\" style=\"display: none;\"><div style=\"display: table-cell;\"></div><div style=\"display: table-cell;\">subscribed_events&nbsp;=&nbsp;[],</div></div><div class=\"1426\" style=\"display: none;\"><div style=\"display: table-cell;\"></div><div style=\"display: table-cell;\">tags&nbsp;=&nbsp;[],</div></div><div class=\"1426\" style=\"display: none;\"><div style=\"display: table-cell;\"></div><div style=\"display: table-cell;\">view&nbsp;=&nbsp;CDSView(id='1425', ...),</div></div><div class=\"1426\" style=\"display: none;\"><div style=\"display: table-cell;\"></div><div style=\"display: table-cell;\">visible&nbsp;=&nbsp;True,</div></div><div class=\"1426\" style=\"display: none;\"><div style=\"display: table-cell;\"></div><div style=\"display: table-cell;\">x_range_name&nbsp;=&nbsp;'default',</div></div><div class=\"1426\" style=\"display: none;\"><div style=\"display: table-cell;\"></div><div style=\"display: table-cell;\">y_range_name&nbsp;=&nbsp;'default')</div></div></div>\n<script>\n(function() {\n  var expanded = false;\n  var ellipsis = document.getElementById(\"1427\");\n  ellipsis.addEventListener(\"click\", function() {\n    var rows = document.getElementsByClassName(\"1426\");\n    for (var i = 0; i < rows.length; i++) {\n      var el = rows[i];\n      el.style.display = expanded ? \"none\" : \"table-row\";\n    }\n    ellipsis.innerHTML = expanded ? \"&hellip;)\" : \"&lsaquo;&lsaquo;&lsaquo;\";\n    expanded = !expanded;\n  });\n})();\n</script>\n"
     },
     "metadata": {},
     "execution_count": 20
    }
   ],
   "source": [
    "# Ajouter un glyph circle permettant de mieux visualiser les datapoints sur le graphe Line\n",
    "p.circle(x = 'release_date',y='popularity',source=source,line_width=2,color=\"green\")\n"
   ]
  },
  {
   "cell_type": "code",
   "execution_count": 21,
   "metadata": {},
   "outputs": [
    {
     "output_type": "display_data",
     "data": {
      "text/html": "\n\n\n\n\n\n  <div class=\"bk-root\" id=\"0d5cde38-bce8-4a1b-89af-e429a5f7e17e\" data-root-id=\"1384\"></div>\n"
     },
     "metadata": {}
    },
    {
     "output_type": "display_data",
     "data": {
      "application/javascript": "(function(root) {\n  function embed_document(root) {\n    \n  var docs_json = {\"29328744-3719-445d-8f9e-3231ba3e56b7\":{\"roots\":{\"references\":[{\"attributes\":{\"below\":[{\"id\":\"1393\"}],\"center\":[{\"id\":\"1396\"},{\"id\":\"1400\"}],\"left\":[{\"id\":\"1397\"}],\"plot_height\":400,\"plot_width\":1000,\"renderers\":[{\"id\":\"1419\"},{\"id\":\"1424\"}],\"title\":{\"id\":\"1451\"},\"toolbar\":{\"id\":\"1408\"},\"x_range\":{\"id\":\"1385\"},\"x_scale\":{\"id\":\"1389\"},\"y_range\":{\"id\":\"1387\"},\"y_scale\":{\"id\":\"1391\"}},\"id\":\"1384\",\"subtype\":\"Figure\",\"type\":\"Plot\"},{\"attributes\":{},\"id\":\"1405\",\"type\":\"ResetTool\"},{\"attributes\":{},\"id\":\"1404\",\"type\":\"SaveTool\"},{\"attributes\":{\"months\":[0,6]},\"id\":\"1469\",\"type\":\"MonthsTicker\"},{\"attributes\":{},\"id\":\"1398\",\"type\":\"BasicTicker\"},{\"attributes\":{},\"id\":\"1387\",\"type\":\"DataRange1d\"},{\"attributes\":{\"fill_color\":{\"value\":\"green\"},\"line_color\":{\"value\":\"green\"},\"line_width\":{\"value\":2},\"x\":{\"field\":\"release_date\"},\"y\":{\"field\":\"popularity\"}},\"id\":\"1422\",\"type\":\"Circle\"},{\"attributes\":{\"line_alpha\":0.1,\"line_color\":\"green\",\"line_width\":2,\"x\":{\"field\":\"release_date\"},\"y\":{\"field\":\"popularity\"}},\"id\":\"1418\",\"type\":\"Line\"},{\"attributes\":{\"source\":{\"id\":\"1415\"}},\"id\":\"1425\",\"type\":\"CDSView\"},{\"attributes\":{\"base\":24,\"mantissas\":[1,2,4,6,8,12],\"max_interval\":43200000.0,\"min_interval\":3600000.0,\"num_minor_ticks\":0},\"id\":\"1461\",\"type\":\"AdaptiveTicker\"},{\"attributes\":{},\"id\":\"1456\",\"type\":\"Selection\"},{\"attributes\":{\"days\":[1,15]},\"id\":\"1465\",\"type\":\"DaysTicker\"},{\"attributes\":{\"line_color\":\"green\",\"line_width\":2,\"x\":{\"field\":\"release_date\"},\"y\":{\"field\":\"popularity\"}},\"id\":\"1417\",\"type\":\"Line\"},{\"attributes\":{\"data_source\":{\"id\":\"1415\"},\"glyph\":{\"id\":\"1417\"},\"hover_glyph\":null,\"muted_glyph\":null,\"nonselection_glyph\":{\"id\":\"1418\"},\"selection_glyph\":null,\"view\":{\"id\":\"1420\"}},\"id\":\"1419\",\"type\":\"GlyphRenderer\"},{\"attributes\":{\"days\":[1,2,3,4,5,6,7,8,9,10,11,12,13,14,15,16,17,18,19,20,21,22,23,24,25,26,27,28,29,30,31]},\"id\":\"1462\",\"type\":\"DaysTicker\"},{\"attributes\":{\"months\":[0,4,8]},\"id\":\"1468\",\"type\":\"MonthsTicker\"},{\"attributes\":{\"formatter\":{\"id\":\"1453\"},\"ticker\":{\"id\":\"1398\"}},\"id\":\"1397\",\"type\":\"LinearAxis\"},{\"attributes\":{\"data_source\":{\"id\":\"1415\"},\"glyph\":{\"id\":\"1422\"},\"hover_glyph\":null,\"muted_glyph\":null,\"nonselection_glyph\":{\"id\":\"1423\"},\"selection_glyph\":null,\"view\":{\"id\":\"1425\"}},\"id\":\"1424\",\"type\":\"GlyphRenderer\"},{\"attributes\":{},\"id\":\"1455\",\"type\":\"DatetimeTickFormatter\"},{\"attributes\":{\"bottom_units\":\"screen\",\"fill_alpha\":0.5,\"fill_color\":\"lightgrey\",\"left_units\":\"screen\",\"level\":\"overlay\",\"line_alpha\":1.0,\"line_color\":\"black\",\"line_dash\":[4,4],\"line_width\":2,\"right_units\":\"screen\",\"top_units\":\"screen\"},\"id\":\"1407\",\"type\":\"BoxAnnotation\"},{\"attributes\":{\"mantissas\":[1,2,5],\"max_interval\":500.0,\"num_minor_ticks\":0},\"id\":\"1459\",\"type\":\"AdaptiveTicker\"},{\"attributes\":{\"base\":60,\"mantissas\":[1,2,5,10,15,20,30],\"max_interval\":1800000.0,\"min_interval\":1000.0,\"num_minor_ticks\":0},\"id\":\"1460\",\"type\":\"AdaptiveTicker\"},{\"attributes\":{},\"id\":\"1402\",\"type\":\"WheelZoomTool\"},{\"attributes\":{\"overlay\":{\"id\":\"1407\"}},\"id\":\"1403\",\"type\":\"BoxZoomTool\"},{\"attributes\":{\"months\":[0,2,4,6,8,10]},\"id\":\"1467\",\"type\":\"MonthsTicker\"},{\"attributes\":{\"months\":[0,1,2,3,4,5,6,7,8,9,10,11]},\"id\":\"1466\",\"type\":\"MonthsTicker\"},{\"attributes\":{\"text\":\"\"},\"id\":\"1451\",\"type\":\"Title\"},{\"attributes\":{},\"id\":\"1457\",\"type\":\"UnionRenderers\"},{\"attributes\":{\"fill_alpha\":{\"value\":0.1},\"fill_color\":{\"value\":\"green\"},\"line_alpha\":{\"value\":0.1},\"line_color\":{\"value\":\"green\"},\"line_width\":{\"value\":2},\"x\":{\"field\":\"release_date\"},\"y\":{\"field\":\"popularity\"}},\"id\":\"1423\",\"type\":\"Circle\"},{\"attributes\":{},\"id\":\"1401\",\"type\":\"PanTool\"},{\"attributes\":{\"days\":[1,8,15,22]},\"id\":\"1464\",\"type\":\"DaysTicker\"},{\"attributes\":{\"axis\":{\"id\":\"1397\"},\"dimension\":1,\"ticker\":null},\"id\":\"1400\",\"type\":\"Grid\"},{\"attributes\":{\"axis\":{\"id\":\"1393\"},\"ticker\":null},\"id\":\"1396\",\"type\":\"Grid\"},{\"attributes\":{\"days\":[1,4,7,10,13,16,19,22,25,28]},\"id\":\"1463\",\"type\":\"DaysTicker\"},{\"attributes\":{\"formatter\":{\"id\":\"1455\"},\"ticker\":{\"id\":\"1394\"}},\"id\":\"1393\",\"type\":\"DatetimeAxis\"},{\"attributes\":{},\"id\":\"1389\",\"type\":\"LinearScale\"},{\"attributes\":{},\"id\":\"1385\",\"type\":\"DataRange1d\"},{\"attributes\":{\"source\":{\"id\":\"1415\"}},\"id\":\"1420\",\"type\":\"CDSView\"},{\"attributes\":{},\"id\":\"1406\",\"type\":\"HelpTool\"},{\"attributes\":{},\"id\":\"1391\",\"type\":\"LinearScale\"},{\"attributes\":{},\"id\":\"1453\",\"type\":\"BasicTickFormatter\"},{\"attributes\":{},\"id\":\"1470\",\"type\":\"YearsTicker\"},{\"attributes\":{\"data\":{\"popularity\":{\"__ndarray__\":\"AAAAAAAAPUAAAAAAAABCQFVVVVVVVUZAJUmSJEkSQkAAAAAAAABGQBvKayivIURAAAAAAAAAQECrqqqqqqpEQAAAAAAA0ENAAAAAAACAPEAAAAAAAABCQAAAAAAAADlAAAAAAAAAOkCrqqqqqqpIQFVVVVVVVUNAAAAAAAAATUAAAAAAAABJQAAAAAAAgElAMzMzMzMzSEAAAAAAAIBAQAAAAAAAAE5A\",\"dtype\":\"float64\",\"order\":\"little\",\"shape\":[21]},\"release_date\":{\"__ndarray__\":\"AAAAgPOK/8EAAADQB3wVQgAAAAzrYz1CAAAAHM5dQkIAAADaurtIQgAAAAzrY01CAAAAHM5dUkIAAAD+AzVUQgAAAEnwClZCAAAAlNzgV0IAAAAToOZaQgAAAEyFEV1CAACApJ/QYEIAAABJ8ApmQgAAACLXZ2dCAAAAlNzgZ0IAAAAuyHhoQgAAAIsksGhCAAAAA25WakIAAADkbftrQgAAgNxOyXJC\",\"dtype\":\"float64\",\"order\":\"little\",\"shape\":[21]}},\"selected\":{\"id\":\"1456\"},\"selection_policy\":{\"id\":\"1457\"}},\"id\":\"1415\",\"type\":\"ColumnDataSource\"},{\"attributes\":{\"num_minor_ticks\":5,\"tickers\":[{\"id\":\"1459\"},{\"id\":\"1460\"},{\"id\":\"1461\"},{\"id\":\"1462\"},{\"id\":\"1463\"},{\"id\":\"1464\"},{\"id\":\"1465\"},{\"id\":\"1466\"},{\"id\":\"1467\"},{\"id\":\"1468\"},{\"id\":\"1469\"},{\"id\":\"1470\"}]},\"id\":\"1394\",\"type\":\"DatetimeTicker\"},{\"attributes\":{\"active_drag\":\"auto\",\"active_inspect\":\"auto\",\"active_multi\":null,\"active_scroll\":\"auto\",\"active_tap\":\"auto\",\"tools\":[{\"id\":\"1401\"},{\"id\":\"1402\"},{\"id\":\"1403\"},{\"id\":\"1404\"},{\"id\":\"1405\"},{\"id\":\"1406\"}]},\"id\":\"1408\",\"type\":\"Toolbar\"}],\"root_ids\":[\"1384\"]},\"title\":\"Bokeh Application\",\"version\":\"2.2.3\"}};\n  var render_items = [{\"docid\":\"29328744-3719-445d-8f9e-3231ba3e56b7\",\"root_ids\":[\"1384\"],\"roots\":{\"1384\":\"0d5cde38-bce8-4a1b-89af-e429a5f7e17e\"}}];\n  root.Bokeh.embed.embed_items_notebook(docs_json, render_items);\n\n  }\n  if (root.Bokeh !== undefined) {\n    embed_document(root);\n  } else {\n    var attempts = 0;\n    var timer = setInterval(function(root) {\n      if (root.Bokeh !== undefined) {\n        clearInterval(timer);\n        embed_document(root);\n      } else {\n        attempts++;\n        if (attempts > 100) {\n          clearInterval(timer);\n          console.log(\"Bokeh: ERROR: Unable to run BokehJS code because BokehJS library is missing\");\n        }\n      }\n    }, 10, root)\n  }\n})(window);",
      "application/vnd.bokehjs_exec.v0+json": ""
     },
     "metadata": {
      "application/vnd.bokehjs_exec.v0+json": {
       "id": "1384"
      }
     }
    }
   ],
   "source": [
    "# Afficher le graphe\n",
    "\n",
    "show(p)"
   ]
  },
  {
   "cell_type": "markdown",
   "metadata": {},
   "source": [
    "<br> Pour des graphes plus complexes, transmettre les données d'un Dataframe aux glyphs devient compliqué. Bokeh procure un objet \"ColumnDataSource\" pour lier la dataframe au glyph et mapper les noms des colonnes aux données, facilitant ainsi la référence des éléments de données lors de la construction de la visualisation. Une fois créée, une ColumnDataSource peut être transmise aux méthodes glyph via le paramètre \"source\".\n",
    "\n",
    "Revenons à notre graph Line. On voudrait afficher la popularité d'un autre artiste sur le même graphe. On utilisera la fonction add_glyph de Bokeh, ainsi qu'une ColumnDataSource.  \n"
   ]
  },
  {
   "cell_type": "code",
   "execution_count": 22,
   "metadata": {},
   "outputs": [],
   "source": [
    "from bokeh.models import ColumnDataSource"
   ]
  },
  {
   "cell_type": "code",
   "execution_count": 23,
   "metadata": {},
   "outputs": [
    {
     "output_type": "execute_result",
     "data": {
      "text/plain": [
       "                                                    acousticness  \\\n",
       "artists                                                            \n",
       "[\"'Til Tuesday\"]                                               1   \n",
       "['Les McCann']                                                 1   \n",
       "['Les Baxter']                                                 1   \n",
       "['Leo Jaime', 'Kid Abelha e os Abóboras Selvage...             1   \n",
       "['Lena Horne']                                                 1   \n",
       "...                                                          ...   \n",
       "['ABBA']                                                      58   \n",
       "['The Clash']                                                 58   \n",
       "['Journey']                                                   60   \n",
       "['Bob Marley & The Wailers']                                  64   \n",
       "['Julio Iglesias']                                            65   \n",
       "\n",
       "                                                    danceability  duration_ms  \\\n",
       "artists                                                                         \n",
       "[\"'Til Tuesday\"]                                               1            1   \n",
       "['Les McCann']                                                 1            1   \n",
       "['Les Baxter']                                                 1            1   \n",
       "['Leo Jaime', 'Kid Abelha e os Abóboras Selvage...             1            1   \n",
       "['Lena Horne']                                                 1            1   \n",
       "...                                                          ...          ...   \n",
       "['ABBA']                                                      58           58   \n",
       "['The Clash']                                                 58           58   \n",
       "['Journey']                                                   60           60   \n",
       "['Bob Marley & The Wailers']                                  64           64   \n",
       "['Julio Iglesias']                                            65           65   \n",
       "\n",
       "                                                    energy  explicit  id  \\\n",
       "artists                                                                    \n",
       "[\"'Til Tuesday\"]                                         1         1   1   \n",
       "['Les McCann']                                           1         1   1   \n",
       "['Les Baxter']                                           1         1   1   \n",
       "['Leo Jaime', 'Kid Abelha e os Abóboras Selvage...       1         1   1   \n",
       "['Lena Horne']                                           1         1   1   \n",
       "...                                                    ...       ...  ..   \n",
       "['ABBA']                                                58        58  58   \n",
       "['The Clash']                                           58        58  58   \n",
       "['Journey']                                             60        60  60   \n",
       "['Bob Marley & The Wailers']                            64        64  64   \n",
       "['Julio Iglesias']                                      65        65  65   \n",
       "\n",
       "                                                    instrumentalness  key  \\\n",
       "artists                                                                     \n",
       "[\"'Til Tuesday\"]                                                   1    1   \n",
       "['Les McCann']                                                     1    1   \n",
       "['Les Baxter']                                                     1    1   \n",
       "['Leo Jaime', 'Kid Abelha e os Abóboras Selvage...                 1    1   \n",
       "['Lena Horne']                                                     1    1   \n",
       "...                                                              ...  ...   \n",
       "['ABBA']                                                          58   58   \n",
       "['The Clash']                                                     58   58   \n",
       "['Journey']                                                       60   60   \n",
       "['Bob Marley & The Wailers']                                      64   64   \n",
       "['Julio Iglesias']                                                65   65   \n",
       "\n",
       "                                                    liveness  loudness  mode  \\\n",
       "artists                                                                        \n",
       "[\"'Til Tuesday\"]                                           1         1     1   \n",
       "['Les McCann']                                             1         1     1   \n",
       "['Les Baxter']                                             1         1     1   \n",
       "['Leo Jaime', 'Kid Abelha e os Abóboras Selvage...         1         1     1   \n",
       "['Lena Horne']                                             1         1     1   \n",
       "...                                                      ...       ...   ...   \n",
       "['ABBA']                                                  58        58    58   \n",
       "['The Clash']                                             58        58    58   \n",
       "['Journey']                                               60        60    60   \n",
       "['Bob Marley & The Wailers']                              64        64    64   \n",
       "['Julio Iglesias']                                        65        65    65   \n",
       "\n",
       "                                                    name  popularity  \\\n",
       "artists                                                                \n",
       "[\"'Til Tuesday\"]                                       1           1   \n",
       "['Les McCann']                                         1           1   \n",
       "['Les Baxter']                                         1           1   \n",
       "['Leo Jaime', 'Kid Abelha e os Abóboras Selvage...     1           1   \n",
       "['Lena Horne']                                         1           1   \n",
       "...                                                  ...         ...   \n",
       "['ABBA']                                              58          58   \n",
       "['The Clash']                                         58          58   \n",
       "['Journey']                                           60          60   \n",
       "['Bob Marley & The Wailers']                          64          64   \n",
       "['Julio Iglesias']                                    65          65   \n",
       "\n",
       "                                                    release_date  speechiness  \\\n",
       "artists                                                                         \n",
       "[\"'Til Tuesday\"]                                               1            1   \n",
       "['Les McCann']                                                 1            1   \n",
       "['Les Baxter']                                                 1            1   \n",
       "['Leo Jaime', 'Kid Abelha e os Abóboras Selvage...             1            1   \n",
       "['Lena Horne']                                                 1            1   \n",
       "...                                                          ...          ...   \n",
       "['ABBA']                                                      58           58   \n",
       "['The Clash']                                                 58           58   \n",
       "['Journey']                                                   60           60   \n",
       "['Bob Marley & The Wailers']                                  64           64   \n",
       "['Julio Iglesias']                                            65           65   \n",
       "\n",
       "                                                    tempo  valence  year  \n",
       "artists                                                                   \n",
       "[\"'Til Tuesday\"]                                        1        1     1  \n",
       "['Les McCann']                                          1        1     1  \n",
       "['Les Baxter']                                          1        1     1  \n",
       "['Leo Jaime', 'Kid Abelha e os Abóboras Selvage...      1        1     1  \n",
       "['Lena Horne']                                          1        1     1  \n",
       "...                                                   ...      ...   ...  \n",
       "['ABBA']                                               58       58    58  \n",
       "['The Clash']                                          58       58    58  \n",
       "['Journey']                                            60       60    60  \n",
       "['Bob Marley & The Wailers']                           64       64    64  \n",
       "['Julio Iglesias']                                     65       65    65  \n",
       "\n",
       "[2495 rows x 18 columns]"
      ],
      "text/html": "<div>\n<style scoped>\n    .dataframe tbody tr th:only-of-type {\n        vertical-align: middle;\n    }\n\n    .dataframe tbody tr th {\n        vertical-align: top;\n    }\n\n    .dataframe thead th {\n        text-align: right;\n    }\n</style>\n<table border=\"1\" class=\"dataframe\">\n  <thead>\n    <tr style=\"text-align: right;\">\n      <th></th>\n      <th>acousticness</th>\n      <th>danceability</th>\n      <th>duration_ms</th>\n      <th>energy</th>\n      <th>explicit</th>\n      <th>id</th>\n      <th>instrumentalness</th>\n      <th>key</th>\n      <th>liveness</th>\n      <th>loudness</th>\n      <th>mode</th>\n      <th>name</th>\n      <th>popularity</th>\n      <th>release_date</th>\n      <th>speechiness</th>\n      <th>tempo</th>\n      <th>valence</th>\n      <th>year</th>\n    </tr>\n    <tr>\n      <th>artists</th>\n      <th></th>\n      <th></th>\n      <th></th>\n      <th></th>\n      <th></th>\n      <th></th>\n      <th></th>\n      <th></th>\n      <th></th>\n      <th></th>\n      <th></th>\n      <th></th>\n      <th></th>\n      <th></th>\n      <th></th>\n      <th></th>\n      <th></th>\n      <th></th>\n    </tr>\n  </thead>\n  <tbody>\n    <tr>\n      <th>[\"'Til Tuesday\"]</th>\n      <td>1</td>\n      <td>1</td>\n      <td>1</td>\n      <td>1</td>\n      <td>1</td>\n      <td>1</td>\n      <td>1</td>\n      <td>1</td>\n      <td>1</td>\n      <td>1</td>\n      <td>1</td>\n      <td>1</td>\n      <td>1</td>\n      <td>1</td>\n      <td>1</td>\n      <td>1</td>\n      <td>1</td>\n      <td>1</td>\n    </tr>\n    <tr>\n      <th>['Les McCann']</th>\n      <td>1</td>\n      <td>1</td>\n      <td>1</td>\n      <td>1</td>\n      <td>1</td>\n      <td>1</td>\n      <td>1</td>\n      <td>1</td>\n      <td>1</td>\n      <td>1</td>\n      <td>1</td>\n      <td>1</td>\n      <td>1</td>\n      <td>1</td>\n      <td>1</td>\n      <td>1</td>\n      <td>1</td>\n      <td>1</td>\n    </tr>\n    <tr>\n      <th>['Les Baxter']</th>\n      <td>1</td>\n      <td>1</td>\n      <td>1</td>\n      <td>1</td>\n      <td>1</td>\n      <td>1</td>\n      <td>1</td>\n      <td>1</td>\n      <td>1</td>\n      <td>1</td>\n      <td>1</td>\n      <td>1</td>\n      <td>1</td>\n      <td>1</td>\n      <td>1</td>\n      <td>1</td>\n      <td>1</td>\n      <td>1</td>\n    </tr>\n    <tr>\n      <th>['Leo Jaime', 'Kid Abelha e os Abóboras Selvagens']</th>\n      <td>1</td>\n      <td>1</td>\n      <td>1</td>\n      <td>1</td>\n      <td>1</td>\n      <td>1</td>\n      <td>1</td>\n      <td>1</td>\n      <td>1</td>\n      <td>1</td>\n      <td>1</td>\n      <td>1</td>\n      <td>1</td>\n      <td>1</td>\n      <td>1</td>\n      <td>1</td>\n      <td>1</td>\n      <td>1</td>\n    </tr>\n    <tr>\n      <th>['Lena Horne']</th>\n      <td>1</td>\n      <td>1</td>\n      <td>1</td>\n      <td>1</td>\n      <td>1</td>\n      <td>1</td>\n      <td>1</td>\n      <td>1</td>\n      <td>1</td>\n      <td>1</td>\n      <td>1</td>\n      <td>1</td>\n      <td>1</td>\n      <td>1</td>\n      <td>1</td>\n      <td>1</td>\n      <td>1</td>\n      <td>1</td>\n    </tr>\n    <tr>\n      <th>...</th>\n      <td>...</td>\n      <td>...</td>\n      <td>...</td>\n      <td>...</td>\n      <td>...</td>\n      <td>...</td>\n      <td>...</td>\n      <td>...</td>\n      <td>...</td>\n      <td>...</td>\n      <td>...</td>\n      <td>...</td>\n      <td>...</td>\n      <td>...</td>\n      <td>...</td>\n      <td>...</td>\n      <td>...</td>\n      <td>...</td>\n    </tr>\n    <tr>\n      <th>['ABBA']</th>\n      <td>58</td>\n      <td>58</td>\n      <td>58</td>\n      <td>58</td>\n      <td>58</td>\n      <td>58</td>\n      <td>58</td>\n      <td>58</td>\n      <td>58</td>\n      <td>58</td>\n      <td>58</td>\n      <td>58</td>\n      <td>58</td>\n      <td>58</td>\n      <td>58</td>\n      <td>58</td>\n      <td>58</td>\n      <td>58</td>\n    </tr>\n    <tr>\n      <th>['The Clash']</th>\n      <td>58</td>\n      <td>58</td>\n      <td>58</td>\n      <td>58</td>\n      <td>58</td>\n      <td>58</td>\n      <td>58</td>\n      <td>58</td>\n      <td>58</td>\n      <td>58</td>\n      <td>58</td>\n      <td>58</td>\n      <td>58</td>\n      <td>58</td>\n      <td>58</td>\n      <td>58</td>\n      <td>58</td>\n      <td>58</td>\n    </tr>\n    <tr>\n      <th>['Journey']</th>\n      <td>60</td>\n      <td>60</td>\n      <td>60</td>\n      <td>60</td>\n      <td>60</td>\n      <td>60</td>\n      <td>60</td>\n      <td>60</td>\n      <td>60</td>\n      <td>60</td>\n      <td>60</td>\n      <td>60</td>\n      <td>60</td>\n      <td>60</td>\n      <td>60</td>\n      <td>60</td>\n      <td>60</td>\n      <td>60</td>\n    </tr>\n    <tr>\n      <th>['Bob Marley &amp; The Wailers']</th>\n      <td>64</td>\n      <td>64</td>\n      <td>64</td>\n      <td>64</td>\n      <td>64</td>\n      <td>64</td>\n      <td>64</td>\n      <td>64</td>\n      <td>64</td>\n      <td>64</td>\n      <td>64</td>\n      <td>64</td>\n      <td>64</td>\n      <td>64</td>\n      <td>64</td>\n      <td>64</td>\n      <td>64</td>\n      <td>64</td>\n    </tr>\n    <tr>\n      <th>['Julio Iglesias']</th>\n      <td>65</td>\n      <td>65</td>\n      <td>65</td>\n      <td>65</td>\n      <td>65</td>\n      <td>65</td>\n      <td>65</td>\n      <td>65</td>\n      <td>65</td>\n      <td>65</td>\n      <td>65</td>\n      <td>65</td>\n      <td>65</td>\n      <td>65</td>\n      <td>65</td>\n      <td>65</td>\n      <td>65</td>\n      <td>65</td>\n    </tr>\n  </tbody>\n</table>\n<p>2495 rows × 18 columns</p>\n</div>"
     },
     "metadata": {},
     "execution_count": 23
    }
   ],
   "source": [
    "# Créer une ColumnDataSource qui filtre votre dataset sur un artiste comparable à celui déjà choisi (release_date des pistes dans des périodes similaires)\n",
    "lst = dt['release_date'].unique()\n",
    "df1 = df[df['release_date'].isin(lst) ]\n",
    "df1.groupby('artists').count().sort_values('id')"
   ]
  },
  {
   "cell_type": "code",
   "execution_count": 24,
   "metadata": {},
   "outputs": [
    {
     "output_type": "execute_result",
     "data": {
      "text/plain": [
       "        acousticness                        artists  danceability  \\\n",
       "116837      0.000003  ['Journeyman - Nick DePalma']         0.432   \n",
       "27670       0.156000                    ['Journey']         0.409   \n",
       "102773      0.009570                    ['Journey']         0.335   \n",
       "43505       0.034100                    ['Journey']         0.590   \n",
       "43554       0.027300                    ['Journey']         0.565   \n",
       "...              ...                            ...           ...   \n",
       "69255       0.030200                    ['Journey']         0.560   \n",
       "124793      0.257000                    ['Journey']         0.494   \n",
       "22762       0.012700                    ['Journey']         0.334   \n",
       "54437       0.153000                    ['Journey']         0.310   \n",
       "106253      0.254000                    ['Journey']         0.495   \n",
       "\n",
       "        duration_ms  energy  explicit                      id  \\\n",
       "116837       283767   0.837         0  55gb3fXg4esRjQQl16Unid   \n",
       "27670        222133   0.517         0  24EhwaalAeVQ6o2WF4Q1nS   \n",
       "102773       246440   0.763         0  7762XHJsFFdRNw3pgxV8ns   \n",
       "43505        273560   0.725         0  6Mp0DlbKIJ3iUWGeTA6WAt   \n",
       "43554        204827   0.758         0  0qlpV7VX09c07aWC72pcCG   \n",
       "...             ...     ...       ...                     ...   \n",
       "69255        230347   0.833         0  51G8Ktb8odD9IPjw2FScgX   \n",
       "124793       249093   0.805         0  5ehcf6UL1TkwozB386cRAp   \n",
       "22762        245960   0.839         0  6S89Xbg2YPxmS5VfDBlZVt   \n",
       "54437        250681   0.597         0  5chj8uuGpvkCIG4x3VMAtG   \n",
       "106253       248200   0.781         0  3HRQtRUYnnuZY7fE900XtJ   \n",
       "\n",
       "        instrumentalness  key  liveness  loudness  mode  \\\n",
       "116837          0.002710    2    0.2160    -5.528     1   \n",
       "27670           0.000012    9    0.1840    -9.563     1   \n",
       "102773          0.000000    7    0.1690    -9.153     1   \n",
       "43505           0.002870    2    0.2170   -10.139     0   \n",
       "43554           0.247000    2    0.1160    -8.855     1   \n",
       "...                  ...  ...       ...       ...   ...   \n",
       "69255           0.000015    9    0.3700    -6.345     0   \n",
       "124793          0.000000    4    0.3560    -7.087     1   \n",
       "22762           0.000000    7    0.3110    -6.200     1   \n",
       "54437           0.000000   11    0.0985    -5.536     1   \n",
       "106253          0.000000    4    0.3950    -8.109     1   \n",
       "\n",
       "                                      name  popularity release_date  \\\n",
       "116837                 Motherless Children           0   1927-01-01   \n",
       "27670   Why Can't This Night Go On Forever          25   1975-01-01   \n",
       "102773                      Only the Young          43   1975-01-01   \n",
       "43505                  The Eyes of a Woman          24   1975-01-01   \n",
       "43554                          With a Tear          23   1975-01-01   \n",
       "...                                    ...         ...          ...   \n",
       "69255                   Girl Can't Help It          40   2006-07-31   \n",
       "124793                Don't Stop Believin'          58   2006-07-31   \n",
       "22762                       Only the Young          44   2006-07-31   \n",
       "54437                After All These Years          45   2008-06-03   \n",
       "106253                Don't Stop Believin'          67   2010-02-26   \n",
       "\n",
       "        speechiness    tempo  valence  year  \n",
       "116837       0.0569  120.087    0.596  1927  \n",
       "27670        0.0314  118.893    0.259  1975  \n",
       "102773       0.0388   72.725    0.501  1975  \n",
       "43505        0.0360  117.180    0.510  1975  \n",
       "43554        0.0437  104.770    0.747  1975  \n",
       "...             ...      ...      ...   ...  \n",
       "69255        0.0493  125.709    0.505  2006  \n",
       "124793       0.0421  119.027    0.465  2006  \n",
       "22762        0.0400   72.479    0.504  2006  \n",
       "54437        0.0333  126.310    0.171  2008  \n",
       "106253       0.0413  119.206    0.473  2010  \n",
       "\n",
       "[136 rows x 19 columns]"
      ],
      "text/html": "<div>\n<style scoped>\n    .dataframe tbody tr th:only-of-type {\n        vertical-align: middle;\n    }\n\n    .dataframe tbody tr th {\n        vertical-align: top;\n    }\n\n    .dataframe thead th {\n        text-align: right;\n    }\n</style>\n<table border=\"1\" class=\"dataframe\">\n  <thead>\n    <tr style=\"text-align: right;\">\n      <th></th>\n      <th>acousticness</th>\n      <th>artists</th>\n      <th>danceability</th>\n      <th>duration_ms</th>\n      <th>energy</th>\n      <th>explicit</th>\n      <th>id</th>\n      <th>instrumentalness</th>\n      <th>key</th>\n      <th>liveness</th>\n      <th>loudness</th>\n      <th>mode</th>\n      <th>name</th>\n      <th>popularity</th>\n      <th>release_date</th>\n      <th>speechiness</th>\n      <th>tempo</th>\n      <th>valence</th>\n      <th>year</th>\n    </tr>\n  </thead>\n  <tbody>\n    <tr>\n      <th>116837</th>\n      <td>0.000003</td>\n      <td>['Journeyman - Nick DePalma']</td>\n      <td>0.432</td>\n      <td>283767</td>\n      <td>0.837</td>\n      <td>0</td>\n      <td>55gb3fXg4esRjQQl16Unid</td>\n      <td>0.002710</td>\n      <td>2</td>\n      <td>0.2160</td>\n      <td>-5.528</td>\n      <td>1</td>\n      <td>Motherless Children</td>\n      <td>0</td>\n      <td>1927-01-01</td>\n      <td>0.0569</td>\n      <td>120.087</td>\n      <td>0.596</td>\n      <td>1927</td>\n    </tr>\n    <tr>\n      <th>27670</th>\n      <td>0.156000</td>\n      <td>['Journey']</td>\n      <td>0.409</td>\n      <td>222133</td>\n      <td>0.517</td>\n      <td>0</td>\n      <td>24EhwaalAeVQ6o2WF4Q1nS</td>\n      <td>0.000012</td>\n      <td>9</td>\n      <td>0.1840</td>\n      <td>-9.563</td>\n      <td>1</td>\n      <td>Why Can't This Night Go On Forever</td>\n      <td>25</td>\n      <td>1975-01-01</td>\n      <td>0.0314</td>\n      <td>118.893</td>\n      <td>0.259</td>\n      <td>1975</td>\n    </tr>\n    <tr>\n      <th>102773</th>\n      <td>0.009570</td>\n      <td>['Journey']</td>\n      <td>0.335</td>\n      <td>246440</td>\n      <td>0.763</td>\n      <td>0</td>\n      <td>7762XHJsFFdRNw3pgxV8ns</td>\n      <td>0.000000</td>\n      <td>7</td>\n      <td>0.1690</td>\n      <td>-9.153</td>\n      <td>1</td>\n      <td>Only the Young</td>\n      <td>43</td>\n      <td>1975-01-01</td>\n      <td>0.0388</td>\n      <td>72.725</td>\n      <td>0.501</td>\n      <td>1975</td>\n    </tr>\n    <tr>\n      <th>43505</th>\n      <td>0.034100</td>\n      <td>['Journey']</td>\n      <td>0.590</td>\n      <td>273560</td>\n      <td>0.725</td>\n      <td>0</td>\n      <td>6Mp0DlbKIJ3iUWGeTA6WAt</td>\n      <td>0.002870</td>\n      <td>2</td>\n      <td>0.2170</td>\n      <td>-10.139</td>\n      <td>0</td>\n      <td>The Eyes of a Woman</td>\n      <td>24</td>\n      <td>1975-01-01</td>\n      <td>0.0360</td>\n      <td>117.180</td>\n      <td>0.510</td>\n      <td>1975</td>\n    </tr>\n    <tr>\n      <th>43554</th>\n      <td>0.027300</td>\n      <td>['Journey']</td>\n      <td>0.565</td>\n      <td>204827</td>\n      <td>0.758</td>\n      <td>0</td>\n      <td>0qlpV7VX09c07aWC72pcCG</td>\n      <td>0.247000</td>\n      <td>2</td>\n      <td>0.1160</td>\n      <td>-8.855</td>\n      <td>1</td>\n      <td>With a Tear</td>\n      <td>23</td>\n      <td>1975-01-01</td>\n      <td>0.0437</td>\n      <td>104.770</td>\n      <td>0.747</td>\n      <td>1975</td>\n    </tr>\n    <tr>\n      <th>...</th>\n      <td>...</td>\n      <td>...</td>\n      <td>...</td>\n      <td>...</td>\n      <td>...</td>\n      <td>...</td>\n      <td>...</td>\n      <td>...</td>\n      <td>...</td>\n      <td>...</td>\n      <td>...</td>\n      <td>...</td>\n      <td>...</td>\n      <td>...</td>\n      <td>...</td>\n      <td>...</td>\n      <td>...</td>\n      <td>...</td>\n      <td>...</td>\n    </tr>\n    <tr>\n      <th>69255</th>\n      <td>0.030200</td>\n      <td>['Journey']</td>\n      <td>0.560</td>\n      <td>230347</td>\n      <td>0.833</td>\n      <td>0</td>\n      <td>51G8Ktb8odD9IPjw2FScgX</td>\n      <td>0.000015</td>\n      <td>9</td>\n      <td>0.3700</td>\n      <td>-6.345</td>\n      <td>0</td>\n      <td>Girl Can't Help It</td>\n      <td>40</td>\n      <td>2006-07-31</td>\n      <td>0.0493</td>\n      <td>125.709</td>\n      <td>0.505</td>\n      <td>2006</td>\n    </tr>\n    <tr>\n      <th>124793</th>\n      <td>0.257000</td>\n      <td>['Journey']</td>\n      <td>0.494</td>\n      <td>249093</td>\n      <td>0.805</td>\n      <td>0</td>\n      <td>5ehcf6UL1TkwozB386cRAp</td>\n      <td>0.000000</td>\n      <td>4</td>\n      <td>0.3560</td>\n      <td>-7.087</td>\n      <td>1</td>\n      <td>Don't Stop Believin'</td>\n      <td>58</td>\n      <td>2006-07-31</td>\n      <td>0.0421</td>\n      <td>119.027</td>\n      <td>0.465</td>\n      <td>2006</td>\n    </tr>\n    <tr>\n      <th>22762</th>\n      <td>0.012700</td>\n      <td>['Journey']</td>\n      <td>0.334</td>\n      <td>245960</td>\n      <td>0.839</td>\n      <td>0</td>\n      <td>6S89Xbg2YPxmS5VfDBlZVt</td>\n      <td>0.000000</td>\n      <td>7</td>\n      <td>0.3110</td>\n      <td>-6.200</td>\n      <td>1</td>\n      <td>Only the Young</td>\n      <td>44</td>\n      <td>2006-07-31</td>\n      <td>0.0400</td>\n      <td>72.479</td>\n      <td>0.504</td>\n      <td>2006</td>\n    </tr>\n    <tr>\n      <th>54437</th>\n      <td>0.153000</td>\n      <td>['Journey']</td>\n      <td>0.310</td>\n      <td>250681</td>\n      <td>0.597</td>\n      <td>0</td>\n      <td>5chj8uuGpvkCIG4x3VMAtG</td>\n      <td>0.000000</td>\n      <td>11</td>\n      <td>0.0985</td>\n      <td>-5.536</td>\n      <td>1</td>\n      <td>After All These Years</td>\n      <td>45</td>\n      <td>2008-06-03</td>\n      <td>0.0333</td>\n      <td>126.310</td>\n      <td>0.171</td>\n      <td>2008</td>\n    </tr>\n    <tr>\n      <th>106253</th>\n      <td>0.254000</td>\n      <td>['Journey']</td>\n      <td>0.495</td>\n      <td>248200</td>\n      <td>0.781</td>\n      <td>0</td>\n      <td>3HRQtRUYnnuZY7fE900XtJ</td>\n      <td>0.000000</td>\n      <td>4</td>\n      <td>0.3950</td>\n      <td>-8.109</td>\n      <td>1</td>\n      <td>Don't Stop Believin'</td>\n      <td>67</td>\n      <td>2010-02-26</td>\n      <td>0.0413</td>\n      <td>119.206</td>\n      <td>0.473</td>\n      <td>2010</td>\n    </tr>\n  </tbody>\n</table>\n<p>136 rows × 19 columns</p>\n</div>"
     },
     "metadata": {},
     "execution_count": 24
    }
   ],
   "source": [
    "df2 = df[df['artists'].str.contains('Journey')].sort_values('release_date')\n",
    "src = ColumnDataSource(data = df2)\n",
    "df2"
   ]
  },
  {
   "cell_type": "code",
   "execution_count": 67,
   "metadata": {},
   "outputs": [],
   "source": [
    "from bokeh.models import Line,Plot,LinearAxis,DatetimeAxis,CategoricalAxis"
   ]
  },
  {
   "cell_type": "code",
   "execution_count": 26,
   "metadata": {},
   "outputs": [],
   "source": [
    "# Créer un graphe Line qui prend release_date dans x_axis et popularité dans y_axis. Choisir une couleur pour la ligne.\n",
    "\n",
    "df2['release_date'] = pd.to_datetime(df2['release_date'])\n",
    "\n",
    "plot = Plot(\n",
    "    title=None, plot_width=500, plot_height=400,\n",
    "    min_border=0, toolbar_location=None)\n",
    "\n",
    "glyph1 = Line(x=\"release_date\", y=\"popularity\", line_color=\"#f46d43\", line_width=2, line_alpha=0.6)\n",
    "glyph2 = Line(x=\"release_date\", y=\"popularity\", line_color=\"green\", line_width=2, line_alpha=0.6)"
   ]
  },
  {
   "cell_type": "code",
   "execution_count": 27,
   "metadata": {},
   "outputs": [],
   "source": [
    "# En utilisant add_glyph, ajouter une nouvelle ligne au plot précédent en spécifiant l'objet ColumnDataSource créé comme source et le Line glyph comme argument.\n",
    "plot.add_glyph(src, glyph1)\n",
    "plot.add_glyph(source,glyph2)\n",
    "\n",
    "xaxis = DatetimeAxis()\n",
    "plot.add_layout(xaxis, 'below')\n",
    "\n",
    "yaxis = LinearAxis()\n",
    "plot.add_layout(yaxis, 'left')\n"
   ]
  },
  {
   "cell_type": "code",
   "execution_count": 28,
   "metadata": {},
   "outputs": [
    {
     "output_type": "display_data",
     "data": {
      "text/html": "\n\n\n\n\n\n  <div class=\"bk-root\" id=\"8fa17c63-2840-4cec-9824-89827009f14a\" data-root-id=\"1577\"></div>\n"
     },
     "metadata": {}
    },
    {
     "output_type": "display_data",
     "data": {
      "application/javascript": "(function(root) {\n  function embed_document(root) {\n    \n  var docs_json = {\"72708aa7-8cf3-432a-bb3f-1b25c86c71a9\":{\"roots\":{\"references\":[{\"attributes\":{\"below\":[{\"id\":\"1585\"}],\"left\":[{\"id\":\"1586\"}],\"min_border\":0,\"plot_height\":400,\"plot_width\":500,\"renderers\":[{\"id\":\"1581\"},{\"id\":\"1583\"}],\"title\":null,\"toolbar\":{\"id\":\"1631\"},\"toolbar_location\":null,\"x_range\":{\"id\":\"1634\"},\"x_scale\":{\"id\":\"1630\"},\"y_range\":{\"id\":\"1633\"},\"y_scale\":{\"id\":\"1632\"}},\"id\":\"1577\",\"type\":\"Plot\"},{\"attributes\":{},\"id\":\"1638\",\"type\":\"DatetimeTickFormatter\"},{\"attributes\":{},\"id\":\"1633\",\"type\":\"DataRange1d\"},{\"attributes\":{},\"id\":\"1636\",\"type\":\"BasicTickFormatter\"},{\"attributes\":{\"days\":[1,15]},\"id\":\"1649\",\"type\":\"DaysTicker\"},{\"attributes\":{},\"id\":\"1632\",\"type\":\"LinearScale\"},{\"attributes\":{\"months\":[0,4,8]},\"id\":\"1652\",\"type\":\"MonthsTicker\"},{\"attributes\":{\"formatter\":{\"id\":\"1636\"},\"ticker\":{\"id\":\"1635\"}},\"id\":\"1586\",\"type\":\"LinearAxis\"},{\"attributes\":{},\"id\":\"1630\",\"type\":\"LinearScale\"},{\"attributes\":{},\"id\":\"1640\",\"type\":\"UnionRenderers\"},{\"attributes\":{},\"id\":\"1456\",\"type\":\"Selection\"},{\"attributes\":{\"base\":60,\"mantissas\":[1,2,5,10,15,20,30],\"max_interval\":1800000.0,\"min_interval\":1000.0,\"num_minor_ticks\":0},\"id\":\"1644\",\"type\":\"AdaptiveTicker\"},{\"attributes\":{\"active_drag\":\"auto\",\"active_inspect\":\"auto\",\"active_multi\":null,\"active_scroll\":\"auto\",\"active_tap\":\"auto\"},\"id\":\"1631\",\"type\":\"Toolbar\"},{\"attributes\":{\"months\":[0,2,4,6,8,10]},\"id\":\"1651\",\"type\":\"MonthsTicker\"},{\"attributes\":{\"days\":[1,4,7,10,13,16,19,22,25,28]},\"id\":\"1647\",\"type\":\"DaysTicker\"},{\"attributes\":{\"mantissas\":[1,2,5],\"max_interval\":500.0,\"num_minor_ticks\":0},\"id\":\"1643\",\"type\":\"AdaptiveTicker\"},{\"attributes\":{\"formatter\":{\"id\":\"1638\"},\"ticker\":{\"id\":\"1637\"}},\"id\":\"1585\",\"type\":\"DatetimeAxis\"},{\"attributes\":{\"data_source\":{\"id\":\"1415\"},\"glyph\":{\"id\":\"1580\"},\"hover_glyph\":null,\"muted_glyph\":null,\"view\":{\"id\":\"1584\"}},\"id\":\"1583\",\"type\":\"GlyphRenderer\"},{\"attributes\":{\"tickers\":[{\"id\":\"1643\"},{\"id\":\"1644\"},{\"id\":\"1645\"},{\"id\":\"1646\"},{\"id\":\"1647\"},{\"id\":\"1648\"},{\"id\":\"1649\"},{\"id\":\"1650\"},{\"id\":\"1651\"},{\"id\":\"1652\"},{\"id\":\"1653\"},{\"id\":\"1654\"}]},\"id\":\"1637\",\"type\":\"DatetimeTicker\"},{\"attributes\":{},\"id\":\"1635\",\"type\":\"BasicTicker\"},{\"attributes\":{},\"id\":\"1457\",\"type\":\"UnionRenderers\"},{\"attributes\":{\"months\":[0,1,2,3,4,5,6,7,8,9,10,11]},\"id\":\"1650\",\"type\":\"MonthsTicker\"},{\"attributes\":{\"line_alpha\":0.6,\"line_color\":\"#f46d43\",\"line_width\":2,\"x\":{\"field\":\"release_date\"},\"y\":{\"field\":\"popularity\"}},\"id\":\"1579\",\"type\":\"Line\"},{\"attributes\":{},\"id\":\"1639\",\"type\":\"Selection\"},{\"attributes\":{},\"id\":\"1634\",\"type\":\"DataRange1d\"},{\"attributes\":{\"base\":24,\"mantissas\":[1,2,4,6,8,12],\"max_interval\":43200000.0,\"min_interval\":3600000.0,\"num_minor_ticks\":0},\"id\":\"1645\",\"type\":\"AdaptiveTicker\"},{\"attributes\":{},\"id\":\"1654\",\"type\":\"YearsTicker\"},{\"attributes\":{\"data\":{\"acousticness\":{\"__ndarray__\":\"hp21HUsGzT4rhxbZzvfDP9OHLqhvmYM/vVKWIY51oT+jI7n8h/SbP2+BBMWPMac/jZduEoPAyj+MbOf7qfHCPx6i0R3EzlQ/PZtVn6utqD/azvdT46W7P/OOU3Qkl68/LnO6LCY2fz/HSzeJQWC1P3Noke18P8U/HOviNhrAqz90kxgEVg7NP3sUrkfhelQ/Gy/dJAaBtT+Cc0aU9gafP1yU2SCTjHw/hlrTvOMUjT+mm8QgsHLQP+18PzVeutE/GCZTBaOSqj9mZmZmZmbGPwQrhxbZzsc/HOviNhrAmz8TYcPTK2W5Pz/G3LWEfJA/rfpcbcX+oj8eFmpN846jP00VjErqBKQ/Z0Rpb/CFuT/cRgN4CyS4P+T3Nv3Zj2Q/exSuR+F6lD+u2F92Tx6GP40o7Q2+MIk/lgM91LZhND9U46WbxCCwPzeJQWDl0NI/WKg1zTtOoT8GgZVDi2zvP4P6ljldFnM/u0kMAiuH7j8H8BZIUPyYP3ctIR/0bJY/L26jAbwFUj8rhxbZzveTP4/C9Shcj8I/mG4Sg8DKwT+WQ4ts5/vZP6RwPQrXo8A//GAZG7rZPz9LsDic+dVcP4/C9Shcj8I/32xzY3rCcj8/NV66SQzCPzeJQWDl0LI/pU5AE2HDkz9ExTh/EwphP6wcWmQ7388/UPwYc9cSoj80ETY8vVKGP/k7FAX6RH4//yH99nXgnD/jpZvEILDiP76kMVpHVXM/xks3iUFg3T+oxks3iUHAPyuHFtnO95M/GeyGbYsyaz+Qa0PFOH9TP04LXvQVpGk/5j+k374OrD/tfD81XrrhP4idKXReY3c/bxKDwMqhtT/CFyZTBaOSP+0NvjCZKog/z2bV52orpj88TtGRXP6zPzlFR3L5D7k/M/lmmxvTYz8g0m9fB86JPyV1ApoIG44/WDm0yHa+zz+MuWsJ+aC3P1XBqKROQJM/UDblCu9ycT9aZDvfT42HP+JYF7fRAK4/XdxGA3gLtD9BYOXQItvJP3KKjuTyH5I/EVg5tMh2vj/QRNjw9EqZP/KwUGuad6w/NIC3QILitz9OYhBYObTIP3E9CtejcM0/oBov3SQG0T/2KFyPwvXQP2ZmZmZmZsY/UrgehetR0D96Nqs+V1uxP7JyaJHtfN8/yqFFtvP91D+l2qfjMQN1PzPEsS5uo7E/nu+nxks3uT8xCKwcWmS7P1pkO99PjYc/UrgehetR5D/hehSuR+GqP5zEILByaLE/AAAAAAAA0D+iRbbz/dTQP4S53ct9cjQ/+FPjpZvE0D8hsHJoke28P4lBYOXQIqs/gZVDi2znqz8v3SQGgZXDP4Lix5i7lrA/5zQLtDukOD+NKO0NvjC5PwIrhxbZzuM/ZDvfT42Xzj/AyqFFtvO9Pz9XW7G/7J4/ppvEILBy0D+mCkYldQKKPy/dJAaBlcM/qMZLN4lB0D8=\",\"dtype\":\"float64\",\"order\":\"little\",\"shape\":[136]},\"artists\":[\"['Journeyman - Nick DePalma']\",\"['Journey']\",\"['Journey']\",\"['Journey']\",\"['Journey']\",\"['Journey']\",\"['Journey']\",\"['Journey']\",\"['Journey']\",\"['Journey']\",\"['Journey']\",\"['Journey']\",\"['Journey']\",\"['Journey']\",\"['Journey']\",\"['Journey']\",\"['Journey']\",\"['Journey']\",\"['Journey']\",\"['Journey']\",\"['Journey']\",\"['Journey']\",\"['Journey']\",\"['Journey']\",\"['Journey']\",\"['Journey']\",\"['Journey']\",\"['Journey']\",\"['Journey']\",\"['Journey']\",\"['Journey']\",\"['Journey']\",\"['Journey']\",\"['Journey']\",\"['Journey']\",\"['Journey']\",\"['Journey']\",\"['Journey']\",\"['Journey']\",\"['Journey']\",\"['Journey']\",\"['Journey']\",\"['Journey']\",\"['Journey']\",\"['Journey']\",\"['Journey']\",\"['Journey']\",\"['Journey']\",\"['Journey']\",\"['Journey']\",\"['Journey']\",\"['Journey']\",\"['Journey']\",\"['Journey']\",\"['Journey']\",\"['Journey']\",\"['Journey']\",\"['Journey']\",\"['Journey']\",\"['Journey']\",\"['Journey']\",\"['Journey']\",\"['Journey']\",\"['Journey']\",\"['Journey']\",\"['Journey']\",\"['Journey']\",\"['Journey']\",\"['Journey']\",\"['Journey']\",\"['Journey']\",\"['Journey']\",\"['Journey']\",\"['Journey']\",\"['Journey']\",\"['Journey']\",\"['Journey']\",\"['Journey']\",\"['Journey']\",\"['Journey']\",\"['Journey']\",\"['Journey']\",\"['Journey']\",\"['Journey']\",\"['Journey']\",\"['Journey']\",\"['Journey']\",\"['Journey']\",\"['Journey']\",\"['Journey']\",\"['Journey']\",\"['Journey']\",\"['Journey']\",\"['Journey']\",\"['Journey']\",\"['Journey']\",\"['Journey']\",\"['Journey']\",\"['Journey']\",\"['Journey']\",\"['Journey']\",\"['Journey']\",\"['Journey']\",\"['Journey']\",\"['Journey']\",\"['Journey']\",\"['Journey', 'Steve Augeri']\",\"['Journey']\",\"['Journey']\",\"['Journey']\",\"['Journey']\",\"['Journey']\",\"['Journey']\",\"['Journey']\",\"['Journey']\",\"['Journey']\",\"['Journey']\",\"['Journey']\",\"['Journey']\",\"['Journey']\",\"['Journey']\",\"['Journey']\",\"['Journey']\",\"['Journey']\",\"['Journey']\",\"['Journey']\",\"['Journey']\",\"['Journey']\",\"['Journey']\",\"['Journey']\",\"['Journey']\",\"['Journey']\",\"['Journey']\",\"['Journey']\",\"['Journey']\",\"['Journey']\"],\"danceability\":{\"__ndarray__\":\"2873U+Ol2z+TGARWDi3aP3E9CtejcNU/4XoUrkfh4j8UrkfhehTiP1pkO99Pjd8/BCuHFtnO3z+Nl24Sg8DSP4XrUbgehdM/7Xw/NV660T9OYhBYObTIP53vp8ZLN9k/TDeJQWDl0D86tMh2vp/iPxxaZDvfT80/XI/C9Shczz8xCKwcWmTTP1TjpZvEINA/001iEFg53D8pXI/C9Si8P2mR7Xw/Nc4/u0kMAiuH3j+WQ4ts5/vJP4cW2c73U9M/001iEFg54D9cj8L1KFzfP/p+arx0k9A/TmIQWDm02D9Ei2zn+6nZP3E9CtejcOU/L90kBoGV2z8Tg8DKoUXiP9NNYhBYOeA/Nl66SQwC2z8OLbKd76fiPyGwcmiR7eA/Rrbz/dR44T/4U+Olm8TQP5ZDi2zn+9k/7FG4HoXr0T9I4XoUrkfZPxgEVg4tstU/AAAAAAAA5D8pXI/C9SjUP0SLbOf7qdE/9ihcj8L1yD9FtvP91HjZPzEIrBxaZNs/4XoUrkfh2j8hsHJoke3cP/P91HjpJtk/Nl66SQwC5z/4U+Olm8TQP7gehetRuN4/exSuR+F61D9cj8L1KFzXP1+6SQwCK8c/WDm0yHa+1z/Xo3A9CtfTP/LSTWIQWMk/F9nO91Pj3T8fhetRuB7hP7+fGi/dJNY/xSCwcmiR3T8fhetRuB7dP+F6FK5H4do/2/l+arx02z/sUbgehevZPwisHFpkO98/nMQgsHJo0T8AAAAAAADgP90kBoGVQ9s/HFpkO99P3T/KoUW28/3UP2q8dJMYBNY/PQrXo3A94j97FK5H4XrUPwaBlUOLbN8//Knx0k1i0D8fhetRuB7dP90kBoGVQ8s/EVg5tMh21j9BYOXQItvhP0Fg5dAi28k/u0kMAiuH1j99PzVeuknUPxFYObTIdt4/VOOlm8Qg4D+4HoXrUbjeP3e+nxov3dw/2/l+arx00z9kO99PjZfWP/T91HjpJuE/SgwCK4cW2T8K16NwPQrfPy/dJAaBlds/xCCwcmiR4T9mZmZmZmbWPyUGgZVDi+A/PQrXo3A9yj/+1HjpJjHkP6RwPQrXo+A/v58aL90k1j+YbhKDwMrhP/YoXI/C9eQ/0SLb+X5q4D9SuB6F61HgP3jpJjEIrNw/ku18PzVe2j8NAiuHFtneP/P91HjpJtk/qvHSTWIQyD+TGARWDi3iP8l2vp8aL9U/gZVDi2zn0z+BlUOLbOfbP7bz/dR46d4/BoGVQ4ts3z/z/dR46SbZP8/3U+Olm+A/l24Sg8DK2T/91HjpJjHIPyPb+X5qvNw/gZVDi2zn2z8IrBxaZDvfP6AaL90kBtk/JQaBlUOL4D+/nxov3STiP5MYBFYOLdo/BFYOLbKd3z+Nl24Sg8DiP+xRuB6F6+E/BFYOLbKd3z/GSzeJQWDVP9ejcD0K19M/rkfhehSu3z8=\",\"dtype\":\"float64\",\"order\":\"little\",\"shape\":[136]},\"duration_ms\":[283767,222133,246440,273560,204827,300267,250907,371067,409960,490893,190333,304173,181467,221307,200800,206960,207893,208467,252240,159227,208587,265267,277133,208227,178267,251333,75533,281040,230533,193000,214760,216493,187533,197760,189907,201693,180360,265200,211933,198200,166467,304907,222333,38907,201773,103533,172560,289027,301133,216467,210667,196267,347147,222373,184733,412933,222707,220173,194360,137640,309760,189640,230453,205133,256600,316693,329200,202173,265560,202933,250987,218893,253440,201013,341160,300147,173880,259320,269120,257787,270587,249907,213493,267080,196587,256987,300960,233653,234547,323707,257920,229453,272933,257120,217213,301667,289960,231680,230640,230000,280347,218893,221440,260907,303413,246987,328307,242773,265467,309560,234333,190667,301133,244960,198667,325907,252640,248907,266267,201867,266253,190693,252507,325947,234733,234400,202320,301160,198720,234267,273973,230347,249093,245960,250681,248200],\"energy\":{\"__ndarray__\":\"YxBYObTI6j8lBoGVQ4vgP9Ei2/l+aug/MzMzMzMz5z+oxks3iUHoP2Q730+Nl+Y/T42XbhKD6D8IrBxaZDvjPyPb+X5qvOA/d76fGi/d5D8AAAAAAADgPwwCK4cW2eI/f2q8dJMY7D+TGARWDi3uP1yPwvUoXN8/zczMzMzM5D/dJAaBlUPjP+XQItv5fuY/16NwPQrX5z8K16NwPQrrP++nxks3iek/arx0kxgE7j93vp8aL93gP5qZmZmZmeU/pHA9Ctej4D/TTWIQWDncP0Fg5dAi2+E/9ihcj8L15D/P91PjpZvkPylcj8L1KOg/7FG4HoXr6T8K16NwPQrnP6jGSzeJQeQ/gZVDi2zn5z/sUbgehevpP23n+6nx0u0/wMqhRbbz6T8UrkfhehTuPxgEVg4tsuU/iUFg5dAi7z9xPQrXo3DdP+Slm8QgsNo/1HjpJjEI7D+kcD0K16PAP90kBoGVQ+8/YxBYObTIxj8xCKwcWmTrPzvfT42Xbuo/jGzn+6nx7j/sUbgehevtP6AaL90kBuU/7FG4HoXr2T9OYhBYObTgP39qvHSTGOA/7FG4HoXr7T+Nl24Sg8DuPxxaZDvfT+k/MzMzMzMz7z+BlUOLbOfrP4lBYOXQIuM/8/3UeOkm7T9t5/up8dLtP53vp8ZLN+E/c2iR7Xw/7T97FK5H4XrsP83MzMzMzOw/9ihcj8L16D/hehSuR+HKP6wcWmQ73+s/fT81XrpJ3D9WDi2yne/nPxSuR+F6FO4/kxgEVg4t7j+IFtnO91PvP/p+arx0k+g/7Xw/NV664T+7SQwCK4fWP42XbhKDwO4/BoGVQ4ts5z+gGi/dJAbtPw4tsp3vp+4/DQIrhxbZ7j9KDAIrhxbtP8/3U+Olm+Q/tMh2vp8a7z/Xo3A9CtfrPyYxCKwcWuw/7FG4HoXr7T/azvdT46XnP2MQWDm0yO4/WDm0yHa+7z/azvdT46XvP8DKoUW28+0/bef7qfHS7T+cxCCwcmjtP4gW2c73U+8/GARWDi2y6T9aZDvfT43vPxsv3SQGge0/eOkmMQis6D8mMQisHFrsPxFYObTIdu4/XI/C9Shc5z93vp8aL93cP0A1XrpJDOY/ppvEILBy4D946SYxCKzsP/hT46WbxOA/ppvEILBy5D+d76fGSzftP8ZLN4lBYOU/hetRuB6F4z9cj8L1KFzjPw4tsp3vp+o/ppvEILBy0D/D9Shcj8LtP6abxCCwcug/RIts5/up6T8bL90kBoHhPxfZzvdT4+0/w/UoXI/C4T9YObTIdr7jP6abxCCwcug/l24Sg8DK7T8cWmQ730/lP0W28/3UeOU/GARWDi2y7T+wcmiR7XzjP/7UeOkmMdA/AAAAAAAA7D9YObTIdr7nPw4tsp3vp+o/w/UoXI/C6T8NAiuHFtnqP7TIdr6fGuM/yqFFtvP96D8=\",\"dtype\":\"float64\",\"order\":\"little\",\"shape\":[136]},\"explicit\":[0,0,0,0,0,0,0,0,0,0,0,0,0,0,0,0,0,0,0,0,0,0,0,0,0,0,0,0,0,0,0,0,0,0,0,0,0,0,0,0,0,0,0,0,0,0,0,0,0,0,0,0,0,0,0,0,0,0,0,0,0,0,0,0,0,0,0,0,0,0,0,0,0,0,0,0,0,0,0,0,0,0,0,0,0,0,0,0,0,0,0,0,0,0,0,0,0,0,0,0,0,0,0,0,0,0,0,0,0,0,0,0,0,0,0,0,0,0,0,0,0,0,0,0,0,0,0,0,0,0,0,0,0,0,0,0],\"id\":[\"55gb3fXg4esRjQQl16Unid\",\"24EhwaalAeVQ6o2WF4Q1nS\",\"7762XHJsFFdRNw3pgxV8ns\",\"6Mp0DlbKIJ3iUWGeTA6WAt\",\"0qlpV7VX09c07aWC72pcCG\",\"1CtlOgt4ZOBFZiWdyNRoZD\",\"0IzVqcgtHh8NzWYxyPsUky\",\"4V5Pz6kZKZLrRIe0TGLWM6\",\"2l5PuwOt6w8IHq9ViMNla9\",\"2NjGMv0X9wWTVvNz276HoE\",\"7EHmKkyAr6MZv5Y2FdZbXw\",\"73ZmM0UGUIRwnJWz90zF6L\",\"0ltUsBuPjEWhMjobZoXV4h\",\"6WK5DgxKiTZzhnw3rtxG2Z\",\"6COi71iplerESLBJ4uglKT\",\"23rCTwH7bcU6ZyWovqmxeQ\",\"3WuG6JfzTUHTKwvvKT51zI\",\"2dcskJYRu9mMVPpAGJl3Er\",\"215wUTQQUo2PElJFEFoB0d\",\"0hogsHMa0ghYTF5Rp0Edos\",\"5rprar3LMJCnBrSCZYVJAc\",\"1cH6pBVYiqIt5gevBRPPXZ\",\"1N2cgzevzZrippQ1VLTsVD\",\"0mp6TFZdVw69I0c9QxoJ9g\",\"0nbr2E39JgYENQujVgryDG\",\"3OAB48J73siRuhknWhjd4D\",\"3WrjbE6biDbu8x8g6FqhMR\",\"5NTXSTiAVQvEha2N3Jyx85\",\"0VQ0n5gMgJLNixG8BfWBT5\",\"162drVzkAebcAEs0sTD7j7\",\"45L2gzjR3EoezZOTUhVhUS\",\"7aROycQXwtu4Mt9e0hht6X\",\"0VcGH4AwcnIQnzCVNCt6go\",\"4wyZlmAjA35jnxV1cdOs8Z\",\"0iU6UUO2delBuXWUZ5utfT\",\"71SvEDmsOwIWw1IozsZoMA\",\"5nrgyqDkpzvs9iM9cnycc2\",\"4vA1t6KcidLYfHns6VbKH4\",\"5hxRkEraZo3mpKPSmkHBWF\",\"2IGvoR243TjScK3dpGzxxT\",\"5CYCG5V1IR7pXl645L7g5F\",\"0IMa3orUBoA5ZwVSvIQI2T\",\"2GzFrEj343FZaz1Ae3dDpq\",\"0MnYAlMPLGIPg1UXRl8pSK\",\"106EKBWkWtBW5M5L46N938\",\"3nmKP2cg0kzFpErnCoyav6\",\"5AD7oNm0kvWIXxW3vy0z2a\",\"7Das7AsS0EP4zKU4Fkw0Ja\",\"32qDv7vjkPNNHnqg0rGTi5\",\"3AblcihgitRi0HdsWVWCbm\",\"5fm8qUyUGpPA29TVUYSHny\",\"2ec2PuewSVcTL0TvBpfqav\",\"4DEJkhYAhCTWfwlrMEfwNC\",\"1QB2rpBB6SKjtdjn2J9e6Y\",\"5nQKqBr8QJOEWy2syiJ1AI\",\"5f8I1PPdk35dSPbVFXQEun\",\"4UOiGyF68i1SAbQ73kMKMV\",\"4Y2yP2SCTpyeY926OfKSZx\",\"5BRtR0b9f0dMNKGOR5EubJ\",\"2HxAr618rlpzCSMq92mdQu\",\"6GXcGfq5y5ils0MUBGVxAZ\",\"6g9H9e0rOIS3drIg38iL0q\",\"2or8ETC2aPaOLJFnF9VoXX\",\"461yf4f2E77AULdUSmQy7K\",\"7LPOuXrEmopus1xZDfGljy\",\"0uohDwZcv1qjIKVsLsx0HD\",\"3VV5wCAP5fyds57HYhYCxW\",\"2w4EpqGasrz9qdTwocx54t\",\"4cgSBnNzOo9rhwzUczB7HI\",\"3RXdyPbYyWClA34vGYFito\",\"4bHsxqR3GMrXTxEPLuK5ue\",\"28pcc7qhdvpFVElCXTgBXF\",\"3wMvdrHybQ76Cwp0rfV50n\",\"3bxbwxzkDzfpag9rDC4sCg\",\"22cJ9G7QOSajS8cYee8pMe\",\"5IK2FtuC0qmHHam9sWFxUI\",\"5vkZiswIyD8bhiLYxpdrug\",\"2wbeywl6xNr2P4NJNuWgtG\",\"5PLOUZFPy7dxBANVwwHI8t\",\"5HfctAnssM6AvKJoGbWGil\",\"4ANDABnWfSfWD1gRtA9ipN\",\"6jbPRw4wFUbC3HlRcCn0yk\",\"0CFNKsFfYQ2NvhLK4pMNgv\",\"57ebBLITHpRgRKGrlbxMZS\",\"6y1jCR2w3KIOtK794s1vgt\",\"4r8knbHxE4LAwPiy1e71Li\",\"0PEnPV6UkHvvydYjXDqkNM\",\"7elZqrBZysXba7cTLkrw05\",\"48Wu7j5ANO17SOpjb3oVPC\",\"4ECNtOnqzxutZkXP4TE3n3\",\"3OfNDuJMLKtNFNjSPmzlRZ\",\"011NbBT3Ctx9dkv8LTpQtA\",\"0CGqNlZ7Pp7DPmiNKmZf5h\",\"3AMGhVQHHkFUoeQ1UbJ214\",\"2f3QBiLT5lqW0DIFZYmBH0\",\"0qXxiX0NabaAyc31F3ZYca\",\"0i1ReVUysX0C3x0f0x7PB8\",\"2D5xQtVNi4o6F3Gh1qxD3Y\",\"2tWhYbJL0dZbkWXfhZbDZs\",\"3sjjFT6WECj8kGqRKebIBc\",\"43g1KljxFUFrE2ok0dcN24\",\"1ek2BBY1US8xQlNsb8os3P\",\"1w1D8I6pEIzHWgOUzppKCR\",\"3ZB2hWPL1Xz0qs4VNhLpEa\",\"6gNPd5Xt76BaKlGdUdvwmP\",\"4b79AEQyxEVoiGMyBUv0io\",\"5LtcaeznPdGln8YafkV8bh\",\"2Z7mISkdZfHbXZu72UU0oY\",\"17dZRccMbW5n1nLqBl9slY\",\"0JV7IEIaYfG6olLls5uKeU\",\"32GrMcghc8DLhpHJST2CWJ\",\"3R47BVunpwXhQbLWrClD94\",\"11Uatd4av1y0YD2x0mQvao\",\"1E2iehquphUsbmj8VTzWdQ\",\"1m2INxep6LfNa25OEg5jZl\",\"2ORySgkn0CbUMFbEoP1wwE\",\"6DXv7vJPrDRxo3Lnh4bacS\",\"77NNZQSqzLNqh2A9JhLRkg\",\"6HzZhqXNyfJxuvQ9zfCc1U\",\"2DyHhPyCZgZzNXn1IrtsTu\",\"7aNk0hjd9VCAoBirwg6aYZ\",\"7LMMvfOjBXsIpvrGjULZKC\",\"5i36c6C2XRw8U71yWgcoTn\",\"59XnaH9k3ZYBUpBHM6PAfE\",\"7hqkC8p8kYW16Af65DTdeN\",\"10O20qYuUZHVNKdLZ7lG1h\",\"4UVKy0DI1hOlL8xF99Ba5j\",\"5v74lHodmN9UX0dP0q8Jxq\",\"7xSodlywi4UVAR2HwjA4yX\",\"6F4EsDGCNB3YfjE6WvH9NB\",\"2PWldJzHn86WNueLuH7bV0\",\"51G8Ktb8odD9IPjw2FScgX\",\"5ehcf6UL1TkwozB386cRAp\",\"6S89Xbg2YPxmS5VfDBlZVt\",\"5chj8uuGpvkCIG4x3VMAtG\",\"3HRQtRUYnnuZY7fE900XtJ\"],\"index\":[116837,27670,102773,43505,43554,27680,73533,66084,112234,66251,83783,121929,140100,59012,112490,148720,93560,93593,83766,3890,51441,3911,157291,20007,157328,157306,12076,12071,83875,12058,36121,3991,112610,112543,165799,83947,4059,59195,131462,66631,112674,12152,103296,140291,59187,12217,44021,20144,44018,36164,28167,148946,44046,44041,20194,51607,20232,51619,36143,44075,36176,28233,93908,157569,103367,112804,122230,84056,84067,140370,84040,122245,131632,140345,140415,84085,166110,112980,149201,157704,140593,149287,149289,84248,166129,103630,103605,94068,94051,84250,158070,132101,158011,122724,158006,166416,113326,94424,94397,149572,158016,113325,113280,13757,75653,104916,5944,68710,61315,61332,46089,142402,46095,124301,151009,124250,124219,86048,114767,86116,6731,14827,6699,14831,61792,22771,22808,30757,38811,54268,134091,69255,124793,22762,54437,106253],\"instrumentalness\":{\"__ndarray__\":\"F7zoK0gzZj9U5BBxcyrpPgAAAAAAAAAApfJ2hNOCZz8EVg4tsp3PP/VNN9yJit8+AAAAAAAAAACuR+F6FK7fP9NNYhBYOdQ/+n5qvHSTqD9TliGOdXF7P67YX3ZPHoY/iIVa07zjpD9U5BBxcyrZPka6+gwD8RU/UDblCu9yYT+GWtO84xRtP0bGtIAaCBM/AaAvYkRH9z5iB50p14i+PgaiJ2VSQ+s+3wAz38FPLD9xaaEJufcFP0qAmlq21mc/LWDAmhyhsz7qUitlfAzkPu+nxks3ie0/SWjLuRRXdT80ar5KPnYnP2QbXUoCefs+mvOdqSG7/D6uT5Tf/UwYPwAAAAAAAAAAAAAAAAAAAABmTMEaZ9PRPl2nkZbK21E/QrgCCvX0IT/7YBkbutkvP2ZMwRpn0wE/DjLJyFnYgz8kSYx13LbgPpDb7YLa0rc+aVedrINJ4j6IFtnO91PnPylcj8L1KNQ/sWYq5THa1T6vZa7jKtzjPkC1LCXsV+E+nYAmwoanlz8ANbVsrS9SP2tOuR11z/U+AAAAAAAAAAAYCtgORuwDPwAAAAAAAAAAybs0jw3uGD/8GkmCcAVEP6RwPQrXo7A/pHA9CtejoD/nNAu0O6T4Pt8AM9/BT+w+P4178xsmSj8DlfHvMy48PwAAAAAAAAAAAAAAAAAAAABNsbSdANTuPsG6Gm76kuE+AAAAAAAAAAAAAAAAAAAAAAq8k0+PbUk/AAAAAAAAAAAAAAAAAAAAAGgdVU0QdR8/oD5uZMM/AT8Mq3gj88hvP4++SdOgaE4/AAAAAAAAAABoWfePheggP8nfYupTMwA/AAAAAAAAAABIr7ya8tfqPo69zdGZagw/m/OdqSG73D4AAAAAAAAAAAAAAAAAAAAAeJBDaRQ3Ez8AAAAAAAAAAC46OFzUvN0+AAAAAAAAAAAAAAAAAAAAAKQdFu6Fl8o+AAAAAAAAAAB7hQX3Ax4IP2jKTj+oi0Q/eqNWmL7XQD/Z4ZYseunePmlXnayDSdI+dFKpI5HH7T4JrQP3brnbPqlZVlAHaNE+tFRixxTm3D4fMXpuoSsxP4u8UdCSbPo+vH7aC3nC2j4AAAAAAAAAAKgpboGpC/0+AAAAAAAAAAAAAAAAAAAAALN66gVdyrI+wJMWLquw+T7XFTPC24MwP0bSbvQxHzA/mYHK+PcZVz8AAAAAAAAAAAAAAAAAAAAAAAAAAAAAAAAAAAAAAAAAAI/k0RHpTMQ+AAAAAAAAAAAAAAAAAAAAACv7rgj+t3I/AAAAAAAAAADB/1ayYyNgP0TKaEceRtA+AAAAAAAAAAAAAAAAAAAAAI++SdOgaC4/mFEst7Qagj8AAAAAAAAAAAAAAAAAAAAAVdss4mSwvD6YCpaPSesEPwqkH2hgP+8+AAAAAAAAAAAAAAAAAAAAAAAAAAAAAAAAAAAAAAAAAAA=\",\"dtype\":\"float64\",\"order\":\"little\",\"shape\":[136]},\"key\":[2,9,7,2,2,9,4,7,11,2,7,0,9,7,0,2,5,9,2,2,9,7,0,5,11,9,4,7,2,5,9,9,0,2,4,7,2,9,0,2,7,9,7,0,2,9,9,2,2,9,7,5,4,5,2,0,0,7,5,7,2,7,0,9,4,4,7,2,7,2,4,2,0,9,9,9,7,2,9,9,2,9,2,11,2,7,9,0,4,0,9,7,5,0,11,2,2,0,9,5,4,10,9,2,9,1,7,9,9,5,2,7,9,7,2,4,2,4,11,7,11,7,2,4,4,2,7,9,2,0,2,9,4,7,11,4],\"liveness\":{\"__ndarray__\":\"2873U+Olyz9aZDvfT43HP24Sg8DKocU/LbKd76fGyz8YBFYOLbK9P4SezarP1bY/YOXQItv51j/azvdT46W7P6rx0k1iEMg/EVg5tMh2vj9zaJHtfD/VP7u4jQbwFrg/yXa+nxovzT+WQ4ts5/vhPzMzMzMzM9M/UI2XbhKDwD8X2c73U+PFP6AaL90kBtE/nMQgsHJowT86tMh2vp+6P39qvHSTGNQ//dR46SYx6D8lBoGVQ4vUP6AaL90kBsE/PL1SliGOtT8Sg8DKoUXeP8DKoUW2870/c2iR7Xw/xT/FILByaJHNPz0K16NwPeI/FK5H4XoU3j/RItv5fmq8P+Olm8QgsMI/E/JBz2bVtz+xcmiR7Xy/P5zEILByaME/yjLEsS5usz+S7Xw/NV7uP6AaL90kBtk/76fGSzeJ7T99PzVeuknMP+kmMQisHLo/tMh2vp8a3z/2KFyPwvXIPyUGgZVDi9Q//Knx0k1iwD9uEoPAyqHFP1TjpZvEINA/LbKd76fG5z/+1HjpJjHgP9v5fmq8dNs/pSxDHOvipj+uR+F6FK7HPzzfT42XbrI/+FPjpZvE0D9oke18PzXiP6abxCCwcug/ZDvfT42X7j9U46WbxCDoP+Olm8QgsNI/WmQ730+N7z8RWDm0yHbeP4/C9Shcj8I//Knx0k1i2D9cj8L1KFzvP42XbhKDwNI/NV66SQwC0z+YbhKDwMrBP24Sg8DKoeU/3SQGgZVD7z/P91PjpZvcP30/NV66SdQ/EoPAyqFF6j/Xo3A9CtezP6AaL90kBuU/mG4Sg8DKwT9jf9k9eVi4P/hT46WbxOg/Rbbz/dR42T8tsp3vp8bTP3STGARWDuE/toR80LNZtT9MN4lBYOWwP4GVQ4ts57s/sXJoke18zz+sHFpkO9/PP7gehetRuL4/kxgEVg4t0j9kO99PjZfOP+18PzVeutE/WmQ730+N3z/RItv5fmq8P8UgsHJokc0/QBNhw9MrtT/GSzeJQWDVP4XrUbgehe8/l/+Qfvs6sD8pXI/C9SjUP7bz/dR46dY/c2iR7Xw/1T9vgQTFjzGnP83MzMzMzNQ/oBov3SQGwT/ZzvdT46XTPznWxW00gLc/UI2XbhKD0D/GSzeJQWDFP1CNl24Sg8A/N4lBYOXQwj+kcD0K16PQPyxlGeJYF7c/mG4Sg8DK0T/AyqFFtvO9P42XbhKDwMo/I9v5fmq8xD90kxgEVg7NP1TjpZvEIMA/+FPjpZvE2D86tMh2vp+6P++nxks3icE/+n5qvHSTuD8rhxbZzvfTP1CNl24Sg8A/EoPAyqFFxj8bL90kBoHVPyNKe4MvTLY/nMQgsHJowT9pke18PzW+P8ZLN4lBYMU/rkfhehSuxz8N4C2QoPixP65H4XoUrtc/YxBYObTI1j+BlUOLbOfTP57vp8ZLN7k/SOF6FK5H2T8=\",\"dtype\":\"float64\",\"order\":\"little\",\"shape\":[136]},\"loudness\":{\"__ndarray__\":\"6SYxCKwcFsDGSzeJQSAjwHSTGARWTiLAukkMAitHJMD2KFyPwrUhwNR46SYxiCbAhetRuB7FIcDhehSuR6ElwBODwMqhBSLAFtnO91MjI8B0kxgEVs4jwDVeukkMwiLAZmZmZmamIMCamZmZmZkSwKwcWmQ73yTAGARWDi2yIMBYObTIdj4iwB1aZDvfTyTA5dAi2/k+IcDo+6nx0k0gwBSuR+F6lBnAyXa+nxovFcASg8DKoQUlwGmR7Xw/tRzAj8L1KFyPHcDRItv5fmogwC/dJAaBFSLA9P3UeOkmIcCd76fGSzchwMihRbbz/RnAYOXQItv5HMCDwMqhRbYdwM/3U+Olmx/AmpmZmZmZHsBEi2zn+6kdwBsv3SQGAR7A3SQGgZVDHcDlpZvEILAdwLxJDAIrBx7Aku18PzXeHcAK16NwPQofwPLSTWIQWCDAPN9PjZcuIMA730+Nl+4twFTjpZvEoBzAl24Sg8CKKcA730+Nl+4ewMQgsHJoUSDAf2q8dJMYHcC8dJMYBFYbwBODwMqhhSPA4XoUrkchLMA7tMh2vh8bwI2XbhKDQBrAsXJoke18HMAfhetRuF4gwGDl0CLb+RzA0SLb+X7qHcD4U+Olm8QdwBSDwMqhxSHAsp3vp8ZLHcDTTWIQWDkYwLbz/dR46SPAXI/C9ShcJMC/nxov3WQhwBODwMqhBSPAukkMAitHIsAhsHJokW0qwL+fGi/d5CLATDeJQWClJcC/nxov3SQiwOXQItv5/iHAhxbZzvdTIcDRItv5fuofwG3n+6nxkiHAEVg5tMh2I8AzMzMzM7MewC/dJAaBlQzA6SYxCKwcFcCYbhKDwEoRwG3n+6nx0grALIcW2c73DsATg8DKoUUSwA4CK4cW2RTA+n5qvHSTDsBcj8L1KNwSwLbz/dR46RPAu0kMAiuHCsBkEFg5tMgWwPp+arx0kw/AiUFg5dAi87+oxks3iUEGwEFg5dAi2wzAhetRuB6FA8C0yHa+nxoQwMqhRbbz/QzANV66SQwCEsDb+X5qvHQFwO18PzVeugLAqvHSTWIQEcDfT42XbhIOwDzfT42XbgLAqvHSTWIQDMCDwMqhRbYYwM/3U+OlGxnALbKd76dGF8AhsHJokW0QwA4CK4cWWR3Ad76fGi9dGMCcxCCwcugSwLKd76fGyx/AKVyPwvWoHsC4HoXrUbgdwDeJQWDl0BjAAiuHFtmOI8B9PzVeukkawA4tsp3vJxzABoGVQ4tsHMC0yHa+nxofwEA1XrpJjBzAj8L1KFwPH8ApXI/C9agewARWDi2yHRzA001iEFg5GsD8qfHSTeIfwJ9FtvP91B/Az/dT46WbHMB3vp8aL90dwI/C9ShcjyPA2s73U+MlGsDy0k1iEFgbwOF6FK5HYRnADgIrhxZZHMDNzMzMzMwYwL+fGi/dJBbAK4cW2c43IMA=\",\"dtype\":\"float64\",\"order\":\"little\",\"shape\":[136]},\"mode\":[1,1,1,0,1,0,1,0,0,1,1,0,1,1,1,0,1,1,0,1,1,1,1,1,0,1,1,1,1,1,1,0,1,1,0,1,1,1,1,1,1,1,1,1,1,1,1,1,0,1,1,1,1,1,1,1,1,1,1,1,1,1,1,0,1,1,1,1,1,1,1,1,1,1,0,0,1,1,0,1,0,0,1,1,1,1,0,1,0,1,0,1,1,0,0,1,1,1,0,0,0,1,1,1,0,1,0,0,1,1,1,1,0,1,1,0,0,1,1,1,1,1,0,0,0,1,1,0,1,1,1,0,1,1,1,1],\"name\":[\"Motherless Children\",\"Why Can't This Night Go On Forever\",\"Only the Young\",\"The Eyes of a Woman\",\"With a Tear\",\"After the Fall\",\"Don't Stop Believin'\",\"Topaz\",\"Of a Lifetime\",\"Look into the Future\",\"Lights\",\"Winds of March\",\"La Do Da\",\"The Party's Over (Hopelessly in Love) - GH 2 Version\",\"Patiently\",\"Somethin' to Hide\",\"Feeling That Way\",\"Anytime\",\"Wheel in the Sky\",\"Can Do\",\"Anytime - GH 2 Version\",\"Stone in Love - GH 2 Version\",\"Opened the Door\",\"Feeling That Way - GH 2 Version\",\"Too Late\",\"Sweet and Simple\",\"Majestic\",\"Daydream\",\"Lovin', Touchin', Squeezin'\",\"Do You Recall\",\"Lady Luck\",\"Lovin' You Is Easy\",\"City of the Angels\",\"Just the Same Way\",\"When You're Alone (It Ain't Easy)\",\"Any Way You Want It\",\"Where Were You\",\"Anytime - Live\",\"Someday Soon\",\"Line of Fire - Live\",\"Stay Awhile\",\"People and Places\",\"The Party's Over (Hopelessly in Love)\",\"Departure\",\"Where Were You - Live\",\"Good Morning Girl\",\"Homemade Love\",\"Precious Time\",\"Wheel in the Sky - Live\",\"Just the Same Way - Live\",\"Lights - Live\",\"Walks Like a Lady\",\"Little Girl\",\"Natural Thing\",\"Line of Fire\",\"Dixie Highway - Live\",\"I'm Cryin'\",\"Any Way You Want It\",\"Feeling That Way - Live\",\"Stay Awhile - Live\",\"Lovin' Touchin' Squeezin' - Live\",\"Any Way You Want It\",\"Still They Ride\",\"La Raza del Sol - Alternate Version\",\"Don't Stop Believin' - Live Version\",\"Escape\",\"Mother, Father\",\"Open Arms\",\"Stone in Love\",\"Open Arms - Live Version\",\"Don't Stop Believin'\",\"Keep on Runnin' (Live)\",\"Lay It Down\",\"Dead or Alive\",\"Who's Crying Now - Live Version\",\"Who's Crying Now\",\"Liberty\",\"Chain Reaction\",\"Troubled Child\",\"Rubicon\",\"Edge of the Blade\",\"Frontiers\",\"Only Solutions\",\"Faithfully\",\"Back Talk\",\"Only the Young\",\"After the Fall\",\"Ask the Lonely\",\"Send Her My Love\",\"Separate Ways (Worlds Apart)\",\"Girl Can't Help It - Live Video Mix\",\"Raised on Radio\",\"The Eyes of a Woman\",\"Positive Touch\",\"It Could Have Been You\",\"I'll Be Alright Without You - Live Video Mix\",\"I'll Be Alright Without You\",\"Be Good to Yourself\",\"Girl Can't Help It\",\"Happy to Give\",\"Once You Love Somebody\",\"Suzanne\",\"Why Can't This Night Go On Forever\",\"When I Think of You\",\"Still She Cries\",\"When You Love a Woman\",\"Remember Me (feat. Steve Augeri)\",\"Loved by You\",\"With Your Love\",\"Higher Place\",\"Lovin', Touchin', Squeezin'\",\"Lights\",\"Who's Crying Now\",\"Only the Young\",\"Open Arms\",\"Separate Ways (Worlds Apart)\",\"Wheel in the Sky\",\"Don't Stop Believin'\",\"Faithfully\",\"Any Way You Want It\",\"Faithfully\",\"Lights\",\"Wheel in the Sky\",\"Separate Ways (Worlds Apart)\",\"Send Her My Love\",\"Lovin', Touchin', Squeezin'\",\"Any Way You Want It\",\"Who's Crying Now\",\"Open Arms\",\"Ask the Lonely\",\"I'll Be Alright Without You\",\"Girl Can't Help It\",\"Don't Stop Believin'\",\"Only the Young\",\"After All These Years\",\"Don't Stop Believin'\"],\"popularity\":[0,25,43,24,23,25,21,23,40,22,60,40,32,21,41,31,51,49,63,27,22,27,29,25,30,30,27,27,60,27,24,28,40,42,28,72,29,22,37,22,41,28,44,35,23,27,24,27,24,25,26,32,24,24,26,23,26,24,24,23,24,26,48,33,48,40,40,70,62,36,80,39,36,35,36,59,31,41,34,32,35,33,34,68,31,42,44,50,52,67,32,38,33,42,33,32,41,48,49,34,33,43,43,40,34,56,42,40,41,41,39,47,40,50,52,52,52,75,55,64,46,44,45,44,41,43,44,43,43,41,51,40,58,44,45,67],\"release_date\":{\"__ndarray__\":\"AACAhTa/c8IAAAAczl1CQgAAABzOXUJCAAAAHM5dQkIAAAAczl1CQgAAABzOXUJCAAAAHM5dQkIAAABIjEVDQgAAAEiMRUNCAAAAsqYJRkIAAAAM62NNQgAAAAzrY01CAAAADOtjTUIAAAAM62NNQgAAAAzrY01CAAAADOtjTUIAAAAM62NNQgAAAAzrY01CAAAADOtjTUIAAAAM62NNQgAAAAzrY01CAAAADOtjTUIAAAAM62NNQgAAAAzrY01CAAAA0eGHUEIAAADR4YdQQgAAANHhh1BCAAAA0eGHUEIAAADR4YdQQgAAANHhh1BCAAAA0eGHUEIAAADR4YdQQgAAANHhh1BCAAAA0eGHUEIAAADR4YdQQgAAABzOXVJCAAAAHM5dUkIAAAAczl1SQgAAABzOXVJCAAAAHM5dUkIAAAAczl1SQgAAABzOXVJCAAAAHM5dUkIAAAAczl1SQgAAABzOXVJCAAAAHM5dUkIAAAAczl1SQgAAABzOXVJCAAAAHM5dUkIAAAAczl1SQgAAABzOXVJCAAAAHM5dUkIAAAAczl1SQgAAABzOXVJCAAAAHM5dUkIAAAAczl1SQgAAABzOXVJCAAAAHM5dUkIAAAAczl1SQgAAABzOXVJCAAAAHM5dUkIAAADcM7BSQgAAAP4DNVRCAAAA/gM1VEIAAAD+AzVUQgAAAP4DNVRCAAAA/gM1VEIAAAD+AzVUQgAAAP4DNVRCAAAA/gM1VEIAAAD+AzVUQgAAAP4DNVRCAAAA/gM1VEIAAAD+AzVUQgAAAP4DNVRCAAAA/gM1VEIAAADdxQhYQgAAAN3FCFhCAAAA3cUIWEIAAADdxQhYQgAAAN3FCFhCAAAA3cUIWEIAAADdxQhYQgAAAN3FCFhCAAAA3cUIWEIAAADdxQhYQgAAAN3FCFhCAAAA3cUIWEIAAADdxQhYQgAAAN3FCFhCAAAADOtjXUIAAAAM62NdQgAAAAzrY11CAAAADOtjXUIAAAAM62NdQgAAAAzrY11CAAAADOtjXUIAAAAM62NdQgAAAAzrY11CAAAADOtjXUIAAAAM62NdQgAAAAzrY11CAAAADOtjXUIAAIAUw55oQgAAgBTDnmhCAACAFMOeaEIAAAAwyyZqQgAAgOb0eGxCAACA5vR4bEIAAIDm9HhsQgAAAGD4IG1CAAAAYPggbUIAAABg+CBtQgAAAGD4IG1CAAAAYPggbUIAAABg+CBtQgAAAGD4IG1CAAAAYPggbUIAAABg+CBtQgAAAGD4IG1CAAAAFB7McEIAAAAUHsxwQgAAABQezHBCAAAAFB7McEIAAAAUHsxwQgAAABQezHBCAAAAFB7McEIAAAAUHsxwQgAAABQezHBCAAAAFB7McEIAAAAUHsxwQgAAABQezHBCAAAAFB7McEIAAAAUHsxwQgAAwJG7pHFCAACAKXlwckI=\",\"dtype\":\"float64\",\"order\":\"little\",\"shape\":[136]},\"speechiness\":{\"__ndarray__\":\"p+hILv8hrT8yVTAqqROgP+hqK/aX3aM/PN9PjZduoj9Wn6ut2F+mP7G/7J48LKQ/PN9PjZduoj+GWtO84xStP7Hh6ZWyDKE/iUFg5dAiqz/9h/Tb14GjPzj4wmSqYKQ/IbByaJHtrD/+ZffkYaGmP9/gC5OpgqE/eAskKH6MqT/OiNLe4AujP0ku/yH99qU/nDOitDf4sj+7SQwCK4e2P9rO91Pjpas/oBov3SQGwT/6fmq8dJOoP9cS8kHPZqU/JXUCmggbnj/7OnDOiNKeP3o2qz5XW6E/ysNCrWneoT+Zu5aQD3qmP03zjlN0JKc/rfpcbcX+oj/F/rJ78rCgP3sUrkfheqQ/TfOOU3Qkpz/KVMGopE6wPwfwFkhQ/Kg/S+oENBE2rD9UUiegibCxP0Ck374OnKM/GsBbIEHxsz+WsgxxrIubP5LLf0i/fZ0/CRueXinLoD+PU3Qkl/+gP0vIBz2bVa8/KqkT0ETYoD9WDi2yne+3P/s6cM6I0q4/ZvfkYaHWtD/x9EpZhjimPxHHuriNBqA/FvvL7snDsj92cRsN4C2gP9/gC5OpgqE/owG8BRIUrz/tDb4wmSq4P6g1zTtO0bE/L26jAbwFsj/ysFBrmnesPzJVMCqpE6A/a5p3nKIjqT94CyQofoypPz/G3LWEfKA/Gy/dJAaBtT/c14FzRpSmP96Th4Va06w/iUFg5dAiqz82zTtO0ZGcPzxO0ZFc/rM/l/+Qfvs6oD+gibDh6ZWiP4lBYOXQIrs/B84ZUdobrD9YObTIdr6/PwFNhA1Pr6Q/kst/SL99nT/f4AuTqYKhP8SxLm6jAaw/uY0G8BZIoD9/2T15WKilP96Th4Va06w/8rBQa5p3rD+lLEMc6+KmP4Lix5i7lqA/QKTfvg6csz+amZmZmZmpP6vP1VbsL6s/HhZqTfOOoz/wFkhQ/BijPyfChqdXyrI/nMQgsHJowT/2KFyPwvXQPzqSy39Iv60/0SLb+X5qvD/A7J48LNSqP9Ei2/l+arw/pU5AE2HDoz/0/dR46SaxPyuHFtnO97M/46WbxCCwoj8tIR/0bFatP5ayDHGsi6s/46WbxCCwoj9CPujZrPqcP40o7Q2+MJk/5j+k374OnD/Mf0i/fR2oP8xdS8gHPZs/S8gHPZtVnz/azvdT46W7P6JFtvP91Kg/b4EExY8xpz8Mk6mCUUmdP4iFWtO846Q/WDm0yHa+nz9UdCSX/5CuP7gehetRuK4/bqMBvAUSpD9cIEHxY8ydP8x/SL99Hag/kst/SL99nT+/DpwzorSnP7mNBvAWSLA/3nGKjuTyrz/oaiv2l92jPxsN4C2QoKg/2PD0SlmGqD/V52or9pedPxzr4jYawJs/K4cW2c73oz+WsgxxrIubP662Yn/ZPak/PL1SliGOpT97FK5H4XqkP7Hh6ZWyDKE/MEymCkYlpT8=\",\"dtype\":\"float64\",\"order\":\"little\",\"shape\":[136]},\"tempo\":{\"__ndarray__\":\"IbByaJEFXkD91HjpJrldQGZmZmZmLlJA7FG4HoVLXUDhehSuRzFaQM/3U+OlW1lAzczMzMycXUBcj8L1KBhhQO58PzVeolxAdJMYBFZuXUCcxCCwcvRpQJLtfD81pl5AdJMYBFYmXECXbhKDwBpcQJzEILByQGJAqvHSTWK4W0DjpZvEIDRiQCuHFtnOH2JATmIQWDlMWkB9PzVeunFoQKabxCCwJmJAJjEIrBzKXUCHFtnO93tgQAwCK4cWQWJAUrgeheupX0DdJAaBlVNgQIPAyqFF5lFA/tR46Sa9YUAxCKwcWmhqQO58PzVeWl1ABoGVQ4uQYUADK4cW2XZbQI2XbhKDoFVAg8DKoUVWWUCamZmZmQFfQJMYBFYORWFAokW28/0AYkCkcD0K12tTQHE9CtejIGJA6SYxCKyYZUCJQWDl0JpmQKwcWmQ7D2JAL90kBoEdXEANAiuHFslfQI2XbhKDnGNAAyuHFtnaZEAv3SQGgVVmQJzEILByiF5AXI/C9SiUXUB9PzVeuuFaQPhT46WbbFJAPzVeukl0YECPwvUoXCdhQCPb+X5qpF5ACtejcD3WZEANAiuHFtFWQI2XbhKD3GdA7Hw/NV66YkBg5dAi29FjQBJYObTIDlZA/dR46SapXEA1XrpJDEZhQLKd76fGf2BAE4PAyqFdYEBfukkMAjNfQKJFtvP9lGBAppvEILBaYUCxcmiR7SRZQMl2vp8av11AcT0K16OgWEBKDAIrh7ZdQMmhRbbzwWRAGy/dJAYhYECF61G4HsVnQIxs5/upKV9AcT0K16OIXkDz/dR46eZdQCyHFtnOD19AUrgehevNYEAlBoGVQxNZQHE9CtejRGFADi2yne+bZEBzaJHtfOtgQMP1KFyPQlVAL90kBoFhaEAAAAAAAChSQL+fGi/dBFlAf2q8dJMMYEApXI/C9ThfQFK4HoXrbWBA5dAi2/lCYEB56SYxCMBjQNEi2/l+Yl1ATDeJQWChZkCT7Xw/Nc5VQDeJQWDlYFpAv58aL91MWEBEi2zn+51iQG4Sg8DKgV9A6SYxCKzMaUC28/3UeMlZQOWlm8QgAFZAdJMYBFbOXUAYBFYOLVpdQHe+nxovzVtAGy/dJAaFYEAhsHJokT1bQEBg5dAiy1FAMQisHFpUYUDsUbgehe9hQHE9CtejlGpAl24Sg8CyaUC0yHa+n4JeQFYOLbKdF1JAL90kBoHVUkCDwMqhRW5gQCPb+X5qbFpAAAAAAADQXUCMbOf7qTVgQHe+nxovRWFAtvP91HgtYEB3vp8aL5VpQM/3U+Olc1pAbef7qfFuYEAshxbZzl9fQGMQWDm0bGpAGy/dJAZFYUAIrBxaZJteQHsUrkfhYllA6iYxCKwMYEDUeOkmMVhYQEw3iUFgbV9AfT81XrrBXUAtsp3vpx5SQKRwPQrXk19Ad76fGi/NXUA=\",\"dtype\":\"float64\",\"order\":\"little\",\"shape\":[136]},\"valence\":{\"__ndarray__\":\"30+Nl24S4z/6fmq8dJPQP9V46SYxCOA/UrgehetR4D+BlUOLbOfnP6JFtvP91OA/HVpkO99P4T8/NV66SQzCP3E9CtejcOE/UrgehetRyD8OLbKd76fWPycxCKwcWsQ/9ihcj8L15D/vp8ZLN4npP0SLbOf7qdE/AAAAAAAA0D+yne+nxkvXP4XrUbgeheM/WmQ730+N1z+JFtnO91PbPw4tsp3vp+I/I9v5fmq83D8nMQisHFrEP7x0kxgEVtY/N4lBYOXQ0j9KDAIrhxbRPzBMpgpGJbU/Rbbz/dR42T8NAiuHFtnmP9V46SYxCOA/HFpkO99P3T/2KFyPwvXYP3sUrkfhetw/EoPAyqFF3j+4HoXrUbjmPxODwMqhReI/T42XbhKD5D8v3SQGgZXbP6rx0k1iENg/2/l+arx02z8RWDm0yHbOP+F6FK5H4bo/uB6F61G45j+8dJMYBFbeP+F6FK5H4dI/ZohjXdxGsz+oxks3iUHoP3E9CtejcOE/wMqhRbbz3T8tsp3vp8bTP05iEFg5tNg/IbByaJHt5D+PU3Qkl/+wP9V46SYxCNQ/30+Nl24S4z+YbhKDwMrRP/T91HjpJsE/YxBYObTI1j9BYOXQItvZP1g5tMh2vtc/JQaBlUOL3D+kcD0K16PkP90kBoGVQ9M/K4cW2c730z93vp8aL93gPxSuR+F6FOI/gZVDi2znyz8Sg8DKoUXGP/p+arx0k+A/JQaBlUOLzD+mm8QgsHLgPxsv3SQGgdU/v58aL90k1j8YBFYOLbLVP1TjpZvEIOA/BCuHFtnO1z+uR+F6FK7HP8P1KFyPwt0/XI/C9Shc1z9fukkMAivXP9NNYhBYOeA/L90kBoGV4z9I4XoUrkfpP1TjpZvEINA/oBov3SQG4T/FILByaJHdP9V46SYxCOA/AAAAAAAA6D8AAAAAAADQP1TjpZvEINg/eOkmMQiszD+RD3o2qz63P7JyaJHtfN8/wMqhRbbz5T+HFtnO91PjP6rx0k1iENg/XI/C9Shc4z8NAiuHFtnWP3jpJjEIrNw/w/UoXI/C1T9uEoPAyqHpP5HtfD81XuI/jZduEoPA0j8YBFYOLbLNPxsv3SQGgcU/2873U+Olyz+28/3UeOniP2MQWDm0yNY/16NwPQrX0z8830+Nl27iP7tJDAIrh+Y/6Pup8dJN2j+XbhKDwMrZP3e+nxov3eA/RIts5/upwT97FK5H4XrcP++nxks3idk/aZHtfD813j/ZzvdT46XTP42XbhKDwOI/5dAi2/l+0j/6fmq8dJPYPy/dJAaBlds/0SLb+X5q3D8cWmQ730/NP7gehetRuOY/tMh2vp8a4z+JQWDl0CLbP5huEoPAysE/bhKDwMqh6T+d76fGSzfhPylcj8L1KOA/w/UoXI/C3T9U46WbxCDgPxfZzvdT48U/EoPAyqFF3j8=\",\"dtype\":\"float64\",\"order\":\"little\",\"shape\":[136]},\"year\":[1927,1975,1975,1975,1975,1975,1975,1975,1975,1976,1978,1978,1978,1978,1978,1978,1978,1978,1978,1978,1978,1978,1978,1978,1979,1979,1979,1979,1979,1979,1979,1979,1979,1979,1979,1980,1980,1980,1980,1980,1980,1980,1980,1980,1980,1980,1980,1980,1980,1980,1980,1980,1980,1980,1980,1980,1980,1980,1980,1980,1980,1980,1981,1981,1981,1981,1981,1981,1981,1981,1981,1981,1981,1981,1981,1981,1983,1983,1983,1983,1983,1983,1983,1983,1983,1983,1983,1983,1983,1983,1986,1986,1986,1986,1986,1986,1986,1986,1986,1986,1986,1986,1986,1996,1996,1996,1998,2001,2001,2001,2001,2001,2001,2001,2001,2001,2001,2001,2001,2001,2006,2006,2006,2006,2006,2006,2006,2006,2006,2006,2006,2006,2006,2006,2008,2010]},\"selected\":{\"id\":\"1639\"},\"selection_policy\":{\"id\":\"1640\"}},\"id\":\"1576\",\"type\":\"ColumnDataSource\"},{\"attributes\":{\"months\":[0,6]},\"id\":\"1653\",\"type\":\"MonthsTicker\"},{\"attributes\":{\"days\":[1,8,15,22]},\"id\":\"1648\",\"type\":\"DaysTicker\"},{\"attributes\":{\"line_alpha\":0.6,\"line_color\":\"green\",\"line_width\":2,\"x\":{\"field\":\"release_date\"},\"y\":{\"field\":\"popularity\"}},\"id\":\"1580\",\"type\":\"Line\"},{\"attributes\":{\"source\":{\"id\":\"1415\"}},\"id\":\"1584\",\"type\":\"CDSView\"},{\"attributes\":{\"days\":[1,2,3,4,5,6,7,8,9,10,11,12,13,14,15,16,17,18,19,20,21,22,23,24,25,26,27,28,29,30,31]},\"id\":\"1646\",\"type\":\"DaysTicker\"},{\"attributes\":{\"data\":{\"popularity\":{\"__ndarray__\":\"AAAAAAAAPUAAAAAAAABCQFVVVVVVVUZAJUmSJEkSQkAAAAAAAABGQBvKayivIURAAAAAAAAAQECrqqqqqqpEQAAAAAAA0ENAAAAAAACAPEAAAAAAAABCQAAAAAAAADlAAAAAAAAAOkCrqqqqqqpIQFVVVVVVVUNAAAAAAAAATUAAAAAAAABJQAAAAAAAgElAMzMzMzMzSEAAAAAAAIBAQAAAAAAAAE5A\",\"dtype\":\"float64\",\"order\":\"little\",\"shape\":[21]},\"release_date\":{\"__ndarray__\":\"AAAAgPOK/8EAAADQB3wVQgAAAAzrYz1CAAAAHM5dQkIAAADaurtIQgAAAAzrY01CAAAAHM5dUkIAAAD+AzVUQgAAAEnwClZCAAAAlNzgV0IAAAAToOZaQgAAAEyFEV1CAACApJ/QYEIAAABJ8ApmQgAAACLXZ2dCAAAAlNzgZ0IAAAAuyHhoQgAAAIsksGhCAAAAA25WakIAAADkbftrQgAAgNxOyXJC\",\"dtype\":\"float64\",\"order\":\"little\",\"shape\":[21]}},\"selected\":{\"id\":\"1456\"},\"selection_policy\":{\"id\":\"1457\"}},\"id\":\"1415\",\"type\":\"ColumnDataSource\"},{\"attributes\":{\"data_source\":{\"id\":\"1576\"},\"glyph\":{\"id\":\"1579\"},\"hover_glyph\":null,\"muted_glyph\":null,\"view\":{\"id\":\"1582\"}},\"id\":\"1581\",\"type\":\"GlyphRenderer\"},{\"attributes\":{\"source\":{\"id\":\"1576\"}},\"id\":\"1582\",\"type\":\"CDSView\"}],\"root_ids\":[\"1577\"]},\"title\":\"Bokeh Application\",\"version\":\"2.2.3\"}};\n  var render_items = [{\"docid\":\"72708aa7-8cf3-432a-bb3f-1b25c86c71a9\",\"root_ids\":[\"1577\"],\"roots\":{\"1577\":\"8fa17c63-2840-4cec-9824-89827009f14a\"}}];\n  root.Bokeh.embed.embed_items_notebook(docs_json, render_items);\n\n  }\n  if (root.Bokeh !== undefined) {\n    embed_document(root);\n  } else {\n    var attempts = 0;\n    var timer = setInterval(function(root) {\n      if (root.Bokeh !== undefined) {\n        clearInterval(timer);\n        embed_document(root);\n      } else {\n        attempts++;\n        if (attempts > 100) {\n          clearInterval(timer);\n          console.log(\"Bokeh: ERROR: Unable to run BokehJS code because BokehJS library is missing\");\n        }\n      }\n    }, 10, root)\n  }\n})(window);",
      "application/vnd.bokehjs_exec.v0+json": ""
     },
     "metadata": {
      "application/vnd.bokehjs_exec.v0+json": {
       "id": "1577"
      }
     }
    }
   ],
   "source": [
    "# Afficher le graphe\n",
    "show(plot)"
   ]
  },
  {
   "cell_type": "markdown",
   "metadata": {},
   "source": [
    "<br> En explorant la propriété renderers de votre plot, vous pouvez voir les propriétés et les glyphs le composant. Ceci est utile pour garder trace des composants du graphe, ainsi qur pour lier les composants avec de nouveaux objets comme les items légende par exemple. \n"
   ]
  },
  {
   "cell_type": "code",
   "execution_count": 29,
   "metadata": {},
   "outputs": [],
   "source": [
    "# Afficher la liste des renderers de votre graphe, quelles sont les propriétés sauvegardées?\n",
    "pl = plot.renderers\n",
    "pl  #les propriétés sauvegardées sont \"id='2897'\" et \"id='2899'\"\n",
    "r1= [plot.renderers[0]]\n",
    "r2= [plot.renderers[1]]"
   ]
  },
  {
   "cell_type": "markdown",
   "metadata": {},
   "source": [
    "<br> Comme le graphe a deux ligne, on voudrait ajouter une légende pour les différencier. On créera alors Legend items, puis ajoutera la légende à notre graphe."
   ]
  },
  {
   "cell_type": "code",
   "execution_count": 30,
   "metadata": {},
   "outputs": [],
   "source": [
    "from bokeh.models import Legend, LegendItem"
   ]
  },
  {
   "cell_type": "code",
   "execution_count": 31,
   "metadata": {},
   "outputs": [],
   "source": [
    "# Créer deux legend items et leur donner des labels significatifs. Utiliser les renderers pour les pointer sur le bon glyph\n",
    "l1 = LegendItem(label=\"Julio Iglesias\", renderers=r1, index=0)\n",
    "l2 = LegendItem(label=\"Journey\", renderers=r2, index=1)\n"
   ]
  },
  {
   "cell_type": "code",
   "execution_count": 32,
   "metadata": {},
   "outputs": [],
   "source": [
    "# Créer l'objet Legend qui inclue les deux legend items. Il est possible de spécifier l'emplacement de la légende\n",
    "legend = Legend(items=[l1, l2])"
   ]
  },
  {
   "cell_type": "code",
   "execution_count": 33,
   "metadata": {},
   "outputs": [],
   "source": [
    "# Ajouter Legend au graphe en utilisant la fonction add_layout\n",
    "p.add_layout(legend)"
   ]
  },
  {
   "cell_type": "code",
   "execution_count": 34,
   "metadata": {},
   "outputs": [
    {
     "output_type": "display_data",
     "data": {
      "text/html": "\n\n\n\n\n\n  <div class=\"bk-root\" id=\"25707039-0fec-489d-947c-d9a1559ed94f\" data-root-id=\"1384\"></div>\n"
     },
     "metadata": {}
    },
    {
     "output_type": "display_data",
     "data": {
      "application/javascript": "(function(root) {\n  function embed_document(root) {\n    \n  var docs_json = {\"2f206a91-6c5d-47fb-8865-250f81a84791\":{\"roots\":{\"references\":[{\"attributes\":{\"below\":[{\"id\":\"1393\"}],\"center\":[{\"id\":\"1396\"},{\"id\":\"1400\"},{\"id\":\"1796\"}],\"left\":[{\"id\":\"1397\"}],\"plot_height\":400,\"plot_width\":1000,\"renderers\":[{\"id\":\"1419\"},{\"id\":\"1424\"}],\"title\":{\"id\":\"1451\"},\"toolbar\":{\"id\":\"1408\"},\"x_range\":{\"id\":\"1385\"},\"x_scale\":{\"id\":\"1389\"},\"y_range\":{\"id\":\"1387\"},\"y_scale\":{\"id\":\"1391\"}},\"id\":\"1384\",\"subtype\":\"Figure\",\"type\":\"Plot\"},{\"attributes\":{\"items\":[{\"id\":\"1794\"},{\"id\":\"1795\"}]},\"id\":\"1796\",\"type\":\"Legend\"},{\"attributes\":{},\"id\":\"1405\",\"type\":\"ResetTool\"},{\"attributes\":{\"index\":0,\"label\":{\"value\":\"Julio Iglesias\"},\"renderers\":[{\"id\":\"1581\"}]},\"id\":\"1794\",\"type\":\"LegendItem\"},{\"attributes\":{},\"id\":\"1404\",\"type\":\"SaveTool\"},{\"attributes\":{\"months\":[0,6]},\"id\":\"1469\",\"type\":\"MonthsTicker\"},{\"attributes\":{\"index\":1,\"label\":{\"value\":\"Journey\"},\"renderers\":[{\"id\":\"1583\"}]},\"id\":\"1795\",\"type\":\"LegendItem\"},{\"attributes\":{},\"id\":\"1398\",\"type\":\"BasicTicker\"},{\"attributes\":{\"source\":{\"id\":\"1576\"}},\"id\":\"1582\",\"type\":\"CDSView\"},{\"attributes\":{},\"id\":\"1387\",\"type\":\"DataRange1d\"},{\"attributes\":{\"fill_color\":{\"value\":\"green\"},\"line_color\":{\"value\":\"green\"},\"line_width\":{\"value\":2},\"x\":{\"field\":\"release_date\"},\"y\":{\"field\":\"popularity\"}},\"id\":\"1422\",\"type\":\"Circle\"},{\"attributes\":{\"line_alpha\":0.1,\"line_color\":\"green\",\"line_width\":2,\"x\":{\"field\":\"release_date\"},\"y\":{\"field\":\"popularity\"}},\"id\":\"1418\",\"type\":\"Line\"},{\"attributes\":{\"source\":{\"id\":\"1415\"}},\"id\":\"1425\",\"type\":\"CDSView\"},{\"attributes\":{\"base\":24,\"mantissas\":[1,2,4,6,8,12],\"max_interval\":43200000.0,\"min_interval\":3600000.0,\"num_minor_ticks\":0},\"id\":\"1461\",\"type\":\"AdaptiveTicker\"},{\"attributes\":{},\"id\":\"1640\",\"type\":\"UnionRenderers\"},{\"attributes\":{},\"id\":\"1456\",\"type\":\"Selection\"},{\"attributes\":{\"days\":[1,15]},\"id\":\"1465\",\"type\":\"DaysTicker\"},{\"attributes\":{\"line_color\":\"green\",\"line_width\":2,\"x\":{\"field\":\"release_date\"},\"y\":{\"field\":\"popularity\"}},\"id\":\"1417\",\"type\":\"Line\"},{\"attributes\":{\"data_source\":{\"id\":\"1415\"},\"glyph\":{\"id\":\"1417\"},\"hover_glyph\":null,\"muted_glyph\":null,\"nonselection_glyph\":{\"id\":\"1418\"},\"selection_glyph\":null,\"view\":{\"id\":\"1420\"}},\"id\":\"1419\",\"type\":\"GlyphRenderer\"},{\"attributes\":{\"days\":[1,2,3,4,5,6,7,8,9,10,11,12,13,14,15,16,17,18,19,20,21,22,23,24,25,26,27,28,29,30,31]},\"id\":\"1462\",\"type\":\"DaysTicker\"},{\"attributes\":{\"months\":[0,4,8]},\"id\":\"1468\",\"type\":\"MonthsTicker\"},{\"attributes\":{\"formatter\":{\"id\":\"1453\"},\"ticker\":{\"id\":\"1398\"}},\"id\":\"1397\",\"type\":\"LinearAxis\"},{\"attributes\":{\"data_source\":{\"id\":\"1415\"},\"glyph\":{\"id\":\"1422\"},\"hover_glyph\":null,\"muted_glyph\":null,\"nonselection_glyph\":{\"id\":\"1423\"},\"selection_glyph\":null,\"view\":{\"id\":\"1425\"}},\"id\":\"1424\",\"type\":\"GlyphRenderer\"},{\"attributes\":{},\"id\":\"1455\",\"type\":\"DatetimeTickFormatter\"},{\"attributes\":{\"bottom_units\":\"screen\",\"fill_alpha\":0.5,\"fill_color\":\"lightgrey\",\"left_units\":\"screen\",\"level\":\"overlay\",\"line_alpha\":1.0,\"line_color\":\"black\",\"line_dash\":[4,4],\"line_width\":2,\"right_units\":\"screen\",\"top_units\":\"screen\"},\"id\":\"1407\",\"type\":\"BoxAnnotation\"},{\"attributes\":{\"mantissas\":[1,2,5],\"max_interval\":500.0,\"num_minor_ticks\":0},\"id\":\"1459\",\"type\":\"AdaptiveTicker\"},{\"attributes\":{\"base\":60,\"mantissas\":[1,2,5,10,15,20,30],\"max_interval\":1800000.0,\"min_interval\":1000.0,\"num_minor_ticks\":0},\"id\":\"1460\",\"type\":\"AdaptiveTicker\"},{\"attributes\":{},\"id\":\"1402\",\"type\":\"WheelZoomTool\"},{\"attributes\":{\"overlay\":{\"id\":\"1407\"}},\"id\":\"1403\",\"type\":\"BoxZoomTool\"},{\"attributes\":{\"data_source\":{\"id\":\"1415\"},\"glyph\":{\"id\":\"1580\"},\"hover_glyph\":null,\"muted_glyph\":null,\"view\":{\"id\":\"1584\"}},\"id\":\"1583\",\"type\":\"GlyphRenderer\"},{\"attributes\":{\"months\":[0,2,4,6,8,10]},\"id\":\"1467\",\"type\":\"MonthsTicker\"},{\"attributes\":{\"months\":[0,1,2,3,4,5,6,7,8,9,10,11]},\"id\":\"1466\",\"type\":\"MonthsTicker\"},{\"attributes\":{\"text\":\"\"},\"id\":\"1451\",\"type\":\"Title\"},{\"attributes\":{},\"id\":\"1457\",\"type\":\"UnionRenderers\"},{\"attributes\":{\"fill_alpha\":{\"value\":0.1},\"fill_color\":{\"value\":\"green\"},\"line_alpha\":{\"value\":0.1},\"line_color\":{\"value\":\"green\"},\"line_width\":{\"value\":2},\"x\":{\"field\":\"release_date\"},\"y\":{\"field\":\"popularity\"}},\"id\":\"1423\",\"type\":\"Circle\"},{\"attributes\":{},\"id\":\"1401\",\"type\":\"PanTool\"},{\"attributes\":{\"days\":[1,8,15,22]},\"id\":\"1464\",\"type\":\"DaysTicker\"},{\"attributes\":{\"axis\":{\"id\":\"1397\"},\"dimension\":1,\"ticker\":null},\"id\":\"1400\",\"type\":\"Grid\"},{\"attributes\":{\"axis\":{\"id\":\"1393\"},\"ticker\":null},\"id\":\"1396\",\"type\":\"Grid\"},{\"attributes\":{\"line_alpha\":0.6,\"line_color\":\"#f46d43\",\"line_width\":2,\"x\":{\"field\":\"release_date\"},\"y\":{\"field\":\"popularity\"}},\"id\":\"1579\",\"type\":\"Line\"},{\"attributes\":{\"days\":[1,4,7,10,13,16,19,22,25,28]},\"id\":\"1463\",\"type\":\"DaysTicker\"},{\"attributes\":{\"formatter\":{\"id\":\"1455\"},\"ticker\":{\"id\":\"1394\"}},\"id\":\"1393\",\"type\":\"DatetimeAxis\"},{\"attributes\":{},\"id\":\"1639\",\"type\":\"Selection\"},{\"attributes\":{},\"id\":\"1389\",\"type\":\"LinearScale\"},{\"attributes\":{},\"id\":\"1385\",\"type\":\"DataRange1d\"},{\"attributes\":{\"source\":{\"id\":\"1415\"}},\"id\":\"1420\",\"type\":\"CDSView\"},{\"attributes\":{},\"id\":\"1406\",\"type\":\"HelpTool\"},{\"attributes\":{\"data\":{\"acousticness\":{\"__ndarray__\":\"hp21HUsGzT4rhxbZzvfDP9OHLqhvmYM/vVKWIY51oT+jI7n8h/SbP2+BBMWPMac/jZduEoPAyj+MbOf7qfHCPx6i0R3EzlQ/PZtVn6utqD/azvdT46W7P/OOU3Qkl68/LnO6LCY2fz/HSzeJQWC1P3Noke18P8U/HOviNhrAqz90kxgEVg7NP3sUrkfhelQ/Gy/dJAaBtT+Cc0aU9gafP1yU2SCTjHw/hlrTvOMUjT+mm8QgsHLQP+18PzVeutE/GCZTBaOSqj9mZmZmZmbGPwQrhxbZzsc/HOviNhrAmz8TYcPTK2W5Pz/G3LWEfJA/rfpcbcX+oj8eFmpN846jP00VjErqBKQ/Z0Rpb/CFuT/cRgN4CyS4P+T3Nv3Zj2Q/exSuR+F6lD+u2F92Tx6GP40o7Q2+MIk/lgM91LZhND9U46WbxCCwPzeJQWDl0NI/WKg1zTtOoT8GgZVDi2zvP4P6ljldFnM/u0kMAiuH7j8H8BZIUPyYP3ctIR/0bJY/L26jAbwFUj8rhxbZzveTP4/C9Shcj8I/mG4Sg8DKwT+WQ4ts5/vZP6RwPQrXo8A//GAZG7rZPz9LsDic+dVcP4/C9Shcj8I/32xzY3rCcj8/NV66SQzCPzeJQWDl0LI/pU5AE2HDkz9ExTh/EwphP6wcWmQ7388/UPwYc9cSoj80ETY8vVKGP/k7FAX6RH4//yH99nXgnD/jpZvEILDiP76kMVpHVXM/xks3iUFg3T+oxks3iUHAPyuHFtnO95M/GeyGbYsyaz+Qa0PFOH9TP04LXvQVpGk/5j+k374OrD/tfD81XrrhP4idKXReY3c/bxKDwMqhtT/CFyZTBaOSP+0NvjCZKog/z2bV52orpj88TtGRXP6zPzlFR3L5D7k/M/lmmxvTYz8g0m9fB86JPyV1ApoIG44/WDm0yHa+zz+MuWsJ+aC3P1XBqKROQJM/UDblCu9ycT9aZDvfT42HP+JYF7fRAK4/XdxGA3gLtD9BYOXQItvJP3KKjuTyH5I/EVg5tMh2vj/QRNjw9EqZP/KwUGuad6w/NIC3QILitz9OYhBYObTIP3E9CtejcM0/oBov3SQG0T/2KFyPwvXQP2ZmZmZmZsY/UrgehetR0D96Nqs+V1uxP7JyaJHtfN8/yqFFtvP91D+l2qfjMQN1PzPEsS5uo7E/nu+nxks3uT8xCKwcWmS7P1pkO99PjYc/UrgehetR5D/hehSuR+GqP5zEILByaLE/AAAAAAAA0D+iRbbz/dTQP4S53ct9cjQ/+FPjpZvE0D8hsHJoke28P4lBYOXQIqs/gZVDi2znqz8v3SQGgZXDP4Lix5i7lrA/5zQLtDukOD+NKO0NvjC5PwIrhxbZzuM/ZDvfT42Xzj/AyqFFtvO9Pz9XW7G/7J4/ppvEILBy0D+mCkYldQKKPy/dJAaBlcM/qMZLN4lB0D8=\",\"dtype\":\"float64\",\"order\":\"little\",\"shape\":[136]},\"artists\":[\"['Journeyman - Nick DePalma']\",\"['Journey']\",\"['Journey']\",\"['Journey']\",\"['Journey']\",\"['Journey']\",\"['Journey']\",\"['Journey']\",\"['Journey']\",\"['Journey']\",\"['Journey']\",\"['Journey']\",\"['Journey']\",\"['Journey']\",\"['Journey']\",\"['Journey']\",\"['Journey']\",\"['Journey']\",\"['Journey']\",\"['Journey']\",\"['Journey']\",\"['Journey']\",\"['Journey']\",\"['Journey']\",\"['Journey']\",\"['Journey']\",\"['Journey']\",\"['Journey']\",\"['Journey']\",\"['Journey']\",\"['Journey']\",\"['Journey']\",\"['Journey']\",\"['Journey']\",\"['Journey']\",\"['Journey']\",\"['Journey']\",\"['Journey']\",\"['Journey']\",\"['Journey']\",\"['Journey']\",\"['Journey']\",\"['Journey']\",\"['Journey']\",\"['Journey']\",\"['Journey']\",\"['Journey']\",\"['Journey']\",\"['Journey']\",\"['Journey']\",\"['Journey']\",\"['Journey']\",\"['Journey']\",\"['Journey']\",\"['Journey']\",\"['Journey']\",\"['Journey']\",\"['Journey']\",\"['Journey']\",\"['Journey']\",\"['Journey']\",\"['Journey']\",\"['Journey']\",\"['Journey']\",\"['Journey']\",\"['Journey']\",\"['Journey']\",\"['Journey']\",\"['Journey']\",\"['Journey']\",\"['Journey']\",\"['Journey']\",\"['Journey']\",\"['Journey']\",\"['Journey']\",\"['Journey']\",\"['Journey']\",\"['Journey']\",\"['Journey']\",\"['Journey']\",\"['Journey']\",\"['Journey']\",\"['Journey']\",\"['Journey']\",\"['Journey']\",\"['Journey']\",\"['Journey']\",\"['Journey']\",\"['Journey']\",\"['Journey']\",\"['Journey']\",\"['Journey']\",\"['Journey']\",\"['Journey']\",\"['Journey']\",\"['Journey']\",\"['Journey']\",\"['Journey']\",\"['Journey']\",\"['Journey']\",\"['Journey']\",\"['Journey']\",\"['Journey']\",\"['Journey']\",\"['Journey']\",\"['Journey']\",\"['Journey', 'Steve Augeri']\",\"['Journey']\",\"['Journey']\",\"['Journey']\",\"['Journey']\",\"['Journey']\",\"['Journey']\",\"['Journey']\",\"['Journey']\",\"['Journey']\",\"['Journey']\",\"['Journey']\",\"['Journey']\",\"['Journey']\",\"['Journey']\",\"['Journey']\",\"['Journey']\",\"['Journey']\",\"['Journey']\",\"['Journey']\",\"['Journey']\",\"['Journey']\",\"['Journey']\",\"['Journey']\",\"['Journey']\",\"['Journey']\",\"['Journey']\",\"['Journey']\",\"['Journey']\",\"['Journey']\"],\"danceability\":{\"__ndarray__\":\"2873U+Ol2z+TGARWDi3aP3E9CtejcNU/4XoUrkfh4j8UrkfhehTiP1pkO99Pjd8/BCuHFtnO3z+Nl24Sg8DSP4XrUbgehdM/7Xw/NV660T9OYhBYObTIP53vp8ZLN9k/TDeJQWDl0D86tMh2vp/iPxxaZDvfT80/XI/C9Shczz8xCKwcWmTTP1TjpZvEINA/001iEFg53D8pXI/C9Si8P2mR7Xw/Nc4/u0kMAiuH3j+WQ4ts5/vJP4cW2c73U9M/001iEFg54D9cj8L1KFzfP/p+arx0k9A/TmIQWDm02D9Ei2zn+6nZP3E9CtejcOU/L90kBoGV2z8Tg8DKoUXiP9NNYhBYOeA/Nl66SQwC2z8OLbKd76fiPyGwcmiR7eA/Rrbz/dR44T/4U+Olm8TQP5ZDi2zn+9k/7FG4HoXr0T9I4XoUrkfZPxgEVg4tstU/AAAAAAAA5D8pXI/C9SjUP0SLbOf7qdE/9ihcj8L1yD9FtvP91HjZPzEIrBxaZNs/4XoUrkfh2j8hsHJoke3cP/P91HjpJtk/Nl66SQwC5z/4U+Olm8TQP7gehetRuN4/exSuR+F61D9cj8L1KFzXP1+6SQwCK8c/WDm0yHa+1z/Xo3A9CtfTP/LSTWIQWMk/F9nO91Pj3T8fhetRuB7hP7+fGi/dJNY/xSCwcmiR3T8fhetRuB7dP+F6FK5H4do/2/l+arx02z/sUbgehevZPwisHFpkO98/nMQgsHJo0T8AAAAAAADgP90kBoGVQ9s/HFpkO99P3T/KoUW28/3UP2q8dJMYBNY/PQrXo3A94j97FK5H4XrUPwaBlUOLbN8//Knx0k1i0D8fhetRuB7dP90kBoGVQ8s/EVg5tMh21j9BYOXQItvhP0Fg5dAi28k/u0kMAiuH1j99PzVeuknUPxFYObTIdt4/VOOlm8Qg4D+4HoXrUbjeP3e+nxov3dw/2/l+arx00z9kO99PjZfWP/T91HjpJuE/SgwCK4cW2T8K16NwPQrfPy/dJAaBlds/xCCwcmiR4T9mZmZmZmbWPyUGgZVDi+A/PQrXo3A9yj/+1HjpJjHkP6RwPQrXo+A/v58aL90k1j+YbhKDwMrhP/YoXI/C9eQ/0SLb+X5q4D9SuB6F61HgP3jpJjEIrNw/ku18PzVe2j8NAiuHFtneP/P91HjpJtk/qvHSTWIQyD+TGARWDi3iP8l2vp8aL9U/gZVDi2zn0z+BlUOLbOfbP7bz/dR46d4/BoGVQ4ts3z/z/dR46SbZP8/3U+Olm+A/l24Sg8DK2T/91HjpJjHIPyPb+X5qvNw/gZVDi2zn2z8IrBxaZDvfP6AaL90kBtk/JQaBlUOL4D+/nxov3STiP5MYBFYOLdo/BFYOLbKd3z+Nl24Sg8DiP+xRuB6F6+E/BFYOLbKd3z/GSzeJQWDVP9ejcD0K19M/rkfhehSu3z8=\",\"dtype\":\"float64\",\"order\":\"little\",\"shape\":[136]},\"duration_ms\":[283767,222133,246440,273560,204827,300267,250907,371067,409960,490893,190333,304173,181467,221307,200800,206960,207893,208467,252240,159227,208587,265267,277133,208227,178267,251333,75533,281040,230533,193000,214760,216493,187533,197760,189907,201693,180360,265200,211933,198200,166467,304907,222333,38907,201773,103533,172560,289027,301133,216467,210667,196267,347147,222373,184733,412933,222707,220173,194360,137640,309760,189640,230453,205133,256600,316693,329200,202173,265560,202933,250987,218893,253440,201013,341160,300147,173880,259320,269120,257787,270587,249907,213493,267080,196587,256987,300960,233653,234547,323707,257920,229453,272933,257120,217213,301667,289960,231680,230640,230000,280347,218893,221440,260907,303413,246987,328307,242773,265467,309560,234333,190667,301133,244960,198667,325907,252640,248907,266267,201867,266253,190693,252507,325947,234733,234400,202320,301160,198720,234267,273973,230347,249093,245960,250681,248200],\"energy\":{\"__ndarray__\":\"YxBYObTI6j8lBoGVQ4vgP9Ei2/l+aug/MzMzMzMz5z+oxks3iUHoP2Q730+Nl+Y/T42XbhKD6D8IrBxaZDvjPyPb+X5qvOA/d76fGi/d5D8AAAAAAADgPwwCK4cW2eI/f2q8dJMY7D+TGARWDi3uP1yPwvUoXN8/zczMzMzM5D/dJAaBlUPjP+XQItv5fuY/16NwPQrX5z8K16NwPQrrP++nxks3iek/arx0kxgE7j93vp8aL93gP5qZmZmZmeU/pHA9Ctej4D/TTWIQWDncP0Fg5dAi2+E/9ihcj8L15D/P91PjpZvkPylcj8L1KOg/7FG4HoXr6T8K16NwPQrnP6jGSzeJQeQ/gZVDi2zn5z/sUbgehevpP23n+6nx0u0/wMqhRbbz6T8UrkfhehTuPxgEVg4tsuU/iUFg5dAi7z9xPQrXo3DdP+Slm8QgsNo/1HjpJjEI7D+kcD0K16PAP90kBoGVQ+8/YxBYObTIxj8xCKwcWmTrPzvfT42Xbuo/jGzn+6nx7j/sUbgehevtP6AaL90kBuU/7FG4HoXr2T9OYhBYObTgP39qvHSTGOA/7FG4HoXr7T+Nl24Sg8DuPxxaZDvfT+k/MzMzMzMz7z+BlUOLbOfrP4lBYOXQIuM/8/3UeOkm7T9t5/up8dLtP53vp8ZLN+E/c2iR7Xw/7T97FK5H4XrsP83MzMzMzOw/9ihcj8L16D/hehSuR+HKP6wcWmQ73+s/fT81XrpJ3D9WDi2yne/nPxSuR+F6FO4/kxgEVg4t7j+IFtnO91PvP/p+arx0k+g/7Xw/NV664T+7SQwCK4fWP42XbhKDwO4/BoGVQ4ts5z+gGi/dJAbtPw4tsp3vp+4/DQIrhxbZ7j9KDAIrhxbtP8/3U+Olm+Q/tMh2vp8a7z/Xo3A9CtfrPyYxCKwcWuw/7FG4HoXr7T/azvdT46XnP2MQWDm0yO4/WDm0yHa+7z/azvdT46XvP8DKoUW28+0/bef7qfHS7T+cxCCwcmjtP4gW2c73U+8/GARWDi2y6T9aZDvfT43vPxsv3SQGge0/eOkmMQis6D8mMQisHFrsPxFYObTIdu4/XI/C9Shc5z93vp8aL93cP0A1XrpJDOY/ppvEILBy4D946SYxCKzsP/hT46WbxOA/ppvEILBy5D+d76fGSzftP8ZLN4lBYOU/hetRuB6F4z9cj8L1KFzjPw4tsp3vp+o/ppvEILBy0D/D9Shcj8LtP6abxCCwcug/RIts5/up6T8bL90kBoHhPxfZzvdT4+0/w/UoXI/C4T9YObTIdr7jP6abxCCwcug/l24Sg8DK7T8cWmQ730/lP0W28/3UeOU/GARWDi2y7T+wcmiR7XzjP/7UeOkmMdA/AAAAAAAA7D9YObTIdr7nPw4tsp3vp+o/w/UoXI/C6T8NAiuHFtnqP7TIdr6fGuM/yqFFtvP96D8=\",\"dtype\":\"float64\",\"order\":\"little\",\"shape\":[136]},\"explicit\":[0,0,0,0,0,0,0,0,0,0,0,0,0,0,0,0,0,0,0,0,0,0,0,0,0,0,0,0,0,0,0,0,0,0,0,0,0,0,0,0,0,0,0,0,0,0,0,0,0,0,0,0,0,0,0,0,0,0,0,0,0,0,0,0,0,0,0,0,0,0,0,0,0,0,0,0,0,0,0,0,0,0,0,0,0,0,0,0,0,0,0,0,0,0,0,0,0,0,0,0,0,0,0,0,0,0,0,0,0,0,0,0,0,0,0,0,0,0,0,0,0,0,0,0,0,0,0,0,0,0,0,0,0,0,0,0],\"id\":[\"55gb3fXg4esRjQQl16Unid\",\"24EhwaalAeVQ6o2WF4Q1nS\",\"7762XHJsFFdRNw3pgxV8ns\",\"6Mp0DlbKIJ3iUWGeTA6WAt\",\"0qlpV7VX09c07aWC72pcCG\",\"1CtlOgt4ZOBFZiWdyNRoZD\",\"0IzVqcgtHh8NzWYxyPsUky\",\"4V5Pz6kZKZLrRIe0TGLWM6\",\"2l5PuwOt6w8IHq9ViMNla9\",\"2NjGMv0X9wWTVvNz276HoE\",\"7EHmKkyAr6MZv5Y2FdZbXw\",\"73ZmM0UGUIRwnJWz90zF6L\",\"0ltUsBuPjEWhMjobZoXV4h\",\"6WK5DgxKiTZzhnw3rtxG2Z\",\"6COi71iplerESLBJ4uglKT\",\"23rCTwH7bcU6ZyWovqmxeQ\",\"3WuG6JfzTUHTKwvvKT51zI\",\"2dcskJYRu9mMVPpAGJl3Er\",\"215wUTQQUo2PElJFEFoB0d\",\"0hogsHMa0ghYTF5Rp0Edos\",\"5rprar3LMJCnBrSCZYVJAc\",\"1cH6pBVYiqIt5gevBRPPXZ\",\"1N2cgzevzZrippQ1VLTsVD\",\"0mp6TFZdVw69I0c9QxoJ9g\",\"0nbr2E39JgYENQujVgryDG\",\"3OAB48J73siRuhknWhjd4D\",\"3WrjbE6biDbu8x8g6FqhMR\",\"5NTXSTiAVQvEha2N3Jyx85\",\"0VQ0n5gMgJLNixG8BfWBT5\",\"162drVzkAebcAEs0sTD7j7\",\"45L2gzjR3EoezZOTUhVhUS\",\"7aROycQXwtu4Mt9e0hht6X\",\"0VcGH4AwcnIQnzCVNCt6go\",\"4wyZlmAjA35jnxV1cdOs8Z\",\"0iU6UUO2delBuXWUZ5utfT\",\"71SvEDmsOwIWw1IozsZoMA\",\"5nrgyqDkpzvs9iM9cnycc2\",\"4vA1t6KcidLYfHns6VbKH4\",\"5hxRkEraZo3mpKPSmkHBWF\",\"2IGvoR243TjScK3dpGzxxT\",\"5CYCG5V1IR7pXl645L7g5F\",\"0IMa3orUBoA5ZwVSvIQI2T\",\"2GzFrEj343FZaz1Ae3dDpq\",\"0MnYAlMPLGIPg1UXRl8pSK\",\"106EKBWkWtBW5M5L46N938\",\"3nmKP2cg0kzFpErnCoyav6\",\"5AD7oNm0kvWIXxW3vy0z2a\",\"7Das7AsS0EP4zKU4Fkw0Ja\",\"32qDv7vjkPNNHnqg0rGTi5\",\"3AblcihgitRi0HdsWVWCbm\",\"5fm8qUyUGpPA29TVUYSHny\",\"2ec2PuewSVcTL0TvBpfqav\",\"4DEJkhYAhCTWfwlrMEfwNC\",\"1QB2rpBB6SKjtdjn2J9e6Y\",\"5nQKqBr8QJOEWy2syiJ1AI\",\"5f8I1PPdk35dSPbVFXQEun\",\"4UOiGyF68i1SAbQ73kMKMV\",\"4Y2yP2SCTpyeY926OfKSZx\",\"5BRtR0b9f0dMNKGOR5EubJ\",\"2HxAr618rlpzCSMq92mdQu\",\"6GXcGfq5y5ils0MUBGVxAZ\",\"6g9H9e0rOIS3drIg38iL0q\",\"2or8ETC2aPaOLJFnF9VoXX\",\"461yf4f2E77AULdUSmQy7K\",\"7LPOuXrEmopus1xZDfGljy\",\"0uohDwZcv1qjIKVsLsx0HD\",\"3VV5wCAP5fyds57HYhYCxW\",\"2w4EpqGasrz9qdTwocx54t\",\"4cgSBnNzOo9rhwzUczB7HI\",\"3RXdyPbYyWClA34vGYFito\",\"4bHsxqR3GMrXTxEPLuK5ue\",\"28pcc7qhdvpFVElCXTgBXF\",\"3wMvdrHybQ76Cwp0rfV50n\",\"3bxbwxzkDzfpag9rDC4sCg\",\"22cJ9G7QOSajS8cYee8pMe\",\"5IK2FtuC0qmHHam9sWFxUI\",\"5vkZiswIyD8bhiLYxpdrug\",\"2wbeywl6xNr2P4NJNuWgtG\",\"5PLOUZFPy7dxBANVwwHI8t\",\"5HfctAnssM6AvKJoGbWGil\",\"4ANDABnWfSfWD1gRtA9ipN\",\"6jbPRw4wFUbC3HlRcCn0yk\",\"0CFNKsFfYQ2NvhLK4pMNgv\",\"57ebBLITHpRgRKGrlbxMZS\",\"6y1jCR2w3KIOtK794s1vgt\",\"4r8knbHxE4LAwPiy1e71Li\",\"0PEnPV6UkHvvydYjXDqkNM\",\"7elZqrBZysXba7cTLkrw05\",\"48Wu7j5ANO17SOpjb3oVPC\",\"4ECNtOnqzxutZkXP4TE3n3\",\"3OfNDuJMLKtNFNjSPmzlRZ\",\"011NbBT3Ctx9dkv8LTpQtA\",\"0CGqNlZ7Pp7DPmiNKmZf5h\",\"3AMGhVQHHkFUoeQ1UbJ214\",\"2f3QBiLT5lqW0DIFZYmBH0\",\"0qXxiX0NabaAyc31F3ZYca\",\"0i1ReVUysX0C3x0f0x7PB8\",\"2D5xQtVNi4o6F3Gh1qxD3Y\",\"2tWhYbJL0dZbkWXfhZbDZs\",\"3sjjFT6WECj8kGqRKebIBc\",\"43g1KljxFUFrE2ok0dcN24\",\"1ek2BBY1US8xQlNsb8os3P\",\"1w1D8I6pEIzHWgOUzppKCR\",\"3ZB2hWPL1Xz0qs4VNhLpEa\",\"6gNPd5Xt76BaKlGdUdvwmP\",\"4b79AEQyxEVoiGMyBUv0io\",\"5LtcaeznPdGln8YafkV8bh\",\"2Z7mISkdZfHbXZu72UU0oY\",\"17dZRccMbW5n1nLqBl9slY\",\"0JV7IEIaYfG6olLls5uKeU\",\"32GrMcghc8DLhpHJST2CWJ\",\"3R47BVunpwXhQbLWrClD94\",\"11Uatd4av1y0YD2x0mQvao\",\"1E2iehquphUsbmj8VTzWdQ\",\"1m2INxep6LfNa25OEg5jZl\",\"2ORySgkn0CbUMFbEoP1wwE\",\"6DXv7vJPrDRxo3Lnh4bacS\",\"77NNZQSqzLNqh2A9JhLRkg\",\"6HzZhqXNyfJxuvQ9zfCc1U\",\"2DyHhPyCZgZzNXn1IrtsTu\",\"7aNk0hjd9VCAoBirwg6aYZ\",\"7LMMvfOjBXsIpvrGjULZKC\",\"5i36c6C2XRw8U71yWgcoTn\",\"59XnaH9k3ZYBUpBHM6PAfE\",\"7hqkC8p8kYW16Af65DTdeN\",\"10O20qYuUZHVNKdLZ7lG1h\",\"4UVKy0DI1hOlL8xF99Ba5j\",\"5v74lHodmN9UX0dP0q8Jxq\",\"7xSodlywi4UVAR2HwjA4yX\",\"6F4EsDGCNB3YfjE6WvH9NB\",\"2PWldJzHn86WNueLuH7bV0\",\"51G8Ktb8odD9IPjw2FScgX\",\"5ehcf6UL1TkwozB386cRAp\",\"6S89Xbg2YPxmS5VfDBlZVt\",\"5chj8uuGpvkCIG4x3VMAtG\",\"3HRQtRUYnnuZY7fE900XtJ\"],\"index\":[116837,27670,102773,43505,43554,27680,73533,66084,112234,66251,83783,121929,140100,59012,112490,148720,93560,93593,83766,3890,51441,3911,157291,20007,157328,157306,12076,12071,83875,12058,36121,3991,112610,112543,165799,83947,4059,59195,131462,66631,112674,12152,103296,140291,59187,12217,44021,20144,44018,36164,28167,148946,44046,44041,20194,51607,20232,51619,36143,44075,36176,28233,93908,157569,103367,112804,122230,84056,84067,140370,84040,122245,131632,140345,140415,84085,166110,112980,149201,157704,140593,149287,149289,84248,166129,103630,103605,94068,94051,84250,158070,132101,158011,122724,158006,166416,113326,94424,94397,149572,158016,113325,113280,13757,75653,104916,5944,68710,61315,61332,46089,142402,46095,124301,151009,124250,124219,86048,114767,86116,6731,14827,6699,14831,61792,22771,22808,30757,38811,54268,134091,69255,124793,22762,54437,106253],\"instrumentalness\":{\"__ndarray__\":\"F7zoK0gzZj9U5BBxcyrpPgAAAAAAAAAApfJ2hNOCZz8EVg4tsp3PP/VNN9yJit8+AAAAAAAAAACuR+F6FK7fP9NNYhBYOdQ/+n5qvHSTqD9TliGOdXF7P67YX3ZPHoY/iIVa07zjpD9U5BBxcyrZPka6+gwD8RU/UDblCu9yYT+GWtO84xRtP0bGtIAaCBM/AaAvYkRH9z5iB50p14i+PgaiJ2VSQ+s+3wAz38FPLD9xaaEJufcFP0qAmlq21mc/LWDAmhyhsz7qUitlfAzkPu+nxks3ie0/SWjLuRRXdT80ar5KPnYnP2QbXUoCefs+mvOdqSG7/D6uT5Tf/UwYPwAAAAAAAAAAAAAAAAAAAABmTMEaZ9PRPl2nkZbK21E/QrgCCvX0IT/7YBkbutkvP2ZMwRpn0wE/DjLJyFnYgz8kSYx13LbgPpDb7YLa0rc+aVedrINJ4j6IFtnO91PnPylcj8L1KNQ/sWYq5THa1T6vZa7jKtzjPkC1LCXsV+E+nYAmwoanlz8ANbVsrS9SP2tOuR11z/U+AAAAAAAAAAAYCtgORuwDPwAAAAAAAAAAybs0jw3uGD/8GkmCcAVEP6RwPQrXo7A/pHA9CtejoD/nNAu0O6T4Pt8AM9/BT+w+P4178xsmSj8DlfHvMy48PwAAAAAAAAAAAAAAAAAAAABNsbSdANTuPsG6Gm76kuE+AAAAAAAAAAAAAAAAAAAAAAq8k0+PbUk/AAAAAAAAAAAAAAAAAAAAAGgdVU0QdR8/oD5uZMM/AT8Mq3gj88hvP4++SdOgaE4/AAAAAAAAAABoWfePheggP8nfYupTMwA/AAAAAAAAAABIr7ya8tfqPo69zdGZagw/m/OdqSG73D4AAAAAAAAAAAAAAAAAAAAAeJBDaRQ3Ez8AAAAAAAAAAC46OFzUvN0+AAAAAAAAAAAAAAAAAAAAAKQdFu6Fl8o+AAAAAAAAAAB7hQX3Ax4IP2jKTj+oi0Q/eqNWmL7XQD/Z4ZYseunePmlXnayDSdI+dFKpI5HH7T4JrQP3brnbPqlZVlAHaNE+tFRixxTm3D4fMXpuoSsxP4u8UdCSbPo+vH7aC3nC2j4AAAAAAAAAAKgpboGpC/0+AAAAAAAAAAAAAAAAAAAAALN66gVdyrI+wJMWLquw+T7XFTPC24MwP0bSbvQxHzA/mYHK+PcZVz8AAAAAAAAAAAAAAAAAAAAAAAAAAAAAAAAAAAAAAAAAAI/k0RHpTMQ+AAAAAAAAAAAAAAAAAAAAACv7rgj+t3I/AAAAAAAAAADB/1ayYyNgP0TKaEceRtA+AAAAAAAAAAAAAAAAAAAAAI++SdOgaC4/mFEst7Qagj8AAAAAAAAAAAAAAAAAAAAAVdss4mSwvD6YCpaPSesEPwqkH2hgP+8+AAAAAAAAAAAAAAAAAAAAAAAAAAAAAAAAAAAAAAAAAAA=\",\"dtype\":\"float64\",\"order\":\"little\",\"shape\":[136]},\"key\":[2,9,7,2,2,9,4,7,11,2,7,0,9,7,0,2,5,9,2,2,9,7,0,5,11,9,4,7,2,5,9,9,0,2,4,7,2,9,0,2,7,9,7,0,2,9,9,2,2,9,7,5,4,5,2,0,0,7,5,7,2,7,0,9,4,4,7,2,7,2,4,2,0,9,9,9,7,2,9,9,2,9,2,11,2,7,9,0,4,0,9,7,5,0,11,2,2,0,9,5,4,10,9,2,9,1,7,9,9,5,2,7,9,7,2,4,2,4,11,7,11,7,2,4,4,2,7,9,2,0,2,9,4,7,11,4],\"liveness\":{\"__ndarray__\":\"2873U+Olyz9aZDvfT43HP24Sg8DKocU/LbKd76fGyz8YBFYOLbK9P4SezarP1bY/YOXQItv51j/azvdT46W7P6rx0k1iEMg/EVg5tMh2vj9zaJHtfD/VP7u4jQbwFrg/yXa+nxovzT+WQ4ts5/vhPzMzMzMzM9M/UI2XbhKDwD8X2c73U+PFP6AaL90kBtE/nMQgsHJowT86tMh2vp+6P39qvHSTGNQ//dR46SYx6D8lBoGVQ4vUP6AaL90kBsE/PL1SliGOtT8Sg8DKoUXeP8DKoUW2870/c2iR7Xw/xT/FILByaJHNPz0K16NwPeI/FK5H4XoU3j/RItv5fmq8P+Olm8QgsMI/E/JBz2bVtz+xcmiR7Xy/P5zEILByaME/yjLEsS5usz+S7Xw/NV7uP6AaL90kBtk/76fGSzeJ7T99PzVeuknMP+kmMQisHLo/tMh2vp8a3z/2KFyPwvXIPyUGgZVDi9Q//Knx0k1iwD9uEoPAyqHFP1TjpZvEINA/LbKd76fG5z/+1HjpJjHgP9v5fmq8dNs/pSxDHOvipj+uR+F6FK7HPzzfT42XbrI/+FPjpZvE0D9oke18PzXiP6abxCCwcug/ZDvfT42X7j9U46WbxCDoP+Olm8QgsNI/WmQ730+N7z8RWDm0yHbeP4/C9Shcj8I//Knx0k1i2D9cj8L1KFzvP42XbhKDwNI/NV66SQwC0z+YbhKDwMrBP24Sg8DKoeU/3SQGgZVD7z/P91PjpZvcP30/NV66SdQ/EoPAyqFF6j/Xo3A9CtezP6AaL90kBuU/mG4Sg8DKwT9jf9k9eVi4P/hT46WbxOg/Rbbz/dR42T8tsp3vp8bTP3STGARWDuE/toR80LNZtT9MN4lBYOWwP4GVQ4ts57s/sXJoke18zz+sHFpkO9/PP7gehetRuL4/kxgEVg4t0j9kO99PjZfOP+18PzVeutE/WmQ730+N3z/RItv5fmq8P8UgsHJokc0/QBNhw9MrtT/GSzeJQWDVP4XrUbgehe8/l/+Qfvs6sD8pXI/C9SjUP7bz/dR46dY/c2iR7Xw/1T9vgQTFjzGnP83MzMzMzNQ/oBov3SQGwT/ZzvdT46XTPznWxW00gLc/UI2XbhKD0D/GSzeJQWDFP1CNl24Sg8A/N4lBYOXQwj+kcD0K16PQPyxlGeJYF7c/mG4Sg8DK0T/AyqFFtvO9P42XbhKDwMo/I9v5fmq8xD90kxgEVg7NP1TjpZvEIMA/+FPjpZvE2D86tMh2vp+6P++nxks3icE/+n5qvHSTuD8rhxbZzvfTP1CNl24Sg8A/EoPAyqFFxj8bL90kBoHVPyNKe4MvTLY/nMQgsHJowT9pke18PzW+P8ZLN4lBYMU/rkfhehSuxz8N4C2QoPixP65H4XoUrtc/YxBYObTI1j+BlUOLbOfTP57vp8ZLN7k/SOF6FK5H2T8=\",\"dtype\":\"float64\",\"order\":\"little\",\"shape\":[136]},\"loudness\":{\"__ndarray__\":\"6SYxCKwcFsDGSzeJQSAjwHSTGARWTiLAukkMAitHJMD2KFyPwrUhwNR46SYxiCbAhetRuB7FIcDhehSuR6ElwBODwMqhBSLAFtnO91MjI8B0kxgEVs4jwDVeukkMwiLAZmZmZmamIMCamZmZmZkSwKwcWmQ73yTAGARWDi2yIMBYObTIdj4iwB1aZDvfTyTA5dAi2/k+IcDo+6nx0k0gwBSuR+F6lBnAyXa+nxovFcASg8DKoQUlwGmR7Xw/tRzAj8L1KFyPHcDRItv5fmogwC/dJAaBFSLA9P3UeOkmIcCd76fGSzchwMihRbbz/RnAYOXQItv5HMCDwMqhRbYdwM/3U+Olmx/AmpmZmZmZHsBEi2zn+6kdwBsv3SQGAR7A3SQGgZVDHcDlpZvEILAdwLxJDAIrBx7Aku18PzXeHcAK16NwPQofwPLSTWIQWCDAPN9PjZcuIMA730+Nl+4twFTjpZvEoBzAl24Sg8CKKcA730+Nl+4ewMQgsHJoUSDAf2q8dJMYHcC8dJMYBFYbwBODwMqhhSPA4XoUrkchLMA7tMh2vh8bwI2XbhKDQBrAsXJoke18HMAfhetRuF4gwGDl0CLb+RzA0SLb+X7qHcD4U+Olm8QdwBSDwMqhxSHAsp3vp8ZLHcDTTWIQWDkYwLbz/dR46SPAXI/C9ShcJMC/nxov3WQhwBODwMqhBSPAukkMAitHIsAhsHJokW0qwL+fGi/d5CLATDeJQWClJcC/nxov3SQiwOXQItv5/iHAhxbZzvdTIcDRItv5fuofwG3n+6nxkiHAEVg5tMh2I8AzMzMzM7MewC/dJAaBlQzA6SYxCKwcFcCYbhKDwEoRwG3n+6nx0grALIcW2c73DsATg8DKoUUSwA4CK4cW2RTA+n5qvHSTDsBcj8L1KNwSwLbz/dR46RPAu0kMAiuHCsBkEFg5tMgWwPp+arx0kw/AiUFg5dAi87+oxks3iUEGwEFg5dAi2wzAhetRuB6FA8C0yHa+nxoQwMqhRbbz/QzANV66SQwCEsDb+X5qvHQFwO18PzVeugLAqvHSTWIQEcDfT42XbhIOwDzfT42XbgLAqvHSTWIQDMCDwMqhRbYYwM/3U+OlGxnALbKd76dGF8AhsHJokW0QwA4CK4cWWR3Ad76fGi9dGMCcxCCwcugSwLKd76fGyx/AKVyPwvWoHsC4HoXrUbgdwDeJQWDl0BjAAiuHFtmOI8B9PzVeukkawA4tsp3vJxzABoGVQ4tsHMC0yHa+nxofwEA1XrpJjBzAj8L1KFwPH8ApXI/C9agewARWDi2yHRzA001iEFg5GsD8qfHSTeIfwJ9FtvP91B/Az/dT46WbHMB3vp8aL90dwI/C9ShcjyPA2s73U+MlGsDy0k1iEFgbwOF6FK5HYRnADgIrhxZZHMDNzMzMzMwYwL+fGi/dJBbAK4cW2c43IMA=\",\"dtype\":\"float64\",\"order\":\"little\",\"shape\":[136]},\"mode\":[1,1,1,0,1,0,1,0,0,1,1,0,1,1,1,0,1,1,0,1,1,1,1,1,0,1,1,1,1,1,1,0,1,1,0,1,1,1,1,1,1,1,1,1,1,1,1,1,0,1,1,1,1,1,1,1,1,1,1,1,1,1,1,0,1,1,1,1,1,1,1,1,1,1,0,0,1,1,0,1,0,0,1,1,1,1,0,1,0,1,0,1,1,0,0,1,1,1,0,0,0,1,1,1,0,1,0,0,1,1,1,1,0,1,1,0,0,1,1,1,1,1,0,0,0,1,1,0,1,1,1,0,1,1,1,1],\"name\":[\"Motherless Children\",\"Why Can't This Night Go On Forever\",\"Only the Young\",\"The Eyes of a Woman\",\"With a Tear\",\"After the Fall\",\"Don't Stop Believin'\",\"Topaz\",\"Of a Lifetime\",\"Look into the Future\",\"Lights\",\"Winds of March\",\"La Do Da\",\"The Party's Over (Hopelessly in Love) - GH 2 Version\",\"Patiently\",\"Somethin' to Hide\",\"Feeling That Way\",\"Anytime\",\"Wheel in the Sky\",\"Can Do\",\"Anytime - GH 2 Version\",\"Stone in Love - GH 2 Version\",\"Opened the Door\",\"Feeling That Way - GH 2 Version\",\"Too Late\",\"Sweet and Simple\",\"Majestic\",\"Daydream\",\"Lovin', Touchin', Squeezin'\",\"Do You Recall\",\"Lady Luck\",\"Lovin' You Is Easy\",\"City of the Angels\",\"Just the Same Way\",\"When You're Alone (It Ain't Easy)\",\"Any Way You Want It\",\"Where Were You\",\"Anytime - Live\",\"Someday Soon\",\"Line of Fire - Live\",\"Stay Awhile\",\"People and Places\",\"The Party's Over (Hopelessly in Love)\",\"Departure\",\"Where Were You - Live\",\"Good Morning Girl\",\"Homemade Love\",\"Precious Time\",\"Wheel in the Sky - Live\",\"Just the Same Way - Live\",\"Lights - Live\",\"Walks Like a Lady\",\"Little Girl\",\"Natural Thing\",\"Line of Fire\",\"Dixie Highway - Live\",\"I'm Cryin'\",\"Any Way You Want It\",\"Feeling That Way - Live\",\"Stay Awhile - Live\",\"Lovin' Touchin' Squeezin' - Live\",\"Any Way You Want It\",\"Still They Ride\",\"La Raza del Sol - Alternate Version\",\"Don't Stop Believin' - Live Version\",\"Escape\",\"Mother, Father\",\"Open Arms\",\"Stone in Love\",\"Open Arms - Live Version\",\"Don't Stop Believin'\",\"Keep on Runnin' (Live)\",\"Lay It Down\",\"Dead or Alive\",\"Who's Crying Now - Live Version\",\"Who's Crying Now\",\"Liberty\",\"Chain Reaction\",\"Troubled Child\",\"Rubicon\",\"Edge of the Blade\",\"Frontiers\",\"Only Solutions\",\"Faithfully\",\"Back Talk\",\"Only the Young\",\"After the Fall\",\"Ask the Lonely\",\"Send Her My Love\",\"Separate Ways (Worlds Apart)\",\"Girl Can't Help It - Live Video Mix\",\"Raised on Radio\",\"The Eyes of a Woman\",\"Positive Touch\",\"It Could Have Been You\",\"I'll Be Alright Without You - Live Video Mix\",\"I'll Be Alright Without You\",\"Be Good to Yourself\",\"Girl Can't Help It\",\"Happy to Give\",\"Once You Love Somebody\",\"Suzanne\",\"Why Can't This Night Go On Forever\",\"When I Think of You\",\"Still She Cries\",\"When You Love a Woman\",\"Remember Me (feat. Steve Augeri)\",\"Loved by You\",\"With Your Love\",\"Higher Place\",\"Lovin', Touchin', Squeezin'\",\"Lights\",\"Who's Crying Now\",\"Only the Young\",\"Open Arms\",\"Separate Ways (Worlds Apart)\",\"Wheel in the Sky\",\"Don't Stop Believin'\",\"Faithfully\",\"Any Way You Want It\",\"Faithfully\",\"Lights\",\"Wheel in the Sky\",\"Separate Ways (Worlds Apart)\",\"Send Her My Love\",\"Lovin', Touchin', Squeezin'\",\"Any Way You Want It\",\"Who's Crying Now\",\"Open Arms\",\"Ask the Lonely\",\"I'll Be Alright Without You\",\"Girl Can't Help It\",\"Don't Stop Believin'\",\"Only the Young\",\"After All These Years\",\"Don't Stop Believin'\"],\"popularity\":[0,25,43,24,23,25,21,23,40,22,60,40,32,21,41,31,51,49,63,27,22,27,29,25,30,30,27,27,60,27,24,28,40,42,28,72,29,22,37,22,41,28,44,35,23,27,24,27,24,25,26,32,24,24,26,23,26,24,24,23,24,26,48,33,48,40,40,70,62,36,80,39,36,35,36,59,31,41,34,32,35,33,34,68,31,42,44,50,52,67,32,38,33,42,33,32,41,48,49,34,33,43,43,40,34,56,42,40,41,41,39,47,40,50,52,52,52,75,55,64,46,44,45,44,41,43,44,43,43,41,51,40,58,44,45,67],\"release_date\":{\"__ndarray__\":\"AACAhTa/c8IAAAAczl1CQgAAABzOXUJCAAAAHM5dQkIAAAAczl1CQgAAABzOXUJCAAAAHM5dQkIAAABIjEVDQgAAAEiMRUNCAAAAsqYJRkIAAAAM62NNQgAAAAzrY01CAAAADOtjTUIAAAAM62NNQgAAAAzrY01CAAAADOtjTUIAAAAM62NNQgAAAAzrY01CAAAADOtjTUIAAAAM62NNQgAAAAzrY01CAAAADOtjTUIAAAAM62NNQgAAAAzrY01CAAAA0eGHUEIAAADR4YdQQgAAANHhh1BCAAAA0eGHUEIAAADR4YdQQgAAANHhh1BCAAAA0eGHUEIAAADR4YdQQgAAANHhh1BCAAAA0eGHUEIAAADR4YdQQgAAABzOXVJCAAAAHM5dUkIAAAAczl1SQgAAABzOXVJCAAAAHM5dUkIAAAAczl1SQgAAABzOXVJCAAAAHM5dUkIAAAAczl1SQgAAABzOXVJCAAAAHM5dUkIAAAAczl1SQgAAABzOXVJCAAAAHM5dUkIAAAAczl1SQgAAABzOXVJCAAAAHM5dUkIAAAAczl1SQgAAABzOXVJCAAAAHM5dUkIAAAAczl1SQgAAABzOXVJCAAAAHM5dUkIAAAAczl1SQgAAABzOXVJCAAAAHM5dUkIAAADcM7BSQgAAAP4DNVRCAAAA/gM1VEIAAAD+AzVUQgAAAP4DNVRCAAAA/gM1VEIAAAD+AzVUQgAAAP4DNVRCAAAA/gM1VEIAAAD+AzVUQgAAAP4DNVRCAAAA/gM1VEIAAAD+AzVUQgAAAP4DNVRCAAAA/gM1VEIAAADdxQhYQgAAAN3FCFhCAAAA3cUIWEIAAADdxQhYQgAAAN3FCFhCAAAA3cUIWEIAAADdxQhYQgAAAN3FCFhCAAAA3cUIWEIAAADdxQhYQgAAAN3FCFhCAAAA3cUIWEIAAADdxQhYQgAAAN3FCFhCAAAADOtjXUIAAAAM62NdQgAAAAzrY11CAAAADOtjXUIAAAAM62NdQgAAAAzrY11CAAAADOtjXUIAAAAM62NdQgAAAAzrY11CAAAADOtjXUIAAAAM62NdQgAAAAzrY11CAAAADOtjXUIAAIAUw55oQgAAgBTDnmhCAACAFMOeaEIAAAAwyyZqQgAAgOb0eGxCAACA5vR4bEIAAIDm9HhsQgAAAGD4IG1CAAAAYPggbUIAAABg+CBtQgAAAGD4IG1CAAAAYPggbUIAAABg+CBtQgAAAGD4IG1CAAAAYPggbUIAAABg+CBtQgAAAGD4IG1CAAAAFB7McEIAAAAUHsxwQgAAABQezHBCAAAAFB7McEIAAAAUHsxwQgAAABQezHBCAAAAFB7McEIAAAAUHsxwQgAAABQezHBCAAAAFB7McEIAAAAUHsxwQgAAABQezHBCAAAAFB7McEIAAAAUHsxwQgAAwJG7pHFCAACAKXlwckI=\",\"dtype\":\"float64\",\"order\":\"little\",\"shape\":[136]},\"speechiness\":{\"__ndarray__\":\"p+hILv8hrT8yVTAqqROgP+hqK/aX3aM/PN9PjZduoj9Wn6ut2F+mP7G/7J48LKQ/PN9PjZduoj+GWtO84xStP7Hh6ZWyDKE/iUFg5dAiqz/9h/Tb14GjPzj4wmSqYKQ/IbByaJHtrD/+ZffkYaGmP9/gC5OpgqE/eAskKH6MqT/OiNLe4AujP0ku/yH99qU/nDOitDf4sj+7SQwCK4e2P9rO91Pjpas/oBov3SQGwT/6fmq8dJOoP9cS8kHPZqU/JXUCmggbnj/7OnDOiNKeP3o2qz5XW6E/ysNCrWneoT+Zu5aQD3qmP03zjlN0JKc/rfpcbcX+oj/F/rJ78rCgP3sUrkfheqQ/TfOOU3Qkpz/KVMGopE6wPwfwFkhQ/Kg/S+oENBE2rD9UUiegibCxP0Ck374OnKM/GsBbIEHxsz+WsgxxrIubP5LLf0i/fZ0/CRueXinLoD+PU3Qkl/+gP0vIBz2bVa8/KqkT0ETYoD9WDi2yne+3P/s6cM6I0q4/ZvfkYaHWtD/x9EpZhjimPxHHuriNBqA/FvvL7snDsj92cRsN4C2gP9/gC5OpgqE/owG8BRIUrz/tDb4wmSq4P6g1zTtO0bE/L26jAbwFsj/ysFBrmnesPzJVMCqpE6A/a5p3nKIjqT94CyQofoypPz/G3LWEfKA/Gy/dJAaBtT/c14FzRpSmP96Th4Va06w/iUFg5dAiqz82zTtO0ZGcPzxO0ZFc/rM/l/+Qfvs6oD+gibDh6ZWiP4lBYOXQIrs/B84ZUdobrD9YObTIdr6/PwFNhA1Pr6Q/kst/SL99nT/f4AuTqYKhP8SxLm6jAaw/uY0G8BZIoD9/2T15WKilP96Th4Va06w/8rBQa5p3rD+lLEMc6+KmP4Lix5i7lqA/QKTfvg6csz+amZmZmZmpP6vP1VbsL6s/HhZqTfOOoz/wFkhQ/BijPyfChqdXyrI/nMQgsHJowT/2KFyPwvXQPzqSy39Iv60/0SLb+X5qvD/A7J48LNSqP9Ei2/l+arw/pU5AE2HDoz/0/dR46SaxPyuHFtnO97M/46WbxCCwoj8tIR/0bFatP5ayDHGsi6s/46WbxCCwoj9CPujZrPqcP40o7Q2+MJk/5j+k374OnD/Mf0i/fR2oP8xdS8gHPZs/S8gHPZtVnz/azvdT46W7P6JFtvP91Kg/b4EExY8xpz8Mk6mCUUmdP4iFWtO846Q/WDm0yHa+nz9UdCSX/5CuP7gehetRuK4/bqMBvAUSpD9cIEHxY8ydP8x/SL99Hag/kst/SL99nT+/DpwzorSnP7mNBvAWSLA/3nGKjuTyrz/oaiv2l92jPxsN4C2QoKg/2PD0SlmGqD/V52or9pedPxzr4jYawJs/K4cW2c73oz+WsgxxrIubP662Yn/ZPak/PL1SliGOpT97FK5H4XqkP7Hh6ZWyDKE/MEymCkYlpT8=\",\"dtype\":\"float64\",\"order\":\"little\",\"shape\":[136]},\"tempo\":{\"__ndarray__\":\"IbByaJEFXkD91HjpJrldQGZmZmZmLlJA7FG4HoVLXUDhehSuRzFaQM/3U+OlW1lAzczMzMycXUBcj8L1KBhhQO58PzVeolxAdJMYBFZuXUCcxCCwcvRpQJLtfD81pl5AdJMYBFYmXECXbhKDwBpcQJzEILByQGJAqvHSTWK4W0DjpZvEIDRiQCuHFtnOH2JATmIQWDlMWkB9PzVeunFoQKabxCCwJmJAJjEIrBzKXUCHFtnO93tgQAwCK4cWQWJAUrgeheupX0DdJAaBlVNgQIPAyqFF5lFA/tR46Sa9YUAxCKwcWmhqQO58PzVeWl1ABoGVQ4uQYUADK4cW2XZbQI2XbhKDoFVAg8DKoUVWWUCamZmZmQFfQJMYBFYORWFAokW28/0AYkCkcD0K12tTQHE9CtejIGJA6SYxCKyYZUCJQWDl0JpmQKwcWmQ7D2JAL90kBoEdXEANAiuHFslfQI2XbhKDnGNAAyuHFtnaZEAv3SQGgVVmQJzEILByiF5AXI/C9SiUXUB9PzVeuuFaQPhT46WbbFJAPzVeukl0YECPwvUoXCdhQCPb+X5qpF5ACtejcD3WZEANAiuHFtFWQI2XbhKD3GdA7Hw/NV66YkBg5dAi29FjQBJYObTIDlZA/dR46SapXEA1XrpJDEZhQLKd76fGf2BAE4PAyqFdYEBfukkMAjNfQKJFtvP9lGBAppvEILBaYUCxcmiR7SRZQMl2vp8av11AcT0K16OgWEBKDAIrh7ZdQMmhRbbzwWRAGy/dJAYhYECF61G4HsVnQIxs5/upKV9AcT0K16OIXkDz/dR46eZdQCyHFtnOD19AUrgehevNYEAlBoGVQxNZQHE9CtejRGFADi2yne+bZEBzaJHtfOtgQMP1KFyPQlVAL90kBoFhaEAAAAAAAChSQL+fGi/dBFlAf2q8dJMMYEApXI/C9ThfQFK4HoXrbWBA5dAi2/lCYEB56SYxCMBjQNEi2/l+Yl1ATDeJQWChZkCT7Xw/Nc5VQDeJQWDlYFpAv58aL91MWEBEi2zn+51iQG4Sg8DKgV9A6SYxCKzMaUC28/3UeMlZQOWlm8QgAFZAdJMYBFbOXUAYBFYOLVpdQHe+nxovzVtAGy/dJAaFYEAhsHJokT1bQEBg5dAiy1FAMQisHFpUYUDsUbgehe9hQHE9CtejlGpAl24Sg8CyaUC0yHa+n4JeQFYOLbKdF1JAL90kBoHVUkCDwMqhRW5gQCPb+X5qbFpAAAAAAADQXUCMbOf7qTVgQHe+nxovRWFAtvP91HgtYEB3vp8aL5VpQM/3U+Olc1pAbef7qfFuYEAshxbZzl9fQGMQWDm0bGpAGy/dJAZFYUAIrBxaZJteQHsUrkfhYllA6iYxCKwMYEDUeOkmMVhYQEw3iUFgbV9AfT81XrrBXUAtsp3vpx5SQKRwPQrXk19Ad76fGi/NXUA=\",\"dtype\":\"float64\",\"order\":\"little\",\"shape\":[136]},\"valence\":{\"__ndarray__\":\"30+Nl24S4z/6fmq8dJPQP9V46SYxCOA/UrgehetR4D+BlUOLbOfnP6JFtvP91OA/HVpkO99P4T8/NV66SQzCP3E9CtejcOE/UrgehetRyD8OLbKd76fWPycxCKwcWsQ/9ihcj8L15D/vp8ZLN4npP0SLbOf7qdE/AAAAAAAA0D+yne+nxkvXP4XrUbgeheM/WmQ730+N1z+JFtnO91PbPw4tsp3vp+I/I9v5fmq83D8nMQisHFrEP7x0kxgEVtY/N4lBYOXQ0j9KDAIrhxbRPzBMpgpGJbU/Rbbz/dR42T8NAiuHFtnmP9V46SYxCOA/HFpkO99P3T/2KFyPwvXYP3sUrkfhetw/EoPAyqFF3j+4HoXrUbjmPxODwMqhReI/T42XbhKD5D8v3SQGgZXbP6rx0k1iENg/2/l+arx02z8RWDm0yHbOP+F6FK5H4bo/uB6F61G45j+8dJMYBFbeP+F6FK5H4dI/ZohjXdxGsz+oxks3iUHoP3E9CtejcOE/wMqhRbbz3T8tsp3vp8bTP05iEFg5tNg/IbByaJHt5D+PU3Qkl/+wP9V46SYxCNQ/30+Nl24S4z+YbhKDwMrRP/T91HjpJsE/YxBYObTI1j9BYOXQItvZP1g5tMh2vtc/JQaBlUOL3D+kcD0K16PkP90kBoGVQ9M/K4cW2c730z93vp8aL93gPxSuR+F6FOI/gZVDi2znyz8Sg8DKoUXGP/p+arx0k+A/JQaBlUOLzD+mm8QgsHLgPxsv3SQGgdU/v58aL90k1j8YBFYOLbLVP1TjpZvEIOA/BCuHFtnO1z+uR+F6FK7HP8P1KFyPwt0/XI/C9Shc1z9fukkMAivXP9NNYhBYOeA/L90kBoGV4z9I4XoUrkfpP1TjpZvEINA/oBov3SQG4T/FILByaJHdP9V46SYxCOA/AAAAAAAA6D8AAAAAAADQP1TjpZvEINg/eOkmMQiszD+RD3o2qz63P7JyaJHtfN8/wMqhRbbz5T+HFtnO91PjP6rx0k1iENg/XI/C9Shc4z8NAiuHFtnWP3jpJjEIrNw/w/UoXI/C1T9uEoPAyqHpP5HtfD81XuI/jZduEoPA0j8YBFYOLbLNPxsv3SQGgcU/2873U+Olyz+28/3UeOniP2MQWDm0yNY/16NwPQrX0z8830+Nl27iP7tJDAIrh+Y/6Pup8dJN2j+XbhKDwMrZP3e+nxov3eA/RIts5/upwT97FK5H4XrcP++nxks3idk/aZHtfD813j/ZzvdT46XTP42XbhKDwOI/5dAi2/l+0j/6fmq8dJPYPy/dJAaBlds/0SLb+X5q3D8cWmQ730/NP7gehetRuOY/tMh2vp8a4z+JQWDl0CLbP5huEoPAysE/bhKDwMqh6T+d76fGSzfhPylcj8L1KOA/w/UoXI/C3T9U46WbxCDgPxfZzvdT48U/EoPAyqFF3j8=\",\"dtype\":\"float64\",\"order\":\"little\",\"shape\":[136]},\"year\":[1927,1975,1975,1975,1975,1975,1975,1975,1975,1976,1978,1978,1978,1978,1978,1978,1978,1978,1978,1978,1978,1978,1978,1978,1979,1979,1979,1979,1979,1979,1979,1979,1979,1979,1979,1980,1980,1980,1980,1980,1980,1980,1980,1980,1980,1980,1980,1980,1980,1980,1980,1980,1980,1980,1980,1980,1980,1980,1980,1980,1980,1980,1981,1981,1981,1981,1981,1981,1981,1981,1981,1981,1981,1981,1981,1981,1983,1983,1983,1983,1983,1983,1983,1983,1983,1983,1983,1983,1983,1983,1986,1986,1986,1986,1986,1986,1986,1986,1986,1986,1986,1986,1986,1996,1996,1996,1998,2001,2001,2001,2001,2001,2001,2001,2001,2001,2001,2001,2001,2001,2006,2006,2006,2006,2006,2006,2006,2006,2006,2006,2006,2006,2006,2006,2008,2010]},\"selected\":{\"id\":\"1639\"},\"selection_policy\":{\"id\":\"1640\"}},\"id\":\"1576\",\"type\":\"ColumnDataSource\"},{\"attributes\":{},\"id\":\"1391\",\"type\":\"LinearScale\"},{\"attributes\":{},\"id\":\"1453\",\"type\":\"BasicTickFormatter\"},{\"attributes\":{},\"id\":\"1470\",\"type\":\"YearsTicker\"},{\"attributes\":{\"source\":{\"id\":\"1415\"}},\"id\":\"1584\",\"type\":\"CDSView\"},{\"attributes\":{\"line_alpha\":0.6,\"line_color\":\"green\",\"line_width\":2,\"x\":{\"field\":\"release_date\"},\"y\":{\"field\":\"popularity\"}},\"id\":\"1580\",\"type\":\"Line\"},{\"attributes\":{\"data\":{\"popularity\":{\"__ndarray__\":\"AAAAAAAAPUAAAAAAAABCQFVVVVVVVUZAJUmSJEkSQkAAAAAAAABGQBvKayivIURAAAAAAAAAQECrqqqqqqpEQAAAAAAA0ENAAAAAAACAPEAAAAAAAABCQAAAAAAAADlAAAAAAAAAOkCrqqqqqqpIQFVVVVVVVUNAAAAAAAAATUAAAAAAAABJQAAAAAAAgElAMzMzMzMzSEAAAAAAAIBAQAAAAAAAAE5A\",\"dtype\":\"float64\",\"order\":\"little\",\"shape\":[21]},\"release_date\":{\"__ndarray__\":\"AAAAgPOK/8EAAADQB3wVQgAAAAzrYz1CAAAAHM5dQkIAAADaurtIQgAAAAzrY01CAAAAHM5dUkIAAAD+AzVUQgAAAEnwClZCAAAAlNzgV0IAAAAToOZaQgAAAEyFEV1CAACApJ/QYEIAAABJ8ApmQgAAACLXZ2dCAAAAlNzgZ0IAAAAuyHhoQgAAAIsksGhCAAAAA25WakIAAADkbftrQgAAgNxOyXJC\",\"dtype\":\"float64\",\"order\":\"little\",\"shape\":[21]}},\"selected\":{\"id\":\"1456\"},\"selection_policy\":{\"id\":\"1457\"}},\"id\":\"1415\",\"type\":\"ColumnDataSource\"},{\"attributes\":{\"data_source\":{\"id\":\"1576\"},\"glyph\":{\"id\":\"1579\"},\"hover_glyph\":null,\"muted_glyph\":null,\"view\":{\"id\":\"1582\"}},\"id\":\"1581\",\"type\":\"GlyphRenderer\"},{\"attributes\":{\"num_minor_ticks\":5,\"tickers\":[{\"id\":\"1459\"},{\"id\":\"1460\"},{\"id\":\"1461\"},{\"id\":\"1462\"},{\"id\":\"1463\"},{\"id\":\"1464\"},{\"id\":\"1465\"},{\"id\":\"1466\"},{\"id\":\"1467\"},{\"id\":\"1468\"},{\"id\":\"1469\"},{\"id\":\"1470\"}]},\"id\":\"1394\",\"type\":\"DatetimeTicker\"},{\"attributes\":{\"active_drag\":\"auto\",\"active_inspect\":\"auto\",\"active_multi\":null,\"active_scroll\":\"auto\",\"active_tap\":\"auto\",\"tools\":[{\"id\":\"1401\"},{\"id\":\"1402\"},{\"id\":\"1403\"},{\"id\":\"1404\"},{\"id\":\"1405\"},{\"id\":\"1406\"}]},\"id\":\"1408\",\"type\":\"Toolbar\"}],\"root_ids\":[\"1384\"]},\"title\":\"Bokeh Application\",\"version\":\"2.2.3\"}};\n  var render_items = [{\"docid\":\"2f206a91-6c5d-47fb-8865-250f81a84791\",\"root_ids\":[\"1384\"],\"roots\":{\"1384\":\"25707039-0fec-489d-947c-d9a1559ed94f\"}}];\n  root.Bokeh.embed.embed_items_notebook(docs_json, render_items);\n\n  }\n  if (root.Bokeh !== undefined) {\n    embed_document(root);\n  } else {\n    var attempts = 0;\n    var timer = setInterval(function(root) {\n      if (root.Bokeh !== undefined) {\n        clearInterval(timer);\n        embed_document(root);\n      } else {\n        attempts++;\n        if (attempts > 100) {\n          clearInterval(timer);\n          console.log(\"Bokeh: ERROR: Unable to run BokehJS code because BokehJS library is missing\");\n        }\n      }\n    }, 10, root)\n  }\n})(window);",
      "application/vnd.bokehjs_exec.v0+json": ""
     },
     "metadata": {
      "application/vnd.bokehjs_exec.v0+json": {
       "id": "1384"
      }
     }
    }
   ],
   "source": [
    "# Afficher votre graphe à nouveau\n",
    "show(p)\n"
   ]
  },
  {
   "cell_type": "code",
   "execution_count": 35,
   "metadata": {},
   "outputs": [
    {
     "output_type": "execute_result",
     "data": {
      "text/plain": [
       "[GlyphRenderer(id='1581', ...), GlyphRenderer(id='1583', ...)]"
      ]
     },
     "metadata": {},
     "execution_count": 35
    }
   ],
   "source": [
    "# Afficher la liste des renderers. Arrivez-vous à voir les nouveaux composants?\n",
    "plot.renderers\n"
   ]
  },
  {
   "cell_type": "markdown",
   "metadata": {},
   "source": [
    "<br></br> \n",
    "\n",
    "### Graphes supplémentaires (données catégoriques, whiskers, propriétés visuelles...):\n",
    "\n",
    "Pour visualiser les données catégoriques, on a tendance à utiliser des graphes à barres. En se basant sur votre fichier (TP1) contenant le nombre des pistes duos par artiste (collaborateur) et la moyenne des variables du même artiste, créer Un graphe à bar + Ligne. Voir https://docs.bokeh.org/en/latest/docs/user_guide/categorical.html. \n",
    "\n",
    "Vous pouvez également explorer le nombre de pistes selon les clés et leur popularité respective en utilisant les whiskers par exemple https://docs.bokeh.org/en/latest/docs/user_guide/annotations.html#whiskers.\n",
    "\n",
    "Penser à donner des titres, des labels... à vos graphes, axes etc. Pour plus de détails sur les propriétés visuelles, voir: https://docs.bokeh.org/en/latest/docs/user_guide/styling.html"
   ]
  },
  {
   "cell_type": "markdown",
   "metadata": {},
   "source": [
    "##### Exemple de gestion des données catégoriques dans un graphe Bokeh: "
   ]
  },
  {
   "cell_type": "code",
   "execution_count": 36,
   "metadata": {},
   "outputs": [
    {
     "output_type": "execute_result",
     "data": {
      "text/plain": [
       "       Unnamed: 0  acousticness                                     artists  \\\n",
       "0               1        0.9940     'Robert Schumann', 'Vladimir Horowitz'    \n",
       "1               4        0.9900     'Frédéric Chopin', 'Vladimir Horowitz'    \n",
       "2               5        0.9950   'Felix Mendelssohn', 'Vladimir Horowitz'    \n",
       "3               6        0.9560         'Franz Liszt', 'Vladimir Horowitz'    \n",
       "4               8        0.9950               'Francisco Canaro', 'Charlo'    \n",
       "...           ...           ...                                         ...   \n",
       "22947      169903        0.2100                     'LEGADO 7', 'Junior H'    \n",
       "22948      169904        0.1730                       'DripReport', 'Tyga'    \n",
       "22949      169905        0.0167           'Leon Bridges', 'Terrace Martin'    \n",
       "22950      169906        0.5380                        'Kygo', 'Oh Wonder'    \n",
       "22951      169907        0.0714                'Cash Cash', 'Andy Grammer'    \n",
       "\n",
       "       danceability  duration_ms  energy  explicit                      id  \\\n",
       "0             0.379       282133  0.0135         0  6KuQTIu1KoTTkLXKrwlLPV   \n",
       "1             0.210       687733  0.2040         0  6N6tiFZ9vLTSOIxkj8qKrd   \n",
       "2             0.424       352600  0.1200         0  6NxAf7M8DNHOBTmEd3JSO5   \n",
       "3             0.444       136627  0.1970         0  6O0puPuyrxPjDTHDUgsWI7   \n",
       "4             0.683       162493  0.2070         0  6OaJ8Bh7lsBeYoBmwmo2nh   \n",
       "...             ...          ...     ...       ...                     ...   \n",
       "22947         0.795       218501  0.5850         0  52Cpyvd2dKb6XRn313nH87   \n",
       "22948         0.875       163800  0.4430         1  4KppkflX7I3vJQk7urOJaS   \n",
       "22949         0.719       167468  0.3850         0  1ehhGlTvjtHo2e4xJFB0SZ   \n",
       "22950         0.514       180700  0.5390         0  52eycxprLhK3lPcRLbQiVk   \n",
       "22951         0.646       167308  0.7610         0  3wYOGJYD31sLRmBgCvWxa4   \n",
       "\n",
       "       instrumentalness  key  ...  \\\n",
       "0              0.901000    8  ...   \n",
       "1              0.908000   11  ...   \n",
       "2              0.911000    6  ...   \n",
       "3              0.435000   11  ...   \n",
       "4              0.206000    9  ...   \n",
       "...                 ...  ...  ...   \n",
       "22947          0.000001    8  ...   \n",
       "22948          0.000032    1  ...   \n",
       "22949          0.031300    8  ...   \n",
       "22950          0.002330    7  ...   \n",
       "22951          0.000000    1  ...   \n",
       "\n",
       "                                                 name  popularity  \\\n",
       "0            Fantasiestücke, Op. 111: Più tosto lento           0   \n",
       "1         Polonaise-Fantaisie in A-Flat Major, Op. 61           1   \n",
       "2                         Scherzo a capriccio: Presto           0   \n",
       "3      Valse oubliée No. 1 in F-Sharp Major, S. 215/1           0   \n",
       "4                    Moneda Corriente - Remasterizado           0   \n",
       "...                                               ...         ...   \n",
       "22947                                 Ojos De Maniaco          68   \n",
       "22948                   Skechers (feat. Tyga) - Remix          75   \n",
       "22949                  Sweeter (feat. Terrace Martin)          64   \n",
       "22950                                How Would I Know          70   \n",
       "22951                                     I Found You          70   \n",
       "\n",
       "       release_date speechiness    tempo valence  year  nombre_artistes  \\\n",
       "0              1928      0.0462   83.972  0.0767  1928                2   \n",
       "1              1928      0.0424   62.149  0.0693  1928                2   \n",
       "2              1928      0.0593   63.521  0.2660  1928                2   \n",
       "3              1928      0.0400   80.495  0.3050  1928                2   \n",
       "4        1928-10-03      0.1270  119.833  0.4930  1928                2   \n",
       "...             ...         ...      ...     ...   ...              ...   \n",
       "22947    2020-02-28      0.0374   97.479  0.9340  2020                2   \n",
       "22948    2020-05-15      0.1430  100.012  0.3060  2020                2   \n",
       "22949    2020-06-08      0.0403  128.000  0.2700  2020                2   \n",
       "22950    2020-05-29      0.1050  123.700  0.1530  2020                2   \n",
       "22951    2020-02-28      0.0385  129.916  0.4720  2020                2   \n",
       "\n",
       "                    artist1                artist2  \n",
       "0         'Robert Schumann'   'Vladimir Horowitz'   \n",
       "1         'Frédéric Chopin'   'Vladimir Horowitz'   \n",
       "2       'Felix Mendelssohn'   'Vladimir Horowitz'   \n",
       "3             'Franz Liszt'   'Vladimir Horowitz'   \n",
       "4        'Francisco Canaro'              'Charlo'   \n",
       "...                     ...                    ...  \n",
       "22947            'LEGADO 7'            'Junior H'   \n",
       "22948          'DripReport'                'Tyga'   \n",
       "22949        'Leon Bridges'      'Terrace Martin'   \n",
       "22950                'Kygo'           'Oh Wonder'   \n",
       "22951           'Cash Cash'        'Andy Grammer'   \n",
       "\n",
       "[22952 rows x 23 columns]"
      ],
      "text/html": "<div>\n<style scoped>\n    .dataframe tbody tr th:only-of-type {\n        vertical-align: middle;\n    }\n\n    .dataframe tbody tr th {\n        vertical-align: top;\n    }\n\n    .dataframe thead th {\n        text-align: right;\n    }\n</style>\n<table border=\"1\" class=\"dataframe\">\n  <thead>\n    <tr style=\"text-align: right;\">\n      <th></th>\n      <th>Unnamed: 0</th>\n      <th>acousticness</th>\n      <th>artists</th>\n      <th>danceability</th>\n      <th>duration_ms</th>\n      <th>energy</th>\n      <th>explicit</th>\n      <th>id</th>\n      <th>instrumentalness</th>\n      <th>key</th>\n      <th>...</th>\n      <th>name</th>\n      <th>popularity</th>\n      <th>release_date</th>\n      <th>speechiness</th>\n      <th>tempo</th>\n      <th>valence</th>\n      <th>year</th>\n      <th>nombre_artistes</th>\n      <th>artist1</th>\n      <th>artist2</th>\n    </tr>\n  </thead>\n  <tbody>\n    <tr>\n      <th>0</th>\n      <td>1</td>\n      <td>0.9940</td>\n      <td>'Robert Schumann', 'Vladimir Horowitz'</td>\n      <td>0.379</td>\n      <td>282133</td>\n      <td>0.0135</td>\n      <td>0</td>\n      <td>6KuQTIu1KoTTkLXKrwlLPV</td>\n      <td>0.901000</td>\n      <td>8</td>\n      <td>...</td>\n      <td>Fantasiestücke, Op. 111: Più tosto lento</td>\n      <td>0</td>\n      <td>1928</td>\n      <td>0.0462</td>\n      <td>83.972</td>\n      <td>0.0767</td>\n      <td>1928</td>\n      <td>2</td>\n      <td>'Robert Schumann'</td>\n      <td>'Vladimir Horowitz'</td>\n    </tr>\n    <tr>\n      <th>1</th>\n      <td>4</td>\n      <td>0.9900</td>\n      <td>'Frédéric Chopin', 'Vladimir Horowitz'</td>\n      <td>0.210</td>\n      <td>687733</td>\n      <td>0.2040</td>\n      <td>0</td>\n      <td>6N6tiFZ9vLTSOIxkj8qKrd</td>\n      <td>0.908000</td>\n      <td>11</td>\n      <td>...</td>\n      <td>Polonaise-Fantaisie in A-Flat Major, Op. 61</td>\n      <td>1</td>\n      <td>1928</td>\n      <td>0.0424</td>\n      <td>62.149</td>\n      <td>0.0693</td>\n      <td>1928</td>\n      <td>2</td>\n      <td>'Frédéric Chopin'</td>\n      <td>'Vladimir Horowitz'</td>\n    </tr>\n    <tr>\n      <th>2</th>\n      <td>5</td>\n      <td>0.9950</td>\n      <td>'Felix Mendelssohn', 'Vladimir Horowitz'</td>\n      <td>0.424</td>\n      <td>352600</td>\n      <td>0.1200</td>\n      <td>0</td>\n      <td>6NxAf7M8DNHOBTmEd3JSO5</td>\n      <td>0.911000</td>\n      <td>6</td>\n      <td>...</td>\n      <td>Scherzo a capriccio: Presto</td>\n      <td>0</td>\n      <td>1928</td>\n      <td>0.0593</td>\n      <td>63.521</td>\n      <td>0.2660</td>\n      <td>1928</td>\n      <td>2</td>\n      <td>'Felix Mendelssohn'</td>\n      <td>'Vladimir Horowitz'</td>\n    </tr>\n    <tr>\n      <th>3</th>\n      <td>6</td>\n      <td>0.9560</td>\n      <td>'Franz Liszt', 'Vladimir Horowitz'</td>\n      <td>0.444</td>\n      <td>136627</td>\n      <td>0.1970</td>\n      <td>0</td>\n      <td>6O0puPuyrxPjDTHDUgsWI7</td>\n      <td>0.435000</td>\n      <td>11</td>\n      <td>...</td>\n      <td>Valse oubliée No. 1 in F-Sharp Major, S. 215/1</td>\n      <td>0</td>\n      <td>1928</td>\n      <td>0.0400</td>\n      <td>80.495</td>\n      <td>0.3050</td>\n      <td>1928</td>\n      <td>2</td>\n      <td>'Franz Liszt'</td>\n      <td>'Vladimir Horowitz'</td>\n    </tr>\n    <tr>\n      <th>4</th>\n      <td>8</td>\n      <td>0.9950</td>\n      <td>'Francisco Canaro', 'Charlo'</td>\n      <td>0.683</td>\n      <td>162493</td>\n      <td>0.2070</td>\n      <td>0</td>\n      <td>6OaJ8Bh7lsBeYoBmwmo2nh</td>\n      <td>0.206000</td>\n      <td>9</td>\n      <td>...</td>\n      <td>Moneda Corriente - Remasterizado</td>\n      <td>0</td>\n      <td>1928-10-03</td>\n      <td>0.1270</td>\n      <td>119.833</td>\n      <td>0.4930</td>\n      <td>1928</td>\n      <td>2</td>\n      <td>'Francisco Canaro'</td>\n      <td>'Charlo'</td>\n    </tr>\n    <tr>\n      <th>...</th>\n      <td>...</td>\n      <td>...</td>\n      <td>...</td>\n      <td>...</td>\n      <td>...</td>\n      <td>...</td>\n      <td>...</td>\n      <td>...</td>\n      <td>...</td>\n      <td>...</td>\n      <td>...</td>\n      <td>...</td>\n      <td>...</td>\n      <td>...</td>\n      <td>...</td>\n      <td>...</td>\n      <td>...</td>\n      <td>...</td>\n      <td>...</td>\n      <td>...</td>\n      <td>...</td>\n    </tr>\n    <tr>\n      <th>22947</th>\n      <td>169903</td>\n      <td>0.2100</td>\n      <td>'LEGADO 7', 'Junior H'</td>\n      <td>0.795</td>\n      <td>218501</td>\n      <td>0.5850</td>\n      <td>0</td>\n      <td>52Cpyvd2dKb6XRn313nH87</td>\n      <td>0.000001</td>\n      <td>8</td>\n      <td>...</td>\n      <td>Ojos De Maniaco</td>\n      <td>68</td>\n      <td>2020-02-28</td>\n      <td>0.0374</td>\n      <td>97.479</td>\n      <td>0.9340</td>\n      <td>2020</td>\n      <td>2</td>\n      <td>'LEGADO 7'</td>\n      <td>'Junior H'</td>\n    </tr>\n    <tr>\n      <th>22948</th>\n      <td>169904</td>\n      <td>0.1730</td>\n      <td>'DripReport', 'Tyga'</td>\n      <td>0.875</td>\n      <td>163800</td>\n      <td>0.4430</td>\n      <td>1</td>\n      <td>4KppkflX7I3vJQk7urOJaS</td>\n      <td>0.000032</td>\n      <td>1</td>\n      <td>...</td>\n      <td>Skechers (feat. Tyga) - Remix</td>\n      <td>75</td>\n      <td>2020-05-15</td>\n      <td>0.1430</td>\n      <td>100.012</td>\n      <td>0.3060</td>\n      <td>2020</td>\n      <td>2</td>\n      <td>'DripReport'</td>\n      <td>'Tyga'</td>\n    </tr>\n    <tr>\n      <th>22949</th>\n      <td>169905</td>\n      <td>0.0167</td>\n      <td>'Leon Bridges', 'Terrace Martin'</td>\n      <td>0.719</td>\n      <td>167468</td>\n      <td>0.3850</td>\n      <td>0</td>\n      <td>1ehhGlTvjtHo2e4xJFB0SZ</td>\n      <td>0.031300</td>\n      <td>8</td>\n      <td>...</td>\n      <td>Sweeter (feat. Terrace Martin)</td>\n      <td>64</td>\n      <td>2020-06-08</td>\n      <td>0.0403</td>\n      <td>128.000</td>\n      <td>0.2700</td>\n      <td>2020</td>\n      <td>2</td>\n      <td>'Leon Bridges'</td>\n      <td>'Terrace Martin'</td>\n    </tr>\n    <tr>\n      <th>22950</th>\n      <td>169906</td>\n      <td>0.5380</td>\n      <td>'Kygo', 'Oh Wonder'</td>\n      <td>0.514</td>\n      <td>180700</td>\n      <td>0.5390</td>\n      <td>0</td>\n      <td>52eycxprLhK3lPcRLbQiVk</td>\n      <td>0.002330</td>\n      <td>7</td>\n      <td>...</td>\n      <td>How Would I Know</td>\n      <td>70</td>\n      <td>2020-05-29</td>\n      <td>0.1050</td>\n      <td>123.700</td>\n      <td>0.1530</td>\n      <td>2020</td>\n      <td>2</td>\n      <td>'Kygo'</td>\n      <td>'Oh Wonder'</td>\n    </tr>\n    <tr>\n      <th>22951</th>\n      <td>169907</td>\n      <td>0.0714</td>\n      <td>'Cash Cash', 'Andy Grammer'</td>\n      <td>0.646</td>\n      <td>167308</td>\n      <td>0.7610</td>\n      <td>0</td>\n      <td>3wYOGJYD31sLRmBgCvWxa4</td>\n      <td>0.000000</td>\n      <td>1</td>\n      <td>...</td>\n      <td>I Found You</td>\n      <td>70</td>\n      <td>2020-02-28</td>\n      <td>0.0385</td>\n      <td>129.916</td>\n      <td>0.4720</td>\n      <td>2020</td>\n      <td>2</td>\n      <td>'Cash Cash'</td>\n      <td>'Andy Grammer'</td>\n    </tr>\n  </tbody>\n</table>\n<p>22952 rows × 23 columns</p>\n</div>"
     },
     "metadata": {},
     "execution_count": 36
    }
   ],
   "source": [
    "# Lire le fichiers des duos sauvegardé du TP1 dans une dataframe \n",
    "duo = pd.read_csv('duo.csv',sep=',')\n",
    "duo"
   ]
  },
  {
   "cell_type": "code",
   "execution_count": 37,
   "metadata": {},
   "outputs": [
    {
     "output_type": "execute_result",
     "data": {
      "text/plain": [
       "            artist1            artist2  Unnamed: 0  acousticness  \\\n",
       "0           'Powfu'     'beabadoobee'      87949.0       0.73100   \n",
       "1           'BENEE'   'Gus Dapperton'      87844.0       0.30500   \n",
       "2       'Surf Mesa'          'Emilee'      87852.0       0.06860   \n",
       "3   'Ariana Grande'   'Justin Bieber'      87953.0       0.22300   \n",
       "4           'Topic'             'A7S'      87890.0       0.22300   \n",
       "5         'KAROL G'     'Nicki Minaj'      87909.0       0.29500   \n",
       "6      'Marshmello'          'Halsey'      87957.0       0.00776   \n",
       "7       'Lady Gaga'   'Ariana Grande'      87993.5       0.02100   \n",
       "8         'ROSALÍA'    'Travis Scott'      87989.0       0.19200   \n",
       "9   'Billie Eilish'          'Khalid'      87747.0       0.93400   \n",
       "\n",
       "   danceability  duration_ms  energy  explicit  instrumentalness   key  \\\n",
       "0         0.726     173333.0   0.431       0.0          0.000000   8.0   \n",
       "1         0.863     223480.0   0.631       1.0          0.000030   7.0   \n",
       "2         0.674     176547.0   0.774       0.0          0.001880  11.0   \n",
       "3         0.597     228482.0   0.450       0.0          0.000000   8.0   \n",
       "4         0.789     166794.0   0.720       0.0          0.000000   8.0   \n",
       "5         0.803     200960.0   0.715       0.0          0.000134   2.0   \n",
       "6         0.630     172762.0   0.633       0.0          0.000000   4.0   \n",
       "7         0.672     182200.0   0.855       0.0          0.000000   9.0   \n",
       "8         0.776     129371.0   0.509       0.0          0.000001   0.0   \n",
       "9         0.351     200186.0   0.296       0.0          0.000000   4.0   \n",
       "\n",
       "   liveness  loudness  mode  popularity  speechiness    tempo  valence  \\\n",
       "0    0.6960    -8.765   0.0        97.0       0.1350  144.026    0.348   \n",
       "1    0.1230    -4.689   1.0        95.0       0.0534  128.977    0.817   \n",
       "2    0.3930    -7.567   0.0        95.0       0.0892  112.050    0.330   \n",
       "3    0.3820    -6.658   1.0        94.0       0.0418  178.765    0.537   \n",
       "4    0.1290    -5.652   0.0        92.0       0.2180  122.031    0.664   \n",
       "5    0.0574    -3.280   1.0        92.0       0.2980  101.085    0.574   \n",
       "6    0.0541    -7.088   1.0        91.0       0.0457   93.995    0.452   \n",
       "7    0.3230    -3.764   1.0        90.5       0.0397  123.056    0.646   \n",
       "8    0.1150    -6.266   0.0        90.0       0.4670   94.634    0.485   \n",
       "9    0.0950   -10.109   0.0        89.0       0.0333  115.284    0.120   \n",
       "\n",
       "     year  nombre_artistes  \n",
       "0  2020.0              2.0  \n",
       "1  2019.0              2.0  \n",
       "2  2019.0              2.0  \n",
       "3  2020.0              2.0  \n",
       "4  2019.0              2.0  \n",
       "5  2019.0              2.0  \n",
       "6  2020.0              2.0  \n",
       "7  2020.0              2.0  \n",
       "8  2020.0              2.0  \n",
       "9  2018.0              2.0  "
      ],
      "text/html": "<div>\n<style scoped>\n    .dataframe tbody tr th:only-of-type {\n        vertical-align: middle;\n    }\n\n    .dataframe tbody tr th {\n        vertical-align: top;\n    }\n\n    .dataframe thead th {\n        text-align: right;\n    }\n</style>\n<table border=\"1\" class=\"dataframe\">\n  <thead>\n    <tr style=\"text-align: right;\">\n      <th></th>\n      <th>artist1</th>\n      <th>artist2</th>\n      <th>Unnamed: 0</th>\n      <th>acousticness</th>\n      <th>danceability</th>\n      <th>duration_ms</th>\n      <th>energy</th>\n      <th>explicit</th>\n      <th>instrumentalness</th>\n      <th>key</th>\n      <th>liveness</th>\n      <th>loudness</th>\n      <th>mode</th>\n      <th>popularity</th>\n      <th>speechiness</th>\n      <th>tempo</th>\n      <th>valence</th>\n      <th>year</th>\n      <th>nombre_artistes</th>\n    </tr>\n  </thead>\n  <tbody>\n    <tr>\n      <th>0</th>\n      <td>'Powfu'</td>\n      <td>'beabadoobee'</td>\n      <td>87949.0</td>\n      <td>0.73100</td>\n      <td>0.726</td>\n      <td>173333.0</td>\n      <td>0.431</td>\n      <td>0.0</td>\n      <td>0.000000</td>\n      <td>8.0</td>\n      <td>0.6960</td>\n      <td>-8.765</td>\n      <td>0.0</td>\n      <td>97.0</td>\n      <td>0.1350</td>\n      <td>144.026</td>\n      <td>0.348</td>\n      <td>2020.0</td>\n      <td>2.0</td>\n    </tr>\n    <tr>\n      <th>1</th>\n      <td>'BENEE'</td>\n      <td>'Gus Dapperton'</td>\n      <td>87844.0</td>\n      <td>0.30500</td>\n      <td>0.863</td>\n      <td>223480.0</td>\n      <td>0.631</td>\n      <td>1.0</td>\n      <td>0.000030</td>\n      <td>7.0</td>\n      <td>0.1230</td>\n      <td>-4.689</td>\n      <td>1.0</td>\n      <td>95.0</td>\n      <td>0.0534</td>\n      <td>128.977</td>\n      <td>0.817</td>\n      <td>2019.0</td>\n      <td>2.0</td>\n    </tr>\n    <tr>\n      <th>2</th>\n      <td>'Surf Mesa'</td>\n      <td>'Emilee'</td>\n      <td>87852.0</td>\n      <td>0.06860</td>\n      <td>0.674</td>\n      <td>176547.0</td>\n      <td>0.774</td>\n      <td>0.0</td>\n      <td>0.001880</td>\n      <td>11.0</td>\n      <td>0.3930</td>\n      <td>-7.567</td>\n      <td>0.0</td>\n      <td>95.0</td>\n      <td>0.0892</td>\n      <td>112.050</td>\n      <td>0.330</td>\n      <td>2019.0</td>\n      <td>2.0</td>\n    </tr>\n    <tr>\n      <th>3</th>\n      <td>'Ariana Grande'</td>\n      <td>'Justin Bieber'</td>\n      <td>87953.0</td>\n      <td>0.22300</td>\n      <td>0.597</td>\n      <td>228482.0</td>\n      <td>0.450</td>\n      <td>0.0</td>\n      <td>0.000000</td>\n      <td>8.0</td>\n      <td>0.3820</td>\n      <td>-6.658</td>\n      <td>1.0</td>\n      <td>94.0</td>\n      <td>0.0418</td>\n      <td>178.765</td>\n      <td>0.537</td>\n      <td>2020.0</td>\n      <td>2.0</td>\n    </tr>\n    <tr>\n      <th>4</th>\n      <td>'Topic'</td>\n      <td>'A7S'</td>\n      <td>87890.0</td>\n      <td>0.22300</td>\n      <td>0.789</td>\n      <td>166794.0</td>\n      <td>0.720</td>\n      <td>0.0</td>\n      <td>0.000000</td>\n      <td>8.0</td>\n      <td>0.1290</td>\n      <td>-5.652</td>\n      <td>0.0</td>\n      <td>92.0</td>\n      <td>0.2180</td>\n      <td>122.031</td>\n      <td>0.664</td>\n      <td>2019.0</td>\n      <td>2.0</td>\n    </tr>\n    <tr>\n      <th>5</th>\n      <td>'KAROL G'</td>\n      <td>'Nicki Minaj'</td>\n      <td>87909.0</td>\n      <td>0.29500</td>\n      <td>0.803</td>\n      <td>200960.0</td>\n      <td>0.715</td>\n      <td>0.0</td>\n      <td>0.000134</td>\n      <td>2.0</td>\n      <td>0.0574</td>\n      <td>-3.280</td>\n      <td>1.0</td>\n      <td>92.0</td>\n      <td>0.2980</td>\n      <td>101.085</td>\n      <td>0.574</td>\n      <td>2019.0</td>\n      <td>2.0</td>\n    </tr>\n    <tr>\n      <th>6</th>\n      <td>'Marshmello'</td>\n      <td>'Halsey'</td>\n      <td>87957.0</td>\n      <td>0.00776</td>\n      <td>0.630</td>\n      <td>172762.0</td>\n      <td>0.633</td>\n      <td>0.0</td>\n      <td>0.000000</td>\n      <td>4.0</td>\n      <td>0.0541</td>\n      <td>-7.088</td>\n      <td>1.0</td>\n      <td>91.0</td>\n      <td>0.0457</td>\n      <td>93.995</td>\n      <td>0.452</td>\n      <td>2020.0</td>\n      <td>2.0</td>\n    </tr>\n    <tr>\n      <th>7</th>\n      <td>'Lady Gaga'</td>\n      <td>'Ariana Grande'</td>\n      <td>87993.5</td>\n      <td>0.02100</td>\n      <td>0.672</td>\n      <td>182200.0</td>\n      <td>0.855</td>\n      <td>0.0</td>\n      <td>0.000000</td>\n      <td>9.0</td>\n      <td>0.3230</td>\n      <td>-3.764</td>\n      <td>1.0</td>\n      <td>90.5</td>\n      <td>0.0397</td>\n      <td>123.056</td>\n      <td>0.646</td>\n      <td>2020.0</td>\n      <td>2.0</td>\n    </tr>\n    <tr>\n      <th>8</th>\n      <td>'ROSALÍA'</td>\n      <td>'Travis Scott'</td>\n      <td>87989.0</td>\n      <td>0.19200</td>\n      <td>0.776</td>\n      <td>129371.0</td>\n      <td>0.509</td>\n      <td>0.0</td>\n      <td>0.000001</td>\n      <td>0.0</td>\n      <td>0.1150</td>\n      <td>-6.266</td>\n      <td>0.0</td>\n      <td>90.0</td>\n      <td>0.4670</td>\n      <td>94.634</td>\n      <td>0.485</td>\n      <td>2020.0</td>\n      <td>2.0</td>\n    </tr>\n    <tr>\n      <th>9</th>\n      <td>'Billie Eilish'</td>\n      <td>'Khalid'</td>\n      <td>87747.0</td>\n      <td>0.93400</td>\n      <td>0.351</td>\n      <td>200186.0</td>\n      <td>0.296</td>\n      <td>0.0</td>\n      <td>0.000000</td>\n      <td>4.0</td>\n      <td>0.0950</td>\n      <td>-10.109</td>\n      <td>0.0</td>\n      <td>89.0</td>\n      <td>0.0333</td>\n      <td>115.284</td>\n      <td>0.120</td>\n      <td>2018.0</td>\n      <td>2.0</td>\n    </tr>\n  </tbody>\n</table>\n</div>"
     },
     "metadata": {},
     "execution_count": 37
    }
   ],
   "source": [
    "# Créer une nouvelle dataframe qui calcule les moyennes des variables d'une paire d'artistes et les ordonnes par leur popularité ascendante \n",
    "# pour n'en prendre que les 10 premiers\n",
    "\n",
    "duo1 = duo.groupby(['artist1','artist2']).mean().sort_values(by='popularity',ascending=False).head(10).reset_index()\n",
    "duo1"
   ]
  },
  {
   "cell_type": "code",
   "execution_count": 38,
   "metadata": {},
   "outputs": [],
   "source": [
    "from bokeh.palettes import Magma10\n",
    "from bokeh.transform import factor_cmap"
   ]
  },
  {
   "cell_type": "code",
   "execution_count": 39,
   "metadata": {},
   "outputs": [],
   "source": [
    "# Créer une ColumnDataSource avec la nouvelle dataframe\n",
    "src2 = ColumnDataSource(data=duo1)"
   ]
  },
  {
   "cell_type": "code",
   "execution_count": 40,
   "metadata": {},
   "outputs": [
    {
     "output_type": "execute_result",
     "data": {
      "text/plain": [
       "[\" 'Powfu'\",\n",
       " \" 'BENEE'\",\n",
       " \" 'Surf Mesa'\",\n",
       " \" 'Ariana Grande'\",\n",
       " \" 'Topic'\",\n",
       " \" 'KAROL G'\",\n",
       " \" 'Marshmello'\",\n",
       " \" 'Lady Gaga'\",\n",
       " \" 'ROSALÍA'\",\n",
       " \" 'Billie Eilish'\"]"
      ]
     },
     "metadata": {},
     "execution_count": 40
    }
   ],
   "source": [
    "# Créer une liste contenant la liste des premiers artistes des duos\n",
    "lst1 = duo1['artist1'].to_list()\n",
    "lst1"
   ]
  },
  {
   "cell_type": "code",
   "execution_count": 41,
   "metadata": {},
   "outputs": [],
   "source": [
    "# Créer une figure en indiquant que l'axe x aura une liste de valeur qui est la liste des artistes créée, penser à utiliser l'argument x_range\n",
    "\n",
    "f3 = figure(plot_width=800 , plot_height = 500 , x_range=lst1 , y_range=(0,100))"
   ]
  },
  {
   "cell_type": "code",
   "execution_count": 42,
   "metadata": {},
   "outputs": [
    {
     "output_type": "execute_result",
     "data": {
      "text/plain": [
       "GlyphRenderer(id='2016', ...)"
      ],
      "text/html": "<div style=\"display: table;\"><div style=\"display: table-row;\"><div style=\"display: table-cell;\"><b title=\"bokeh.models.renderers.GlyphRenderer\">GlyphRenderer</b>(</div><div style=\"display: table-cell;\">id&nbsp;=&nbsp;'2016', <span id=\"2019\" style=\"cursor: pointer;\">&hellip;)</span></div></div><div class=\"2018\" style=\"display: none;\"><div style=\"display: table-cell;\"></div><div style=\"display: table-cell;\">data_source&nbsp;=&nbsp;ColumnDataSource(id='1982', ...),</div></div><div class=\"2018\" style=\"display: none;\"><div style=\"display: table-cell;\"></div><div style=\"display: table-cell;\">glyph&nbsp;=&nbsp;VBar(id='2014', ...),</div></div><div class=\"2018\" style=\"display: none;\"><div style=\"display: table-cell;\"></div><div style=\"display: table-cell;\">hover_glyph&nbsp;=&nbsp;None,</div></div><div class=\"2018\" style=\"display: none;\"><div style=\"display: table-cell;\"></div><div style=\"display: table-cell;\">js_event_callbacks&nbsp;=&nbsp;{},</div></div><div class=\"2018\" style=\"display: none;\"><div style=\"display: table-cell;\"></div><div style=\"display: table-cell;\">js_property_callbacks&nbsp;=&nbsp;{},</div></div><div class=\"2018\" style=\"display: none;\"><div style=\"display: table-cell;\"></div><div style=\"display: table-cell;\">level&nbsp;=&nbsp;'glyph',</div></div><div class=\"2018\" style=\"display: none;\"><div style=\"display: table-cell;\"></div><div style=\"display: table-cell;\">muted&nbsp;=&nbsp;False,</div></div><div class=\"2018\" style=\"display: none;\"><div style=\"display: table-cell;\"></div><div style=\"display: table-cell;\">muted_glyph&nbsp;=&nbsp;None,</div></div><div class=\"2018\" style=\"display: none;\"><div style=\"display: table-cell;\"></div><div style=\"display: table-cell;\">name&nbsp;=&nbsp;None,</div></div><div class=\"2018\" style=\"display: none;\"><div style=\"display: table-cell;\"></div><div style=\"display: table-cell;\">nonselection_glyph&nbsp;=&nbsp;VBar(id='2015', ...),</div></div><div class=\"2018\" style=\"display: none;\"><div style=\"display: table-cell;\"></div><div style=\"display: table-cell;\">selection_glyph&nbsp;=&nbsp;None,</div></div><div class=\"2018\" style=\"display: none;\"><div style=\"display: table-cell;\"></div><div style=\"display: table-cell;\">subscribed_events&nbsp;=&nbsp;[],</div></div><div class=\"2018\" style=\"display: none;\"><div style=\"display: table-cell;\"></div><div style=\"display: table-cell;\">tags&nbsp;=&nbsp;[],</div></div><div class=\"2018\" style=\"display: none;\"><div style=\"display: table-cell;\"></div><div style=\"display: table-cell;\">view&nbsp;=&nbsp;CDSView(id='2017', ...),</div></div><div class=\"2018\" style=\"display: none;\"><div style=\"display: table-cell;\"></div><div style=\"display: table-cell;\">visible&nbsp;=&nbsp;True,</div></div><div class=\"2018\" style=\"display: none;\"><div style=\"display: table-cell;\"></div><div style=\"display: table-cell;\">x_range_name&nbsp;=&nbsp;'default',</div></div><div class=\"2018\" style=\"display: none;\"><div style=\"display: table-cell;\"></div><div style=\"display: table-cell;\">y_range_name&nbsp;=&nbsp;'default')</div></div></div>\n<script>\n(function() {\n  var expanded = false;\n  var ellipsis = document.getElementById(\"2019\");\n  ellipsis.addEventListener(\"click\", function() {\n    var rows = document.getElementsByClassName(\"2018\");\n    for (var i = 0; i < rows.length; i++) {\n      var el = rows[i];\n      el.style.display = expanded ? \"none\" : \"table-row\";\n    }\n    ellipsis.innerHTML = expanded ? \"&hellip;)\" : \"&lsaquo;&lsaquo;&lsaquo;\";\n    expanded = !expanded;\n  });\n})();\n</script>\n"
     },
     "metadata": {},
     "execution_count": 42
    }
   ],
   "source": [
    "# Créer un graphe à barres verticales avec les premiers artistes dans l'axe x et popularity comme valeur, \n",
    "# changer les couleurs des barres en fonction des valeurs catégoriques en utilisant l'argument fill_color et la fonction factor_map\n",
    "\n",
    "f3.vbar(x='artist1',top='popularity',source = src2 , width = 0.2 , fill_color = 'red') \n"
   ]
  },
  {
   "cell_type": "code",
   "execution_count": 43,
   "metadata": {},
   "outputs": [
    {
     "output_type": "display_data",
     "data": {
      "text/html": "\n\n\n\n\n\n  <div class=\"bk-root\" id=\"b75478e6-089b-4419-92f3-5c406a212c0b\" data-root-id=\"1983\"></div>\n"
     },
     "metadata": {}
    },
    {
     "output_type": "display_data",
     "data": {
      "application/javascript": "(function(root) {\n  function embed_document(root) {\n    \n  var docs_json = {\"09f8476f-3423-466c-8a67-8d460f86f370\":{\"roots\":{\"references\":[{\"attributes\":{\"below\":[{\"id\":\"1992\"}],\"center\":[{\"id\":\"1994\"},{\"id\":\"1998\"}],\"left\":[{\"id\":\"1995\"}],\"plot_height\":500,\"plot_width\":800,\"renderers\":[{\"id\":\"2016\"}],\"title\":{\"id\":\"2091\"},\"toolbar\":{\"id\":\"2006\"},\"x_range\":{\"id\":\"1984\"},\"x_scale\":{\"id\":\"1988\"},\"y_range\":{\"id\":\"1986\"},\"y_scale\":{\"id\":\"1990\"}},\"id\":\"1983\",\"subtype\":\"Figure\",\"type\":\"Plot\"},{\"attributes\":{},\"id\":\"1996\",\"type\":\"BasicTicker\"},{\"attributes\":{\"axis\":{\"id\":\"1992\"},\"ticker\":null},\"id\":\"1994\",\"type\":\"Grid\"},{\"attributes\":{},\"id\":\"2097\",\"type\":\"UnionRenderers\"},{\"attributes\":{\"formatter\":{\"id\":\"2093\"},\"ticker\":{\"id\":\"1996\"}},\"id\":\"1995\",\"type\":\"LinearAxis\"},{\"attributes\":{},\"id\":\"2004\",\"type\":\"HelpTool\"},{\"attributes\":{\"end\":100},\"id\":\"1986\",\"type\":\"Range1d\"},{\"attributes\":{},\"id\":\"2093\",\"type\":\"BasicTickFormatter\"},{\"attributes\":{},\"id\":\"1993\",\"type\":\"CategoricalTicker\"},{\"attributes\":{\"source\":{\"id\":\"1982\"}},\"id\":\"2017\",\"type\":\"CDSView\"},{\"attributes\":{\"formatter\":{\"id\":\"2095\"},\"ticker\":{\"id\":\"1993\"}},\"id\":\"1992\",\"type\":\"CategoricalAxis\"},{\"attributes\":{\"overlay\":{\"id\":\"2005\"}},\"id\":\"2001\",\"type\":\"BoxZoomTool\"},{\"attributes\":{\"text\":\"\"},\"id\":\"2091\",\"type\":\"Title\"},{\"attributes\":{},\"id\":\"2000\",\"type\":\"WheelZoomTool\"},{\"attributes\":{},\"id\":\"2002\",\"type\":\"SaveTool\"},{\"attributes\":{\"factors\":[\" 'Powfu'\",\" 'BENEE'\",\" 'Surf Mesa'\",\" 'Ariana Grande'\",\" 'Topic'\",\" 'KAROL G'\",\" 'Marshmello'\",\" 'Lady Gaga'\",\" 'ROSAL\\u00cdA'\",\" 'Billie Eilish'\"]},\"id\":\"1984\",\"type\":\"FactorRange\"},{\"attributes\":{\"fill_alpha\":{\"value\":0.1},\"fill_color\":{\"value\":\"red\"},\"line_alpha\":{\"value\":0.1},\"line_color\":{\"value\":\"#1f77b4\"},\"top\":{\"field\":\"popularity\"},\"width\":{\"value\":0.2},\"x\":{\"field\":\"artist1\"}},\"id\":\"2015\",\"type\":\"VBar\"},{\"attributes\":{},\"id\":\"1990\",\"type\":\"LinearScale\"},{\"attributes\":{},\"id\":\"1999\",\"type\":\"PanTool\"},{\"attributes\":{},\"id\":\"1988\",\"type\":\"CategoricalScale\"},{\"attributes\":{\"data_source\":{\"id\":\"1982\"},\"glyph\":{\"id\":\"2014\"},\"hover_glyph\":null,\"muted_glyph\":null,\"nonselection_glyph\":{\"id\":\"2015\"},\"selection_glyph\":null,\"view\":{\"id\":\"2017\"}},\"id\":\"2016\",\"type\":\"GlyphRenderer\"},{\"attributes\":{},\"id\":\"2003\",\"type\":\"ResetTool\"},{\"attributes\":{\"active_drag\":\"auto\",\"active_inspect\":\"auto\",\"active_multi\":null,\"active_scroll\":\"auto\",\"active_tap\":\"auto\",\"tools\":[{\"id\":\"1999\"},{\"id\":\"2000\"},{\"id\":\"2001\"},{\"id\":\"2002\"},{\"id\":\"2003\"},{\"id\":\"2004\"}]},\"id\":\"2006\",\"type\":\"Toolbar\"},{\"attributes\":{},\"id\":\"2095\",\"type\":\"CategoricalTickFormatter\"},{\"attributes\":{\"data\":{\"Unnamed: 0\":{\"__ndarray__\":\"AAAAANB49UAAAAAAQHL1QAAAAADAcvVAAAAAABB59UAAAAAAIHX1QAAAAABQdvVAAAAAAFB59UAAAAAAmHv1QAAAAABQe/VAAAAAADBs9UA=\",\"dtype\":\"float64\",\"order\":\"little\",\"shape\":[10]},\"acousticness\":{\"__ndarray__\":\"MQisHFpk5z+F61G4HoXTPwBvgQTFj7E/JQaBlUOLzD8lBoGVQ4vMP+F6FK5H4dI/C6t4I/PIfz8bL90kBoGVP/p+arx0k8g/F9nO91Pj7T8=\",\"dtype\":\"float64\",\"order\":\"little\",\"shape\":[10]},\"artist1\":[\" 'Powfu'\",\" 'BENEE'\",\" 'Surf Mesa'\",\" 'Ariana Grande'\",\" 'Topic'\",\" 'KAROL G'\",\" 'Marshmello'\",\" 'Lady Gaga'\",\" 'ROSAL\\u00cdA'\",\" 'Billie Eilish'\"],\"artist2\":[\" 'beabadoobee' \",\" 'Gus Dapperton' \",\" 'Emilee' \",\" 'Justin Bieber' \",\" 'A7S' \",\" 'Nicki Minaj' \",\" 'Halsey' \",\" 'Ariana Grande' \",\" 'Travis Scott' \",\" 'Khalid' \"],\"danceability\":{\"__ndarray__\":\"CKwcWmQ75z8EVg4tsp3rP8UgsHJokeU/tMh2vp8a4z9zaJHtfD/pPxgEVg4tsuk/KVyPwvUo5D8bL90kBoHlP6FFtvP91Og/EVg5tMh21j8=\",\"dtype\":\"float64\",\"order\":\"little\",\"shape\":[10]},\"duration_ms\":{\"__ndarray__\":\"AAAAAKgoBUEAAAAAwEcLQQAAAAAYjQVBAAAAABDkC0EAAAAAUFwEQQAAAAAAiAhBAAAAANAWBUEAAAAAwD0GQQAAAACwlf9AAAAAANBvCEE=\",\"dtype\":\"float64\",\"order\":\"little\",\"shape\":[10]},\"energy\":{\"__ndarray__\":\"L90kBoGV2z/+1HjpJjHkP/hT46WbxOg/zczMzMzM3D8K16NwPQrnP+F6FK5H4eY/qMZLN4lB5D9cj8L1KFzrP30/NV66SeA/jGzn+6nx0j8=\",\"dtype\":\"float64\",\"order\":\"little\",\"shape\":[10]},\"explicit\":{\"__ndarray__\":\"AAAAAAAAAAAAAAAAAADwPwAAAAAAAAAAAAAAAAAAAAAAAAAAAAAAAAAAAAAAAAAAAAAAAAAAAAAAAAAAAAAAAAAAAAAAAAAAAAAAAAAAAAA=\",\"dtype\":\"float64\",\"order\":\"little\",\"shape\":[10]},\"index\":[0,1,2,3,4,5,6,7,8,9],\"instrumentalness\":{\"__ndarray__\":\"AAAAAAAAAAAmEMAXcOD/PiECDqFKzV4/AAAAAAAAAAAAAAAAAAAAALB0PjxLkCE/AAAAAAAAAAAAAAAAAAAAADuDTFOA/7g+AAAAAAAAAAA=\",\"dtype\":\"float64\",\"order\":\"little\",\"shape\":[10]},\"key\":{\"__ndarray__\":\"AAAAAAAAIEAAAAAAAAAcQAAAAAAAACZAAAAAAAAAIEAAAAAAAAAgQAAAAAAAAABAAAAAAAAAEEAAAAAAAAAiQAAAAAAAAAAAAAAAAAAAEEA=\",\"dtype\":\"float64\",\"order\":\"little\",\"shape\":[10]},\"liveness\":{\"__ndarray__\":\"EoPAyqFF5j+wcmiR7Xy/P/T91HjpJtk/ppvEILBy2D9QjZduEoPAP0+vlGWIY60/+1xtxf6yqz946SYxCKzUP3E9CtejcL0/UrgehetRuD8=\",\"dtype\":\"float64\",\"order\":\"little\",\"shape\":[10]},\"loudness\":{\"__ndarray__\":\"SOF6FK6HIcCoxks3icESwPhT46WbRB7AbxKDwMqhGsDP91PjpZsWwD0K16NwPQrAJjEIrBxaHMDpJjEIrBwOwKrx0k1iEBnAK4cW2c43JMA=\",\"dtype\":\"float64\",\"order\":\"little\",\"shape\":[10]},\"mode\":{\"__ndarray__\":\"AAAAAAAAAAAAAAAAAADwPwAAAAAAAAAAAAAAAAAA8D8AAAAAAAAAAAAAAAAAAPA/AAAAAAAA8D8AAAAAAADwPwAAAAAAAAAAAAAAAAAAAAA=\",\"dtype\":\"float64\",\"order\":\"little\",\"shape\":[10]},\"nombre_artistes\":{\"__ndarray__\":\"AAAAAAAAAEAAAAAAAAAAQAAAAAAAAABAAAAAAAAAAEAAAAAAAAAAQAAAAAAAAABAAAAAAAAAAEAAAAAAAAAAQAAAAAAAAABAAAAAAAAAAEA=\",\"dtype\":\"float64\",\"order\":\"little\",\"shape\":[10]},\"popularity\":{\"__ndarray__\":\"AAAAAABAWEAAAAAAAMBXQAAAAAAAwFdAAAAAAACAV0AAAAAAAABXQAAAAAAAAFdAAAAAAADAVkAAAAAAAKBWQAAAAAAAgFZAAAAAAABAVkA=\",\"dtype\":\"float64\",\"order\":\"little\",\"shape\":[10]},\"speechiness\":{\"__ndarray__\":\"SOF6FK5HwT8QejarPlerP4SezarP1bY/1xLyQc9mpT+BlUOLbOfLP99PjZduEtM/9bnaiv1lpz8Wak3zjlOkPxfZzvdT490/seHplbIMoT8=\",\"dtype\":\"float64\",\"order\":\"little\",\"shape\":[10]},\"tempo\":{\"__ndarray__\":\"Rrbz/dQAYkAlBoGVQx9gQDMzMzMzA1xAFK5H4XpYZkBEi2zn+4FeQD0K16NwRVlASOF6FK5/V0DdJAaBlcNeQH9qvHSTqFdAGQRWDi3SXEA=\",\"dtype\":\"float64\",\"order\":\"little\",\"shape\":[10]},\"valence\":{\"__ndarray__\":\"EoPAyqFF1j+/nxov3STqPx+F61G4HtU/yXa+nxov4T9zaJHtfD/lP5HtfD81XuI/IbByaJHt3D946SYxCKzkPwrXo3A9Ct8/uB6F61G4vj8=\",\"dtype\":\"float64\",\"order\":\"little\",\"shape\":[10]},\"year\":{\"__ndarray__\":\"AAAAAACQn0AAAAAAAIyfQAAAAAAAjJ9AAAAAAACQn0AAAAAAAIyfQAAAAAAAjJ9AAAAAAACQn0AAAAAAAJCfQAAAAAAAkJ9AAAAAAACIn0A=\",\"dtype\":\"float64\",\"order\":\"little\",\"shape\":[10]}},\"selected\":{\"id\":\"2096\"},\"selection_policy\":{\"id\":\"2097\"}},\"id\":\"1982\",\"type\":\"ColumnDataSource\"},{\"attributes\":{\"bottom_units\":\"screen\",\"fill_alpha\":0.5,\"fill_color\":\"lightgrey\",\"left_units\":\"screen\",\"level\":\"overlay\",\"line_alpha\":1.0,\"line_color\":\"black\",\"line_dash\":[4,4],\"line_width\":2,\"right_units\":\"screen\",\"top_units\":\"screen\"},\"id\":\"2005\",\"type\":\"BoxAnnotation\"},{\"attributes\":{},\"id\":\"2096\",\"type\":\"Selection\"},{\"attributes\":{\"axis\":{\"id\":\"1995\"},\"dimension\":1,\"ticker\":null},\"id\":\"1998\",\"type\":\"Grid\"},{\"attributes\":{\"fill_color\":{\"value\":\"red\"},\"line_color\":{\"value\":\"#1f77b4\"},\"top\":{\"field\":\"popularity\"},\"width\":{\"value\":0.2},\"x\":{\"field\":\"artist1\"}},\"id\":\"2014\",\"type\":\"VBar\"}],\"root_ids\":[\"1983\"]},\"title\":\"Bokeh Application\",\"version\":\"2.2.3\"}};\n  var render_items = [{\"docid\":\"09f8476f-3423-466c-8a67-8d460f86f370\",\"root_ids\":[\"1983\"],\"roots\":{\"1983\":\"b75478e6-089b-4419-92f3-5c406a212c0b\"}}];\n  root.Bokeh.embed.embed_items_notebook(docs_json, render_items);\n\n  }\n  if (root.Bokeh !== undefined) {\n    embed_document(root);\n  } else {\n    var attempts = 0;\n    var timer = setInterval(function(root) {\n      if (root.Bokeh !== undefined) {\n        clearInterval(timer);\n        embed_document(root);\n      } else {\n        attempts++;\n        if (attempts > 100) {\n          clearInterval(timer);\n          console.log(\"Bokeh: ERROR: Unable to run BokehJS code because BokehJS library is missing\");\n        }\n      }\n    }, 10, root)\n  }\n})(window);",
      "application/vnd.bokehjs_exec.v0+json": ""
     },
     "metadata": {
      "application/vnd.bokehjs_exec.v0+json": {
       "id": "1983"
      }
     }
    }
   ],
   "source": [
    "# Afficher votre graphe\n",
    "show(f3)\n"
   ]
  },
  {
   "cell_type": "markdown",
   "metadata": {},
   "source": [
    "<br> Vous pouvez faire de même pour les données catégoriques clé (Key) pour voir la popularité des pistes selon ces clé."
   ]
  },
  {
   "cell_type": "code",
   "execution_count": 44,
   "metadata": {},
   "outputs": [
    {
     "output_type": "execute_result",
     "data": {
      "text/plain": [
       "   key    Unnamed: 0  acousticness  danceability    duration_ms    energy  \\\n",
       "0    1  87426.474762      0.543890      0.562206  241639.945714  0.438289   \n",
       "1   11  87465.326516      0.543052      0.572855  239214.592403  0.454701   \n",
       "2    6  89223.214112      0.569309      0.560155  231319.800487  0.433052   \n",
       "3    8  87577.199652      0.640557      0.538350  226517.167150  0.391189   \n",
       "4    9  87486.878495      0.637975      0.529978  227626.589222  0.405092   \n",
       "5    0  85411.133602      0.657800      0.518009  234763.976574  0.380931   \n",
       "6    7  87663.227273      0.663794      0.532006  218939.658167  0.386514   \n",
       "7   10  85182.827703      0.671488      0.523590  225722.613739  0.366294   \n",
       "8    2  87007.637390      0.660029      0.525190  235814.299456  0.389562   \n",
       "9    4  88716.611331      0.679931      0.519865  229563.203557  0.370779   \n",
       "\n",
       "   explicit  instrumentalness  liveness   loudness      mode  popularity  \\\n",
       "0  0.258095          0.256607  0.201272 -12.419309  0.734762   31.723333   \n",
       "1  0.193572          0.243227  0.209785 -12.099841  0.494522   30.157049   \n",
       "2  0.197080          0.254840  0.202450 -12.352699  0.589619   28.948905   \n",
       "3  0.142774          0.272404  0.189148 -13.250322  0.782937   26.666280   \n",
       "4  0.096085          0.252472  0.205294 -12.867029  0.614642   26.118454   \n",
       "5  0.085652          0.278679  0.205013 -13.343829  0.756589   25.439239   \n",
       "6  0.097931          0.296794  0.207112 -13.582700  0.755358   25.280118   \n",
       "7  0.121059          0.274889  0.191885 -13.847101  0.630068   24.398086   \n",
       "8  0.085320          0.278867  0.201386 -13.182438  0.728984   24.156420   \n",
       "9  0.099473          0.310352  0.214088 -13.808576  0.521080   23.322134   \n",
       "\n",
       "   speechiness       tempo   valence         year  nombre_artistes  \n",
       "0     0.138620  112.987020  0.460681  1978.257619              2.0  \n",
       "1     0.133177  113.492141  0.508640  1976.704164              2.0  \n",
       "2     0.140770  109.271763  0.497298  1974.880779              2.0  \n",
       "3     0.101257  111.599367  0.483602  1971.200813              2.0  \n",
       "4     0.098335  113.768781  0.506639  1971.105236              2.0  \n",
       "5     0.086394  113.870768  0.494745  1970.490117              2.0  \n",
       "6     0.091825  113.484533  0.520130  1969.323356              2.0  \n",
       "7     0.102633  111.038916  0.490427  1968.489302              2.0  \n",
       "8     0.098398  113.964494  0.507619  1968.744458              2.0  \n",
       "9     0.107236  110.833673  0.464930  1967.729249              2.0  "
      ],
      "text/html": "<div>\n<style scoped>\n    .dataframe tbody tr th:only-of-type {\n        vertical-align: middle;\n    }\n\n    .dataframe tbody tr th {\n        vertical-align: top;\n    }\n\n    .dataframe thead th {\n        text-align: right;\n    }\n</style>\n<table border=\"1\" class=\"dataframe\">\n  <thead>\n    <tr style=\"text-align: right;\">\n      <th></th>\n      <th>key</th>\n      <th>Unnamed: 0</th>\n      <th>acousticness</th>\n      <th>danceability</th>\n      <th>duration_ms</th>\n      <th>energy</th>\n      <th>explicit</th>\n      <th>instrumentalness</th>\n      <th>liveness</th>\n      <th>loudness</th>\n      <th>mode</th>\n      <th>popularity</th>\n      <th>speechiness</th>\n      <th>tempo</th>\n      <th>valence</th>\n      <th>year</th>\n      <th>nombre_artistes</th>\n    </tr>\n  </thead>\n  <tbody>\n    <tr>\n      <th>0</th>\n      <td>1</td>\n      <td>87426.474762</td>\n      <td>0.543890</td>\n      <td>0.562206</td>\n      <td>241639.945714</td>\n      <td>0.438289</td>\n      <td>0.258095</td>\n      <td>0.256607</td>\n      <td>0.201272</td>\n      <td>-12.419309</td>\n      <td>0.734762</td>\n      <td>31.723333</td>\n      <td>0.138620</td>\n      <td>112.987020</td>\n      <td>0.460681</td>\n      <td>1978.257619</td>\n      <td>2.0</td>\n    </tr>\n    <tr>\n      <th>1</th>\n      <td>11</td>\n      <td>87465.326516</td>\n      <td>0.543052</td>\n      <td>0.572855</td>\n      <td>239214.592403</td>\n      <td>0.454701</td>\n      <td>0.193572</td>\n      <td>0.243227</td>\n      <td>0.209785</td>\n      <td>-12.099841</td>\n      <td>0.494522</td>\n      <td>30.157049</td>\n      <td>0.133177</td>\n      <td>113.492141</td>\n      <td>0.508640</td>\n      <td>1976.704164</td>\n      <td>2.0</td>\n    </tr>\n    <tr>\n      <th>2</th>\n      <td>6</td>\n      <td>89223.214112</td>\n      <td>0.569309</td>\n      <td>0.560155</td>\n      <td>231319.800487</td>\n      <td>0.433052</td>\n      <td>0.197080</td>\n      <td>0.254840</td>\n      <td>0.202450</td>\n      <td>-12.352699</td>\n      <td>0.589619</td>\n      <td>28.948905</td>\n      <td>0.140770</td>\n      <td>109.271763</td>\n      <td>0.497298</td>\n      <td>1974.880779</td>\n      <td>2.0</td>\n    </tr>\n    <tr>\n      <th>3</th>\n      <td>8</td>\n      <td>87577.199652</td>\n      <td>0.640557</td>\n      <td>0.538350</td>\n      <td>226517.167150</td>\n      <td>0.391189</td>\n      <td>0.142774</td>\n      <td>0.272404</td>\n      <td>0.189148</td>\n      <td>-13.250322</td>\n      <td>0.782937</td>\n      <td>26.666280</td>\n      <td>0.101257</td>\n      <td>111.599367</td>\n      <td>0.483602</td>\n      <td>1971.200813</td>\n      <td>2.0</td>\n    </tr>\n    <tr>\n      <th>4</th>\n      <td>9</td>\n      <td>87486.878495</td>\n      <td>0.637975</td>\n      <td>0.529978</td>\n      <td>227626.589222</td>\n      <td>0.405092</td>\n      <td>0.096085</td>\n      <td>0.252472</td>\n      <td>0.205294</td>\n      <td>-12.867029</td>\n      <td>0.614642</td>\n      <td>26.118454</td>\n      <td>0.098335</td>\n      <td>113.768781</td>\n      <td>0.506639</td>\n      <td>1971.105236</td>\n      <td>2.0</td>\n    </tr>\n    <tr>\n      <th>5</th>\n      <td>0</td>\n      <td>85411.133602</td>\n      <td>0.657800</td>\n      <td>0.518009</td>\n      <td>234763.976574</td>\n      <td>0.380931</td>\n      <td>0.085652</td>\n      <td>0.278679</td>\n      <td>0.205013</td>\n      <td>-13.343829</td>\n      <td>0.756589</td>\n      <td>25.439239</td>\n      <td>0.086394</td>\n      <td>113.870768</td>\n      <td>0.494745</td>\n      <td>1970.490117</td>\n      <td>2.0</td>\n    </tr>\n    <tr>\n      <th>6</th>\n      <td>7</td>\n      <td>87663.227273</td>\n      <td>0.663794</td>\n      <td>0.532006</td>\n      <td>218939.658167</td>\n      <td>0.386514</td>\n      <td>0.097931</td>\n      <td>0.296794</td>\n      <td>0.207112</td>\n      <td>-13.582700</td>\n      <td>0.755358</td>\n      <td>25.280118</td>\n      <td>0.091825</td>\n      <td>113.484533</td>\n      <td>0.520130</td>\n      <td>1969.323356</td>\n      <td>2.0</td>\n    </tr>\n    <tr>\n      <th>7</th>\n      <td>10</td>\n      <td>85182.827703</td>\n      <td>0.671488</td>\n      <td>0.523590</td>\n      <td>225722.613739</td>\n      <td>0.366294</td>\n      <td>0.121059</td>\n      <td>0.274889</td>\n      <td>0.191885</td>\n      <td>-13.847101</td>\n      <td>0.630068</td>\n      <td>24.398086</td>\n      <td>0.102633</td>\n      <td>111.038916</td>\n      <td>0.490427</td>\n      <td>1968.489302</td>\n      <td>2.0</td>\n    </tr>\n    <tr>\n      <th>8</th>\n      <td>2</td>\n      <td>87007.637390</td>\n      <td>0.660029</td>\n      <td>0.525190</td>\n      <td>235814.299456</td>\n      <td>0.389562</td>\n      <td>0.085320</td>\n      <td>0.278867</td>\n      <td>0.201386</td>\n      <td>-13.182438</td>\n      <td>0.728984</td>\n      <td>24.156420</td>\n      <td>0.098398</td>\n      <td>113.964494</td>\n      <td>0.507619</td>\n      <td>1968.744458</td>\n      <td>2.0</td>\n    </tr>\n    <tr>\n      <th>9</th>\n      <td>4</td>\n      <td>88716.611331</td>\n      <td>0.679931</td>\n      <td>0.519865</td>\n      <td>229563.203557</td>\n      <td>0.370779</td>\n      <td>0.099473</td>\n      <td>0.310352</td>\n      <td>0.214088</td>\n      <td>-13.808576</td>\n      <td>0.521080</td>\n      <td>23.322134</td>\n      <td>0.107236</td>\n      <td>110.833673</td>\n      <td>0.464930</td>\n      <td>1967.729249</td>\n      <td>2.0</td>\n    </tr>\n  </tbody>\n</table>\n</div>"
     },
     "metadata": {},
     "execution_count": 44
    }
   ],
   "source": [
    "duo2 = duo.groupby(['key']).mean().sort_values(by='popularity',ascending=False).head(10).reset_index()\n",
    "duo2"
   ]
  },
  {
   "cell_type": "code",
   "execution_count": 45,
   "metadata": {},
   "outputs": [],
   "source": [
    "src3 = ColumnDataSource(data=duo2)"
   ]
  },
  {
   "cell_type": "code",
   "execution_count": 46,
   "metadata": {},
   "outputs": [
    {
     "output_type": "execute_result",
     "data": {
      "text/plain": [
       "GlyphRenderer(id='2179', ...)"
      ],
      "text/html": "<div style=\"display: table;\"><div style=\"display: table-row;\"><div style=\"display: table-cell;\"><b title=\"bokeh.models.renderers.GlyphRenderer\">GlyphRenderer</b>(</div><div style=\"display: table-cell;\">id&nbsp;=&nbsp;'2179', <span id=\"2182\" style=\"cursor: pointer;\">&hellip;)</span></div></div><div class=\"2181\" style=\"display: none;\"><div style=\"display: table-cell;\"></div><div style=\"display: table-cell;\">data_source&nbsp;=&nbsp;ColumnDataSource(id='2144', ...),</div></div><div class=\"2181\" style=\"display: none;\"><div style=\"display: table-cell;\"></div><div style=\"display: table-cell;\">glyph&nbsp;=&nbsp;VBar(id='2177', ...),</div></div><div class=\"2181\" style=\"display: none;\"><div style=\"display: table-cell;\"></div><div style=\"display: table-cell;\">hover_glyph&nbsp;=&nbsp;None,</div></div><div class=\"2181\" style=\"display: none;\"><div style=\"display: table-cell;\"></div><div style=\"display: table-cell;\">js_event_callbacks&nbsp;=&nbsp;{},</div></div><div class=\"2181\" style=\"display: none;\"><div style=\"display: table-cell;\"></div><div style=\"display: table-cell;\">js_property_callbacks&nbsp;=&nbsp;{},</div></div><div class=\"2181\" style=\"display: none;\"><div style=\"display: table-cell;\"></div><div style=\"display: table-cell;\">level&nbsp;=&nbsp;'glyph',</div></div><div class=\"2181\" style=\"display: none;\"><div style=\"display: table-cell;\"></div><div style=\"display: table-cell;\">muted&nbsp;=&nbsp;False,</div></div><div class=\"2181\" style=\"display: none;\"><div style=\"display: table-cell;\"></div><div style=\"display: table-cell;\">muted_glyph&nbsp;=&nbsp;None,</div></div><div class=\"2181\" style=\"display: none;\"><div style=\"display: table-cell;\"></div><div style=\"display: table-cell;\">name&nbsp;=&nbsp;None,</div></div><div class=\"2181\" style=\"display: none;\"><div style=\"display: table-cell;\"></div><div style=\"display: table-cell;\">nonselection_glyph&nbsp;=&nbsp;VBar(id='2178', ...),</div></div><div class=\"2181\" style=\"display: none;\"><div style=\"display: table-cell;\"></div><div style=\"display: table-cell;\">selection_glyph&nbsp;=&nbsp;None,</div></div><div class=\"2181\" style=\"display: none;\"><div style=\"display: table-cell;\"></div><div style=\"display: table-cell;\">subscribed_events&nbsp;=&nbsp;[],</div></div><div class=\"2181\" style=\"display: none;\"><div style=\"display: table-cell;\"></div><div style=\"display: table-cell;\">tags&nbsp;=&nbsp;[],</div></div><div class=\"2181\" style=\"display: none;\"><div style=\"display: table-cell;\"></div><div style=\"display: table-cell;\">view&nbsp;=&nbsp;CDSView(id='2180', ...),</div></div><div class=\"2181\" style=\"display: none;\"><div style=\"display: table-cell;\"></div><div style=\"display: table-cell;\">visible&nbsp;=&nbsp;True,</div></div><div class=\"2181\" style=\"display: none;\"><div style=\"display: table-cell;\"></div><div style=\"display: table-cell;\">x_range_name&nbsp;=&nbsp;'default',</div></div><div class=\"2181\" style=\"display: none;\"><div style=\"display: table-cell;\"></div><div style=\"display: table-cell;\">y_range_name&nbsp;=&nbsp;'default')</div></div></div>\n<script>\n(function() {\n  var expanded = false;\n  var ellipsis = document.getElementById(\"2182\");\n  ellipsis.addEventListener(\"click\", function() {\n    var rows = document.getElementsByClassName(\"2181\");\n    for (var i = 0; i < rows.length; i++) {\n      var el = rows[i];\n      el.style.display = expanded ? \"none\" : \"table-row\";\n    }\n    ellipsis.innerHTML = expanded ? \"&hellip;)\" : \"&lsaquo;&lsaquo;&lsaquo;\";\n    expanded = !expanded;\n  });\n})();\n</script>\n"
     },
     "metadata": {},
     "execution_count": 46
    }
   ],
   "source": [
    "f4 = figure(plot_width=800 , plot_height = 500 , x_range=(0,12) , y_range=(0,100))\n",
    "f4.vbar(x='key',top='popularity',source = src3 , width = 0.2 , fill_color = 'red') "
   ]
  },
  {
   "cell_type": "code",
   "execution_count": 47,
   "metadata": {},
   "outputs": [
    {
     "output_type": "display_data",
     "data": {
      "text/html": "\n\n\n\n\n\n  <div class=\"bk-root\" id=\"b2a78acd-738e-4e51-a8c9-012994a7af6e\" data-root-id=\"2145\"></div>\n"
     },
     "metadata": {}
    },
    {
     "output_type": "display_data",
     "data": {
      "application/javascript": "(function(root) {\n  function embed_document(root) {\n    \n  var docs_json = {\"f3394327-5961-4cd2-be98-c30ac2af81a6\":{\"roots\":{\"references\":[{\"attributes\":{\"below\":[{\"id\":\"2154\"}],\"center\":[{\"id\":\"2157\"},{\"id\":\"2161\"}],\"left\":[{\"id\":\"2158\"}],\"plot_height\":500,\"plot_width\":800,\"renderers\":[{\"id\":\"2179\"}],\"title\":{\"id\":\"2263\"},\"toolbar\":{\"id\":\"2169\"},\"x_range\":{\"id\":\"2146\"},\"x_scale\":{\"id\":\"2150\"},\"y_range\":{\"id\":\"2148\"},\"y_scale\":{\"id\":\"2152\"}},\"id\":\"2145\",\"subtype\":\"Figure\",\"type\":\"Plot\"},{\"attributes\":{\"end\":12},\"id\":\"2146\",\"type\":\"Range1d\"},{\"attributes\":{},\"id\":\"2267\",\"type\":\"BasicTickFormatter\"},{\"attributes\":{\"source\":{\"id\":\"2144\"}},\"id\":\"2180\",\"type\":\"CDSView\"},{\"attributes\":{},\"id\":\"2165\",\"type\":\"SaveTool\"},{\"attributes\":{},\"id\":\"2159\",\"type\":\"BasicTicker\"},{\"attributes\":{},\"id\":\"2155\",\"type\":\"BasicTicker\"},{\"attributes\":{},\"id\":\"2163\",\"type\":\"WheelZoomTool\"},{\"attributes\":{\"end\":100},\"id\":\"2148\",\"type\":\"Range1d\"},{\"attributes\":{\"active_drag\":\"auto\",\"active_inspect\":\"auto\",\"active_multi\":null,\"active_scroll\":\"auto\",\"active_tap\":\"auto\",\"tools\":[{\"id\":\"2162\"},{\"id\":\"2163\"},{\"id\":\"2164\"},{\"id\":\"2165\"},{\"id\":\"2166\"},{\"id\":\"2167\"}]},\"id\":\"2169\",\"type\":\"Toolbar\"},{\"attributes\":{\"formatter\":{\"id\":\"2267\"},\"ticker\":{\"id\":\"2155\"}},\"id\":\"2154\",\"type\":\"LinearAxis\"},{\"attributes\":{\"fill_alpha\":{\"value\":0.1},\"fill_color\":{\"value\":\"red\"},\"line_alpha\":{\"value\":0.1},\"line_color\":{\"value\":\"#1f77b4\"},\"top\":{\"field\":\"popularity\"},\"width\":{\"value\":0.2},\"x\":{\"field\":\"key\"}},\"id\":\"2178\",\"type\":\"VBar\"},{\"attributes\":{},\"id\":\"2268\",\"type\":\"Selection\"},{\"attributes\":{},\"id\":\"2269\",\"type\":\"UnionRenderers\"},{\"attributes\":{\"text\":\"\"},\"id\":\"2263\",\"type\":\"Title\"},{\"attributes\":{},\"id\":\"2167\",\"type\":\"HelpTool\"},{\"attributes\":{},\"id\":\"2150\",\"type\":\"LinearScale\"},{\"attributes\":{\"axis\":{\"id\":\"2158\"},\"dimension\":1,\"ticker\":null},\"id\":\"2161\",\"type\":\"Grid\"},{\"attributes\":{},\"id\":\"2152\",\"type\":\"LinearScale\"},{\"attributes\":{\"data\":{\"Unnamed: 0\":{\"__ndarray__\":\"ZfCfmCdY9UAiiGg5lVr1QHSfAG1zyPVA9w3GMZNh9UCj81AO7lv1QI2YOyMy2vRAL7roovNm9UBvMEU+7cv0QI8UwDL6PfVAw7ICyMmo9UA=\",\"dtype\":\"float64\",\"order\":\"little\",\"shape\":[10]},\"acousticness\":{\"__ndarray__\":\"aWSALYxn4T/zk/PVrWDhPwhz09HGN+I/5DWf+XB/5D9AEgJcS2rkP4uEGjOzDOU/eHEvlcw95T8JGntn03zlP2BJMpX0HuU/M8d3Uf/B5T8=\",\"dtype\":\"float64\",\"order\":\"little\",\"shape\":[10]},\"danceability\":{\"__ndarray__\":\"/YpBI5f94T/IK0EE1FTiPy6LeE3J7OE/a3+fvig64T/g+bCblPXgP1w4WzyHk+A/hxk69DAG4T+zQH6mP8HgP01Q4YdbzuA//9qkGryi4D8=\",\"dtype\":\"float64\",\"order\":\"little\",\"shape\":[10]},\"duration_ms\":{\"__ndarray__\":\"xKbSkD9/DUFy5T29dDMNQSqHZWe+PAxBFOhSVqmmC0FfHLq2VMkLQUD/BdBfqAxBPxTtQ925CkEZ2+/o1I0LQXpXSWUyyQxB+KfioNkFDEE=\",\"dtype\":\"float64\",\"order\":\"little\",\"shape\":[10]},\"energy\":{\"__ndarray__\":\"6/2rbesM3D+hgzRK0BndP2gpOrAht9s/t5rTfzwJ2T94Ldo+CO3ZP7Ffwx4tYdg/RB6ZU6S82D/oiWW6W3HXP31dk6yV7tg/gPe4G9m61z8=\",\"dtype\":\"float64\",\"order\":\"little\",\"shape\":[10]},\"explicit\":{\"__ndarray__\":\"F9W346GE0D+L2Ao298bIP4WxWVDtOck/jH1pDm1Gwj/e7FyqDZm4P18JtVdC7bU/EpkfkfkRuT/b7+iVsf2+Px9VIzqH17U/r1Y52g93uT8=\",\"dtype\":\"float64\",\"order\":\"little\",\"shape\":[10]},\"index\":[0,1,2,3,4,5,6,7,8,9],\"instrumentalness\":{\"__ndarray__\":\"MhXFuT9s0D8AvwZpEiLPPzebXdhKT9A/6TmLwxFv0T/KqaaGfijQPxiPAQDi1dE/PSubxa3+0j8A+VdaxpfRP2UUEcTz2NE/P2q/nM7c0z8=\",\"dtype\":\"float64\",\"order\":\"little\",\"shape\":[10]},\"key\":[1,11,6,8,9,0,7,10,2,4],\"liveness\":{\"__ndarray__\":\"93jBT0bDyT/uPaxHOdrKPwxvSsDk6ck/i30/1wI2yD+KWgp5EkfKP9CiYxngPco/QrXsXaKCyj8+ET/Dr4/IPxbVeTkGx8k/0/pV8zxnyz8=\",\"dtype\":\"float64\",\"order\":\"little\",\"shape\":[10]},\"loudness\":{\"__ndarray__\":\"peHsrK/WKMAu3H1sHjMowPQ7O/qUtCjAxB1OOCqAKsDSleM467spwKbTMWkKsCrAueALpVcqK8BdOswxt7ErwDHQ4I1oXSrAp0BGpP2dK8A=\",\"dtype\":\"float64\",\"order\":\"little\",\"shape\":[10]},\"mode\":{\"__ndarray__\":\"zJHpZSuD5z/TKpO1PabfPwQsbEco3uI/eHuzWNEN6T/A0+vUJKvjPwPl10D5Neg/LFi+guUr6D+YIp91gynkP/hh25nVU+c/lk7hvLCs4D8=\",\"dtype\":\"float64\",\"order\":\"little\",\"shape\":[10]},\"nombre_artistes\":{\"__ndarray__\":\"AAAAAAAAAEAAAAAAAAAAQAAAAAAAAABAAAAAAAAAAEAAAAAAAAAAQAAAAAAAAABAAAAAAAAAAEAAAAAAAAAAQAAAAAAAAABAAAAAAAAAAEA=\",\"dtype\":\"float64\",\"order\":\"little\",\"shape\":[10]},\"popularity\":{\"__ndarray__\":\"+cWSXyy5P0B8vwBcNCg+QEVD/HHr8jxA6S0xT5GqOkDsSbgIUx46QMfHwfFxcDlASF171LVHOUBfGdvv6GU4QMdAlSILKDhAx5cyZndSN0A=\",\"dtype\":\"float64\",\"order\":\"little\",\"shape\":[10]},\"speechiness\":{\"__ndarray__\":\"PoxUcE6+wT+PUhKB7gvBP+ks4fXABMI/y2fMevnruT/3m72XeCy5P5DBhnPmHbY/9DJG1NOBtz/CtU5SIUa6P2yqZfiaMLk/HM/zUdRzuz8=\",\"dtype\":\"float64\",\"order\":\"little\",\"shape\":[10]},\"tempo\":{\"__ndarray__\":\"Fm7uVys/XECFQuA8f19cQFDFY5FkUVtAf4ACCVzmW0ACKd+2M3FcQIhn5qe6d1xAIvY8lgJfXEBZe5uXfcJbQEG3hka6fVxANVVN5Fq1W0A=\",\"dtype\":\"float64\",\"order\":\"little\",\"shape\":[10]},\"valence\":{\"__ndarray__\":\"Qg0MXcp73T8TODsRyEbgP+PJZpO8098/RXshZVfz3j8SqMnUYzbgPwQcNHznqd8/vFXy6uek4D/w4ClVJ2PfP4wsDwBqPuA/n+uI/WfB3T8=\",\"dtype\":\"float64\",\"order\":\"little\",\"shape\":[10]},\"year\":{\"__ndarray__\":\"Z6FJzQfpnkCx0EQQ0eKeQMmH0uqF255Asi/Noc3MnkDgSxfDa8yeQIXXQ+H1yZ5A27G0HUvFnkBzEogL9cGeQMKNTFP6wp5AR8JAwOq+nkA=\",\"dtype\":\"float64\",\"order\":\"little\",\"shape\":[10]}},\"selected\":{\"id\":\"2268\"},\"selection_policy\":{\"id\":\"2269\"}},\"id\":\"2144\",\"type\":\"ColumnDataSource\"},{\"attributes\":{},\"id\":\"2162\",\"type\":\"PanTool\"},{\"attributes\":{\"overlay\":{\"id\":\"2168\"}},\"id\":\"2164\",\"type\":\"BoxZoomTool\"},{\"attributes\":{},\"id\":\"2166\",\"type\":\"ResetTool\"},{\"attributes\":{\"formatter\":{\"id\":\"2265\"},\"ticker\":{\"id\":\"2159\"}},\"id\":\"2158\",\"type\":\"LinearAxis\"},{\"attributes\":{},\"id\":\"2265\",\"type\":\"BasicTickFormatter\"},{\"attributes\":{\"data_source\":{\"id\":\"2144\"},\"glyph\":{\"id\":\"2177\"},\"hover_glyph\":null,\"muted_glyph\":null,\"nonselection_glyph\":{\"id\":\"2178\"},\"selection_glyph\":null,\"view\":{\"id\":\"2180\"}},\"id\":\"2179\",\"type\":\"GlyphRenderer\"},{\"attributes\":{\"bottom_units\":\"screen\",\"fill_alpha\":0.5,\"fill_color\":\"lightgrey\",\"left_units\":\"screen\",\"level\":\"overlay\",\"line_alpha\":1.0,\"line_color\":\"black\",\"line_dash\":[4,4],\"line_width\":2,\"right_units\":\"screen\",\"top_units\":\"screen\"},\"id\":\"2168\",\"type\":\"BoxAnnotation\"},{\"attributes\":{\"axis\":{\"id\":\"2154\"},\"ticker\":null},\"id\":\"2157\",\"type\":\"Grid\"},{\"attributes\":{\"fill_color\":{\"value\":\"red\"},\"line_color\":{\"value\":\"#1f77b4\"},\"top\":{\"field\":\"popularity\"},\"width\":{\"value\":0.2},\"x\":{\"field\":\"key\"}},\"id\":\"2177\",\"type\":\"VBar\"}],\"root_ids\":[\"2145\"]},\"title\":\"Bokeh Application\",\"version\":\"2.2.3\"}};\n  var render_items = [{\"docid\":\"f3394327-5961-4cd2-be98-c30ac2af81a6\",\"root_ids\":[\"2145\"],\"roots\":{\"2145\":\"b2a78acd-738e-4e51-a8c9-012994a7af6e\"}}];\n  root.Bokeh.embed.embed_items_notebook(docs_json, render_items);\n\n  }\n  if (root.Bokeh !== undefined) {\n    embed_document(root);\n  } else {\n    var attempts = 0;\n    var timer = setInterval(function(root) {\n      if (root.Bokeh !== undefined) {\n        clearInterval(timer);\n        embed_document(root);\n      } else {\n        attempts++;\n        if (attempts > 100) {\n          clearInterval(timer);\n          console.log(\"Bokeh: ERROR: Unable to run BokehJS code because BokehJS library is missing\");\n        }\n      }\n    }, 10, root)\n  }\n})(window);",
      "application/vnd.bokehjs_exec.v0+json": ""
     },
     "metadata": {
      "application/vnd.bokehjs_exec.v0+json": {
       "id": "2145"
      }
     }
    }
   ],
   "source": [
    "show(f4)"
   ]
  },
  {
   "cell_type": "markdown",
   "metadata": {},
   "source": [
    "<br></br>\n",
    "## C. Création de multiples visualisations"
   ]
  },
  {
   "cell_type": "markdown",
   "metadata": {},
   "source": [
    "Lors de la création des data visualisations, nous avons tendance à afficher de multiple graphes sur le même ecran. Ceci peut être fait en organisant les graphes avec les layouts. L'utilisateion des layouts, tabs, et les grids peut nous permettre de lier entre multiple graphes en utilisant les mêmes axes. Ce qui rend a comparaison entre les différents graphes plus facile et précis."
   ]
  },
  {
   "cell_type": "markdown",
   "metadata": {},
   "source": [
    "#### 1. Création de multiple graphes selon la même ligne "
   ]
  },
  {
   "cell_type": "markdown",
   "metadata": {},
   "source": [
    "Afin d'organiser nos graphes selon la même ligne, on crée en premier lieu 3 graphes pour trois artistes de votre choix."
   ]
  },
  {
   "cell_type": "code",
   "execution_count": 76,
   "metadata": {},
   "outputs": [
    {
     "output_type": "display_data",
     "data": {
      "text/html": "\n\n\n\n\n\n  <div class=\"bk-root\" id=\"5b25cc2f-1490-4560-8489-1cf1408f83c5\" data-root-id=\"4291\"></div>\n"
     },
     "metadata": {}
    },
    {
     "output_type": "display_data",
     "data": {
      "application/javascript": "(function(root) {\n  function embed_document(root) {\n    \n  var docs_json = {\"30559d2d-ca8f-4e75-a9f8-4ff1746f5221\":{\"roots\":{\"references\":[{\"attributes\":{\"below\":[{\"id\":\"4297\"}],\"left\":[{\"id\":\"4298\"}],\"min_border\":0,\"plot_height\":400,\"plot_width\":500,\"renderers\":[{\"id\":\"4295\"}],\"title\":null,\"toolbar\":{\"id\":\"4483\"},\"toolbar_location\":null,\"x_range\":{\"id\":\"4486\"},\"x_scale\":{\"id\":\"4482\"},\"y_range\":{\"id\":\"4485\"},\"y_scale\":{\"id\":\"4484\"}},\"id\":\"4291\",\"type\":\"Plot\"},{\"attributes\":{},\"id\":\"4484\",\"type\":\"LinearScale\"},{\"attributes\":{},\"id\":\"4487\",\"type\":\"BasicTicker\"},{\"attributes\":{},\"id\":\"4492\",\"type\":\"UnionRenderers\"},{\"attributes\":{\"data_source\":{\"id\":\"4293\"},\"glyph\":{\"id\":\"4294\"},\"hover_glyph\":null,\"muted_glyph\":null,\"view\":{\"id\":\"4296\"}},\"id\":\"4295\",\"type\":\"GlyphRenderer\"},{\"attributes\":{\"source\":{\"id\":\"4293\"}},\"id\":\"4296\",\"type\":\"CDSView\"},{\"attributes\":{},\"id\":\"4488\",\"type\":\"BasicTickFormatter\"},{\"attributes\":{},\"id\":\"4486\",\"type\":\"DataRange1d\"},{\"attributes\":{},\"id\":\"4489\",\"type\":\"BasicTicker\"},{\"attributes\":{},\"id\":\"4490\",\"type\":\"BasicTickFormatter\"},{\"attributes\":{\"formatter\":{\"id\":\"4490\"},\"ticker\":{\"id\":\"4489\"}},\"id\":\"4297\",\"type\":\"LinearAxis\"},{\"attributes\":{},\"id\":\"4482\",\"type\":\"LinearScale\"},{\"attributes\":{\"line_alpha\":0.6,\"line_color\":\"#f46d43\",\"line_width\":2,\"x\":{\"field\":\"index\"},\"y\":{\"field\":\"loudness\"}},\"id\":\"4294\",\"type\":\"Line\"},{\"attributes\":{},\"id\":\"4491\",\"type\":\"Selection\"},{\"attributes\":{\"data\":{\"artists\":[\"BENEE\",\"Ariana Grande\",\"Lady Gaga\"],\"index\":[0,1,2],\"loudness\":{\"__ndarray__\":\"qMZLN4nBEsBMWMym5y4XwIR5ov6N0BTA\",\"dtype\":\"float64\",\"order\":\"little\",\"shape\":[3]}},\"selected\":{\"id\":\"4491\"},\"selection_policy\":{\"id\":\"4492\"}},\"id\":\"4293\",\"type\":\"ColumnDataSource\"},{\"attributes\":{},\"id\":\"4485\",\"type\":\"DataRange1d\"},{\"attributes\":{\"formatter\":{\"id\":\"4488\"},\"ticker\":{\"id\":\"4487\"}},\"id\":\"4298\",\"type\":\"LinearAxis\"},{\"attributes\":{\"active_drag\":\"auto\",\"active_inspect\":\"auto\",\"active_multi\":null,\"active_scroll\":\"auto\",\"active_tap\":\"auto\"},\"id\":\"4483\",\"type\":\"Toolbar\"}],\"root_ids\":[\"4291\"]},\"title\":\"Bokeh Application\",\"version\":\"2.2.3\"}};\n  var render_items = [{\"docid\":\"30559d2d-ca8f-4e75-a9f8-4ff1746f5221\",\"root_ids\":[\"4291\"],\"roots\":{\"4291\":\"5b25cc2f-1490-4560-8489-1cf1408f83c5\"}}];\n  root.Bokeh.embed.embed_items_notebook(docs_json, render_items);\n\n  }\n  if (root.Bokeh !== undefined) {\n    embed_document(root);\n  } else {\n    var attempts = 0;\n    var timer = setInterval(function(root) {\n      if (root.Bokeh !== undefined) {\n        clearInterval(timer);\n        embed_document(root);\n      } else {\n        attempts++;\n        if (attempts > 100) {\n          clearInterval(timer);\n          console.log(\"Bokeh: ERROR: Unable to run BokehJS code because BokehJS library is missing\");\n        }\n      }\n    }, 10, root)\n  }\n})(window);",
      "application/vnd.bokehjs_exec.v0+json": ""
     },
     "metadata": {
      "application/vnd.bokehjs_exec.v0+json": {
       "id": "4291"
      }
     }
    },
    {
     "output_type": "execute_result",
     "data": {
      "text/plain": [
       "         artists  loudness\n",
       "0          BENEE -4.689000\n",
       "1  Ariana Grande -5.795806\n",
       "2      Lady Gaga -5.203667"
      ],
      "text/html": "<div>\n<style scoped>\n    .dataframe tbody tr th:only-of-type {\n        vertical-align: middle;\n    }\n\n    .dataframe tbody tr th {\n        vertical-align: top;\n    }\n\n    .dataframe thead th {\n        text-align: right;\n    }\n</style>\n<table border=\"1\" class=\"dataframe\">\n  <thead>\n    <tr style=\"text-align: right;\">\n      <th></th>\n      <th>artists</th>\n      <th>loudness</th>\n    </tr>\n  </thead>\n  <tbody>\n    <tr>\n      <th>0</th>\n      <td>BENEE</td>\n      <td>-4.689000</td>\n    </tr>\n    <tr>\n      <th>1</th>\n      <td>Ariana Grande</td>\n      <td>-5.795806</td>\n    </tr>\n    <tr>\n      <th>2</th>\n      <td>Lady Gaga</td>\n      <td>-5.203667</td>\n    </tr>\n  </tbody>\n</table>\n</div>"
     },
     "metadata": {},
     "execution_count": 76
    }
   ],
   "source": [
    "# Créer trois graphes Line affichant respectivement loudness de trois artistes \n",
    "plot = Plot(\n",
    "    title=None, plot_width=500, plot_height=400,\n",
    "    min_border=0, toolbar_location=None)\n",
    "\n",
    "dt1 = duo[duo['artists'].str.contains('BENEE')].mean()\n",
    "dt2 = duo[duo['artists'].str.contains('Ariana Grande')].mean()\n",
    "dt3 = duo[duo['artists'].str.contains('Lady Gaga')].mean()\n",
    "\n",
    "df = pd.DataFrame({'artists':['BENEE','Ariana Grande','Lady Gaga'],\n",
    "                    'loudness':[dt1['loudness'] , dt2['loudness'] , dt3['loudness'] ]})\n",
    "src4 = ColumnDataSource(data = df)\n",
    "glyph = Line(x=\"index\", y=\"loudness\", line_color=\"#f46d43\", line_width=2, line_alpha=0.6)\n",
    "\n",
    "\n",
    "plot.add_glyph(src4 , glyph)\n",
    "\n",
    "xaxis = LinearAxis()\n",
    "plot.add_layout(xaxis, 'below')\n",
    "\n",
    "yaxis = LinearAxis()\n",
    "plot.add_layout(yaxis, 'left')\n",
    "\n",
    "show(plot)\n",
    "df"
   ]
  },
  {
   "cell_type": "code",
   "execution_count": null,
   "metadata": {},
   "outputs": [],
   "source": [
    "from bokeh.layouts import row"
   ]
  },
  {
   "cell_type": "code",
   "execution_count": null,
   "metadata": {},
   "outputs": [],
   "source": [
    "# Créer un objet row object avec les trois graphes\n"
   ]
  },
  {
   "cell_type": "code",
   "execution_count": null,
   "metadata": {},
   "outputs": [],
   "source": [
    "# Visualiser les trois graphes selon le layout\n",
    "\n"
   ]
  },
  {
   "cell_type": "markdown",
   "metadata": {},
   "source": [
    "#### 2. Creation de multiple graphes selon des lignes et colonnes "
   ]
  },
  {
   "cell_type": "markdown",
   "metadata": {},
   "source": [
    "On pourrait prévoir de voir par exemple des graphes relatifs à un artiste sur une ligne, ceux d'un autre artiste sur une autre. Pour ce faire, on devra créer un nested Layout, qui est un layout permettant de simplfier l'organisation des graphes selon les lignes et les colonnes."
   ]
  },
  {
   "cell_type": "code",
   "execution_count": null,
   "metadata": {},
   "outputs": [],
   "source": [
    "from bokeh.layouts import column"
   ]
  },
  {
   "cell_type": "code",
   "execution_count": null,
   "metadata": {},
   "outputs": [],
   "source": [
    "# créer 3 graphes des mêmes artistes, dépictant cette fois la popularité\n",
    "\n"
   ]
  },
  {
   "cell_type": "code",
   "execution_count": null,
   "metadata": {},
   "outputs": [],
   "source": [
    "# Créer un object nested_layout qui organisera vos graphes où chaque ligne sera consacré à un artiste, chaque colonne à visualiser une mesure\n",
    "\n"
   ]
  },
  {
   "cell_type": "code",
   "execution_count": null,
   "metadata": {},
   "outputs": [],
   "source": [
    "# Afficher les graphes selon le nouveau layout\n",
    "\n"
   ]
  },
  {
   "cell_type": "markdown",
   "metadata": {},
   "source": [
    "Ceci revient à créer un grid layout avec 3 lignes et 2 colonnes. Bokeh procure une fonction \"gridplot\" qui permet la création de layouts robustes grâce à la  diversité des combinaisons possibles dans l'empilage des graphes au niveau du même ecran."
   ]
  },
  {
   "cell_type": "code",
   "execution_count": null,
   "metadata": {},
   "outputs": [],
   "source": [
    "from bokeh.layouts import gridplot"
   ]
  },
  {
   "cell_type": "code",
   "execution_count": null,
   "metadata": {},
   "outputs": [],
   "source": [
    "# Créer un objet grid_layout qui organise les graphes de la même manière que le nested layout\n"
   ]
  },
  {
   "cell_type": "code",
   "execution_count": null,
   "metadata": {},
   "outputs": [],
   "source": [
    "# Afficher le grid_layout\n"
   ]
  },
  {
   "cell_type": "markdown",
   "metadata": {},
   "source": [
    "<br></br>\n",
    "#### 3. Creation des onglets"
   ]
  },
  {
   "cell_type": "markdown",
   "metadata": {},
   "source": [
    "Il est très utile de pouvoir créer des layouts multiples dans différents onglets. Bokeh procure les objets tabbed Layout, auxquels les graphes peuvent être ajoutés. On va créer deux onglets, l'un pour artiste 1, l'autre pour le deuxième artiste. "
   ]
  },
  {
   "cell_type": "code",
   "execution_count": null,
   "metadata": {},
   "outputs": [],
   "source": [
    "from bokeh.models.widgest import Tabs, Panel"
   ]
  },
  {
   "cell_type": "markdown",
   "metadata": {},
   "source": [
    "Pour créer un tabbed layout, on aura besoin de créer en premier lieu deux panels en utilisant la fonction Panel. Chaque Panel se composera de ses propres graphes spécifiés à l'aide de l'argument \"child\" dans la fonction Panel. "
   ]
  },
  {
   "cell_type": "code",
   "execution_count": null,
   "metadata": {},
   "outputs": [],
   "source": [
    "# Créer deux objets Panel pour chacun des artistes. \n",
    "# Vous pouvez attribuer un titre aux Panels (qui seront affichés en haut de l'onglet).\n",
    "\n"
   ]
  },
  {
   "cell_type": "code",
   "execution_count": null,
   "metadata": {},
   "outputs": [],
   "source": [
    "# Donner les Panels aux objets Tabs\n",
    "\n",
    "\n"
   ]
  },
  {
   "cell_type": "code",
   "execution_count": null,
   "metadata": {},
   "outputs": [],
   "source": [
    "# Afficher les objets tabs\n",
    "\n"
   ]
  },
  {
   "cell_type": "markdown",
   "metadata": {},
   "source": [
    "<br></br>\n",
    "#### 4. Liaison entre deux graphes"
   ]
  },
  {
   "cell_type": "markdown",
   "metadata": {},
   "source": [
    "Comparer deux graphes sur le même ecran devient plus facile quand ces derniers sont liés. Dans cette partie, on créera multiple graphes sur le même axe x. Pour ce faire, on va créer deux scatter plots basé sur les données du premier artiste mais on leur donnera le même axe x. "
   ]
  },
  {
   "cell_type": "code",
   "execution_count": null,
   "metadata": {},
   "outputs": [],
   "source": [
    "#  Créer une ColumnDataSource avec les colonnes 'release_date', 'danceability', 'acousticness', 'energy', 'loudness'\n",
    "\n"
   ]
  },
  {
   "cell_type": "code",
   "execution_count": null,
   "metadata": {},
   "outputs": [],
   "source": [
    "# Créer deux scatterplots: Le premier pour voir la relation entre 'danceability' et 'acousticness', le deuxième 'energy' et 'loudness'\n",
    "\n"
   ]
  },
  {
   "cell_type": "code",
   "execution_count": null,
   "metadata": {},
   "outputs": [],
   "source": [
    "# x_range fait référence à l'axe x des deux graphes. S'assurer que les deux graphes ont le même axe x.\n",
    "\n"
   ]
  },
  {
   "cell_type": "code",
   "execution_count": null,
   "metadata": {},
   "outputs": [],
   "source": [
    "# Organiser les deux graphes dans un layout (vous pouvez utiliser la fonction row)\n",
    "\n"
   ]
  },
  {
   "cell_type": "code",
   "execution_count": null,
   "metadata": {},
   "outputs": [],
   "source": [
    "# Afficher le Layout\n",
    "\n"
   ]
  },
  {
   "cell_type": "markdown",
   "metadata": {},
   "source": [
    "Remarquez que les deux graphes ont le même axe x. Si vous zoomer sur le premier, le deuxième suivra."
   ]
  },
  {
   "cell_type": "markdown",
   "metadata": {},
   "source": [
    "<br></br>\n",
    "### D. Ajout de l'Interactivité aux visualisations"
   ]
  },
  {
   "cell_type": "markdown",
   "metadata": {},
   "source": [
    "Bokeh permet la création de visualisations interactives en procurant des attributs visuels comme Hover, Slider ou Selection etc.\n",
    "\n",
    "Les Hover par exemple sont très utiles pour ajouter une dimension supplémentaire au graphe. Ils permettent de visualiser un point de données quand l'utilisareur le survole avec la souris. Pour créer un graphe avec un Hover tool, on va créer un graphe qui combine les données de deux artistes, et utiliser le Hover tool pour différencier entre les deux."
   ]
  },
  {
   "cell_type": "code",
   "execution_count": null,
   "metadata": {},
   "outputs": [],
   "source": [
    "from bokeh.models import HoverTool"
   ]
  },
  {
   "cell_type": "code",
   "execution_count": null,
   "metadata": {},
   "outputs": [],
   "source": [
    "# Créer une ColumnDataSource basé sur un dataframe ou l'artiste est soit 1 ou 2\n",
    "\n"
   ]
  },
  {
   "cell_type": "code",
   "execution_count": null,
   "metadata": {},
   "outputs": [],
   "source": [
    "# Créer un hover tool en utilisant la fonction HoverTool où les tooltips pointent sur le tuples d'information à afficher qu'on l'utilisateur survole la donnée,\n",
    "# à savoir nom de l'artiste, nom de la piste popularité, loudness, name.\n",
    "# Ainsi, chaque tuple du tooltip devra contenir un label et une référence au champs contenant l'information\n",
    "\n"
   ]
  },
  {
   "cell_type": "code",
   "execution_count": null,
   "metadata": {},
   "outputs": [],
   "source": [
    "# Donner l'objet hover tool comme argument à votre figure \n",
    "\n"
   ]
  },
  {
   "cell_type": "code",
   "execution_count": null,
   "metadata": {},
   "outputs": [],
   "source": [
    "# Créer un scaterplot avec par exemple les variables acousticness et energy de la ColumnDataSource \n",
    "\n"
   ]
  },
  {
   "cell_type": "code",
   "execution_count": null,
   "metadata": {},
   "outputs": [],
   "source": [
    "# Afficher le graphe. Survoler avec la souris quelques datapoint pour s'assurer du bon affichage des informations.\n",
    "\n"
   ]
  },
  {
   "cell_type": "markdown",
   "metadata": {},
   "source": [
    "<br> L'outil de sélection permet de mettre en exergue un sous-ensemble de données sur le graphe. Pour ajouter un selection tool à votre graphe, il faut ajouter 'box_select' à la liste des outils de la figure. Il est possible de définir une selection_color, nonselection_fill_color, et un nonselection_fill_alpha en leur assignant des valeurs dans les arguments de la fonction de création du graphe."
   ]
  },
  {
   "cell_type": "code",
   "execution_count": null,
   "metadata": {},
   "outputs": [],
   "source": [
    "# Passer l'objet hover tool et un 'box_select' comme arguments de tools\n",
    "\n"
   ]
  },
  {
   "cell_type": "code",
   "execution_count": null,
   "metadata": {},
   "outputs": [],
   "source": [
    "# Recréer le scatter plot en spécifiant les arguments de selection\n",
    "\n"
   ]
  },
  {
   "cell_type": "code",
   "execution_count": null,
   "metadata": {},
   "outputs": [],
   "source": [
    "# Afficher le graphe\n",
    "\n"
   ]
  },
  {
   "cell_type": "markdown",
   "metadata": {},
   "source": [
    " "
   ]
  },
  {
   "cell_type": "markdown",
   "metadata": {},
   "source": [
    "Pour explorer d'autres outils dans le tool box : https://docs.bokeh.org/en/latest/docs/user_guide/tools.html?highlight=configuring%20plot%20tools"
   ]
  },
  {
   "cell_type": "markdown",
   "metadata": {},
   "source": [
    " "
   ]
  },
  {
   "cell_type": "markdown",
   "metadata": {},
   "source": [
    "### E. Bonus: Création d'une application de visualisation"
   ]
  },
  {
   "cell_type": "markdown",
   "metadata": {},
   "source": [
    "Bokeh offre la possibilité de créer des applications de visualisation de données qui peuvent être hebergées sur notre propre serveur à travers le Bokeh server. \n",
    "\n",
    "Le Bokeh server agit comme un pont connectant Python et le navigateur où seront hebergées les applications. En utilisant Bokeh Server, on peut déployer des applications avec une interactivité locale et les partager. \n",
    "\n",
    "Une application Bokeh est une entité qui crée et remplit des documents avec des mises à jour sur le backend avec toutes les configurations nécessaires pour transférer correctement les données entre le serveur et le client. Le backend Bokeh sérialise les documents en format JSON. Ces derniers sont envoyés et affichés par le client BokehJS (comme indiqué dans la figure ci-dessous).\n"
   ]
  },
  {
   "cell_type": "markdown",
   "metadata": {},
   "source": [
    "<img src=\"https://static.packt-cdn.com/products/9781789135404/graphics/b6dd15c9-b21d-4786-9185-fc68623e5d53.png\">"
   ]
  },
  {
   "cell_type": "markdown",
   "metadata": {},
   "source": [
    "Pour construire une application Bokeh, il faut suivre 3 étapes:\n",
    "\n",
    " <ol>\n",
    "  <li>Créer les graphes et widgets</li>\n",
    "  <li>Définir la fonction Callback: c'est la fonction qui indique à l'application comment réagir à l'interaction d'un utilisateur (lorsqu'un bouton est clické, un curseur est déplacé ..)</li>\n",
    "  <li>Créer un Layout: personnaliser les layouts pour organiser les graphes</li>\n",
    "</ol> "
   ]
  },
  {
   "cell_type": "markdown",
   "metadata": {},
   "source": [
    "<br> On va créer une application très simple qui va afficher un nuage de points de la popularité des pistes. Cependant, on donnera à l'utilisateur la possibilité de choisir entre afficher le graphe de la popularité par acousticness ou par loudness. Maintes étapes ont été déjà couvertes dans le TP.\n",
    "\n",
    "Pour ce faire, on va créer un fichier bokehApp.py qu'on pourra exécuter ultérieurement dans un terminal en utilisant la commande: __bokeh serve --show bokehApp.py__\n",
    "\n",
    "\n",
    "1. Ouvrir un fichier dans un éditeur de texte et le nommer bokehApp.py. Importer les librairies suivantes:\n",
    "<br>import pandas as pd\n",
    "<br>from bokeh.plotting import figure\n",
    "<br>from bokeh.models import ColumnDataSource, Select\n",
    "<br>from bokeh.io import curdoc\n",
    "<br>from bokeh.layouts import row\n",
    "\n",
    "2. Charger les données des pistes dans une dataframe\n",
    "\n",
    "3. Créer un second dataframe qui filtre les données pour un seul artiste de votre choix\n",
    "\n",
    "4. Créer un objet ColumnDataSource avec un dict contenant les attributs et colonnes ont on aura besoin\n",
    "\n",
    "5. Créer un scatter plot en utilisant les données de popularité et acousticness à partir de la ColumnDataSource \n",
    "\n",
    "6. On aura besoin de créer un \"Select\" widget (c'est un widget qui donnera la main à l'utilisateur de choisirla colonne à visualiser). Le widget prendra les options acousticness et loudness, avec acousticness comme valeur par défaut. Il faut également spécifier un titre qui s'affichera à l'utilisateur.\n",
    "\n",
    "7. Créer une fonction callback qui prendra la nouvelle colonne et changera la source de la donnée au niveau du graphe pour prendre les données de cette colonne.\n",
    "\n",
    "8. Spécifier ce qui devra arriver quand l'utilisateur opére un changement sur le Select widget (utiliser la fonction on_change)\n",
    "\n",
    "9. Créer un row layout pour vos widget et graphe.\n",
    "\n",
    "10. A chaque fois qu'on crée une application, Bokeh crée un \"curdoc\", qui est un document ou canevas vide pour cette application. Il faut ajouter les widgets et graphes (ou les layouts) à ce document en utilisant la méthode add_root.\n",
    "\n",
    "Sauvegarder le fichier bokehApp.py et exécuter la commande susmentionnée dans un terminal."
   ]
  },
  {
   "cell_type": "markdown",
   "metadata": {},
   "source": [
    "<br> Pour plus de détails sur Bokeh, explorer https://github.com/bokeh/bokeh-notebooks/tree/main/tutorial pour plus de détails."
   ]
  }
 ],
 "metadata": {
  "kernelspec": {
   "name": "python3",
   "display_name": "Python 3.9.0 64-bit",
   "metadata": {
    "interpreter": {
     "hash": "5b444563759645e795b5482cf2150aabe0ea74d7e9bb280712938a02f2a4b027"
    }
   }
  },
  "language_info": {
   "codemirror_mode": {
    "name": "ipython",
    "version": 3
   },
   "file_extension": ".py",
   "mimetype": "text/x-python",
   "name": "python",
   "nbconvert_exporter": "python",
   "pygments_lexer": "ipython3",
   "version": "3.9.0-final"
  }
 },
 "nbformat": 4,
 "nbformat_minor": 4
}