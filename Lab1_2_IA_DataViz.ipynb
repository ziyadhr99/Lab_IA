{
 "cells": [
  {
   "cell_type": "markdown",
   "metadata": {},
   "source": [
    "# Travaux Pratiques Intelligence Artificielle: Lab1.2\n",
    "\n",
    "Python 4 Data Science: Introduction à la data visualisation avec Bokeh 🤖 🙌.\n",
    "\n",
    "## Objectifs du TP:\n",
    "\n",
    "> **Comprendre les concepts de base de la data visualisation avec Bokeh**\n",
    "\n",
    "> **Se familiariser avec les commandes les plus utilisées pour la visualisation des données en utilisant la libraire Bokeh et Pandas**\n",
    "\n",
    "> **Visualiser graphiquement les données du TP précédent.** \n",
    "\n",
    "> **Créer une application de visualisation de données (en Bonus)** \n",
    "\n",
    "\n",
    "\n",
    "<br> A la fin du TP vous devez **rendre ce notebook dans \"Assignment\" de Teams**. Le TP doit être travaillé en préférence en binôme.\n",
    "\n",
    "_Besoin d'aide? Laisser moi un Commentaire sur Teams_\n",
    "\n",
    "![green-divider](https://user-images.githubusercontent.com/7065401/52071924-c003ad80-2562-11e9-8297-1c6595f8a7ff.png)"
   ]
  },
  {
   "cell_type": "markdown",
   "metadata": {},
   "source": [
    "## A. Concepts de base"
   ]
  },
  {
   "cell_type": "markdown",
   "metadata": {},
   "source": [
    "L'objectif de cette section est de se familiariser avec les principes de base de data visualisation avec Python, Bokeh précisément. Bokeh est une librairie de visualisation destinée aux navigateur web modernes. Elle permet la construction de graphes élégants, concis, variés, et interactifs.\n",
    "\n",
    "Bokeh est basé sur l'idée qu'un graphe est construit une couche à la fois. Pour créer un graphe, on a besoin de créer en premier lieu la figure, puis ajouter les différents éléments (glyphs). Les glyphs sont des composants représentant les figures géométriques comme les lignes, cercles, rectanges etc. qui composent un plot Bokeh.\n",
    "\n",
    "Il y a deux méthodes pour la présentation d'un plot Bokeh:\n",
    "- output_file: où l'output est un fichier html\n",
    "- output_notebook: où l'output se fait au niveau du Jupyter notebook en cours d'utilisation.\n"
   ]
  },
  {
   "cell_type": "markdown",
   "metadata": {},
   "source": [
    "<br> Commençons par un simple exemple où on visualisera un line plot avec les Glyphs."
   ]
  },
  {
   "cell_type": "code",
   "execution_count": 250,
   "metadata": {},
   "outputs": [],
   "source": [
    "from bokeh.plotting import figure\n",
    "from bokeh.io import output_notebook, show"
   ]
  },
  {
   "cell_type": "code",
   "execution_count": 251,
   "metadata": {},
   "outputs": [
    {
     "output_type": "display_data",
     "data": {
      "text/html": "\n    <div class=\"bk-root\">\n        <a href=\"https://bokeh.org\" target=\"_blank\" class=\"bk-logo bk-logo-small bk-logo-notebook\"></a>\n        <span id=\"3697\">Loading BokehJS ...</span>\n    </div>"
     },
     "metadata": {}
    },
    {
     "output_type": "display_data",
     "data": {
      "application/javascript": "\n(function(root) {\n  function now() {\n    return new Date();\n  }\n\n  var force = true;\n\n  if (typeof root._bokeh_onload_callbacks === \"undefined\" || force === true) {\n    root._bokeh_onload_callbacks = [];\n    root._bokeh_is_loading = undefined;\n  }\n\n  var JS_MIME_TYPE = 'application/javascript';\n  var HTML_MIME_TYPE = 'text/html';\n  var EXEC_MIME_TYPE = 'application/vnd.bokehjs_exec.v0+json';\n  var CLASS_NAME = 'output_bokeh rendered_html';\n\n  /**\n   * Render data to the DOM node\n   */\n  function render(props, node) {\n    var script = document.createElement(\"script\");\n    node.appendChild(script);\n  }\n\n  /**\n   * Handle when an output is cleared or removed\n   */\n  function handleClearOutput(event, handle) {\n    var cell = handle.cell;\n\n    var id = cell.output_area._bokeh_element_id;\n    var server_id = cell.output_area._bokeh_server_id;\n    // Clean up Bokeh references\n    if (id != null && id in Bokeh.index) {\n      Bokeh.index[id].model.document.clear();\n      delete Bokeh.index[id];\n    }\n\n    if (server_id !== undefined) {\n      // Clean up Bokeh references\n      var cmd = \"from bokeh.io.state import curstate; print(curstate().uuid_to_server['\" + server_id + \"'].get_sessions()[0].document.roots[0]._id)\";\n      cell.notebook.kernel.execute(cmd, {\n        iopub: {\n          output: function(msg) {\n            var id = msg.content.text.trim();\n            if (id in Bokeh.index) {\n              Bokeh.index[id].model.document.clear();\n              delete Bokeh.index[id];\n            }\n          }\n        }\n      });\n      // Destroy server and session\n      var cmd = \"import bokeh.io.notebook as ion; ion.destroy_server('\" + server_id + \"')\";\n      cell.notebook.kernel.execute(cmd);\n    }\n  }\n\n  /**\n   * Handle when a new output is added\n   */\n  function handleAddOutput(event, handle) {\n    var output_area = handle.output_area;\n    var output = handle.output;\n\n    // limit handleAddOutput to display_data with EXEC_MIME_TYPE content only\n    if ((output.output_type != \"display_data\") || (!output.data.hasOwnProperty(EXEC_MIME_TYPE))) {\n      return\n    }\n\n    var toinsert = output_area.element.find(\".\" + CLASS_NAME.split(' ')[0]);\n\n    if (output.metadata[EXEC_MIME_TYPE][\"id\"] !== undefined) {\n      toinsert[toinsert.length - 1].firstChild.textContent = output.data[JS_MIME_TYPE];\n      // store reference to embed id on output_area\n      output_area._bokeh_element_id = output.metadata[EXEC_MIME_TYPE][\"id\"];\n    }\n    if (output.metadata[EXEC_MIME_TYPE][\"server_id\"] !== undefined) {\n      var bk_div = document.createElement(\"div\");\n      bk_div.innerHTML = output.data[HTML_MIME_TYPE];\n      var script_attrs = bk_div.children[0].attributes;\n      for (var i = 0; i < script_attrs.length; i++) {\n        toinsert[toinsert.length - 1].firstChild.setAttribute(script_attrs[i].name, script_attrs[i].value);\n        toinsert[toinsert.length - 1].firstChild.textContent = bk_div.children[0].textContent\n      }\n      // store reference to server id on output_area\n      output_area._bokeh_server_id = output.metadata[EXEC_MIME_TYPE][\"server_id\"];\n    }\n  }\n\n  function register_renderer(events, OutputArea) {\n\n    function append_mime(data, metadata, element) {\n      // create a DOM node to render to\n      var toinsert = this.create_output_subarea(\n        metadata,\n        CLASS_NAME,\n        EXEC_MIME_TYPE\n      );\n      this.keyboard_manager.register_events(toinsert);\n      // Render to node\n      var props = {data: data, metadata: metadata[EXEC_MIME_TYPE]};\n      render(props, toinsert[toinsert.length - 1]);\n      element.append(toinsert);\n      return toinsert\n    }\n\n    /* Handle when an output is cleared or removed */\n    events.on('clear_output.CodeCell', handleClearOutput);\n    events.on('delete.Cell', handleClearOutput);\n\n    /* Handle when a new output is added */\n    events.on('output_added.OutputArea', handleAddOutput);\n\n    /**\n     * Register the mime type and append_mime function with output_area\n     */\n    OutputArea.prototype.register_mime_type(EXEC_MIME_TYPE, append_mime, {\n      /* Is output safe? */\n      safe: true,\n      /* Index of renderer in `output_area.display_order` */\n      index: 0\n    });\n  }\n\n  // register the mime type if in Jupyter Notebook environment and previously unregistered\n  if (root.Jupyter !== undefined) {\n    var events = require('base/js/events');\n    var OutputArea = require('notebook/js/outputarea').OutputArea;\n\n    if (OutputArea.prototype.mime_types().indexOf(EXEC_MIME_TYPE) == -1) {\n      register_renderer(events, OutputArea);\n    }\n  }\n\n  \n  if (typeof (root._bokeh_timeout) === \"undefined\" || force === true) {\n    root._bokeh_timeout = Date.now() + 5000;\n    root._bokeh_failed_load = false;\n  }\n\n  var NB_LOAD_WARNING = {'data': {'text/html':\n     \"<div style='background-color: #fdd'>\\n\"+\n     \"<p>\\n\"+\n     \"BokehJS does not appear to have successfully loaded. If loading BokehJS from CDN, this \\n\"+\n     \"may be due to a slow or bad network connection. Possible fixes:\\n\"+\n     \"</p>\\n\"+\n     \"<ul>\\n\"+\n     \"<li>re-rerun `output_notebook()` to attempt to load from CDN again, or</li>\\n\"+\n     \"<li>use INLINE resources instead, as so:</li>\\n\"+\n     \"</ul>\\n\"+\n     \"<code>\\n\"+\n     \"from bokeh.resources import INLINE\\n\"+\n     \"output_notebook(resources=INLINE)\\n\"+\n     \"</code>\\n\"+\n     \"</div>\"}};\n\n  function display_loaded() {\n    var el = document.getElementById(\"3697\");\n    if (el != null) {\n      el.textContent = \"BokehJS is loading...\";\n    }\n    if (root.Bokeh !== undefined) {\n      if (el != null) {\n        el.textContent = \"BokehJS \" + root.Bokeh.version + \" successfully loaded.\";\n      }\n    } else if (Date.now() < root._bokeh_timeout) {\n      setTimeout(display_loaded, 100)\n    }\n  }\n\n\n  function run_callbacks() {\n    try {\n      root._bokeh_onload_callbacks.forEach(function(callback) {\n        if (callback != null)\n          callback();\n      });\n    } finally {\n      delete root._bokeh_onload_callbacks\n    }\n    console.debug(\"Bokeh: all callbacks have finished\");\n  }\n\n  function load_libs(css_urls, js_urls, callback) {\n    if (css_urls == null) css_urls = [];\n    if (js_urls == null) js_urls = [];\n\n    root._bokeh_onload_callbacks.push(callback);\n    if (root._bokeh_is_loading > 0) {\n      console.debug(\"Bokeh: BokehJS is being loaded, scheduling callback at\", now());\n      return null;\n    }\n    if (js_urls == null || js_urls.length === 0) {\n      run_callbacks();\n      return null;\n    }\n    console.debug(\"Bokeh: BokehJS not loaded, scheduling load and callback at\", now());\n    root._bokeh_is_loading = css_urls.length + js_urls.length;\n\n    function on_load() {\n      root._bokeh_is_loading--;\n      if (root._bokeh_is_loading === 0) {\n        console.debug(\"Bokeh: all BokehJS libraries/stylesheets loaded\");\n        run_callbacks()\n      }\n    }\n\n    function on_error() {\n      console.error(\"failed to load \" + url);\n    }\n\n    for (var i = 0; i < css_urls.length; i++) {\n      var url = css_urls[i];\n      const element = document.createElement(\"link\");\n      element.onload = on_load;\n      element.onerror = on_error;\n      element.rel = \"stylesheet\";\n      element.type = \"text/css\";\n      element.href = url;\n      console.debug(\"Bokeh: injecting link tag for BokehJS stylesheet: \", url);\n      document.body.appendChild(element);\n    }\n\n    const hashes = {\"https://cdn.bokeh.org/bokeh/release/bokeh-2.2.3.min.js\": \"T2yuo9Oe71Cz/I4X9Ac5+gpEa5a8PpJCDlqKYO0CfAuEszu1JrXLl8YugMqYe3sM\", \"https://cdn.bokeh.org/bokeh/release/bokeh-widgets-2.2.3.min.js\": \"98GDGJ0kOMCUMUePhksaQ/GYgB3+NH9h996V88sh3aOiUNX3N+fLXAtry6xctSZ6\", \"https://cdn.bokeh.org/bokeh/release/bokeh-tables-2.2.3.min.js\": \"89bArO+nlbP3sgakeHjCo1JYxYR5wufVgA3IbUvDY+K7w4zyxJqssu7wVnfeKCq8\"};\n\n    for (var i = 0; i < js_urls.length; i++) {\n      var url = js_urls[i];\n      var element = document.createElement('script');\n      element.onload = on_load;\n      element.onerror = on_error;\n      element.async = false;\n      element.src = url;\n      if (url in hashes) {\n        element.crossOrigin = \"anonymous\";\n        element.integrity = \"sha384-\" + hashes[url];\n      }\n      console.debug(\"Bokeh: injecting script tag for BokehJS library: \", url);\n      document.head.appendChild(element);\n    }\n  };\n\n  function inject_raw_css(css) {\n    const element = document.createElement(\"style\");\n    element.appendChild(document.createTextNode(css));\n    document.body.appendChild(element);\n  }\n\n  \n  var js_urls = [\"https://cdn.bokeh.org/bokeh/release/bokeh-2.2.3.min.js\", \"https://cdn.bokeh.org/bokeh/release/bokeh-widgets-2.2.3.min.js\", \"https://cdn.bokeh.org/bokeh/release/bokeh-tables-2.2.3.min.js\"];\n  var css_urls = [];\n  \n\n  var inline_js = [\n    function(Bokeh) {\n      Bokeh.set_log_level(\"info\");\n    },\n    function(Bokeh) {\n    \n    \n    }\n  ];\n\n  function run_inline_js() {\n    \n    if (root.Bokeh !== undefined || force === true) {\n      \n    for (var i = 0; i < inline_js.length; i++) {\n      inline_js[i].call(root, root.Bokeh);\n    }\n    if (force === true) {\n        display_loaded();\n      }} else if (Date.now() < root._bokeh_timeout) {\n      setTimeout(run_inline_js, 100);\n    } else if (!root._bokeh_failed_load) {\n      console.log(\"Bokeh: BokehJS failed to load within specified timeout.\");\n      root._bokeh_failed_load = true;\n    } else if (force !== true) {\n      var cell = $(document.getElementById(\"3697\")).parents('.cell').data().cell;\n      cell.output_area.append_execute_result(NB_LOAD_WARNING)\n    }\n\n  }\n\n  if (root._bokeh_is_loading === 0) {\n    console.debug(\"Bokeh: BokehJS loaded, going straight to plotting\");\n    run_inline_js();\n  } else {\n    load_libs(css_urls, js_urls, function() {\n      console.debug(\"Bokeh: BokehJS plotting callback run at\", now());\n      run_inline_js();\n    });\n  }\n}(window));",
      "application/vnd.bokehjs_load.v0+json": "\n(function(root) {\n  function now() {\n    return new Date();\n  }\n\n  var force = true;\n\n  if (typeof root._bokeh_onload_callbacks === \"undefined\" || force === true) {\n    root._bokeh_onload_callbacks = [];\n    root._bokeh_is_loading = undefined;\n  }\n\n  \n\n  \n  if (typeof (root._bokeh_timeout) === \"undefined\" || force === true) {\n    root._bokeh_timeout = Date.now() + 5000;\n    root._bokeh_failed_load = false;\n  }\n\n  var NB_LOAD_WARNING = {'data': {'text/html':\n     \"<div style='background-color: #fdd'>\\n\"+\n     \"<p>\\n\"+\n     \"BokehJS does not appear to have successfully loaded. If loading BokehJS from CDN, this \\n\"+\n     \"may be due to a slow or bad network connection. Possible fixes:\\n\"+\n     \"</p>\\n\"+\n     \"<ul>\\n\"+\n     \"<li>re-rerun `output_notebook()` to attempt to load from CDN again, or</li>\\n\"+\n     \"<li>use INLINE resources instead, as so:</li>\\n\"+\n     \"</ul>\\n\"+\n     \"<code>\\n\"+\n     \"from bokeh.resources import INLINE\\n\"+\n     \"output_notebook(resources=INLINE)\\n\"+\n     \"</code>\\n\"+\n     \"</div>\"}};\n\n  function display_loaded() {\n    var el = document.getElementById(\"3697\");\n    if (el != null) {\n      el.textContent = \"BokehJS is loading...\";\n    }\n    if (root.Bokeh !== undefined) {\n      if (el != null) {\n        el.textContent = \"BokehJS \" + root.Bokeh.version + \" successfully loaded.\";\n      }\n    } else if (Date.now() < root._bokeh_timeout) {\n      setTimeout(display_loaded, 100)\n    }\n  }\n\n\n  function run_callbacks() {\n    try {\n      root._bokeh_onload_callbacks.forEach(function(callback) {\n        if (callback != null)\n          callback();\n      });\n    } finally {\n      delete root._bokeh_onload_callbacks\n    }\n    console.debug(\"Bokeh: all callbacks have finished\");\n  }\n\n  function load_libs(css_urls, js_urls, callback) {\n    if (css_urls == null) css_urls = [];\n    if (js_urls == null) js_urls = [];\n\n    root._bokeh_onload_callbacks.push(callback);\n    if (root._bokeh_is_loading > 0) {\n      console.debug(\"Bokeh: BokehJS is being loaded, scheduling callback at\", now());\n      return null;\n    }\n    if (js_urls == null || js_urls.length === 0) {\n      run_callbacks();\n      return null;\n    }\n    console.debug(\"Bokeh: BokehJS not loaded, scheduling load and callback at\", now());\n    root._bokeh_is_loading = css_urls.length + js_urls.length;\n\n    function on_load() {\n      root._bokeh_is_loading--;\n      if (root._bokeh_is_loading === 0) {\n        console.debug(\"Bokeh: all BokehJS libraries/stylesheets loaded\");\n        run_callbacks()\n      }\n    }\n\n    function on_error() {\n      console.error(\"failed to load \" + url);\n    }\n\n    for (var i = 0; i < css_urls.length; i++) {\n      var url = css_urls[i];\n      const element = document.createElement(\"link\");\n      element.onload = on_load;\n      element.onerror = on_error;\n      element.rel = \"stylesheet\";\n      element.type = \"text/css\";\n      element.href = url;\n      console.debug(\"Bokeh: injecting link tag for BokehJS stylesheet: \", url);\n      document.body.appendChild(element);\n    }\n\n    const hashes = {\"https://cdn.bokeh.org/bokeh/release/bokeh-2.2.3.min.js\": \"T2yuo9Oe71Cz/I4X9Ac5+gpEa5a8PpJCDlqKYO0CfAuEszu1JrXLl8YugMqYe3sM\", \"https://cdn.bokeh.org/bokeh/release/bokeh-widgets-2.2.3.min.js\": \"98GDGJ0kOMCUMUePhksaQ/GYgB3+NH9h996V88sh3aOiUNX3N+fLXAtry6xctSZ6\", \"https://cdn.bokeh.org/bokeh/release/bokeh-tables-2.2.3.min.js\": \"89bArO+nlbP3sgakeHjCo1JYxYR5wufVgA3IbUvDY+K7w4zyxJqssu7wVnfeKCq8\"};\n\n    for (var i = 0; i < js_urls.length; i++) {\n      var url = js_urls[i];\n      var element = document.createElement('script');\n      element.onload = on_load;\n      element.onerror = on_error;\n      element.async = false;\n      element.src = url;\n      if (url in hashes) {\n        element.crossOrigin = \"anonymous\";\n        element.integrity = \"sha384-\" + hashes[url];\n      }\n      console.debug(\"Bokeh: injecting script tag for BokehJS library: \", url);\n      document.head.appendChild(element);\n    }\n  };\n\n  function inject_raw_css(css) {\n    const element = document.createElement(\"style\");\n    element.appendChild(document.createTextNode(css));\n    document.body.appendChild(element);\n  }\n\n  \n  var js_urls = [\"https://cdn.bokeh.org/bokeh/release/bokeh-2.2.3.min.js\", \"https://cdn.bokeh.org/bokeh/release/bokeh-widgets-2.2.3.min.js\", \"https://cdn.bokeh.org/bokeh/release/bokeh-tables-2.2.3.min.js\"];\n  var css_urls = [];\n  \n\n  var inline_js = [\n    function(Bokeh) {\n      Bokeh.set_log_level(\"info\");\n    },\n    function(Bokeh) {\n    \n    \n    }\n  ];\n\n  function run_inline_js() {\n    \n    if (root.Bokeh !== undefined || force === true) {\n      \n    for (var i = 0; i < inline_js.length; i++) {\n      inline_js[i].call(root, root.Bokeh);\n    }\n    if (force === true) {\n        display_loaded();\n      }} else if (Date.now() < root._bokeh_timeout) {\n      setTimeout(run_inline_js, 100);\n    } else if (!root._bokeh_failed_load) {\n      console.log(\"Bokeh: BokehJS failed to load within specified timeout.\");\n      root._bokeh_failed_load = true;\n    } else if (force !== true) {\n      var cell = $(document.getElementById(\"3697\")).parents('.cell').data().cell;\n      cell.output_area.append_execute_result(NB_LOAD_WARNING)\n    }\n\n  }\n\n  if (root._bokeh_is_loading === 0) {\n    console.debug(\"Bokeh: BokehJS loaded, going straight to plotting\");\n    run_inline_js();\n  } else {\n    load_libs(css_urls, js_urls, function() {\n      console.debug(\"Bokeh: BokehJS plotting callback run at\", now());\n      run_inline_js();\n    });\n  }\n}(window));"
     },
     "metadata": {}
    }
   ],
   "source": [
    "output_notebook()"
   ]
  },
  {
   "cell_type": "code",
   "execution_count": 252,
   "metadata": {},
   "outputs": [],
   "source": [
    "# Let's create a data arrays used for plotting the line plot\n",
    "x = [5,6,7,8,9,10]\n",
    "y = [1,2,3,4,5,6]"
   ]
  },
  {
   "cell_type": "markdown",
   "metadata": {},
   "source": [
    "Faire appel à la fonction Figure donne à Bokeh l'instruction de construire un graphe. On peut alors y ajouter les couches de glyphs."
   ]
  },
  {
   "cell_type": "code",
   "execution_count": 253,
   "metadata": {},
   "outputs": [],
   "source": [
    "# Faire appel à figure() pour créer la figure du plot\n",
    "p = figure(plot_width=400 , plot_height = 400)"
   ]
  },
  {
   "cell_type": "code",
   "execution_count": 254,
   "metadata": {},
   "outputs": [
    {
     "output_type": "execute_result",
     "data": {
      "text/plain": [
       "GlyphRenderer(id='3732', ...)"
      ],
      "text/html": "<div style=\"display: table;\"><div style=\"display: table-row;\"><div style=\"display: table-cell;\"><b title=\"bokeh.models.renderers.GlyphRenderer\">GlyphRenderer</b>(</div><div style=\"display: table-cell;\">id&nbsp;=&nbsp;'3732', <span id=\"3735\" style=\"cursor: pointer;\">&hellip;)</span></div></div><div class=\"3734\" style=\"display: none;\"><div style=\"display: table-cell;\"></div><div style=\"display: table-cell;\">data_source&nbsp;=&nbsp;ColumnDataSource(id='3729', ...),</div></div><div class=\"3734\" style=\"display: none;\"><div style=\"display: table-cell;\"></div><div style=\"display: table-cell;\">glyph&nbsp;=&nbsp;Line(id='3730', ...),</div></div><div class=\"3734\" style=\"display: none;\"><div style=\"display: table-cell;\"></div><div style=\"display: table-cell;\">hover_glyph&nbsp;=&nbsp;None,</div></div><div class=\"3734\" style=\"display: none;\"><div style=\"display: table-cell;\"></div><div style=\"display: table-cell;\">js_event_callbacks&nbsp;=&nbsp;{},</div></div><div class=\"3734\" style=\"display: none;\"><div style=\"display: table-cell;\"></div><div style=\"display: table-cell;\">js_property_callbacks&nbsp;=&nbsp;{},</div></div><div class=\"3734\" style=\"display: none;\"><div style=\"display: table-cell;\"></div><div style=\"display: table-cell;\">level&nbsp;=&nbsp;'glyph',</div></div><div class=\"3734\" style=\"display: none;\"><div style=\"display: table-cell;\"></div><div style=\"display: table-cell;\">muted&nbsp;=&nbsp;False,</div></div><div class=\"3734\" style=\"display: none;\"><div style=\"display: table-cell;\"></div><div style=\"display: table-cell;\">muted_glyph&nbsp;=&nbsp;None,</div></div><div class=\"3734\" style=\"display: none;\"><div style=\"display: table-cell;\"></div><div style=\"display: table-cell;\">name&nbsp;=&nbsp;None,</div></div><div class=\"3734\" style=\"display: none;\"><div style=\"display: table-cell;\"></div><div style=\"display: table-cell;\">nonselection_glyph&nbsp;=&nbsp;Line(id='3731', ...),</div></div><div class=\"3734\" style=\"display: none;\"><div style=\"display: table-cell;\"></div><div style=\"display: table-cell;\">selection_glyph&nbsp;=&nbsp;None,</div></div><div class=\"3734\" style=\"display: none;\"><div style=\"display: table-cell;\"></div><div style=\"display: table-cell;\">subscribed_events&nbsp;=&nbsp;[],</div></div><div class=\"3734\" style=\"display: none;\"><div style=\"display: table-cell;\"></div><div style=\"display: table-cell;\">tags&nbsp;=&nbsp;[],</div></div><div class=\"3734\" style=\"display: none;\"><div style=\"display: table-cell;\"></div><div style=\"display: table-cell;\">view&nbsp;=&nbsp;CDSView(id='3733', ...),</div></div><div class=\"3734\" style=\"display: none;\"><div style=\"display: table-cell;\"></div><div style=\"display: table-cell;\">visible&nbsp;=&nbsp;True,</div></div><div class=\"3734\" style=\"display: none;\"><div style=\"display: table-cell;\"></div><div style=\"display: table-cell;\">x_range_name&nbsp;=&nbsp;'default',</div></div><div class=\"3734\" style=\"display: none;\"><div style=\"display: table-cell;\"></div><div style=\"display: table-cell;\">y_range_name&nbsp;=&nbsp;'default')</div></div></div>\n<script>\n(function() {\n  var expanded = false;\n  var ellipsis = document.getElementById(\"3735\");\n  ellipsis.addEventListener(\"click\", function() {\n    var rows = document.getElementsByClassName(\"3734\");\n    for (var i = 0; i < rows.length; i++) {\n      var el = rows[i];\n      el.style.display = expanded ? \"none\" : \"table-row\";\n    }\n    ellipsis.innerHTML = expanded ? \"&hellip;)\" : \"&lsaquo;&lsaquo;&lsaquo;\";\n    expanded = !expanded;\n  });\n})();\n</script>\n"
     },
     "metadata": {},
     "execution_count": 254
    }
   ],
   "source": [
    "# Créer un line plot en utilisant la fonction line()\n",
    "p.line(x,y,line_width=2,color=\"green\")"
   ]
  },
  {
   "cell_type": "code",
   "execution_count": 255,
   "metadata": {},
   "outputs": [
    {
     "output_type": "execute_result",
     "data": {
      "text/plain": [
       "GlyphRenderer(id='3739', ...)"
      ],
      "text/html": "<div style=\"display: table;\"><div style=\"display: table-row;\"><div style=\"display: table-cell;\"><b title=\"bokeh.models.renderers.GlyphRenderer\">GlyphRenderer</b>(</div><div style=\"display: table-cell;\">id&nbsp;=&nbsp;'3739', <span id=\"3742\" style=\"cursor: pointer;\">&hellip;)</span></div></div><div class=\"3741\" style=\"display: none;\"><div style=\"display: table-cell;\"></div><div style=\"display: table-cell;\">data_source&nbsp;=&nbsp;ColumnDataSource(id='3736', ...),</div></div><div class=\"3741\" style=\"display: none;\"><div style=\"display: table-cell;\"></div><div style=\"display: table-cell;\">glyph&nbsp;=&nbsp;Circle(id='3737', ...),</div></div><div class=\"3741\" style=\"display: none;\"><div style=\"display: table-cell;\"></div><div style=\"display: table-cell;\">hover_glyph&nbsp;=&nbsp;None,</div></div><div class=\"3741\" style=\"display: none;\"><div style=\"display: table-cell;\"></div><div style=\"display: table-cell;\">js_event_callbacks&nbsp;=&nbsp;{},</div></div><div class=\"3741\" style=\"display: none;\"><div style=\"display: table-cell;\"></div><div style=\"display: table-cell;\">js_property_callbacks&nbsp;=&nbsp;{},</div></div><div class=\"3741\" style=\"display: none;\"><div style=\"display: table-cell;\"></div><div style=\"display: table-cell;\">level&nbsp;=&nbsp;'glyph',</div></div><div class=\"3741\" style=\"display: none;\"><div style=\"display: table-cell;\"></div><div style=\"display: table-cell;\">muted&nbsp;=&nbsp;False,</div></div><div class=\"3741\" style=\"display: none;\"><div style=\"display: table-cell;\"></div><div style=\"display: table-cell;\">muted_glyph&nbsp;=&nbsp;None,</div></div><div class=\"3741\" style=\"display: none;\"><div style=\"display: table-cell;\"></div><div style=\"display: table-cell;\">name&nbsp;=&nbsp;None,</div></div><div class=\"3741\" style=\"display: none;\"><div style=\"display: table-cell;\"></div><div style=\"display: table-cell;\">nonselection_glyph&nbsp;=&nbsp;Circle(id='3738', ...),</div></div><div class=\"3741\" style=\"display: none;\"><div style=\"display: table-cell;\"></div><div style=\"display: table-cell;\">selection_glyph&nbsp;=&nbsp;None,</div></div><div class=\"3741\" style=\"display: none;\"><div style=\"display: table-cell;\"></div><div style=\"display: table-cell;\">subscribed_events&nbsp;=&nbsp;[],</div></div><div class=\"3741\" style=\"display: none;\"><div style=\"display: table-cell;\"></div><div style=\"display: table-cell;\">tags&nbsp;=&nbsp;[],</div></div><div class=\"3741\" style=\"display: none;\"><div style=\"display: table-cell;\"></div><div style=\"display: table-cell;\">view&nbsp;=&nbsp;CDSView(id='3740', ...),</div></div><div class=\"3741\" style=\"display: none;\"><div style=\"display: table-cell;\"></div><div style=\"display: table-cell;\">visible&nbsp;=&nbsp;True,</div></div><div class=\"3741\" style=\"display: none;\"><div style=\"display: table-cell;\"></div><div style=\"display: table-cell;\">x_range_name&nbsp;=&nbsp;'default',</div></div><div class=\"3741\" style=\"display: none;\"><div style=\"display: table-cell;\"></div><div style=\"display: table-cell;\">y_range_name&nbsp;=&nbsp;'default')</div></div></div>\n<script>\n(function() {\n  var expanded = false;\n  var ellipsis = document.getElementById(\"3742\");\n  ellipsis.addEventListener(\"click\", function() {\n    var rows = document.getElementsByClassName(\"3741\");\n    for (var i = 0; i < rows.length; i++) {\n      var el = rows[i];\n      el.style.display = expanded ? \"none\" : \"table-row\";\n    }\n    ellipsis.innerHTML = expanded ? \"&hellip;)\" : \"&lsaquo;&lsaquo;&lsaquo;\";\n    expanded = !expanded;\n  });\n})();\n</script>\n"
     },
     "metadata": {},
     "execution_count": 255
    }
   ],
   "source": [
    "# Créer des markers sur le line plot au niveau de l'intersection entre x et y\n",
    "p.circle(x,y,fill_color=\"red\",size=6)\n"
   ]
  },
  {
   "cell_type": "code",
   "execution_count": 256,
   "metadata": {},
   "outputs": [
    {
     "output_type": "display_data",
     "data": {
      "text/html": "\n\n\n\n\n\n  <div class=\"bk-root\" id=\"a296711e-f9d8-4a94-9eed-aa2b468061b6\" data-root-id=\"3698\"></div>\n"
     },
     "metadata": {}
    },
    {
     "output_type": "display_data",
     "data": {
      "application/javascript": "(function(root) {\n  function embed_document(root) {\n    \n  var docs_json = {\"d23da2f0-78cc-40f4-afef-47f09fe37c2a\":{\"roots\":{\"references\":[{\"attributes\":{\"below\":[{\"id\":\"3707\"}],\"center\":[{\"id\":\"3710\"},{\"id\":\"3714\"}],\"left\":[{\"id\":\"3711\"}],\"plot_height\":400,\"plot_width\":400,\"renderers\":[{\"id\":\"3732\"},{\"id\":\"3739\"}],\"title\":{\"id\":\"3828\"},\"toolbar\":{\"id\":\"3722\"},\"x_range\":{\"id\":\"3699\"},\"x_scale\":{\"id\":\"3703\"},\"y_range\":{\"id\":\"3701\"},\"y_scale\":{\"id\":\"3705\"}},\"id\":\"3698\",\"subtype\":\"Figure\",\"type\":\"Plot\"},{\"attributes\":{\"formatter\":{\"id\":\"3831\"},\"ticker\":{\"id\":\"3712\"}},\"id\":\"3711\",\"type\":\"LinearAxis\"},{\"attributes\":{},\"id\":\"3703\",\"type\":\"LinearScale\"},{\"attributes\":{\"axis\":{\"id\":\"3707\"},\"ticker\":null},\"id\":\"3710\",\"type\":\"Grid\"},{\"attributes\":{\"line_color\":\"green\",\"line_width\":2,\"x\":{\"field\":\"x\"},\"y\":{\"field\":\"y\"}},\"id\":\"3730\",\"type\":\"Line\"},{\"attributes\":{},\"id\":\"3705\",\"type\":\"LinearScale\"},{\"attributes\":{},\"id\":\"3836\",\"type\":\"UnionRenderers\"},{\"attributes\":{},\"id\":\"3829\",\"type\":\"BasicTickFormatter\"},{\"attributes\":{},\"id\":\"3715\",\"type\":\"PanTool\"},{\"attributes\":{\"line_alpha\":0.1,\"line_color\":\"green\",\"line_width\":2,\"x\":{\"field\":\"x\"},\"y\":{\"field\":\"y\"}},\"id\":\"3731\",\"type\":\"Line\"},{\"attributes\":{},\"id\":\"3716\",\"type\":\"WheelZoomTool\"},{\"attributes\":{\"source\":{\"id\":\"3736\"}},\"id\":\"3740\",\"type\":\"CDSView\"},{\"attributes\":{\"data\":{\"x\":[5,6,7,8,9,10],\"y\":[1,2,3,4,5,6]},\"selected\":{\"id\":\"3833\"},\"selection_policy\":{\"id\":\"3834\"}},\"id\":\"3729\",\"type\":\"ColumnDataSource\"},{\"attributes\":{},\"id\":\"3720\",\"type\":\"HelpTool\"},{\"attributes\":{\"data\":{\"x\":[5,6,7,8,9,10],\"y\":[1,2,3,4,5,6]},\"selected\":{\"id\":\"3835\"},\"selection_policy\":{\"id\":\"3836\"}},\"id\":\"3736\",\"type\":\"ColumnDataSource\"},{\"attributes\":{\"bottom_units\":\"screen\",\"fill_alpha\":0.5,\"fill_color\":\"lightgrey\",\"left_units\":\"screen\",\"level\":\"overlay\",\"line_alpha\":1.0,\"line_color\":\"black\",\"line_dash\":[4,4],\"line_width\":2,\"right_units\":\"screen\",\"top_units\":\"screen\"},\"id\":\"3721\",\"type\":\"BoxAnnotation\"},{\"attributes\":{\"data_source\":{\"id\":\"3736\"},\"glyph\":{\"id\":\"3737\"},\"hover_glyph\":null,\"muted_glyph\":null,\"nonselection_glyph\":{\"id\":\"3738\"},\"selection_glyph\":null,\"view\":{\"id\":\"3740\"}},\"id\":\"3739\",\"type\":\"GlyphRenderer\"},{\"attributes\":{},\"id\":\"3831\",\"type\":\"BasicTickFormatter\"},{\"attributes\":{},\"id\":\"3718\",\"type\":\"SaveTool\"},{\"attributes\":{\"overlay\":{\"id\":\"3721\"}},\"id\":\"3717\",\"type\":\"BoxZoomTool\"},{\"attributes\":{\"source\":{\"id\":\"3729\"}},\"id\":\"3733\",\"type\":\"CDSView\"},{\"attributes\":{\"fill_alpha\":{\"value\":0.1},\"fill_color\":{\"value\":\"red\"},\"line_alpha\":{\"value\":0.1},\"line_color\":{\"value\":\"#1f77b4\"},\"size\":{\"units\":\"screen\",\"value\":6},\"x\":{\"field\":\"x\"},\"y\":{\"field\":\"y\"}},\"id\":\"3738\",\"type\":\"Circle\"},{\"attributes\":{\"active_drag\":\"auto\",\"active_inspect\":\"auto\",\"active_multi\":null,\"active_scroll\":\"auto\",\"active_tap\":\"auto\",\"tools\":[{\"id\":\"3715\"},{\"id\":\"3716\"},{\"id\":\"3717\"},{\"id\":\"3718\"},{\"id\":\"3719\"},{\"id\":\"3720\"}]},\"id\":\"3722\",\"type\":\"Toolbar\"},{\"attributes\":{\"axis\":{\"id\":\"3711\"},\"dimension\":1,\"ticker\":null},\"id\":\"3714\",\"type\":\"Grid\"},{\"attributes\":{\"data_source\":{\"id\":\"3729\"},\"glyph\":{\"id\":\"3730\"},\"hover_glyph\":null,\"muted_glyph\":null,\"nonselection_glyph\":{\"id\":\"3731\"},\"selection_glyph\":null,\"view\":{\"id\":\"3733\"}},\"id\":\"3732\",\"type\":\"GlyphRenderer\"},{\"attributes\":{\"text\":\"\"},\"id\":\"3828\",\"type\":\"Title\"},{\"attributes\":{},\"id\":\"3712\",\"type\":\"BasicTicker\"},{\"attributes\":{},\"id\":\"3834\",\"type\":\"UnionRenderers\"},{\"attributes\":{\"formatter\":{\"id\":\"3829\"},\"ticker\":{\"id\":\"3708\"}},\"id\":\"3707\",\"type\":\"LinearAxis\"},{\"attributes\":{},\"id\":\"3719\",\"type\":\"ResetTool\"},{\"attributes\":{},\"id\":\"3833\",\"type\":\"Selection\"},{\"attributes\":{\"fill_color\":{\"value\":\"red\"},\"line_color\":{\"value\":\"#1f77b4\"},\"size\":{\"units\":\"screen\",\"value\":6},\"x\":{\"field\":\"x\"},\"y\":{\"field\":\"y\"}},\"id\":\"3737\",\"type\":\"Circle\"},{\"attributes\":{},\"id\":\"3708\",\"type\":\"BasicTicker\"},{\"attributes\":{},\"id\":\"3701\",\"type\":\"DataRange1d\"},{\"attributes\":{},\"id\":\"3699\",\"type\":\"DataRange1d\"},{\"attributes\":{},\"id\":\"3835\",\"type\":\"Selection\"}],\"root_ids\":[\"3698\"]},\"title\":\"Bokeh Application\",\"version\":\"2.2.3\"}};\n  var render_items = [{\"docid\":\"d23da2f0-78cc-40f4-afef-47f09fe37c2a\",\"root_ids\":[\"3698\"],\"roots\":{\"3698\":\"a296711e-f9d8-4a94-9eed-aa2b468061b6\"}}];\n  root.Bokeh.embed.embed_items_notebook(docs_json, render_items);\n\n  }\n  if (root.Bokeh !== undefined) {\n    embed_document(root);\n  } else {\n    var attempts = 0;\n    var timer = setInterval(function(root) {\n      if (root.Bokeh !== undefined) {\n        clearInterval(timer);\n        embed_document(root);\n      } else {\n        attempts++;\n        if (attempts > 100) {\n          clearInterval(timer);\n          console.log(\"Bokeh: ERROR: Unable to run BokehJS code because BokehJS library is missing\");\n        }\n      }\n    }, 10, root)\n  }\n})(window);",
      "application/vnd.bokehjs_exec.v0+json": ""
     },
     "metadata": {
      "application/vnd.bokehjs_exec.v0+json": {
       "id": "3698"
      }
     }
    }
   ],
   "source": [
    "# Afficher le graphe au niveau de ce notebook\n",
    "show(p)"
   ]
  },
  {
   "cell_type": "markdown",
   "metadata": {},
   "source": [
    "On peut créer un scatter plot en utilisant x et y"
   ]
  },
  {
   "cell_type": "code",
   "execution_count": 257,
   "metadata": {},
   "outputs": [],
   "source": [
    "# Créer une nouvelle figure\n",
    "f = figure(plot_width=400 , plot_height = 400)"
   ]
  },
  {
   "cell_type": "code",
   "execution_count": 258,
   "metadata": {},
   "outputs": [
    {
     "output_type": "execute_result",
     "data": {
      "text/plain": [
       "GlyphRenderer(id='3927', ...)"
      ],
      "text/html": "<div style=\"display: table;\"><div style=\"display: table-row;\"><div style=\"display: table-cell;\"><b title=\"bokeh.models.renderers.GlyphRenderer\">GlyphRenderer</b>(</div><div style=\"display: table-cell;\">id&nbsp;=&nbsp;'3927', <span id=\"3930\" style=\"cursor: pointer;\">&hellip;)</span></div></div><div class=\"3929\" style=\"display: none;\"><div style=\"display: table-cell;\"></div><div style=\"display: table-cell;\">data_source&nbsp;=&nbsp;ColumnDataSource(id='3924', ...),</div></div><div class=\"3929\" style=\"display: none;\"><div style=\"display: table-cell;\"></div><div style=\"display: table-cell;\">glyph&nbsp;=&nbsp;Circle(id='3925', ...),</div></div><div class=\"3929\" style=\"display: none;\"><div style=\"display: table-cell;\"></div><div style=\"display: table-cell;\">hover_glyph&nbsp;=&nbsp;None,</div></div><div class=\"3929\" style=\"display: none;\"><div style=\"display: table-cell;\"></div><div style=\"display: table-cell;\">js_event_callbacks&nbsp;=&nbsp;{},</div></div><div class=\"3929\" style=\"display: none;\"><div style=\"display: table-cell;\"></div><div style=\"display: table-cell;\">js_property_callbacks&nbsp;=&nbsp;{},</div></div><div class=\"3929\" style=\"display: none;\"><div style=\"display: table-cell;\"></div><div style=\"display: table-cell;\">level&nbsp;=&nbsp;'glyph',</div></div><div class=\"3929\" style=\"display: none;\"><div style=\"display: table-cell;\"></div><div style=\"display: table-cell;\">muted&nbsp;=&nbsp;False,</div></div><div class=\"3929\" style=\"display: none;\"><div style=\"display: table-cell;\"></div><div style=\"display: table-cell;\">muted_glyph&nbsp;=&nbsp;None,</div></div><div class=\"3929\" style=\"display: none;\"><div style=\"display: table-cell;\"></div><div style=\"display: table-cell;\">name&nbsp;=&nbsp;None,</div></div><div class=\"3929\" style=\"display: none;\"><div style=\"display: table-cell;\"></div><div style=\"display: table-cell;\">nonselection_glyph&nbsp;=&nbsp;Circle(id='3926', ...),</div></div><div class=\"3929\" style=\"display: none;\"><div style=\"display: table-cell;\"></div><div style=\"display: table-cell;\">selection_glyph&nbsp;=&nbsp;None,</div></div><div class=\"3929\" style=\"display: none;\"><div style=\"display: table-cell;\"></div><div style=\"display: table-cell;\">subscribed_events&nbsp;=&nbsp;[],</div></div><div class=\"3929\" style=\"display: none;\"><div style=\"display: table-cell;\"></div><div style=\"display: table-cell;\">tags&nbsp;=&nbsp;[],</div></div><div class=\"3929\" style=\"display: none;\"><div style=\"display: table-cell;\"></div><div style=\"display: table-cell;\">view&nbsp;=&nbsp;CDSView(id='3928', ...),</div></div><div class=\"3929\" style=\"display: none;\"><div style=\"display: table-cell;\"></div><div style=\"display: table-cell;\">visible&nbsp;=&nbsp;True,</div></div><div class=\"3929\" style=\"display: none;\"><div style=\"display: table-cell;\"></div><div style=\"display: table-cell;\">x_range_name&nbsp;=&nbsp;'default',</div></div><div class=\"3929\" style=\"display: none;\"><div style=\"display: table-cell;\"></div><div style=\"display: table-cell;\">y_range_name&nbsp;=&nbsp;'default')</div></div></div>\n<script>\n(function() {\n  var expanded = false;\n  var ellipsis = document.getElementById(\"3930\");\n  ellipsis.addEventListener(\"click\", function() {\n    var rows = document.getElementsByClassName(\"3929\");\n    for (var i = 0; i < rows.length; i++) {\n      var el = rows[i];\n      el.style.display = expanded ? \"none\" : \"table-row\";\n    }\n    ellipsis.innerHTML = expanded ? \"&hellip;)\" : \"&lsaquo;&lsaquo;&lsaquo;\";\n    expanded = !expanded;\n  });\n})();\n</script>\n"
     },
     "metadata": {},
     "execution_count": 258
    }
   ],
   "source": [
    "# Afficher les points en utilisant un cirle marker\n",
    "f.circle(x,y,fill_color=\"red\",size=6)"
   ]
  },
  {
   "cell_type": "code",
   "execution_count": 259,
   "metadata": {},
   "outputs": [
    {
     "output_type": "display_data",
     "data": {
      "text/html": "\n\n\n\n\n\n  <div class=\"bk-root\" id=\"6e76d44b-7668-4761-b247-8bcb821bf20a\" data-root-id=\"3893\"></div>\n"
     },
     "metadata": {}
    },
    {
     "output_type": "display_data",
     "data": {
      "application/javascript": "(function(root) {\n  function embed_document(root) {\n    \n  var docs_json = {\"185f287f-010a-4375-ad22-c6a809030066\":{\"roots\":{\"references\":[{\"attributes\":{\"below\":[{\"id\":\"3902\"}],\"center\":[{\"id\":\"3905\"},{\"id\":\"3909\"}],\"left\":[{\"id\":\"3906\"}],\"plot_height\":400,\"plot_width\":400,\"renderers\":[{\"id\":\"3927\"}],\"title\":{\"id\":\"4027\"},\"toolbar\":{\"id\":\"3917\"},\"x_range\":{\"id\":\"3894\"},\"x_scale\":{\"id\":\"3898\"},\"y_range\":{\"id\":\"3896\"},\"y_scale\":{\"id\":\"3900\"}},\"id\":\"3893\",\"subtype\":\"Figure\",\"type\":\"Plot\"},{\"attributes\":{\"data_source\":{\"id\":\"3924\"},\"glyph\":{\"id\":\"3925\"},\"hover_glyph\":null,\"muted_glyph\":null,\"nonselection_glyph\":{\"id\":\"3926\"},\"selection_glyph\":null,\"view\":{\"id\":\"3928\"}},\"id\":\"3927\",\"type\":\"GlyphRenderer\"},{\"attributes\":{\"bottom_units\":\"screen\",\"fill_alpha\":0.5,\"fill_color\":\"lightgrey\",\"left_units\":\"screen\",\"level\":\"overlay\",\"line_alpha\":1.0,\"line_color\":\"black\",\"line_dash\":[4,4],\"line_width\":2,\"right_units\":\"screen\",\"top_units\":\"screen\"},\"id\":\"3916\",\"type\":\"BoxAnnotation\"},{\"attributes\":{},\"id\":\"3900\",\"type\":\"LinearScale\"},{\"attributes\":{\"overlay\":{\"id\":\"3916\"}},\"id\":\"3912\",\"type\":\"BoxZoomTool\"},{\"attributes\":{},\"id\":\"3898\",\"type\":\"LinearScale\"},{\"attributes\":{\"data\":{\"x\":[5,6,7,8,9,10],\"y\":[1,2,3,4,5,6]},\"selected\":{\"id\":\"4032\"},\"selection_policy\":{\"id\":\"4033\"}},\"id\":\"3924\",\"type\":\"ColumnDataSource\"},{\"attributes\":{},\"id\":\"3913\",\"type\":\"SaveTool\"},{\"attributes\":{},\"id\":\"3903\",\"type\":\"BasicTicker\"},{\"attributes\":{},\"id\":\"4030\",\"type\":\"BasicTickFormatter\"},{\"attributes\":{\"formatter\":{\"id\":\"4028\"},\"ticker\":{\"id\":\"3903\"}},\"id\":\"3902\",\"type\":\"LinearAxis\"},{\"attributes\":{\"active_drag\":\"auto\",\"active_inspect\":\"auto\",\"active_multi\":null,\"active_scroll\":\"auto\",\"active_tap\":\"auto\",\"tools\":[{\"id\":\"3910\"},{\"id\":\"3911\"},{\"id\":\"3912\"},{\"id\":\"3913\"},{\"id\":\"3914\"},{\"id\":\"3915\"}]},\"id\":\"3917\",\"type\":\"Toolbar\"},{\"attributes\":{\"fill_alpha\":{\"value\":0.1},\"fill_color\":{\"value\":\"red\"},\"line_alpha\":{\"value\":0.1},\"line_color\":{\"value\":\"#1f77b4\"},\"size\":{\"units\":\"screen\",\"value\":6},\"x\":{\"field\":\"x\"},\"y\":{\"field\":\"y\"}},\"id\":\"3926\",\"type\":\"Circle\"},{\"attributes\":{\"axis\":{\"id\":\"3906\"},\"dimension\":1,\"ticker\":null},\"id\":\"3909\",\"type\":\"Grid\"},{\"attributes\":{},\"id\":\"3915\",\"type\":\"HelpTool\"},{\"attributes\":{},\"id\":\"3896\",\"type\":\"DataRange1d\"},{\"attributes\":{\"source\":{\"id\":\"3924\"}},\"id\":\"3928\",\"type\":\"CDSView\"},{\"attributes\":{},\"id\":\"4032\",\"type\":\"Selection\"},{\"attributes\":{},\"id\":\"4033\",\"type\":\"UnionRenderers\"},{\"attributes\":{},\"id\":\"3894\",\"type\":\"DataRange1d\"},{\"attributes\":{},\"id\":\"3914\",\"type\":\"ResetTool\"},{\"attributes\":{\"text\":\"\"},\"id\":\"4027\",\"type\":\"Title\"},{\"attributes\":{\"formatter\":{\"id\":\"4030\"},\"ticker\":{\"id\":\"3907\"}},\"id\":\"3906\",\"type\":\"LinearAxis\"},{\"attributes\":{},\"id\":\"3907\",\"type\":\"BasicTicker\"},{\"attributes\":{},\"id\":\"4028\",\"type\":\"BasicTickFormatter\"},{\"attributes\":{\"fill_color\":{\"value\":\"red\"},\"line_color\":{\"value\":\"#1f77b4\"},\"size\":{\"units\":\"screen\",\"value\":6},\"x\":{\"field\":\"x\"},\"y\":{\"field\":\"y\"}},\"id\":\"3925\",\"type\":\"Circle\"},{\"attributes\":{\"axis\":{\"id\":\"3902\"},\"ticker\":null},\"id\":\"3905\",\"type\":\"Grid\"},{\"attributes\":{},\"id\":\"3910\",\"type\":\"PanTool\"},{\"attributes\":{},\"id\":\"3911\",\"type\":\"WheelZoomTool\"}],\"root_ids\":[\"3893\"]},\"title\":\"Bokeh Application\",\"version\":\"2.2.3\"}};\n  var render_items = [{\"docid\":\"185f287f-010a-4375-ad22-c6a809030066\",\"root_ids\":[\"3893\"],\"roots\":{\"3893\":\"6e76d44b-7668-4761-b247-8bcb821bf20a\"}}];\n  root.Bokeh.embed.embed_items_notebook(docs_json, render_items);\n\n  }\n  if (root.Bokeh !== undefined) {\n    embed_document(root);\n  } else {\n    var attempts = 0;\n    var timer = setInterval(function(root) {\n      if (root.Bokeh !== undefined) {\n        clearInterval(timer);\n        embed_document(root);\n      } else {\n        attempts++;\n        if (attempts > 100) {\n          clearInterval(timer);\n          console.log(\"Bokeh: ERROR: Unable to run BokehJS code because BokehJS library is missing\");\n        }\n      }\n    }, 10, root)\n  }\n})(window);",
      "application/vnd.bokehjs_exec.v0+json": ""
     },
     "metadata": {
      "application/vnd.bokehjs_exec.v0+json": {
       "id": "3893"
      }
     }
    }
   ],
   "source": [
    "# Afficher le graphe\n",
    "show(f)"
   ]
  },
  {
   "cell_type": "markdown",
   "metadata": {},
   "source": [
    "Lors de la création d'un scatter plot, on peut choisir parmi les markers disponible sur Bokeh: \n",
    "- cross()\n",
    "- x()\n",
    "- diamond()\n",
    "- diamond_cross()\n",
    "- circle_x()\n",
    "- circle_cross()\n",
    "- triangle()\n",
    "- inverted_triangle()\n",
    "- square()\n",
    "- square_x()\n",
    "- square_cross()\n",
    "- asterisk()"
   ]
  },
  {
   "cell_type": "code",
   "execution_count": 270,
   "metadata": {},
   "outputs": [
    {
     "output_type": "display_data",
     "data": {
      "text/html": "\n\n\n\n\n\n  <div class=\"bk-root\" id=\"26901849-7166-40e8-894f-6042388cd782\" data-root-id=\"3893\"></div>\n"
     },
     "metadata": {}
    },
    {
     "output_type": "display_data",
     "data": {
      "application/javascript": "(function(root) {\n  function embed_document(root) {\n    \n  var docs_json = {\"bf00fb78-a92b-4f95-a87e-f8c96e27ffb5\":{\"roots\":{\"references\":[{\"attributes\":{\"below\":[{\"id\":\"3902\"}],\"center\":[{\"id\":\"3905\"},{\"id\":\"3909\"}],\"left\":[{\"id\":\"3906\"}],\"plot_height\":400,\"plot_width\":400,\"renderers\":[{\"id\":\"3927\"},{\"id\":\"5448\"},{\"id\":\"5690\"}],\"title\":{\"id\":\"4027\"},\"toolbar\":{\"id\":\"3917\"},\"x_range\":{\"id\":\"3894\"},\"x_scale\":{\"id\":\"3898\"},\"y_range\":{\"id\":\"3896\"},\"y_scale\":{\"id\":\"3900\"}},\"id\":\"3893\",\"subtype\":\"Figure\",\"type\":\"Plot\"},{\"attributes\":{\"data_source\":{\"id\":\"5445\"},\"glyph\":{\"id\":\"5446\"},\"hover_glyph\":null,\"muted_glyph\":null,\"nonselection_glyph\":{\"id\":\"5447\"},\"selection_glyph\":null,\"view\":{\"id\":\"5449\"}},\"id\":\"5448\",\"type\":\"GlyphRenderer\"},{\"attributes\":{\"data_source\":{\"id\":\"3924\"},\"glyph\":{\"id\":\"3925\"},\"hover_glyph\":null,\"muted_glyph\":null,\"nonselection_glyph\":{\"id\":\"3926\"},\"selection_glyph\":null,\"view\":{\"id\":\"3928\"}},\"id\":\"3927\",\"type\":\"GlyphRenderer\"},{\"attributes\":{\"bottom_units\":\"screen\",\"fill_alpha\":0.5,\"fill_color\":\"lightgrey\",\"left_units\":\"screen\",\"level\":\"overlay\",\"line_alpha\":1.0,\"line_color\":\"black\",\"line_dash\":[4,4],\"line_width\":2,\"right_units\":\"screen\",\"top_units\":\"screen\"},\"id\":\"3916\",\"type\":\"BoxAnnotation\"},{\"attributes\":{},\"id\":\"5798\",\"type\":\"UnionRenderers\"},{\"attributes\":{},\"id\":\"3900\",\"type\":\"LinearScale\"},{\"attributes\":{\"source\":{\"id\":\"5445\"}},\"id\":\"5449\",\"type\":\"CDSView\"},{\"attributes\":{\"overlay\":{\"id\":\"3916\"}},\"id\":\"3912\",\"type\":\"BoxZoomTool\"},{\"attributes\":{},\"id\":\"3898\",\"type\":\"LinearScale\"},{\"attributes\":{\"fill_color\":{\"value\":\"#1f77b4\"},\"line_color\":{\"value\":\"green\"},\"line_width\":{\"value\":3},\"size\":{\"units\":\"screen\",\"value\":15},\"x\":{\"field\":\"x\"},\"y\":{\"field\":\"y\"}},\"id\":\"5688\",\"type\":\"Dash\"},{\"attributes\":{\"data\":{\"x\":[5,6,7,8,9,10],\"y\":[1,2,3,4,5,6]},\"selected\":{\"id\":\"4032\"},\"selection_policy\":{\"id\":\"4033\"}},\"id\":\"3924\",\"type\":\"ColumnDataSource\"},{\"attributes\":{},\"id\":\"3913\",\"type\":\"SaveTool\"},{\"attributes\":{},\"id\":\"3903\",\"type\":\"BasicTicker\"},{\"attributes\":{},\"id\":\"5797\",\"type\":\"Selection\"},{\"attributes\":{},\"id\":\"5554\",\"type\":\"UnionRenderers\"},{\"attributes\":{\"source\":{\"id\":\"5687\"}},\"id\":\"5691\",\"type\":\"CDSView\"},{\"attributes\":{},\"id\":\"4030\",\"type\":\"BasicTickFormatter\"},{\"attributes\":{\"data_source\":{\"id\":\"5687\"},\"glyph\":{\"id\":\"5688\"},\"hover_glyph\":null,\"muted_glyph\":null,\"nonselection_glyph\":{\"id\":\"5689\"},\"selection_glyph\":null,\"view\":{\"id\":\"5691\"}},\"id\":\"5690\",\"type\":\"GlyphRenderer\"},{\"attributes\":{\"formatter\":{\"id\":\"4028\"},\"ticker\":{\"id\":\"3903\"}},\"id\":\"3902\",\"type\":\"LinearAxis\"},{\"attributes\":{\"active_drag\":\"auto\",\"active_inspect\":\"auto\",\"active_multi\":null,\"active_scroll\":\"auto\",\"active_tap\":\"auto\",\"tools\":[{\"id\":\"3910\"},{\"id\":\"3911\"},{\"id\":\"3912\"},{\"id\":\"3913\"},{\"id\":\"3914\"},{\"id\":\"3915\"}]},\"id\":\"3917\",\"type\":\"Toolbar\"},{\"attributes\":{\"fill_alpha\":{\"value\":0.1},\"fill_color\":{\"value\":\"red\"},\"line_alpha\":{\"value\":0.1},\"line_color\":{\"value\":\"#1f77b4\"},\"size\":{\"units\":\"screen\",\"value\":6},\"x\":{\"field\":\"x\"},\"y\":{\"field\":\"y\"}},\"id\":\"3926\",\"type\":\"Circle\"},{\"attributes\":{\"fill_alpha\":{\"value\":0.1},\"fill_color\":{\"value\":\"#1f77b4\"},\"line_alpha\":{\"value\":0.1},\"line_color\":{\"value\":\"green\"},\"line_width\":{\"value\":3},\"size\":{\"units\":\"screen\",\"value\":15},\"x\":{\"field\":\"x\"},\"y\":{\"field\":\"y\"}},\"id\":\"5689\",\"type\":\"Dash\"},{\"attributes\":{\"axis\":{\"id\":\"3906\"},\"dimension\":1,\"ticker\":null},\"id\":\"3909\",\"type\":\"Grid\"},{\"attributes\":{},\"id\":\"3915\",\"type\":\"HelpTool\"},{\"attributes\":{\"fill_color\":{\"value\":\"#1f77b4\"},\"line_color\":{\"value\":\"green\"},\"line_width\":{\"value\":3},\"size\":{\"units\":\"screen\",\"value\":10},\"x\":{\"field\":\"x\"},\"y\":{\"field\":\"y\"}},\"id\":\"5446\",\"type\":\"Dash\"},{\"attributes\":{},\"id\":\"3896\",\"type\":\"DataRange1d\"},{\"attributes\":{\"source\":{\"id\":\"3924\"}},\"id\":\"3928\",\"type\":\"CDSView\"},{\"attributes\":{},\"id\":\"4032\",\"type\":\"Selection\"},{\"attributes\":{\"data\":{\"x\":[5,6,7,8,9,10],\"y\":[1,2,3,4,5,6]},\"selected\":{\"id\":\"5797\"},\"selection_policy\":{\"id\":\"5798\"}},\"id\":\"5687\",\"type\":\"ColumnDataSource\"},{\"attributes\":{},\"id\":\"4033\",\"type\":\"UnionRenderers\"},{\"attributes\":{},\"id\":\"3894\",\"type\":\"DataRange1d\"},{\"attributes\":{},\"id\":\"3914\",\"type\":\"ResetTool\"},{\"attributes\":{\"text\":\"\"},\"id\":\"4027\",\"type\":\"Title\"},{\"attributes\":{\"formatter\":{\"id\":\"4030\"},\"ticker\":{\"id\":\"3907\"}},\"id\":\"3906\",\"type\":\"LinearAxis\"},{\"attributes\":{},\"id\":\"3907\",\"type\":\"BasicTicker\"},{\"attributes\":{},\"id\":\"4028\",\"type\":\"BasicTickFormatter\"},{\"attributes\":{\"fill_color\":{\"value\":\"red\"},\"line_color\":{\"value\":\"#1f77b4\"},\"size\":{\"units\":\"screen\",\"value\":6},\"x\":{\"field\":\"x\"},\"y\":{\"field\":\"y\"}},\"id\":\"3925\",\"type\":\"Circle\"},{\"attributes\":{},\"id\":\"5553\",\"type\":\"Selection\"},{\"attributes\":{\"axis\":{\"id\":\"3902\"},\"ticker\":null},\"id\":\"3905\",\"type\":\"Grid\"},{\"attributes\":{\"fill_alpha\":{\"value\":0.1},\"fill_color\":{\"value\":\"#1f77b4\"},\"line_alpha\":{\"value\":0.1},\"line_color\":{\"value\":\"green\"},\"line_width\":{\"value\":3},\"size\":{\"units\":\"screen\",\"value\":10},\"x\":{\"field\":\"x\"},\"y\":{\"field\":\"y\"}},\"id\":\"5447\",\"type\":\"Dash\"},{\"attributes\":{},\"id\":\"3910\",\"type\":\"PanTool\"},{\"attributes\":{\"data\":{\"x\":[5,6,7,8,9,10],\"y\":[1,2,3,4,5,6]},\"selected\":{\"id\":\"5553\"},\"selection_policy\":{\"id\":\"5554\"}},\"id\":\"5445\",\"type\":\"ColumnDataSource\"},{\"attributes\":{},\"id\":\"3911\",\"type\":\"WheelZoomTool\"}],\"root_ids\":[\"3893\"]},\"title\":\"Bokeh Application\",\"version\":\"2.2.3\"}};\n  var render_items = [{\"docid\":\"bf00fb78-a92b-4f95-a87e-f8c96e27ffb5\",\"root_ids\":[\"3893\"],\"roots\":{\"3893\":\"26901849-7166-40e8-894f-6042388cd782\"}}];\n  root.Bokeh.embed.embed_items_notebook(docs_json, render_items);\n\n  }\n  if (root.Bokeh !== undefined) {\n    embed_document(root);\n  } else {\n    var attempts = 0;\n    var timer = setInterval(function(root) {\n      if (root.Bokeh !== undefined) {\n        clearInterval(timer);\n        embed_document(root);\n      } else {\n        attempts++;\n        if (attempts > 100) {\n          clearInterval(timer);\n          console.log(\"Bokeh: ERROR: Unable to run BokehJS code because BokehJS library is missing\");\n        }\n      }\n    }, 10, root)\n  }\n})(window);",
      "application/vnd.bokehjs_exec.v0+json": ""
     },
     "metadata": {
      "application/vnd.bokehjs_exec.v0+json": {
       "id": "3893"
      }
     }
    }
   ],
   "source": [
    "# Tester d'autre markers pour votre scatterplot\n",
    "\n",
    "# On va tester le marker dash \n",
    "# Il y a aussi autres markers comme hex_dot , plus , square_pin , ...\n",
    "f1 = figure(plot_width=400 , plot_height = 400)\n",
    "f.dash(x,y,size=15,line_color=\"green\",line_width=3)\n",
    "show(f)"
   ]
  },
  {
   "cell_type": "markdown",
   "metadata": {},
   "source": [
    "<br> On peut également ajouter des libélés aux axes x et y en assignant les libélés dans la fonction figure."
   ]
  },
  {
   "cell_type": "code",
   "execution_count": 272,
   "metadata": {},
   "outputs": [
    {
     "output_type": "display_data",
     "data": {
      "text/html": "\n\n\n\n\n\n  <div class=\"bk-root\" id=\"7f8f58f1-fa63-4a0c-9c07-fd8a96972145\" data-root-id=\"3893\"></div>\n"
     },
     "metadata": {}
    },
    {
     "output_type": "display_data",
     "data": {
      "application/javascript": "(function(root) {\n  function embed_document(root) {\n    \n  var docs_json = {\"8fa143e0-53ac-40f3-92f7-11addd13968f\":{\"roots\":{\"references\":[{\"attributes\":{\"below\":[{\"id\":\"3902\"}],\"center\":[{\"id\":\"3905\"},{\"id\":\"3909\"}],\"left\":[{\"id\":\"3906\"}],\"margin\":[0,0,0,0],\"plot_height\":400,\"plot_width\":400,\"renderers\":[{\"id\":\"3927\"},{\"id\":\"5448\"},{\"id\":\"5690\"}],\"title\":{\"id\":\"4027\"},\"toolbar\":{\"id\":\"3917\"},\"x_range\":{\"id\":\"3894\"},\"x_scale\":{\"id\":\"3898\"},\"y_range\":{\"id\":\"3896\"},\"y_scale\":{\"id\":\"3900\"}},\"id\":\"3893\",\"subtype\":\"Figure\",\"type\":\"Plot\"},{\"attributes\":{\"data_source\":{\"id\":\"5445\"},\"glyph\":{\"id\":\"5446\"},\"hover_glyph\":null,\"muted_glyph\":null,\"nonselection_glyph\":{\"id\":\"5447\"},\"selection_glyph\":null,\"view\":{\"id\":\"5449\"}},\"id\":\"5448\",\"type\":\"GlyphRenderer\"},{\"attributes\":{\"data_source\":{\"id\":\"3924\"},\"glyph\":{\"id\":\"3925\"},\"hover_glyph\":null,\"muted_glyph\":null,\"nonselection_glyph\":{\"id\":\"3926\"},\"selection_glyph\":null,\"view\":{\"id\":\"3928\"}},\"id\":\"3927\",\"type\":\"GlyphRenderer\"},{\"attributes\":{\"bottom_units\":\"screen\",\"fill_alpha\":0.5,\"fill_color\":\"lightgrey\",\"left_units\":\"screen\",\"level\":\"overlay\",\"line_alpha\":1.0,\"line_color\":\"black\",\"line_dash\":[4,4],\"line_width\":2,\"right_units\":\"screen\",\"top_units\":\"screen\"},\"id\":\"3916\",\"type\":\"BoxAnnotation\"},{\"attributes\":{},\"id\":\"5798\",\"type\":\"UnionRenderers\"},{\"attributes\":{},\"id\":\"3900\",\"type\":\"LinearScale\"},{\"attributes\":{\"source\":{\"id\":\"5445\"}},\"id\":\"5449\",\"type\":\"CDSView\"},{\"attributes\":{\"overlay\":{\"id\":\"3916\"}},\"id\":\"3912\",\"type\":\"BoxZoomTool\"},{\"attributes\":{},\"id\":\"3898\",\"type\":\"LinearScale\"},{\"attributes\":{\"fill_color\":{\"value\":\"#1f77b4\"},\"line_color\":{\"value\":\"green\"},\"line_width\":{\"value\":3},\"size\":{\"units\":\"screen\",\"value\":15},\"x\":{\"field\":\"x\"},\"y\":{\"field\":\"y\"}},\"id\":\"5688\",\"type\":\"Dash\"},{\"attributes\":{\"data\":{\"x\":[5,6,7,8,9,10],\"y\":[1,2,3,4,5,6]},\"selected\":{\"id\":\"4032\"},\"selection_policy\":{\"id\":\"4033\"}},\"id\":\"3924\",\"type\":\"ColumnDataSource\"},{\"attributes\":{},\"id\":\"3913\",\"type\":\"SaveTool\"},{\"attributes\":{},\"id\":\"3903\",\"type\":\"BasicTicker\"},{\"attributes\":{},\"id\":\"5797\",\"type\":\"Selection\"},{\"attributes\":{},\"id\":\"5554\",\"type\":\"UnionRenderers\"},{\"attributes\":{\"source\":{\"id\":\"5687\"}},\"id\":\"5691\",\"type\":\"CDSView\"},{\"attributes\":{},\"id\":\"4030\",\"type\":\"BasicTickFormatter\"},{\"attributes\":{\"data_source\":{\"id\":\"5687\"},\"glyph\":{\"id\":\"5688\"},\"hover_glyph\":null,\"muted_glyph\":null,\"nonselection_glyph\":{\"id\":\"5689\"},\"selection_glyph\":null,\"view\":{\"id\":\"5691\"}},\"id\":\"5690\",\"type\":\"GlyphRenderer\"},{\"attributes\":{\"axis_label\":\"Abscisses\",\"bounds\":\"auto\",\"formatter\":{\"id\":\"4028\"},\"major_label_orientation\":\"horizontal\",\"ticker\":{\"id\":\"3903\"}},\"id\":\"3902\",\"type\":\"LinearAxis\"},{\"attributes\":{\"active_drag\":\"auto\",\"active_inspect\":\"auto\",\"active_multi\":null,\"active_scroll\":\"auto\",\"active_tap\":\"auto\",\"tools\":[{\"id\":\"3910\"},{\"id\":\"3911\"},{\"id\":\"3912\"},{\"id\":\"3913\"},{\"id\":\"3914\"},{\"id\":\"3915\"}]},\"id\":\"3917\",\"type\":\"Toolbar\"},{\"attributes\":{\"fill_alpha\":{\"value\":0.1},\"fill_color\":{\"value\":\"red\"},\"line_alpha\":{\"value\":0.1},\"line_color\":{\"value\":\"#1f77b4\"},\"size\":{\"units\":\"screen\",\"value\":6},\"x\":{\"field\":\"x\"},\"y\":{\"field\":\"y\"}},\"id\":\"3926\",\"type\":\"Circle\"},{\"attributes\":{\"fill_alpha\":{\"value\":0.1},\"fill_color\":{\"value\":\"#1f77b4\"},\"line_alpha\":{\"value\":0.1},\"line_color\":{\"value\":\"green\"},\"line_width\":{\"value\":3},\"size\":{\"units\":\"screen\",\"value\":15},\"x\":{\"field\":\"x\"},\"y\":{\"field\":\"y\"}},\"id\":\"5689\",\"type\":\"Dash\"},{\"attributes\":{\"axis\":{\"id\":\"3906\"},\"dimension\":1,\"ticker\":null},\"id\":\"3909\",\"type\":\"Grid\"},{\"attributes\":{},\"id\":\"3915\",\"type\":\"HelpTool\"},{\"attributes\":{\"fill_color\":{\"value\":\"#1f77b4\"},\"line_color\":{\"value\":\"green\"},\"line_width\":{\"value\":3},\"size\":{\"units\":\"screen\",\"value\":10},\"x\":{\"field\":\"x\"},\"y\":{\"field\":\"y\"}},\"id\":\"5446\",\"type\":\"Dash\"},{\"attributes\":{},\"id\":\"3896\",\"type\":\"DataRange1d\"},{\"attributes\":{\"source\":{\"id\":\"3924\"}},\"id\":\"3928\",\"type\":\"CDSView\"},{\"attributes\":{},\"id\":\"4032\",\"type\":\"Selection\"},{\"attributes\":{\"data\":{\"x\":[5,6,7,8,9,10],\"y\":[1,2,3,4,5,6]},\"selected\":{\"id\":\"5797\"},\"selection_policy\":{\"id\":\"5798\"}},\"id\":\"5687\",\"type\":\"ColumnDataSource\"},{\"attributes\":{},\"id\":\"4033\",\"type\":\"UnionRenderers\"},{\"attributes\":{},\"id\":\"3894\",\"type\":\"DataRange1d\"},{\"attributes\":{},\"id\":\"3914\",\"type\":\"ResetTool\"},{\"attributes\":{\"text\":\"\"},\"id\":\"4027\",\"type\":\"Title\"},{\"attributes\":{\"axis_label\":\"ordon\\u00e9es\",\"bounds\":\"auto\",\"formatter\":{\"id\":\"4030\"},\"major_label_orientation\":\"horizontal\",\"ticker\":{\"id\":\"3907\"}},\"id\":\"3906\",\"type\":\"LinearAxis\"},{\"attributes\":{},\"id\":\"3907\",\"type\":\"BasicTicker\"},{\"attributes\":{},\"id\":\"4028\",\"type\":\"BasicTickFormatter\"},{\"attributes\":{\"fill_color\":{\"value\":\"red\"},\"line_color\":{\"value\":\"#1f77b4\"},\"size\":{\"units\":\"screen\",\"value\":6},\"x\":{\"field\":\"x\"},\"y\":{\"field\":\"y\"}},\"id\":\"3925\",\"type\":\"Circle\"},{\"attributes\":{},\"id\":\"5553\",\"type\":\"Selection\"},{\"attributes\":{\"axis\":{\"id\":\"3902\"},\"ticker\":null},\"id\":\"3905\",\"type\":\"Grid\"},{\"attributes\":{\"fill_alpha\":{\"value\":0.1},\"fill_color\":{\"value\":\"#1f77b4\"},\"line_alpha\":{\"value\":0.1},\"line_color\":{\"value\":\"green\"},\"line_width\":{\"value\":3},\"size\":{\"units\":\"screen\",\"value\":10},\"x\":{\"field\":\"x\"},\"y\":{\"field\":\"y\"}},\"id\":\"5447\",\"type\":\"Dash\"},{\"attributes\":{},\"id\":\"3910\",\"type\":\"PanTool\"},{\"attributes\":{\"data\":{\"x\":[5,6,7,8,9,10],\"y\":[1,2,3,4,5,6]},\"selected\":{\"id\":\"5553\"},\"selection_policy\":{\"id\":\"5554\"}},\"id\":\"5445\",\"type\":\"ColumnDataSource\"},{\"attributes\":{},\"id\":\"3911\",\"type\":\"WheelZoomTool\"}],\"root_ids\":[\"3893\"]},\"title\":\"Bokeh Application\",\"version\":\"2.2.3\"}};\n  var render_items = [{\"docid\":\"8fa143e0-53ac-40f3-92f7-11addd13968f\",\"root_ids\":[\"3893\"],\"roots\":{\"3893\":\"7f8f58f1-fa63-4a0c-9c07-fd8a96972145\"}}];\n  root.Bokeh.embed.embed_items_notebook(docs_json, render_items);\n\n  }\n  if (root.Bokeh !== undefined) {\n    embed_document(root);\n  } else {\n    var attempts = 0;\n    var timer = setInterval(function(root) {\n      if (root.Bokeh !== undefined) {\n        clearInterval(timer);\n        embed_document(root);\n      } else {\n        attempts++;\n        if (attempts > 100) {\n          clearInterval(timer);\n          console.log(\"Bokeh: ERROR: Unable to run BokehJS code because BokehJS library is missing\");\n        }\n      }\n    }, 10, root)\n  }\n})(window);",
      "application/vnd.bokehjs_exec.v0+json": ""
     },
     "metadata": {
      "application/vnd.bokehjs_exec.v0+json": {
       "id": "3893"
      }
     }
    }
   ],
   "source": [
    "# Ajouter les libélés aux axes x et y\n",
    "f.xaxis.axis_label = \"Abscisses\"\n",
    "f.yaxis.axis_label = \"ordonées\"\n",
    "show(f)"
   ]
  },
  {
   "cell_type": "markdown",
   "metadata": {},
   "source": [
    "<br>Il est possible de changer la transparence d'une figure en utilisant l'attribut alpha dans la fonction circle. Ceci est utile quand nos points de données sont susceptibles de se croiser. L'argument alpha prend des valuers de 0 (complètement transparent) et 1 (complètement opaque). \n",
    "\n",
    "<br> Sur les visualisations Bokeh, on est fournit par défaut, dans la partie droite du graphe, avec des fonctionnalités de panning, zooming, selection, et sauvegarde. Ces outils sont configurables et très utiles pour l'exploration des données. \n",
    "<br><br> Vous pouvez tester d'autres visualisations à partir de la Bokeh Gallery: https://docs.bokeh.org/en/latest/docs/gallery.html#gallery"
   ]
  },
  {
   "cell_type": "markdown",
   "metadata": {},
   "source": [
    "<br> </br>\n",
    "## B. Visualisations à base des Dataframes Pandas"
   ]
  },
  {
   "cell_type": "markdown",
   "metadata": {},
   "source": [
    "Les dataframe Pandas sont fréquemment utilisées dans les projets data science. Même si Pandas offre quelques possibilités de visualisation des données (e.g. hist qu'on a vu dans TP1, boxplot...), les librairies spécialisées en Data visualisation sont plus adeptes aux challenges de construire des data viz conviviales, complexes et interactives. Bokeh supporte nativement les Pandas dataframe et offre des fonctionnalités qui aident à contruire des graphes interactifs en se basant sur leurs données.\n",
    "<br><br> Au niveau du TP1, on a créé des Heatmaps pour mieux visualiser les corrélations entre les différentes. On va reprendre les données des pistes musicales du TP1 et créer davantage de visualisations. "
   ]
  },
  {
   "cell_type": "code",
   "execution_count": 2,
   "metadata": {},
   "outputs": [],
   "source": [
    "import pandas as pd"
   ]
  },
  {
   "cell_type": "code",
   "execution_count": 3,
   "metadata": {},
   "outputs": [
    {
     "output_type": "execute_result",
     "data": {
      "text/plain": [
       "        acousticness                                   artists  danceability  \\\n",
       "0             0.9950                       ['Carl Woitschach']         0.708   \n",
       "1             0.9940  ['Robert Schumann', 'Vladimir Horowitz']         0.379   \n",
       "2             0.6040                   ['Seweryn Goszczyński']         0.749   \n",
       "3             0.9950                      ['Francisco Canaro']         0.781   \n",
       "4             0.9900  ['Frédéric Chopin', 'Vladimir Horowitz']         0.210   \n",
       "...              ...                                       ...           ...   \n",
       "169904        0.1730                    ['DripReport', 'Tyga']         0.875   \n",
       "169905        0.0167        ['Leon Bridges', 'Terrace Martin']         0.719   \n",
       "169906        0.5380                     ['Kygo', 'Oh Wonder']         0.514   \n",
       "169907        0.0714             ['Cash Cash', 'Andy Grammer']         0.646   \n",
       "169908        0.1090                        ['Ingrid Andress']         0.512   \n",
       "\n",
       "        duration_ms  energy  explicit                      id  \\\n",
       "0            158648  0.1950         0  6KbQ3uYMLKb5jDxLF7wYDD   \n",
       "1            282133  0.0135         0  6KuQTIu1KoTTkLXKrwlLPV   \n",
       "2            104300  0.2200         0  6L63VW0PibdM1HDSBoqnoM   \n",
       "3            180760  0.1300         0  6M94FkXd15sOAOQYRnWPN8   \n",
       "4            687733  0.2040         0  6N6tiFZ9vLTSOIxkj8qKrd   \n",
       "...             ...     ...       ...                     ...   \n",
       "169904       163800  0.4430         1  4KppkflX7I3vJQk7urOJaS   \n",
       "169905       167468  0.3850         0  1ehhGlTvjtHo2e4xJFB0SZ   \n",
       "169906       180700  0.5390         0  52eycxprLhK3lPcRLbQiVk   \n",
       "169907       167308  0.7610         0  3wYOGJYD31sLRmBgCvWxa4   \n",
       "169908       214787  0.4280         0  60RFlt48hm0l4Fu0JoccOl   \n",
       "\n",
       "        instrumentalness  key  liveness  loudness  mode  \\\n",
       "0               0.563000   10    0.1510   -12.428     1   \n",
       "1               0.901000    8    0.0763   -28.454     1   \n",
       "2               0.000000    5    0.1190   -19.924     0   \n",
       "3               0.887000    1    0.1110   -14.734     0   \n",
       "4               0.908000   11    0.0980   -16.829     1   \n",
       "...                  ...  ...       ...       ...   ...   \n",
       "169904          0.000032    1    0.0891    -7.461     1   \n",
       "169905          0.031300    8    0.1110   -10.907     1   \n",
       "169906          0.002330    7    0.1080    -9.332     1   \n",
       "169907          0.000000    1    0.2220    -2.557     1   \n",
       "169908          0.000000    0    0.1050    -7.387     1   \n",
       "\n",
       "                                                 name  popularity  \\\n",
       "0                         Singende Bataillone 1. Teil           0   \n",
       "1            Fantasiestücke, Op. 111: Più tosto lento           0   \n",
       "2                      Chapter 1.18 - Zamek kaniowski           0   \n",
       "3       Bebamos Juntos - Instrumental (Remasterizado)           0   \n",
       "4         Polonaise-Fantaisie in A-Flat Major, Op. 61           1   \n",
       "...                                               ...         ...   \n",
       "169904                  Skechers (feat. Tyga) - Remix          75   \n",
       "169905                 Sweeter (feat. Terrace Martin)          64   \n",
       "169906                               How Would I Know          70   \n",
       "169907                                    I Found You          70   \n",
       "169908                          More Hearts Than Mine          65   \n",
       "\n",
       "       release_date  speechiness    tempo  valence  year  \n",
       "0              1928       0.0506  118.469   0.7790  1928  \n",
       "1              1928       0.0462   83.972   0.0767  1928  \n",
       "2              1928       0.9290  107.177   0.8800  1928  \n",
       "3        1928-09-25       0.0926  108.003   0.7200  1928  \n",
       "4              1928       0.0424   62.149   0.0693  1928  \n",
       "...             ...          ...      ...      ...   ...  \n",
       "169904   2020-05-15       0.1430  100.012   0.3060  2020  \n",
       "169905   2020-06-08       0.0403  128.000   0.2700  2020  \n",
       "169906   2020-05-29       0.1050  123.700   0.1530  2020  \n",
       "169907   2020-02-28       0.0385  129.916   0.4720  2020  \n",
       "169908   2020-03-27       0.0271   80.588   0.3660  2020  \n",
       "\n",
       "[169909 rows x 19 columns]"
      ],
      "text/html": "<div>\n<style scoped>\n    .dataframe tbody tr th:only-of-type {\n        vertical-align: middle;\n    }\n\n    .dataframe tbody tr th {\n        vertical-align: top;\n    }\n\n    .dataframe thead th {\n        text-align: right;\n    }\n</style>\n<table border=\"1\" class=\"dataframe\">\n  <thead>\n    <tr style=\"text-align: right;\">\n      <th></th>\n      <th>acousticness</th>\n      <th>artists</th>\n      <th>danceability</th>\n      <th>duration_ms</th>\n      <th>energy</th>\n      <th>explicit</th>\n      <th>id</th>\n      <th>instrumentalness</th>\n      <th>key</th>\n      <th>liveness</th>\n      <th>loudness</th>\n      <th>mode</th>\n      <th>name</th>\n      <th>popularity</th>\n      <th>release_date</th>\n      <th>speechiness</th>\n      <th>tempo</th>\n      <th>valence</th>\n      <th>year</th>\n    </tr>\n  </thead>\n  <tbody>\n    <tr>\n      <th>0</th>\n      <td>0.9950</td>\n      <td>['Carl Woitschach']</td>\n      <td>0.708</td>\n      <td>158648</td>\n      <td>0.1950</td>\n      <td>0</td>\n      <td>6KbQ3uYMLKb5jDxLF7wYDD</td>\n      <td>0.563000</td>\n      <td>10</td>\n      <td>0.1510</td>\n      <td>-12.428</td>\n      <td>1</td>\n      <td>Singende Bataillone 1. Teil</td>\n      <td>0</td>\n      <td>1928</td>\n      <td>0.0506</td>\n      <td>118.469</td>\n      <td>0.7790</td>\n      <td>1928</td>\n    </tr>\n    <tr>\n      <th>1</th>\n      <td>0.9940</td>\n      <td>['Robert Schumann', 'Vladimir Horowitz']</td>\n      <td>0.379</td>\n      <td>282133</td>\n      <td>0.0135</td>\n      <td>0</td>\n      <td>6KuQTIu1KoTTkLXKrwlLPV</td>\n      <td>0.901000</td>\n      <td>8</td>\n      <td>0.0763</td>\n      <td>-28.454</td>\n      <td>1</td>\n      <td>Fantasiestücke, Op. 111: Più tosto lento</td>\n      <td>0</td>\n      <td>1928</td>\n      <td>0.0462</td>\n      <td>83.972</td>\n      <td>0.0767</td>\n      <td>1928</td>\n    </tr>\n    <tr>\n      <th>2</th>\n      <td>0.6040</td>\n      <td>['Seweryn Goszczyński']</td>\n      <td>0.749</td>\n      <td>104300</td>\n      <td>0.2200</td>\n      <td>0</td>\n      <td>6L63VW0PibdM1HDSBoqnoM</td>\n      <td>0.000000</td>\n      <td>5</td>\n      <td>0.1190</td>\n      <td>-19.924</td>\n      <td>0</td>\n      <td>Chapter 1.18 - Zamek kaniowski</td>\n      <td>0</td>\n      <td>1928</td>\n      <td>0.9290</td>\n      <td>107.177</td>\n      <td>0.8800</td>\n      <td>1928</td>\n    </tr>\n    <tr>\n      <th>3</th>\n      <td>0.9950</td>\n      <td>['Francisco Canaro']</td>\n      <td>0.781</td>\n      <td>180760</td>\n      <td>0.1300</td>\n      <td>0</td>\n      <td>6M94FkXd15sOAOQYRnWPN8</td>\n      <td>0.887000</td>\n      <td>1</td>\n      <td>0.1110</td>\n      <td>-14.734</td>\n      <td>0</td>\n      <td>Bebamos Juntos - Instrumental (Remasterizado)</td>\n      <td>0</td>\n      <td>1928-09-25</td>\n      <td>0.0926</td>\n      <td>108.003</td>\n      <td>0.7200</td>\n      <td>1928</td>\n    </tr>\n    <tr>\n      <th>4</th>\n      <td>0.9900</td>\n      <td>['Frédéric Chopin', 'Vladimir Horowitz']</td>\n      <td>0.210</td>\n      <td>687733</td>\n      <td>0.2040</td>\n      <td>0</td>\n      <td>6N6tiFZ9vLTSOIxkj8qKrd</td>\n      <td>0.908000</td>\n      <td>11</td>\n      <td>0.0980</td>\n      <td>-16.829</td>\n      <td>1</td>\n      <td>Polonaise-Fantaisie in A-Flat Major, Op. 61</td>\n      <td>1</td>\n      <td>1928</td>\n      <td>0.0424</td>\n      <td>62.149</td>\n      <td>0.0693</td>\n      <td>1928</td>\n    </tr>\n    <tr>\n      <th>...</th>\n      <td>...</td>\n      <td>...</td>\n      <td>...</td>\n      <td>...</td>\n      <td>...</td>\n      <td>...</td>\n      <td>...</td>\n      <td>...</td>\n      <td>...</td>\n      <td>...</td>\n      <td>...</td>\n      <td>...</td>\n      <td>...</td>\n      <td>...</td>\n      <td>...</td>\n      <td>...</td>\n      <td>...</td>\n      <td>...</td>\n      <td>...</td>\n    </tr>\n    <tr>\n      <th>169904</th>\n      <td>0.1730</td>\n      <td>['DripReport', 'Tyga']</td>\n      <td>0.875</td>\n      <td>163800</td>\n      <td>0.4430</td>\n      <td>1</td>\n      <td>4KppkflX7I3vJQk7urOJaS</td>\n      <td>0.000032</td>\n      <td>1</td>\n      <td>0.0891</td>\n      <td>-7.461</td>\n      <td>1</td>\n      <td>Skechers (feat. Tyga) - Remix</td>\n      <td>75</td>\n      <td>2020-05-15</td>\n      <td>0.1430</td>\n      <td>100.012</td>\n      <td>0.3060</td>\n      <td>2020</td>\n    </tr>\n    <tr>\n      <th>169905</th>\n      <td>0.0167</td>\n      <td>['Leon Bridges', 'Terrace Martin']</td>\n      <td>0.719</td>\n      <td>167468</td>\n      <td>0.3850</td>\n      <td>0</td>\n      <td>1ehhGlTvjtHo2e4xJFB0SZ</td>\n      <td>0.031300</td>\n      <td>8</td>\n      <td>0.1110</td>\n      <td>-10.907</td>\n      <td>1</td>\n      <td>Sweeter (feat. Terrace Martin)</td>\n      <td>64</td>\n      <td>2020-06-08</td>\n      <td>0.0403</td>\n      <td>128.000</td>\n      <td>0.2700</td>\n      <td>2020</td>\n    </tr>\n    <tr>\n      <th>169906</th>\n      <td>0.5380</td>\n      <td>['Kygo', 'Oh Wonder']</td>\n      <td>0.514</td>\n      <td>180700</td>\n      <td>0.5390</td>\n      <td>0</td>\n      <td>52eycxprLhK3lPcRLbQiVk</td>\n      <td>0.002330</td>\n      <td>7</td>\n      <td>0.1080</td>\n      <td>-9.332</td>\n      <td>1</td>\n      <td>How Would I Know</td>\n      <td>70</td>\n      <td>2020-05-29</td>\n      <td>0.1050</td>\n      <td>123.700</td>\n      <td>0.1530</td>\n      <td>2020</td>\n    </tr>\n    <tr>\n      <th>169907</th>\n      <td>0.0714</td>\n      <td>['Cash Cash', 'Andy Grammer']</td>\n      <td>0.646</td>\n      <td>167308</td>\n      <td>0.7610</td>\n      <td>0</td>\n      <td>3wYOGJYD31sLRmBgCvWxa4</td>\n      <td>0.000000</td>\n      <td>1</td>\n      <td>0.2220</td>\n      <td>-2.557</td>\n      <td>1</td>\n      <td>I Found You</td>\n      <td>70</td>\n      <td>2020-02-28</td>\n      <td>0.0385</td>\n      <td>129.916</td>\n      <td>0.4720</td>\n      <td>2020</td>\n    </tr>\n    <tr>\n      <th>169908</th>\n      <td>0.1090</td>\n      <td>['Ingrid Andress']</td>\n      <td>0.512</td>\n      <td>214787</td>\n      <td>0.4280</td>\n      <td>0</td>\n      <td>60RFlt48hm0l4Fu0JoccOl</td>\n      <td>0.000000</td>\n      <td>0</td>\n      <td>0.1050</td>\n      <td>-7.387</td>\n      <td>1</td>\n      <td>More Hearts Than Mine</td>\n      <td>65</td>\n      <td>2020-03-27</td>\n      <td>0.0271</td>\n      <td>80.588</td>\n      <td>0.3660</td>\n      <td>2020</td>\n    </tr>\n  </tbody>\n</table>\n<p>169909 rows × 19 columns</p>\n</div>"
     },
     "metadata": {},
     "execution_count": 3
    }
   ],
   "source": [
    "# Lire le fichier data dans une dataframe\n",
    "df = pd.read_csv(\"data.csv\",sep=\",\")\n",
    "df"
   ]
  },
  {
   "cell_type": "markdown",
   "metadata": {},
   "source": [
    "Créer une nouvelle dataframe en filtrant sur un artiste de votre choix (de préférence un artiste avec plusieurs pistes sur plusieurs années)"
   ]
  },
  {
   "cell_type": "code",
   "execution_count": 9,
   "metadata": {},
   "outputs": [
    {
     "output_type": "execute_result",
     "data": {
      "text/plain": [
       "        acousticness                           artists  danceability  \\\n",
       "3857           0.272                ['Julio Iglesias']         0.437   \n",
       "4328           0.156                ['Julio Iglesias']         0.555   \n",
       "5519           0.854                ['Julio Iglesias']         0.477   \n",
       "5875           0.262                ['Julio Iglesias']         0.551   \n",
       "12549          0.501  ['Julio Iglesias', 'Diana Ross']         0.355   \n",
       "...              ...                               ...           ...   \n",
       "157266         0.319                ['Julio Iglesias']         0.550   \n",
       "157475         0.307                ['Julio Iglesias']         0.543   \n",
       "157681         0.710                ['Julio Iglesias']         0.445   \n",
       "167376         0.304                ['Julio Iglesias']         0.703   \n",
       "167406         0.690                ['Julio Iglesias']         0.469   \n",
       "\n",
       "        duration_ms  energy  explicit                      id  \\\n",
       "3857         172707   0.221         0  2PSotAVp5KY6HBEhlRzwvV   \n",
       "4328         241240   0.383         0  5ctAAtmFMtuCYYb8JhxTJj   \n",
       "5519         263173   0.265         0  62WN08m5pycMB66qnmnQ2S   \n",
       "5875         180600   0.607         0  07nrFSbS6ht0jMNpTpMfsg   \n",
       "12549        238293   0.559         0  6D7sAmPy0VzY6eNkvoin0V   \n",
       "...             ...     ...       ...                     ...   \n",
       "157266       284267   0.524         0  3vSGGtjD7JLA9Q6I36sGve   \n",
       "157475       298093   0.337         0  6bOI1SYcJRFZzOvYrAFyvw   \n",
       "157681       214160   0.209         0  28uqQEN0c4eYiyk3oAJELz   \n",
       "167376       230040   0.518         0  2qghLLpWNLzZqtq9I0t6hT   \n",
       "167406       191533   0.377         0  6t9sHlOVvyBNae9Hd94SSL   \n",
       "\n",
       "        instrumentalness  key  liveness  loudness  mode  \\\n",
       "3857            0.000000    0    0.2490   -16.010     1   \n",
       "4328            0.000000    2    0.0758   -15.004     0   \n",
       "5519            0.041400    5    0.0752   -15.943     0   \n",
       "5875            0.000000    0    0.3610    -9.483     1   \n",
       "12549           0.000000   10    0.6540    -8.910     0   \n",
       "...                  ...  ...       ...       ...   ...   \n",
       "157266          0.000000    0    0.1590   -15.947     1   \n",
       "157475          0.000000    2    0.2420   -15.481     1   \n",
       "157681          0.000000    7    0.1140   -16.498     1   \n",
       "167376          0.000000    8    0.2630   -11.577     0   \n",
       "167406          0.000004    8    0.1260   -10.681     0   \n",
       "\n",
       "                                        name  popularity release_date  \\\n",
       "3857                             Rio Rebelde          37         1978   \n",
       "4328                       Quijote (Quixote)          42         1982   \n",
       "5519                                 Fragile          50         1994   \n",
       "5875             Soy un Truhán, Soy un Señor          53   1998-09-05   \n",
       "12549          All of You (feat. Diana Ross)          32   1984-08-24   \n",
       "...                                      ...         ...          ...   \n",
       "157266  Begin the Beguine (Volver a Empezar)          43         1978   \n",
       "157475                                   Hey          35         1980   \n",
       "157681                              Momentos          42         1982   \n",
       "167376                          Baila Morena          38   1995-06-27   \n",
       "167406                            Vuela Alto          37   1995-06-27   \n",
       "\n",
       "        speechiness    tempo  valence  year  \n",
       "3857         0.0344   96.518    0.535  1978  \n",
       "4328         0.0409  129.827    0.669  1982  \n",
       "5519         0.0286   82.912    0.175  1994  \n",
       "5875         0.0329   99.041    0.684  1998  \n",
       "12549        0.0367  171.749    0.510  1984  \n",
       "...             ...      ...      ...   ...  \n",
       "157266       0.0721  118.701    0.469  1978  \n",
       "157475       0.0370  103.454    0.334  1980  \n",
       "157681       0.0522   90.636    0.335  1982  \n",
       "167376       0.1510   81.731    0.742  1995  \n",
       "167406       0.0809   84.147    0.439  1995  \n",
       "\n",
       "[74 rows x 19 columns]"
      ],
      "text/html": "<div>\n<style scoped>\n    .dataframe tbody tr th:only-of-type {\n        vertical-align: middle;\n    }\n\n    .dataframe tbody tr th {\n        vertical-align: top;\n    }\n\n    .dataframe thead th {\n        text-align: right;\n    }\n</style>\n<table border=\"1\" class=\"dataframe\">\n  <thead>\n    <tr style=\"text-align: right;\">\n      <th></th>\n      <th>acousticness</th>\n      <th>artists</th>\n      <th>danceability</th>\n      <th>duration_ms</th>\n      <th>energy</th>\n      <th>explicit</th>\n      <th>id</th>\n      <th>instrumentalness</th>\n      <th>key</th>\n      <th>liveness</th>\n      <th>loudness</th>\n      <th>mode</th>\n      <th>name</th>\n      <th>popularity</th>\n      <th>release_date</th>\n      <th>speechiness</th>\n      <th>tempo</th>\n      <th>valence</th>\n      <th>year</th>\n    </tr>\n  </thead>\n  <tbody>\n    <tr>\n      <th>3857</th>\n      <td>0.272</td>\n      <td>['Julio Iglesias']</td>\n      <td>0.437</td>\n      <td>172707</td>\n      <td>0.221</td>\n      <td>0</td>\n      <td>2PSotAVp5KY6HBEhlRzwvV</td>\n      <td>0.000000</td>\n      <td>0</td>\n      <td>0.2490</td>\n      <td>-16.010</td>\n      <td>1</td>\n      <td>Rio Rebelde</td>\n      <td>37</td>\n      <td>1978</td>\n      <td>0.0344</td>\n      <td>96.518</td>\n      <td>0.535</td>\n      <td>1978</td>\n    </tr>\n    <tr>\n      <th>4328</th>\n      <td>0.156</td>\n      <td>['Julio Iglesias']</td>\n      <td>0.555</td>\n      <td>241240</td>\n      <td>0.383</td>\n      <td>0</td>\n      <td>5ctAAtmFMtuCYYb8JhxTJj</td>\n      <td>0.000000</td>\n      <td>2</td>\n      <td>0.0758</td>\n      <td>-15.004</td>\n      <td>0</td>\n      <td>Quijote (Quixote)</td>\n      <td>42</td>\n      <td>1982</td>\n      <td>0.0409</td>\n      <td>129.827</td>\n      <td>0.669</td>\n      <td>1982</td>\n    </tr>\n    <tr>\n      <th>5519</th>\n      <td>0.854</td>\n      <td>['Julio Iglesias']</td>\n      <td>0.477</td>\n      <td>263173</td>\n      <td>0.265</td>\n      <td>0</td>\n      <td>62WN08m5pycMB66qnmnQ2S</td>\n      <td>0.041400</td>\n      <td>5</td>\n      <td>0.0752</td>\n      <td>-15.943</td>\n      <td>0</td>\n      <td>Fragile</td>\n      <td>50</td>\n      <td>1994</td>\n      <td>0.0286</td>\n      <td>82.912</td>\n      <td>0.175</td>\n      <td>1994</td>\n    </tr>\n    <tr>\n      <th>5875</th>\n      <td>0.262</td>\n      <td>['Julio Iglesias']</td>\n      <td>0.551</td>\n      <td>180600</td>\n      <td>0.607</td>\n      <td>0</td>\n      <td>07nrFSbS6ht0jMNpTpMfsg</td>\n      <td>0.000000</td>\n      <td>0</td>\n      <td>0.3610</td>\n      <td>-9.483</td>\n      <td>1</td>\n      <td>Soy un Truhán, Soy un Señor</td>\n      <td>53</td>\n      <td>1998-09-05</td>\n      <td>0.0329</td>\n      <td>99.041</td>\n      <td>0.684</td>\n      <td>1998</td>\n    </tr>\n    <tr>\n      <th>12549</th>\n      <td>0.501</td>\n      <td>['Julio Iglesias', 'Diana Ross']</td>\n      <td>0.355</td>\n      <td>238293</td>\n      <td>0.559</td>\n      <td>0</td>\n      <td>6D7sAmPy0VzY6eNkvoin0V</td>\n      <td>0.000000</td>\n      <td>10</td>\n      <td>0.6540</td>\n      <td>-8.910</td>\n      <td>0</td>\n      <td>All of You (feat. Diana Ross)</td>\n      <td>32</td>\n      <td>1984-08-24</td>\n      <td>0.0367</td>\n      <td>171.749</td>\n      <td>0.510</td>\n      <td>1984</td>\n    </tr>\n    <tr>\n      <th>...</th>\n      <td>...</td>\n      <td>...</td>\n      <td>...</td>\n      <td>...</td>\n      <td>...</td>\n      <td>...</td>\n      <td>...</td>\n      <td>...</td>\n      <td>...</td>\n      <td>...</td>\n      <td>...</td>\n      <td>...</td>\n      <td>...</td>\n      <td>...</td>\n      <td>...</td>\n      <td>...</td>\n      <td>...</td>\n      <td>...</td>\n      <td>...</td>\n    </tr>\n    <tr>\n      <th>157266</th>\n      <td>0.319</td>\n      <td>['Julio Iglesias']</td>\n      <td>0.550</td>\n      <td>284267</td>\n      <td>0.524</td>\n      <td>0</td>\n      <td>3vSGGtjD7JLA9Q6I36sGve</td>\n      <td>0.000000</td>\n      <td>0</td>\n      <td>0.1590</td>\n      <td>-15.947</td>\n      <td>1</td>\n      <td>Begin the Beguine (Volver a Empezar)</td>\n      <td>43</td>\n      <td>1978</td>\n      <td>0.0721</td>\n      <td>118.701</td>\n      <td>0.469</td>\n      <td>1978</td>\n    </tr>\n    <tr>\n      <th>157475</th>\n      <td>0.307</td>\n      <td>['Julio Iglesias']</td>\n      <td>0.543</td>\n      <td>298093</td>\n      <td>0.337</td>\n      <td>0</td>\n      <td>6bOI1SYcJRFZzOvYrAFyvw</td>\n      <td>0.000000</td>\n      <td>2</td>\n      <td>0.2420</td>\n      <td>-15.481</td>\n      <td>1</td>\n      <td>Hey</td>\n      <td>35</td>\n      <td>1980</td>\n      <td>0.0370</td>\n      <td>103.454</td>\n      <td>0.334</td>\n      <td>1980</td>\n    </tr>\n    <tr>\n      <th>157681</th>\n      <td>0.710</td>\n      <td>['Julio Iglesias']</td>\n      <td>0.445</td>\n      <td>214160</td>\n      <td>0.209</td>\n      <td>0</td>\n      <td>28uqQEN0c4eYiyk3oAJELz</td>\n      <td>0.000000</td>\n      <td>7</td>\n      <td>0.1140</td>\n      <td>-16.498</td>\n      <td>1</td>\n      <td>Momentos</td>\n      <td>42</td>\n      <td>1982</td>\n      <td>0.0522</td>\n      <td>90.636</td>\n      <td>0.335</td>\n      <td>1982</td>\n    </tr>\n    <tr>\n      <th>167376</th>\n      <td>0.304</td>\n      <td>['Julio Iglesias']</td>\n      <td>0.703</td>\n      <td>230040</td>\n      <td>0.518</td>\n      <td>0</td>\n      <td>2qghLLpWNLzZqtq9I0t6hT</td>\n      <td>0.000000</td>\n      <td>8</td>\n      <td>0.2630</td>\n      <td>-11.577</td>\n      <td>0</td>\n      <td>Baila Morena</td>\n      <td>38</td>\n      <td>1995-06-27</td>\n      <td>0.1510</td>\n      <td>81.731</td>\n      <td>0.742</td>\n      <td>1995</td>\n    </tr>\n    <tr>\n      <th>167406</th>\n      <td>0.690</td>\n      <td>['Julio Iglesias']</td>\n      <td>0.469</td>\n      <td>191533</td>\n      <td>0.377</td>\n      <td>0</td>\n      <td>6t9sHlOVvyBNae9Hd94SSL</td>\n      <td>0.000004</td>\n      <td>8</td>\n      <td>0.1260</td>\n      <td>-10.681</td>\n      <td>0</td>\n      <td>Vuela Alto</td>\n      <td>37</td>\n      <td>1995-06-27</td>\n      <td>0.0809</td>\n      <td>84.147</td>\n      <td>0.439</td>\n      <td>1995</td>\n    </tr>\n  </tbody>\n</table>\n<p>74 rows × 19 columns</p>\n</div>"
     },
     "metadata": {},
     "execution_count": 9
    }
   ],
   "source": [
    "dt =df[df['artists'].str.contains(\"Julio Iglesias\")]\n",
    "dt"
   ]
  },
  {
   "cell_type": "markdown",
   "metadata": {},
   "source": [
    "Il est possible de créer une série chronologique basée sur une Pandas dataframe. Une série chronologique est un ensemble de données dont les valeurs sont mesurées à différents moments. Avec Pandas, on peut facilement organiser, transformer, analyser et visualiser les données de séries chronologiques à n'importe quel niveau de granularité - en examinant les détails pendant des périodes d'intérêt spécifiques et en effectuant un zoom arrière pour explorer les variations à différentes échelles de temps, telles que des agrégations mensuelles ou annuelles, modèles récurrents et tendances à long terme.\n"
   ]
  },
  {
   "cell_type": "code",
   "execution_count": 28,
   "metadata": {},
   "outputs": [
    {
     "output_type": "execute_result",
     "data": {
      "text/plain": [
       "        acousticness                                   artists  danceability  \\\n",
       "0             0.9950                       ['Carl Woitschach']         0.708   \n",
       "1             0.9940  ['Robert Schumann', 'Vladimir Horowitz']         0.379   \n",
       "2             0.6040                   ['Seweryn Goszczyński']         0.749   \n",
       "3             0.9950                      ['Francisco Canaro']         0.781   \n",
       "4             0.9900  ['Frédéric Chopin', 'Vladimir Horowitz']         0.210   \n",
       "...              ...                                       ...           ...   \n",
       "169904        0.1730                    ['DripReport', 'Tyga']         0.875   \n",
       "169905        0.0167        ['Leon Bridges', 'Terrace Martin']         0.719   \n",
       "169906        0.5380                     ['Kygo', 'Oh Wonder']         0.514   \n",
       "169907        0.0714             ['Cash Cash', 'Andy Grammer']         0.646   \n",
       "169908        0.1090                        ['Ingrid Andress']         0.512   \n",
       "\n",
       "        duration_ms  energy  explicit                      id  \\\n",
       "0            158648  0.1950         0  6KbQ3uYMLKb5jDxLF7wYDD   \n",
       "1            282133  0.0135         0  6KuQTIu1KoTTkLXKrwlLPV   \n",
       "2            104300  0.2200         0  6L63VW0PibdM1HDSBoqnoM   \n",
       "3            180760  0.1300         0  6M94FkXd15sOAOQYRnWPN8   \n",
       "4            687733  0.2040         0  6N6tiFZ9vLTSOIxkj8qKrd   \n",
       "...             ...     ...       ...                     ...   \n",
       "169904       163800  0.4430         1  4KppkflX7I3vJQk7urOJaS   \n",
       "169905       167468  0.3850         0  1ehhGlTvjtHo2e4xJFB0SZ   \n",
       "169906       180700  0.5390         0  52eycxprLhK3lPcRLbQiVk   \n",
       "169907       167308  0.7610         0  3wYOGJYD31sLRmBgCvWxa4   \n",
       "169908       214787  0.4280         0  60RFlt48hm0l4Fu0JoccOl   \n",
       "\n",
       "        instrumentalness  key  liveness  loudness  mode  \\\n",
       "0               0.563000   10    0.1510   -12.428     1   \n",
       "1               0.901000    8    0.0763   -28.454     1   \n",
       "2               0.000000    5    0.1190   -19.924     0   \n",
       "3               0.887000    1    0.1110   -14.734     0   \n",
       "4               0.908000   11    0.0980   -16.829     1   \n",
       "...                  ...  ...       ...       ...   ...   \n",
       "169904          0.000032    1    0.0891    -7.461     1   \n",
       "169905          0.031300    8    0.1110   -10.907     1   \n",
       "169906          0.002330    7    0.1080    -9.332     1   \n",
       "169907          0.000000    1    0.2220    -2.557     1   \n",
       "169908          0.000000    0    0.1050    -7.387     1   \n",
       "\n",
       "                                                 name  popularity  \\\n",
       "0                         Singende Bataillone 1. Teil           0   \n",
       "1            Fantasiestücke, Op. 111: Più tosto lento           0   \n",
       "2                      Chapter 1.18 - Zamek kaniowski           0   \n",
       "3       Bebamos Juntos - Instrumental (Remasterizado)           0   \n",
       "4         Polonaise-Fantaisie in A-Flat Major, Op. 61           1   \n",
       "...                                               ...         ...   \n",
       "169904                  Skechers (feat. Tyga) - Remix          75   \n",
       "169905                 Sweeter (feat. Terrace Martin)          64   \n",
       "169906                               How Would I Know          70   \n",
       "169907                                    I Found You          70   \n",
       "169908                          More Hearts Than Mine          65   \n",
       "\n",
       "       release_date  speechiness    tempo  valence  year  \n",
       "0        1928-01-01       0.0506  118.469   0.7790  1928  \n",
       "1        1928-01-01       0.0462   83.972   0.0767  1928  \n",
       "2        1928-01-01       0.9290  107.177   0.8800  1928  \n",
       "3        1928-09-25       0.0926  108.003   0.7200  1928  \n",
       "4        1928-01-01       0.0424   62.149   0.0693  1928  \n",
       "...             ...          ...      ...      ...   ...  \n",
       "169904   2020-05-15       0.1430  100.012   0.3060  2020  \n",
       "169905   2020-06-08       0.0403  128.000   0.2700  2020  \n",
       "169906   2020-05-29       0.1050  123.700   0.1530  2020  \n",
       "169907   2020-02-28       0.0385  129.916   0.4720  2020  \n",
       "169908   2020-03-27       0.0271   80.588   0.3660  2020  \n",
       "\n",
       "[169909 rows x 19 columns]"
      ],
      "text/html": "<div>\n<style scoped>\n    .dataframe tbody tr th:only-of-type {\n        vertical-align: middle;\n    }\n\n    .dataframe tbody tr th {\n        vertical-align: top;\n    }\n\n    .dataframe thead th {\n        text-align: right;\n    }\n</style>\n<table border=\"1\" class=\"dataframe\">\n  <thead>\n    <tr style=\"text-align: right;\">\n      <th></th>\n      <th>acousticness</th>\n      <th>artists</th>\n      <th>danceability</th>\n      <th>duration_ms</th>\n      <th>energy</th>\n      <th>explicit</th>\n      <th>id</th>\n      <th>instrumentalness</th>\n      <th>key</th>\n      <th>liveness</th>\n      <th>loudness</th>\n      <th>mode</th>\n      <th>name</th>\n      <th>popularity</th>\n      <th>release_date</th>\n      <th>speechiness</th>\n      <th>tempo</th>\n      <th>valence</th>\n      <th>year</th>\n    </tr>\n  </thead>\n  <tbody>\n    <tr>\n      <th>0</th>\n      <td>0.9950</td>\n      <td>['Carl Woitschach']</td>\n      <td>0.708</td>\n      <td>158648</td>\n      <td>0.1950</td>\n      <td>0</td>\n      <td>6KbQ3uYMLKb5jDxLF7wYDD</td>\n      <td>0.563000</td>\n      <td>10</td>\n      <td>0.1510</td>\n      <td>-12.428</td>\n      <td>1</td>\n      <td>Singende Bataillone 1. Teil</td>\n      <td>0</td>\n      <td>1928-01-01</td>\n      <td>0.0506</td>\n      <td>118.469</td>\n      <td>0.7790</td>\n      <td>1928</td>\n    </tr>\n    <tr>\n      <th>1</th>\n      <td>0.9940</td>\n      <td>['Robert Schumann', 'Vladimir Horowitz']</td>\n      <td>0.379</td>\n      <td>282133</td>\n      <td>0.0135</td>\n      <td>0</td>\n      <td>6KuQTIu1KoTTkLXKrwlLPV</td>\n      <td>0.901000</td>\n      <td>8</td>\n      <td>0.0763</td>\n      <td>-28.454</td>\n      <td>1</td>\n      <td>Fantasiestücke, Op. 111: Più tosto lento</td>\n      <td>0</td>\n      <td>1928-01-01</td>\n      <td>0.0462</td>\n      <td>83.972</td>\n      <td>0.0767</td>\n      <td>1928</td>\n    </tr>\n    <tr>\n      <th>2</th>\n      <td>0.6040</td>\n      <td>['Seweryn Goszczyński']</td>\n      <td>0.749</td>\n      <td>104300</td>\n      <td>0.2200</td>\n      <td>0</td>\n      <td>6L63VW0PibdM1HDSBoqnoM</td>\n      <td>0.000000</td>\n      <td>5</td>\n      <td>0.1190</td>\n      <td>-19.924</td>\n      <td>0</td>\n      <td>Chapter 1.18 - Zamek kaniowski</td>\n      <td>0</td>\n      <td>1928-01-01</td>\n      <td>0.9290</td>\n      <td>107.177</td>\n      <td>0.8800</td>\n      <td>1928</td>\n    </tr>\n    <tr>\n      <th>3</th>\n      <td>0.9950</td>\n      <td>['Francisco Canaro']</td>\n      <td>0.781</td>\n      <td>180760</td>\n      <td>0.1300</td>\n      <td>0</td>\n      <td>6M94FkXd15sOAOQYRnWPN8</td>\n      <td>0.887000</td>\n      <td>1</td>\n      <td>0.1110</td>\n      <td>-14.734</td>\n      <td>0</td>\n      <td>Bebamos Juntos - Instrumental (Remasterizado)</td>\n      <td>0</td>\n      <td>1928-09-25</td>\n      <td>0.0926</td>\n      <td>108.003</td>\n      <td>0.7200</td>\n      <td>1928</td>\n    </tr>\n    <tr>\n      <th>4</th>\n      <td>0.9900</td>\n      <td>['Frédéric Chopin', 'Vladimir Horowitz']</td>\n      <td>0.210</td>\n      <td>687733</td>\n      <td>0.2040</td>\n      <td>0</td>\n      <td>6N6tiFZ9vLTSOIxkj8qKrd</td>\n      <td>0.908000</td>\n      <td>11</td>\n      <td>0.0980</td>\n      <td>-16.829</td>\n      <td>1</td>\n      <td>Polonaise-Fantaisie in A-Flat Major, Op. 61</td>\n      <td>1</td>\n      <td>1928-01-01</td>\n      <td>0.0424</td>\n      <td>62.149</td>\n      <td>0.0693</td>\n      <td>1928</td>\n    </tr>\n    <tr>\n      <th>...</th>\n      <td>...</td>\n      <td>...</td>\n      <td>...</td>\n      <td>...</td>\n      <td>...</td>\n      <td>...</td>\n      <td>...</td>\n      <td>...</td>\n      <td>...</td>\n      <td>...</td>\n      <td>...</td>\n      <td>...</td>\n      <td>...</td>\n      <td>...</td>\n      <td>...</td>\n      <td>...</td>\n      <td>...</td>\n      <td>...</td>\n      <td>...</td>\n    </tr>\n    <tr>\n      <th>169904</th>\n      <td>0.1730</td>\n      <td>['DripReport', 'Tyga']</td>\n      <td>0.875</td>\n      <td>163800</td>\n      <td>0.4430</td>\n      <td>1</td>\n      <td>4KppkflX7I3vJQk7urOJaS</td>\n      <td>0.000032</td>\n      <td>1</td>\n      <td>0.0891</td>\n      <td>-7.461</td>\n      <td>1</td>\n      <td>Skechers (feat. Tyga) - Remix</td>\n      <td>75</td>\n      <td>2020-05-15</td>\n      <td>0.1430</td>\n      <td>100.012</td>\n      <td>0.3060</td>\n      <td>2020</td>\n    </tr>\n    <tr>\n      <th>169905</th>\n      <td>0.0167</td>\n      <td>['Leon Bridges', 'Terrace Martin']</td>\n      <td>0.719</td>\n      <td>167468</td>\n      <td>0.3850</td>\n      <td>0</td>\n      <td>1ehhGlTvjtHo2e4xJFB0SZ</td>\n      <td>0.031300</td>\n      <td>8</td>\n      <td>0.1110</td>\n      <td>-10.907</td>\n      <td>1</td>\n      <td>Sweeter (feat. Terrace Martin)</td>\n      <td>64</td>\n      <td>2020-06-08</td>\n      <td>0.0403</td>\n      <td>128.000</td>\n      <td>0.2700</td>\n      <td>2020</td>\n    </tr>\n    <tr>\n      <th>169906</th>\n      <td>0.5380</td>\n      <td>['Kygo', 'Oh Wonder']</td>\n      <td>0.514</td>\n      <td>180700</td>\n      <td>0.5390</td>\n      <td>0</td>\n      <td>52eycxprLhK3lPcRLbQiVk</td>\n      <td>0.002330</td>\n      <td>7</td>\n      <td>0.1080</td>\n      <td>-9.332</td>\n      <td>1</td>\n      <td>How Would I Know</td>\n      <td>70</td>\n      <td>2020-05-29</td>\n      <td>0.1050</td>\n      <td>123.700</td>\n      <td>0.1530</td>\n      <td>2020</td>\n    </tr>\n    <tr>\n      <th>169907</th>\n      <td>0.0714</td>\n      <td>['Cash Cash', 'Andy Grammer']</td>\n      <td>0.646</td>\n      <td>167308</td>\n      <td>0.7610</td>\n      <td>0</td>\n      <td>3wYOGJYD31sLRmBgCvWxa4</td>\n      <td>0.000000</td>\n      <td>1</td>\n      <td>0.2220</td>\n      <td>-2.557</td>\n      <td>1</td>\n      <td>I Found You</td>\n      <td>70</td>\n      <td>2020-02-28</td>\n      <td>0.0385</td>\n      <td>129.916</td>\n      <td>0.4720</td>\n      <td>2020</td>\n    </tr>\n    <tr>\n      <th>169908</th>\n      <td>0.1090</td>\n      <td>['Ingrid Andress']</td>\n      <td>0.512</td>\n      <td>214787</td>\n      <td>0.4280</td>\n      <td>0</td>\n      <td>60RFlt48hm0l4Fu0JoccOl</td>\n      <td>0.000000</td>\n      <td>0</td>\n      <td>0.1050</td>\n      <td>-7.387</td>\n      <td>1</td>\n      <td>More Hearts Than Mine</td>\n      <td>65</td>\n      <td>2020-03-27</td>\n      <td>0.0271</td>\n      <td>80.588</td>\n      <td>0.3660</td>\n      <td>2020</td>\n    </tr>\n  </tbody>\n</table>\n<p>169909 rows × 19 columns</p>\n</div>"
     },
     "metadata": {},
     "execution_count": 28
    }
   ],
   "source": [
    "# convertir la colonne release_date en une date\n",
    "import datetime\n",
    "df['release_date'] = pd.to_datetime(df['release_date'])\n",
    "df"
   ]
  },
  {
   "cell_type": "code",
   "execution_count": 202,
   "metadata": {},
   "outputs": [],
   "source": [
    "# Créer une nouvelle dataframe calculant la moyenne des variables de l'artiste selon release_date et ordonner les par dates\n",
    "\n"
   ]
  },
  {
   "cell_type": "code",
   "execution_count": 203,
   "metadata": {},
   "outputs": [],
   "source": [
    "# Créer votre graphe en précisant que le type de l'axe x est une date  \n"
   ]
  },
  {
   "cell_type": "code",
   "execution_count": 204,
   "metadata": {},
   "outputs": [],
   "source": [
    "# Créer un graphe Line avec les données ordonnées de popularité par release_date\n"
   ]
  },
  {
   "cell_type": "code",
   "execution_count": 205,
   "metadata": {},
   "outputs": [],
   "source": [
    "# Ajouter un glyph circle permettant de mieux visualiser les datapoints sur le graphe Line\n",
    "\n"
   ]
  },
  {
   "cell_type": "code",
   "execution_count": 206,
   "metadata": {},
   "outputs": [],
   "source": [
    "# Afficher le graphe\n",
    "\n"
   ]
  },
  {
   "cell_type": "markdown",
   "metadata": {},
   "source": [
    "<br> Pour des graphes plus complexes, transmettre les données d'un Dataframe aux glyphs devient compliqué. Bokeh procure un objet \"ColumnDataSource\" pour lier la dataframe au glyph et mapper les noms des colonnes aux données, facilitant ainsi la référence des éléments de données lors de la construction de la visualisation. Une fois créée, une ColumnDataSource peut être transmise aux méthodes glyph via le paramètre \"source\".\n",
    "\n",
    "Revenons à notre graph Line. On voudrait afficher la popularité d'un autre artiste sur le même graphe. On utilisera la fonction add_glyph de Bokeh, ainsi qu'une ColumnDataSource.  \n"
   ]
  },
  {
   "cell_type": "code",
   "execution_count": 207,
   "metadata": {},
   "outputs": [],
   "source": [
    "from bokeh.models import ColumnDataSource"
   ]
  },
  {
   "cell_type": "code",
   "execution_count": 208,
   "metadata": {},
   "outputs": [],
   "source": [
    "# Créer une ColumnDataSource qui filtre votre dataset sur un artiste comparable à celui déjà choisi (release_date des pistes dans des périodes similaires)\n",
    "\n"
   ]
  },
  {
   "cell_type": "code",
   "execution_count": 209,
   "metadata": {},
   "outputs": [],
   "source": [
    "from bokeh.models.glyphs import Line"
   ]
  },
  {
   "cell_type": "code",
   "execution_count": 210,
   "metadata": {},
   "outputs": [],
   "source": [
    "# Créer un graphe Line qui prend release_date dans x_axis et popularité dans y_axis. Choisir une couleur pour la ligne.\n"
   ]
  },
  {
   "cell_type": "code",
   "execution_count": 211,
   "metadata": {},
   "outputs": [],
   "source": [
    "# En utilisant add_glyph, ajouter une nouvelle ligne au plot précédent en spécifiant l'objet ColumnDataSource créé comme source et le Line glyph comme argument.\n",
    "\n"
   ]
  },
  {
   "cell_type": "code",
   "execution_count": 212,
   "metadata": {},
   "outputs": [],
   "source": [
    "# Afficher le graphe\n",
    "\n"
   ]
  },
  {
   "cell_type": "markdown",
   "metadata": {},
   "source": [
    "<br> En explorant la propriété renderers de votre plot, vous pouvez voir les propriétés et les glyphs le composant. Ceci est utile pour garder trace des composants du graphe, ainsi qur pour lier les composants avec de nouveaux objets comme les items légende par exemple. \n"
   ]
  },
  {
   "cell_type": "code",
   "execution_count": 213,
   "metadata": {},
   "outputs": [],
   "source": [
    "# Afficher la liste des renderers de votre graphe, quelles sont les propriétés sauvegardées?\n",
    "\n"
   ]
  },
  {
   "cell_type": "markdown",
   "metadata": {},
   "source": [
    "<br> Comme le graphe a deux ligne, on voudrait ajouter une légende pour les différencier. On créera alors Legend items, puis ajoutera la légende à notre graphe."
   ]
  },
  {
   "cell_type": "code",
   "execution_count": 214,
   "metadata": {},
   "outputs": [],
   "source": [
    "from bokeh.models import Legend, LegendItem"
   ]
  },
  {
   "cell_type": "code",
   "execution_count": 215,
   "metadata": {},
   "outputs": [],
   "source": [
    "# Créer deux legend items et leur donner des labels significatifs. Utiliser les renderers pour les pointer sur le bon glyph\n",
    "\n"
   ]
  },
  {
   "cell_type": "code",
   "execution_count": 216,
   "metadata": {},
   "outputs": [],
   "source": [
    "# Créer l'objet Legend qui inclue les deux legend items. Il est possible de spécifier l'emplacement de la légende\n",
    "\n"
   ]
  },
  {
   "cell_type": "code",
   "execution_count": 217,
   "metadata": {},
   "outputs": [],
   "source": [
    "# Ajouter Legend au graphe en utilisant la fonction add_layout\n",
    "\n"
   ]
  },
  {
   "cell_type": "code",
   "execution_count": 218,
   "metadata": {},
   "outputs": [],
   "source": [
    "# Afficher votre graphe à nouveau\n",
    "\n"
   ]
  },
  {
   "cell_type": "code",
   "execution_count": 219,
   "metadata": {},
   "outputs": [],
   "source": [
    "# Afficher la liste des renderers. Arrivez-vous à voir les nouveaux composants?\n",
    "\n"
   ]
  },
  {
   "cell_type": "markdown",
   "metadata": {},
   "source": [
    "<br></br> \n",
    "\n",
    "### Graphes supplémentaires (données catégoriques, whiskers, propriétés visuelles...):\n",
    "\n",
    "Pour visualiser les données catégoriques, on a tendance à utiliser des graphes à barres. En se basant sur votre fichier (TP1) contenant le nombre des pistes duos par artiste (collaborateur) et la moyenne des variables du même artiste, créer Un graphe à bar + Ligne. Voir https://docs.bokeh.org/en/latest/docs/user_guide/categorical.html. \n",
    "\n",
    "Vous pouvez également explorer le nombre de pistes selon les clés et leur popularité respective en utilisant les whiskers par exemple https://docs.bokeh.org/en/latest/docs/user_guide/annotations.html#whiskers.\n",
    "\n",
    "Penser à donner des titres, des labels... à vos graphes, axes etc. Pour plus de détails sur les propriétés visuelles, voir: https://docs.bokeh.org/en/latest/docs/user_guide/styling.html"
   ]
  },
  {
   "cell_type": "markdown",
   "metadata": {},
   "source": [
    "##### Exemple de gestion des données catégoriques dans un graphe Bokeh: "
   ]
  },
  {
   "cell_type": "code",
   "execution_count": 220,
   "metadata": {},
   "outputs": [],
   "source": [
    "# Lire le fichiers des duos sauvegardé du TP1 dans une dataframe \n",
    "\n"
   ]
  },
  {
   "cell_type": "code",
   "execution_count": 221,
   "metadata": {},
   "outputs": [],
   "source": [
    "# Créer une nouvelle dataframe qui calcule les moyennes des variables d'une paire d'artistes et les ordonnes par leur popularité ascendante \n",
    "# pour n'en prendre que les 10 premiers\n",
    "\n"
   ]
  },
  {
   "cell_type": "code",
   "execution_count": 222,
   "metadata": {},
   "outputs": [],
   "source": [
    "from bokeh.palettes import Magma10\n",
    "from bokeh.transform import factor_cmap"
   ]
  },
  {
   "cell_type": "code",
   "execution_count": 223,
   "metadata": {},
   "outputs": [],
   "source": [
    "# Créer une ColumnDataSource avec la nouvelle dataframe\n",
    "\n"
   ]
  },
  {
   "cell_type": "code",
   "execution_count": 224,
   "metadata": {},
   "outputs": [],
   "source": [
    "# Créer une liste contenant la liste des premiers artistes des duos\n",
    "\n"
   ]
  },
  {
   "cell_type": "code",
   "execution_count": 225,
   "metadata": {},
   "outputs": [],
   "source": [
    "# Créer une figure en indiquant que l'axe x aura une liste de valeur qui est la liste des artistes créée, penser à utiliser l'argument x_range\n",
    "\n"
   ]
  },
  {
   "cell_type": "code",
   "execution_count": 226,
   "metadata": {},
   "outputs": [],
   "source": [
    "# Créer un graphe à barres verticales avec les premiers artistes dans l'axe x et popularity comme valeur, \n",
    "# changer les couleurs des barres en fonction des valeurs catégoriques en utilisant l'argument fill_color et la fonction factor_map\n",
    "\n"
   ]
  },
  {
   "cell_type": "code",
   "execution_count": 227,
   "metadata": {},
   "outputs": [],
   "source": [
    "# Afficher votre graphe\n",
    "\n"
   ]
  },
  {
   "cell_type": "markdown",
   "metadata": {},
   "source": [
    "<br> Vous pouvez faire de même pour les données catégoriques clé (Key) pour voir la popularité des pistes selon ces clé."
   ]
  },
  {
   "cell_type": "code",
   "execution_count": null,
   "metadata": {},
   "outputs": [],
   "source": []
  },
  {
   "cell_type": "code",
   "execution_count": null,
   "metadata": {},
   "outputs": [],
   "source": []
  },
  {
   "cell_type": "code",
   "execution_count": null,
   "metadata": {},
   "outputs": [],
   "source": []
  },
  {
   "cell_type": "code",
   "execution_count": null,
   "metadata": {},
   "outputs": [],
   "source": []
  },
  {
   "cell_type": "code",
   "execution_count": null,
   "metadata": {},
   "outputs": [],
   "source": []
  },
  {
   "cell_type": "markdown",
   "metadata": {},
   "source": [
    "<br></br>\n",
    "## C. Création de multiples visualisations"
   ]
  },
  {
   "cell_type": "markdown",
   "metadata": {},
   "source": [
    "Lors de la création des data visualisations, nous avons tendance à afficher de multiple graphes sur le même ecran. Ceci peut être fait en organisant les graphes avec les layouts. L'utilisateion des layouts, tabs, et les grids peut nous permettre de lier entre multiple graphes en utilisant les mêmes axes. Ce qui rend a comparaison entre les différents graphes plus facile et précis."
   ]
  },
  {
   "cell_type": "markdown",
   "metadata": {},
   "source": [
    "#### 1. Création de multiple graphes selon la même ligne "
   ]
  },
  {
   "cell_type": "markdown",
   "metadata": {},
   "source": [
    "Afin d'organiser nos graphes selon la même ligne, on crée en premier lieu 3 graphes pour trois artistes de votre choix."
   ]
  },
  {
   "cell_type": "code",
   "execution_count": 228,
   "metadata": {},
   "outputs": [],
   "source": [
    "# Créer trois graphes Line affichant respectivement loudness de trois artistes \n"
   ]
  },
  {
   "cell_type": "code",
   "execution_count": 229,
   "metadata": {},
   "outputs": [],
   "source": [
    "from bokeh.layouts import row"
   ]
  },
  {
   "cell_type": "code",
   "execution_count": 230,
   "metadata": {},
   "outputs": [],
   "source": [
    "# Créer un objet row object avec les trois graphes\n",
    "\n"
   ]
  },
  {
   "cell_type": "code",
   "execution_count": 231,
   "metadata": {},
   "outputs": [],
   "source": [
    "# Visualiser les trois graphes selon le layout\n",
    "\n"
   ]
  },
  {
   "cell_type": "markdown",
   "metadata": {},
   "source": [
    "#### 2. Creation de multiple graphes selon des lignes et colonnes "
   ]
  },
  {
   "cell_type": "markdown",
   "metadata": {},
   "source": [
    "On pourrait prévoir de voir par exemple des graphes relatifs à un artiste sur une ligne, ceux d'un autre artiste sur une autre. Pour ce faire, on devra créer un nested Layout, qui est un layout permettant de simplfier l'organisation des graphes selon les lignes et les colonnes."
   ]
  },
  {
   "cell_type": "code",
   "execution_count": 232,
   "metadata": {},
   "outputs": [],
   "source": [
    "from bokeh.layouts import column"
   ]
  },
  {
   "cell_type": "code",
   "execution_count": 233,
   "metadata": {},
   "outputs": [],
   "source": [
    "# créer 3 graphes des mêmes artistes, dépictant cette fois la popularité\n",
    "\n"
   ]
  },
  {
   "cell_type": "code",
   "execution_count": 234,
   "metadata": {},
   "outputs": [],
   "source": [
    "# Créer un object nested_layout qui organisera vos graphes où chaque ligne sera consacré à un artiste, chaque colonne à visualiser une mesure\n",
    "\n"
   ]
  },
  {
   "cell_type": "code",
   "execution_count": 235,
   "metadata": {},
   "outputs": [],
   "source": [
    "# Afficher les graphes selon le nouveau layout\n",
    "\n"
   ]
  },
  {
   "cell_type": "markdown",
   "metadata": {},
   "source": [
    "Ceci revient à créer un grid layout avec 3 lignes et 2 colonnes. Bokeh procure une fonction \"gridplot\" qui permet la création de layouts robustes grâce à la  diversité des combinaisons possibles dans l'empilage des graphes au niveau du même ecran."
   ]
  },
  {
   "cell_type": "code",
   "execution_count": 236,
   "metadata": {},
   "outputs": [],
   "source": [
    "from bokeh.layouts import gridplot"
   ]
  },
  {
   "cell_type": "code",
   "execution_count": 237,
   "metadata": {},
   "outputs": [],
   "source": [
    "# Créer un objet grid_layout qui organise les graphes de la même manière que le nested layout\n"
   ]
  },
  {
   "cell_type": "code",
   "execution_count": 238,
   "metadata": {},
   "outputs": [],
   "source": [
    "# Afficher le grid_layout\n"
   ]
  },
  {
   "cell_type": "markdown",
   "metadata": {},
   "source": [
    "<br></br>\n",
    "#### 3. Creation des onglets"
   ]
  },
  {
   "cell_type": "markdown",
   "metadata": {},
   "source": [
    "Il est très utile de pouvoir créer des layouts multiples dans différents onglets. Bokeh procure les objets tabbed Layout, auxquels les graphes peuvent être ajoutés. On va créer deux onglets, l'un pour artiste 1, l'autre pour le deuxième artiste. "
   ]
  },
  {
   "cell_type": "code",
   "execution_count": 239,
   "metadata": {},
   "outputs": [
    {
     "output_type": "error",
     "ename": "ModuleNotFoundError",
     "evalue": "No module named 'bokeh.models.widgest'",
     "traceback": [
      "\u001b[1;31m---------------------------------------------------------------------------\u001b[0m",
      "\u001b[1;31mModuleNotFoundError\u001b[0m                       Traceback (most recent call last)",
      "\u001b[1;32m<ipython-input-239-e8edc4fd4357>\u001b[0m in \u001b[0;36m<module>\u001b[1;34m\u001b[0m\n\u001b[1;32m----> 1\u001b[1;33m \u001b[1;32mfrom\u001b[0m \u001b[0mbokeh\u001b[0m\u001b[1;33m.\u001b[0m\u001b[0mmodels\u001b[0m\u001b[1;33m.\u001b[0m\u001b[0mwidgest\u001b[0m \u001b[1;32mimport\u001b[0m \u001b[0mTabs\u001b[0m\u001b[1;33m,\u001b[0m \u001b[0mPanel\u001b[0m\u001b[1;33m\u001b[0m\u001b[1;33m\u001b[0m\u001b[0m\n\u001b[0m",
      "\u001b[1;31mModuleNotFoundError\u001b[0m: No module named 'bokeh.models.widgest'"
     ]
    }
   ],
   "source": [
    "from bokeh.models.widgest import Tabs, Panel"
   ]
  },
  {
   "cell_type": "markdown",
   "metadata": {},
   "source": [
    "Pour créer un tabbed layout, on aura besoin de créer en premier lieu deux panels en utilisant la fonction Panel. Chaque Panel se composera de ses propres graphes spécifiés à l'aide de l'argument \"child\" dans la fonction Panel. "
   ]
  },
  {
   "cell_type": "code",
   "execution_count": null,
   "metadata": {},
   "outputs": [],
   "source": [
    "# Créer deux objets Panel pour chacun des artistes. \n",
    "# Vous pouvez attribuer un titre aux Panels (qui seront affichés en haut de l'onglet).\n",
    "\n"
   ]
  },
  {
   "cell_type": "code",
   "execution_count": null,
   "metadata": {},
   "outputs": [],
   "source": [
    "# Donner les Panels aux objets Tabs\n",
    "\n",
    "\n"
   ]
  },
  {
   "cell_type": "code",
   "execution_count": null,
   "metadata": {},
   "outputs": [],
   "source": [
    "# Afficher les objets tabs\n",
    "\n"
   ]
  },
  {
   "cell_type": "markdown",
   "metadata": {},
   "source": [
    "<br></br>\n",
    "#### 4. Liaison entre deux graphes"
   ]
  },
  {
   "cell_type": "markdown",
   "metadata": {},
   "source": [
    "Comparer deux graphes sur le même ecran devient plus facile quand ces derniers sont liés. Dans cette partie, on créera multiple graphes sur le même axe x. Pour ce faire, on va créer deux scatter plots basé sur les données du premier artiste mais on leur donnera le même axe x. "
   ]
  },
  {
   "cell_type": "code",
   "execution_count": null,
   "metadata": {},
   "outputs": [],
   "source": [
    "#  Créer une ColumnDataSource avec les colonnes 'release_date', 'danceability', 'acousticness', 'energy', 'loudness'\n",
    "\n"
   ]
  },
  {
   "cell_type": "code",
   "execution_count": null,
   "metadata": {},
   "outputs": [],
   "source": [
    "# Créer deux scatterplots: Le premier pour voir la relation entre 'danceability' et 'acousticness', le deuxième 'energy' et 'loudness'\n",
    "\n"
   ]
  },
  {
   "cell_type": "code",
   "execution_count": null,
   "metadata": {},
   "outputs": [],
   "source": [
    "# x_range fait référence à l'axe x des deux graphes. S'assurer que les deux graphes ont le même axe x.\n",
    "\n"
   ]
  },
  {
   "cell_type": "code",
   "execution_count": null,
   "metadata": {},
   "outputs": [],
   "source": [
    "# Organiser les deux graphes dans un layout (vous pouvez utiliser la fonction row)\n",
    "\n"
   ]
  },
  {
   "cell_type": "code",
   "execution_count": null,
   "metadata": {},
   "outputs": [],
   "source": [
    "# Afficher le Layout\n",
    "\n"
   ]
  },
  {
   "cell_type": "markdown",
   "metadata": {},
   "source": [
    "Remarquez que les deux graphes ont le même axe x. Si vous zoomer sur le premier, le deuxième suivra."
   ]
  },
  {
   "cell_type": "markdown",
   "metadata": {},
   "source": [
    "<br></br>\n",
    "### D. Ajout de l'Interactivité aux visualisations"
   ]
  },
  {
   "cell_type": "markdown",
   "metadata": {},
   "source": [
    "Bokeh permet la création de visualisations interactives en procurant des attributs visuels comme Hover, Slider ou Selection etc.\n",
    "\n",
    "Les Hover par exemple sont très utiles pour ajouter une dimension supplémentaire au graphe. Ils permettent de visualiser un point de données quand l'utilisareur le survole avec la souris. Pour créer un graphe avec un Hover tool, on va créer un graphe qui combine les données de deux artistes, et utiliser le Hover tool pour différencier entre les deux."
   ]
  },
  {
   "cell_type": "code",
   "execution_count": null,
   "metadata": {},
   "outputs": [],
   "source": [
    "from bokeh.models import HoverTool"
   ]
  },
  {
   "cell_type": "code",
   "execution_count": null,
   "metadata": {},
   "outputs": [],
   "source": [
    "# Créer une ColumnDataSource basé sur un dataframe ou l'artiste est soit 1 ou 2\n",
    "\n"
   ]
  },
  {
   "cell_type": "code",
   "execution_count": null,
   "metadata": {},
   "outputs": [],
   "source": [
    "# Créer un hover tool en utilisant la fonction HoverTool où les tooltips pointent sur le tuples d'information à afficher qu'on l'utilisateur survole la donnée,\n",
    "# à savoir nom de l'artiste, nom de la piste popularité, loudness, name.\n",
    "# Ainsi, chaque tuple du tooltip devra contenir un label et une référence au champs contenant l'information\n",
    "\n"
   ]
  },
  {
   "cell_type": "code",
   "execution_count": null,
   "metadata": {},
   "outputs": [],
   "source": [
    "# Donner l'objet hover tool comme argument à votre figure \n",
    "\n"
   ]
  },
  {
   "cell_type": "code",
   "execution_count": null,
   "metadata": {},
   "outputs": [],
   "source": [
    "# Créer un scaterplot avec par exemple les variables acousticness et energy de la ColumnDataSource \n",
    "\n"
   ]
  },
  {
   "cell_type": "code",
   "execution_count": null,
   "metadata": {},
   "outputs": [],
   "source": [
    "# Afficher le graphe. Survoler avec la souris quelques datapoint pour s'assurer du bon affichage des informations.\n",
    "\n"
   ]
  },
  {
   "cell_type": "markdown",
   "metadata": {},
   "source": [
    "<br> L'outil de sélection permet de mettre en exergue un sous-ensemble de données sur le graphe. Pour ajouter un selection tool à votre graphe, il faut ajouter 'box_select' à la liste des outils de la figure. Il est possible de définir une selection_color, nonselection_fill_color, et un nonselection_fill_alpha en leur assignant des valeurs dans les arguments de la fonction de création du graphe."
   ]
  },
  {
   "cell_type": "code",
   "execution_count": null,
   "metadata": {},
   "outputs": [],
   "source": [
    "# Passer l'objet hover tool et un 'box_select' comme arguments de tools\n",
    "\n"
   ]
  },
  {
   "cell_type": "code",
   "execution_count": null,
   "metadata": {},
   "outputs": [],
   "source": [
    "# Recréer le scatter plot en spécifiant les arguments de selection\n",
    "\n"
   ]
  },
  {
   "cell_type": "code",
   "execution_count": null,
   "metadata": {},
   "outputs": [],
   "source": [
    "# Afficher le graphe\n",
    "\n"
   ]
  },
  {
   "cell_type": "markdown",
   "metadata": {},
   "source": [
    " "
   ]
  },
  {
   "cell_type": "markdown",
   "metadata": {},
   "source": [
    "Pour explorer d'autres outils dans le tool box : https://docs.bokeh.org/en/latest/docs/user_guide/tools.html?highlight=configuring%20plot%20tools"
   ]
  },
  {
   "cell_type": "markdown",
   "metadata": {},
   "source": [
    " "
   ]
  },
  {
   "cell_type": "markdown",
   "metadata": {},
   "source": [
    "### E. Bonus: Création d'une application de visualisation"
   ]
  },
  {
   "cell_type": "markdown",
   "metadata": {},
   "source": [
    "Bokeh offre la possibilité de créer des applications de visualisation de données qui peuvent être hebergées sur notre propre serveur à travers le Bokeh server. \n",
    "\n",
    "Le Bokeh server agit comme un pont connectant Python et le navigateur où seront hebergées les applications. En utilisant Bokeh Server, on peut déployer des applications avec une interactivité locale et les partager. \n",
    "\n",
    "Une application Bokeh est une entité qui crée et remplit des documents avec des mises à jour sur le backend avec toutes les configurations nécessaires pour transférer correctement les données entre le serveur et le client. Le backend Bokeh sérialise les documents en format JSON. Ces derniers sont envoyés et affichés par le client BokehJS (comme indiqué dans la figure ci-dessous).\n"
   ]
  },
  {
   "cell_type": "markdown",
   "metadata": {},
   "source": [
    "<img src=\"https://static.packt-cdn.com/products/9781789135404/graphics/b6dd15c9-b21d-4786-9185-fc68623e5d53.png\">"
   ]
  },
  {
   "cell_type": "markdown",
   "metadata": {},
   "source": [
    "Pour construire une application Bokeh, il faut suivre 3 étapes:\n",
    "\n",
    " <ol>\n",
    "  <li>Créer les graphes et widgets</li>\n",
    "  <li>Définir la fonction Callback: c'est la fonction qui indique à l'application comment réagir à l'interaction d'un utilisateur (lorsqu'un bouton est clické, un curseur est déplacé ..)</li>\n",
    "  <li>Créer un Layout: personnaliser les layouts pour organiser les graphes</li>\n",
    "</ol> "
   ]
  },
  {
   "cell_type": "markdown",
   "metadata": {},
   "source": [
    "<br> On va créer une application très simple qui va afficher un nuage de points de la popularité des pistes. Cependant, on donnera à l'utilisateur la possibilité de choisir entre afficher le graphe de la popularité par acousticness ou par loudness. Maintes étapes ont été déjà couvertes dans le TP.\n",
    "\n",
    "Pour ce faire, on va créer un fichier bokehApp.py qu'on pourra exécuter ultérieurement dans un terminal en utilisant la commande: __bokeh serve --show bokehApp.py__\n",
    "\n",
    "\n",
    "1. Ouvrir un fichier dans un éditeur de texte et le nommer bokehApp.py. Importer les librairies suivantes:\n",
    "<br>import pandas as pd\n",
    "<br>from bokeh.plotting import figure\n",
    "<br>from bokeh.models import ColumnDataSource, Select\n",
    "<br>from bokeh.io import curdoc\n",
    "<br>from bokeh.layouts import row\n",
    "\n",
    "2. Charger les données des pistes dans une dataframe\n",
    "\n",
    "3. Créer un second dataframe qui filtre les données pour un seul artiste de votre choix\n",
    "\n",
    "4. Créer un objet ColumnDataSource avec un dict contenant les attributs et colonnes ont on aura besoin\n",
    "\n",
    "5. Créer un scatter plot en utilisant les données de popularité et acousticness à partir de la ColumnDataSource \n",
    "\n",
    "6. On aura besoin de créer un \"Select\" widget (c'est un widget qui donnera la main à l'utilisateur de choisirla colonne à visualiser). Le widget prendra les options acousticness et loudness, avec acousticness comme valeur par défaut. Il faut également spécifier un titre qui s'affichera à l'utilisateur.\n",
    "\n",
    "7. Créer une fonction callback qui prendra la nouvelle colonne et changera la source de la donnée au niveau du graphe pour prendre les données de cette colonne.\n",
    "\n",
    "8. Spécifier ce qui devra arriver quand l'utilisateur opére un changement sur le Select widget (utiliser la fonction on_change)\n",
    "\n",
    "9. Créer un row layout pour vos widget et graphe.\n",
    "\n",
    "10. A chaque fois qu'on crée une application, Bokeh crée un \"curdoc\", qui est un document ou canevas vide pour cette application. Il faut ajouter les widgets et graphes (ou les layouts) à ce document en utilisant la méthode add_root.\n",
    "\n",
    "Sauvegarder le fichier bokehApp.py et exécuter la commande susmentionnée dans un terminal."
   ]
  },
  {
   "cell_type": "markdown",
   "metadata": {},
   "source": [
    "<br> Pour plus de détails sur Bokeh, explorer https://github.com/bokeh/bokeh-notebooks/tree/main/tutorial pour plus de détails."
   ]
  }
 ],
 "metadata": {
  "kernelspec": {
   "name": "python3",
   "display_name": "Python 3.9.0 64-bit",
   "metadata": {
    "interpreter": {
     "hash": "5b444563759645e795b5482cf2150aabe0ea74d7e9bb280712938a02f2a4b027"
    }
   }
  },
  "language_info": {
   "codemirror_mode": {
    "name": "ipython",
    "version": 3
   },
   "file_extension": ".py",
   "mimetype": "text/x-python",
   "name": "python",
   "nbconvert_exporter": "python",
   "pygments_lexer": "ipython3",
   "version": "3.9.0-final"
  }
 },
 "nbformat": 4,
 "nbformat_minor": 4
}