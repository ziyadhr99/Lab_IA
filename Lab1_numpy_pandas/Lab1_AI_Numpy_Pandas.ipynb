{
 "cells": [
  {
   "cell_type": "markdown",
   "metadata": {},
   "source": [
    "# Travaux Pratiques Intelligence Artificielle: Lab1\n",
    "\n",
    "Python 4 Data Science: Introduction à NumPy et Pandas 🤖 🙌.\n",
    "\n",
    "## Objectifs du TP:\n",
    "\n",
    "> **Se familiariser avec les instructions NumPy**\n",
    "\n",
    "> **Se familiariser avec les commandes les plus utilisées pour l'exploration des données en utilisant la libraire Pandas**\n",
    "\n",
    "> **Analyser les données pour pouvoir répondre à la question: Qu'est ce qui fait un Hit?** Pour ce faire, nous allons analyser les pistes musicales dont les données sont extraites de Spotify API. \n",
    "\n",
    "\n",
    "\n",
    "<br> A la fin du TP vous devez **rendre ce notebook dans \"Assignment\" de Teams**. Le TP doit être travaillé en préférence en binôme.\n",
    "\n",
    "_Besoin d'aide? Laisser moi un Commentaire sur Teams_\n",
    "\n",
    "![green-divider](https://user-images.githubusercontent.com/7065401/52071924-c003ad80-2562-11e9-8297-1c6595f8a7ff.png)"
   ]
  },
  {
   "cell_type": "markdown",
   "metadata": {},
   "source": [
    "## Exercices Numpy\n",
    "\n",
    "### I. Warm-up Exercice\n",
    "\n",
    "Ce petit exercice a pour objectif de vous familiariser avec les matrices multi-dimensionnelles NumPy."
   ]
  },
  {
   "cell_type": "markdown",
   "metadata": {},
   "source": [
    "<img src=\"resources/array.png\" width=420>"
   ]
  },
  {
   "cell_type": "markdown",
   "metadata": {},
   "source": [
    "1. Créer la matrice dépictée dans la figure"
   ]
  },
  {
   "cell_type": "code",
   "execution_count": 2,
   "metadata": {},
   "outputs": [],
   "source": [
    "# import numpy\n",
    "import numpy as np"
   ]
  },
  {
   "cell_type": "code",
   "execution_count": 3,
   "metadata": {},
   "outputs": [],
   "source": [
    "# Créer la matrice\n",
    "arr = np.array([[0,1,2,3,4],[5,6,7,8,9],[10,11,12,13,14],[15,16,17,18,19],[20,21,22,23,24]])"
   ]
  },
  {
   "cell_type": "code",
   "execution_count": 4,
   "metadata": {},
   "outputs": [
    {
     "output_type": "stream",
     "name": "stdout",
     "text": [
      "[0 1 2 3 4]\n[5 6 7 8 9]\n[10 11 12 13 14]\n[15 16 17 18 19]\n[20 21 22 23 24]\n"
     ]
    }
   ],
   "source": [
    "# explorer la matrice \n",
    "for x in arr:\n",
    "    print(x)"
   ]
  },
  {
   "cell_type": "markdown",
   "metadata": {},
   "source": [
    "2.  Ecrire les instructions pour sélectionner les éléments en rouge, bleu et jaune."
   ]
  },
  {
   "cell_type": "code",
   "execution_count": 5,
   "metadata": {},
   "outputs": [
    {
     "output_type": "stream",
     "name": "stdout",
     "text": [
      "[20 21 22 23 24]\n"
     ]
    }
   ],
   "source": [
    "# selectionner les éléments jaunes\n",
    "arr1 = np.array(arr[4,:])\n",
    "print(arr1)"
   ]
  },
  {
   "cell_type": "code",
   "execution_count": 6,
   "metadata": {},
   "outputs": [
    {
     "output_type": "stream",
     "name": "stdout",
     "text": [
      "[array([[0, 1, 2, 3, 4]]) array([ 3,  8, 13, 18, 23])]\n"
     ]
    }
   ],
   "source": [
    "# selectionner les éléments rouges\n",
    "arr2 = np.array([arr[:1],arr[:,3]])\n",
    "print(arr2)"
   ]
  },
  {
   "cell_type": "code",
   "execution_count": 7,
   "metadata": {},
   "outputs": [
    {
     "output_type": "stream",
     "name": "stdout",
     "text": [
      "[5 7] [15 17]\n"
     ]
    }
   ],
   "source": [
    "# selectionner les éléments bleus\n",
    "\n",
    "print(arr[1,:3:2],arr[3,:3:2])"
   ]
  },
  {
   "cell_type": "markdown",
   "metadata": {},
   "source": [
    "<br>"
   ]
  },
  {
   "cell_type": "markdown",
   "metadata": {},
   "source": [
    "### II. Manipulation d'une image avec NumPy\n",
    "\n",
    "L'objectif de cet exercice est de démontrer l'intérêt de NumPy, particulièrement pour la manipulation des images. Une image peut être considérée comme une matrice et peut donc facilement subir les transformations NumPy. \n",
    "\n",
    "On voudrait, dans cet exercice, lire une image, puis essayer de la brouiller (la rendre floue). Pour cela, on va essayer d'affecter à chaque pixel la moyenne de ses pixels voisins. \n",
    "\n",
    "Il est possible bien évidemment de faire la chose en bouclant sur les éléments de la matrice (double boucle). Mais on s'intéresse à le faire d'une manière optimisée en utilisant NumPy.\n",
    "\n",
    "Essayons d'appliquer l'algorithme sur une petite matrice (il faut dire que ce n'est pas un algorithme state of the art, mais il fait l'affaire). Prenons une image de 4x4 pixels. L'idée est de la réduire en une image à 4 pixels comme c'est illustré dans la figure suivante:\n",
    "\n",
    "<img src=\"resources/flou1.png\">"
   ]
  },
  {
   "cell_type": "code",
   "execution_count": 8,
   "metadata": {},
   "outputs": [],
   "source": [
    "matrice = np.arange(1,17).reshape((4,4))"
   ]
  },
  {
   "cell_type": "code",
   "execution_count": 9,
   "metadata": {},
   "outputs": [
    {
     "output_type": "execute_result",
     "data": {
      "text/plain": [
       "array([[ 1,  2,  3,  4],\n",
       "       [ 5,  6,  7,  8],\n",
       "       [ 9, 10, 11, 12],\n",
       "       [13, 14, 15, 16]])"
      ]
     },
     "metadata": {},
     "execution_count": 9
    }
   ],
   "source": [
    "matrice"
   ]
  },
  {
   "cell_type": "code",
   "execution_count": 10,
   "metadata": {},
   "outputs": [
    {
     "output_type": "execute_result",
     "data": {
      "text/plain": [
       "(4, 4)"
      ]
     },
     "metadata": {},
     "execution_count": 10
    }
   ],
   "source": [
    "matrice.shape"
   ]
  },
  {
   "cell_type": "markdown",
   "metadata": {},
   "source": [
    "<br> Calculer la moyenne des pixels voisins de chaque pixel flaggé dans notre image source revient à calculer la moyenne des matrices suivantes: \n",
    "\n",
    "<img src=\"resources/flou2.png\">"
   ]
  },
  {
   "cell_type": "markdown",
   "metadata": {},
   "source": [
    "<br> Selectionner le centre de cette matrice (jaune). Utilier les indexes relatifs pour que votre code soit généralisable pour n'importe quelle taille de matrice."
   ]
  },
  {
   "cell_type": "code",
   "execution_count": 11,
   "metadata": {},
   "outputs": [
    {
     "output_type": "stream",
     "name": "stdout",
     "text": [
      "[[ 6  7]\n [10 11]]\n"
     ]
    }
   ],
   "source": [
    "jaune = matrice[1:-1,1:-1]\n",
    "print(jaune)"
   ]
  },
  {
   "cell_type": "markdown",
   "metadata": {},
   "source": [
    "<br> Selectionner le haut de cette matrice (violet):"
   ]
  },
  {
   "cell_type": "code",
   "execution_count": 12,
   "metadata": {},
   "outputs": [
    {
     "output_type": "stream",
     "name": "stdout",
     "text": [
      "[[2 3]\n [6 7]]\n"
     ]
    }
   ],
   "source": [
    "ligne = int(len(matrice[:,0])/2)\n",
    "violet = matrice[:ligne,1:-1]\n",
    "print(violet)"
   ]
  },
  {
   "cell_type": "markdown",
   "metadata": {},
   "source": [
    "<br> Selectionner le bas de cette matrice (Rouge):"
   ]
  },
  {
   "cell_type": "code",
   "execution_count": 13,
   "metadata": {},
   "outputs": [
    {
     "output_type": "stream",
     "name": "stdout",
     "text": [
      "[[10 11]\n [14 15]]\n"
     ]
    }
   ],
   "source": [
    "rouge = matrice[-ligne:,1:-1]\n",
    "print(rouge)"
   ]
  },
  {
   "cell_type": "markdown",
   "metadata": {},
   "source": [
    "<br> Selectionner la partie gauche de cette matrice (bleu):"
   ]
  },
  {
   "cell_type": "code",
   "execution_count": 14,
   "metadata": {},
   "outputs": [
    {
     "output_type": "stream",
     "name": "stdout",
     "text": [
      "[[ 5  6]\n [ 9 10]]\n"
     ]
    }
   ],
   "source": [
    "colonne = int(len(matrice[0])/2)\n",
    "bleu = matrice[1:-1,:colonne]\n",
    "print(bleu)"
   ]
  },
  {
   "cell_type": "markdown",
   "metadata": {},
   "source": [
    "<br> Selectionner la partie droite de cette matrice (vert):"
   ]
  },
  {
   "cell_type": "code",
   "execution_count": 15,
   "metadata": {},
   "outputs": [
    {
     "output_type": "stream",
     "name": "stdout",
     "text": [
      "[[ 7  8]\n",
      " [11 12]]\n"
     ]
    }
   ],
   "source": [
    "vert = matrice[1:-1,-colonne:]\n",
    "print(vert)"
   ]
  },
  {
   "cell_type": "markdown",
   "metadata": {},
   "source": [
    "<br> Calculer la matrice des moyennes (element-wise):"
   ]
  },
  {
   "cell_type": "code",
   "execution_count": 16,
   "metadata": {},
   "outputs": [
    {
     "output_type": "stream",
     "name": "stdout",
     "text": [
      "[[ 7.66666667  8.66666667]\n [11.66666667 12.66666667]]\n[[ 7.  8.]\n [11. 12.]]\n[[ 5.  6.]\n [ 9. 10.]]\n[[4.33333333 5.33333333]\n [8.33333333 9.33333333]]\n[[ 6.83333333  7.5       ]\n [ 9.5        10.16666667]]\n"
     ]
    }
   ],
   "source": [
    "# matrice red-green-yellow\n",
    "red_gr = np.array([ [jaune[0,0]+rouge[0,0]+vert[0,0],jaune[0,1]+rouge[0,1]+vert[0,1]] , [jaune[1,0]+rouge[1,0]+vert[1,0],jaune[1,1]+rouge[1,1]+vert[1,1]] ])\n",
    "red_gr = red_gr/3\n",
    "print(red_gr)\n",
    "# matrice red-gblue-yellow\n",
    "red_bl = np.array([ [jaune[0,0]+rouge[0,0]+bleu[0,0],jaune[0,1]+rouge[0,1]+bleu[0,1]] , [jaune[1,0]+rouge[1,0]+bleu[1,0],jaune[1,1]+rouge[1,1]+bleu[1,1]] ])\n",
    "red_bl = red_bl/3\n",
    "print(red_bl)\n",
    "# matrice purple-green-yellow\n",
    "gr_vi = np.array([ [jaune[0,0]+vert[0,0]+violet[0,0],jaune[0,1]+vert[0,1]+violet[0,1]] , [jaune[1,0]+vert[1,0]+violet[1,0],jaune[1,1]+vert[1,1]+violet[1,1]] ])\n",
    "gr_vi = gr_vi/3\n",
    "print(gr_vi)\n",
    "# matrice purple-blue-yellow\n",
    "bl_vi = np.array([ [jaune[0,0]+bleu[0,0]+violet[0,0],jaune[0,1]+bleu[0,1]+violet[0,1]] , [jaune[1,0]+bleu[1,0]+violet[1,0],jaune[1,1]+bleu[1,1]+violet[1,1]] ])\n",
    "bl_vi = bl_vi/3\n",
    "print(bl_vi)\n",
    "# les moyennes des matrices\n",
    "x0 = red_gr.mean()\n",
    "x1 = red_bl.mean()\n",
    "x2 = gr_vi.mean()\n",
    "x3 = bl_vi.mean()\n",
    "last = np.array([[x3,x2],[x1,x0]])\n",
    "print(last)"
   ]
  },
  {
   "cell_type": "markdown",
   "metadata": {},
   "source": [
    "<br> Cette matrice présente l'image brouillée de l'image source."
   ]
  },
  {
   "cell_type": "markdown",
   "metadata": {},
   "source": [
    "<br> Maintenant on va généraliser cela sur une image quelconque, en définissant une fonction:"
   ]
  },
  {
   "cell_type": "code",
   "execution_count": 17,
   "metadata": {},
   "outputs": [],
   "source": [
    "def brouiller(image):\n",
    "    '''\n",
    "    Arg: Image source\n",
    "    Retourne l'image brouillée \n",
    "    '''\n",
    "    \n",
    "    \n",
    "    # Appliquer l'algorithme sur l'image\n",
    "    \n",
    "    return image_brouillee"
   ]
  },
  {
   "cell_type": "markdown",
   "metadata": {},
   "source": [
    "<br> Pour tester notre fonction, nous allons essayer de brouiller l'image \"Metro\". On utilisera Matplotlib pour ouvrir le fichier image."
   ]
  },
  {
   "cell_type": "code",
   "execution_count": 18,
   "metadata": {},
   "outputs": [],
   "source": [
    "import matplotlib.pyplot as plt"
   ]
  },
  {
   "cell_type": "code",
   "execution_count": 19,
   "metadata": {},
   "outputs": [],
   "source": [
    "image = plt.imread('resources/Metro.png')"
   ]
  },
  {
   "cell_type": "code",
   "execution_count": 20,
   "metadata": {},
   "outputs": [
    {
     "output_type": "execute_result",
     "data": {
      "text/plain": [
       "array([[0.6039216 , 0.6431373 , 0.6784314 , ..., 0.59607846, 0.5921569 ,\n",
       "        0.63529414],\n",
       "       [0.6666667 , 0.654902  , 0.654902  , ..., 0.654902  , 0.64705884,\n",
       "        0.6392157 ],\n",
       "       [0.68235296, 0.6784314 , 0.6666667 , ..., 0.61960787, 0.57254905,\n",
       "        0.5764706 ],\n",
       "       ...,\n",
       "       [0.14509805, 0.15294118, 0.16078432, ..., 0.1254902 , 0.1254902 ,\n",
       "        0.1254902 ],\n",
       "       [0.14117648, 0.15686275, 0.16470589, ..., 0.12156863, 0.1254902 ,\n",
       "        0.12156863],\n",
       "       [0.14117648, 0.15294118, 0.16470589, ..., 0.12156863, 0.1254902 ,\n",
       "        0.12156863]], dtype=float32)"
      ]
     },
     "metadata": {},
     "execution_count": 20
    }
   ],
   "source": [
    "image"
   ]
  },
  {
   "cell_type": "code",
   "execution_count": 21,
   "metadata": {},
   "outputs": [
    {
     "output_type": "execute_result",
     "data": {
      "text/plain": [
       "(numpy.ndarray, dtype('float32'), (461, 615))"
      ]
     },
     "metadata": {},
     "execution_count": 21
    }
   ],
   "source": [
    "type(image), image.dtype, image.shape"
   ]
  },
  {
   "cell_type": "code",
   "execution_count": 22,
   "metadata": {},
   "outputs": [
    {
     "output_type": "display_data",
     "data": {
      "text/plain": "<Figure size 432x288 with 1 Axes>",
      "image/svg+xml": "<?xml version=\"1.0\" encoding=\"utf-8\" standalone=\"no\"?>\r\n<!DOCTYPE svg PUBLIC \"-//W3C//DTD SVG 1.1//EN\"\r\n  \"http://www.w3.org/Graphics/SVG/1.1/DTD/svg11.dtd\">\r\n<!-- Created with matplotlib (https://matplotlib.org/) -->\r\n<svg height=\"231.84pt\" version=\"1.1\" viewBox=\"0 0 304.477223 231.84\" width=\"304.477223pt\" xmlns=\"http://www.w3.org/2000/svg\" xmlns:xlink=\"http://www.w3.org/1999/xlink\">\r\n <metadata>\r\n  <rdf:RDF xmlns:cc=\"http://creativecommons.org/ns#\" xmlns:dc=\"http://purl.org/dc/elements/1.1/\" xmlns:rdf=\"http://www.w3.org/1999/02/22-rdf-syntax-ns#\">\r\n   <cc:Work>\r\n    <dc:type rdf:resource=\"http://purl.org/dc/dcmitype/StillImage\"/>\r\n    <dc:date>2020-11-18T18:31:22.385803</dc:date>\r\n    <dc:format>image/svg+xml</dc:format>\r\n    <dc:creator>\r\n     <cc:Agent>\r\n      <dc:title>Matplotlib v3.3.2, https://matplotlib.org/</dc:title>\r\n     </cc:Agent>\r\n    </dc:creator>\r\n   </cc:Work>\r\n  </rdf:RDF>\r\n </metadata>\r\n <defs>\r\n  <style type=\"text/css\">*{stroke-linecap:butt;stroke-linejoin:round;}</style>\r\n </defs>\r\n <g id=\"figure_1\">\r\n  <g id=\"patch_1\">\r\n   <path d=\"M 0 231.84 \r\nL 304.477223 231.84 \r\nL 304.477223 0 \r\nL 0 0 \r\nz\r\n\" style=\"fill:none;\"/>\r\n  </g>\r\n  <g id=\"axes_1\">\r\n   <g clip-path=\"url(#p2a138324a1)\">\r\n    <image height=\"218\" id=\"imagec47c22deb5\" transform=\"scale(1 -1)translate(0 -218)\" width=\"291\" x=\"7.2\" xlink:href=\"data:image/png;base64,\r\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\" y=\"-6.64\"/>\r\n   </g>\r\n  </g>\r\n </g>\r\n <defs>\r\n  <clipPath id=\"p2a138324a1\">\r\n   <rect height=\"217.44\" width=\"290.077223\" x=\"7.2\" y=\"7.2\"/>\r\n  </clipPath>\r\n </defs>\r\n</svg>\r\n",
      "image/png": "[encoded data removed]"
     },
     "metadata": {
      "needs_background": "light"
     }
    }
   ],
   "source": [
    "# Ouvrir l'image en gris\n",
    "\n",
    "plt.imshow(image)\n",
    "plt.gray()\n",
    "plt.axis('off')\n",
    "plt.show()"
   ]
  },
  {
   "cell_type": "code",
   "execution_count": 23,
   "metadata": {},
   "outputs": [
    {
     "output_type": "error",
     "ename": "NameError",
     "evalue": "name 'image_brouillee' is not defined",
     "traceback": [
      "\u001b[1;31m---------------------------------------------------------------------------\u001b[0m",
      "\u001b[1;31mNameError\u001b[0m                                 Traceback (most recent call last)",
      "\u001b[1;32m<ipython-input-23-60114a7c9349>\u001b[0m in \u001b[0;36m<module>\u001b[1;34m\u001b[0m\n\u001b[1;32m----> 1\u001b[1;33m \u001b[0mimage_brouillee\u001b[0m \u001b[1;33m=\u001b[0m \u001b[0mbrouiller\u001b[0m\u001b[1;33m(\u001b[0m\u001b[0mimage\u001b[0m\u001b[1;33m)\u001b[0m\u001b[1;33m\u001b[0m\u001b[1;33m\u001b[0m\u001b[0m\n\u001b[0m",
      "\u001b[1;32m<ipython-input-17-9af330e83e2d>\u001b[0m in \u001b[0;36mbrouiller\u001b[1;34m(image)\u001b[0m\n\u001b[0;32m      8\u001b[0m     \u001b[1;31m# Appliquer l'algorithme sur l'image\u001b[0m\u001b[1;33m\u001b[0m\u001b[1;33m\u001b[0m\u001b[1;33m\u001b[0m\u001b[0m\n\u001b[0;32m      9\u001b[0m \u001b[1;33m\u001b[0m\u001b[0m\n\u001b[1;32m---> 10\u001b[1;33m     \u001b[1;32mreturn\u001b[0m \u001b[0mimage_brouillee\u001b[0m\u001b[1;33m\u001b[0m\u001b[1;33m\u001b[0m\u001b[0m\n\u001b[0m",
      "\u001b[1;31mNameError\u001b[0m: name 'image_brouillee' is not defined"
     ]
    }
   ],
   "source": [
    "image_brouillee = brouiller(image)"
   ]
  },
  {
   "cell_type": "code",
   "execution_count": null,
   "metadata": {},
   "outputs": [],
   "source": [
    "# Afficher la nouvelle image\n",
    "plt.imshow(image_brouillee)\n",
    "plt.gray()\n",
    "plt.axis('off')\n",
    "plt.show()"
   ]
  },
  {
   "cell_type": "markdown",
   "metadata": {},
   "source": [
    "<br> Comme on n'a appliqué le filtre qu'une seule fois, les différences sont difficiles à discerner. Mais si vous affichez la différence entre les deux images, vous verrez quelques changements."
   ]
  },
  {
   "cell_type": "code",
   "execution_count": 83,
   "metadata": {},
   "outputs": [
    {
     "data": {
      "image/png": "[encoded data removed]",
      "text/plain": [
       "<Figure size 432x288 with 1 Axes>"
      ]
     },
     "metadata": {
      "needs_background": "light"
     },
     "output_type": "display_data"
    }
   ],
   "source": [
    "plt.imshow(image - image)\n",
    "plt.axis('off')\n",
    "plt.show()"
   ]
  },
  {
   "cell_type": "code",
   "execution_count": null,
   "metadata": {},
   "outputs": [],
   "source": [
    "# Afficher la différence entre l'image source et l'image brouillée\n",
    "\n"
   ]
  },
  {
   "cell_type": "markdown",
   "metadata": {},
   "source": [
    "<br> Afin d'effectivement brouiller l'image, vous pouvez réappliquer le filtre une 50aine de fois: "
   ]
  },
  {
   "cell_type": "code",
   "execution_count": null,
   "metadata": {},
   "outputs": [],
   "source": [
    "# Boucler et appliquer le filtre, puis afficher l'image résultante\n",
    "\n"
   ]
  },
  {
   "cell_type": "markdown",
   "metadata": {},
   "source": [
    "<br>"
   ]
  },
  {
   "cell_type": "markdown",
   "metadata": {},
   "source": [
    "### Explorer d'autres possibilités: \n",
    "\n",
    "Vous pouvez explorer d'autres manipulations des images avec Numpy (incluant les données RGB): https://note.nkmk.me/en/python-numpy-image-processing/"
   ]
  },
  {
   "cell_type": "markdown",
   "metadata": {},
   "source": [
    " "
   ]
  },
  {
   "cell_type": "markdown",
   "metadata": {},
   "source": [
    "\n",
    "\n",
    "\n",
    "\n",
    "\n"
   ]
  },
  {
   "cell_type": "markdown",
   "metadata": {},
   "source": [
    "![green-divider](https://user-images.githubusercontent.com/7065401/52071924-c003ad80-2562-11e9-8297-1c6595f8a7ff.png)\n"
   ]
  },
  {
   "cell_type": "markdown",
   "metadata": {},
   "source": [
    "## Introduction à Pandas"
   ]
  },
  {
   "cell_type": "markdown",
   "metadata": {},
   "source": [
    "## A. Importer et examiner les données\n",
    "\n",
    "Pandas est très fort dans la lecture et le traitement des données structurées. Pour notre analyse, nous aurons besoins de lire les fichiers csv pour pouvoir les explorer. Nos données sont issues de Spotify et englobent plus de 160.000 pistes musicales extraites à partir de Spotify Web API. Ces informations sont également groupées par artiste, année, et genre musical. \n",
    "\n",
    "Le dossier music_dataset contient donc 5 fichiers csv:\n",
    "- data_by_artist\n",
    "- data_by_genres\n",
    "- data_by_year\n",
    "- data_w_genres\n",
    "- data\n",
    "\n",
    "Avant d'attaquer les données dans plus de détails, il est très judicieux de commencer par une exploration rapide. Ceci vous permettra de répondre aux questions: A quelles données ai-je affaire? Quelle est la qualité de ces données là?.... \n",
    "\n",
    "Les données sont extraites en utilisant l'API de Spotify. Pour plus de détails sur les métadata, vous pouvez explorer: https://developer.spotify.com/documentation/web-api/reference/"
   ]
  },
  {
   "cell_type": "code",
   "execution_count": null,
   "metadata": {},
   "outputs": [],
   "source": []
  },
  {
   "cell_type": "code",
   "execution_count": null,
   "metadata": {},
   "outputs": [],
   "source": []
  },
  {
   "cell_type": "markdown",
   "metadata": {},
   "source": [
    "#### 1. Importer les données"
   ]
  },
  {
   "cell_type": "markdown",
   "metadata": {},
   "source": [
    "Commencer par importer pandas en respectant la convention d'import."
   ]
  },
  {
   "cell_type": "code",
   "execution_count": 2,
   "metadata": {},
   "outputs": [],
   "source": [
    "import pandas as pd"
   ]
  },
  {
   "cell_type": "markdown",
   "metadata": {},
   "source": [
    "<br> Lire le fichier csv 'data.csv' relatif aux données des pistes dans une dataframe."
   ]
  },
  {
   "cell_type": "code",
   "execution_count": 17,
   "metadata": {},
   "outputs": [],
   "source": [
    "df = pd.read_csv(\"music_dataset/data.csv\",sep=',')"
   ]
  },
  {
   "cell_type": "markdown",
   "metadata": {},
   "source": [
    "<br> Afficher les premières lignes de la dataframe créée."
   ]
  },
  {
   "cell_type": "code",
   "execution_count": 18,
   "metadata": {},
   "outputs": [
    {
     "output_type": "execute_result",
     "data": {
      "text/plain": [
       "   acousticness                                   artists  danceability  \\\n",
       "0         0.995                       ['Carl Woitschach']         0.708   \n",
       "1         0.994  ['Robert Schumann', 'Vladimir Horowitz']         0.379   \n",
       "2         0.604                   ['Seweryn Goszczyński']         0.749   \n",
       "3         0.995                      ['Francisco Canaro']         0.781   \n",
       "4         0.990  ['Frédéric Chopin', 'Vladimir Horowitz']         0.210   \n",
       "\n",
       "   duration_ms  energy  explicit                      id  instrumentalness  \\\n",
       "0       158648  0.1950         0  6KbQ3uYMLKb5jDxLF7wYDD             0.563   \n",
       "1       282133  0.0135         0  6KuQTIu1KoTTkLXKrwlLPV             0.901   \n",
       "2       104300  0.2200         0  6L63VW0PibdM1HDSBoqnoM             0.000   \n",
       "3       180760  0.1300         0  6M94FkXd15sOAOQYRnWPN8             0.887   \n",
       "4       687733  0.2040         0  6N6tiFZ9vLTSOIxkj8qKrd             0.908   \n",
       "\n",
       "   key  liveness  loudness  mode  \\\n",
       "0   10    0.1510   -12.428     1   \n",
       "1    8    0.0763   -28.454     1   \n",
       "2    5    0.1190   -19.924     0   \n",
       "3    1    0.1110   -14.734     0   \n",
       "4   11    0.0980   -16.829     1   \n",
       "\n",
       "                                            name  popularity release_date  \\\n",
       "0                    Singende Bataillone 1. Teil           0         1928   \n",
       "1       Fantasiestücke, Op. 111: Più tosto lento           0         1928   \n",
       "2                 Chapter 1.18 - Zamek kaniowski           0         1928   \n",
       "3  Bebamos Juntos - Instrumental (Remasterizado)           0   1928-09-25   \n",
       "4    Polonaise-Fantaisie in A-Flat Major, Op. 61           1         1928   \n",
       "\n",
       "   speechiness    tempo  valence  year  \n",
       "0       0.0506  118.469   0.7790  1928  \n",
       "1       0.0462   83.972   0.0767  1928  \n",
       "2       0.9290  107.177   0.8800  1928  \n",
       "3       0.0926  108.003   0.7200  1928  \n",
       "4       0.0424   62.149   0.0693  1928  "
      ],
      "text/html": "<div>\n<style scoped>\n    .dataframe tbody tr th:only-of-type {\n        vertical-align: middle;\n    }\n\n    .dataframe tbody tr th {\n        vertical-align: top;\n    }\n\n    .dataframe thead th {\n        text-align: right;\n    }\n</style>\n<table border=\"1\" class=\"dataframe\">\n  <thead>\n    <tr style=\"text-align: right;\">\n      <th></th>\n      <th>acousticness</th>\n      <th>artists</th>\n      <th>danceability</th>\n      <th>duration_ms</th>\n      <th>energy</th>\n      <th>explicit</th>\n      <th>id</th>\n      <th>instrumentalness</th>\n      <th>key</th>\n      <th>liveness</th>\n      <th>loudness</th>\n      <th>mode</th>\n      <th>name</th>\n      <th>popularity</th>\n      <th>release_date</th>\n      <th>speechiness</th>\n      <th>tempo</th>\n      <th>valence</th>\n      <th>year</th>\n    </tr>\n  </thead>\n  <tbody>\n    <tr>\n      <th>0</th>\n      <td>0.995</td>\n      <td>['Carl Woitschach']</td>\n      <td>0.708</td>\n      <td>158648</td>\n      <td>0.1950</td>\n      <td>0</td>\n      <td>6KbQ3uYMLKb5jDxLF7wYDD</td>\n      <td>0.563</td>\n      <td>10</td>\n      <td>0.1510</td>\n      <td>-12.428</td>\n      <td>1</td>\n      <td>Singende Bataillone 1. Teil</td>\n      <td>0</td>\n      <td>1928</td>\n      <td>0.0506</td>\n      <td>118.469</td>\n      <td>0.7790</td>\n      <td>1928</td>\n    </tr>\n    <tr>\n      <th>1</th>\n      <td>0.994</td>\n      <td>['Robert Schumann', 'Vladimir Horowitz']</td>\n      <td>0.379</td>\n      <td>282133</td>\n      <td>0.0135</td>\n      <td>0</td>\n      <td>6KuQTIu1KoTTkLXKrwlLPV</td>\n      <td>0.901</td>\n      <td>8</td>\n      <td>0.0763</td>\n      <td>-28.454</td>\n      <td>1</td>\n      <td>Fantasiestücke, Op. 111: Più tosto lento</td>\n      <td>0</td>\n      <td>1928</td>\n      <td>0.0462</td>\n      <td>83.972</td>\n      <td>0.0767</td>\n      <td>1928</td>\n    </tr>\n    <tr>\n      <th>2</th>\n      <td>0.604</td>\n      <td>['Seweryn Goszczyński']</td>\n      <td>0.749</td>\n      <td>104300</td>\n      <td>0.2200</td>\n      <td>0</td>\n      <td>6L63VW0PibdM1HDSBoqnoM</td>\n      <td>0.000</td>\n      <td>5</td>\n      <td>0.1190</td>\n      <td>-19.924</td>\n      <td>0</td>\n      <td>Chapter 1.18 - Zamek kaniowski</td>\n      <td>0</td>\n      <td>1928</td>\n      <td>0.9290</td>\n      <td>107.177</td>\n      <td>0.8800</td>\n      <td>1928</td>\n    </tr>\n    <tr>\n      <th>3</th>\n      <td>0.995</td>\n      <td>['Francisco Canaro']</td>\n      <td>0.781</td>\n      <td>180760</td>\n      <td>0.1300</td>\n      <td>0</td>\n      <td>6M94FkXd15sOAOQYRnWPN8</td>\n      <td>0.887</td>\n      <td>1</td>\n      <td>0.1110</td>\n      <td>-14.734</td>\n      <td>0</td>\n      <td>Bebamos Juntos - Instrumental (Remasterizado)</td>\n      <td>0</td>\n      <td>1928-09-25</td>\n      <td>0.0926</td>\n      <td>108.003</td>\n      <td>0.7200</td>\n      <td>1928</td>\n    </tr>\n    <tr>\n      <th>4</th>\n      <td>0.990</td>\n      <td>['Frédéric Chopin', 'Vladimir Horowitz']</td>\n      <td>0.210</td>\n      <td>687733</td>\n      <td>0.2040</td>\n      <td>0</td>\n      <td>6N6tiFZ9vLTSOIxkj8qKrd</td>\n      <td>0.908</td>\n      <td>11</td>\n      <td>0.0980</td>\n      <td>-16.829</td>\n      <td>1</td>\n      <td>Polonaise-Fantaisie in A-Flat Major, Op. 61</td>\n      <td>1</td>\n      <td>1928</td>\n      <td>0.0424</td>\n      <td>62.149</td>\n      <td>0.0693</td>\n      <td>1928</td>\n    </tr>\n  </tbody>\n</table>\n</div>"
     },
     "metadata": {},
     "execution_count": 18
    }
   ],
   "source": [
    "df.head()"
   ]
  },
  {
   "cell_type": "markdown",
   "metadata": {},
   "source": [
    "<br> Afficher la taille et la forme de votre dataframe. "
   ]
  },
  {
   "cell_type": "code",
   "execution_count": 19,
   "metadata": {},
   "outputs": [
    {
     "output_type": "stream",
     "name": "stdout",
     "text": [
      "3228271\n(169909, 19)\n"
     ]
    }
   ],
   "source": [
    "print(df.size)\n",
    "print(df.shape)\n",
    "# 169909 lignes et 19 colonnes"
   ]
  },
  {
   "cell_type": "code",
   "execution_count": 20,
   "metadata": {},
   "outputs": [
    {
     "output_type": "execute_result",
     "data": {
      "text/plain": [
       "acousticness        float64\n",
       "artists              object\n",
       "danceability        float64\n",
       "duration_ms           int64\n",
       "energy              float64\n",
       "explicit              int64\n",
       "id                   object\n",
       "instrumentalness    float64\n",
       "key                   int64\n",
       "liveness            float64\n",
       "loudness            float64\n",
       "mode                  int64\n",
       "name                 object\n",
       "popularity            int64\n",
       "release_date         object\n",
       "speechiness         float64\n",
       "tempo               float64\n",
       "valence             float64\n",
       "year                  int64\n",
       "dtype: object"
      ]
     },
     "metadata": {},
     "execution_count": 20
    }
   ],
   "source": [
    "df.dtypes"
   ]
  },
  {
   "cell_type": "markdown",
   "metadata": {},
   "source": [
    "<br></br>\n",
    "#### 2. Examiner vos données:"
   ]
  },
  {
   "cell_type": "markdown",
   "metadata": {},
   "source": [
    "<br> Dresser une liste des colonnes avec une description de leurs types, valeurs possibles (intervales si numérique)... Penser à utiliser les différentes fonctions Pandas disponibles. "
   ]
  },
  {
   "cell_type": "code",
   "execution_count": 21,
   "metadata": {},
   "outputs": [
    {
     "output_type": "stream",
     "name": "stdout",
     "text": [
      "[['acousticness', 'artists', 'danceability', 'duration_ms', 'energy', 'explicit', 'id', 'instrumentalness', 'key', 'liveness', 'loudness', 'mode', 'name', 'popularity', 'release_date', 'speechiness', 'tempo', 'valence', 'year'], [0, 0, 0, 0, 0, 0, 0, 0, 0, 0, 0, 0, 0, 0, 0, 0, 0, 0, 0]]\n"
     ]
    }
   ],
   "source": [
    "liste = [ [0]*df.shape[1] for i in range(2) ]\n",
    "for i in range(df.shape[1]) :\n",
    "    liste[0][i] = str(df.columns[i])\n",
    "print(liste)"
   ]
  },
  {
   "cell_type": "code",
   "execution_count": null,
   "metadata": {},
   "outputs": [],
   "source": []
  },
  {
   "cell_type": "code",
   "execution_count": null,
   "metadata": {},
   "outputs": [],
   "source": []
  },
  {
   "cell_type": "code",
   "execution_count": null,
   "metadata": {},
   "outputs": [],
   "source": []
  },
  {
   "cell_type": "markdown",
   "metadata": {},
   "source": [
    "<br></br>\n",
    "#### 2. Modifier vos données:"
   ]
  },
  {
   "cell_type": "markdown",
   "metadata": {},
   "source": [
    "<br> Changer le type de la colonne popularité en un int."
   ]
  },
  {
   "cell_type": "code",
   "execution_count": 22,
   "metadata": {},
   "outputs": [
    {
     "output_type": "execute_result",
     "data": {
      "text/plain": [
       "acousticness        float64\n",
       "artists              object\n",
       "danceability        float64\n",
       "duration_ms           int64\n",
       "energy              float64\n",
       "explicit              int64\n",
       "id                   object\n",
       "instrumentalness    float64\n",
       "key                   int64\n",
       "liveness            float64\n",
       "loudness            float64\n",
       "mode                  int64\n",
       "name                 object\n",
       "popularity            int32\n",
       "release_date         object\n",
       "speechiness         float64\n",
       "tempo               float64\n",
       "valence             float64\n",
       "year                  int64\n",
       "dtype: object"
      ]
     },
     "metadata": {},
     "execution_count": 22
    }
   ],
   "source": [
    "df.popularity = df.popularity.astype('int32')\n",
    "df.dtypes"
   ]
  },
  {
   "cell_type": "markdown",
   "metadata": {},
   "source": [
    "<br> Spécifier que l'index de la Dataframe est le nom de la piste. Puis revenez à l'index d'origine."
   ]
  },
  {
   "cell_type": "code",
   "execution_count": 30,
   "metadata": {},
   "outputs": [
    {
     "output_type": "execute_result",
     "data": {
      "text/plain": [
       "                                               acousticness  \\\n",
       "name                                                          \n",
       "Singende Bataillone 1. Teil                          0.9950   \n",
       "Fantasiestücke, Op. 111: Più tosto lento             0.9940   \n",
       "Chapter 1.18 - Zamek kaniowski                       0.6040   \n",
       "Bebamos Juntos - Instrumental (Remasterizado)        0.9950   \n",
       "Polonaise-Fantaisie in A-Flat Major, Op. 61          0.9900   \n",
       "...                                                     ...   \n",
       "Skechers (feat. Tyga) - Remix                        0.1730   \n",
       "Sweeter (feat. Terrace Martin)                       0.0167   \n",
       "How Would I Know                                     0.5380   \n",
       "I Found You                                          0.0714   \n",
       "More Hearts Than Mine                                0.1090   \n",
       "\n",
       "                                                                                artists  \\\n",
       "name                                                                                      \n",
       "Singende Bataillone 1. Teil                                         ['Carl Woitschach']   \n",
       "Fantasiestücke, Op. 111: Più tosto lento       ['Robert Schumann', 'Vladimir Horowitz']   \n",
       "Chapter 1.18 - Zamek kaniowski                                  ['Seweryn Goszczyński']   \n",
       "Bebamos Juntos - Instrumental (Remasterizado)                      ['Francisco Canaro']   \n",
       "Polonaise-Fantaisie in A-Flat Major, Op. 61    ['Frédéric Chopin', 'Vladimir Horowitz']   \n",
       "...                                                                                 ...   \n",
       "Skechers (feat. Tyga) - Remix                                    ['DripReport', 'Tyga']   \n",
       "Sweeter (feat. Terrace Martin)                       ['Leon Bridges', 'Terrace Martin']   \n",
       "How Would I Know                                                  ['Kygo', 'Oh Wonder']   \n",
       "I Found You                                               ['Cash Cash', 'Andy Grammer']   \n",
       "More Hearts Than Mine                                                ['Ingrid Andress']   \n",
       "\n",
       "                                               danceability  duration_ms  \\\n",
       "name                                                                       \n",
       "Singende Bataillone 1. Teil                           0.708       158648   \n",
       "Fantasiestücke, Op. 111: Più tosto lento              0.379       282133   \n",
       "Chapter 1.18 - Zamek kaniowski                        0.749       104300   \n",
       "Bebamos Juntos - Instrumental (Remasterizado)         0.781       180760   \n",
       "Polonaise-Fantaisie in A-Flat Major, Op. 61           0.210       687733   \n",
       "...                                                     ...          ...   \n",
       "Skechers (feat. Tyga) - Remix                         0.875       163800   \n",
       "Sweeter (feat. Terrace Martin)                        0.719       167468   \n",
       "How Would I Know                                      0.514       180700   \n",
       "I Found You                                           0.646       167308   \n",
       "More Hearts Than Mine                                 0.512       214787   \n",
       "\n",
       "                                               energy  explicit  \\\n",
       "name                                                              \n",
       "Singende Bataillone 1. Teil                    0.1950         0   \n",
       "Fantasiestücke, Op. 111: Più tosto lento       0.0135         0   \n",
       "Chapter 1.18 - Zamek kaniowski                 0.2200         0   \n",
       "Bebamos Juntos - Instrumental (Remasterizado)  0.1300         0   \n",
       "Polonaise-Fantaisie in A-Flat Major, Op. 61    0.2040         0   \n",
       "...                                               ...       ...   \n",
       "Skechers (feat. Tyga) - Remix                  0.4430         1   \n",
       "Sweeter (feat. Terrace Martin)                 0.3850         0   \n",
       "How Would I Know                               0.5390         0   \n",
       "I Found You                                    0.7610         0   \n",
       "More Hearts Than Mine                          0.4280         0   \n",
       "\n",
       "                                                                   id  \\\n",
       "name                                                                    \n",
       "Singende Bataillone 1. Teil                    6KbQ3uYMLKb5jDxLF7wYDD   \n",
       "Fantasiestücke, Op. 111: Più tosto lento       6KuQTIu1KoTTkLXKrwlLPV   \n",
       "Chapter 1.18 - Zamek kaniowski                 6L63VW0PibdM1HDSBoqnoM   \n",
       "Bebamos Juntos - Instrumental (Remasterizado)  6M94FkXd15sOAOQYRnWPN8   \n",
       "Polonaise-Fantaisie in A-Flat Major, Op. 61    6N6tiFZ9vLTSOIxkj8qKrd   \n",
       "...                                                               ...   \n",
       "Skechers (feat. Tyga) - Remix                  4KppkflX7I3vJQk7urOJaS   \n",
       "Sweeter (feat. Terrace Martin)                 1ehhGlTvjtHo2e4xJFB0SZ   \n",
       "How Would I Know                               52eycxprLhK3lPcRLbQiVk   \n",
       "I Found You                                    3wYOGJYD31sLRmBgCvWxa4   \n",
       "More Hearts Than Mine                          60RFlt48hm0l4Fu0JoccOl   \n",
       "\n",
       "                                               instrumentalness  key  \\\n",
       "name                                                                   \n",
       "Singende Bataillone 1. Teil                            0.563000   10   \n",
       "Fantasiestücke, Op. 111: Più tosto lento               0.901000    8   \n",
       "Chapter 1.18 - Zamek kaniowski                         0.000000    5   \n",
       "Bebamos Juntos - Instrumental (Remasterizado)          0.887000    1   \n",
       "Polonaise-Fantaisie in A-Flat Major, Op. 61            0.908000   11   \n",
       "...                                                         ...  ...   \n",
       "Skechers (feat. Tyga) - Remix                          0.000032    1   \n",
       "Sweeter (feat. Terrace Martin)                         0.031300    8   \n",
       "How Would I Know                                       0.002330    7   \n",
       "I Found You                                            0.000000    1   \n",
       "More Hearts Than Mine                                  0.000000    0   \n",
       "\n",
       "                                               liveness  loudness  mode  \\\n",
       "name                                                                      \n",
       "Singende Bataillone 1. Teil                      0.1510   -12.428     1   \n",
       "Fantasiestücke, Op. 111: Più tosto lento         0.0763   -28.454     1   \n",
       "Chapter 1.18 - Zamek kaniowski                   0.1190   -19.924     0   \n",
       "Bebamos Juntos - Instrumental (Remasterizado)    0.1110   -14.734     0   \n",
       "Polonaise-Fantaisie in A-Flat Major, Op. 61      0.0980   -16.829     1   \n",
       "...                                                 ...       ...   ...   \n",
       "Skechers (feat. Tyga) - Remix                    0.0891    -7.461     1   \n",
       "Sweeter (feat. Terrace Martin)                   0.1110   -10.907     1   \n",
       "How Would I Know                                 0.1080    -9.332     1   \n",
       "I Found You                                      0.2220    -2.557     1   \n",
       "More Hearts Than Mine                            0.1050    -7.387     1   \n",
       "\n",
       "                                               popularity release_date  \\\n",
       "name                                                                     \n",
       "Singende Bataillone 1. Teil                             0         1928   \n",
       "Fantasiestücke, Op. 111: Più tosto lento                0         1928   \n",
       "Chapter 1.18 - Zamek kaniowski                          0         1928   \n",
       "Bebamos Juntos - Instrumental (Remasterizado)           0   1928-09-25   \n",
       "Polonaise-Fantaisie in A-Flat Major, Op. 61             1         1928   \n",
       "...                                                   ...          ...   \n",
       "Skechers (feat. Tyga) - Remix                          75   2020-05-15   \n",
       "Sweeter (feat. Terrace Martin)                         64   2020-06-08   \n",
       "How Would I Know                                       70   2020-05-29   \n",
       "I Found You                                            70   2020-02-28   \n",
       "More Hearts Than Mine                                  65   2020-03-27   \n",
       "\n",
       "                                               speechiness    tempo  valence  \\\n",
       "name                                                                           \n",
       "Singende Bataillone 1. Teil                         0.0506  118.469   0.7790   \n",
       "Fantasiestücke, Op. 111: Più tosto lento            0.0462   83.972   0.0767   \n",
       "Chapter 1.18 - Zamek kaniowski                      0.9290  107.177   0.8800   \n",
       "Bebamos Juntos - Instrumental (Remasterizado)       0.0926  108.003   0.7200   \n",
       "Polonaise-Fantaisie in A-Flat Major, Op. 61         0.0424   62.149   0.0693   \n",
       "...                                                    ...      ...      ...   \n",
       "Skechers (feat. Tyga) - Remix                       0.1430  100.012   0.3060   \n",
       "Sweeter (feat. Terrace Martin)                      0.0403  128.000   0.2700   \n",
       "How Would I Know                                    0.1050  123.700   0.1530   \n",
       "I Found You                                         0.0385  129.916   0.4720   \n",
       "More Hearts Than Mine                               0.0271   80.588   0.3660   \n",
       "\n",
       "                                               year  \n",
       "name                                                 \n",
       "Singende Bataillone 1. Teil                    1928  \n",
       "Fantasiestücke, Op. 111: Più tosto lento       1928  \n",
       "Chapter 1.18 - Zamek kaniowski                 1928  \n",
       "Bebamos Juntos - Instrumental (Remasterizado)  1928  \n",
       "Polonaise-Fantaisie in A-Flat Major, Op. 61    1928  \n",
       "...                                             ...  \n",
       "Skechers (feat. Tyga) - Remix                  2020  \n",
       "Sweeter (feat. Terrace Martin)                 2020  \n",
       "How Would I Know                               2020  \n",
       "I Found You                                    2020  \n",
       "More Hearts Than Mine                          2020  \n",
       "\n",
       "[169909 rows x 18 columns]"
      ],
      "text/html": "<div>\n<style scoped>\n    .dataframe tbody tr th:only-of-type {\n        vertical-align: middle;\n    }\n\n    .dataframe tbody tr th {\n        vertical-align: top;\n    }\n\n    .dataframe thead th {\n        text-align: right;\n    }\n</style>\n<table border=\"1\" class=\"dataframe\">\n  <thead>\n    <tr style=\"text-align: right;\">\n      <th></th>\n      <th>acousticness</th>\n      <th>artists</th>\n      <th>danceability</th>\n      <th>duration_ms</th>\n      <th>energy</th>\n      <th>explicit</th>\n      <th>id</th>\n      <th>instrumentalness</th>\n      <th>key</th>\n      <th>liveness</th>\n      <th>loudness</th>\n      <th>mode</th>\n      <th>popularity</th>\n      <th>release_date</th>\n      <th>speechiness</th>\n      <th>tempo</th>\n      <th>valence</th>\n      <th>year</th>\n    </tr>\n    <tr>\n      <th>name</th>\n      <th></th>\n      <th></th>\n      <th></th>\n      <th></th>\n      <th></th>\n      <th></th>\n      <th></th>\n      <th></th>\n      <th></th>\n      <th></th>\n      <th></th>\n      <th></th>\n      <th></th>\n      <th></th>\n      <th></th>\n      <th></th>\n      <th></th>\n      <th></th>\n    </tr>\n  </thead>\n  <tbody>\n    <tr>\n      <th>Singende Bataillone 1. Teil</th>\n      <td>0.9950</td>\n      <td>['Carl Woitschach']</td>\n      <td>0.708</td>\n      <td>158648</td>\n      <td>0.1950</td>\n      <td>0</td>\n      <td>6KbQ3uYMLKb5jDxLF7wYDD</td>\n      <td>0.563000</td>\n      <td>10</td>\n      <td>0.1510</td>\n      <td>-12.428</td>\n      <td>1</td>\n      <td>0</td>\n      <td>1928</td>\n      <td>0.0506</td>\n      <td>118.469</td>\n      <td>0.7790</td>\n      <td>1928</td>\n    </tr>\n    <tr>\n      <th>Fantasiestücke, Op. 111: Più tosto lento</th>\n      <td>0.9940</td>\n      <td>['Robert Schumann', 'Vladimir Horowitz']</td>\n      <td>0.379</td>\n      <td>282133</td>\n      <td>0.0135</td>\n      <td>0</td>\n      <td>6KuQTIu1KoTTkLXKrwlLPV</td>\n      <td>0.901000</td>\n      <td>8</td>\n      <td>0.0763</td>\n      <td>-28.454</td>\n      <td>1</td>\n      <td>0</td>\n      <td>1928</td>\n      <td>0.0462</td>\n      <td>83.972</td>\n      <td>0.0767</td>\n      <td>1928</td>\n    </tr>\n    <tr>\n      <th>Chapter 1.18 - Zamek kaniowski</th>\n      <td>0.6040</td>\n      <td>['Seweryn Goszczyński']</td>\n      <td>0.749</td>\n      <td>104300</td>\n      <td>0.2200</td>\n      <td>0</td>\n      <td>6L63VW0PibdM1HDSBoqnoM</td>\n      <td>0.000000</td>\n      <td>5</td>\n      <td>0.1190</td>\n      <td>-19.924</td>\n      <td>0</td>\n      <td>0</td>\n      <td>1928</td>\n      <td>0.9290</td>\n      <td>107.177</td>\n      <td>0.8800</td>\n      <td>1928</td>\n    </tr>\n    <tr>\n      <th>Bebamos Juntos - Instrumental (Remasterizado)</th>\n      <td>0.9950</td>\n      <td>['Francisco Canaro']</td>\n      <td>0.781</td>\n      <td>180760</td>\n      <td>0.1300</td>\n      <td>0</td>\n      <td>6M94FkXd15sOAOQYRnWPN8</td>\n      <td>0.887000</td>\n      <td>1</td>\n      <td>0.1110</td>\n      <td>-14.734</td>\n      <td>0</td>\n      <td>0</td>\n      <td>1928-09-25</td>\n      <td>0.0926</td>\n      <td>108.003</td>\n      <td>0.7200</td>\n      <td>1928</td>\n    </tr>\n    <tr>\n      <th>Polonaise-Fantaisie in A-Flat Major, Op. 61</th>\n      <td>0.9900</td>\n      <td>['Frédéric Chopin', 'Vladimir Horowitz']</td>\n      <td>0.210</td>\n      <td>687733</td>\n      <td>0.2040</td>\n      <td>0</td>\n      <td>6N6tiFZ9vLTSOIxkj8qKrd</td>\n      <td>0.908000</td>\n      <td>11</td>\n      <td>0.0980</td>\n      <td>-16.829</td>\n      <td>1</td>\n      <td>1</td>\n      <td>1928</td>\n      <td>0.0424</td>\n      <td>62.149</td>\n      <td>0.0693</td>\n      <td>1928</td>\n    </tr>\n    <tr>\n      <th>...</th>\n      <td>...</td>\n      <td>...</td>\n      <td>...</td>\n      <td>...</td>\n      <td>...</td>\n      <td>...</td>\n      <td>...</td>\n      <td>...</td>\n      <td>...</td>\n      <td>...</td>\n      <td>...</td>\n      <td>...</td>\n      <td>...</td>\n      <td>...</td>\n      <td>...</td>\n      <td>...</td>\n      <td>...</td>\n      <td>...</td>\n    </tr>\n    <tr>\n      <th>Skechers (feat. Tyga) - Remix</th>\n      <td>0.1730</td>\n      <td>['DripReport', 'Tyga']</td>\n      <td>0.875</td>\n      <td>163800</td>\n      <td>0.4430</td>\n      <td>1</td>\n      <td>4KppkflX7I3vJQk7urOJaS</td>\n      <td>0.000032</td>\n      <td>1</td>\n      <td>0.0891</td>\n      <td>-7.461</td>\n      <td>1</td>\n      <td>75</td>\n      <td>2020-05-15</td>\n      <td>0.1430</td>\n      <td>100.012</td>\n      <td>0.3060</td>\n      <td>2020</td>\n    </tr>\n    <tr>\n      <th>Sweeter (feat. Terrace Martin)</th>\n      <td>0.0167</td>\n      <td>['Leon Bridges', 'Terrace Martin']</td>\n      <td>0.719</td>\n      <td>167468</td>\n      <td>0.3850</td>\n      <td>0</td>\n      <td>1ehhGlTvjtHo2e4xJFB0SZ</td>\n      <td>0.031300</td>\n      <td>8</td>\n      <td>0.1110</td>\n      <td>-10.907</td>\n      <td>1</td>\n      <td>64</td>\n      <td>2020-06-08</td>\n      <td>0.0403</td>\n      <td>128.000</td>\n      <td>0.2700</td>\n      <td>2020</td>\n    </tr>\n    <tr>\n      <th>How Would I Know</th>\n      <td>0.5380</td>\n      <td>['Kygo', 'Oh Wonder']</td>\n      <td>0.514</td>\n      <td>180700</td>\n      <td>0.5390</td>\n      <td>0</td>\n      <td>52eycxprLhK3lPcRLbQiVk</td>\n      <td>0.002330</td>\n      <td>7</td>\n      <td>0.1080</td>\n      <td>-9.332</td>\n      <td>1</td>\n      <td>70</td>\n      <td>2020-05-29</td>\n      <td>0.1050</td>\n      <td>123.700</td>\n      <td>0.1530</td>\n      <td>2020</td>\n    </tr>\n    <tr>\n      <th>I Found You</th>\n      <td>0.0714</td>\n      <td>['Cash Cash', 'Andy Grammer']</td>\n      <td>0.646</td>\n      <td>167308</td>\n      <td>0.7610</td>\n      <td>0</td>\n      <td>3wYOGJYD31sLRmBgCvWxa4</td>\n      <td>0.000000</td>\n      <td>1</td>\n      <td>0.2220</td>\n      <td>-2.557</td>\n      <td>1</td>\n      <td>70</td>\n      <td>2020-02-28</td>\n      <td>0.0385</td>\n      <td>129.916</td>\n      <td>0.4720</td>\n      <td>2020</td>\n    </tr>\n    <tr>\n      <th>More Hearts Than Mine</th>\n      <td>0.1090</td>\n      <td>['Ingrid Andress']</td>\n      <td>0.512</td>\n      <td>214787</td>\n      <td>0.4280</td>\n      <td>0</td>\n      <td>60RFlt48hm0l4Fu0JoccOl</td>\n      <td>0.000000</td>\n      <td>0</td>\n      <td>0.1050</td>\n      <td>-7.387</td>\n      <td>1</td>\n      <td>65</td>\n      <td>2020-03-27</td>\n      <td>0.0271</td>\n      <td>80.588</td>\n      <td>0.3660</td>\n      <td>2020</td>\n    </tr>\n  </tbody>\n</table>\n<p>169909 rows × 18 columns</p>\n</div>"
     },
     "metadata": {},
     "execution_count": 30
    }
   ],
   "source": [
    "df.set_index('name')"
   ]
  },
  {
   "cell_type": "code",
   "execution_count": 33,
   "metadata": {},
   "outputs": [
    {
     "output_type": "execute_result",
     "data": {
      "text/plain": [
       "         index  acousticness                                   artists  \\\n",
       "0            0        0.9950                       ['Carl Woitschach']   \n",
       "1            1        0.9940  ['Robert Schumann', 'Vladimir Horowitz']   \n",
       "2            2        0.6040                   ['Seweryn Goszczyński']   \n",
       "3            3        0.9950                      ['Francisco Canaro']   \n",
       "4            4        0.9900  ['Frédéric Chopin', 'Vladimir Horowitz']   \n",
       "...        ...           ...                                       ...   \n",
       "169904  169904        0.1730                    ['DripReport', 'Tyga']   \n",
       "169905  169905        0.0167        ['Leon Bridges', 'Terrace Martin']   \n",
       "169906  169906        0.5380                     ['Kygo', 'Oh Wonder']   \n",
       "169907  169907        0.0714             ['Cash Cash', 'Andy Grammer']   \n",
       "169908  169908        0.1090                        ['Ingrid Andress']   \n",
       "\n",
       "        danceability  duration_ms  energy  explicit                      id  \\\n",
       "0              0.708       158648  0.1950         0  6KbQ3uYMLKb5jDxLF7wYDD   \n",
       "1              0.379       282133  0.0135         0  6KuQTIu1KoTTkLXKrwlLPV   \n",
       "2              0.749       104300  0.2200         0  6L63VW0PibdM1HDSBoqnoM   \n",
       "3              0.781       180760  0.1300         0  6M94FkXd15sOAOQYRnWPN8   \n",
       "4              0.210       687733  0.2040         0  6N6tiFZ9vLTSOIxkj8qKrd   \n",
       "...              ...          ...     ...       ...                     ...   \n",
       "169904         0.875       163800  0.4430         1  4KppkflX7I3vJQk7urOJaS   \n",
       "169905         0.719       167468  0.3850         0  1ehhGlTvjtHo2e4xJFB0SZ   \n",
       "169906         0.514       180700  0.5390         0  52eycxprLhK3lPcRLbQiVk   \n",
       "169907         0.646       167308  0.7610         0  3wYOGJYD31sLRmBgCvWxa4   \n",
       "169908         0.512       214787  0.4280         0  60RFlt48hm0l4Fu0JoccOl   \n",
       "\n",
       "        instrumentalness  key  liveness  loudness  mode  \\\n",
       "0               0.563000   10    0.1510   -12.428     1   \n",
       "1               0.901000    8    0.0763   -28.454     1   \n",
       "2               0.000000    5    0.1190   -19.924     0   \n",
       "3               0.887000    1    0.1110   -14.734     0   \n",
       "4               0.908000   11    0.0980   -16.829     1   \n",
       "...                  ...  ...       ...       ...   ...   \n",
       "169904          0.000032    1    0.0891    -7.461     1   \n",
       "169905          0.031300    8    0.1110   -10.907     1   \n",
       "169906          0.002330    7    0.1080    -9.332     1   \n",
       "169907          0.000000    1    0.2220    -2.557     1   \n",
       "169908          0.000000    0    0.1050    -7.387     1   \n",
       "\n",
       "                                                 name  popularity  \\\n",
       "0                         Singende Bataillone 1. Teil           0   \n",
       "1            Fantasiestücke, Op. 111: Più tosto lento           0   \n",
       "2                      Chapter 1.18 - Zamek kaniowski           0   \n",
       "3       Bebamos Juntos - Instrumental (Remasterizado)           0   \n",
       "4         Polonaise-Fantaisie in A-Flat Major, Op. 61           1   \n",
       "...                                               ...         ...   \n",
       "169904                  Skechers (feat. Tyga) - Remix          75   \n",
       "169905                 Sweeter (feat. Terrace Martin)          64   \n",
       "169906                               How Would I Know          70   \n",
       "169907                                    I Found You          70   \n",
       "169908                          More Hearts Than Mine          65   \n",
       "\n",
       "       release_date  speechiness    tempo  valence  year  \n",
       "0              1928       0.0506  118.469   0.7790  1928  \n",
       "1              1928       0.0462   83.972   0.0767  1928  \n",
       "2              1928       0.9290  107.177   0.8800  1928  \n",
       "3        1928-09-25       0.0926  108.003   0.7200  1928  \n",
       "4              1928       0.0424   62.149   0.0693  1928  \n",
       "...             ...          ...      ...      ...   ...  \n",
       "169904   2020-05-15       0.1430  100.012   0.3060  2020  \n",
       "169905   2020-06-08       0.0403  128.000   0.2700  2020  \n",
       "169906   2020-05-29       0.1050  123.700   0.1530  2020  \n",
       "169907   2020-02-28       0.0385  129.916   0.4720  2020  \n",
       "169908   2020-03-27       0.0271   80.588   0.3660  2020  \n",
       "\n",
       "[169909 rows x 20 columns]"
      ],
      "text/html": "<div>\n<style scoped>\n    .dataframe tbody tr th:only-of-type {\n        vertical-align: middle;\n    }\n\n    .dataframe tbody tr th {\n        vertical-align: top;\n    }\n\n    .dataframe thead th {\n        text-align: right;\n    }\n</style>\n<table border=\"1\" class=\"dataframe\">\n  <thead>\n    <tr style=\"text-align: right;\">\n      <th></th>\n      <th>index</th>\n      <th>acousticness</th>\n      <th>artists</th>\n      <th>danceability</th>\n      <th>duration_ms</th>\n      <th>energy</th>\n      <th>explicit</th>\n      <th>id</th>\n      <th>instrumentalness</th>\n      <th>key</th>\n      <th>liveness</th>\n      <th>loudness</th>\n      <th>mode</th>\n      <th>name</th>\n      <th>popularity</th>\n      <th>release_date</th>\n      <th>speechiness</th>\n      <th>tempo</th>\n      <th>valence</th>\n      <th>year</th>\n    </tr>\n  </thead>\n  <tbody>\n    <tr>\n      <th>0</th>\n      <td>0</td>\n      <td>0.9950</td>\n      <td>['Carl Woitschach']</td>\n      <td>0.708</td>\n      <td>158648</td>\n      <td>0.1950</td>\n      <td>0</td>\n      <td>6KbQ3uYMLKb5jDxLF7wYDD</td>\n      <td>0.563000</td>\n      <td>10</td>\n      <td>0.1510</td>\n      <td>-12.428</td>\n      <td>1</td>\n      <td>Singende Bataillone 1. Teil</td>\n      <td>0</td>\n      <td>1928</td>\n      <td>0.0506</td>\n      <td>118.469</td>\n      <td>0.7790</td>\n      <td>1928</td>\n    </tr>\n    <tr>\n      <th>1</th>\n      <td>1</td>\n      <td>0.9940</td>\n      <td>['Robert Schumann', 'Vladimir Horowitz']</td>\n      <td>0.379</td>\n      <td>282133</td>\n      <td>0.0135</td>\n      <td>0</td>\n      <td>6KuQTIu1KoTTkLXKrwlLPV</td>\n      <td>0.901000</td>\n      <td>8</td>\n      <td>0.0763</td>\n      <td>-28.454</td>\n      <td>1</td>\n      <td>Fantasiestücke, Op. 111: Più tosto lento</td>\n      <td>0</td>\n      <td>1928</td>\n      <td>0.0462</td>\n      <td>83.972</td>\n      <td>0.0767</td>\n      <td>1928</td>\n    </tr>\n    <tr>\n      <th>2</th>\n      <td>2</td>\n      <td>0.6040</td>\n      <td>['Seweryn Goszczyński']</td>\n      <td>0.749</td>\n      <td>104300</td>\n      <td>0.2200</td>\n      <td>0</td>\n      <td>6L63VW0PibdM1HDSBoqnoM</td>\n      <td>0.000000</td>\n      <td>5</td>\n      <td>0.1190</td>\n      <td>-19.924</td>\n      <td>0</td>\n      <td>Chapter 1.18 - Zamek kaniowski</td>\n      <td>0</td>\n      <td>1928</td>\n      <td>0.9290</td>\n      <td>107.177</td>\n      <td>0.8800</td>\n      <td>1928</td>\n    </tr>\n    <tr>\n      <th>3</th>\n      <td>3</td>\n      <td>0.9950</td>\n      <td>['Francisco Canaro']</td>\n      <td>0.781</td>\n      <td>180760</td>\n      <td>0.1300</td>\n      <td>0</td>\n      <td>6M94FkXd15sOAOQYRnWPN8</td>\n      <td>0.887000</td>\n      <td>1</td>\n      <td>0.1110</td>\n      <td>-14.734</td>\n      <td>0</td>\n      <td>Bebamos Juntos - Instrumental (Remasterizado)</td>\n      <td>0</td>\n      <td>1928-09-25</td>\n      <td>0.0926</td>\n      <td>108.003</td>\n      <td>0.7200</td>\n      <td>1928</td>\n    </tr>\n    <tr>\n      <th>4</th>\n      <td>4</td>\n      <td>0.9900</td>\n      <td>['Frédéric Chopin', 'Vladimir Horowitz']</td>\n      <td>0.210</td>\n      <td>687733</td>\n      <td>0.2040</td>\n      <td>0</td>\n      <td>6N6tiFZ9vLTSOIxkj8qKrd</td>\n      <td>0.908000</td>\n      <td>11</td>\n      <td>0.0980</td>\n      <td>-16.829</td>\n      <td>1</td>\n      <td>Polonaise-Fantaisie in A-Flat Major, Op. 61</td>\n      <td>1</td>\n      <td>1928</td>\n      <td>0.0424</td>\n      <td>62.149</td>\n      <td>0.0693</td>\n      <td>1928</td>\n    </tr>\n    <tr>\n      <th>...</th>\n      <td>...</td>\n      <td>...</td>\n      <td>...</td>\n      <td>...</td>\n      <td>...</td>\n      <td>...</td>\n      <td>...</td>\n      <td>...</td>\n      <td>...</td>\n      <td>...</td>\n      <td>...</td>\n      <td>...</td>\n      <td>...</td>\n      <td>...</td>\n      <td>...</td>\n      <td>...</td>\n      <td>...</td>\n      <td>...</td>\n      <td>...</td>\n      <td>...</td>\n    </tr>\n    <tr>\n      <th>169904</th>\n      <td>169904</td>\n      <td>0.1730</td>\n      <td>['DripReport', 'Tyga']</td>\n      <td>0.875</td>\n      <td>163800</td>\n      <td>0.4430</td>\n      <td>1</td>\n      <td>4KppkflX7I3vJQk7urOJaS</td>\n      <td>0.000032</td>\n      <td>1</td>\n      <td>0.0891</td>\n      <td>-7.461</td>\n      <td>1</td>\n      <td>Skechers (feat. Tyga) - Remix</td>\n      <td>75</td>\n      <td>2020-05-15</td>\n      <td>0.1430</td>\n      <td>100.012</td>\n      <td>0.3060</td>\n      <td>2020</td>\n    </tr>\n    <tr>\n      <th>169905</th>\n      <td>169905</td>\n      <td>0.0167</td>\n      <td>['Leon Bridges', 'Terrace Martin']</td>\n      <td>0.719</td>\n      <td>167468</td>\n      <td>0.3850</td>\n      <td>0</td>\n      <td>1ehhGlTvjtHo2e4xJFB0SZ</td>\n      <td>0.031300</td>\n      <td>8</td>\n      <td>0.1110</td>\n      <td>-10.907</td>\n      <td>1</td>\n      <td>Sweeter (feat. Terrace Martin)</td>\n      <td>64</td>\n      <td>2020-06-08</td>\n      <td>0.0403</td>\n      <td>128.000</td>\n      <td>0.2700</td>\n      <td>2020</td>\n    </tr>\n    <tr>\n      <th>169906</th>\n      <td>169906</td>\n      <td>0.5380</td>\n      <td>['Kygo', 'Oh Wonder']</td>\n      <td>0.514</td>\n      <td>180700</td>\n      <td>0.5390</td>\n      <td>0</td>\n      <td>52eycxprLhK3lPcRLbQiVk</td>\n      <td>0.002330</td>\n      <td>7</td>\n      <td>0.1080</td>\n      <td>-9.332</td>\n      <td>1</td>\n      <td>How Would I Know</td>\n      <td>70</td>\n      <td>2020-05-29</td>\n      <td>0.1050</td>\n      <td>123.700</td>\n      <td>0.1530</td>\n      <td>2020</td>\n    </tr>\n    <tr>\n      <th>169907</th>\n      <td>169907</td>\n      <td>0.0714</td>\n      <td>['Cash Cash', 'Andy Grammer']</td>\n      <td>0.646</td>\n      <td>167308</td>\n      <td>0.7610</td>\n      <td>0</td>\n      <td>3wYOGJYD31sLRmBgCvWxa4</td>\n      <td>0.000000</td>\n      <td>1</td>\n      <td>0.2220</td>\n      <td>-2.557</td>\n      <td>1</td>\n      <td>I Found You</td>\n      <td>70</td>\n      <td>2020-02-28</td>\n      <td>0.0385</td>\n      <td>129.916</td>\n      <td>0.4720</td>\n      <td>2020</td>\n    </tr>\n    <tr>\n      <th>169908</th>\n      <td>169908</td>\n      <td>0.1090</td>\n      <td>['Ingrid Andress']</td>\n      <td>0.512</td>\n      <td>214787</td>\n      <td>0.4280</td>\n      <td>0</td>\n      <td>60RFlt48hm0l4Fu0JoccOl</td>\n      <td>0.000000</td>\n      <td>0</td>\n      <td>0.1050</td>\n      <td>-7.387</td>\n      <td>1</td>\n      <td>More Hearts Than Mine</td>\n      <td>65</td>\n      <td>2020-03-27</td>\n      <td>0.0271</td>\n      <td>80.588</td>\n      <td>0.3660</td>\n      <td>2020</td>\n    </tr>\n  </tbody>\n</table>\n<p>169909 rows × 20 columns</p>\n</div>"
     },
     "metadata": {},
     "execution_count": 33
    }
   ],
   "source": [
    "df.reset_index()"
   ]
  },
  {
   "cell_type": "markdown",
   "metadata": {},
   "source": [
    "<br> Supprimer la colonne id faisant référence aux ID des pistes dans Spotify API. Vérifier que la colonne a été supprimée en listant les colonnes."
   ]
  },
  {
   "cell_type": "code",
   "execution_count": 37,
   "metadata": {},
   "outputs": [],
   "source": [
    "df.drop('id',axis=1,inplace=True)"
   ]
  },
  {
   "cell_type": "code",
   "execution_count": 38,
   "metadata": {},
   "outputs": [
    {
     "output_type": "execute_result",
     "data": {
      "text/plain": [
       "Index(['acousticness', 'artists', 'danceability', 'duration_ms', 'energy',\n",
       "       'explicit', 'instrumentalness', 'key', 'liveness', 'loudness', 'mode',\n",
       "       'name', 'popularity', 'release_date', 'speechiness', 'tempo', 'valence',\n",
       "       'year'],\n",
       "      dtype='object')"
      ]
     },
     "metadata": {},
     "execution_count": 38
    }
   ],
   "source": [
    "df.columns"
   ]
  },
  {
   "cell_type": "markdown",
   "metadata": {},
   "source": [
    "<br> Supprimer la première ligne de notre DataFrame. "
   ]
  },
  {
   "cell_type": "code",
   "execution_count": 41,
   "metadata": {},
   "outputs": [],
   "source": [
    "df.drop(index=0,inplace=True)"
   ]
  },
  {
   "cell_type": "code",
   "execution_count": 44,
   "metadata": {},
   "outputs": [
    {
     "output_type": "execute_result",
     "data": {
      "text/plain": [
       "   acousticness                                     artists  danceability  \\\n",
       "1         0.994    ['Robert Schumann', 'Vladimir Horowitz']         0.379   \n",
       "2         0.604                     ['Seweryn Goszczyński']         0.749   \n",
       "3         0.995                        ['Francisco Canaro']         0.781   \n",
       "4         0.990    ['Frédéric Chopin', 'Vladimir Horowitz']         0.210   \n",
       "5         0.995  ['Felix Mendelssohn', 'Vladimir Horowitz']         0.424   \n",
       "\n",
       "   duration_ms  energy  explicit  instrumentalness  key  liveness  loudness  \\\n",
       "1       282133  0.0135         0             0.901    8    0.0763   -28.454   \n",
       "2       104300  0.2200         0             0.000    5    0.1190   -19.924   \n",
       "3       180760  0.1300         0             0.887    1    0.1110   -14.734   \n",
       "4       687733  0.2040         0             0.908   11    0.0980   -16.829   \n",
       "5       352600  0.1200         0             0.911    6    0.0915   -19.242   \n",
       "\n",
       "   mode                                           name  popularity  \\\n",
       "1     1       Fantasiestücke, Op. 111: Più tosto lento           0   \n",
       "2     0                 Chapter 1.18 - Zamek kaniowski           0   \n",
       "3     0  Bebamos Juntos - Instrumental (Remasterizado)           0   \n",
       "4     1    Polonaise-Fantaisie in A-Flat Major, Op. 61           1   \n",
       "5     0                    Scherzo a capriccio: Presto           0   \n",
       "\n",
       "  release_date  speechiness    tempo  valence  year  \n",
       "1         1928       0.0462   83.972   0.0767  1928  \n",
       "2         1928       0.9290  107.177   0.8800  1928  \n",
       "3   1928-09-25       0.0926  108.003   0.7200  1928  \n",
       "4         1928       0.0424   62.149   0.0693  1928  \n",
       "5         1928       0.0593   63.521   0.2660  1928  "
      ],
      "text/html": "<div>\n<style scoped>\n    .dataframe tbody tr th:only-of-type {\n        vertical-align: middle;\n    }\n\n    .dataframe tbody tr th {\n        vertical-align: top;\n    }\n\n    .dataframe thead th {\n        text-align: right;\n    }\n</style>\n<table border=\"1\" class=\"dataframe\">\n  <thead>\n    <tr style=\"text-align: right;\">\n      <th></th>\n      <th>acousticness</th>\n      <th>artists</th>\n      <th>danceability</th>\n      <th>duration_ms</th>\n      <th>energy</th>\n      <th>explicit</th>\n      <th>instrumentalness</th>\n      <th>key</th>\n      <th>liveness</th>\n      <th>loudness</th>\n      <th>mode</th>\n      <th>name</th>\n      <th>popularity</th>\n      <th>release_date</th>\n      <th>speechiness</th>\n      <th>tempo</th>\n      <th>valence</th>\n      <th>year</th>\n    </tr>\n  </thead>\n  <tbody>\n    <tr>\n      <th>1</th>\n      <td>0.994</td>\n      <td>['Robert Schumann', 'Vladimir Horowitz']</td>\n      <td>0.379</td>\n      <td>282133</td>\n      <td>0.0135</td>\n      <td>0</td>\n      <td>0.901</td>\n      <td>8</td>\n      <td>0.0763</td>\n      <td>-28.454</td>\n      <td>1</td>\n      <td>Fantasiestücke, Op. 111: Più tosto lento</td>\n      <td>0</td>\n      <td>1928</td>\n      <td>0.0462</td>\n      <td>83.972</td>\n      <td>0.0767</td>\n      <td>1928</td>\n    </tr>\n    <tr>\n      <th>2</th>\n      <td>0.604</td>\n      <td>['Seweryn Goszczyński']</td>\n      <td>0.749</td>\n      <td>104300</td>\n      <td>0.2200</td>\n      <td>0</td>\n      <td>0.000</td>\n      <td>5</td>\n      <td>0.1190</td>\n      <td>-19.924</td>\n      <td>0</td>\n      <td>Chapter 1.18 - Zamek kaniowski</td>\n      <td>0</td>\n      <td>1928</td>\n      <td>0.9290</td>\n      <td>107.177</td>\n      <td>0.8800</td>\n      <td>1928</td>\n    </tr>\n    <tr>\n      <th>3</th>\n      <td>0.995</td>\n      <td>['Francisco Canaro']</td>\n      <td>0.781</td>\n      <td>180760</td>\n      <td>0.1300</td>\n      <td>0</td>\n      <td>0.887</td>\n      <td>1</td>\n      <td>0.1110</td>\n      <td>-14.734</td>\n      <td>0</td>\n      <td>Bebamos Juntos - Instrumental (Remasterizado)</td>\n      <td>0</td>\n      <td>1928-09-25</td>\n      <td>0.0926</td>\n      <td>108.003</td>\n      <td>0.7200</td>\n      <td>1928</td>\n    </tr>\n    <tr>\n      <th>4</th>\n      <td>0.990</td>\n      <td>['Frédéric Chopin', 'Vladimir Horowitz']</td>\n      <td>0.210</td>\n      <td>687733</td>\n      <td>0.2040</td>\n      <td>0</td>\n      <td>0.908</td>\n      <td>11</td>\n      <td>0.0980</td>\n      <td>-16.829</td>\n      <td>1</td>\n      <td>Polonaise-Fantaisie in A-Flat Major, Op. 61</td>\n      <td>1</td>\n      <td>1928</td>\n      <td>0.0424</td>\n      <td>62.149</td>\n      <td>0.0693</td>\n      <td>1928</td>\n    </tr>\n    <tr>\n      <th>5</th>\n      <td>0.995</td>\n      <td>['Felix Mendelssohn', 'Vladimir Horowitz']</td>\n      <td>0.424</td>\n      <td>352600</td>\n      <td>0.1200</td>\n      <td>0</td>\n      <td>0.911</td>\n      <td>6</td>\n      <td>0.0915</td>\n      <td>-19.242</td>\n      <td>0</td>\n      <td>Scherzo a capriccio: Presto</td>\n      <td>0</td>\n      <td>1928</td>\n      <td>0.0593</td>\n      <td>63.521</td>\n      <td>0.2660</td>\n      <td>1928</td>\n    </tr>\n  </tbody>\n</table>\n</div>"
     },
     "metadata": {},
     "execution_count": 44
    }
   ],
   "source": [
    "df.head()"
   ]
  },
  {
   "cell_type": "markdown",
   "metadata": {},
   "source": [
    "<br></br>\n",
    "Maintenant que nous avons une idée sur les données de notre Dataset on peut **penser à des questions à poser. Lister un maximum de questions.** On peut revenir enrichir cette liste au fur et à mesure qu'on explore nos données.\n",
    "- Quelle est la popularité des pistes selon les années?\n",
    "- Quels sont les artistes dont les chansons sont unilatéralement bien reçues?\n",
    "- Quels sont les genres les plus populaires?\n",
    "- Y-a-t-il des correlations entre les caractéristiques d'une piste et sa popularité?\n",
    "- ..."
   ]
  },
  {
   "cell_type": "markdown",
   "metadata": {},
   "source": [
    "<br></br>\n",
    "## B. Traiter vos données"
   ]
  },
  {
   "cell_type": "markdown",
   "metadata": {},
   "source": [
    "Pandas fournit une panoplie de fonctions permettant de selectionner, filtrer, ordonner... vos données. On va les utiliser pour mieux comprendre nos données."
   ]
  },
  {
   "cell_type": "markdown",
   "metadata": {},
   "source": [
    "### 1. Selectionner les données:"
   ]
  },
  {
   "cell_type": "markdown",
   "metadata": {},
   "source": [
    "1. Afficher les pistes publiée l'année de votre naissance."
   ]
  },
  {
   "cell_type": "code",
   "execution_count": 52,
   "metadata": {},
   "outputs": [
    {
     "output_type": "error",
     "ename": "AttributeError",
     "evalue": "'DataFrame' object has no attribute 'date_range'",
     "traceback": [
      "\u001b[1;31m---------------------------------------------------------------------------\u001b[0m",
      "\u001b[1;31mAttributeError\u001b[0m                            Traceback (most recent call last)",
      "\u001b[1;32m<ipython-input-52-ab7478a229cb>\u001b[0m in \u001b[0;36m<module>\u001b[1;34m\u001b[0m\n\u001b[0;32m      1\u001b[0m \u001b[1;32mimport\u001b[0m \u001b[0mdatetime\u001b[0m\u001b[1;33m\u001b[0m\u001b[1;33m\u001b[0m\u001b[0m\n\u001b[1;32m----> 2\u001b[1;33m \u001b[0mdf\u001b[0m\u001b[1;33m.\u001b[0m\u001b[0mdate_range\u001b[0m\u001b[1;33m(\u001b[0m\u001b[1;34m'29/09/1999'\u001b[0m\u001b[1;33m)\u001b[0m\u001b[1;33m\u001b[0m\u001b[1;33m\u001b[0m\u001b[0m\n\u001b[0m",
      "\u001b[1;32m~\\AppData\\Local\\Programs\\Python\\Python39\\lib\\site-packages\\pandas\\core\\generic.py\u001b[0m in \u001b[0;36m__getattr__\u001b[1;34m(self, name)\u001b[0m\n\u001b[0;32m   5137\u001b[0m             \u001b[1;32mif\u001b[0m \u001b[0mself\u001b[0m\u001b[1;33m.\u001b[0m\u001b[0m_info_axis\u001b[0m\u001b[1;33m.\u001b[0m\u001b[0m_can_hold_identifiers_and_holds_name\u001b[0m\u001b[1;33m(\u001b[0m\u001b[0mname\u001b[0m\u001b[1;33m)\u001b[0m\u001b[1;33m:\u001b[0m\u001b[1;33m\u001b[0m\u001b[1;33m\u001b[0m\u001b[0m\n\u001b[0;32m   5138\u001b[0m                 \u001b[1;32mreturn\u001b[0m \u001b[0mself\u001b[0m\u001b[1;33m[\u001b[0m\u001b[0mname\u001b[0m\u001b[1;33m]\u001b[0m\u001b[1;33m\u001b[0m\u001b[1;33m\u001b[0m\u001b[0m\n\u001b[1;32m-> 5139\u001b[1;33m             \u001b[1;32mreturn\u001b[0m \u001b[0mobject\u001b[0m\u001b[1;33m.\u001b[0m\u001b[0m__getattribute__\u001b[0m\u001b[1;33m(\u001b[0m\u001b[0mself\u001b[0m\u001b[1;33m,\u001b[0m \u001b[0mname\u001b[0m\u001b[1;33m)\u001b[0m\u001b[1;33m\u001b[0m\u001b[1;33m\u001b[0m\u001b[0m\n\u001b[0m\u001b[0;32m   5140\u001b[0m \u001b[1;33m\u001b[0m\u001b[0m\n\u001b[0;32m   5141\u001b[0m     \u001b[1;32mdef\u001b[0m \u001b[0m__setattr__\u001b[0m\u001b[1;33m(\u001b[0m\u001b[0mself\u001b[0m\u001b[1;33m,\u001b[0m \u001b[0mname\u001b[0m\u001b[1;33m:\u001b[0m \u001b[0mstr\u001b[0m\u001b[1;33m,\u001b[0m \u001b[0mvalue\u001b[0m\u001b[1;33m)\u001b[0m \u001b[1;33m->\u001b[0m \u001b[1;32mNone\u001b[0m\u001b[1;33m:\u001b[0m\u001b[1;33m\u001b[0m\u001b[1;33m\u001b[0m\u001b[0m\n",
      "\u001b[1;31mAttributeError\u001b[0m: 'DataFrame' object has no attribute 'date_range'"
     ]
    }
   ],
   "source": [
    "df.date_range('29/09/1999')"
   ]
  },
  {
   "cell_type": "markdown",
   "metadata": {},
   "source": [
    "2. Stocker le résultat dans une nouvelle Dataframe. Combien de pistes y'en a-t-il?"
   ]
  },
  {
   "cell_type": "code",
   "execution_count": null,
   "metadata": {},
   "outputs": [],
   "source": []
  },
  {
   "cell_type": "code",
   "execution_count": null,
   "metadata": {},
   "outputs": [],
   "source": []
  },
  {
   "cell_type": "markdown",
   "metadata": {},
   "source": [
    "3. Afficher la colonne 'year' dans la nouvelle Dataframe et vérifier que seule l'année de votre naissance est incluse."
   ]
  },
  {
   "cell_type": "code",
   "execution_count": null,
   "metadata": {},
   "outputs": [],
   "source": []
  },
  {
   "cell_type": "code",
   "execution_count": null,
   "metadata": {},
   "outputs": [],
   "source": []
  },
  {
   "cell_type": "markdown",
   "metadata": {},
   "source": [
    "4. N'afficher que les informations relatives à l'artiste, le nom de la piste, et sa popularité."
   ]
  },
  {
   "cell_type": "code",
   "execution_count": null,
   "metadata": {},
   "outputs": [],
   "source": []
  },
  {
   "cell_type": "code",
   "execution_count": null,
   "metadata": {},
   "outputs": [],
   "source": []
  },
  {
   "cell_type": "markdown",
   "metadata": {},
   "source": [
    "<br>"
   ]
  },
  {
   "cell_type": "markdown",
   "metadata": {},
   "source": [
    "### 2. Filter les données"
   ]
  },
  {
   "cell_type": "markdown",
   "metadata": {},
   "source": [
    "Revenir à la Dataframe d'origine.\n",
    "\n",
    "1. N'afficher que les chansons les plus populaires. Vous pouvez choisir un seuil de popularité en fonction de vos données. Voir rapidement la distribution de la popularité en utilisant la fonction hist() de Pandas."
   ]
  },
  {
   "cell_type": "code",
   "execution_count": null,
   "metadata": {},
   "outputs": [],
   "source": []
  },
  {
   "cell_type": "code",
   "execution_count": null,
   "metadata": {},
   "outputs": [],
   "source": []
  },
  {
   "cell_type": "code",
   "execution_count": null,
   "metadata": {},
   "outputs": [],
   "source": []
  },
  {
   "cell_type": "markdown",
   "metadata": {},
   "source": [
    "2. Afficher les chansons dont l'energie est proche de 1 et la clé est 6.\n"
   ]
  },
  {
   "cell_type": "code",
   "execution_count": null,
   "metadata": {},
   "outputs": [],
   "source": []
  },
  {
   "cell_type": "markdown",
   "metadata": {},
   "source": [
    "3. N'affichez que les pistes qui n'ont pas de paroles explicites et qui ont une grande popularité (dont le seuil est à vous de définir)."
   ]
  },
  {
   "cell_type": "code",
   "execution_count": null,
   "metadata": {},
   "outputs": [],
   "source": []
  },
  {
   "cell_type": "markdown",
   "metadata": {},
   "source": [
    "4. Afficher les pistes dont la popularité est >95 ou la date de publication est antérieure au 01/Juin de cette année. "
   ]
  },
  {
   "cell_type": "code",
   "execution_count": null,
   "metadata": {},
   "outputs": [],
   "source": []
  },
  {
   "cell_type": "markdown",
   "metadata": {},
   "source": [
    "5. Afficher les pistes de votre artiste préféré. Vous pouvez utiliser les fonction str. pour chercher les lignes qui contiennent un bout du nom, mettre le texte en miniscule.. si vous n'êtes pas sûr(e)s comment le nom est stocké dans la dataset.\n",
    "\n",
    "N.B. Il est possible d'avoir recours à du fuzzy matching en utilisant regex ou des libraries spécialisée."
   ]
  },
  {
   "cell_type": "code",
   "execution_count": null,
   "metadata": {},
   "outputs": [],
   "source": []
  },
  {
   "cell_type": "markdown",
   "metadata": {},
   "source": [
    "6. Afficher les pistes dont la clé appartient à la liste: [0, 3, 5, 8, 10]"
   ]
  },
  {
   "cell_type": "code",
   "execution_count": null,
   "metadata": {},
   "outputs": [],
   "source": []
  },
  {
   "cell_type": "markdown",
   "metadata": {},
   "source": [
    "7. Afficher les pistes dont la clé n'appartient pas à cette liste"
   ]
  },
  {
   "cell_type": "code",
   "execution_count": null,
   "metadata": {},
   "outputs": [],
   "source": []
  },
  {
   "cell_type": "markdown",
   "metadata": {},
   "source": [
    "7. Afficher les pistes dont la clé n'appartient pas à cette liste"
   ]
  },
  {
   "cell_type": "code",
   "execution_count": null,
   "metadata": {},
   "outputs": [],
   "source": []
  },
  {
   "cell_type": "markdown",
   "metadata": {},
   "source": [
    "8. Filtrer par type de colonne et n'inclure que les colonnes numériques."
   ]
  },
  {
   "cell_type": "code",
   "execution_count": null,
   "metadata": {},
   "outputs": [],
   "source": []
  },
  {
   "cell_type": "markdown",
   "metadata": {},
   "source": [
    "9. Créer votre propre question et le filtre y correspondant"
   ]
  },
  {
   "cell_type": "code",
   "execution_count": null,
   "metadata": {},
   "outputs": [],
   "source": []
  },
  {
   "cell_type": "markdown",
   "metadata": {},
   "source": [
    "<br>"
   ]
  },
  {
   "cell_type": "markdown",
   "metadata": {},
   "source": [
    "### 3. Ordonner les données"
   ]
  },
  {
   "cell_type": "markdown",
   "metadata": {},
   "source": [
    "1. Afficher les pistes selon leur année de publication croissante"
   ]
  },
  {
   "cell_type": "code",
   "execution_count": null,
   "metadata": {},
   "outputs": [],
   "source": []
  },
  {
   "cell_type": "markdown",
   "metadata": {},
   "source": [
    "2. Afficher les 10 pistes les plus récentes sur l'ensemble des pistes"
   ]
  },
  {
   "cell_type": "code",
   "execution_count": null,
   "metadata": {},
   "outputs": [],
   "source": []
  },
  {
   "cell_type": "markdown",
   "metadata": {},
   "source": [
    "3. Afficher la piste la plus populaire de votre artiste préféré?  "
   ]
  },
  {
   "cell_type": "code",
   "execution_count": null,
   "metadata": {},
   "outputs": [],
   "source": []
  },
  {
   "cell_type": "markdown",
   "metadata": {},
   "source": [
    "4. Est-ce que les pistes les plus populaires sont toujours les plus récentes ? "
   ]
  },
  {
   "cell_type": "code",
   "execution_count": null,
   "metadata": {},
   "outputs": [],
   "source": []
  },
  {
   "cell_type": "markdown",
   "metadata": {},
   "source": [
    "<br>"
   ]
  },
  {
   "cell_type": "markdown",
   "metadata": {},
   "source": [
    "### 4. Traiter les données manquantes et les données dupliquées"
   ]
  },
  {
   "cell_type": "markdown",
   "metadata": {},
   "source": [
    "L'un des problèmes les plus récurrents dans les projets data science est la qualité des données à commencer par leur complétude. Il faut toujours se poser la question: **Est-ce qu'il y a des données manquantes? et si c'est le cas comment les gérer?**\n",
    "\n",
    "Lire le fichier data_withmissingdata.csv dans une Dataframe."
   ]
  },
  {
   "cell_type": "code",
   "execution_count": null,
   "metadata": {},
   "outputs": [],
   "source": []
  },
  {
   "cell_type": "markdown",
   "metadata": {},
   "source": [
    "<br> Il faut d'abord identifier les données manquantes. Quelle(s) colonne(s) est/sont concernées?  "
   ]
  },
  {
   "cell_type": "code",
   "execution_count": null,
   "metadata": {},
   "outputs": [],
   "source": []
  },
  {
   "cell_type": "markdown",
   "metadata": {},
   "source": [
    "<br> Selectionner les lignes où les données sont manquantes. De combien de lignes s'agit-il?"
   ]
  },
  {
   "cell_type": "code",
   "execution_count": null,
   "metadata": {},
   "outputs": [],
   "source": []
  },
  {
   "cell_type": "code",
   "execution_count": null,
   "metadata": {},
   "outputs": [],
   "source": []
  },
  {
   "cell_type": "markdown",
   "metadata": {},
   "source": [
    "<br> Il est très utile de stocker les indices de ces lignes dans une liste qu'on pourra utiliser pour les selections et les vérifications. Afficher la liste des indexes de ces lignes."
   ]
  },
  {
   "cell_type": "code",
   "execution_count": null,
   "metadata": {},
   "outputs": [],
   "source": []
  },
  {
   "cell_type": "markdown",
   "metadata": {},
   "source": [
    "<br> On voudrait remplir les données manquantes dans year. Pandas offre plusieurs possiblités de méthodes standards à appliquer pour remplir les données manquantes. Dans notre cas, on voudrait remplir par l'année dans release_date. \n",
    "\n",
    "Il est possible d'extraire l'année d'une date, mais il faut d'abord convertir la colonne release_date en type date, puis remplir les valeurs manquantes de year par les valeurs year de release_date."
   ]
  },
  {
   "cell_type": "code",
   "execution_count": null,
   "metadata": {},
   "outputs": [],
   "source": []
  },
  {
   "cell_type": "code",
   "execution_count": null,
   "metadata": {},
   "outputs": [],
   "source": []
  },
  {
   "cell_type": "code",
   "execution_count": null,
   "metadata": {},
   "outputs": [],
   "source": []
  },
  {
   "cell_type": "markdown",
   "metadata": {},
   "source": [
    "<br> Vérifier à l'aide de la liste des indexes créée que les valeurs year ont été bel est bien remplies."
   ]
  },
  {
   "cell_type": "code",
   "execution_count": null,
   "metadata": {},
   "outputs": [],
   "source": []
  },
  {
   "cell_type": "markdown",
   "metadata": {},
   "source": [
    "<br> Il est notamment possible de supprimer les lignes dont une des valeurs est nulle. Vous pouvez relire les données, supprimer les lignes et réanalyser. "
   ]
  },
  {
   "cell_type": "code",
   "execution_count": null,
   "metadata": {},
   "outputs": [],
   "source": []
  },
  {
   "cell_type": "code",
   "execution_count": null,
   "metadata": {},
   "outputs": [],
   "source": []
  },
  {
   "cell_type": "markdown",
   "metadata": {},
   "source": [
    "<br>"
   ]
  },
  {
   "cell_type": "markdown",
   "metadata": {},
   "source": [
    "#### 2. Traiter les données dupliquées"
   ]
  },
  {
   "cell_type": "markdown",
   "metadata": {},
   "source": [
    "Il faut toujours s'assurer qu'on n'a pas de lignes dupliquées dans notre dataset. Pandas offre une panoplies de méthodes pour traiter ces cas. Selectionner les lignes dupliquées dans votre nouveau dataframe. "
   ]
  },
  {
   "cell_type": "code",
   "execution_count": null,
   "metadata": {},
   "outputs": [],
   "source": []
  },
  {
   "cell_type": "markdown",
   "metadata": {},
   "source": [
    "<br> Supprimer les lignes dupliquées. S'Assurer de ne pas totalement perdre la donnée."
   ]
  },
  {
   "cell_type": "code",
   "execution_count": null,
   "metadata": {},
   "outputs": [],
   "source": []
  },
  {
   "cell_type": "markdown",
   "metadata": {},
   "source": [
    "<br></br>\n",
    "## C. Analyser vos données"
   ]
  },
  {
   "cell_type": "markdown",
   "metadata": {},
   "source": [
    "### 1. Corrélations"
   ]
  },
  {
   "cell_type": "markdown",
   "metadata": {},
   "source": [
    "L'étude des corrélations entre les différentes variables est primordiales pour la compréhension des données mais aussi la modélisation par la suite. Pandas offre une fonction permettant le calcul des corrélations entre les colonnes d'une dataframe. Quelles sont les corrélations dans les données?"
   ]
  },
  {
   "cell_type": "code",
   "execution_count": null,
   "metadata": {},
   "outputs": [],
   "source": []
  },
  {
   "cell_type": "markdown",
   "metadata": {},
   "source": [
    "<br> On a tendance à afficher les corrélations sous forme de heatmap. La manière la plus simple pour créer une heatmap est en utilisant Seaborn, une librairie de visualisation de données. Aller sur https://seaborn.pydata.org/generated/seaborn.heatmap.html et adapter le code pour afficher une heatmap de vos données."
   ]
  },
  {
   "cell_type": "code",
   "execution_count": null,
   "metadata": {},
   "outputs": [],
   "source": []
  },
  {
   "cell_type": "code",
   "execution_count": null,
   "metadata": {},
   "outputs": [],
   "source": []
  },
  {
   "cell_type": "code",
   "execution_count": null,
   "metadata": {},
   "outputs": [],
   "source": []
  },
  {
   "cell_type": "markdown",
   "metadata": {},
   "source": [
    "<br> Qu'est-ce que vous pouvez conclure à partir de ces corrélation? "
   ]
  },
  {
   "cell_type": "markdown",
   "metadata": {},
   "source": []
  },
  {
   "cell_type": "markdown",
   "metadata": {},
   "source": [
    "<br>"
   ]
  },
  {
   "cell_type": "markdown",
   "metadata": {},
   "source": [
    "### 2. Lister vos questions et les réponses à ces questions:"
   ]
  },
  {
   "cell_type": "code",
   "execution_count": null,
   "metadata": {},
   "outputs": [],
   "source": []
  },
  {
   "cell_type": "code",
   "execution_count": null,
   "metadata": {},
   "outputs": [],
   "source": []
  },
  {
   "cell_type": "code",
   "execution_count": null,
   "metadata": {},
   "outputs": [],
   "source": []
  },
  {
   "cell_type": "code",
   "execution_count": null,
   "metadata": {},
   "outputs": [],
   "source": []
  },
  {
   "cell_type": "code",
   "execution_count": null,
   "metadata": {},
   "outputs": [],
   "source": []
  },
  {
   "cell_type": "code",
   "execution_count": null,
   "metadata": {},
   "outputs": [],
   "source": []
  },
  {
   "cell_type": "code",
   "execution_count": null,
   "metadata": {},
   "outputs": [],
   "source": []
  },
  {
   "cell_type": "code",
   "execution_count": null,
   "metadata": {},
   "outputs": [],
   "source": []
  },
  {
   "cell_type": "code",
   "execution_count": null,
   "metadata": {},
   "outputs": [],
   "source": []
  },
  {
   "cell_type": "code",
   "execution_count": null,
   "metadata": {},
   "outputs": [],
   "source": []
  },
  {
   "cell_type": "code",
   "execution_count": null,
   "metadata": {},
   "outputs": [],
   "source": []
  },
  {
   "cell_type": "code",
   "execution_count": null,
   "metadata": {},
   "outputs": [],
   "source": []
  },
  {
   "cell_type": "code",
   "execution_count": null,
   "metadata": {},
   "outputs": [],
   "source": []
  },
  {
   "cell_type": "code",
   "execution_count": null,
   "metadata": {},
   "outputs": [],
   "source": []
  },
  {
   "cell_type": "code",
   "execution_count": null,
   "metadata": {},
   "outputs": [],
   "source": []
  },
  {
   "cell_type": "code",
   "execution_count": null,
   "metadata": {},
   "outputs": [],
   "source": []
  },
  {
   "cell_type": "code",
   "execution_count": null,
   "metadata": {},
   "outputs": [],
   "source": []
  },
  {
   "cell_type": "code",
   "execution_count": null,
   "metadata": {},
   "outputs": [],
   "source": []
  }
 ],
 "metadata": {
  "kernelspec": {
   "name": "python3",
   "display_name": "Python 3.9.0 64-bit",
   "metadata": {
    "interpreter": {
     "hash": "5b444563759645e795b5482cf2150aabe0ea74d7e9bb280712938a02f2a4b027"
    }
   }
  },
  "language_info": {
   "codemirror_mode": {
    "name": "ipython",
    "version": 3
   },
   "file_extension": ".py",
   "mimetype": "text/x-python",
   "name": "python",
   "nbconvert_exporter": "python",
   "pygments_lexer": "ipython3",
   "version": "3.9.0-final"
  }
 },
 "nbformat": 4,
 "nbformat_minor": 4
}